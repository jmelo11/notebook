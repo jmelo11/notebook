{
 "cells": [
  {
   "cell_type": "markdown",
   "metadata": {},
   "source": [
    "# Derivative pricing using neural networks"
   ]
  },
  {
   "cell_type": "markdown",
   "metadata": {},
   "source": [
    "Over the past few years, advancements in artificial intelligence and machine learning have naturally led to the adoption of these techniques in many other fields. Neural networks, for example, have become a highly flexible tool capable of solving a wide variety of problems such as image classification, speech recognition, and language translation.\n",
    "\n",
    "Today, we also see their application in various industries, including finance. In this notebook, we demonstrate how these models can be used—for instance, to price derivatives. Although derivative pricing is a relatively simple and well-studied problem, it provides an interesting example to illustrate how neural networks can solve financial problems, not only in pricing but also in inverse problems (e.g., model calibration) and risk management.\n",
    "\n",
    "### Solving differential equations with neural networks\n",
    "\n",
    "In this entry, we focus on a particular technique: Physics-Informed Neural Networks (PINNs). As the name suggests, these neural networks are designed to incorporate additional information derived from physical laws or known mathematical relationships. Typically, this is achieved by embedding these laws into the loss function to guide the network toward a solution that satisfies the given differential equation.\n"
   ]
  },
  {
   "cell_type": "markdown",
   "metadata": {},
   "source": [
    "\n",
    "# What are Physics-Informed Neural Networks (PINNs)?\n",
    "\n",
    "First we begin with some definitions. Suppose we wish to solve a partial differential equation (PDE) of the form\n",
    "$\n",
    "\\mathcal{N}[V(\\mathbf{x})] = 0,\\quad \\mathbf{x} \\in \\Omega,\n",
    "$\n",
    "where:\n",
    "- $\\mathcal{N}$ is a differential operator,\n",
    "- $V(\\mathbf{x})$ is the unknown solution,\n",
    "- $\\Omega$ is the spatial (and possibly temporal) domain.\n",
    "\n",
    "\n",
    "In a PINN, we approximate $V(\\mathbf{x})$ with a neural network $V_\\theta(\\mathbf{x})$ parameterized by $\\theta$. The loss function is constructed to penalize deviations from both the governing PDE in the domain and the prescribed boundary conditions on $\\partial \\Omega$. Formally, the loss can be written as:\n",
    "\n",
    "$$\n",
    "\\mathcal{L}(\\theta) = \\mathcal{L}_{\\mathrm{PDE}}(\\theta) + \\mathcal{L}_{\\mathrm{BC}}(\\theta),\n",
    "$$\n",
    "\n",
    "with\n",
    "\n",
    "$$\n",
    "\\mathcal{L}_{\\mathrm{PDE}}(\\theta) = \\frac{1}{N_r} \\sum_{i=1}^{N_r} \\left| \\mathcal{N}[V_\\theta(\\mathbf{x}_r^i)] \\right|^2,\n",
    "$$\n",
    "\n",
    "and\n",
    "\n",
    "$$\n",
    "\\mathcal{L}_{\\mathrm{BC}}(\\theta) = \\frac{1}{N_b} \\sum_{j=1}^{N_b} \\left| V_\\theta(\\mathbf{x}_b^j) - g(\\mathbf{x}_b^j) \\right|^2,\n",
    "$$\n",
    "\n",
    "where:\n",
    "-  $\\{\\mathbf{x}_r^i\\}_{i=1}^{N_r}$ are the **collocation points** in the interior of the domain $\\Omega$,\n",
    "-  $\\{\\mathbf{x}_b^j\\}_{j=1}^{N_b}$ are the points on the boundary $\\partial \\Omega$ with known values $g(\\mathbf{x}_b^j)$.\n",
    "\n",
    "In order to train the network, we minimize the loss function using gradient-based optimization techniques. The resulting neural network will approximate the solution to the PDE in the domain $\\Omega$ and satisfy the boundary conditions on $\\partial \\Omega$."
   ]
  },
  {
   "cell_type": "markdown",
   "metadata": {},
   "source": [
    "The idea is not to overcomplicate things, so we start with the example. First, we import the necessary libraries:"
   ]
  },
  {
   "cell_type": "code",
   "execution_count": 581,
   "metadata": {
    "tags": [
     "hide-input"
    ]
   },
   "outputs": [
    {
     "data": {
      "text/plain": [
       "<torch._C.Generator at 0x10db1dc50>"
      ]
     },
     "execution_count": 581,
     "metadata": {},
     "output_type": "execute_result"
    }
   ],
   "source": [
    "import torch\n",
    "import torch.nn as nn\n",
    "import torch.optim as optim\n",
    "import numpy as np\n",
    "\n",
    "from torch.autograd import grad\n",
    "from scipy.stats import norm\n",
    "\n",
    "device = torch.device(\"cuda:0\" if torch.cuda.is_available() else \"cpu\")\n",
    "np.random.seed(42)\n",
    "torch.manual_seed(42)"
   ]
  },
  {
   "cell_type": "code",
   "execution_count": 564,
   "metadata": {
    "tags": [
     "remove-input"
    ]
   },
   "outputs": [
    {
     "data": {
      "text/plain": [
       "<torch._C.Generator at 0x10db1dc50>"
      ]
     },
     "execution_count": 564,
     "metadata": {},
     "output_type": "execute_result"
    }
   ],
   "source": [
    "from tqdm import tqdm\n",
    "import seaborn as sns\n",
    "import plotly.graph_objects as go\n",
    "from plotly.subplots import make_subplots"
   ]
  },
  {
   "cell_type": "markdown",
   "metadata": {},
   "source": [
    "```{important}\n",
    "The choice of collocation points is critical for the convergence of the method. One potential improvement is to use quasi-random numbers to distribute the collocation points more uniformly across the domain, thereby avoiding clustering that can occur with some random number generators.\n",
    "```"
   ]
  },
  {
   "cell_type": "markdown",
   "metadata": {},
   "source": [
    "## Loss functions and the governing equation"
   ]
  },
  {
   "cell_type": "markdown",
   "metadata": {},
   "source": [
    "For the problem of pricing options, the fundamental PDE we need to solve is the **Black-Scholes** equation. This equation is a parabolic PDE that describes the evolution of the price $V(S,t)$ of an option in terms of time $t$ and the underlying asset price $S$. It is given by:\n",
    "\n",
    "$$\n",
    "\\frac{\\partial V}{\\partial t} + \\frac{1}{2}\\sigma^2 S^2 \\frac{\\partial^2 V}{\\partial S^2} + rS\\frac{\\partial V}{\\partial S} - rV = 0,\n",
    "$$\n",
    "\n",
    "where:\n",
    "- $V(S,t)$ is the option price,\n",
    "- $S$ is the price of the underlying asset,\n",
    "- $r$ is the risk-free interest rate,\n",
    "- $\\sigma$ is the volatility of the underlying asset.\n",
    "\n",
    "Our objective is to use this PDE to guide the training of our neural network. Modern machine learning libraries, such as ***PyTorch***, offer automatic differentiation capabilities. For example, ***torch.autograd.grad*** efficiently computes the necessary derivatives, such as $\\nabla V(S,t)$, at each training point. In our fomulation, $\\mathcal{L}_{\\mathrm{PDE}}(\\theta)$ would be represented by the following function:"
   ]
  },
  {
   "cell_type": "code",
   "execution_count": null,
   "metadata": {},
   "outputs": [],
   "source": [
    "def pde_loss_f(model, inputs, sigma, r):\n",
    "    inputs.requires_grad_(True)\n",
    "    V = model(inputs)\n",
    "\n",
    "    # First order\n",
    "    gradients = grad(V, inputs, grad_outputs=torch.ones_like(\n",
    "        V), create_graph=True)[0]\n",
    "    dVdt = gradients[:, 0]\n",
    "    dVdS = gradients[:, 1]\n",
    "\n",
    "    # Second order\n",
    "    d2VdS2 = grad(dVdS, inputs, grad_outputs=torch.ones_like(\n",
    "        dVdS), create_graph=True)[0][:, 1]\n",
    "    S = inputs[:, 1]\n",
    "    V = V[:, 0]\n",
    "\n",
    "    # PDE\n",
    "    pde_residual = dVdt + 0.5 * sigma ** 2 * S ** 2 * d2VdS2 + r * S * dVdS - r * V\n",
    "    loss_pde = torch.mean(pde_residual ** 2)\n",
    "    return loss_pde"
   ]
  },
  {
   "cell_type": "markdown",
   "metadata": {},
   "source": [
    "Additionally, to incorporate the boundary conditions, we need to define an additional loss functions that force the network to satisfy these constraints. Since the boundary conditions we are using are of Dirichlet type, the loss function is relatively simple (it merely compares the network outputs against the ground truth). However, nothing prevents us from employing other types of boundary conditions (such as Neumann or Robin)."
   ]
  },
  {
   "cell_type": "code",
   "execution_count": 570,
   "metadata": {},
   "outputs": [],
   "source": [
    "def boundary_loss_f(model, inputs, outputs):\n",
    "    V_pred = model(inputs)\n",
    "    boundary_loss = torch.mean((V_pred - outputs) ** 2)\n",
    "    return boundary_loss"
   ]
  },
  {
   "cell_type": "markdown",
   "metadata": {},
   "source": [
    "# Collocation points\n",
    "\n",
    "To solve the PDE using PINNs, we need to define the numerical domain over which the equation will be solved. Much like traditional numerical methods (e.g., finite differences), we select a set of points -called **collocation points**- where the PDE is enforced. These include points in the interior of the domain $\\Omega$ as well as on its boundary $\\partial\\Omega$.\n",
    "\n",
    "To enforce the boundary conditions, additional loss terms are added that force the network to satisfy them. For a European call option, the typical boundary conditions are:\n",
    "\n",
    "- **At $S = 0$**:\n",
    "    $$\n",
    "    V(0, t) = 0,\n",
    "    $$\n",
    "    since if the underlying asset's price is zero, the option is worthless.\n",
    "\n",
    "- **For $S \\to \\infty$:**\n",
    "    $$\n",
    "    V(S, t) \\approx S - K e^{-r(T-t)},\n",
    "    $$\n",
    "    as the option behaves like a linear payoff for large $S$.\n",
    "- **At expiration $t = T$:**\n",
    "    $$\n",
    "    V(S, T) = \\max(S - K,\\, 0),\n",
    "    $$\n",
    "    which is simply the payoff of the option.\n",
    "\n",
    "We sample this points using random numbers, and we will use them to train the neural network. Next is an implementation for sampling this points:"
   ]
  },
  {
   "cell_type": "code",
   "execution_count": 566,
   "metadata": {},
   "outputs": [],
   "source": [
    "def payoff(s, k):\n",
    "    return np.maximum(s-k, 0)\n",
    "\n",
    "\n",
    "def interior_samples(option_config, scaling=4):\n",
    "    t = np.random.uniform(\n",
    "        0, option_config['maturity'], option_config['n_samples'])\n",
    "    s = np.random.uniform(\n",
    "        0, scaling*option_config['strike'], option_config['n_samples'])\n",
    "    tag = np.zeros(option_config['n_samples'])\n",
    "    output = np.zeros(option_config['n_samples'])\n",
    "    return t, s, tag, output\n",
    "\n",
    "\n",
    "def top_boundary_samples(option_config, scaling=4):\n",
    "    t = np.random.uniform(\n",
    "        0, option_config['maturity'], option_config['n_samples'])\n",
    "    s = np.ones(option_config['n_samples']) * scaling*option_config['strike']\n",
    "    strike = option_config['strike']\n",
    "    s_max = scaling*option_config['strike']\n",
    "    r = option_config['r']\n",
    "    T = option_config['maturity']\n",
    "    output = s_max - strike * np.exp(-r*(T-t))\n",
    "    tag = np.ones(option_config['n_samples'])\n",
    "    return t, s, tag, output\n",
    "\n",
    "\n",
    "def bottom_boundary_samples(option_config):\n",
    "    t = np.random.uniform(\n",
    "        0, option_config['maturity'], option_config['n_samples'])\n",
    "    s = np.zeros(option_config['n_samples'])\n",
    "    output = np.zeros(option_config['n_samples'])\n",
    "    tag = np.ones(option_config['n_samples'])\n",
    "    return t, s, tag, output\n",
    "\n",
    "\n",
    "def initial_condition_samples(option_config, scaling=4):\n",
    "    t = np.ones(option_config['n_samples']) * option_config['maturity']\n",
    "    s = np.random.uniform(\n",
    "        0, scaling*option_config['strike'], option_config['n_samples'])\n",
    "    tag = np.ones(option_config['n_samples'])\n",
    "    output = payoff(s, option_config['strike'])\n",
    "    return t, s, tag, output"
   ]
  },
  {
   "cell_type": "markdown",
   "metadata": {},
   "source": [
    "Of course, we need to define the financial parameters that will be used in the problem. For this example, we will use the following values:"
   ]
  },
  {
   "cell_type": "code",
   "execution_count": 593,
   "metadata": {},
   "outputs": [],
   "source": [
    "config = {'strike': 15, 'maturity': 1,\n",
    "          'r': 0.04, 'sigma': 0.25, 'n_samples': 1000}\n",
    "\n",
    "# Generate samples\n",
    "inner_samples = interior_samples(config)\n",
    "top_samples = top_boundary_samples(config)\n",
    "bottom_samples = bottom_boundary_samples(config)\n",
    "initial_samples = initial_condition_samples(config)"
   ]
  },
  {
   "cell_type": "markdown",
   "metadata": {},
   "source": [
    "Visually, this is how our domain looks like:"
   ]
  },
  {
   "cell_type": "code",
   "execution_count": 594,
   "metadata": {
    "tags": [
     "remove-input"
    ]
   },
   "outputs": [
    {
     "data": {
      "application/vnd.plotly.v1+json": {
       "config": {
        "plotlyServerURL": "https://plot.ly"
       },
       "data": [
        {
         "marker": {
          "size": 3
         },
         "mode": "markers",
         "name": "Interior",
         "type": "scatter3d",
         "x": {
          "bdata": "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",
          "dtype": "f8"
         },
         "y": {
          "bdata": "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",
          "dtype": "f8"
         },
         "z": {
          "bdata": "AAAAAAAAAAAAAAAAAAAAAAAAAAAAAAAAAAAAAAAAAAAAAAAAAAAAAAAAAAAAAAAAAAAAAAAAAAAAAAAAAAAAAAAAAAAAAAAAAAAAAAAAAAAAAAAAAAAAAAAAAAAAAAAAAAAAAAAAAAAAAAAAAAAAAAAAAAAAAAAAAAAAAAAAAAAAAAAAAAAAAAAAAAAAAAAAAAAAAAAAAAAAAAAAAAAAAAAAAAAAAAAAAAAAAAAAAAAAAAAAAAAAAAAAAAAAAAAAAAAAAAAAAAAAAAAAAAAAAAAAAAAAAAAAAAAAAAAAAAAAAAAAAAAAAAAAAAAAAAAAAAAAAAAAAAAAAAAAAAAAAAAAAAAAAAAAAAAAAAAAAAAAAAAAAAAAAAAAAAAAAAAAAAAAAAAAAAAAAAAAAAAAAAAAAAAAAAAAAAAAAAAAAAAAAAAAAAAAAAAAAAAAAAAAAAAAAAAAAAAAAAAAAAAAAAAAAAAAAAAAAAAAAAAAAAAAAAAAAAAAAAAAAAAAAAAAAAAAAAAAAAAAAAAAAAAAAAAAAAAAAAAAAAAAAAAAAAAAAAAAAAAAAAAAAAAAAAAAAAAAAAAAAAAAAAAAAAAAAAAAAAAAAAAAAAAAAAAAAAAAAAAAAAAAAAAAAAAAAAAAAAAAAAAAAAAAAAAAAAAAAAAAAAAAAAAAAAAAAAAAAAAAAAAAAAAAAAAAAAAAAAAAAAAAAAAAAAAAAAAAAAAAAAAAAAAAAAAAAAAAAAAAAAAAAAAAAAAAAAAAAAAAAAAAAAAAAAAAAAAAAAAAAAAAAAAAAAAAAAAAAAAAAAAAAAAAAAAAAAAAAAAAAAAAAAAAAAAAAAAAAAAAAAAAAAAAAAAAAAAAAAAAAAAAAAAAAAAAAAAAAAAAAAAAAAAAAAAAAAAAAAAAAAAAAAAAAAAAAAAAAAAAAAAAAAAAAAAAAAAAAAAAAAAAAAAAAAAAAAAAAAAAAAAAAAAAAAAAAAAAAAAAAAAAAAAAAAAAAAAAAAAAAAAAAAAAAAAAAAAAAAAAAAAAAAAAAAAAAAAAAAAAAAAAAAAAAAAAAAAAAAAAAAAAAAAAAAAAAAAAAAAAAAAAAAAAAAAAAAAAAAAAAAAAAAAAAAAAAAAAAAAAAAAAAAAAAAAAAAAAAAAAAAAAAAAAAAAAAAAAAAAAAAAAAAAAAAAAAAAAAAAAAAAAAAAAAAAAAAAAAAAAAAAAAAAAAAAAAAAAAAAAAAAAAAAAAAAAAAAAAAAAAAAAAAAAAAAAAAAAAAAAAAAAAAAAAAAAAAAAAAAAAAAAAAAAAAAAAAAAAAAAAAAAAAAAAAAAAAAAAAAAAAAAAAAAAAAAAAAAAAAAAAAAAAAAAAAAAAAAAAAAAAAAAAAAAAAAAAAAAAAAAAAAAAAAAAAAAAAAAAAAAAAAAAAAAAAAAAAAAAAAAAAAAAAAAAAAAAAAAAAAAAAAAAAAAAAAAAAAAAAAAAAAAAAAAAAAAAAAAAAAAAAAAAAAAAAAAAAAAAAAAAAAAAAAAAAAAAAAAAAAAAAAAAAAAAAAAAAAAAAAAAAAAAAAAAAAAAAAAAAAAAAAAAAAAAAAAAAAAAAAAAAAAAAAAAAAAAAAAAAAAAAAAAAAAAAAAAAAAAAAAAAAAAAAAAAAAAAAAAAAAAAAAAAAAAAAAAAAAAAAAAAAAAAAAAAAAAAAAAAAAAAAAAAAAAAAAAAAAAAAAAAAAAAAAAAAAAAAAAAAAAAAAAAAAAAAAAAAAAAAAAAAAAAAAAAAAAAAAAAAAAAAAAAAAAAAAAAAAAAAAAAAAAAAAAAAAAAAAAAAAAAAAAAAAAAAAAAAAAAAAAAAAAAAAAAAAAAAAAAAAAAAAAAAAAAAAAAAAAAAAAAAAAAAAAAAAAAAAAAAAAAAAAAAAAAAAAAAAAAAAAAAAAAAAAAAAAAAAAAAAAAAAAAAAAAAAAAAAAAAAAAAAAAAAAAAAAAAAAAAAAAAAAAAAAAAAAAAAAAAAAAAAAAAAAAAAAAAAAAAAAAAAAAAAAAAAAAAAAAAAAAAAAAAAAAAAAAAAAAAAAAAAAAAAAAAAAAAAAAAAAAAAAAAAAAAAAAAAAAAAAAAAAAAAAAAAAAAAAAAAAAAAAAAAAAAAAAAAAAAAAAAAAAAAAAAAAAAAAAAAAAAAAAAAAAAAAAAAAAAAAAAAAAAAAAAAAAAAAAAAAAAAAAAAAAAAAAAAAAAAAAAAAAAAAAAAAAAAAAAAAAAAAAAAAAAAAAAAAAAAAAAAAAAAAAAAAAAAAAAAAAAAAAAAAAAAAAAAAAAAAAAAAAAAAAAAAAAAAAAAAAAAAAAAAAAAAAAAAAAAAAAAAAAAAAAAAAAAAAAAAAAAAAAAAAAAAAAAAAAAAAAAAAAAAAAAAAAAAAAAAAAAAAAAAAAAAAAAAAAAAAAAAAAAAAAAAAAAAAAAAAAAAAAAAAAAAAAAAAAAAAAAAAAAAAAAAAAAAAAAAAAAAAAAAAAAAAAAAAAAAAAAAAAAAAAAAAAAAAAAAAAAAAAAAAAAAAAAAAAAAAAAAAAAAAAAAAAAAAAAAAAAAAAAAAAAAAAAAAAAAAAAAAAAAAAAAAAAAAAAAAAAAAAAAAAAAAAAAAAAAAAAAAAAAAAAAAAAAAAAAAAAAAAAAAAAAAAAAAAAAAAAAAAAAAAAAAAAAAAAAAAAAAAAAAAAAAAAAAAAAAAAAAAAAAAAAAAAAAAAAAAAAAAAAAAAAAAAAAAAAAAAAAAAAAAAAAAAAAAAAAAAAAAAAAAAAAAAAAAAAAAAAAAAAAAAAAAAAAAAAAAAAAAAAAAAAAAAAAAAAAAAAAAAAAAAAAAAAAAAAAAAAAAAAAAAAAAAAAAAAAAAAAAAAAAAAAAAAAAAAAAAAAAAAAAAAAAAAAAAAAAAAAAAAAAAAAAAAAAAAAAAAAAAAAAAAAAAAAAAAAAAAAAAAAAAAAAAAAAAAAAAAAAAAAAAAAAAAAAAAAAAAAAAAAAAAAAAAAAAAAAAAAAAAAAAAAAAAAAAAAAAAAAAAAAAAAAAAAAAAAAAAAAAAAAAAAAAAAAAAAAAAAAAAAAAAAAAAAAAAAAAAAAAAAAAAAAAAAAAAAAAAAAAAAAAAAAAAAAAAAAAAAAAAAAAAAAAAAAAAAAAAAAAAAAAAAAAAAAAAAAAAAAAAAAAAAAAAAAAAAAAAAAAAAAAAAAAAAAAAAAAAAAAAAAAAAAAAAAAAAAAAAAAAAAAAAAAAAAAAAAAAAAAAAAAAAAAAAAAAAAAAAAAAAAAAAAAAAAAAAAAAAAAAAAAAAAAAAAAAAAAAAAAAAAAAAAAAAAAAAAAAAAAAAAAAAAAAAAAAAAAAAAAAAAAAAAAAAAAAAAAAAAAAAAAAAAAAAAAAAAAAAAAAAAAAAAAAAAAAAAAAAAAAAAAAAAAAAAAAAAAAAAAAAAAAAAAAAAAAAAAAAAAAAAAAAAAAAAAAAAAAAAAAAAAAAAAAAAAAAAAAAAAAAAAAAAAAAAAAAAAAAAAAAAAAAAAAAAAAAAAAAAAAAAAAAAAAAAAAAAAAAAAAAAAAAAAAAAAAAAAAAAAAAAAAAAAAAAAAAAAAAAAAAAAAAAAAAAAAAAAAAAAAAAAAAAAAAAAAAAAAAAAAAAAAAAAAAAAAAAAAAAAAAAAAAAAAAAAAAAAAAAAAAAAAAAAAAAAAAAAAAAAAAAAAAAAAAAAAAAAAAAAAAAAAAAAAAAAAAAAAAAAAAAAAAAAAAAAAAAAAAAAAAAAAAAAAAAAAAAAAAAAAAAAAAAAAAAAAAAAAAAAAAAAAAAAAAAAAAAAAAAAAAAAAAAAAAAAAAAAAAAAAAAAAAAAAAAAAAAAAAAAAAAAAAAAAAAAAAAAAAAAAAAAAAAAAAAAAAAAAAAAAAAAAAAAAAAAAAAAAAAAAAAAAAAAAAAAAAAAAAAAAAAAAAAAAAAAAAAAAAAAAAAAAAAAAAAAAAAAAAAAAAAAAAAAAAAAAAAAAAAAAAAAAAAAAAAAAAAAAAAAAAAAAAAAAAAAAAAAAAAAAAAAAAAAAAAAAAAAAAAAAAAAAAAAAAAAAAAAAAAAAAAAAAAAAAAAAAAAAAAAAAAAAAAAAAAAAAAAAAAAAAAAAAAAAAAAAAAAAAAAAAAAAAAAAAAAAAAAAAAAAAAAAAAAAAAAAAAAAAAAAAAAAAAAAAAAAAAAAAAAAAAAAAAAAAAAAAAAAAAAAAAAAAAAAAAAAAAAAAAAAAAAAAAAAAAAAAAAAAAAAAAAAAAAAAAAAAAAAAAAAAAAAAAAAAAAAAAAAAAAAAAAAAAAAAAAAAAAAAAAAAAAAAAAAAAAAAAAAAAAAAAAAAAAAAAAAAAAAAAAAAAAAAAAAAAAAAAAAAAAAAAAAAAAAAAAAAAAAAAAAAAAAAAAAAAAAAAAAAAAAAAAAAAAAAAAAAAAAAAAAAAAAAAAAAAAAAAAAAAAAAAAAAAAAAAAAAAAAAAAAAAAAAAAAAAAAAAAAAAAAAAAAAAAAAAAAAAAAAAAAAAAAAAAAAAAAAAAAAAAAAAAAAAAAAAAAAAAAAAAAAAAAAAAAAAAAAAAAAAAAAAAAAAAAAAAAAAAAAAAAAAAAAAAAAAAAAAAAAAAAAAAAAAAAAAAAAAAAAAAAAAAAAAAAAAAAAAAAAAAAAAAAAAAAAAAAAAAAAAAAAAAAAAAAAAAAAAAAAAAAAAAAAAAAAAAAAAAAAAAAAAAAAAAAAAAAAAAAAAAAAAAAAAAAAAAAAAAAAAAAAAAAAAAAAAAAAAAAAAAAAAAAAAAAAAAAAAAAAAAAAAAAAAAAAAAAAAAAAAAAAAAAAAAAAAAAAAAAAAAAAAAAAAAAAAAAAAAAAAAAAAAAAAAAAAAAAAAAAAAAAAAAAAAAAAAAAAAAAAAAAAAAAAAAAAAAAAAAAAAAAAAAAAAAAAAAAAAAAAAAAAAAAAAAAAAAAAAAAAAAAAAAAAAAAAAAAAAAAAAAAAAAAAAAAAAAAAAAAAAAAAAAAAAAAAAAAAAAAAAAAAAAAAAAAAAAAAAAAAAAAAAAAAAAAAAAAAAAAAAAAAAAAAAAAAAAAAAAAAAAAAAAAAAAAAAAAAAAAAAAAAAAAAAAAAAAAAAAAAAAAAAAAAAAAAAAAAAAAAAAAAAAAAAAAAAAAAAAAAAAAAAAAAAAAAAAAAAAAAAAAAAAAAAAAAAAAAAAAAAAAAAAAAAAAAAAAAAAAAAAAAAAAAAAAAAAAAAAAAAAAAAAAAAAAAAAAAAAAAAAAAAAAAAAAAAAAAAAAAAAAAAAAAAAAAAAAAAAAAAAAAAAAAAAAAAAAAAAAAAAAAAAAAAAAAAAAAAAAAAAAAAAAAAAAAAAAAAAAAAAAAAAAAAAAAAAAAAAAAAAAAAAAAAAAAAAAAAAAAAAAAAAAAAAAAAAAAAAAAAAAAAAAAAAAAAAAAAAAAAAAAAAAAAAAAAAAAAAAAAAAAAAAAAAAAAAAAAAAAAAAAAAAAAAAAAAAAAAAAAAAAAAAAAAAAAAAAAAAAAAAAAAAAAAAAAAAAAAAAAAAAAAAAAAAAAAAAAAAAAAAAAAAAAAAAAAAAAAAAAAAAAAAAAAAAAAAAAAAAAAAAAAAAAAAAAAAAAAAAAAAAAAAAAAAAAAAAAAAAAAAAAAAAAAAAAAAAAAAAAAAAAAAAAAAAAAAAAAAAAAAAAAAAAAAAAAAAAAAAAAAAAAAAAAAAAAAAAAAAAAAAAAAAAAAAAAAAAAAAAAAAAAAAAAAAAAAAAAAAAAAAAAAAAAAAAAAAAAAAAAAAAAAAAAAAAAAAAAAAAAAAAAAAAAAAAAAAAAAAAAAAAAAAAAAAAAAAAAAAAAAAAAAAAAAAAAAAAAAAAAAAAAAAAAAAAAAAAAAAAAAAAAAAAAAAAAAAAAAAAAAAAAAAAAAAAAAAAAAAAAAAAAAAAAAAAAAAAAAAAAAAAAAAAAAAAAAAAAAAAAAAAAAAAAAAAAAAAAAAAAAAAAAAAAAAAAAAAAAAAAAAAAAAAAAAAAAAAAAAAAAAAAAAAAAAAAAAAAAAAAAAAAAAAAAAAAAAAAAAAAAAAAAAAAAAAAAAAAAAAAAAAAAAAAAAAAAAAAAAAAAAAAAAAAAAAAAAAAAAAAAAAAAAAAAAAAAAAAAAAAAAAAAAAAAAAAAAAAAAAAAAAAAAAAAAAAAAAAAAAAAAAAAAAAAAAAAAAAAAAAAAAAAAAAAAAAAAAAAAAAAAAAAAAAAAAAAAAAAAAAAAAAAAAAAAAAAAAAAAAAAAAAAAAAAAAAAAAAAAAAAAAAAAAAAAAAAAAAAAAAAAAAAAAAAAAAAAAAAAAAAAAAAAAAAAAAAAAAAAAAAAAAAAAAAAAAAAAAAAAAAAAAAAAAAAAAAAAAAAAAAAAAAAAAAAAAAAAAAAAAAAAAAAAAAAAAAAAAAAAAAAAAAAAAAAAAAAAAAAAAAAAAAAAAAAAAAAAAAAAAAAAAAAAAAAAAAAAAAAAAAAAAAAAAAAAAAAAAAAAAAAAAAAAAAAAAAAAAAAAAAAAAAAAAAAAAAAAAAAAAAAAAAAAAAAAAAAAAAAAAAAAAAAAAAAAAAAAAAAAAAAAAAAAAAAAAAAAAAAAAAAAAAAAAAAAAAAAAAAAAAAAAAAAAAAAAAAAAAAAAAAAAAAAAAAAAAAAAAAAAAAAAAAAAAAAAAAAAAAAAAAAAAAAAAAAAAAAAAAAAAAAAAAAAAAAAAAAAAAAAAAAAAAAAAAAAAAAAAAAAAAAAAAAAAAAAAAAAAAAAAAAAAAAAAAAAAAAAAAAAAAAAAAAAAAAAAAAAAAAAAAAAAAAAAAAAAAAAAAAAAAAAAAAAAAAAAAAAAAAAAAAAAAAAAAAAAAAAAAAAAAAAAAAAAAAAAAAAAAAAAAAAAAAAAAAAAAAAAAAAAAAAAAAAAAAAAAAAAAAAAAAAAAAAAAAAAAAAAAAAAAAAAAAAAAAAAAAAAAAAAAAAAAAAAAAAAAAAAAAAAAAAAAAAAAAAAAAAAAAAAAAAAAAAAAAAAAAAAAAAAAAAAAAAAAAAAAAAAAAAAAAAAAAAAAAAAAAAAAAAAAAAAAAAAAAAAAAAAAAAAAAAAAAAAAAAAAAAAAAAAAAAAAAAAAAAAAAAAAAAAAAAAAAAAAAAAAAAAAAAAAAAAAAAAAAAAAAAAAAAAAAAAAAAAAAAAAAAAAAAAAAAAAAAAAAAAAAAAAAAAAAAAAAAAAAAAAAAAAAAAAAAAAAAAAAAAAAAAAAAAAAAAAAAAAAAAAAAAAAAAAAAAAAAAAAAAAAAAAAAAAAAAAAAAAAAAAAAAAAAAAAAAAAAAAAAAAAAAAAAAAAAAAAAAAAAAAAAAAAAAAAAAAAAAAAAAAAAAAAAAAAAAAAAAAAAAAAAAAAAAAAAAAAAAAAAAAAAAAAAAAAAAAAAAAAAAAAAAAAAAAAAAAAAAAAAAAAAAAAAAAAAAAAAAAAAAAAAAAAAAAAAAAAAAAAAAAAAAAAAAAAAAAAAAAAAAAAAAAAAAAAAAAAAAAAAAAAAAAAAAAAAAAAAAAAAAAAAAAAAAAAAAAAAAAAAAAAAAAAAAAAAAAAAAAAAAAAAAAAAAAAAAAAAAAAAAAAAAAAAAAAAAAAAAAAAAAAAAAAAAAAAAAAAAAAAAAAAAAAAAAAAAAAAAAAAAAAAAAAAAAAAAAAAAAAAAAAAAAAAAAAAAAAAAAAAAAAAAAAAAAAAAAAAAAAAAAAAAAAAAAAAAAAAAAAAAAAAAAAAAAAAAAAAAAAAAAAAAAAAAAAAAAAAAAAAAAAAAAAAAAAAAAAAAAAAAAAAAAAAAAAAAAAAAAAAAAAAAAAAAAAAAAAAAAAAAAAAAAAAAAAAAAAAAAAAAAAAAAAAAAAAAAAAAAAAAAAAAAAAAAAAAAAAAAAAAAAAAAAAAAAAAAAAAAAAAAAAAAAAAAAAAAAAAAAAAAAAAAAAAAAAAAAAAAAAAAAAAAAAAAAAAAAAAAAAAAAAAAAAAAAAAAAAAAAAAAAAAAAAAAAAAAAAAAAAAAAAAAAAAAAAAAAAAAAAAAAAAAAAAAAAAAAAAAAAAAAAAAAAAAAAAAAAAAAAAAAAAAAAAAAAAAAAAAAAAAAAAAAAAAAAAAAAAAAAAAAAAAAAAAAAAAAAAAAAAAAAAAAAAAAAAAAAAAAAAAAAAAAAAAAAAAAAAAAAAAAAAAAAAAAAAAAAAAAAAAAAAAAAAAAAAAAAAAAAAAAAAAAAAAAAAAAAAAAAAAAAAAAAAAAAAAAAAAAAAAAAAAAAAAAAAAAAAAAAAAAAAAAAAAAAAAAAAAAAAAAAAAAAAAAAAAAAAAAAAAAAAAAAAAAAAAAAAAAAAAAAAAAAAAAAAAAAAAAAAAAAAAAAAAAAAAAAAAAAAAAAAAAAAAAAAAAAAAAAAAAAAAAAAAAAAAAAAAAAAAAAAAAAAAAAAAAAAAAAAAAAAAAAAAAAAAAAAAAAAAAAAAAAAAAAAAAAAAAAAAAAAAAAAAAAAAAAAAAAAAAAAAAAAAAAAAAAAAAAAAAAAAAAAAAAAAAAAAAAAAAAAAAAAAAAAAAAAAAAAAAAAAAAAAAAAAAAAAAAAAAAAAAAAAAAAAAAAAAAAAAAAAAAAAAAAAAAAAAAAAAAAAAAAAAAAAAAAAAAAAAAAAAAAAAAAAAAAAAAAAAAAAAAAAAAAAAAAAAAAAAAAAAAAAAAAAAAAAAAAAAAAAAAAAAAAAAAAAAAAAAAAAAAAAAAAAAAAAAAAAAAAAAAAAAAAAAAAAAAAAAAAAAAAAAAAAAAAAAAAAAAAAAAAAAAAAAAAAAAAAAAAAAAAAAAAAAAAAAAAAAAAAAAAAAAAAAAAAAAAAAAAAAAAAAAAAAAAAAAAAAAAAAAAAAAAAAAAAAAAAAAAAAAAAAAAAAAAAAAAAAAAAAAAAAAAAAAAAAAAAAAAAAAAAAAAAAAAAAAAAAAAAAAAAAAAAAAAAAAAAAAAAAAAAAAAAAAAAAAAAAAAAAAAAAAAAAAAAAAAAAAAAAAAAAAAAAAAAAAAAAAAAAAAAAAAAAAAAAAAAAAAAAAAAAAAAAAAAAAAAAAAAAAAAAAAAAAAAAAAAAAAAAAAAAAAAAAAAAAAAAAAAAAAAAAAAAAAAAAAAAAAAAAAAAAAAAAAAAAAAAAAAAAAAAAAAAAAAAAAAAAAAAAAAAAAAAAAAAAAAAAAAAAAAAAAAAAAAAAAAAAAAAAAAAAAAAAAAAAAAAAAAAAAAAAAAAAAAAAAAAAAAAAAAAAAAAAAAAAAAAAAAAAAAAAAAAAAAAAAAAAAAAAAAAAAAAAAAAAAAAAAAAAAAAAAAAAAAAAAAAAAAAAAAAAAAAAAAAAAAAAAAAAAAAAAAAAAAAAAAAAAAAAAAAAAAAAAAAAAAAAAAAAAAAAAAAAAAAAAAAAAAAAAAAAAAAAAAAAAAAAAAAAAAAAAAAAAAAAAAAAAAAAAAAAAAAAAAAAAAAAAAAAAAAAAAAAAAAAAAAAAAAAAAAAAAAAAAAAAAAAAAAAAAAAAAAAAAAAAAAAAAAAAAAAAAAAAAAAAAAAAAAAAAAAAAAAAAAAAAAAAAAAAAAAAAAAAAAAAAAAAAAAAAAAAAAAAAAAAAAAAAAAAAAAAAAAAAAAAAAAAAAAAAAAAAAAAAAAAAAAAAAAAAAAAAAAAAAAAAAAAAAAAAAAAAAAAAAAAAAAAAAAAAAAAAAAAAAAAAAAAAAAAAAAAAAAAAAAAAAAAAAAAAAAAAAAAAAAAAAAAAAAAAAAAAAAAAAAAAAAAAAAAAAAAAAAAAAAAAAAAAAAAAAAAAAAAAAAAAAAAAAAAAAAAAAAAAAAAAAAAAAAAAAAAAAAAAAAAAAAAAAAAAAAAAAAAAAAAAAAAAAAAAAAAAAAAAAAAAAAAAAAAAAAAAAAAAAAAAAAAAAAAAAAAAAAAAAAAAAAAAAAAAAAAAAAAAAAAAAAAAAAAAAAAAAAAAAAAAAAAAAAAAAAAAAAAAAAAAAAAAAAAAAAAAAAAAAAAAAAAAAAAAAAAAAAAAAAAAAAAAAAAAAAAAAAAAAAAAAAAAAAAAAAAAAAAAAAAAAAAAAAAAAAAAAAAAAAAAAAAAAAAAAAAAAAAAAAAAAAAAAAAAAAAAAAAAAAAAAAAAAAAAAAAAAAAAAAAAAAAAAAAAAAAAAAAAAAAAAAAAAAAAAAAAAAAAAAAAAAAAAAAAAAAAAAAAAAAAAAAAAAAAAAAAAAAAAAAAAAAAAAAAAAAAAAAAAAAAAAAAAAAAAAAAAAAAAAAAAAAAAAAAAAAAAAAAAAAAAAAAAAAAAAAAAAAAAAAAAAAAAAAAAAAAAAAAAAAAAAAAAAAAAAAAAAAAAAAAAAAAAAAAAAAAAAAAAAAAAAAAAAAAAAAAAAAAAAAAAAAAAAAAAAAAAAAAAAAAAAAAAAAAAAAAAAAAAAAAAAAAAAAAAAAAAAAAAAAAAAAAAAAAAAAAAAAAAAAAAAAAAAAAAAAAAAAAAAAAAAAAAAAAAAAAAAAAAAAAAAAAAAAAAAAAAAAAAAAAAAAAAAAAAAAAAAAAAAAAAAAAAAAAAAAAAAAAAAAAAAAAAAAAAAAAAAAAAAAAAAAAAAAAAAAAAAAAAAAAAAAAAAAAAAAAAAAAAAAAAAAAAAAAAAAAAAAAAAAAAAAAAAAAAAAAAAAAAAAAAAAAAAAAAAAAAAAAAAAAAAAAAAAAAAAAAAAAAAA=",
          "dtype": "f8"
         }
        },
        {
         "marker": {
          "size": 3
         },
         "mode": "markers",
         "name": "Top Boundary",
         "type": "scatter3d",
         "x": {
          "bdata": "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",
          "dtype": "f8"
         },
         "y": {
          "bdata": "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",
          "dtype": "f8"
         },
         "z": {
          "bdata": "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",
          "dtype": "f8"
         }
        },
        {
         "marker": {
          "size": 3
         },
         "mode": "markers",
         "name": "Bottom Boundary",
         "type": "scatter3d",
         "x": {
          "bdata": "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",
          "dtype": "f8"
         },
         "y": {
          "bdata": "AAAAAAAAAAAAAAAAAAAAAAAAAAAAAAAAAAAAAAAAAAAAAAAAAAAAAAAAAAAAAAAAAAAAAAAAAAAAAAAAAAAAAAAAAAAAAAAAAAAAAAAAAAAAAAAAAAAAAAAAAAAAAAAAAAAAAAAAAAAAAAAAAAAAAAAAAAAAAAAAAAAAAAAAAAAAAAAAAAAAAAAAAAAAAAAAAAAAAAAAAAAAAAAAAAAAAAAAAAAAAAAAAAAAAAAAAAAAAAAAAAAAAAAAAAAAAAAAAAAAAAAAAAAAAAAAAAAAAAAAAAAAAAAAAAAAAAAAAAAAAAAAAAAAAAAAAAAAAAAAAAAAAAAAAAAAAAAAAAAAAAAAAAAAAAAAAAAAAAAAAAAAAAAAAAAAAAAAAAAAAAAAAAAAAAAAAAAAAAAAAAAAAAAAAAAAAAAAAAAAAAAAAAAAAAAAAAAAAAAAAAAAAAAAAAAAAAAAAAAAAAAAAAAAAAAAAAAAAAAAAAAAAAAAAAAAAAAAAAAAAAAAAAAAAAAAAAAAAAAAAAAAAAAAAAAAAAAAAAAAAAAAAAAAAAAAAAAAAAAAAAAAAAAAAAAAAAAAAAAAAAAAAAAAAAAAAAAAAAAAAAAAAAAAAAAAAAAAAAAAAAAAAAAAAAAAAAAAAAAAAAAAAAAAAAAAAAAAAAAAAAAAAAAAAAAAAAAAAAAAAAAAAAAAAAAAAAAAAAAAAAAAAAAAAAAAAAAAAAAAAAAAAAAAAAAAAAAAAAAAAAAAAAAAAAAAAAAAAAAAAAAAAAAAAAAAAAAAAAAAAAAAAAAAAAAAAAAAAAAAAAAAAAAAAAAAAAAAAAAAAAAAAAAAAAAAAAAAAAAAAAAAAAAAAAAAAAAAAAAAAAAAAAAAAAAAAAAAAAAAAAAAAAAAAAAAAAAAAAAAAAAAAAAAAAAAAAAAAAAAAAAAAAAAAAAAAAAAAAAAAAAAAAAAAAAAAAAAAAAAAAAAAAAAAAAAAAAAAAAAAAAAAAAAAAAAAAAAAAAAAAAAAAAAAAAAAAAAAAAAAAAAAAAAAAAAAAAAAAAAAAAAAAAAAAAAAAAAAAAAAAAAAAAAAAAAAAAAAAAAAAAAAAAAAAAAAAAAAAAAAAAAAAAAAAAAAAAAAAAAAAAAAAAAAAAAAAAAAAAAAAAAAAAAAAAAAAAAAAAAAAAAAAAAAAAAAAAAAAAAAAAAAAAAAAAAAAAAAAAAAAAAAAAAAAAAAAAAAAAAAAAAAAAAAAAAAAAAAAAAAAAAAAAAAAAAAAAAAAAAAAAAAAAAAAAAAAAAAAAAAAAAAAAAAAAAAAAAAAAAAAAAAAAAAAAAAAAAAAAAAAAAAAAAAAAAAAAAAAAAAAAAAAAAAAAAAAAAAAAAAAAAAAAAAAAAAAAAAAAAAAAAAAAAAAAAAAAAAAAAAAAAAAAAAAAAAAAAAAAAAAAAAAAAAAAAAAAAAAAAAAAAAAAAAAAAAAAAAAAAAAAAAAAAAAAAAAAAAAAAAAAAAAAAAAAAAAAAAAAAAAAAAAAAAAAAAAAAAAAAAAAAAAAAAAAAAAAAAAAAAAAAAAAAAAAAAAAAAAAAAAAAAAAAAAAAAAAAAAAAAAAAAAAAAAAAAAAAAAAAAAAAAAAAAAAAAAAAAAAAAAAAAAAAAAAAAAAAAAAAAAAAAAAAAAAAAAAAAAAAAAAAAAAAAAAAAAAAAAAAAAAAAAAAAAAAAAAAAAAAAAAAAAAAAAAAAAAAAAAAAAAAAAAAAAAAAAAAAAAAAAAAAAAAAAAAAAAAAAAAAAAAAAAAAAAAAAAAAAAAAAAAAAAAAAAAAAAAAAAAAAAAAAAAAAAAAAAAAAAAAAAAAAAAAAAAAAAAAAAAAAAAAAAAAAAAAAAAAAAAAAAAAAAAAAAAAAAAAAAAAAAAAAAAAAAAAAAAAAAAAAAAAAAAAAAAAAAAAAAAAAAAAAAAAAAAAAAAAAAAAAAAAAAAAAAAAAAAAAAAAAAAAAAAAAAAAAAAAAAAAAAAAAAAAAAAAAAAAAAAAAAAAAAAAAAAAAAAAAAAAAAAAAAAAAAAAAAAAAAAAAAAAAAAAAAAAAAAAAAAAAAAAAAAAAAAAAAAAAAAAAAAAAAAAAAAAAAAAAAAAAAAAAAAAAAAAAAAAAAAAAAAAAAAAAAAAAAAAAAAAAAAAAAAAAAAAAAAAAAAAAAAAAAAAAAAAAAAAAAAAAAAAAAAAAAAAAAAAAAAAAAAAAAAAAAAAAAAAAAAAAAAAAAAAAAAAAAAAAAAAAAAAAAAAAAAAAAAAAAAAAAAAAAAAAAAAAAAAAAAAAAAAAAAAAAAAAAAAAAAAAAAAAAAAAAAAAAAAAAAAAAAAAAAAAAAAAAAAAAAAAAAAAAAAAAAAAAAAAAAAAAAAAAAAAAAAAAAAAAAAAAAAAAAAAAAAAAAAAAAAAAAAAAAAAAAAAAAAAAAAAAAAAAAAAAAAAAAAAAAAAAAAAAAAAAAAAAAAAAAAAAAAAAAAAAAAAAAAAAAAAAAAAAAAAAAAAAAAAAAAAAAAAAAAAAAAAAAAAAAAAAAAAAAAAAAAAAAAAAAAAAAAAAAAAAAAAAAAAAAAAAAAAAAAAAAAAAAAAAAAAAAAAAAAAAAAAAAAAAAAAAAAAAAAAAAAAAAAAAAAAAAAAAAAAAAAAAAAAAAAAAAAAAAAAAAAAAAAAAAAAAAAAAAAAAAAAAAAAAAAAAAAAAAAAAAAAAAAAAAAAAAAAAAAAAAAAAAAAAAAAAAAAAAAAAAAAAAAAAAAAAAAAAAAAAAAAAAAAAAAAAAAAAAAAAAAAAAAAAAAAAAAAAAAAAAAAAAAAAAAAAAAAAAAAAAAAAAAAAAAAAAAAAAAAAAAAAAAAAAAAAAAAAAAAAAAAAAAAAAAAAAAAAAAAAAAAAAAAAAAAAAAAAAAAAAAAAAAAAAAAAAAAAAAAAAAAAAAAAAAAAAAAAAAAAAAAAAAAAAAAAAAAAAAAAAAAAAAAAAAAAAAAAAAAAAAAAAAAAAAAAAAAAAAAAAAAAAAAAAAAAAAAAAAAAAAAAAAAAAAAAAAAAAAAAAAAAAAAAAAAAAAAAAAAAAAAAAAAAAAAAAAAAAAAAAAAAAAAAAAAAAAAAAAAAAAAAAAAAAAAAAAAAAAAAAAAAAAAAAAAAAAAAAAAAAAAAAAAAAAAAAAAAAAAAAAAAAAAAAAAAAAAAAAAAAAAAAAAAAAAAAAAAAAAAAAAAAAAAAAAAAAAAAAAAAAAAAAAAAAAAAAAAAAAAAAAAAAAAAAAAAAAAAAAAAAAAAAAAAAAAAAAAAAAAAAAAAAAAAAAAAAAAAAAAAAAAAAAAAAAAAAAAAAAAAAAAAAAAAAAAAAAAAAAAAAAAAAAAAAAAAAAAAAAAAAAAAAAAAAAAAAAAAAAAAAAAAAAAAAAAAAAAAAAAAAAAAAAAAAAAAAAAAAAAAAAAAAAAAAAAAAAAAAAAAAAAAAAAAAAAAAAAAAAAAAAAAAAAAAAAAAAAAAAAAAAAAAAAAAAAAAAAAAAAAAAAAAAAAAAAAAAAAAAAAAAAAAAAAAAAAAAAAAAAAAAAAAAAAAAAAAAAAAAAAAAAAAAAAAAAAAAAAAAAAAAAAAAAAAAAAAAAAAAAAAAAAAAAAAAAAAAAAAAAAAAAAAAAAAAAAAAAAAAAAAAAAAAAAAAAAAAAAAAAAAAAAAAAAAAAAAAAAAAAAAAAAAAAAAAAAAAAAAAAAAAAAAAAAAAAAAAAAAAAAAAAAAAAAAAAAAAAAAAAAAAAAAAAAAAAAAAAAAAAAAAAAAAAAAAAAAAAAAAAAAAAAAAAAAAAAAAAAAAAAAAAAAAAAAAAAAAAAAAAAAAAAAAAAAAAAAAAAAAAAAAAAAAAAAAAAAAAAAAAAAAAAAAAAAAAAAAAAAAAAAAAAAAAAAAAAAAAAAAAAAAAAAAAAAAAAAAAAAAAAAAAAAAAAAAAAAAAAAAAAAAAAAAAAAAAAAAAAAAAAAAAAAAAAAAAAAAAAAAAAAAAAAAAAAAAAAAAAAAAAAAAAAAAAAAAAAAAAAAAAAAAAAAAAAAAAAAAAAAAAAAAAAAAAAAAAAAAAAAAAAAAAAAAAAAAAAAAAAAAAAAAAAAAAAAAAAAAAAAAAAAAAAAAAAAAAAAAAAAAAAAAAAAAAAAAAAAAAAAAAAAAAAAAAAAAAAAAAAAAAAAAAAAAAAAAAAAAAAAAAAAAAAAAAAAAAAAAAAAAAAAAAAAAAAAAAAAAAAAAAAAAAAAAAAAAAAAAAAAAAAAAAAAAAAAAAAAAAAAAAAAAAAAAAAAAAAAAAAAAAAAAAAAAAAAAAAAAAAAAAAAAAAAAAAAAAAAAAAAAAAAAAAAAAAAAAAAAAAAAAAAAAAAAAAAAAAAAAAAAAAAAAAAAAAAAAAAAAAAAAAAAAAAAAAAAAAAAAAAAAAAAAAAAAAAAAAAAAAAAAAAAAAAAAAAAAAAAAAAAAAAAAAAAAAAAAAAAAAAAAAAAAAAAAAAAAAAAAAAAAAAAAAAAAAAAAAAAAAAAAAAAAAAAAAAAAAAAAAAAAAAAAAAAAAAAAAAAAAAAAAAAAAAAAAAAAAAAAAAAAAAAAAAAAAAAAAAAAAAAAAAAAAAAAAAAAAAAAAAAAAAAAAAAAAAAAAAAAAAAAAAAAAAAAAAAAAAAAAAAAAAAAAAAAAAAAAAAAAAAAAAAAAAAAAAAAAAAAAAAAAAAAAAAAAAAAAAAAAAAAAAAAAAAAAAAAAAAAAAAAAAAAAAAAAAAAAAAAAAAAAAAAAAAAAAAAAAAAAAAAAAAAAAAAAAAAAAAAAAAAAAAAAAAAAAAAAAAAAAAAAAAAAAAAAAAAAAAAAAAAAAAAAAAAAAAAAAAAAAAAAAAAAAAAAAAAAAAAAAAAAAAAAAAAAAAAAAAAAAAAAAAAAAAAAAAAAAAAAAAAAAAAAAAAAAAAAAAAAAAAAAAAAAAAAAAAAAAAAAAAAAAAAAAAAAAAAAAAAAAAAAAAAAAAAAAAAAAAAAAAAAAAAAAAAAAAAAAAAAAAAAAAAAAAAAAAAAAAAAAAAAAAAAAAAAAAAAAAAAAAAAAAAAAAAAAAAAAAAAAAAAAAAAAAAAAAAAAAAAAAAAAAAAAAAAAAAAAAAAAAAAAAAAAAAAAAAAAAAAAAAAAAAAAAAAAAAAAAAAAAAAAAAAAAAAAAAAAAAAAAAAAAAAAAAAAAAAAAAAAAAAAAAAAAAAAAAAAAAAAAAAAAAAAAAAAAAAAAAAAAAAAAAAAAAAAAAAAAAAAAAAAAAAAAAAAAAAAAAAAAAAAAAAAAAAAAAAAAAAAAAAAAAAAAAAAAAAAAAAAAAAAAAAAAAAAAAAAAAAAAAAAAAAAAAAAAAAAAAAAAAAAAAAAAAAAAAAAAAAAAAAAAAAAAAAAAAAAAAAAAAAAAAAAAAAAAAAAAAAAAAAAAAAAAAAAAAAAAAAAAAAAAAAAAAAAAAAAAAAAAAAAAAAAAAAAAAAAAAAAAAAAAAAAAAAAAAAAAAAAAAAAAAAAAAAAAAAAAAAAAAAAAAAAAAAAAAAAAAAAAAAAAAAAAAAAAAAAAAAAAAAAAAAAAAAAAAAAAAAAAAAAAAAAAAAAAAAAAAAAAAAAAAAAAAAAAAAAAAAAAAAAAAAAAAAAAAAAAAAAAAAAAAAAAAAAAAAAAAAAAAAAAAAAAAAAAAAAAAAAAAAAAAAAAAAAAAAAAAAAAAAAAAAAAAAAAAAAAAAAAAAAAAAAAAAAAAAAAAAAAAAAAAAAAAAAAAAAAAAAAAAAAAAAAAAAAAAAAAAAAAAAAAAAAAAAAAAAAAAAAAAAAAAAAAAAAAAAAAAAAAAAAAAAAAAAAAAAAAAAAAAAAAAAAAAAAAAAAAAAAAAAAAAAAAAAAAAAAAAAAAAAAAAAAAAAAAAAAAAAAAAAAAAAAAAAAAAAAAAAAAAAAAAAAAAAAAAAAAAAAAAAAAAAAAAAAAAAAAAAAAAAAAAAAAAAAAAAAAAAAAAAAAAAAAAAAAAAAAAAAAAAAAAAAAAAAAAAAAAAAAAAAAAAAAAAAAAAAAAAAAAAAAAAAAAAAAAAAAAAAAAAAAAAAAAAAAAAAAAAAAAAAAAAAAAAAAAAAAAAAAAAAAAAAAAAAAAAAAAAAAAAAAAAAAAAAAAAAAAAAAAAAAAAAAAAAAAAAAAAAAAAAAAAAAAAAAAAAAAAAAAAAAAAAAAAAAAAAAAAAAAAAAAAAAAAAAAAAAAAAAAAAAAAAAAAAAAAAAAAAAAAAAAAAAAAAAAAAAAAAAAAAAAAAAAAAAAAAAAAAAAAAAAAAAAAAAAAAAAAAAAAAAAAAAAAAAAAAAAAAAAAAAAAAAAAAAAAAAAAAAAAAAAAAAAAAAAAAAAAAAAAAAAAAAAAAAAAAAAAAAAAAAAAAAAAAAAAAAAAAAAAAAAAAAAAAAAAAAAAAAAAAAAAAAAAAAAAAAAAAAAAAAAAAAAAAAAAAAAAAAAAAAAAAAAAAAAAAAAAAAAAAAAAAAAAAAAAAAAAAAAAAAAAAAAAAAAAAAAAAAAAAAAAAAAAAAAAAAAAAAAAAAAAAAAAAAAAAAAAAAAAAAAAAAAAAAAAAAAAAAAAAAAAAAAAAAAAAAAAAAAAAAAAAAAAAAAAAAAAAAAAAAAAAAAAAAAAAAAAAAAAAAAAAAAAAAAAAAAAAAAAAAAAAAAAAAAAAAAAAAAAAAAAAAAAAAAAAAAAAAAAAAAAAAAAAAAAAAAAAAAAAAAAAAAAAAAAAAAAAAAAAAAAAAAAAAAAAAAAAAAAAAAAAAAAAAAAAAAAAAAAAAAAAAAAAAAAAAAAAAAAAAAAAAAAAAAAAAAAAAAAAAAAAAAAAAAAAAAAAAAAAAAAAAAAAAAAAAAAAAAAAAAAAAAAAAAAAAAAAAAAAAAAAAAAAAAAAAAAAAAAAAAAAAAAAAAAAAAAAAAAAAAAAAAAAAAAAAAAAAAAAAAAAAAAAAAAAAAAAAAAAAAAAAAAAAAAAAAAAAAAAAAAAAAAAAAAAAAAAAAAAAAAAAAAAAAAAAAAAAAAAAAAAAAAAAAAAAAAAAAAAAAAAAAAAAAAAAAAAAAAAAAAAAAAAAAAAAAAAAAAAAAAAAAAAAAAAAAAAAAAAAAAAAAAAAAAAAAAAAAAAAAAAAAAAAAAAAAAAAAAAAAAAAAAAAAAAAAAAAAAAAAAAAAAAAAAAAAAAAAAAAAAAAAAAAAAAAAAAAAAAAAAAAAAAAAAAAAAAAAAAAAAAAAAAAAAAAAAAAAAAAAAAAAAAAAAAAAAAAAAAAAAAAAAAAAAAAAAAAAAAAAAAAAAAAAAAAAAAAAAAAAAAAAAAAAAAAAAAAAAAAAAAAAAAAAAAAAAAAAAAAAAAAAAAAAAAAAAAAAAAAAAAAAAAAAAAAAAAAAAAAAAAAAAAAAAAAAAAAAAAAAAAAAAAAAAAAAAAAAAAAAAAAAAAAAAAAAAAAAAAAAAAAAAAAAAAAAAAAAAAAAAAAAAAAAAAAAAAAAAAAAAAAAAAAAAAAAAAAAAAAAAAAAAAAAAAAAAAAAAAAAAAAAAAAAAAAAAAAAAAAAAAAAAAAAAAAAAAAAAAAAAAAAAAAAAAAAAAAAAAAAAAAAAAAAAAAAAAAAAAAAAAAAAAAAAAAAAAAAAAAAAAAAAAAAAAAAAAAAAAAAAAAAAAAAAAAAAAAAAAAAAAAAAAAAAAAAAAAAAAAAAAAAAAAAAAAAAAAAAAAAAAAAAAAAAAAAAAAAAAAAAAAAAAAAAAAAAAAAAAAAAAAAAAAAAAAAAAAAAAAAAAAAAAAAAAAAAAAAAAAAAAAAAAAAAAAAAAAAAAAAAAAAAAAAAAAAAAAAAAAAAAAAAAAAAAAAAAAAAAAAAAAAAAAAAAAAAAAAAAAAAAAAAAAAAAAAAAAAAAAAAAAAAAAAAAAAAAAAAAAAAAAAAAAAAAAAAAAAAAAAAAAAAAAAAAAAAAAAAAAAAAAAAAAAAAAAAAAAAAAAAAAAAAAAAAAAAAAAAAAAAAAAAAAAAAAAAAAAAAAAAAAAAAAAAAAAAAAAAAAAAAAAAAAAAAAAAAAAAAAAAAAAAAAAAAAAAAAAAAAAAAAAAAAAAAAAAAAAAAAAAAAAAAAAAAAAAAAAAAAAAAAAAAAAAAAAAAAAAAAAAAAAAAAAAAAAAAAAAAAAAAAAAAAAAAAAAAAAAAAAAAAAAAAAAAAAAAAAAAAAAAAAAAAAAAAAAAAAAAAAAAAAAAAAAAAAAAAAAAAAAAAAAAAAAAAAAAAAAAAAAAAAAAAAAAAAAAAAAAAAAAAAAAAAAAAAAAAAAAAAAAAAAAAAAAAAAAAAAAAAAAAAAAAAAAAAAAAAAAAAAAAAAAAAAAAAAAAAAAAAAAAAAAAAAAAAAAAAAAAAAAAAAAAAAAAAAAAAAAAAAAAAAAAAAAAAAAAAAAAAAAAAAAAAAAAAAAAAAAAAAAAAAAAAAAAAAAAAAAAAAAAAAAAAAAAAAAAAAAAAAAAAAAAAAAAAAAAAAAAAAAAAAAAAAAAAAAAAAAAAAAAAAAAAAAAAAAAAAAAAAAAAAAAAAAAAAAAAAAAAAAAAAAAAAAAAAAAAAAAAAAAAAAAAAAAAAAAAAAAAAAAAAAAAAAAAAAAAAAAAAAAAAAAAAAAAAAAAAAAAAAAAAAAAAAAAAAAAAAAAAAAAAAAAAAAAAAAAAAAAAAAAAAAAAAAAAAAAAAAAAAAAAAAAAAAAAAAAAAAAAAAAAAAAAAAAAAAAAAAAAAAAAAAAAAAAAAAAAAAAAAAAAAAAAAAAAAAAAAAAAAAAAAAAAAAAAAAAAAAAAAAAAAAAAAAAAAAAAAAAAAAAAAAAAAAAAAAAAAAAAAAAAAAAAAAAAAAAAAAAAAAAAAAAAAAAAAAAAAAAAAAAAAAAAAAAAAAAAAAAAAAAAAAAAAAAAAAAAAAAAAAAAAAAAAAAAAAAAAAAAAAAAAAAAAAAAAAAAAAAAAAAAAAAAAAAAAAAAAAAAAAAAAAAAAAAAAAAAAAAAAAAAAAAAAAAAAAAAAAAAAAAAAAAAAAAAAAAAAAAAAAAAAAAAAAAAAAAAAAAAAAAAAAAAAAAAAAAAAAAAAAAAAAAAAAAAAAAAAAAAAAAAAAAAAAAAAAAAAAAAAAAAAAAAAAAAAAAAAAAAAAAAAAAAAAAAAAAAAAAAAAAAAAAAAAAAAAAAAAAAAAAAAAAAAAAAAAAAAAAAAAAAAAAAAAAAAAAAAAAAAAAAAAAAAAAAAAAAAAAAAAAAAAAAAAAAAAAAAAAAAAAAAAAAAAAAAAAAAAAAAAAAAAAAAAAAAAAAAAAAAAAAAAAAAAAAAAAAAAAAAAAAAAAAAAAAAAAAAAAAAAAAAAAAAAAAAAAAAAAAAAAAAAAAAAAAAAAAAAAAAAAAAAAAAAAAAAAAAAAAAAAAAAAAAAAAAAAAAAAAAAAAAAAAAAAAAAAAAAAAAAAAAAAAAAAAAAAAAAAAAAAAAAAAAAAAAAAAAAAAAAAAAAAAAAAAAAAAAAAAAAAAAAAAAAAAAAAAAAAAAAAAAAAAAAAAAAAAAAAAAAAAAAAAAAAAAAAAAAAAAAAAAAAAAAAAAAAAAAAAAAAAAAAAAAAAAAAAAAAAAAAAAAAAAAAAAAAAAAAAAAAAAAAAAAAAAAAAAAAAAAAAAAAAAAAAAAAAAAAAAAAAAAAAAAAAAAAAAAAAAAAAAAAAAAAAAAAAAAAAAAAAAAAAAAAAAAAAAAAAAAAAAAAAAAAAAAAAAAAAAAAAAAAAAAAAAAAAAAAAAAAAAAAAAAAAAAAAAAAAAAAAAAAAAAAAAAAAAAAAAAAAAAAAAAAAAAAAAAAAAAAAAAAAAAAAAAAAAAAAAAAAAAAAAAAAAAAAAAAAAAAAAAAAAAAAAAAAAAAAAAAAAAAAAAAAAAAAAAAAAAAAAAAAAAAAAAAAAAAAAAAAAAAAAAAAAAAAAAAAAAAAAAAAAAAAAAAAAAAAAAAAAAAAAAAAAAAAAAAAAAAAAAAAAAAAAAAAAAAAAAAAAAAAAAAAAAAAAAAAAAAAAAAAAAAAAAAAAAAAAAAAAAAAAAAAAAAAAAAAAAAAAAAAAAAAAAAAAAAAAAAAAAAAAAAAAAAAAAAAAAAAAAAAAAAAAAAAAAAAAAAAAAAAAAAAAAAAAAAAAAAAAAAAAAAAAAAAAAAAAAAAAAAAAAAAAAAAAAAAAAAAAAAAAAAAAAAAAAAAAAAAAAAAAAAAAAAAAAAAAAAAAAAAAAAAAAAAAAAAAAAAAAAAAAAAAAAAAAAAAAAAAAAAAAAAAAAAAAAAAAAAAAAAAAAAAAAAAAAAAAAAAAAAAAAAAAAAAAAAAAAAAAAAAAAAAAAAAAAAAAAAAAAAAAAAAAAAAAAAAAAAAAAAAAAAAAAAAAAAAAAAAAAAAAAAAAAAAAAAAAAAAAAAAAAAAAAAAAAAAAAAAAAAAAAAAAAAAAAAAAAAAAAAAAAAAAAAAAAAAAAAAAAAAAAAAAAAAAAAAAAAAAAAAAAAAAAAAAAAAAAAAAAAAAAAAAAAAAAAAAAAAAAAAAAAAAAAAAAAAAAAAAAAAAAAAAAAAAAAAAAAAAAAAAAAAAAAAAAAAAAAAAAAAAAAAAAAAAAAAAAAAAAAAAAAAAAAAAAAAAAAAAAAAAAAAAAAAAAAAAAAAAAAAAAAAAAAAAAAAAAAAAAAAAAAAAAAAAAAAAAAAAAAAAAAAAAAAAAAAAAAAAAA=",
          "dtype": "f8"
         },
         "z": {
          "bdata": "AAAAAAAAAAAAAAAAAAAAAAAAAAAAAAAAAAAAAAAAAAAAAAAAAAAAAAAAAAAAAAAAAAAAAAAAAAAAAAAAAAAAAAAAAAAAAAAAAAAAAAAAAAAAAAAAAAAAAAAAAAAAAAAAAAAAAAAAAAAAAAAAAAAAAAAAAAAAAAAAAAAAAAAAAAAAAAAAAAAAAAAAAAAAAAAAAAAAAAAAAAAAAAAAAAAAAAAAAAAAAAAAAAAAAAAAAAAAAAAAAAAAAAAAAAAAAAAAAAAAAAAAAAAAAAAAAAAAAAAAAAAAAAAAAAAAAAAAAAAAAAAAAAAAAAAAAAAAAAAAAAAAAAAAAAAAAAAAAAAAAAAAAAAAAAAAAAAAAAAAAAAAAAAAAAAAAAAAAAAAAAAAAAAAAAAAAAAAAAAAAAAAAAAAAAAAAAAAAAAAAAAAAAAAAAAAAAAAAAAAAAAAAAAAAAAAAAAAAAAAAAAAAAAAAAAAAAAAAAAAAAAAAAAAAAAAAAAAAAAAAAAAAAAAAAAAAAAAAAAAAAAAAAAAAAAAAAAAAAAAAAAAAAAAAAAAAAAAAAAAAAAAAAAAAAAAAAAAAAAAAAAAAAAAAAAAAAAAAAAAAAAAAAAAAAAAAAAAAAAAAAAAAAAAAAAAAAAAAAAAAAAAAAAAAAAAAAAAAAAAAAAAAAAAAAAAAAAAAAAAAAAAAAAAAAAAAAAAAAAAAAAAAAAAAAAAAAAAAAAAAAAAAAAAAAAAAAAAAAAAAAAAAAAAAAAAAAAAAAAAAAAAAAAAAAAAAAAAAAAAAAAAAAAAAAAAAAAAAAAAAAAAAAAAAAAAAAAAAAAAAAAAAAAAAAAAAAAAAAAAAAAAAAAAAAAAAAAAAAAAAAAAAAAAAAAAAAAAAAAAAAAAAAAAAAAAAAAAAAAAAAAAAAAAAAAAAAAAAAAAAAAAAAAAAAAAAAAAAAAAAAAAAAAAAAAAAAAAAAAAAAAAAAAAAAAAAAAAAAAAAAAAAAAAAAAAAAAAAAAAAAAAAAAAAAAAAAAAAAAAAAAAAAAAAAAAAAAAAAAAAAAAAAAAAAAAAAAAAAAAAAAAAAAAAAAAAAAAAAAAAAAAAAAAAAAAAAAAAAAAAAAAAAAAAAAAAAAAAAAAAAAAAAAAAAAAAAAAAAAAAAAAAAAAAAAAAAAAAAAAAAAAAAAAAAAAAAAAAAAAAAAAAAAAAAAAAAAAAAAAAAAAAAAAAAAAAAAAAAAAAAAAAAAAAAAAAAAAAAAAAAAAAAAAAAAAAAAAAAAAAAAAAAAAAAAAAAAAAAAAAAAAAAAAAAAAAAAAAAAAAAAAAAAAAAAAAAAAAAAAAAAAAAAAAAAAAAAAAAAAAAAAAAAAAAAAAAAAAAAAAAAAAAAAAAAAAAAAAAAAAAAAAAAAAAAAAAAAAAAAAAAAAAAAAAAAAAAAAAAAAAAAAAAAAAAAAAAAAAAAAAAAAAAAAAAAAAAAAAAAAAAAAAAAAAAAAAAAAAAAAAAAAAAAAAAAAAAAAAAAAAAAAAAAAAAAAAAAAAAAAAAAAAAAAAAAAAAAAAAAAAAAAAAAAAAAAAAAAAAAAAAAAAAAAAAAAAAAAAAAAAAAAAAAAAAAAAAAAAAAAAAAAAAAAAAAAAAAAAAAAAAAAAAAAAAAAAAAAAAAAAAAAAAAAAAAAAAAAAAAAAAAAAAAAAAAAAAAAAAAAAAAAAAAAAAAAAAAAAAAAAAAAAAAAAAAAAAAAAAAAAAAAAAAAAAAAAAAAAAAAAAAAAAAAAAAAAAAAAAAAAAAAAAAAAAAAAAAAAAAAAAAAAAAAAAAAAAAAAAAAAAAAAAAAAAAAAAAAAAAAAAAAAAAAAAAAAAAAAAAAAAAAAAAAAAAAAAAAAAAAAAAAAAAAAAAAAAAAAAAAAAAAAAAAAAAAAAAAAAAAAAAAAAAAAAAAAAAAAAAAAAAAAAAAAAAAAAAAAAAAAAAAAAAAAAAAAAAAAAAAAAAAAAAAAAAAAAAAAAAAAAAAAAAAAAAAAAAAAAAAAAAAAAAAAAAAAAAAAAAAAAAAAAAAAAAAAAAAAAAAAAAAAAAAAAAAAAAAAAAAAAAAAAAAAAAAAAAAAAAAAAAAAAAAAAAAAAAAAAAAAAAAAAAAAAAAAAAAAAAAAAAAAAAAAAAAAAAAAAAAAAAAAAAAAAAAAAAAAAAAAAAAAAAAAAAAAAAAAAAAAAAAAAAAAAAAAAAAAAAAAAAAAAAAAAAAAAAAAAAAAAAAAAAAAAAAAAAAAAAAAAAAAAAAAAAAAAAAAAAAAAAAAAAAAAAAAAAAAAAAAAAAAAAAAAAAAAAAAAAAAAAAAAAAAAAAAAAAAAAAAAAAAAAAAAAAAAAAAAAAAAAAAAAAAAAAAAAAAAAAAAAAAAAAAAAAAAAAAAAAAAAAAAAAAAAAAAAAAAAAAAAAAAAAAAAAAAAAAAAAAAAAAAAAAAAAAAAAAAAAAAAAAAAAAAAAAAAAAAAAAAAAAAAAAAAAAAAAAAAAAAAAAAAAAAAAAAAAAAAAAAAAAAAAAAAAAAAAAAAAAAAAAAAAAAAAAAAAAAAAAAAAAAAAAAAAAAAAAAAAAAAAAAAAAAAAAAAAAAAAAAAAAAAAAAAAAAAAAAAAAAAAAAAAAAAAAAAAAAAAAAAAAAAAAAAAAAAAAAAAAAAAAAAAAAAAAAAAAAAAAAAAAAAAAAAAAAAAAAAAAAAAAAAAAAAAAAAAAAAAAAAAAAAAAAAAAAAAAAAAAAAAAAAAAAAAAAAAAAAAAAAAAAAAAAAAAAAAAAAAAAAAAAAAAAAAAAAAAAAAAAAAAAAAAAAAAAAAAAAAAAAAAAAAAAAAAAAAAAAAAAAAAAAAAAAAAAAAAAAAAAAAAAAAAAAAAAAAAAAAAAAAAAAAAAAAAAAAAAAAAAAAAAAAAAAAAAAAAAAAAAAAAAAAAAAAAAAAAAAAAAAAAAAAAAAAAAAAAAAAAAAAAAAAAAAAAAAAAAAAAAAAAAAAAAAAAAAAAAAAAAAAAAAAAAAAAAAAAAAAAAAAAAAAAAAAAAAAAAAAAAAAAAAAAAAAAAAAAAAAAAAAAAAAAAAAAAAAAAAAAAAAAAAAAAAAAAAAAAAAAAAAAAAAAAAAAAAAAAAAAAAAAAAAAAAAAAAAAAAAAAAAAAAAAAAAAAAAAAAAAAAAAAAAAAAAAAAAAAAAAAAAAAAAAAAAAAAAAAAAAAAAAAAAAAAAAAAAAAAAAAAAAAAAAAAAAAAAAAAAAAAAAAAAAAAAAAAAAAAAAAAAAAAAAAAAAAAAAAAAAAAAAAAAAAAAAAAAAAAAAAAAAAAAAAAAAAAAAAAAAAAAAAAAAAAAAAAAAAAAAAAAAAAAAAAAAAAAAAAAAAAAAAAAAAAAAAAAAAAAAAAAAAAAAAAAAAAAAAAAAAAAAAAAAAAAAAAAAAAAAAAAAAAAAAAAAAAAAAAAAAAAAAAAAAAAAAAAAAAAAAAAAAAAAAAAAAAAAAAAAAAAAAAAAAAAAAAAAAAAAAAAAAAAAAAAAAAAAAAAAAAAAAAAAAAAAAAAAAAAAAAAAAAAAAAAAAAAAAAAAAAAAAAAAAAAAAAAAAAAAAAAAAAAAAAAAAAAAAAAAAAAAAAAAAAAAAAAAAAAAAAAAAAAAAAAAAAAAAAAAAAAAAAAAAAAAAAAAAAAAAAAAAAAAAAAAAAAAAAAAAAAAAAAAAAAAAAAAAAAAAAAAAAAAAAAAAAAAAAAAAAAAAAAAAAAAAAAAAAAAAAAAAAAAAAAAAAAAAAAAAAAAAAAAAAAAAAAAAAAAAAAAAAAAAAAAAAAAAAAAAAAAAAAAAAAAAAAAAAAAAAAAAAAAAAAAAAAAAAAAAAAAAAAAAAAAAAAAAAAAAAAAAAAAAAAAAAAAAAAAAAAAAAAAAAAAAAAAAAAAAAAAAAAAAAAAAAAAAAAAAAAAAAAAAAAAAAAAAAAAAAAAAAAAAAAAAAAAAAAAAAAAAAAAAAAAAAAAAAAAAAAAAAAAAAAAAAAAAAAAAAAAAAAAAAAAAAAAAAAAAAAAAAAAAAAAAAAAAAAAAAAAAAAAAAAAAAAAAAAAAAAAAAAAAAAAAAAAAAAAAAAAAAAAAAAAAAAAAAAAAAAAAAAAAAAAAAAAAAAAAAAAAAAAAAAAAAAAAAAAAAAAAAAAAAAAAAAAAAAAAAAAAAAAAAAAAAAAAAAAAAAAAAAAAAAAAAAAAAAAAAAAAAAAAAAAAAAAAAAAAAAAAAAAAAAAAAAAAAAAAAAAAAAAAAAAAAAAAAAAAAAAAAAAAAAAAAAAAAAAAAAAAAAAAAAAAAAAAAAAAAAAAAAAAAAAAAAAAAAAAAAAAAAAAAAAAAAAAAAAAAAAAAAAAAAAAAAAAAAAAAAAAAAAAAAAAAAAAAAAAAAAAAAAAAAAAAAAAAAAAAAAAAAAAAAAAAAAAAAAAAAAAAAAAAAAAAAAAAAAAAAAAAAAAAAAAAAAAAAAAAAAAAAAAAAAAAAAAAAAAAAAAAAAAAAAAAAAAAAAAAAAAAAAAAAAAAAAAAAAAAAAAAAAAAAAAAAAAAAAAAAAAAAAAAAAAAAAAAAAAAAAAAAAAAAAAAAAAAAAAAAAAAAAAAAAAAAAAAAAAAAAAAAAAAAAAAAAAAAAAAAAAAAAAAAAAAAAAAAAAAAAAAAAAAAAAAAAAAAAAAAAAAAAAAAAAAAAAAAAAAAAAAAAAAAAAAAAAAAAAAAAAAAAAAAAAAAAAAAAAAAAAAAAAAAAAAAAAAAAAAAAAAAAAAAAAAAAAAAAAAAAAAAAAAAAAAAAAAAAAAAAAAAAAAAAAAAAAAAAAAAAAAAAAAAAAAAAAAAAAAAAAAAAAAAAAAAAAAAAAAAAAAAAAAAAAAAAAAAAAAAAAAAAAAAAAAAAAAAAAAAAAAAAAAAAAAAAAAAAAAAAAAAAAAAAAAAAAAAAAAAAAAAAAAAAAAAAAAAAAAAAAAAAAAAAAAAAAAAAAAAAAAAAAAAAAAAAAAAAAAAAAAAAAAAAAAAAAAAAAAAAAAAAAAAAAAAAAAAAAAAAAAAAAAAAAAAAAAAAAAAAAAAAAAAAAAAAAAAAAAAAAAAAAAAAAAAAAAAAAAAAAAAAAAAAAAAAAAAAAAAAAAAAAAAAAAAAAAAAAAAAAAAAAAAAAAAAAAAAAAAAAAAAAAAAAAAAAAAAAAAAAAAAAAAAAAAAAAAAAAAAAAAAAAAAAAAAAAAAAAAAAAAAAAAAAAAAAAAAAAAAAAAAAAAAAAAAAAAAAAAAAAAAAAAAAAAAAAAAAAAAAAAAAAAAAAAAAAAAAAAAAAAAAAAAAAAAAAAAAAAAAAAAAAAAAAAAAAAAAAAAAAAAAAAAAAAAAAAAAAAAAAAAAAAAAAAAAAAAAAAAAAAAAAAAAAAAAAAAAAAAAAAAAAAAAAAAAAAAAAAAAAAAAAAAAAAAAAAAAAAAAAAAAAAAAAAAAAAAAAAAAAAAAAAAAAAAAAAAAAAAAAAAAAAAAAAAAAAAAAAAAAAAAAAAAAAAAAAAAAAAAAAAAAAAAAAAAAAAAAAAAAAAAAAAAAAAAAAAAAAAAAAAAAAAAAAAAAAAAAAAAAAAAAAAAAAAAAAAAAAAAAAAAAAAAAAAAAAAAAAAAAAAAAAAAAAAAAAAAAAAAAAAAAAAAAAAAAAAAAAAAAAAAAAAAAAAAAAAAAAAAAAAAAAAAAAAAAAAAAAAAAAAAAAAAAAAAAAAAAAAAAAAAAAAAAAAAAAAAAAAAAAAAAAAAAAAAAAAAAAAAAAAAAAAAAAAAAAAAAAAAAAAAAAAAAAAAAAAAAAAAAAAAAAAAAAAAAAAAAAAAAAAAAAAAAAAAAAAAAAAAAAAAAAAAAAAAAAAAAAAAAAAAAAAAAAAAAAAAAAAAAAAAAAAAAAAAAAAAAAAAAAAAAAAAAAAAAAAAAAAAAAAAAAAAAAAAAAAAAAAAAAAAAAAAAAAAAAAAAAAAAAAAAAAAAAAAAAAAAAAAAAAAAAAAAAAAAAAAAAAAAAAAAAAAAAAAAAAAAAAAAAAAAAAAAAAAAAAAAAAAAAAAAAAAAAAAAAAAAAAAAAAAAAAAAAAAAAAAAAAAAAAAAAAAAAAAAAAAAAAAAAAAAAAAAAAAAAAAAAAAAAAAAAAAAAAAAAAAAAAAAAAAAAAAAAAAAAAAAAAAAAAAAAAAAAAAAAAAAAAAAAAAAAAAAAAAAAAAAAAAAAAAAAAAAAAAAAAAAAAAAAAAAAAAAAAAAAAAAAAAAAAAAAAAAAAAAAAAAAAAAAAAAAAAAAAAAAAAAAAAAAAAAAAAAAAAAAAAAAAAAAAAAAAAAAAAAAAAAAAAAAAAAAAAAAAAAAAAAAAAAAAAAAAAAAAAAAAAAAAAAAAAAAAAAAAAAAAAAAAAAAAAAAAAAAAAAAAAAAAAAAAAAAAAAAAAAAAAAAAAAAAAAAAAAAAAAAAAAAAAAAAAAAAAAAAAAAAAAAAAAAAAAAAAAAAAAAAAAAAAAAAAAAAAAAAAAAAAAAAAAAAAAAAAAAAAAAAAAAAAAAAAAAAAAAAAAAAAAAAAAAAAAAAAAAAAAAAAAAAAAAAAAAAAAAAAAAAAAAAAAAAAAAAAAAAAAAAAAAAAAAAAAAAAAAAAAAAAAAAAAAAAAAAAAAAAAAAAAAAAAAAAAAAAAAAAAAAAAAAAAAAAAAAAAAAAAAAAAAAAAAAAAAAAAAAAAAAAAAAAAAAAAAAAAAAAAAAAAAAAAAAAAAAAAAAAAAAAAAAAAAAAAAAAAAAAAAAAAAAAAAAAAAAAAAAAAAAAAAAAAAAAAAAAAAAAAAAAAAAAAAAAAAAAAAAAAAAAAAAAAAAAAAAAAAAAAAAAAAAAAAAAAAAAAAAAAAAAAAAAAAAAAAAAAAAAAAAAAAAAAAAAAAAAAAAAAAAAAAAAAAAAAAAAAAAAAAAAAAAAAAAAAAAAAAAAAAAAAAAAAAAAAAAAAAAAAAAAAAAAAAAAAAAAAAAAAAAAAAAAAAAAAAAAAAAAAAAAAAAAAAAAAAAAAAAAAAAAAAAAAAAAAAAAAAAAAAAAAAAAAAAAAAAAAAAAAAAAAAAAAAAAAAAAAAAAAAAAAAAAAAAAAAAAAAAAAAAAAAAAAAAAAAAAAAAAAAAAAAAAAAAAAAAAAAAAAAAAAAAAAAAAAAAAAAAAAAAAAAAAAAAAAAAAAAAAAAAAAAAAAAAAAAAAAAAAAAAAAAAAAAAAAAAAAAAAAAAAAAAAAAAAAAAAAAAAAAAAAAAAAAAAAAAAAAAAAAAAAAAAAAAAAAAAAAAAAAAAAAAAAAAAAAAAAAAAAAAAAAAAAAAAAAAAAAAAAAAAAAAAAAAAAAAAAAAAAAAAAAAAAAAAAAAAAAAAAAAAAAAAAAAAAAAAAAAAAAAAAAAAAAAAAAAAAAAAAAAAAAAAAAAAAAAAAAAAAAAAAAAAAAAAAAAAAAAAAAAAAAAAAAAAAAAAAAAAAAAAAAAAAAAAAAAAAAAAAAAAAAAAAAAAAAAAAAAAAAAAAAAAAAAAAAAAAAAAAAAAAAAAAAAAAAAAAAAAAAAAAAAAAAAAAAAAAAAAAAAAAAAAAAAAAAAAAAAAAAAAAAAAAAAAAAAAAAAAAAAAAAAAAAAAAAAAAAAAAAAAAAAAAAAAAAAAAAAAAAAAAAAAAAAAAAAAAAAAAAAAAAAAAAAAAAAAAAAAAAAAAAAAAAAAAAAAAAAAAAAAAAAAAAAAAAAAAAAAAAAAAAAAAAAAAAAAAAAAAAAAAAAAAAAAAAAAAAAAAAAAAAAAAAAAAAAAAAAAAAAAAAAAAAAAAAAAAAAAAAAAAAAAAAAAAAAAAAAAAAAAAAAAAAAAAAAAAAAAAAAAAAAAAAAAAAAAAAAAAAAAAAAAAAAAAAAAAAAAAAAAAAAAAAAAAAAAAAAAAAAAAAAAAAAAAAAAAAAAAAAAAAAAAAAAAAAAAAAAAAAAAAAAAAAAAAAAAAAAAAAAAAAAAAAAAAAAAAAAAAAAAAAAAAAAAAAAAAAAAAAAAAAAAAAAAAAAAAAAAAAAAAAAAAAAAAAAAAAAAAAAAAAAAAAAAAAAAAAAAAAAAAAAAAAAAAAAAAAAAAAAAAAAAAAAAAAAAAAAAAAAAAAAAAAAAAAAAAAAAAAAAAAAAAAAAAAAAAAAAAAAAAAAAAAAAAAAAAAAAAAAAAAAAAAAAAAAAAAAAAAAAAAAAAAAAAAAAAAAAAAAAAAAAAAAAAAAAAAAAAAAAAAAAAAAAAAAAAAAAAAAAAAAAAAAAAAAAAAAAAAAAAAAAAAAAAAAAAAAAAAAAAAAAAAAAAAAAAAAAAAAAAAAAAAAAAAAAAAAAAAAAAAAAAAAAAAAAAAAAAAAAAAAAAAAAAAAAAAAAAAAAAAAAAAAAAAAAAAAAAAAAAAAAAAAAAAAAAAAAAAAAAAAAAAAAAAAAAAAAAAAAAAAAAAAAAAAAAAAAAAAAAAAAAAAAAAAAAAAAAAAAAAAAAAAAAAAAAAAAAAAAAAAAAAAAAAAAAAAAAAAAAAAAAAAAAAAAAAAAAAAAAAAAAAAAAAAAAAAAAAAAAAAAAAAAAAAAAAAAAAAAAAAAAAAAAAAAAAAAAAAAAAAAAAAAAAAAAAAAAAAAAAAAAAAAAAAAAAAAAAAAAAAAAAAAAAAAAAAAAAAAAAAAAAAAAAAAAAAAAAAAAAAAAAAAAAAAAAAAAAAAAAAAAAAAAAAAAAAAAAAAAAAAAAAAAAAAAAAAAAAAAAAAAAAAAAAAAAAAAAAAAAAAAAAAAAAAAAAAAAAAAAAAAAAAAAAAAAAAAAAAAAAAAAAAAAAAAAAAAAAAAAAAAAAAAAAAAAAAAAAAAAAAAAAAAAAAAAAAAAAAAAAAAAAAAAAAAAAAAAAAAAAAAAAAAAAAAAAAAAAAAAAAAAAAAAAAAAAAAAAAAAAAAAAAAAAAAAAAAAAAAAAAAAAAAAAAAAAAAAAAAAAAAAAAAAAAAAAAAAAAAAAAAAAAAAAAAAAAAAAAAAAAAAAAAAAAAAAAAAAAAAAAAAAAAAAAAAAAAAAAAAAAAAAAAAAAAAAAAAAAAAAAAAAAAAAAAAAAAAAAAAAAAAAAAAAAAAAAAAAAAAAAAAAAAAAAAAAAAAAAAAAAAAAAAAAAAAAAAAAAAAAAAAAAAAAAAAAAAAAAAAAAAAAAAAAAAAAAAAAAAAAAAAAAAAAAAAAAAAAAAAAAAAAAAAAAAAAAAAAAAAAAAAAAAAAAAAAAAAAAAAAAAAAAAAAAAAAAAAAAAAAAAAAAAAAAAAAAAAAAAAAAAAAAAAAAAAAAAAAAAAAAAAAAAAAAAAAAAAAAAAAAAAAAAAAAAAAAAAAAAAAAAAAAAAAAAAAAAAAAAAAAAAAAAAAAAAAAAAAAAAAAAAAAAAAAAAAAAAAAAAAAAAAAAAAAAAAAAAAAAAAAAAAAAAAAAAAAAAAAAAAAAAAAAAAAAAAAAAAAAAAAAAAAAAAAAAAAAAAAAAAAAAAAAAAAAAAAAAAAAAAAAAAAAAAAAAAAAAAAAAAAAAAAAAAAAAAAAAAAAAAAAAAAAAAAAAAAAAAAAAAAAAAAAAAAAAAAAAAAAAAAAAAAAAAAAAAAAAAAAAAAAAAAAAAAAAAAAAAAAAAAAAAAAAAAAAAAAAAAAAAAAAAAAAAAAAAAAAAAAAAAAAAAAAAAAAAAAAAAAAAAAAAAAAAAAAAAAAAAAAAAAAAAAAAAAAAAAAAAAAAAAAAAAAAAAAAAAAAAAAAAAAAAAAAAAAAAAAAAAAAAAAAAAAAAAAAAAAAAAAAAAAAAAAAAAAAAAAAAAAAAAAAAAAAAAAAAAAAAAAAAAAAAAAAAAAAAAAAAAAAAAAAAAAAAAAAAAAAAAAAAAAAAAAAAAAAAAAAAAAAAAAAAAAAAAAAAAAAAAAAAAAAAAAAAAAAAAAAAAAAAAAAAAAAAAAAAAAAAAAAAAAAAAAAAAAAAAAAAAAAAAAAAAAAAAAAAAAAAAAAAAAAAAAAAAAAAAAAAAAAAAAAAAAAAAAAAAAAAAAAAAAAAAAAAAAAAAAAAAAAAAAAAAAAAAAAAAAAAAAAAAAAAAAAAAAAAAAAAAAAAAAAAAAAAAAAAAAAAAAAAAAAAAAAAAAAAAAAAAAAAAAAAAAAAAAAAAAAAAAAAAAAAAAAAAAAAAAAAAAAAAAAAAAAAAAAAAAAAAAAAAAAAAAAAAAAAAAAAAAAAAAAAAAAAAAAAAAAAAAAAAAAAAAAAAAAAAAAAAAAAAAAAAAAAAAAAAAAAAAAAAAAAAAAAAAAAAAAAAAAAAAAAAAAAAAAAAAAAAAAAAAAAAAAAAAAAAAAAAAAAAAAAAAAAAAAAAAAAAAAAAAAAAAAAAAAAAAAAAAAAAAAAAAAAAAAAAAAAAAAAAAAAAAAAAAAAAAAAAAAAAAAAAAAAAAAAAAAAAAAAAAAAAAAAAAAAAAAAAAAAAAAAAAAAAAAAAAAAAAAAAAAAAAAAAAAAAAAAAAAAAAAAAAAAAAAAAAAAAAAAAAAAAAAAAAAAAAAAAAAAAAAAAAAAAAAAAAAAAAAAAAAAAAAAAAAAAAAAAAAAAAAAAAAAAAAAAAAAAAAAAAAAAAAAAAAAAAAAAAAAAAAAAAAAAAAAAAAAAAAAAAAAAAAAAAAAAAAAAAAAAAAAAAAAAAAAAAAAAAAAAAAAAAAAAAAAAAAAAAAAAAAAAAAAAAAAAAAAAAAAAAAAAAAAAAAAAAAAAAA=",
          "dtype": "f8"
         }
        },
        {
         "marker": {
          "size": 3
         },
         "mode": "markers",
         "name": "Initial Condition",
         "type": "scatter3d",
         "x": {
          "bdata": "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",
          "dtype": "f8"
         },
         "y": {
          "bdata": "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",
          "dtype": "f8"
         },
         "z": {
          "bdata": "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",
          "dtype": "f8"
         }
        }
       ],
       "layout": {
        "autosize": true,
        "scene": {
         "xaxis": {
          "title": {
           "text": "t"
          }
         },
         "yaxis": {
          "title": {
           "text": "s"
          }
         },
         "zaxis": {
          "title": {
           "text": "V"
          }
         }
        },
        "template": {
         "data": {
          "bar": [
           {
            "error_x": {
             "color": "#2a3f5f"
            },
            "error_y": {
             "color": "#2a3f5f"
            },
            "marker": {
             "line": {
              "color": "#E5ECF6",
              "width": 0.5
             },
             "pattern": {
              "fillmode": "overlay",
              "size": 10,
              "solidity": 0.2
             }
            },
            "type": "bar"
           }
          ],
          "barpolar": [
           {
            "marker": {
             "line": {
              "color": "#E5ECF6",
              "width": 0.5
             },
             "pattern": {
              "fillmode": "overlay",
              "size": 10,
              "solidity": 0.2
             }
            },
            "type": "barpolar"
           }
          ],
          "carpet": [
           {
            "aaxis": {
             "endlinecolor": "#2a3f5f",
             "gridcolor": "white",
             "linecolor": "white",
             "minorgridcolor": "white",
             "startlinecolor": "#2a3f5f"
            },
            "baxis": {
             "endlinecolor": "#2a3f5f",
             "gridcolor": "white",
             "linecolor": "white",
             "minorgridcolor": "white",
             "startlinecolor": "#2a3f5f"
            },
            "type": "carpet"
           }
          ],
          "choropleth": [
           {
            "colorbar": {
             "outlinewidth": 0,
             "ticks": ""
            },
            "type": "choropleth"
           }
          ],
          "contour": [
           {
            "colorbar": {
             "outlinewidth": 0,
             "ticks": ""
            },
            "colorscale": [
             [
              0,
              "#0d0887"
             ],
             [
              0.1111111111111111,
              "#46039f"
             ],
             [
              0.2222222222222222,
              "#7201a8"
             ],
             [
              0.3333333333333333,
              "#9c179e"
             ],
             [
              0.4444444444444444,
              "#bd3786"
             ],
             [
              0.5555555555555556,
              "#d8576b"
             ],
             [
              0.6666666666666666,
              "#ed7953"
             ],
             [
              0.7777777777777778,
              "#fb9f3a"
             ],
             [
              0.8888888888888888,
              "#fdca26"
             ],
             [
              1,
              "#f0f921"
             ]
            ],
            "type": "contour"
           }
          ],
          "contourcarpet": [
           {
            "colorbar": {
             "outlinewidth": 0,
             "ticks": ""
            },
            "type": "contourcarpet"
           }
          ],
          "heatmap": [
           {
            "colorbar": {
             "outlinewidth": 0,
             "ticks": ""
            },
            "colorscale": [
             [
              0,
              "#0d0887"
             ],
             [
              0.1111111111111111,
              "#46039f"
             ],
             [
              0.2222222222222222,
              "#7201a8"
             ],
             [
              0.3333333333333333,
              "#9c179e"
             ],
             [
              0.4444444444444444,
              "#bd3786"
             ],
             [
              0.5555555555555556,
              "#d8576b"
             ],
             [
              0.6666666666666666,
              "#ed7953"
             ],
             [
              0.7777777777777778,
              "#fb9f3a"
             ],
             [
              0.8888888888888888,
              "#fdca26"
             ],
             [
              1,
              "#f0f921"
             ]
            ],
            "type": "heatmap"
           }
          ],
          "histogram": [
           {
            "marker": {
             "pattern": {
              "fillmode": "overlay",
              "size": 10,
              "solidity": 0.2
             }
            },
            "type": "histogram"
           }
          ],
          "histogram2d": [
           {
            "colorbar": {
             "outlinewidth": 0,
             "ticks": ""
            },
            "colorscale": [
             [
              0,
              "#0d0887"
             ],
             [
              0.1111111111111111,
              "#46039f"
             ],
             [
              0.2222222222222222,
              "#7201a8"
             ],
             [
              0.3333333333333333,
              "#9c179e"
             ],
             [
              0.4444444444444444,
              "#bd3786"
             ],
             [
              0.5555555555555556,
              "#d8576b"
             ],
             [
              0.6666666666666666,
              "#ed7953"
             ],
             [
              0.7777777777777778,
              "#fb9f3a"
             ],
             [
              0.8888888888888888,
              "#fdca26"
             ],
             [
              1,
              "#f0f921"
             ]
            ],
            "type": "histogram2d"
           }
          ],
          "histogram2dcontour": [
           {
            "colorbar": {
             "outlinewidth": 0,
             "ticks": ""
            },
            "colorscale": [
             [
              0,
              "#0d0887"
             ],
             [
              0.1111111111111111,
              "#46039f"
             ],
             [
              0.2222222222222222,
              "#7201a8"
             ],
             [
              0.3333333333333333,
              "#9c179e"
             ],
             [
              0.4444444444444444,
              "#bd3786"
             ],
             [
              0.5555555555555556,
              "#d8576b"
             ],
             [
              0.6666666666666666,
              "#ed7953"
             ],
             [
              0.7777777777777778,
              "#fb9f3a"
             ],
             [
              0.8888888888888888,
              "#fdca26"
             ],
             [
              1,
              "#f0f921"
             ]
            ],
            "type": "histogram2dcontour"
           }
          ],
          "mesh3d": [
           {
            "colorbar": {
             "outlinewidth": 0,
             "ticks": ""
            },
            "type": "mesh3d"
           }
          ],
          "parcoords": [
           {
            "line": {
             "colorbar": {
              "outlinewidth": 0,
              "ticks": ""
             }
            },
            "type": "parcoords"
           }
          ],
          "pie": [
           {
            "automargin": true,
            "type": "pie"
           }
          ],
          "scatter": [
           {
            "fillpattern": {
             "fillmode": "overlay",
             "size": 10,
             "solidity": 0.2
            },
            "type": "scatter"
           }
          ],
          "scatter3d": [
           {
            "line": {
             "colorbar": {
              "outlinewidth": 0,
              "ticks": ""
             }
            },
            "marker": {
             "colorbar": {
              "outlinewidth": 0,
              "ticks": ""
             }
            },
            "type": "scatter3d"
           }
          ],
          "scattercarpet": [
           {
            "marker": {
             "colorbar": {
              "outlinewidth": 0,
              "ticks": ""
             }
            },
            "type": "scattercarpet"
           }
          ],
          "scattergeo": [
           {
            "marker": {
             "colorbar": {
              "outlinewidth": 0,
              "ticks": ""
             }
            },
            "type": "scattergeo"
           }
          ],
          "scattergl": [
           {
            "marker": {
             "colorbar": {
              "outlinewidth": 0,
              "ticks": ""
             }
            },
            "type": "scattergl"
           }
          ],
          "scattermap": [
           {
            "marker": {
             "colorbar": {
              "outlinewidth": 0,
              "ticks": ""
             }
            },
            "type": "scattermap"
           }
          ],
          "scattermapbox": [
           {
            "marker": {
             "colorbar": {
              "outlinewidth": 0,
              "ticks": ""
             }
            },
            "type": "scattermapbox"
           }
          ],
          "scatterpolar": [
           {
            "marker": {
             "colorbar": {
              "outlinewidth": 0,
              "ticks": ""
             }
            },
            "type": "scatterpolar"
           }
          ],
          "scatterpolargl": [
           {
            "marker": {
             "colorbar": {
              "outlinewidth": 0,
              "ticks": ""
             }
            },
            "type": "scatterpolargl"
           }
          ],
          "scatterternary": [
           {
            "marker": {
             "colorbar": {
              "outlinewidth": 0,
              "ticks": ""
             }
            },
            "type": "scatterternary"
           }
          ],
          "surface": [
           {
            "colorbar": {
             "outlinewidth": 0,
             "ticks": ""
            },
            "colorscale": [
             [
              0,
              "#0d0887"
             ],
             [
              0.1111111111111111,
              "#46039f"
             ],
             [
              0.2222222222222222,
              "#7201a8"
             ],
             [
              0.3333333333333333,
              "#9c179e"
             ],
             [
              0.4444444444444444,
              "#bd3786"
             ],
             [
              0.5555555555555556,
              "#d8576b"
             ],
             [
              0.6666666666666666,
              "#ed7953"
             ],
             [
              0.7777777777777778,
              "#fb9f3a"
             ],
             [
              0.8888888888888888,
              "#fdca26"
             ],
             [
              1,
              "#f0f921"
             ]
            ],
            "type": "surface"
           }
          ],
          "table": [
           {
            "cells": {
             "fill": {
              "color": "#EBF0F8"
             },
             "line": {
              "color": "white"
             }
            },
            "header": {
             "fill": {
              "color": "#C8D4E3"
             },
             "line": {
              "color": "white"
             }
            },
            "type": "table"
           }
          ]
         },
         "layout": {
          "annotationdefaults": {
           "arrowcolor": "#2a3f5f",
           "arrowhead": 0,
           "arrowwidth": 1
          },
          "autotypenumbers": "strict",
          "coloraxis": {
           "colorbar": {
            "outlinewidth": 0,
            "ticks": ""
           }
          },
          "colorscale": {
           "diverging": [
            [
             0,
             "#8e0152"
            ],
            [
             0.1,
             "#c51b7d"
            ],
            [
             0.2,
             "#de77ae"
            ],
            [
             0.3,
             "#f1b6da"
            ],
            [
             0.4,
             "#fde0ef"
            ],
            [
             0.5,
             "#f7f7f7"
            ],
            [
             0.6,
             "#e6f5d0"
            ],
            [
             0.7,
             "#b8e186"
            ],
            [
             0.8,
             "#7fbc41"
            ],
            [
             0.9,
             "#4d9221"
            ],
            [
             1,
             "#276419"
            ]
           ],
           "sequential": [
            [
             0,
             "#0d0887"
            ],
            [
             0.1111111111111111,
             "#46039f"
            ],
            [
             0.2222222222222222,
             "#7201a8"
            ],
            [
             0.3333333333333333,
             "#9c179e"
            ],
            [
             0.4444444444444444,
             "#bd3786"
            ],
            [
             0.5555555555555556,
             "#d8576b"
            ],
            [
             0.6666666666666666,
             "#ed7953"
            ],
            [
             0.7777777777777778,
             "#fb9f3a"
            ],
            [
             0.8888888888888888,
             "#fdca26"
            ],
            [
             1,
             "#f0f921"
            ]
           ],
           "sequentialminus": [
            [
             0,
             "#0d0887"
            ],
            [
             0.1111111111111111,
             "#46039f"
            ],
            [
             0.2222222222222222,
             "#7201a8"
            ],
            [
             0.3333333333333333,
             "#9c179e"
            ],
            [
             0.4444444444444444,
             "#bd3786"
            ],
            [
             0.5555555555555556,
             "#d8576b"
            ],
            [
             0.6666666666666666,
             "#ed7953"
            ],
            [
             0.7777777777777778,
             "#fb9f3a"
            ],
            [
             0.8888888888888888,
             "#fdca26"
            ],
            [
             1,
             "#f0f921"
            ]
           ]
          },
          "colorway": [
           "#636efa",
           "#EF553B",
           "#00cc96",
           "#ab63fa",
           "#FFA15A",
           "#19d3f3",
           "#FF6692",
           "#B6E880",
           "#FF97FF",
           "#FECB52"
          ],
          "font": {
           "color": "#2a3f5f"
          },
          "geo": {
           "bgcolor": "white",
           "lakecolor": "white",
           "landcolor": "#E5ECF6",
           "showlakes": true,
           "showland": true,
           "subunitcolor": "white"
          },
          "hoverlabel": {
           "align": "left"
          },
          "hovermode": "closest",
          "mapbox": {
           "style": "light"
          },
          "paper_bgcolor": "white",
          "plot_bgcolor": "#E5ECF6",
          "polar": {
           "angularaxis": {
            "gridcolor": "white",
            "linecolor": "white",
            "ticks": ""
           },
           "bgcolor": "#E5ECF6",
           "radialaxis": {
            "gridcolor": "white",
            "linecolor": "white",
            "ticks": ""
           }
          },
          "scene": {
           "xaxis": {
            "backgroundcolor": "#E5ECF6",
            "gridcolor": "white",
            "gridwidth": 2,
            "linecolor": "white",
            "showbackground": true,
            "ticks": "",
            "zerolinecolor": "white"
           },
           "yaxis": {
            "backgroundcolor": "#E5ECF6",
            "gridcolor": "white",
            "gridwidth": 2,
            "linecolor": "white",
            "showbackground": true,
            "ticks": "",
            "zerolinecolor": "white"
           },
           "zaxis": {
            "backgroundcolor": "#E5ECF6",
            "gridcolor": "white",
            "gridwidth": 2,
            "linecolor": "white",
            "showbackground": true,
            "ticks": "",
            "zerolinecolor": "white"
           }
          },
          "shapedefaults": {
           "line": {
            "color": "#2a3f5f"
           }
          },
          "ternary": {
           "aaxis": {
            "gridcolor": "white",
            "linecolor": "white",
            "ticks": ""
           },
           "baxis": {
            "gridcolor": "white",
            "linecolor": "white",
            "ticks": ""
           },
           "bgcolor": "#E5ECF6",
           "caxis": {
            "gridcolor": "white",
            "linecolor": "white",
            "ticks": ""
           }
          },
          "title": {
           "x": 0.05
          },
          "xaxis": {
           "automargin": true,
           "gridcolor": "white",
           "linecolor": "white",
           "ticks": "",
           "title": {
            "standoff": 15
           },
           "zerolinecolor": "white",
           "zerolinewidth": 2
          },
          "yaxis": {
           "automargin": true,
           "gridcolor": "white",
           "linecolor": "white",
           "ticks": "",
           "title": {
            "standoff": 15
           },
           "zerolinecolor": "white",
           "zerolinewidth": 2
          }
         }
        },
        "title": {
         "text": "Collocation Points"
        }
       }
      }
     },
     "metadata": {},
     "output_type": "display_data"
    }
   ],
   "source": [
    "scatter = go.Scatter3d(\n",
    "    x=inner_samples[0],\n",
    "    y=inner_samples[1],\n",
    "    z=inner_samples[3],\n",
    "    mode='markers',\n",
    "    marker=dict(\n",
    "        size=3,\n",
    "    ),\n",
    "    name='Interior'\n",
    ")\n",
    "\n",
    "scatter2 = go.Scatter3d(\n",
    "    x=top_samples[0],\n",
    "    y=top_samples[1],\n",
    "    z=top_samples[3],\n",
    "    mode='markers',\n",
    "    marker=dict(\n",
    "        size=3,\n",
    "    ),\n",
    "    name='Top Boundary'\n",
    ")\n",
    "\n",
    "scatter3 = go.Scatter3d(\n",
    "    x=bottom_samples[0],\n",
    "    y=bottom_samples[1],\n",
    "    z=bottom_samples[3],\n",
    "    mode='markers',\n",
    "    marker=dict(\n",
    "        size=3,\n",
    "    ),\n",
    "    name='Bottom Boundary'\n",
    ")\n",
    "\n",
    "scatter4 = go.Scatter3d(\n",
    "    x=initial_samples[0],\n",
    "    y=initial_samples[1],\n",
    "    z=initial_samples[3],\n",
    "    mode='markers',\n",
    "    marker=dict(\n",
    "        size=3,\n",
    "    ),\n",
    "    name='Initial Condition'\n",
    ")\n",
    "\n",
    "fig = go.Figure(data=[scatter, scatter2, scatter3, scatter4])\n",
    "fig.update_layout(\n",
    "    title='Collocation Points',\n",
    "    scene=dict(xaxis_title='t', yaxis_title='s', zaxis_title='V'),\n",
    "    autosize=True,\n",
    ")\n",
    "fig.show()"
   ]
  },
  {
   "cell_type": "markdown",
   "metadata": {},
   "source": [
    "# The neural network"
   ]
  },
  {
   "cell_type": "markdown",
   "metadata": {},
   "source": [
    "In this exercise, we employ a relatively simple feedforward neural network with one hidden layer, a few neurons, and $\\tanh$ activation functions. While more complex architectures may be required for higher-dimensional problems, empirical evidence suggests that a simple network is sufficient for this particular case."
   ]
  },
  {
   "cell_type": "code",
   "execution_count": 571,
   "metadata": {},
   "outputs": [],
   "source": [
    "class PINN(nn.Module):\n",
    "    def __init__(self):\n",
    "        super(PINN, self).__init__()\n",
    "        size = 15\n",
    "        self.hidden_layers = nn.ModuleList([\n",
    "            nn.Linear(2, size),\n",
    "            nn.Linear(size, size),\n",
    "        ])\n",
    "        self.output_layer = nn.Linear(size, 1)\n",
    "\n",
    "    def forward(self, inputs):\n",
    "        x = inputs\n",
    "        for layer in self.hidden_layers:\n",
    "            x = torch.tanh(layer(x))\n",
    "        x = self.output_layer(x)\n",
    "        return x"
   ]
  },
  {
   "cell_type": "markdown",
   "metadata": {},
   "source": [
    "It is also important to initialize the network weights properly, as this can affect the convergence of the solution. Unlike typical machine learning tasks that require large amounts of data, PINNs can often solve PDEs with relatively little (even synthetically generated) data. Therefore, global optimizers such as L-BFGS, which use the entire dataset when updating the weights, are particularly effective."
   ]
  },
  {
   "cell_type": "code",
   "execution_count": 572,
   "metadata": {},
   "outputs": [],
   "source": [
    "def initialize_weights(model):\n",
    "    for layer in model.hidden_layers:\n",
    "        if isinstance(layer, nn.Linear):\n",
    "            nn.init.xavier_uniform_(layer.weight)\n",
    "            nn.init.zeros_(layer.bias)"
   ]
  },
  {
   "cell_type": "markdown",
   "metadata": {},
   "source": [
    "# Training loop"
   ]
  },
  {
   "cell_type": "markdown",
   "metadata": {},
   "source": [
    "Now with all set, we can proceed to train the neural network."
   ]
  },
  {
   "cell_type": "code",
   "execution_count": null,
   "metadata": {},
   "outputs": [],
   "source": [
    "def train_model(model, inputs, outputs, tags, sigma, r, iters=1000):\n",
    "    optimizer = optim.LBFGS(\n",
    "        model.parameters(),\n",
    "        max_iter=iters,\n",
    "        lr=1,\n",
    "        line_search_fn='strong_wolfe',\n",
    "        tolerance_grad=1e-10,\n",
    "        tolerance_change=1e-10\n",
    "    )\n",
    "\n",
    "    loss_history = {'total_loss': []}\n",
    "\n",
    "    def closure():\n",
    "        optimizer.zero_grad()\n",
    "        total_loss = 0\n",
    "\n",
    "        pde_mask = (tags == 0).squeeze()\n",
    "        boundary_mask = (tags == 1).squeeze()\n",
    "\n",
    "        if pde_mask.any():\n",
    "            pde_loss = pde_loss_f(model, inputs[pde_mask], sigma, r)\n",
    "            total_loss += pde_loss\n",
    "\n",
    "        if boundary_mask.any():\n",
    "            boundary_loss = boundary_loss_f(\n",
    "                model, inputs[boundary_mask], outputs[boundary_mask])\n",
    "            total_loss += boundary_loss\n",
    "\n",
    "        print(\n",
    "            f'PDE Loss: {pde_loss.item()} | Boundary Loss: {boundary_loss.item()}', end='\\r')\n",
    "        total_loss.backward()\n",
    "        loss_history['total_loss'].append(total_loss.item())\n",
    "        return total_loss\n",
    "    optimizer.step(closure)\n",
    "    return loss_history"
   ]
  },
  {
   "cell_type": "code",
   "execution_count": null,
   "metadata": {
    "tags": [
     "hide-input"
    ]
   },
   "outputs": [],
   "source": [
    "# input samples\n",
    "inner_s = torch.stack([torch.tensor(x, dtype=torch.float32)\n",
    "                      for x in inner_samples[0:2]], dim=0).T\n",
    "top_s = torch.stack([torch.tensor(x, dtype=torch.float32)\n",
    "                    for x in top_samples[0:2]], dim=0).T\n",
    "bottom_s = torch.stack([torch.tensor(x, dtype=torch.float32)\n",
    "                       for x in bottom_samples[0:2]], dim=0).T\n",
    "initial_s = torch.stack([torch.tensor(x, dtype=torch.float32)\n",
    "                        for x in initial_samples[0:2]], dim=0).T\n",
    "\n",
    "# output\n",
    "inner_output = torch.tensor(inner_samples[3], dtype=torch.float32)\n",
    "top_output = torch.tensor(top_samples[3], dtype=torch.float32)\n",
    "bottom_output = torch.tensor(bottom_samples[3], dtype=torch.float32)\n",
    "initial_output = torch.tensor(initial_samples[3], dtype=torch.float32)\n",
    "\n",
    "# tags\n",
    "inner_tags = torch.tensor(inner_samples[2], dtype=torch.float32)\n",
    "top_tags = torch.tensor(top_samples[2], dtype=torch.float32)\n",
    "bottom_tags = torch.tensor(bottom_samples[2], dtype=torch.float32)\n",
    "initial_tags = torch.tensor(initial_samples[2], dtype=torch.float32)\n",
    "\n",
    "# concatenate\n",
    "inputs = torch.cat([inner_s, top_s, bottom_s, initial_s], dim=0)\n",
    "outputs = torch.cat([inner_output, top_output, bottom_output,\n",
    "                    initial_output], dim=0).reshape(-1, 1)\n",
    "tags = torch.cat([inner_tags, top_tags, bottom_tags,\n",
    "                 initial_tags], dim=0).reshape(-1, 1)\n",
    "\n",
    "# suffle\n",
    "idx = torch.randperm(inputs.size(0))\n",
    "inputs = inputs[idx]\n",
    "outputs = outputs[idx]\n",
    "tags = tags[idx]"
   ]
  },
  {
   "cell_type": "code",
   "execution_count": 575,
   "metadata": {},
   "outputs": [
    {
     "name": "stdout",
     "output_type": "stream",
     "text": [
      "PDE Loss: 0.004296849947422743 | Boundary Loss: 0.00451153377071023125\r"
     ]
    }
   ],
   "source": [
    "model = PINN().to(device)\n",
    "initialize_weights(model)\n",
    "loss_history = train_model(model, inputs, outputs,\n",
    "                           tags, config['sigma'], config['r'], iters=10000)"
   ]
  },
  {
   "cell_type": "markdown",
   "metadata": {},
   "source": [
    "# Results"
   ]
  },
  {
   "cell_type": "markdown",
   "metadata": {},
   "source": [
    "Let's see how the neural network performs in pricing the option. We will compare the network's predictions against the true option price obtained from the Black-Scholes formula, but first let's look at the loss evolution during training."
   ]
  },
  {
   "cell_type": "code",
   "execution_count": 576,
   "metadata": {
    "tags": [
     "remove-cell"
    ]
   },
   "outputs": [
    {
     "data": {
      "application/vnd.plotly.v1+json": {
       "config": {
        "plotlyServerURL": "https://plot.ly"
       },
       "data": [
        {
         "mode": "lines",
         "type": "scatter",
         "y": [
          864.9766845703125,
          850.4014282226562,
          741.3380126953125,
          417.5127868652344,
          551.52294921875,
          210.9185791015625,
          321.198974609375,
          207.29806518554688,
          205.70867919921875,
          198.2485809326172,
          194.14617919921875,
          191.5462188720703,
          197.52989196777344,
          192.10592651367188,
          191.25025939941406,
          206.16098022460938,
          192.417724609375,
          191.09112548828125,
          190.335205078125,
          187.38803100585938,
          184.2539520263672,
          183.22427368164062,
          182.3807373046875,
          180.51625061035156,
          171.14505004882812,
          422.2754821777344,
          169.09454345703125,
          165.14309692382812,
          329.1578369140625,
          163.7521209716797,
          159.63327026367188,
          157.568359375,
          152.94473266601562,
          152.82933044433594,
          288.01300048828125,
          155.0038604736328,
          152.63058471679688,
          139.17701721191406,
          132.5947265625,
          127.30697631835938,
          125.6325454711914,
          122.74278259277344,
          119.19804382324219,
          111.2937240600586,
          106.39885711669922,
          105.05943298339844,
          103.13264465332031,
          100.09432220458984,
          89.37813568115234,
          67.54074096679688,
          47.22706604003906,
          28.75055503845215,
          22.57341766357422,
          46.346717834472656,
          19.960481643676758,
          17.258520126342773,
          15.827875137329102,
          14.459932327270508,
          13.882892608642578,
          13.30293083190918,
          12.498151779174805,
          12.485194206237793,
          11.388483047485352,
          9.90255069732666,
          8.501389503479004,
          7.454330921173096,
          6.735771179199219,
          5.5214738845825195,
          4.915860176086426,
          4.395883560180664,
          3.978295087814331,
          3.722379207611084,
          3.5184078216552734,
          3.364078998565674,
          3.102937936782837,
          2.9374356269836426,
          4.155128002166748,
          2.8764474391937256,
          2.7153470516204834,
          2.6174073219299316,
          2.557619571685791,
          2.5396485328674316,
          2.4989335536956787,
          2.3054919242858887,
          2.4240355491638184,
          2.1813085079193115,
          2.1059117317199707,
          2.0564770698547363,
          2.019116163253784,
          1.985748052597046,
          1.8667895793914795,
          1.801128625869751,
          1.761643886566162,
          1.7107524871826172,
          1.6512150764465332,
          1.606283187866211,
          1.5802805423736572,
          1.545088291168213,
          1.5248348712921143,
          1.5169737339019775,
          1.500781536102295,
          1.4894130229949951,
          1.4831491708755493,
          1.4682767391204834,
          1.4422109127044678,
          1.4095654487609863,
          1.460007667541504,
          1.394914984703064,
          1.3622150421142578,
          1.345613956451416,
          1.3359336853027344,
          1.3306981325149536,
          1.312774658203125,
          1.2847590446472168,
          1.2390236854553223,
          1.2041974067687988,
          1.1941072940826416,
          1.1899114847183228,
          1.18072509765625,
          1.1662992238998413,
          1.1382136344909668,
          1.0866138935089111,
          0.9874778389930725,
          0.8734927177429199,
          0.7816720008850098,
          0.8019980192184448,
          0.7454632520675659,
          0.7289022207260132,
          0.7162123918533325,
          0.6947289705276489,
          0.676119863986969,
          0.6316666007041931,
          0.5596301555633545,
          0.4742286205291748,
          0.4031398892402649,
          0.3311409652233124,
          0.3300893008708954,
          0.3111972212791443,
          0.2794962525367737,
          0.24889293313026428,
          0.20789143443107605,
          0.16061756014823914,
          0.13607144355773926,
          0.12438585609197617,
          0.12255017459392548,
          0.11866538226604462,
          0.11756173521280289,
          0.11637318134307861,
          0.1156352162361145,
          0.11534121632575989,
          0.11522351205348969,
          0.11514941602945328,
          0.1150984913110733,
          0.11504912376403809,
          0.1150074154138565,
          0.11495134979486465,
          0.11489668488502502,
          0.11484876275062561,
          0.11476048082113266,
          0.11459137499332428,
          0.1142430379986763,
          0.11356498301029205,
          0.11225682497024536,
          0.10970690846443176,
          0.1048906221985817,
          0.09793971478939056,
          0.08808519691228867,
          0.0788288488984108,
          0.07684490084648132,
          0.07403572648763657,
          0.07267849147319794,
          0.07207338511943817,
          0.07169471681118011,
          0.07139343023300171,
          0.07111509144306183,
          0.07106779515743256,
          0.07104690372943878,
          0.07102887332439423,
          0.07095994055271149,
          0.07090616226196289,
          0.07069538533687592,
          0.06880881637334824,
          0.06487824022769928,
          0.0568157434463501,
          0.05374421924352646,
          0.0496707521378994,
          0.04573023319244385,
          0.04585713893175125,
          0.04484931379556656,
          0.04370375722646713,
          0.04220806807279587,
          0.04143940284848213,
          0.04074939712882042,
          0.04047869145870209,
          0.040367890149354935,
          0.040317632257938385,
          0.040282316505908966,
          0.04026341438293457,
          0.04025121033191681,
          0.04025033116340637,
          0.040248945355415344,
          0.04023981839418411,
          0.04022889584302902,
          0.04019850492477417,
          0.040145114064216614,
          0.04002854973077774,
          0.039774395525455475,
          0.039173468947410583,
          0.03816744685173035,
          0.03704044222831726,
          0.03555561602115631,
          0.03914246708154678,
          0.03459319472312927,
          0.037097394466400146,
          0.03430495038628578,
          0.033760860562324524,
          0.03314419835805893,
          0.03291928023099899,
          0.03281652182340622,
          0.03269742801785469,
          0.032530106604099274,
          0.03247509151697159,
          0.03229817748069763,
          0.03189839795231819,
          0.031271230429410934,
          0.04538222774863243,
          0.03116442635655403,
          0.03110000118613243,
          0.030790960416197777,
          0.030418897047638893,
          0.035724084824323654,
          0.030092298984527588,
          0.02948152832686901,
          0.02923629805445671,
          0.029117077589035034,
          0.028756659477949142,
          0.028751131147146225,
          0.028556376695632935,
          0.028604913502931595,
          0.02817133441567421,
          0.027712777256965637,
          0.026748426258563995,
          0.02585725300014019,
          0.024811532348394394,
          0.024635449051856995,
          0.025316108018159866,
          0.02452719956636429,
          0.024400196969509125,
          0.024246426299214363,
          0.024063777178525925,
          0.0239417627453804,
          0.02389499545097351,
          0.023847827687859535,
          0.023749377578496933,
          0.02362055703997612,
          0.023503774777054787,
          0.023407988250255585,
          0.02329842373728752,
          0.023188501596450806,
          0.023168325424194336,
          0.023085711523890495,
          0.023022575303912163,
          0.022977549582719803,
          0.023731060326099396,
          0.02288823015987873,
          0.022798923775553703,
          0.022641275078058243,
          0.022603005170822144,
          0.022448062896728516,
          0.022374432533979416,
          0.022279711440205574,
          0.02386479265987873,
          0.02217438630759716,
          0.0220619086176157,
          0.021868525072932243,
          0.021865613758563995,
          0.02173660695552826,
          0.02152329683303833,
          0.021286802366375923,
          0.021073272451758385,
          0.02092907950282097,
          0.020847631618380547,
          0.020810816437005997,
          0.0207662433385849,
          0.02074350416660309,
          0.02071581780910492,
          0.02068568766117096,
          0.020678304135799408,
          0.020654145628213882,
          0.020612262189388275,
          0.020576251670718193,
          0.02053481712937355,
          0.020464632660150528,
          0.020500704646110535,
          0.02045685052871704,
          0.020427774637937546,
          0.02039821445941925,
          0.020375646650791168,
          0.02035781368613243,
          0.02034129574894905,
          0.020329896360635757,
          0.0203230157494545,
          0.02031080052256584,
          0.02029123716056347,
          0.020261021330952644,
          0.020215284079313278,
          0.02015696093440056,
          0.020161736756563187,
          0.020115941762924194,
          0.020065102726221085,
          0.020036015659570694,
          0.020010698586702347,
          0.019983286038041115,
          0.019980426877737045,
          0.01996528171002865,
          0.019934426993131638,
          0.01992020197212696,
          0.019913610070943832,
          0.01991574466228485,
          0.01990204118192196,
          0.01989148184657097,
          0.019882772117853165,
          0.019874142482876778,
          0.019865605980157852,
          0.019858624786138535,
          0.019853772595524788,
          0.019842462614178658,
          0.019826162606477737,
          0.019801851361989975,
          0.019800763577222824,
          0.01980440691113472,
          0.019777383655309677,
          0.019778672605752945,
          0.019763106480240822,
          0.019759153947234154,
          0.019753431901335716,
          0.019749054685235023,
          0.019741863012313843,
          0.019717451184988022,
          0.01970745623111725,
          0.019692616537213326,
          0.019687417894601822,
          0.01967599056661129,
          0.01966540515422821,
          0.01963655650615692,
          0.019574610516428947,
          0.019540123641490936,
          0.019531510770320892,
          0.019519368186593056,
          0.019500814378261566,
          0.01949591375887394,
          0.019490830600261688,
          0.01948368549346924,
          0.019469188526272774,
          0.019435051828622818,
          0.019543882459402084,
          0.019410282373428345,
          0.019302813336253166,
          0.01891537383198738,
          0.018280521035194397,
          780.860595703125,
          0.01828046701848507,
          0.01885925978422165,
          0.017992280423641205,
          0.05428450554609299,
          0.018580108880996704,
          0.017760172486305237,
          0.016929991543293,
          0.017357682809233665,
          0.016779514029622078,
          0.016780853271484375,
          0.016650622710585594,
          0.01654559001326561,
          0.016533277928829193,
          0.016462719067931175,
          0.016389839351177216,
          0.01630214974284172,
          0.01624567061662674,
          0.016186797991394997,
          0.01614595390856266,
          0.01614464819431305,
          0.0161285400390625,
          0.01608905754983425,
          0.01604689098894596,
          0.01601659134030342,
          0.01587112620472908,
          0.0156979002058506,
          0.015902966260910034,
          0.015574425458908081,
          0.015381773002445698,
          0.015230969525873661,
          0.015003103762865067,
          0.015058863908052444,
          0.014879113994538784,
          0.0145375682041049,
          0.014446457847952843,
          0.014358161948621273,
          0.014460613019764423,
          0.01433502696454525,
          0.0142604885622859,
          0.014134736731648445,
          0.014096932485699654,
          0.014089816249907017,
          0.01407200563699007,
          0.014028258621692657,
          0.013989897444844246,
          0.013924303464591503,
          0.013863366097211838,
          0.013737257570028305,
          0.013609569519758224,
          0.023043522611260414,
          0.013507205992937088,
          0.013264697045087814,
          0.013077091425657272,
          0.013022910803556442,
          0.012980228289961815,
          0.01294026244431734,
          0.012894260697066784,
          0.012860213406383991,
          0.012822819873690605,
          0.01278824545443058,
          0.012771272100508213,
          0.012757383286952972,
          0.012726275250315666,
          0.012692752294242382,
          0.012651922181248665,
          0.012642033398151398,
          0.012616529129445553,
          0.012601296417415142,
          0.012545719742774963,
          0.012491383589804173,
          0.01238408125936985,
          0.012420645914971828,
          0.012310619466006756,
          0.01215837150812149,
          0.011830742470920086,
          0.011581448838114738,
          0.011570801958441734,
          0.011442720890045166,
          0.011270172894001007,
          0.011143661104142666,
          0.010976232588291168,
          0.010874235071241856,
          0.010614260099828243,
          0.010616963729262352,
          0.010481102392077446,
          0.010376431047916412,
          0.010435698553919792,
          0.01033509336411953,
          0.010292709805071354,
          0.010261284187436104,
          0.010247983038425446,
          0.010230818763375282,
          0.010208724066615105,
          0.010184509679675102,
          0.010145403444766998,
          0.010075537487864494,
          0.00995749980211258,
          0.009982065297663212,
          0.00991472415626049,
          0.009887845255434513,
          0.009876523166894913,
          0.009843744337558746,
          0.009814011864364147,
          0.009794961661100388,
          0.009748963639140129,
          0.00972600094974041,
          0.009920773096382618,
          0.009711364284157753,
          0.009691079147160053,
          0.009671637788414955,
          0.00966661423444748,
          0.009654061868786812,
          0.009648122824728489,
          0.009639979340136051,
          0.009634846821427345,
          0.009631011635065079,
          0.009624669328331947,
          0.00961623527109623,
          0.009603023529052734,
          0.009607895277440548,
          0.009587876498699188,
          0.009574225172400475,
          0.009558474645018578,
          0.00968746468424797,
          0.009544876404106617,
          0.009527154266834259,
          0.00951192807406187,
          0.00957349594682455,
          0.009479338303208351,
          0.009437359869480133,
          0.009418203495442867,
          0.009378154762089252,
          0.009378733113408089,
          0.009362732991576195,
          0.009350692853331566,
          0.009326843544840813,
          0.009321164339780807,
          0.009317640215158463,
          0.009315039962530136,
          0.00931256078183651,
          0.009311351925134659,
          0.009310959838330746,
          0.009308528155088425,
          0.009305862709879875,
          0.009304597973823547,
          0.009303987957537174,
          0.009303169324994087,
          0.00930142030119896,
          0.009297591634094715,
          0.009291529655456543,
          0.009290081448853016,
          0.009287552908062935,
          0.009279903024435043,
          0.009273078292608261,
          0.009263504296541214,
          0.009259473532438278,
          0.009256849996745586,
          0.009251672774553299,
          0.009249991737306118,
          0.009247616864740849,
          0.009244807064533234,
          0.009238291531801224,
          0.009237555786967278,
          0.00923486240208149,
          0.00923134759068489,
          0.009225373156368732,
          0.009225240908563137,
          0.009222567081451416,
          0.009217601269483566,
          0.009213201701641083,
          0.009199927560985088,
          0.009217560291290283,
          0.009197257459163666,
          0.009183673188090324,
          0.009167760610580444,
          0.009145018644630909,
          0.009425356984138489,
          0.009134357795119286,
          0.0091967498883605,
          0.009106025099754333,
          0.009103961288928986,
          0.009072537533938885,
          0.009105728939175606,
          0.009062504395842552,
          0.009049123153090477,
          0.009034289047122002,
          0.009020241908729076,
          0.008993564173579216,
          0.00898553617298603,
          0.008967551402747631,
          0.008946998044848442,
          0.008967856876552105,
          0.00893271341919899,
          0.008910328149795532,
          0.008893749676644802,
          0.00889015942811966,
          0.00911572203040123,
          0.008872320875525475,
          0.008856292814016342,
          0.008850696496665478,
          0.008846189826726913,
          0.008840071968734264,
          0.008830348961055279,
          0.008826170116662979,
          0.008934523910284042,
          0.008825121447443962,
          0.00881834514439106,
          0.0088272076100111,
          0.00881662406027317,
          0.008813446387648582,
          0.008811096660792828,
          0.008810210041701794,
          0.008809749037027359,
          0.008810663595795631,
          0.00880949106067419,
          0.00880919024348259,
          0.008809035643935204,
          0.008808987215161324,
          0.008808936923742294,
          0.008808868005871773,
          0.008808804675936699,
          0.008808739483356476,
          0.00880868174135685,
          0.008808622136712074,
          0.008808559738099575,
          0.008808501064777374,
          0.008808434009552002,
          0.00880841352045536,
          0.008808392100036144,
          0.008808394894003868,
          0.008808383718132973,
          0.008808395825326443,
          0.008808398619294167,
          0.008808393031358719,
          0.008808383718132973
         ]
        }
       ],
       "layout": {
        "template": {
         "data": {
          "bar": [
           {
            "error_x": {
             "color": "#2a3f5f"
            },
            "error_y": {
             "color": "#2a3f5f"
            },
            "marker": {
             "line": {
              "color": "#E5ECF6",
              "width": 0.5
             },
             "pattern": {
              "fillmode": "overlay",
              "size": 10,
              "solidity": 0.2
             }
            },
            "type": "bar"
           }
          ],
          "barpolar": [
           {
            "marker": {
             "line": {
              "color": "#E5ECF6",
              "width": 0.5
             },
             "pattern": {
              "fillmode": "overlay",
              "size": 10,
              "solidity": 0.2
             }
            },
            "type": "barpolar"
           }
          ],
          "carpet": [
           {
            "aaxis": {
             "endlinecolor": "#2a3f5f",
             "gridcolor": "white",
             "linecolor": "white",
             "minorgridcolor": "white",
             "startlinecolor": "#2a3f5f"
            },
            "baxis": {
             "endlinecolor": "#2a3f5f",
             "gridcolor": "white",
             "linecolor": "white",
             "minorgridcolor": "white",
             "startlinecolor": "#2a3f5f"
            },
            "type": "carpet"
           }
          ],
          "choropleth": [
           {
            "colorbar": {
             "outlinewidth": 0,
             "ticks": ""
            },
            "type": "choropleth"
           }
          ],
          "contour": [
           {
            "colorbar": {
             "outlinewidth": 0,
             "ticks": ""
            },
            "colorscale": [
             [
              0,
              "#0d0887"
             ],
             [
              0.1111111111111111,
              "#46039f"
             ],
             [
              0.2222222222222222,
              "#7201a8"
             ],
             [
              0.3333333333333333,
              "#9c179e"
             ],
             [
              0.4444444444444444,
              "#bd3786"
             ],
             [
              0.5555555555555556,
              "#d8576b"
             ],
             [
              0.6666666666666666,
              "#ed7953"
             ],
             [
              0.7777777777777778,
              "#fb9f3a"
             ],
             [
              0.8888888888888888,
              "#fdca26"
             ],
             [
              1,
              "#f0f921"
             ]
            ],
            "type": "contour"
           }
          ],
          "contourcarpet": [
           {
            "colorbar": {
             "outlinewidth": 0,
             "ticks": ""
            },
            "type": "contourcarpet"
           }
          ],
          "heatmap": [
           {
            "colorbar": {
             "outlinewidth": 0,
             "ticks": ""
            },
            "colorscale": [
             [
              0,
              "#0d0887"
             ],
             [
              0.1111111111111111,
              "#46039f"
             ],
             [
              0.2222222222222222,
              "#7201a8"
             ],
             [
              0.3333333333333333,
              "#9c179e"
             ],
             [
              0.4444444444444444,
              "#bd3786"
             ],
             [
              0.5555555555555556,
              "#d8576b"
             ],
             [
              0.6666666666666666,
              "#ed7953"
             ],
             [
              0.7777777777777778,
              "#fb9f3a"
             ],
             [
              0.8888888888888888,
              "#fdca26"
             ],
             [
              1,
              "#f0f921"
             ]
            ],
            "type": "heatmap"
           }
          ],
          "histogram": [
           {
            "marker": {
             "pattern": {
              "fillmode": "overlay",
              "size": 10,
              "solidity": 0.2
             }
            },
            "type": "histogram"
           }
          ],
          "histogram2d": [
           {
            "colorbar": {
             "outlinewidth": 0,
             "ticks": ""
            },
            "colorscale": [
             [
              0,
              "#0d0887"
             ],
             [
              0.1111111111111111,
              "#46039f"
             ],
             [
              0.2222222222222222,
              "#7201a8"
             ],
             [
              0.3333333333333333,
              "#9c179e"
             ],
             [
              0.4444444444444444,
              "#bd3786"
             ],
             [
              0.5555555555555556,
              "#d8576b"
             ],
             [
              0.6666666666666666,
              "#ed7953"
             ],
             [
              0.7777777777777778,
              "#fb9f3a"
             ],
             [
              0.8888888888888888,
              "#fdca26"
             ],
             [
              1,
              "#f0f921"
             ]
            ],
            "type": "histogram2d"
           }
          ],
          "histogram2dcontour": [
           {
            "colorbar": {
             "outlinewidth": 0,
             "ticks": ""
            },
            "colorscale": [
             [
              0,
              "#0d0887"
             ],
             [
              0.1111111111111111,
              "#46039f"
             ],
             [
              0.2222222222222222,
              "#7201a8"
             ],
             [
              0.3333333333333333,
              "#9c179e"
             ],
             [
              0.4444444444444444,
              "#bd3786"
             ],
             [
              0.5555555555555556,
              "#d8576b"
             ],
             [
              0.6666666666666666,
              "#ed7953"
             ],
             [
              0.7777777777777778,
              "#fb9f3a"
             ],
             [
              0.8888888888888888,
              "#fdca26"
             ],
             [
              1,
              "#f0f921"
             ]
            ],
            "type": "histogram2dcontour"
           }
          ],
          "mesh3d": [
           {
            "colorbar": {
             "outlinewidth": 0,
             "ticks": ""
            },
            "type": "mesh3d"
           }
          ],
          "parcoords": [
           {
            "line": {
             "colorbar": {
              "outlinewidth": 0,
              "ticks": ""
             }
            },
            "type": "parcoords"
           }
          ],
          "pie": [
           {
            "automargin": true,
            "type": "pie"
           }
          ],
          "scatter": [
           {
            "fillpattern": {
             "fillmode": "overlay",
             "size": 10,
             "solidity": 0.2
            },
            "type": "scatter"
           }
          ],
          "scatter3d": [
           {
            "line": {
             "colorbar": {
              "outlinewidth": 0,
              "ticks": ""
             }
            },
            "marker": {
             "colorbar": {
              "outlinewidth": 0,
              "ticks": ""
             }
            },
            "type": "scatter3d"
           }
          ],
          "scattercarpet": [
           {
            "marker": {
             "colorbar": {
              "outlinewidth": 0,
              "ticks": ""
             }
            },
            "type": "scattercarpet"
           }
          ],
          "scattergeo": [
           {
            "marker": {
             "colorbar": {
              "outlinewidth": 0,
              "ticks": ""
             }
            },
            "type": "scattergeo"
           }
          ],
          "scattergl": [
           {
            "marker": {
             "colorbar": {
              "outlinewidth": 0,
              "ticks": ""
             }
            },
            "type": "scattergl"
           }
          ],
          "scattermap": [
           {
            "marker": {
             "colorbar": {
              "outlinewidth": 0,
              "ticks": ""
             }
            },
            "type": "scattermap"
           }
          ],
          "scattermapbox": [
           {
            "marker": {
             "colorbar": {
              "outlinewidth": 0,
              "ticks": ""
             }
            },
            "type": "scattermapbox"
           }
          ],
          "scatterpolar": [
           {
            "marker": {
             "colorbar": {
              "outlinewidth": 0,
              "ticks": ""
             }
            },
            "type": "scatterpolar"
           }
          ],
          "scatterpolargl": [
           {
            "marker": {
             "colorbar": {
              "outlinewidth": 0,
              "ticks": ""
             }
            },
            "type": "scatterpolargl"
           }
          ],
          "scatterternary": [
           {
            "marker": {
             "colorbar": {
              "outlinewidth": 0,
              "ticks": ""
             }
            },
            "type": "scatterternary"
           }
          ],
          "surface": [
           {
            "colorbar": {
             "outlinewidth": 0,
             "ticks": ""
            },
            "colorscale": [
             [
              0,
              "#0d0887"
             ],
             [
              0.1111111111111111,
              "#46039f"
             ],
             [
              0.2222222222222222,
              "#7201a8"
             ],
             [
              0.3333333333333333,
              "#9c179e"
             ],
             [
              0.4444444444444444,
              "#bd3786"
             ],
             [
              0.5555555555555556,
              "#d8576b"
             ],
             [
              0.6666666666666666,
              "#ed7953"
             ],
             [
              0.7777777777777778,
              "#fb9f3a"
             ],
             [
              0.8888888888888888,
              "#fdca26"
             ],
             [
              1,
              "#f0f921"
             ]
            ],
            "type": "surface"
           }
          ],
          "table": [
           {
            "cells": {
             "fill": {
              "color": "#EBF0F8"
             },
             "line": {
              "color": "white"
             }
            },
            "header": {
             "fill": {
              "color": "#C8D4E3"
             },
             "line": {
              "color": "white"
             }
            },
            "type": "table"
           }
          ]
         },
         "layout": {
          "annotationdefaults": {
           "arrowcolor": "#2a3f5f",
           "arrowhead": 0,
           "arrowwidth": 1
          },
          "autotypenumbers": "strict",
          "coloraxis": {
           "colorbar": {
            "outlinewidth": 0,
            "ticks": ""
           }
          },
          "colorscale": {
           "diverging": [
            [
             0,
             "#8e0152"
            ],
            [
             0.1,
             "#c51b7d"
            ],
            [
             0.2,
             "#de77ae"
            ],
            [
             0.3,
             "#f1b6da"
            ],
            [
             0.4,
             "#fde0ef"
            ],
            [
             0.5,
             "#f7f7f7"
            ],
            [
             0.6,
             "#e6f5d0"
            ],
            [
             0.7,
             "#b8e186"
            ],
            [
             0.8,
             "#7fbc41"
            ],
            [
             0.9,
             "#4d9221"
            ],
            [
             1,
             "#276419"
            ]
           ],
           "sequential": [
            [
             0,
             "#0d0887"
            ],
            [
             0.1111111111111111,
             "#46039f"
            ],
            [
             0.2222222222222222,
             "#7201a8"
            ],
            [
             0.3333333333333333,
             "#9c179e"
            ],
            [
             0.4444444444444444,
             "#bd3786"
            ],
            [
             0.5555555555555556,
             "#d8576b"
            ],
            [
             0.6666666666666666,
             "#ed7953"
            ],
            [
             0.7777777777777778,
             "#fb9f3a"
            ],
            [
             0.8888888888888888,
             "#fdca26"
            ],
            [
             1,
             "#f0f921"
            ]
           ],
           "sequentialminus": [
            [
             0,
             "#0d0887"
            ],
            [
             0.1111111111111111,
             "#46039f"
            ],
            [
             0.2222222222222222,
             "#7201a8"
            ],
            [
             0.3333333333333333,
             "#9c179e"
            ],
            [
             0.4444444444444444,
             "#bd3786"
            ],
            [
             0.5555555555555556,
             "#d8576b"
            ],
            [
             0.6666666666666666,
             "#ed7953"
            ],
            [
             0.7777777777777778,
             "#fb9f3a"
            ],
            [
             0.8888888888888888,
             "#fdca26"
            ],
            [
             1,
             "#f0f921"
            ]
           ]
          },
          "colorway": [
           "#636efa",
           "#EF553B",
           "#00cc96",
           "#ab63fa",
           "#FFA15A",
           "#19d3f3",
           "#FF6692",
           "#B6E880",
           "#FF97FF",
           "#FECB52"
          ],
          "font": {
           "color": "#2a3f5f"
          },
          "geo": {
           "bgcolor": "white",
           "lakecolor": "white",
           "landcolor": "#E5ECF6",
           "showlakes": true,
           "showland": true,
           "subunitcolor": "white"
          },
          "hoverlabel": {
           "align": "left"
          },
          "hovermode": "closest",
          "mapbox": {
           "style": "light"
          },
          "paper_bgcolor": "white",
          "plot_bgcolor": "#E5ECF6",
          "polar": {
           "angularaxis": {
            "gridcolor": "white",
            "linecolor": "white",
            "ticks": ""
           },
           "bgcolor": "#E5ECF6",
           "radialaxis": {
            "gridcolor": "white",
            "linecolor": "white",
            "ticks": ""
           }
          },
          "scene": {
           "xaxis": {
            "backgroundcolor": "#E5ECF6",
            "gridcolor": "white",
            "gridwidth": 2,
            "linecolor": "white",
            "showbackground": true,
            "ticks": "",
            "zerolinecolor": "white"
           },
           "yaxis": {
            "backgroundcolor": "#E5ECF6",
            "gridcolor": "white",
            "gridwidth": 2,
            "linecolor": "white",
            "showbackground": true,
            "ticks": "",
            "zerolinecolor": "white"
           },
           "zaxis": {
            "backgroundcolor": "#E5ECF6",
            "gridcolor": "white",
            "gridwidth": 2,
            "linecolor": "white",
            "showbackground": true,
            "ticks": "",
            "zerolinecolor": "white"
           }
          },
          "shapedefaults": {
           "line": {
            "color": "#2a3f5f"
           }
          },
          "ternary": {
           "aaxis": {
            "gridcolor": "white",
            "linecolor": "white",
            "ticks": ""
           },
           "baxis": {
            "gridcolor": "white",
            "linecolor": "white",
            "ticks": ""
           },
           "bgcolor": "#E5ECF6",
           "caxis": {
            "gridcolor": "white",
            "linecolor": "white",
            "ticks": ""
           }
          },
          "title": {
           "x": 0.05
          },
          "xaxis": {
           "automargin": true,
           "gridcolor": "white",
           "linecolor": "white",
           "ticks": "",
           "title": {
            "standoff": 15
           },
           "zerolinecolor": "white",
           "zerolinewidth": 2
          },
          "yaxis": {
           "automargin": true,
           "gridcolor": "white",
           "linecolor": "white",
           "ticks": "",
           "title": {
            "standoff": 15
           },
           "zerolinecolor": "white",
           "zerolinewidth": 2
          }
         }
        },
        "title": {
         "text": "Total Loss"
        },
        "xaxis": {
         "title": {
          "text": "Iteration"
         }
        },
        "yaxis": {
         "title": {
          "text": "Loss (log scale)"
         },
         "type": "log"
        }
       }
      }
     },
     "metadata": {},
     "output_type": "display_data"
    }
   ],
   "source": [
    "# Plot loss with axis labels in log scale\n",
    "fig = go.Figure()\n",
    "fig.add_trace(go.Scatter(y=loss_history['total_loss'], mode='lines'))\n",
    "fig.update_layout(\n",
    "    title='Total Loss',\n",
    "    xaxis_title='Iteration',\n",
    "    yaxis=dict(\n",
    "        title='Loss (log scale)',\n",
    "        type='log'\n",
    "    )\n",
    ")\n",
    "fig.show()"
   ]
  },
  {
   "cell_type": "code",
   "execution_count": 592,
   "metadata": {
    "tags": [
     "remove-cell"
    ]
   },
   "outputs": [
    {
     "data": {
      "application/vnd.plotly.v1+json": {
       "config": {
        "plotlyServerURL": "https://plot.ly"
       },
       "data": [
        {
         "colorscale": [
          [
           0,
           "rgb(11,3,5)"
          ],
          [
           0.010101010101010102,
           "rgb(13,4,7)"
          ],
          [
           0.020202020202020204,
           "rgb(16,7,11)"
          ],
          [
           0.030303030303030304,
           "rgb(18,8,14)"
          ],
          [
           0.04040404040404041,
           "rgb(21,11,19)"
          ],
          [
           0.050505050505050504,
           "rgb(23,12,22)"
          ],
          [
           0.06060606060606061,
           "rgb(26,15,26)"
          ],
          [
           0.0707070707070707,
           "rgb(29,17,30)"
          ],
          [
           0.08080808080808081,
           "rgb(31,18,33)"
          ],
          [
           0.09090909090909091,
           "rgb(34,21,38)"
          ],
          [
           0.10101010101010101,
           "rgb(36,22,41)"
          ],
          [
           0.1111111111111111,
           "rgb(39,24,46)"
          ],
          [
           0.12121212121212122,
           "rgb(42,26,50)"
          ],
          [
           0.13131313131313133,
           "rgb(43,28,54)"
          ],
          [
           0.1414141414141414,
           "rgb(46,30,58)"
          ],
          [
           0.15151515151515152,
           "rgb(47,31,62)"
          ],
          [
           0.16161616161616163,
           "rgb(50,34,67)"
          ],
          [
           0.1717171717171717,
           "rgb(51,35,70)"
          ],
          [
           0.18181818181818182,
           "rgb(53,38,75)"
          ],
          [
           0.1919191919191919,
           "rgb(55,40,80)"
          ],
          [
           0.20202020202020202,
           "rgb(56,42,84)"
          ],
          [
           0.21212121212121213,
           "rgb(58,44,89)"
          ],
          [
           0.2222222222222222,
           "rgb(59,46,92)"
          ],
          [
           0.23232323232323232,
           "rgb(60,48,98)"
          ],
          [
           0.24242424242424243,
           "rgb(61,51,103)"
          ],
          [
           0.25252525252525254,
           "rgb(62,52,107)"
          ],
          [
           0.26262626262626265,
           "rgb(63,55,112)"
          ],
          [
           0.2727272727272727,
           "rgb(63,57,116)"
          ],
          [
           0.2828282828282828,
           "rgb(64,59,121)"
          ],
          [
           0.29292929292929293,
           "rgb(64,61,124)"
          ],
          [
           0.30303030303030304,
           "rgb(64,64,130)"
          ],
          [
           0.31313131313131315,
           "rgb(64,67,134)"
          ],
          [
           0.32323232323232326,
           "rgb(64,69,137)"
          ],
          [
           0.3333333333333333,
           "rgb(63,72,142)"
          ],
          [
           0.3434343434343434,
           "rgb(63,75,144)"
          ],
          [
           0.35353535353535354,
           "rgb(61,78,147)"
          ],
          [
           0.36363636363636365,
           "rgb(60,82,150)"
          ],
          [
           0.37373737373737376,
           "rgb(59,84,151)"
          ],
          [
           0.3838383838383838,
           "rgb(58,88,153)"
          ],
          [
           0.3939393939393939,
           "rgb(57,90,154)"
          ],
          [
           0.40404040404040403,
           "rgb(56,94,155)"
          ],
          [
           0.41414141414141414,
           "rgb(55,97,157)"
          ],
          [
           0.42424242424242425,
           "rgb(55,100,157)"
          ],
          [
           0.43434343434343436,
           "rgb(54,103,158)"
          ],
          [
           0.4444444444444444,
           "rgb(54,105,159)"
          ],
          [
           0.45454545454545453,
           "rgb(53,109,159)"
          ],
          [
           0.46464646464646464,
           "rgb(53,111,160)"
          ],
          [
           0.47474747474747475,
           "rgb(53,115,160)"
          ],
          [
           0.48484848484848486,
           "rgb(53,118,161)"
          ],
          [
           0.494949494949495,
           "rgb(52,120,162)"
          ],
          [
           0.5050505050505051,
           "rgb(52,124,162)"
          ],
          [
           0.5151515151515151,
           "rgb(52,126,163)"
          ],
          [
           0.5252525252525253,
           "rgb(52,129,164)"
          ],
          [
           0.5353535353535354,
           "rgb(52,132,165)"
          ],
          [
           0.5454545454545454,
           "rgb(52,135,165)"
          ],
          [
           0.5555555555555556,
           "rgb(51,138,166)"
          ],
          [
           0.5656565656565656,
           "rgb(51,140,166)"
          ],
          [
           0.5757575757575758,
           "rgb(51,144,167)"
          ],
          [
           0.5858585858585859,
           "rgb(51,146,168)"
          ],
          [
           0.5959595959595959,
           "rgb(52,149,168)"
          ],
          [
           0.6060606060606061,
           "rgb(52,153,169)"
          ],
          [
           0.6161616161616161,
           "rgb(52,155,169)"
          ],
          [
           0.6262626262626263,
           "rgb(53,158,170)"
          ],
          [
           0.6363636363636364,
           "rgb(53,160,170)"
          ],
          [
           0.6464646464646465,
           "rgb(54,164,171)"
          ],
          [
           0.6565656565656566,
           "rgb(55,167,171)"
          ],
          [
           0.6666666666666666,
           "rgb(56,169,172)"
          ],
          [
           0.6767676767676768,
           "rgb(57,173,172)"
          ],
          [
           0.6868686868686869,
           "rgb(59,175,172)"
          ],
          [
           0.696969696969697,
           "rgb(61,178,172)"
          ],
          [
           0.7070707070707071,
           "rgb(63,182,173)"
          ],
          [
           0.7171717171717171,
           "rgb(65,184,173)"
          ],
          [
           0.7272727272727273,
           "rgb(67,187,173)"
          ],
          [
           0.7373737373737373,
           "rgb(69,189,173)"
          ],
          [
           0.7474747474747475,
           "rgb(73,193,173)"
          ],
          [
           0.7575757575757576,
           "rgb(75,195,173)"
          ],
          [
           0.7676767676767676,
           "rgb(80,198,172)"
          ],
          [
           0.7777777777777778,
           "rgb(85,201,172)"
          ],
          [
           0.7878787878787878,
           "rgb(89,203,172)"
          ],
          [
           0.797979797979798,
           "rgb(95,206,172)"
          ],
          [
           0.8080808080808081,
           "rgb(100,208,172)"
          ],
          [
           0.8181818181818182,
           "rgb(109,210,172)"
          ],
          [
           0.8282828282828283,
           "rgb(118,213,173)"
          ],
          [
           0.8383838383838383,
           "rgb(124,214,174)"
          ],
          [
           0.8484848484848485,
           "rgb(133,216,176)"
          ],
          [
           0.8585858585858586,
           "rgb(139,217,178)"
          ],
          [
           0.8686868686868687,
           "rgb(147,219,180)"
          ],
          [
           0.8787878787878788,
           "rgb(153,221,182)"
          ],
          [
           0.8888888888888888,
           "rgb(161,223,185)"
          ],
          [
           0.898989898989899,
           "rgb(168,225,189)"
          ],
          [
           0.9090909090909091,
           "rgb(173,226,191)"
          ],
          [
           0.9191919191919192,
           "rgb(180,228,195)"
          ],
          [
           0.9292929292929293,
           "rgb(185,230,198)"
          ],
          [
           0.9393939393939394,
           "rgb(191,232,203)"
          ],
          [
           0.9494949494949495,
           "rgb(197,235,208)"
          ],
          [
           0.9595959595959596,
           "rgb(202,236,212)"
          ],
          [
           0.9696969696969697,
           "rgb(208,238,217)"
          ],
          [
           0.9797979797979798,
           "rgb(212,240,220)"
          ],
          [
           0.98989898989899,
           "rgb(218,243,225)"
          ],
          [
           1,
           "rgb(222,244,228)"
          ]
         ],
         "type": "surface",
         "x": {
          "bdata": "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",
          "dtype": "f8",
          "shape": "100, 100"
         },
         "y": {
          "bdata": "AAAAAAAAAAAAAAAAAAAAAAAAAAAAAAAAAAAAAAAAAAAAAAAAAAAAAAAAAAAAAAAAAAAAAAAAAAAAAAAAAAAAAAAAAAAAAAAAAAAAAAAAAAAAAAAAAAAAAAAAAAAAAAAAAAAAAAAAAAAAAAAAAAAAAAAAAAAAAAAAAAAAAAAAAAAAAAAAAAAAAAAAAAAAAAAAAAAAAAAAAAAAAAAAAAAAAAAAAAAAAAAAAAAAAAAAAAAAAAAAAAAAAAAAAAAAAAAAAAAAAAAAAAAAAAAAAAAAAAAAAAAAAAAAAAAAAAAAAAAAAAAAAAAAAAAAAAAAAAAAAAAAAAAAAAAAAAAAAAAAAAAAAAAAAAAAAAAAAAAAAAAAAAAAAAAAAAAAAAAAAAAAAAAAAAAAAAAAAAAAAAAAAAAAAAAAAAAAAAAAAAAAAAAAAAAAAAAAAAAAAAAAAAAAAAAAAAAAAAAAAAAAAAAAAAAAAAAAAAAAAAAAAAAAAAAAAAAAAAAAAAAAAAAAAAAAAAAAAAAAAAAAAAAAAAAAAAAAAAAAAAAAAAAAAAAAAAAAAAAAAAAAAAAAAAAAAAAAAAAAAAAAAAAAAAAAAAAAAAAAAAAAAAAAAAAAAAAAAAAAAAAAAAAAAAAAAAAAAAAAAAAAAAAAAAAAAAAAAAAAAAAAAAAAAAAAAAAAAAAAAAAAAAAAAAAAAAAAAAAAAAAAAAAAAAAAAAAAAAAAAAAAAAAAAAAAAAAAAAAAAAAAAAAAAAAAAAAAAAAAAAAAAAAAAAAAAAAAAAAAAAAAAAAAAAAAAAAAAAAAAAAAAAAAAAAAAAAAAAAAAAAAAAAAAAAAAAAAAAAAAAAAAAAAAAAAAAAAAAAAAAAAAAAAAAAAAAAAAAAAAAAAAAAAAAAAAAAAAAAAAAAAAAAAAAAAAAAAAAAAAAAAAAAAAAAAAAAAAAAAAAAAAAAAAAAAAAAAAAAAAAAAAAAAAAAAAAAAAAAAAAAAAAAAAAAAAAAAAAAAAAAAAAAAAAAAAAAAAAAAAAAAAAAAAAAAAAAAAAAAAAAAAAAAAAAAAAAAAAAAAAAAAABlk0022WTjP2WTTTbZZOM/ZZNNNtlk4z9lk0022WTjP2WTTTbZZOM/ZZNNNtlk4z9lk0022WTjP2WTTTbZZOM/ZZNNNtlk4z9lk0022WTjP2WTTTbZZOM/ZZNNNtlk4z9lk0022WTjP2WTTTbZZOM/ZZNNNtlk4z9lk0022WTjP2WTTTbZZOM/ZZNNNtlk4z9lk0022WTjP2WTTTbZZOM/ZZNNNtlk4z9lk0022WTjP2WTTTbZZOM/ZZNNNtlk4z9lk0022WTjP2WTTTbZZOM/ZZNNNtlk4z9lk0022WTjP2WTTTbZZOM/ZZNNNtlk4z9lk0022WTjP2WTTTbZZOM/ZZNNNtlk4z9lk0022WTjP2WTTTbZZOM/ZZNNNtlk4z9lk0022WTjP2WTTTbZZOM/ZZNNNtlk4z9lk0022WTjP2WTTTbZZOM/ZZNNNtlk4z9lk0022WTjP2WTTTbZZOM/ZZNNNtlk4z9lk0022WTjP2WTTTbZZOM/ZZNNNtlk4z9lk0022WTjP2WTTTbZZOM/ZZNNNtlk4z9lk0022WTjP2WTTTbZZOM/ZZNNNtlk4z9lk0022WTjP2WTTTbZZOM/ZZNNNtlk4z9lk0022WTjP2WTTTbZZOM/ZZNNNtlk4z9lk0022WTjP2WTTTbZZOM/ZZNNNtlk4z9lk0022WTjP2WTTTbZZOM/ZZNNNtlk4z9lk0022WTjP2WTTTbZZOM/ZZNNNtlk4z9lk0022WTjP2WTTTbZZOM/ZZNNNtlk4z9lk0022WTjP2WTTTbZZOM/ZZNNNtlk4z9lk0022WTjP2WTTTbZZOM/ZZNNNtlk4z9lk0022WTjP2WTTTbZZOM/ZZNNNtlk4z9lk0022WTjP2WTTTbZZOM/ZZNNNtlk4z9lk0022WTjP2WTTTbZZOM/ZZNNNtlk4z9lk0022WTjP2WTTTbZZOM/ZZNNNtlk4z9lk0022WTjP2WTTTbZZOM/ZZNNNtlk4z9lk0022WTjP2WTTTbZZOM/ZZNNNtlk4z9lk0022WTjP2WTTTbZZOM/ZZNNNtlk4z9lk0022WTjP2WTTTbZZPM/ZZNNNtlk8z9lk0022WTzP2WTTTbZZPM/ZZNNNtlk8z9lk0022WTzP2WTTTbZZPM/ZZNNNtlk8z9lk0022WTzP2WTTTbZZPM/ZZNNNtlk8z9lk0022WTzP2WTTTbZZPM/ZZNNNtlk8z9lk0022WTzP2WTTTbZZPM/ZZNNNtlk8z9lk0022WTzP2WTTTbZZPM/ZZNNNtlk8z9lk0022WTzP2WTTTbZZPM/ZZNNNtlk8z9lk0022WTzP2WTTTbZZPM/ZZNNNtlk8z9lk0022WTzP2WTTTbZZPM/ZZNNNtlk8z9lk0022WTzP2WTTTbZZPM/ZZNNNtlk8z9lk0022WTzP2WTTTbZZPM/ZZNNNtlk8z9lk0022WTzP2WTTTbZZPM/ZZNNNtlk8z9lk0022WTzP2WTTTbZZPM/ZZNNNtlk8z9lk0022WTzP2WTTTbZZPM/ZZNNNtlk8z9lk0022WTzP2WTTTbZZPM/ZZNNNtlk8z9lk0022WTzP2WTTTbZZPM/ZZNNNtlk8z9lk0022WTzP2WTTTbZZPM/ZZNNNtlk8z9lk0022WTzP2WTTTbZZPM/ZZNNNtlk8z9lk0022WTzP2WTTTbZZPM/ZZNNNtlk8z9lk0022WTzP2WTTTbZZPM/ZZNNNtlk8z9lk0022WTzP2WTTTbZZPM/ZZNNNtlk8z9lk0022WTzP2WTTTbZZPM/ZZNNNtlk8z9lk0022WTzP2WTTTbZZPM/ZZNNNtlk8z9lk0022WTzP2WTTTbZZPM/ZZNNNtlk8z9lk0022WTzP2WTTTbZZPM/ZZNNNtlk8z9lk0022WTzP2WTTTbZZPM/ZZNNNtlk8z9lk0022WTzP2WTTTbZZPM/ZZNNNtlk8z9lk0022WTzP2WTTTbZZPM/ZZNNNtlk8z9lk0022WTzP2WTTTbZZPM/ZZNNNtlk8z9lk0022WTzP2WTTTbZZPM/ZZNNNtlk8z9lk0022WTzP2WTTTbZZPM/ZZNNNtlk8z9lk0022WTzP2WTTTbZZPM/ZZNNNtlk8z9lk0022WTzP2WTTTbZZPM/GF100UUX/T8YXXTRRRf9PxhddNFFF/0/GF100UUX/T8YXXTRRRf9PxhddNFFF/0/GF100UUX/T8YXXTRRRf9PxhddNFFF/0/GF100UUX/T8YXXTRRRf9PxhddNFFF/0/GF100UUX/T8YXXTRRRf9PxhddNFFF/0/GF100UUX/T8YXXTRRRf9PxhddNFFF/0/GF100UUX/T8YXXTRRRf9PxhddNFFF/0/GF100UUX/T8YXXTRRRf9PxhddNFFF/0/GF100UUX/T8YXXTRRRf9PxhddNFFF/0/GF100UUX/T8YXXTRRRf9PxhddNFFF/0/GF100UUX/T8YXXTRRRf9PxhddNFFF/0/GF100UUX/T8YXXTRRRf9PxhddNFFF/0/GF100UUX/T8YXXTRRRf9PxhddNFFF/0/GF100UUX/T8YXXTRRRf9PxhddNFFF/0/GF100UUX/T8YXXTRRRf9PxhddNFFF/0/GF100UUX/T8YXXTRRRf9PxhddNFFF/0/GF100UUX/T8YXXTRRRf9PxhddNFFF/0/GF100UUX/T8YXXTRRRf9PxhddNFFF/0/GF100UUX/T8YXXTRRRf9PxhddNFFF/0/GF100UUX/T8YXXTRRRf9PxhddNFFF/0/GF100UUX/T8YXXTRRRf9PxhddNFFF/0/GF100UUX/T8YXXTRRRf9PxhddNFFF/0/GF100UUX/T8YXXTRRRf9PxhddNFFF/0/GF100UUX/T8YXXTRRRf9PxhddNFFF/0/GF100UUX/T8YXXTRRRf9PxhddNFFF/0/GF100UUX/T8YXXTRRRf9PxhddNFFF/0/GF100UUX/T8YXXTRRRf9PxhddNFFF/0/GF100UUX/T8YXXTRRRf9PxhddNFFF/0/GF100UUX/T8YXXTRRRf9PxhddNFFF/0/GF100UUX/T8YXXTRRRf9PxhddNFFF/0/GF100UUX/T8YXXTRRRf9PxhddNFFF/0/GF100UUX/T8YXXTRRRf9PxhddNFFF/0/GF100UUX/T8YXXTRRRf9PxhddNFFF/0/GF100UUX/T9lk0022WQDQGWTTTbZZANAZZNNNtlkA0Blk0022WQDQGWTTTbZZANAZZNNNtlkA0Blk0022WQDQGWTTTbZZANAZZNNNtlkA0Blk0022WQDQGWTTTbZZANAZZNNNtlkA0Blk0022WQDQGWTTTbZZANAZZNNNtlkA0Blk0022WQDQGWTTTbZZANAZZNNNtlkA0Blk0022WQDQGWTTTbZZANAZZNNNtlkA0Blk0022WQDQGWTTTbZZANAZZNNNtlkA0Blk0022WQDQGWTTTbZZANAZZNNNtlkA0Blk0022WQDQGWTTTbZZANAZZNNNtlkA0Blk0022WQDQGWTTTbZZANAZZNNNtlkA0Blk0022WQDQGWTTTbZZANAZZNNNtlkA0Blk0022WQDQGWTTTbZZANAZZNNNtlkA0Blk0022WQDQGWTTTbZZANAZZNNNtlkA0Blk0022WQDQGWTTTbZZANAZZNNNtlkA0Blk0022WQDQGWTTTbZZANAZZNNNtlkA0Blk0022WQDQGWTTTbZZANAZZNNNtlkA0Blk0022WQDQGWTTTbZZANAZZNNNtlkA0Blk0022WQDQGWTTTbZZANAZZNNNtlkA0Blk0022WQDQGWTTTbZZANAZZNNNtlkA0Blk0022WQDQGWTTTbZZANAZZNNNtlkA0Blk0022WQDQGWTTTbZZANAZZNNNtlkA0Blk0022WQDQGWTTTbZZANAZZNNNtlkA0Blk0022WQDQGWTTTbZZANAZZNNNtlkA0Blk0022WQDQGWTTTbZZANAZZNNNtlkA0Blk0022WQDQGWTTTbZZANAZZNNNtlkA0Blk0022WQDQGWTTTbZZANAZZNNNtlkA0Blk0022WQDQGWTTTbZZANAZZNNNtlkA0Blk0022WQDQGWTTTbZZANAZZNNNtlkA0Blk0022WQDQGWTTTbZZANAZZNNNtlkA0Blk0022WQDQGWTTTbZZANAZZNNNtlkA0Blk0022WQDQGWTTTbZZANAZZNNNtlkA0Blk0022WQDQGWTTTbZZANAZZNNNtlkA0Blk0022WQDQD744IMPPghAPvjggw8+CEA++OCDDz4IQD744IMPPghAPvjggw8+CEA++OCDDz4IQD744IMPPghAPvjggw8+CEA++OCDDz4IQD744IMPPghAPvjggw8+CEA++OCDDz4IQD744IMPPghAPvjggw8+CEA++OCDDz4IQD744IMPPghAPvjggw8+CEA++OCDDz4IQD744IMPPghAPvjggw8+CEA++OCDDz4IQD744IMPPghAPvjggw8+CEA++OCDDz4IQD744IMPPghAPvjggw8+CEA++OCDDz4IQD744IMPPghAPvjggw8+CEA++OCDDz4IQD744IMPPghAPvjggw8+CEA++OCDDz4IQD744IMPPghAPvjggw8+CEA++OCDDz4IQD744IMPPghAPvjggw8+CEA++OCDDz4IQD744IMPPghAPvjggw8+CEA++OCDDz4IQD744IMPPghAPvjggw8+CEA++OCDDz4IQD744IMPPghAPvjggw8+CEA++OCDDz4IQD744IMPPghAPvjggw8+CEA++OCDDz4IQD744IMPPghAPvjggw8+CEA++OCDDz4IQD744IMPPghAPvjggw8+CEA++OCDDz4IQD744IMPPghAPvjggw8+CEA++OCDDz4IQD744IMPPghAPvjggw8+CEA++OCDDz4IQD744IMPPghAPvjggw8+CEA++OCDDz4IQD744IMPPghAPvjggw8+CEA++OCDDz4IQD744IMPPghAPvjggw8+CEA++OCDDz4IQD744IMPPghAPvjggw8+CEA++OCDDz4IQD744IMPPghAPvjggw8+CEA++OCDDz4IQD744IMPPghAPvjggw8+CEA++OCDDz4IQD744IMPPghAPvjggw8+CEA++OCDDz4IQD744IMPPghAPvjggw8+CEA++OCDDz4IQD744IMPPghAPvjggw8+CEA++OCDDz4IQD744IMPPghAPvjggw8+CEA++OCDDz4IQD744IMPPghAPvjggw8+CEA++OCDDz4IQD744IMPPghAPvjggw8+CEA++OCDDz4IQD744IMPPghAGF100UUXDUAYXXTRRRcNQBhddNFFFw1AGF100UUXDUAYXXTRRRcNQBhddNFFFw1AGF100UUXDUAYXXTRRRcNQBhddNFFFw1AGF100UUXDUAYXXTRRRcNQBhddNFFFw1AGF100UUXDUAYXXTRRRcNQBhddNFFFw1AGF100UUXDUAYXXTRRRcNQBhddNFFFw1AGF100UUXDUAYXXTRRRcNQBhddNFFFw1AGF100UUXDUAYXXTRRRcNQBhddNFFFw1AGF100UUXDUAYXXTRRRcNQBhddNFFFw1AGF100UUXDUAYXXTRRRcNQBhddNFFFw1AGF100UUXDUAYXXTRRRcNQBhddNFFFw1AGF100UUXDUAYXXTRRRcNQBhddNFFFw1AGF100UUXDUAYXXTRRRcNQBhddNFFFw1AGF100UUXDUAYXXTRRRcNQBhddNFFFw1AGF100UUXDUAYXXTRRRcNQBhddNFFFw1AGF100UUXDUAYXXTRRRcNQBhddNFFFw1AGF100UUXDUAYXXTRRRcNQBhddNFFFw1AGF100UUXDUAYXXTRRRcNQBhddNFFFw1AGF100UUXDUAYXXTRRRcNQBhddNFFFw1AGF100UUXDUAYXXTRRRcNQBhddNFFFw1AGF100UUXDUAYXXTRRRcNQBhddNFFFw1AGF100UUXDUAYXXTRRRcNQBhddNFFFw1AGF100UUXDUAYXXTRRRcNQBhddNFFFw1AGF100UUXDUAYXXTRRRcNQBhddNFFFw1AGF100UUXDUAYXXTRRRcNQBhddNFFFw1AGF100UUXDUAYXXTRRRcNQBhddNFFFw1AGF100UUXDUAYXXTRRRcNQBhddNFFFw1AGF100UUXDUAYXXTRRRcNQBhddNFFFw1AGF100UUXDUAYXXTRRRcNQBhddNFFFw1AGF100UUXDUAYXXTRRRcNQBhddNFFFw1AGF100UUXDUAYXXTRRRcNQBhddNFFFw1AGF100UUXDUAYXXTRRRcNQBhddNFFFw1AGF100UUXDUAYXXTRRRcNQBhddNFFFw1AGF100UUXDUD44IMPPvgQQPjggw8++BBA+OCDDz74EED44IMPPvgQQPjggw8++BBA+OCDDz74EED44IMPPvgQQPjggw8++BBA+OCDDz74EED44IMPPvgQQPjggw8++BBA+OCDDz74EED44IMPPvgQQPjggw8++BBA+OCDDz74EED44IMPPvgQQPjggw8++BBA+OCDDz74EED44IMPPvgQQPjggw8++BBA+OCDDz74EED44IMPPvgQQPjggw8++BBA+OCDDz74EED44IMPPvgQQPjggw8++BBA+OCDDz74EED44IMPPvgQQPjggw8++BBA+OCDDz74EED44IMPPvgQQPjggw8++BBA+OCDDz74EED44IMPPvgQQPjggw8++BBA+OCDDz74EED44IMPPvgQQPjggw8++BBA+OCDDz74EED44IMPPvgQQPjggw8++BBA+OCDDz74EED44IMPPvgQQPjggw8++BBA+OCDDz74EED44IMPPvgQQPjggw8++BBA+OCDDz74EED44IMPPvgQQPjggw8++BBA+OCDDz74EED44IMPPvgQQPjggw8++BBA+OCDDz74EED44IMPPvgQQPjggw8++BBA+OCDDz74EED44IMPPvgQQPjggw8++BBA+OCDDz74EED44IMPPvgQQPjggw8++BBA+OCDDz74EED44IMPPvgQQPjggw8++BBA+OCDDz74EED44IMPPvgQQPjggw8++BBA+OCDDz74EED44IMPPvgQQPjggw8++BBA+OCDDz74EED44IMPPvgQQPjggw8++BBA+OCDDz74EED44IMPPvgQQPjggw8++BBA+OCDDz74EED44IMPPvgQQPjggw8++BBA+OCDDz74EED44IMPPvgQQPjggw8++BBA+OCDDz74EED44IMPPvgQQPjggw8++BBA+OCDDz74EED44IMPPvgQQPjggw8++BBA+OCDDz74EED44IMPPvgQQPjggw8++BBA+OCDDz74EED44IMPPvgQQPjggw8++BBA+OCDDz74EED44IMPPvgQQPjggw8++BBA+OCDDz74EED44IMPPvgQQGWTTTbZZBNAZZNNNtlkE0Blk0022WQTQGWTTTbZZBNAZZNNNtlkE0Blk0022WQTQGWTTTbZZBNAZZNNNtlkE0Blk0022WQTQGWTTTbZZBNAZZNNNtlkE0Blk0022WQTQGWTTTbZZBNAZZNNNtlkE0Blk0022WQTQGWTTTbZZBNAZZNNNtlkE0Blk0022WQTQGWTTTbZZBNAZZNNNtlkE0Blk0022WQTQGWTTTbZZBNAZZNNNtlkE0Blk0022WQTQGWTTTbZZBNAZZNNNtlkE0Blk0022WQTQGWTTTbZZBNAZZNNNtlkE0Blk0022WQTQGWTTTbZZBNAZZNNNtlkE0Blk0022WQTQGWTTTbZZBNAZZNNNtlkE0Blk0022WQTQGWTTTbZZBNAZZNNNtlkE0Blk0022WQTQGWTTTbZZBNAZZNNNtlkE0Blk0022WQTQGWTTTbZZBNAZZNNNtlkE0Blk0022WQTQGWTTTbZZBNAZZNNNtlkE0Blk0022WQTQGWTTTbZZBNAZZNNNtlkE0Blk0022WQTQGWTTTbZZBNAZZNNNtlkE0Blk0022WQTQGWTTTbZZBNAZZNNNtlkE0Blk0022WQTQGWTTTbZZBNAZZNNNtlkE0Blk0022WQTQGWTTTbZZBNAZZNNNtlkE0Blk0022WQTQGWTTTbZZBNAZZNNNtlkE0Blk0022WQTQGWTTTbZZBNAZZNNNtlkE0Blk0022WQTQGWTTTbZZBNAZZNNNtlkE0Blk0022WQTQGWTTTbZZBNAZZNNNtlkE0Blk0022WQTQGWTTTbZZBNAZZNNNtlkE0Blk0022WQTQGWTTTbZZBNAZZNNNtlkE0Blk0022WQTQGWTTTbZZBNAZZNNNtlkE0Blk0022WQTQGWTTTbZZBNAZZNNNtlkE0Blk0022WQTQGWTTTbZZBNAZZNNNtlkE0Blk0022WQTQGWTTTbZZBNAZZNNNtlkE0Blk0022WQTQGWTTTbZZBNAZZNNNtlkE0Blk0022WQTQGWTTTbZZBNAZZNNNtlkE0Blk0022WQTQGWTTTbZZBNA0kUXXXTRFUDSRRdddNEVQNJFF1100RVA0kUXXXTRFUDSRRdddNEVQNJFF1100RVA0kUXXXTRFUDSRRdddNEVQNJFF1100RVA0kUXXXTRFUDSRRdddNEVQNJFF1100RVA0kUXXXTRFUDSRRdddNEVQNJFF1100RVA0kUXXXTRFUDSRRdddNEVQNJFF1100RVA0kUXXXTRFUDSRRdddNEVQNJFF1100RVA0kUXXXTRFUDSRRdddNEVQNJFF1100RVA0kUXXXTRFUDSRRdddNEVQNJFF1100RVA0kUXXXTRFUDSRRdddNEVQNJFF1100RVA0kUXXXTRFUDSRRdddNEVQNJFF1100RVA0kUXXXTRFUDSRRdddNEVQNJFF1100RVA0kUXXXTRFUDSRRdddNEVQNJFF1100RVA0kUXXXTRFUDSRRdddNEVQNJFF1100RVA0kUXXXTRFUDSRRdddNEVQNJFF1100RVA0kUXXXTRFUDSRRdddNEVQNJFF1100RVA0kUXXXTRFUDSRRdddNEVQNJFF1100RVA0kUXXXTRFUDSRRdddNEVQNJFF1100RVA0kUXXXTRFUDSRRdddNEVQNJFF1100RVA0kUXXXTRFUDSRRdddNEVQNJFF1100RVA0kUXXXTRFUDSRRdddNEVQNJFF1100RVA0kUXXXTRFUDSRRdddNEVQNJFF1100RVA0kUXXXTRFUDSRRdddNEVQNJFF1100RVA0kUXXXTRFUDSRRdddNEVQNJFF1100RVA0kUXXXTRFUDSRRdddNEVQNJFF1100RVA0kUXXXTRFUDSRRdddNEVQNJFF1100RVA0kUXXXTRFUDSRRdddNEVQNJFF1100RVA0kUXXXTRFUDSRRdddNEVQNJFF1100RVA0kUXXXTRFUDSRRdddNEVQNJFF1100RVA0kUXXXTRFUDSRRdddNEVQNJFF1100RVA0kUXXXTRFUDSRRdddNEVQNJFF1100RVA0kUXXXTRFUDSRRdddNEVQNJFF1100RVA0kUXXXTRFUDSRRdddNEVQNJFF1100RVA0kUXXXTRFUA++OCDDz4YQD744IMPPhhAPvjggw8+GEA++OCDDz4YQD744IMPPhhAPvjggw8+GEA++OCDDz4YQD744IMPPhhAPvjggw8+GEA++OCDDz4YQD744IMPPhhAPvjggw8+GEA++OCDDz4YQD744IMPPhhAPvjggw8+GEA++OCDDz4YQD744IMPPhhAPvjggw8+GEA++OCDDz4YQD744IMPPhhAPvjggw8+GEA++OCDDz4YQD744IMPPhhAPvjggw8+GEA++OCDDz4YQD744IMPPhhAPvjggw8+GEA++OCDDz4YQD744IMPPhhAPvjggw8+GEA++OCDDz4YQD744IMPPhhAPvjggw8+GEA++OCDDz4YQD744IMPPhhAPvjggw8+GEA++OCDDz4YQD744IMPPhhAPvjggw8+GEA++OCDDz4YQD744IMPPhhAPvjggw8+GEA++OCDDz4YQD744IMPPhhAPvjggw8+GEA++OCDDz4YQD744IMPPhhAPvjggw8+GEA++OCDDz4YQD744IMPPhhAPvjggw8+GEA++OCDDz4YQD744IMPPhhAPvjggw8+GEA++OCDDz4YQD744IMPPhhAPvjggw8+GEA++OCDDz4YQD744IMPPhhAPvjggw8+GEA++OCDDz4YQD744IMPPhhAPvjggw8+GEA++OCDDz4YQD744IMPPhhAPvjggw8+GEA++OCDDz4YQD744IMPPhhAPvjggw8+GEA++OCDDz4YQD744IMPPhhAPvjggw8+GEA++OCDDz4YQD744IMPPhhAPvjggw8+GEA++OCDDz4YQD744IMPPhhAPvjggw8+GEA++OCDDz4YQD744IMPPhhAPvjggw8+GEA++OCDDz4YQD744IMPPhhAPvjggw8+GEA++OCDDz4YQD744IMPPhhAPvjggw8+GEA++OCDDz4YQD744IMPPhhAPvjggw8+GEA++OCDDz4YQD744IMPPhhAPvjggw8+GEA++OCDDz4YQD744IMPPhhAPvjggw8+GEA++OCDDz4YQD744IMPPhhAPvjggw8+GEA++OCDDz4YQKuqqqqqqhpAq6qqqqqqGkCrqqqqqqoaQKuqqqqqqhpAq6qqqqqqGkCrqqqqqqoaQKuqqqqqqhpAq6qqqqqqGkCrqqqqqqoaQKuqqqqqqhpAq6qqqqqqGkCrqqqqqqoaQKuqqqqqqhpAq6qqqqqqGkCrqqqqqqoaQKuqqqqqqhpAq6qqqqqqGkCrqqqqqqoaQKuqqqqqqhpAq6qqqqqqGkCrqqqqqqoaQKuqqqqqqhpAq6qqqqqqGkCrqqqqqqoaQKuqqqqqqhpAq6qqqqqqGkCrqqqqqqoaQKuqqqqqqhpAq6qqqqqqGkCrqqqqqqoaQKuqqqqqqhpAq6qqqqqqGkCrqqqqqqoaQKuqqqqqqhpAq6qqqqqqGkCrqqqqqqoaQKuqqqqqqhpAq6qqqqqqGkCrqqqqqqoaQKuqqqqqqhpAq6qqqqqqGkCrqqqqqqoaQKuqqqqqqhpAq6qqqqqqGkCrqqqqqqoaQKuqqqqqqhpAq6qqqqqqGkCrqqqqqqoaQKuqqqqqqhpAq6qqqqqqGkCrqqqqqqoaQKuqqqqqqhpAq6qqqqqqGkCrqqqqqqoaQKuqqqqqqhpAq6qqqqqqGkCrqqqqqqoaQKuqqqqqqhpAq6qqqqqqGkCrqqqqqqoaQKuqqqqqqhpAq6qqqqqqGkCrqqqqqqoaQKuqqqqqqhpAq6qqqqqqGkCrqqqqqqoaQKuqqqqqqhpAq6qqqqqqGkCrqqqqqqoaQKuqqqqqqhpAq6qqqqqqGkCrqqqqqqoaQKuqqqqqqhpAq6qqqqqqGkCrqqqqqqoaQKuqqqqqqhpAq6qqqqqqGkCrqqqqqqoaQKuqqqqqqhpAq6qqqqqqGkCrqqqqqqoaQKuqqqqqqhpAq6qqqqqqGkCrqqqqqqoaQKuqqqqqqhpAq6qqqqqqGkCrqqqqqqoaQKuqqqqqqhpAq6qqqqqqGkCrqqqqqqoaQKuqqqqqqhpAq6qqqqqqGkCrqqqqqqoaQKuqqqqqqhpAq6qqqqqqGkCrqqqqqqoaQKuqqqqqqhpAq6qqqqqqGkCrqqqqqqoaQKuqqqqqqhpAGF100UUXHUAYXXTRRRcdQBhddNFFFx1AGF100UUXHUAYXXTRRRcdQBhddNFFFx1AGF100UUXHUAYXXTRRRcdQBhddNFFFx1AGF100UUXHUAYXXTRRRcdQBhddNFFFx1AGF100UUXHUAYXXTRRRcdQBhddNFFFx1AGF100UUXHUAYXXTRRRcdQBhddNFFFx1AGF100UUXHUAYXXTRRRcdQBhddNFFFx1AGF100UUXHUAYXXTRRRcdQBhddNFFFx1AGF100UUXHUAYXXTRRRcdQBhddNFFFx1AGF100UUXHUAYXXTRRRcdQBhddNFFFx1AGF100UUXHUAYXXTRRRcdQBhddNFFFx1AGF100UUXHUAYXXTRRRcdQBhddNFFFx1AGF100UUXHUAYXXTRRRcdQBhddNFFFx1AGF100UUXHUAYXXTRRRcdQBhddNFFFx1AGF100UUXHUAYXXTRRRcdQBhddNFFFx1AGF100UUXHUAYXXTRRRcdQBhddNFFFx1AGF100UUXHUAYXXTRRRcdQBhddNFFFx1AGF100UUXHUAYXXTRRRcdQBhddNFFFx1AGF100UUXHUAYXXTRRRcdQBhddNFFFx1AGF100UUXHUAYXXTRRRcdQBhddNFFFx1AGF100UUXHUAYXXTRRRcdQBhddNFFFx1AGF100UUXHUAYXXTRRRcdQBhddNFFFx1AGF100UUXHUAYXXTRRRcdQBhddNFFFx1AGF100UUXHUAYXXTRRRcdQBhddNFFFx1AGF100UUXHUAYXXTRRRcdQBhddNFFFx1AGF100UUXHUAYXXTRRRcdQBhddNFFFx1AGF100UUXHUAYXXTRRRcdQBhddNFFFx1AGF100UUXHUAYXXTRRRcdQBhddNFFFx1AGF100UUXHUAYXXTRRRcdQBhddNFFFx1AGF100UUXHUAYXXTRRRcdQBhddNFFFx1AGF100UUXHUAYXXTRRRcdQBhddNFFFx1AGF100UUXHUAYXXTRRRcdQBhddNFFFx1AGF100UUXHUAYXXTRRRcdQBhddNFFFx1AGF100UUXHUCEDz744IMfQIQPPvjggx9AhA8++OCDH0CEDz744IMfQIQPPvjggx9AhA8++OCDH0CEDz744IMfQIQPPvjggx9AhA8++OCDH0CEDz744IMfQIQPPvjggx9AhA8++OCDH0CEDz744IMfQIQPPvjggx9AhA8++OCDH0CEDz744IMfQIQPPvjggx9AhA8++OCDH0CEDz744IMfQIQPPvjggx9AhA8++OCDH0CEDz744IMfQIQPPvjggx9AhA8++OCDH0CEDz744IMfQIQPPvjggx9AhA8++OCDH0CEDz744IMfQIQPPvjggx9AhA8++OCDH0CEDz744IMfQIQPPvjggx9AhA8++OCDH0CEDz744IMfQIQPPvjggx9AhA8++OCDH0CEDz744IMfQIQPPvjggx9AhA8++OCDH0CEDz744IMfQIQPPvjggx9AhA8++OCDH0CEDz744IMfQIQPPvjggx9AhA8++OCDH0CEDz744IMfQIQPPvjggx9AhA8++OCDH0CEDz744IMfQIQPPvjggx9AhA8++OCDH0CEDz744IMfQIQPPvjggx9AhA8++OCDH0CEDz744IMfQIQPPvjggx9AhA8++OCDH0CEDz744IMfQIQPPvjggx9AhA8++OCDH0CEDz744IMfQIQPPvjggx9AhA8++OCDH0CEDz744IMfQIQPPvjggx9AhA8++OCDH0CEDz744IMfQIQPPvjggx9AhA8++OCDH0CEDz744IMfQIQPPvjggx9AhA8++OCDH0CEDz744IMfQIQPPvjggx9AhA8++OCDH0CEDz744IMfQIQPPvjggx9AhA8++OCDH0CEDz744IMfQIQPPvjggx9AhA8++OCDH0CEDz744IMfQIQPPvjggx9AhA8++OCDH0CEDz744IMfQIQPPvjggx9AhA8++OCDH0CEDz744IMfQIQPPvjggx9AhA8++OCDH0CEDz744IMfQIQPPvjggx9AhA8++OCDH0CEDz744IMfQIQPPvjggx9AhA8++OCDH0CEDz744IMfQIQPPvjggx9AhA8++OCDH0CEDz744IMfQPjggw8++CBA+OCDDz74IED44IMPPvggQPjggw8++CBA+OCDDz74IED44IMPPvggQPjggw8++CBA+OCDDz74IED44IMPPvggQPjggw8++CBA+OCDDz74IED44IMPPvggQPjggw8++CBA+OCDDz74IED44IMPPvggQPjggw8++CBA+OCDDz74IED44IMPPvggQPjggw8++CBA+OCDDz74IED44IMPPvggQPjggw8++CBA+OCDDz74IED44IMPPvggQPjggw8++CBA+OCDDz74IED44IMPPvggQPjggw8++CBA+OCDDz74IED44IMPPvggQPjggw8++CBA+OCDDz74IED44IMPPvggQPjggw8++CBA+OCDDz74IED44IMPPvggQPjggw8++CBA+OCDDz74IED44IMPPvggQPjggw8++CBA+OCDDz74IED44IMPPvggQPjggw8++CBA+OCDDz74IED44IMPPvggQPjggw8++CBA+OCDDz74IED44IMPPvggQPjggw8++CBA+OCDDz74IED44IMPPvggQPjggw8++CBA+OCDDz74IED44IMPPvggQPjggw8++CBA+OCDDz74IED44IMPPvggQPjggw8++CBA+OCDDz74IED44IMPPvggQPjggw8++CBA+OCDDz74IED44IMPPvggQPjggw8++CBA+OCDDz74IED44IMPPvggQPjggw8++CBA+OCDDz74IED44IMPPvggQPjggw8++CBA+OCDDz74IED44IMPPvggQPjggw8++CBA+OCDDz74IED44IMPPvggQPjggw8++CBA+OCDDz74IED44IMPPvggQPjggw8++CBA+OCDDz74IED44IMPPvggQPjggw8++CBA+OCDDz74IED44IMPPvggQPjggw8++CBA+OCDDz74IED44IMPPvggQPjggw8++CBA+OCDDz74IED44IMPPvggQPjggw8++CBA+OCDDz74IED44IMPPvggQPjggw8++CBA+OCDDz74IED44IMPPvggQPjggw8++CBA+OCDDz74IED44IMPPvggQPjggw8++CBAL7rooosuIkAvuuiiiy4iQC+66KKLLiJAL7rooosuIkAvuuiiiy4iQC+66KKLLiJAL7rooosuIkAvuuiiiy4iQC+66KKLLiJAL7rooosuIkAvuuiiiy4iQC+66KKLLiJAL7rooosuIkAvuuiiiy4iQC+66KKLLiJAL7rooosuIkAvuuiiiy4iQC+66KKLLiJAL7rooosuIkAvuuiiiy4iQC+66KKLLiJAL7rooosuIkAvuuiiiy4iQC+66KKLLiJAL7rooosuIkAvuuiiiy4iQC+66KKLLiJAL7rooosuIkAvuuiiiy4iQC+66KKLLiJAL7rooosuIkAvuuiiiy4iQC+66KKLLiJAL7rooosuIkAvuuiiiy4iQC+66KKLLiJAL7rooosuIkAvuuiiiy4iQC+66KKLLiJAL7rooosuIkAvuuiiiy4iQC+66KKLLiJAL7rooosuIkAvuuiiiy4iQC+66KKLLiJAL7rooosuIkAvuuiiiy4iQC+66KKLLiJAL7rooosuIkAvuuiiiy4iQC+66KKLLiJAL7rooosuIkAvuuiiiy4iQC+66KKLLiJAL7rooosuIkAvuuiiiy4iQC+66KKLLiJAL7rooosuIkAvuuiiiy4iQC+66KKLLiJAL7rooosuIkAvuuiiiy4iQC+66KKLLiJAL7rooosuIkAvuuiiiy4iQC+66KKLLiJAL7rooosuIkAvuuiiiy4iQC+66KKLLiJAL7rooosuIkAvuuiiiy4iQC+66KKLLiJAL7rooosuIkAvuuiiiy4iQC+66KKLLiJAL7rooosuIkAvuuiiiy4iQC+66KKLLiJAL7rooosuIkAvuuiiiy4iQC+66KKLLiJAL7rooosuIkAvuuiiiy4iQC+66KKLLiJAL7rooosuIkAvuuiiiy4iQC+66KKLLiJAL7rooosuIkAvuuiiiy4iQC+66KKLLiJAL7rooosuIkAvuuiiiy4iQC+66KKLLiJAL7rooosuIkAvuuiiiy4iQC+66KKLLiJAL7rooosuIkAvuuiiiy4iQC+66KKLLiJAL7rooosuIkBlk0022WQjQGWTTTbZZCNAZZNNNtlkI0Blk0022WQjQGWTTTbZZCNAZZNNNtlkI0Blk0022WQjQGWTTTbZZCNAZZNNNtlkI0Blk0022WQjQGWTTTbZZCNAZZNNNtlkI0Blk0022WQjQGWTTTbZZCNAZZNNNtlkI0Blk0022WQjQGWTTTbZZCNAZZNNNtlkI0Blk0022WQjQGWTTTbZZCNAZZNNNtlkI0Blk0022WQjQGWTTTbZZCNAZZNNNtlkI0Blk0022WQjQGWTTTbZZCNAZZNNNtlkI0Blk0022WQjQGWTTTbZZCNAZZNNNtlkI0Blk0022WQjQGWTTTbZZCNAZZNNNtlkI0Blk0022WQjQGWTTTbZZCNAZZNNNtlkI0Blk0022WQjQGWTTTbZZCNAZZNNNtlkI0Blk0022WQjQGWTTTbZZCNAZZNNNtlkI0Blk0022WQjQGWTTTbZZCNAZZNNNtlkI0Blk0022WQjQGWTTTbZZCNAZZNNNtlkI0Blk0022WQjQGWTTTbZZCNAZZNNNtlkI0Blk0022WQjQGWTTTbZZCNAZZNNNtlkI0Blk0022WQjQGWTTTbZZCNAZZNNNtlkI0Blk0022WQjQGWTTTbZZCNAZZNNNtlkI0Blk0022WQjQGWTTTbZZCNAZZNNNtlkI0Blk0022WQjQGWTTTbZZCNAZZNNNtlkI0Blk0022WQjQGWTTTbZZCNAZZNNNtlkI0Blk0022WQjQGWTTTbZZCNAZZNNNtlkI0Blk0022WQjQGWTTTbZZCNAZZNNNtlkI0Blk0022WQjQGWTTTbZZCNAZZNNNtlkI0Blk0022WQjQGWTTTbZZCNAZZNNNtlkI0Blk0022WQjQGWTTTbZZCNAZZNNNtlkI0Blk0022WQjQGWTTTbZZCNAZZNNNtlkI0Blk0022WQjQGWTTTbZZCNAZZNNNtlkI0Blk0022WQjQGWTTTbZZCNAZZNNNtlkI0Blk0022WQjQGWTTTbZZCNAZZNNNtlkI0Blk0022WQjQGWTTTbZZCNAZZNNNtlkI0Blk0022WQjQJtssskmmyRAm2yyySabJECbbLLJJpskQJtssskmmyRAm2yyySabJECbbLLJJpskQJtssskmmyRAm2yyySabJECbbLLJJpskQJtssskmmyRAm2yyySabJECbbLLJJpskQJtssskmmyRAm2yyySabJECbbLLJJpskQJtssskmmyRAm2yyySabJECbbLLJJpskQJtssskmmyRAm2yyySabJECbbLLJJpskQJtssskmmyRAm2yyySabJECbbLLJJpskQJtssskmmyRAm2yyySabJECbbLLJJpskQJtssskmmyRAm2yyySabJECbbLLJJpskQJtssskmmyRAm2yyySabJECbbLLJJpskQJtssskmmyRAm2yyySabJECbbLLJJpskQJtssskmmyRAm2yyySabJECbbLLJJpskQJtssskmmyRAm2yyySabJECbbLLJJpskQJtssskmmyRAm2yyySabJECbbLLJJpskQJtssskmmyRAm2yyySabJECbbLLJJpskQJtssskmmyRAm2yyySabJECbbLLJJpskQJtssskmmyRAm2yyySabJECbbLLJJpskQJtssskmmyRAm2yyySabJECbbLLJJpskQJtssskmmyRAm2yyySabJECbbLLJJpskQJtssskmmyRAm2yyySabJECbbLLJJpskQJtssskmmyRAm2yyySabJECbbLLJJpskQJtssskmmyRAm2yyySabJECbbLLJJpskQJtssskmmyRAm2yyySabJECbbLLJJpskQJtssskmmyRAm2yyySabJECbbLLJJpskQJtssskmmyRAm2yyySabJECbbLLJJpskQJtssskmmyRAm2yyySabJECbbLLJJpskQJtssskmmyRAm2yyySabJECbbLLJJpskQJtssskmmyRAm2yyySabJECbbLLJJpskQJtssskmmyRAm2yyySabJECbbLLJJpskQJtssskmmyRAm2yyySabJECbbLLJJpskQJtssskmmyRAm2yyySabJECbbLLJJpskQJtssskmmyRAm2yyySabJECbbLLJJpskQJtssskmmyRA0kUXXXTRJUDSRRdddNElQNJFF1100SVA0kUXXXTRJUDSRRdddNElQNJFF1100SVA0kUXXXTRJUDSRRdddNElQNJFF1100SVA0kUXXXTRJUDSRRdddNElQNJFF1100SVA0kUXXXTRJUDSRRdddNElQNJFF1100SVA0kUXXXTRJUDSRRdddNElQNJFF1100SVA0kUXXXTRJUDSRRdddNElQNJFF1100SVA0kUXXXTRJUDSRRdddNElQNJFF1100SVA0kUXXXTRJUDSRRdddNElQNJFF1100SVA0kUXXXTRJUDSRRdddNElQNJFF1100SVA0kUXXXTRJUDSRRdddNElQNJFF1100SVA0kUXXXTRJUDSRRdddNElQNJFF1100SVA0kUXXXTRJUDSRRdddNElQNJFF1100SVA0kUXXXTRJUDSRRdddNElQNJFF1100SVA0kUXXXTRJUDSRRdddNElQNJFF1100SVA0kUXXXTRJUDSRRdddNElQNJFF1100SVA0kUXXXTRJUDSRRdddNElQNJFF1100SVA0kUXXXTRJUDSRRdddNElQNJFF1100SVA0kUXXXTRJUDSRRdddNElQNJFF1100SVA0kUXXXTRJUDSRRdddNElQNJFF1100SVA0kUXXXTRJUDSRRdddNElQNJFF1100SVA0kUXXXTRJUDSRRdddNElQNJFF1100SVA0kUXXXTRJUDSRRdddNElQNJFF1100SVA0kUXXXTRJUDSRRdddNElQNJFF1100SVA0kUXXXTRJUDSRRdddNElQNJFF1100SVA0kUXXXTRJUDSRRdddNElQNJFF1100SVA0kUXXXTRJUDSRRdddNElQNJFF1100SVA0kUXXXTRJUDSRRdddNElQNJFF1100SVA0kUXXXTRJUDSRRdddNElQNJFF1100SVA0kUXXXTRJUDSRRdddNElQNJFF1100SVA0kUXXXTRJUDSRRdddNElQNJFF1100SVA0kUXXXTRJUDSRRdddNElQNJFF1100SVA0kUXXXTRJUDSRRdddNElQNJFF1100SVA0kUXXXTRJUAIH3zwwQcnQAgffPDBBydACB988MEHJ0AIH3zwwQcnQAgffPDBBydACB988MEHJ0AIH3zwwQcnQAgffPDBBydACB988MEHJ0AIH3zwwQcnQAgffPDBBydACB988MEHJ0AIH3zwwQcnQAgffPDBBydACB988MEHJ0AIH3zwwQcnQAgffPDBBydACB988MEHJ0AIH3zwwQcnQAgffPDBBydACB988MEHJ0AIH3zwwQcnQAgffPDBBydACB988MEHJ0AIH3zwwQcnQAgffPDBBydACB988MEHJ0AIH3zwwQcnQAgffPDBBydACB988MEHJ0AIH3zwwQcnQAgffPDBBydACB988MEHJ0AIH3zwwQcnQAgffPDBBydACB988MEHJ0AIH3zwwQcnQAgffPDBBydACB988MEHJ0AIH3zwwQcnQAgffPDBBydACB988MEHJ0AIH3zwwQcnQAgffPDBBydACB988MEHJ0AIH3zwwQcnQAgffPDBBydACB988MEHJ0AIH3zwwQcnQAgffPDBBydACB988MEHJ0AIH3zwwQcnQAgffPDBBydACB988MEHJ0AIH3zwwQcnQAgffPDBBydACB988MEHJ0AIH3zwwQcnQAgffPDBBydACB988MEHJ0AIH3zwwQcnQAgffPDBBydACB988MEHJ0AIH3zwwQcnQAgffPDBBydACB988MEHJ0AIH3zwwQcnQAgffPDBBydACB988MEHJ0AIH3zwwQcnQAgffPDBBydACB988MEHJ0AIH3zwwQcnQAgffPDBBydACB988MEHJ0AIH3zwwQcnQAgffPDBBydACB988MEHJ0AIH3zwwQcnQAgffPDBBydACB988MEHJ0AIH3zwwQcnQAgffPDBBydACB988MEHJ0AIH3zwwQcnQAgffPDBBydACB988MEHJ0AIH3zwwQcnQAgffPDBBydACB988MEHJ0AIH3zwwQcnQAgffPDBBydACB988MEHJ0AIH3zwwQcnQAgffPDBBydACB988MEHJ0AIH3zwwQcnQAgffPDBBydACB988MEHJ0AIH3zwwQcnQD744IMPPihAPvjggw8+KEA++OCDDz4oQD744IMPPihAPvjggw8+KEA++OCDDz4oQD744IMPPihAPvjggw8+KEA++OCDDz4oQD744IMPPihAPvjggw8+KEA++OCDDz4oQD744IMPPihAPvjggw8+KEA++OCDDz4oQD744IMPPihAPvjggw8+KEA++OCDDz4oQD744IMPPihAPvjggw8+KEA++OCDDz4oQD744IMPPihAPvjggw8+KEA++OCDDz4oQD744IMPPihAPvjggw8+KEA++OCDDz4oQD744IMPPihAPvjggw8+KEA++OCDDz4oQD744IMPPihAPvjggw8+KEA++OCDDz4oQD744IMPPihAPvjggw8+KEA++OCDDz4oQD744IMPPihAPvjggw8+KEA++OCDDz4oQD744IMPPihAPvjggw8+KEA++OCDDz4oQD744IMPPihAPvjggw8+KEA++OCDDz4oQD744IMPPihAPvjggw8+KEA++OCDDz4oQD744IMPPihAPvjggw8+KEA++OCDDz4oQD744IMPPihAPvjggw8+KEA++OCDDz4oQD744IMPPihAPvjggw8+KEA++OCDDz4oQD744IMPPihAPvjggw8+KEA++OCDDz4oQD744IMPPihAPvjggw8+KEA++OCDDz4oQD744IMPPihAPvjggw8+KEA++OCDDz4oQD744IMPPihAPvjggw8+KEA++OCDDz4oQD744IMPPihAPvjggw8+KEA++OCDDz4oQD744IMPPihAPvjggw8+KEA++OCDDz4oQD744IMPPihAPvjggw8+KEA++OCDDz4oQD744IMPPihAPvjggw8+KEA++OCDDz4oQD744IMPPihAPvjggw8+KEA++OCDDz4oQD744IMPPihAPvjggw8+KEA++OCDDz4oQD744IMPPihAPvjggw8+KEA++OCDDz4oQD744IMPPihAPvjggw8+KEA++OCDDz4oQD744IMPPihAPvjggw8+KEA++OCDDz4oQD744IMPPihAPvjggw8+KEA++OCDDz4oQD744IMPPihAddFFF110KUB10UUXXXQpQHXRRRdddClAddFFF110KUB10UUXXXQpQHXRRRdddClAddFFF110KUB10UUXXXQpQHXRRRdddClAddFFF110KUB10UUXXXQpQHXRRRdddClAddFFF110KUB10UUXXXQpQHXRRRdddClAddFFF110KUB10UUXXXQpQHXRRRdddClAddFFF110KUB10UUXXXQpQHXRRRdddClAddFFF110KUB10UUXXXQpQHXRRRdddClAddFFF110KUB10UUXXXQpQHXRRRdddClAddFFF110KUB10UUXXXQpQHXRRRdddClAddFFF110KUB10UUXXXQpQHXRRRdddClAddFFF110KUB10UUXXXQpQHXRRRdddClAddFFF110KUB10UUXXXQpQHXRRRdddClAddFFF110KUB10UUXXXQpQHXRRRdddClAddFFF110KUB10UUXXXQpQHXRRRdddClAddFFF110KUB10UUXXXQpQHXRRRdddClAddFFF110KUB10UUXXXQpQHXRRRdddClAddFFF110KUB10UUXXXQpQHXRRRdddClAddFFF110KUB10UUXXXQpQHXRRRdddClAddFFF110KUB10UUXXXQpQHXRRRdddClAddFFF110KUB10UUXXXQpQHXRRRdddClAddFFF110KUB10UUXXXQpQHXRRRdddClAddFFF110KUB10UUXXXQpQHXRRRdddClAddFFF110KUB10UUXXXQpQHXRRRdddClAddFFF110KUB10UUXXXQpQHXRRRdddClAddFFF110KUB10UUXXXQpQHXRRRdddClAddFFF110KUB10UUXXXQpQHXRRRdddClAddFFF110KUB10UUXXXQpQHXRRRdddClAddFFF110KUB10UUXXXQpQHXRRRdddClAddFFF110KUB10UUXXXQpQHXRRRdddClAddFFF110KUB10UUXXXQpQHXRRRdddClAddFFF110KUB10UUXXXQpQHXRRRdddClAddFFF110KUB10UUXXXQpQHXRRRdddClAddFFF110KUCrqqqqqqoqQKuqqqqqqipAq6qqqqqqKkCrqqqqqqoqQKuqqqqqqipAq6qqqqqqKkCrqqqqqqoqQKuqqqqqqipAq6qqqqqqKkCrqqqqqqoqQKuqqqqqqipAq6qqqqqqKkCrqqqqqqoqQKuqqqqqqipAq6qqqqqqKkCrqqqqqqoqQKuqqqqqqipAq6qqqqqqKkCrqqqqqqoqQKuqqqqqqipAq6qqqqqqKkCrqqqqqqoqQKuqqqqqqipAq6qqqqqqKkCrqqqqqqoqQKuqqqqqqipAq6qqqqqqKkCrqqqqqqoqQKuqqqqqqipAq6qqqqqqKkCrqqqqqqoqQKuqqqqqqipAq6qqqqqqKkCrqqqqqqoqQKuqqqqqqipAq6qqqqqqKkCrqqqqqqoqQKuqqqqqqipAq6qqqqqqKkCrqqqqqqoqQKuqqqqqqipAq6qqqqqqKkCrqqqqqqoqQKuqqqqqqipAq6qqqqqqKkCrqqqqqqoqQKuqqqqqqipAq6qqqqqqKkCrqqqqqqoqQKuqqqqqqipAq6qqqqqqKkCrqqqqqqoqQKuqqqqqqipAq6qqqqqqKkCrqqqqqqoqQKuqqqqqqipAq6qqqqqqKkCrqqqqqqoqQKuqqqqqqipAq6qqqqqqKkCrqqqqqqoqQKuqqqqqqipAq6qqqqqqKkCrqqqqqqoqQKuqqqqqqipAq6qqqqqqKkCrqqqqqqoqQKuqqqqqqipAq6qqqqqqKkCrqqqqqqoqQKuqqqqqqipAq6qqqqqqKkCrqqqqqqoqQKuqqqqqqipAq6qqqqqqKkCrqqqqqqoqQKuqqqqqqipAq6qqqqqqKkCrqqqqqqoqQKuqqqqqqipAq6qqqqqqKkCrqqqqqqoqQKuqqqqqqipAq6qqqqqqKkCrqqqqqqoqQKuqqqqqqipAq6qqqqqqKkCrqqqqqqoqQKuqqqqqqipAq6qqqqqqKkCrqqqqqqoqQKuqqqqqqipAq6qqqqqqKkCrqqqqqqoqQKuqqqqqqipAq6qqqqqqKkCrqqqqqqoqQKuqqqqqqipAq6qqqqqqKkCrqqqqqqoqQOGDDz744CtA4YMPPvjgK0Dhgw8++OArQOGDDz744CtA4YMPPvjgK0Dhgw8++OArQOGDDz744CtA4YMPPvjgK0Dhgw8++OArQOGDDz744CtA4YMPPvjgK0Dhgw8++OArQOGDDz744CtA4YMPPvjgK0Dhgw8++OArQOGDDz744CtA4YMPPvjgK0Dhgw8++OArQOGDDz744CtA4YMPPvjgK0Dhgw8++OArQOGDDz744CtA4YMPPvjgK0Dhgw8++OArQOGDDz744CtA4YMPPvjgK0Dhgw8++OArQOGDDz744CtA4YMPPvjgK0Dhgw8++OArQOGDDz744CtA4YMPPvjgK0Dhgw8++OArQOGDDz744CtA4YMPPvjgK0Dhgw8++OArQOGDDz744CtA4YMPPvjgK0Dhgw8++OArQOGDDz744CtA4YMPPvjgK0Dhgw8++OArQOGDDz744CtA4YMPPvjgK0Dhgw8++OArQOGDDz744CtA4YMPPvjgK0Dhgw8++OArQOGDDz744CtA4YMPPvjgK0Dhgw8++OArQOGDDz744CtA4YMPPvjgK0Dhgw8++OArQOGDDz744CtA4YMPPvjgK0Dhgw8++OArQOGDDz744CtA4YMPPvjgK0Dhgw8++OArQOGDDz744CtA4YMPPvjgK0Dhgw8++OArQOGDDz744CtA4YMPPvjgK0Dhgw8++OArQOGDDz744CtA4YMPPvjgK0Dhgw8++OArQOGDDz744CtA4YMPPvjgK0Dhgw8++OArQOGDDz744CtA4YMPPvjgK0Dhgw8++OArQOGDDz744CtA4YMPPvjgK0Dhgw8++OArQOGDDz744CtA4YMPPvjgK0Dhgw8++OArQOGDDz744CtA4YMPPvjgK0Dhgw8++OArQOGDDz744CtA4YMPPvjgK0Dhgw8++OArQOGDDz744CtA4YMPPvjgK0Dhgw8++OArQOGDDz744CtA4YMPPvjgK0Dhgw8++OArQOGDDz744CtA4YMPPvjgK0Dhgw8++OArQOGDDz744CtA4YMPPvjgK0Dhgw8++OArQOGDDz744CtAGF100UUXLUAYXXTRRRctQBhddNFFFy1AGF100UUXLUAYXXTRRRctQBhddNFFFy1AGF100UUXLUAYXXTRRRctQBhddNFFFy1AGF100UUXLUAYXXTRRRctQBhddNFFFy1AGF100UUXLUAYXXTRRRctQBhddNFFFy1AGF100UUXLUAYXXTRRRctQBhddNFFFy1AGF100UUXLUAYXXTRRRctQBhddNFFFy1AGF100UUXLUAYXXTRRRctQBhddNFFFy1AGF100UUXLUAYXXTRRRctQBhddNFFFy1AGF100UUXLUAYXXTRRRctQBhddNFFFy1AGF100UUXLUAYXXTRRRctQBhddNFFFy1AGF100UUXLUAYXXTRRRctQBhddNFFFy1AGF100UUXLUAYXXTRRRctQBhddNFFFy1AGF100UUXLUAYXXTRRRctQBhddNFFFy1AGF100UUXLUAYXXTRRRctQBhddNFFFy1AGF100UUXLUAYXXTRRRctQBhddNFFFy1AGF100UUXLUAYXXTRRRctQBhddNFFFy1AGF100UUXLUAYXXTRRRctQBhddNFFFy1AGF100UUXLUAYXXTRRRctQBhddNFFFy1AGF100UUXLUAYXXTRRRctQBhddNFFFy1AGF100UUXLUAYXXTRRRctQBhddNFFFy1AGF100UUXLUAYXXTRRRctQBhddNFFFy1AGF100UUXLUAYXXTRRRctQBhddNFFFy1AGF100UUXLUAYXXTRRRctQBhddNFFFy1AGF100UUXLUAYXXTRRRctQBhddNFFFy1AGF100UUXLUAYXXTRRRctQBhddNFFFy1AGF100UUXLUAYXXTRRRctQBhddNFFFy1AGF100UUXLUAYXXTRRRctQBhddNFFFy1AGF100UUXLUAYXXTRRRctQBhddNFFFy1AGF100UUXLUAYXXTRRRctQBhddNFFFy1AGF100UUXLUAYXXTRRRctQBhddNFFFy1AGF100UUXLUAYXXTRRRctQBhddNFFFy1AGF100UUXLUAYXXTRRRctQBhddNFFFy1AGF100UUXLUBONtlkk00uQE422WSTTS5ATjbZZJNNLkBONtlkk00uQE422WSTTS5ATjbZZJNNLkBONtlkk00uQE422WSTTS5ATjbZZJNNLkBONtlkk00uQE422WSTTS5ATjbZZJNNLkBONtlkk00uQE422WSTTS5ATjbZZJNNLkBONtlkk00uQE422WSTTS5ATjbZZJNNLkBONtlkk00uQE422WSTTS5ATjbZZJNNLkBONtlkk00uQE422WSTTS5ATjbZZJNNLkBONtlkk00uQE422WSTTS5ATjbZZJNNLkBONtlkk00uQE422WSTTS5ATjbZZJNNLkBONtlkk00uQE422WSTTS5ATjbZZJNNLkBONtlkk00uQE422WSTTS5ATjbZZJNNLkBONtlkk00uQE422WSTTS5ATjbZZJNNLkBONtlkk00uQE422WSTTS5ATjbZZJNNLkBONtlkk00uQE422WSTTS5ATjbZZJNNLkBONtlkk00uQE422WSTTS5ATjbZZJNNLkBONtlkk00uQE422WSTTS5ATjbZZJNNLkBONtlkk00uQE422WSTTS5ATjbZZJNNLkBONtlkk00uQE422WSTTS5ATjbZZJNNLkBONtlkk00uQE422WSTTS5ATjbZZJNNLkBONtlkk00uQE422WSTTS5ATjbZZJNNLkBONtlkk00uQE422WSTTS5ATjbZZJNNLkBONtlkk00uQE422WSTTS5ATjbZZJNNLkBONtlkk00uQE422WSTTS5ATjbZZJNNLkBONtlkk00uQE422WSTTS5ATjbZZJNNLkBONtlkk00uQE422WSTTS5ATjbZZJNNLkBONtlkk00uQE422WSTTS5ATjbZZJNNLkBONtlkk00uQE422WSTTS5ATjbZZJNNLkBONtlkk00uQE422WSTTS5ATjbZZJNNLkBONtlkk00uQE422WSTTS5ATjbZZJNNLkBONtlkk00uQE422WSTTS5ATjbZZJNNLkBONtlkk00uQE422WSTTS5ATjbZZJNNLkBONtlkk00uQE422WSTTS5ATjbZZJNNLkBONtlkk00uQIQPPvjggy9AhA8++OCDL0CEDz744IMvQIQPPvjggy9AhA8++OCDL0CEDz744IMvQIQPPvjggy9AhA8++OCDL0CEDz744IMvQIQPPvjggy9AhA8++OCDL0CEDz744IMvQIQPPvjggy9AhA8++OCDL0CEDz744IMvQIQPPvjggy9AhA8++OCDL0CEDz744IMvQIQPPvjggy9AhA8++OCDL0CEDz744IMvQIQPPvjggy9AhA8++OCDL0CEDz744IMvQIQPPvjggy9AhA8++OCDL0CEDz744IMvQIQPPvjggy9AhA8++OCDL0CEDz744IMvQIQPPvjggy9AhA8++OCDL0CEDz744IMvQIQPPvjggy9AhA8++OCDL0CEDz744IMvQIQPPvjggy9AhA8++OCDL0CEDz744IMvQIQPPvjggy9AhA8++OCDL0CEDz744IMvQIQPPvjggy9AhA8++OCDL0CEDz744IMvQIQPPvjggy9AhA8++OCDL0CEDz744IMvQIQPPvjggy9AhA8++OCDL0CEDz744IMvQIQPPvjggy9AhA8++OCDL0CEDz744IMvQIQPPvjggy9AhA8++OCDL0CEDz744IMvQIQPPvjggy9AhA8++OCDL0CEDz744IMvQIQPPvjggy9AhA8++OCDL0CEDz744IMvQIQPPvjggy9AhA8++OCDL0CEDz744IMvQIQPPvjggy9AhA8++OCDL0CEDz744IMvQIQPPvjggy9AhA8++OCDL0CEDz744IMvQIQPPvjggy9AhA8++OCDL0CEDz744IMvQIQPPvjggy9AhA8++OCDL0CEDz744IMvQIQPPvjggy9AhA8++OCDL0CEDz744IMvQIQPPvjggy9AhA8++OCDL0CEDz744IMvQIQPPvjggy9AhA8++OCDL0CEDz744IMvQIQPPvjggy9AhA8++OCDL0CEDz744IMvQIQPPvjggy9AhA8++OCDL0CEDz744IMvQIQPPvjggy9AhA8++OCDL0CEDz744IMvQIQPPvjggy9AhA8++OCDL0CEDz744IMvQIQPPvjggy9AXXTRRRddMEBddNFFF10wQF100UUXXTBAXXTRRRddMEBddNFFF10wQF100UUXXTBAXXTRRRddMEBddNFFF10wQF100UUXXTBAXXTRRRddMEBddNFFF10wQF100UUXXTBAXXTRRRddMEBddNFFF10wQF100UUXXTBAXXTRRRddMEBddNFFF10wQF100UUXXTBAXXTRRRddMEBddNFFF10wQF100UUXXTBAXXTRRRddMEBddNFFF10wQF100UUXXTBAXXTRRRddMEBddNFFF10wQF100UUXXTBAXXTRRRddMEBddNFFF10wQF100UUXXTBAXXTRRRddMEBddNFFF10wQF100UUXXTBAXXTRRRddMEBddNFFF10wQF100UUXXTBAXXTRRRddMEBddNFFF10wQF100UUXXTBAXXTRRRddMEBddNFFF10wQF100UUXXTBAXXTRRRddMEBddNFFF10wQF100UUXXTBAXXTRRRddMEBddNFFF10wQF100UUXXTBAXXTRRRddMEBddNFFF10wQF100UUXXTBAXXTRRRddMEBddNFFF10wQF100UUXXTBAXXTRRRddMEBddNFFF10wQF100UUXXTBAXXTRRRddMEBddNFFF10wQF100UUXXTBAXXTRRRddMEBddNFFF10wQF100UUXXTBAXXTRRRddMEBddNFFF10wQF100UUXXTBAXXTRRRddMEBddNFFF10wQF100UUXXTBAXXTRRRddMEBddNFFF10wQF100UUXXTBAXXTRRRddMEBddNFFF10wQF100UUXXTBAXXTRRRddMEBddNFFF10wQF100UUXXTBAXXTRRRddMEBddNFFF10wQF100UUXXTBAXXTRRRddMEBddNFFF10wQF100UUXXTBAXXTRRRddMEBddNFFF10wQF100UUXXTBAXXTRRRddMEBddNFFF10wQF100UUXXTBAXXTRRRddMEBddNFFF10wQF100UUXXTBAXXTRRRddMEBddNFFF10wQF100UUXXTBAXXTRRRddMEBddNFFF10wQF100UUXXTBAXXTRRRddMED44IMPPvgwQPjggw8++DBA+OCDDz74MED44IMPPvgwQPjggw8++DBA+OCDDz74MED44IMPPvgwQPjggw8++DBA+OCDDz74MED44IMPPvgwQPjggw8++DBA+OCDDz74MED44IMPPvgwQPjggw8++DBA+OCDDz74MED44IMPPvgwQPjggw8++DBA+OCDDz74MED44IMPPvgwQPjggw8++DBA+OCDDz74MED44IMPPvgwQPjggw8++DBA+OCDDz74MED44IMPPvgwQPjggw8++DBA+OCDDz74MED44IMPPvgwQPjggw8++DBA+OCDDz74MED44IMPPvgwQPjggw8++DBA+OCDDz74MED44IMPPvgwQPjggw8++DBA+OCDDz74MED44IMPPvgwQPjggw8++DBA+OCDDz74MED44IMPPvgwQPjggw8++DBA+OCDDz74MED44IMPPvgwQPjggw8++DBA+OCDDz74MED44IMPPvgwQPjggw8++DBA+OCDDz74MED44IMPPvgwQPjggw8++DBA+OCDDz74MED44IMPPvgwQPjggw8++DBA+OCDDz74MED44IMPPvgwQPjggw8++DBA+OCDDz74MED44IMPPvgwQPjggw8++DBA+OCDDz74MED44IMPPvgwQPjggw8++DBA+OCDDz74MED44IMPPvgwQPjggw8++DBA+OCDDz74MED44IMPPvgwQPjggw8++DBA+OCDDz74MED44IMPPvgwQPjggw8++DBA+OCDDz74MED44IMPPvgwQPjggw8++DBA+OCDDz74MED44IMPPvgwQPjggw8++DBA+OCDDz74MED44IMPPvgwQPjggw8++DBA+OCDDz74MED44IMPPvgwQPjggw8++DBA+OCDDz74MED44IMPPvgwQPjggw8++DBA+OCDDz74MED44IMPPvgwQPjggw8++DBA+OCDDz74MED44IMPPvgwQPjggw8++DBA+OCDDz74MED44IMPPvgwQPjggw8++DBA+OCDDz74MED44IMPPvgwQPjggw8++DBA+OCDDz74MED44IMPPvgwQJRNNtlkkzFAlE022WSTMUCUTTbZZJMxQJRNNtlkkzFAlE022WSTMUCUTTbZZJMxQJRNNtlkkzFAlE022WSTMUCUTTbZZJMxQJRNNtlkkzFAlE022WSTMUCUTTbZZJMxQJRNNtlkkzFAlE022WSTMUCUTTbZZJMxQJRNNtlkkzFAlE022WSTMUCUTTbZZJMxQJRNNtlkkzFAlE022WSTMUCUTTbZZJMxQJRNNtlkkzFAlE022WSTMUCUTTbZZJMxQJRNNtlkkzFAlE022WSTMUCUTTbZZJMxQJRNNtlkkzFAlE022WSTMUCUTTbZZJMxQJRNNtlkkzFAlE022WSTMUCUTTbZZJMxQJRNNtlkkzFAlE022WSTMUCUTTbZZJMxQJRNNtlkkzFAlE022WSTMUCUTTbZZJMxQJRNNtlkkzFAlE022WSTMUCUTTbZZJMxQJRNNtlkkzFAlE022WSTMUCUTTbZZJMxQJRNNtlkkzFAlE022WSTMUCUTTbZZJMxQJRNNtlkkzFAlE022WSTMUCUTTbZZJMxQJRNNtlkkzFAlE022WSTMUCUTTbZZJMxQJRNNtlkkzFAlE022WSTMUCUTTbZZJMxQJRNNtlkkzFAlE022WSTMUCUTTbZZJMxQJRNNtlkkzFAlE022WSTMUCUTTbZZJMxQJRNNtlkkzFAlE022WSTMUCUTTbZZJMxQJRNNtlkkzFAlE022WSTMUCUTTbZZJMxQJRNNtlkkzFAlE022WSTMUCUTTbZZJMxQJRNNtlkkzFAlE022WSTMUCUTTbZZJMxQJRNNtlkkzFAlE022WSTMUCUTTbZZJMxQJRNNtlkkzFAlE022WSTMUCUTTbZZJMxQJRNNtlkkzFAlE022WSTMUCUTTbZZJMxQJRNNtlkkzFAlE022WSTMUCUTTbZZJMxQJRNNtlkkzFAlE022WSTMUCUTTbZZJMxQJRNNtlkkzFAlE022WSTMUCUTTbZZJMxQJRNNtlkkzFAlE022WSTMUCUTTbZZJMxQJRNNtlkkzFAlE022WSTMUCUTTbZZJMxQJRNNtlkkzFAL7rooosuMkAvuuiiiy4yQC+66KKLLjJAL7rooosuMkAvuuiiiy4yQC+66KKLLjJAL7rooosuMkAvuuiiiy4yQC+66KKLLjJAL7rooosuMkAvuuiiiy4yQC+66KKLLjJAL7rooosuMkAvuuiiiy4yQC+66KKLLjJAL7rooosuMkAvuuiiiy4yQC+66KKLLjJAL7rooosuMkAvuuiiiy4yQC+66KKLLjJAL7rooosuMkAvuuiiiy4yQC+66KKLLjJAL7rooosuMkAvuuiiiy4yQC+66KKLLjJAL7rooosuMkAvuuiiiy4yQC+66KKLLjJAL7rooosuMkAvuuiiiy4yQC+66KKLLjJAL7rooosuMkAvuuiiiy4yQC+66KKLLjJAL7rooosuMkAvuuiiiy4yQC+66KKLLjJAL7rooosuMkAvuuiiiy4yQC+66KKLLjJAL7rooosuMkAvuuiiiy4yQC+66KKLLjJAL7rooosuMkAvuuiiiy4yQC+66KKLLjJAL7rooosuMkAvuuiiiy4yQC+66KKLLjJAL7rooosuMkAvuuiiiy4yQC+66KKLLjJAL7rooosuMkAvuuiiiy4yQC+66KKLLjJAL7rooosuMkAvuuiiiy4yQC+66KKLLjJAL7rooosuMkAvuuiiiy4yQC+66KKLLjJAL7rooosuMkAvuuiiiy4yQC+66KKLLjJAL7rooosuMkAvuuiiiy4yQC+66KKLLjJAL7rooosuMkAvuuiiiy4yQC+66KKLLjJAL7rooosuMkAvuuiiiy4yQC+66KKLLjJAL7rooosuMkAvuuiiiy4yQC+66KKLLjJAL7rooosuMkAvuuiiiy4yQC+66KKLLjJAL7rooosuMkAvuuiiiy4yQC+66KKLLjJAL7rooosuMkAvuuiiiy4yQC+66KKLLjJAL7rooosuMkAvuuiiiy4yQC+66KKLLjJAL7rooosuMkAvuuiiiy4yQC+66KKLLjJAL7rooosuMkAvuuiiiy4yQC+66KKLLjJAL7rooosuMkAvuuiiiy4yQC+66KKLLjJAL7rooosuMkDKJptssskyQMomm2yyyTJAyiabbLLJMkDKJptssskyQMomm2yyyTJAyiabbLLJMkDKJptssskyQMomm2yyyTJAyiabbLLJMkDKJptssskyQMomm2yyyTJAyiabbLLJMkDKJptssskyQMomm2yyyTJAyiabbLLJMkDKJptssskyQMomm2yyyTJAyiabbLLJMkDKJptssskyQMomm2yyyTJAyiabbLLJMkDKJptssskyQMomm2yyyTJAyiabbLLJMkDKJptssskyQMomm2yyyTJAyiabbLLJMkDKJptssskyQMomm2yyyTJAyiabbLLJMkDKJptssskyQMomm2yyyTJAyiabbLLJMkDKJptssskyQMomm2yyyTJAyiabbLLJMkDKJptssskyQMomm2yyyTJAyiabbLLJMkDKJptssskyQMomm2yyyTJAyiabbLLJMkDKJptssskyQMomm2yyyTJAyiabbLLJMkDKJptssskyQMomm2yyyTJAyiabbLLJMkDKJptssskyQMomm2yyyTJAyiabbLLJMkDKJptssskyQMomm2yyyTJAyiabbLLJMkDKJptssskyQMomm2yyyTJAyiabbLLJMkDKJptssskyQMomm2yyyTJAyiabbLLJMkDKJptssskyQMomm2yyyTJAyiabbLLJMkDKJptssskyQMomm2yyyTJAyiabbLLJMkDKJptssskyQMomm2yyyTJAyiabbLLJMkDKJptssskyQMomm2yyyTJAyiabbLLJMkDKJptssskyQMomm2yyyTJAyiabbLLJMkDKJptssskyQMomm2yyyTJAyiabbLLJMkDKJptssskyQMomm2yyyTJAyiabbLLJMkDKJptssskyQMomm2yyyTJAyiabbLLJMkDKJptssskyQMomm2yyyTJAyiabbLLJMkDKJptssskyQMomm2yyyTJAyiabbLLJMkDKJptssskyQMomm2yyyTJAyiabbLLJMkDKJptssskyQMomm2yyyTJAyiabbLLJMkDKJptssskyQMomm2yyyTJAyiabbLLJMkDKJptssskyQGWTTTbZZDNAZZNNNtlkM0Blk0022WQzQGWTTTbZZDNAZZNNNtlkM0Blk0022WQzQGWTTTbZZDNAZZNNNtlkM0Blk0022WQzQGWTTTbZZDNAZZNNNtlkM0Blk0022WQzQGWTTTbZZDNAZZNNNtlkM0Blk0022WQzQGWTTTbZZDNAZZNNNtlkM0Blk0022WQzQGWTTTbZZDNAZZNNNtlkM0Blk0022WQzQGWTTTbZZDNAZZNNNtlkM0Blk0022WQzQGWTTTbZZDNAZZNNNtlkM0Blk0022WQzQGWTTTbZZDNAZZNNNtlkM0Blk0022WQzQGWTTTbZZDNAZZNNNtlkM0Blk0022WQzQGWTTTbZZDNAZZNNNtlkM0Blk0022WQzQGWTTTbZZDNAZZNNNtlkM0Blk0022WQzQGWTTTbZZDNAZZNNNtlkM0Blk0022WQzQGWTTTbZZDNAZZNNNtlkM0Blk0022WQzQGWTTTbZZDNAZZNNNtlkM0Blk0022WQzQGWTTTbZZDNAZZNNNtlkM0Blk0022WQzQGWTTTbZZDNAZZNNNtlkM0Blk0022WQzQGWTTTbZZDNAZZNNNtlkM0Blk0022WQzQGWTTTbZZDNAZZNNNtlkM0Blk0022WQzQGWTTTbZZDNAZZNNNtlkM0Blk0022WQzQGWTTTbZZDNAZZNNNtlkM0Blk0022WQzQGWTTTbZZDNAZZNNNtlkM0Blk0022WQzQGWTTTbZZDNAZZNNNtlkM0Blk0022WQzQGWTTTbZZDNAZZNNNtlkM0Blk0022WQzQGWTTTbZZDNAZZNNNtlkM0Blk0022WQzQGWTTTbZZDNAZZNNNtlkM0Blk0022WQzQGWTTTbZZDNAZZNNNtlkM0Blk0022WQzQGWTTTbZZDNAZZNNNtlkM0Blk0022WQzQGWTTTbZZDNAZZNNNtlkM0Blk0022WQzQGWTTTbZZDNAZZNNNtlkM0Blk0022WQzQGWTTTbZZDNAZZNNNtlkM0Blk0022WQzQGWTTTbZZDNAZZNNNtlkM0Blk0022WQzQGWTTTbZZDNAAAAAAAAANEAAAAAAAAA0QAAAAAAAADRAAAAAAAAANEAAAAAAAAA0QAAAAAAAADRAAAAAAAAANEAAAAAAAAA0QAAAAAAAADRAAAAAAAAANEAAAAAAAAA0QAAAAAAAADRAAAAAAAAANEAAAAAAAAA0QAAAAAAAADRAAAAAAAAANEAAAAAAAAA0QAAAAAAAADRAAAAAAAAANEAAAAAAAAA0QAAAAAAAADRAAAAAAAAANEAAAAAAAAA0QAAAAAAAADRAAAAAAAAANEAAAAAAAAA0QAAAAAAAADRAAAAAAAAANEAAAAAAAAA0QAAAAAAAADRAAAAAAAAANEAAAAAAAAA0QAAAAAAAADRAAAAAAAAANEAAAAAAAAA0QAAAAAAAADRAAAAAAAAANEAAAAAAAAA0QAAAAAAAADRAAAAAAAAANEAAAAAAAAA0QAAAAAAAADRAAAAAAAAANEAAAAAAAAA0QAAAAAAAADRAAAAAAAAANEAAAAAAAAA0QAAAAAAAADRAAAAAAAAANEAAAAAAAAA0QAAAAAAAADRAAAAAAAAANEAAAAAAAAA0QAAAAAAAADRAAAAAAAAANEAAAAAAAAA0QAAAAAAAADRAAAAAAAAANEAAAAAAAAA0QAAAAAAAADRAAAAAAAAANEAAAAAAAAA0QAAAAAAAADRAAAAAAAAANEAAAAAAAAA0QAAAAAAAADRAAAAAAAAANEAAAAAAAAA0QAAAAAAAADRAAAAAAAAANEAAAAAAAAA0QAAAAAAAADRAAAAAAAAANEAAAAAAAAA0QAAAAAAAADRAAAAAAAAANEAAAAAAAAA0QAAAAAAAADRAAAAAAAAANEAAAAAAAAA0QAAAAAAAADRAAAAAAAAANEAAAAAAAAA0QAAAAAAAADRAAAAAAAAANEAAAAAAAAA0QAAAAAAAADRAAAAAAAAANEAAAAAAAAA0QAAAAAAAADRAAAAAAAAANEAAAAAAAAA0QAAAAAAAADRAAAAAAAAANEAAAAAAAAA0QAAAAAAAADRAAAAAAAAANEAAAAAAAAA0QAAAAAAAADRAAAAAAAAANECbbLLJJps0QJtssskmmzRAm2yyySabNECbbLLJJps0QJtssskmmzRAm2yyySabNECbbLLJJps0QJtssskmmzRAm2yyySabNECbbLLJJps0QJtssskmmzRAm2yyySabNECbbLLJJps0QJtssskmmzRAm2yyySabNECbbLLJJps0QJtssskmmzRAm2yyySabNECbbLLJJps0QJtssskmmzRAm2yyySabNECbbLLJJps0QJtssskmmzRAm2yyySabNECbbLLJJps0QJtssskmmzRAm2yyySabNECbbLLJJps0QJtssskmmzRAm2yyySabNECbbLLJJps0QJtssskmmzRAm2yyySabNECbbLLJJps0QJtssskmmzRAm2yyySabNECbbLLJJps0QJtssskmmzRAm2yyySabNECbbLLJJps0QJtssskmmzRAm2yyySabNECbbLLJJps0QJtssskmmzRAm2yyySabNECbbLLJJps0QJtssskmmzRAm2yyySabNECbbLLJJps0QJtssskmmzRAm2yyySabNECbbLLJJps0QJtssskmmzRAm2yyySabNECbbLLJJps0QJtssskmmzRAm2yyySabNECbbLLJJps0QJtssskmmzRAm2yyySabNECbbLLJJps0QJtssskmmzRAm2yyySabNECbbLLJJps0QJtssskmmzRAm2yyySabNECbbLLJJps0QJtssskmmzRAm2yyySabNECbbLLJJps0QJtssskmmzRAm2yyySabNECbbLLJJps0QJtssskmmzRAm2yyySabNECbbLLJJps0QJtssskmmzRAm2yyySabNECbbLLJJps0QJtssskmmzRAm2yyySabNECbbLLJJps0QJtssskmmzRAm2yyySabNECbbLLJJps0QJtssskmmzRAm2yyySabNECbbLLJJps0QJtssskmmzRAm2yyySabNECbbLLJJps0QJtssskmmzRAm2yyySabNECbbLLJJps0QJtssskmmzRAm2yyySabNECbbLLJJps0QJtssskmmzRAm2yyySabNECbbLLJJps0QDbZZJNNNjVANtlkk002NUA22WSTTTY1QDbZZJNNNjVANtlkk002NUA22WSTTTY1QDbZZJNNNjVANtlkk002NUA22WSTTTY1QDbZZJNNNjVANtlkk002NUA22WSTTTY1QDbZZJNNNjVANtlkk002NUA22WSTTTY1QDbZZJNNNjVANtlkk002NUA22WSTTTY1QDbZZJNNNjVANtlkk002NUA22WSTTTY1QDbZZJNNNjVANtlkk002NUA22WSTTTY1QDbZZJNNNjVANtlkk002NUA22WSTTTY1QDbZZJNNNjVANtlkk002NUA22WSTTTY1QDbZZJNNNjVANtlkk002NUA22WSTTTY1QDbZZJNNNjVANtlkk002NUA22WSTTTY1QDbZZJNNNjVANtlkk002NUA22WSTTTY1QDbZZJNNNjVANtlkk002NUA22WSTTTY1QDbZZJNNNjVANtlkk002NUA22WSTTTY1QDbZZJNNNjVANtlkk002NUA22WSTTTY1QDbZZJNNNjVANtlkk002NUA22WSTTTY1QDbZZJNNNjVANtlkk002NUA22WSTTTY1QDbZZJNNNjVANtlkk002NUA22WSTTTY1QDbZZJNNNjVANtlkk002NUA22WSTTTY1QDbZZJNNNjVANtlkk002NUA22WSTTTY1QDbZZJNNNjVANtlkk002NUA22WSTTTY1QDbZZJNNNjVANtlkk002NUA22WSTTTY1QDbZZJNNNjVANtlkk002NUA22WSTTTY1QDbZZJNNNjVANtlkk002NUA22WSTTTY1QDbZZJNNNjVANtlkk002NUA22WSTTTY1QDbZZJNNNjVANtlkk002NUA22WSTTTY1QDbZZJNNNjVANtlkk002NUA22WSTTTY1QDbZZJNNNjVANtlkk002NUA22WSTTTY1QDbZZJNNNjVANtlkk002NUA22WSTTTY1QDbZZJNNNjVANtlkk002NUA22WSTTTY1QDbZZJNNNjVANtlkk002NUA22WSTTTY1QDbZZJNNNjVANtlkk002NUA22WSTTTY1QDbZZJNNNjVA0kUXXXTRNUDSRRdddNE1QNJFF1100TVA0kUXXXTRNUDSRRdddNE1QNJFF1100TVA0kUXXXTRNUDSRRdddNE1QNJFF1100TVA0kUXXXTRNUDSRRdddNE1QNJFF1100TVA0kUXXXTRNUDSRRdddNE1QNJFF1100TVA0kUXXXTRNUDSRRdddNE1QNJFF1100TVA0kUXXXTRNUDSRRdddNE1QNJFF1100TVA0kUXXXTRNUDSRRdddNE1QNJFF1100TVA0kUXXXTRNUDSRRdddNE1QNJFF1100TVA0kUXXXTRNUDSRRdddNE1QNJFF1100TVA0kUXXXTRNUDSRRdddNE1QNJFF1100TVA0kUXXXTRNUDSRRdddNE1QNJFF1100TVA0kUXXXTRNUDSRRdddNE1QNJFF1100TVA0kUXXXTRNUDSRRdddNE1QNJFF1100TVA0kUXXXTRNUDSRRdddNE1QNJFF1100TVA0kUXXXTRNUDSRRdddNE1QNJFF1100TVA0kUXXXTRNUDSRRdddNE1QNJFF1100TVA0kUXXXTRNUDSRRdddNE1QNJFF1100TVA0kUXXXTRNUDSRRdddNE1QNJFF1100TVA0kUXXXTRNUDSRRdddNE1QNJFF1100TVA0kUXXXTRNUDSRRdddNE1QNJFF1100TVA0kUXXXTRNUDSRRdddNE1QNJFF1100TVA0kUXXXTRNUDSRRdddNE1QNJFF1100TVA0kUXXXTRNUDSRRdddNE1QNJFF1100TVA0kUXXXTRNUDSRRdddNE1QNJFF1100TVA0kUXXXTRNUDSRRdddNE1QNJFF1100TVA0kUXXXTRNUDSRRdddNE1QNJFF1100TVA0kUXXXTRNUDSRRdddNE1QNJFF1100TVA0kUXXXTRNUDSRRdddNE1QNJFF1100TVA0kUXXXTRNUDSRRdddNE1QNJFF1100TVA0kUXXXTRNUDSRRdddNE1QNJFF1100TVA0kUXXXTRNUDSRRdddNE1QNJFF1100TVA0kUXXXTRNUDSRRdddNE1QNJFF1100TVA0kUXXXTRNUBtsskmm2w2QG2yySabbDZAbbLJJptsNkBtsskmm2w2QG2yySabbDZAbbLJJptsNkBtsskmm2w2QG2yySabbDZAbbLJJptsNkBtsskmm2w2QG2yySabbDZAbbLJJptsNkBtsskmm2w2QG2yySabbDZAbbLJJptsNkBtsskmm2w2QG2yySabbDZAbbLJJptsNkBtsskmm2w2QG2yySabbDZAbbLJJptsNkBtsskmm2w2QG2yySabbDZAbbLJJptsNkBtsskmm2w2QG2yySabbDZAbbLJJptsNkBtsskmm2w2QG2yySabbDZAbbLJJptsNkBtsskmm2w2QG2yySabbDZAbbLJJptsNkBtsskmm2w2QG2yySabbDZAbbLJJptsNkBtsskmm2w2QG2yySabbDZAbbLJJptsNkBtsskmm2w2QG2yySabbDZAbbLJJptsNkBtsskmm2w2QG2yySabbDZAbbLJJptsNkBtsskmm2w2QG2yySabbDZAbbLJJptsNkBtsskmm2w2QG2yySabbDZAbbLJJptsNkBtsskmm2w2QG2yySabbDZAbbLJJptsNkBtsskmm2w2QG2yySabbDZAbbLJJptsNkBtsskmm2w2QG2yySabbDZAbbLJJptsNkBtsskmm2w2QG2yySabbDZAbbLJJptsNkBtsskmm2w2QG2yySabbDZAbbLJJptsNkBtsskmm2w2QG2yySabbDZAbbLJJptsNkBtsskmm2w2QG2yySabbDZAbbLJJptsNkBtsskmm2w2QG2yySabbDZAbbLJJptsNkBtsskmm2w2QG2yySabbDZAbbLJJptsNkBtsskmm2w2QG2yySabbDZAbbLJJptsNkBtsskmm2w2QG2yySabbDZAbbLJJptsNkBtsskmm2w2QG2yySabbDZAbbLJJptsNkBtsskmm2w2QG2yySabbDZAbbLJJptsNkBtsskmm2w2QG2yySabbDZAbbLJJptsNkBtsskmm2w2QG2yySabbDZAbbLJJptsNkBtsskmm2w2QG2yySabbDZAbbLJJptsNkBtsskmm2w2QAgffPDBBzdACB988MEHN0AIH3zwwQc3QAgffPDBBzdACB988MEHN0AIH3zwwQc3QAgffPDBBzdACB988MEHN0AIH3zwwQc3QAgffPDBBzdACB988MEHN0AIH3zwwQc3QAgffPDBBzdACB988MEHN0AIH3zwwQc3QAgffPDBBzdACB988MEHN0AIH3zwwQc3QAgffPDBBzdACB988MEHN0AIH3zwwQc3QAgffPDBBzdACB988MEHN0AIH3zwwQc3QAgffPDBBzdACB988MEHN0AIH3zwwQc3QAgffPDBBzdACB988MEHN0AIH3zwwQc3QAgffPDBBzdACB988MEHN0AIH3zwwQc3QAgffPDBBzdACB988MEHN0AIH3zwwQc3QAgffPDBBzdACB988MEHN0AIH3zwwQc3QAgffPDBBzdACB988MEHN0AIH3zwwQc3QAgffPDBBzdACB988MEHN0AIH3zwwQc3QAgffPDBBzdACB988MEHN0AIH3zwwQc3QAgffPDBBzdACB988MEHN0AIH3zwwQc3QAgffPDBBzdACB988MEHN0AIH3zwwQc3QAgffPDBBzdACB988MEHN0AIH3zwwQc3QAgffPDBBzdACB988MEHN0AIH3zwwQc3QAgffPDBBzdACB988MEHN0AIH3zwwQc3QAgffPDBBzdACB988MEHN0AIH3zwwQc3QAgffPDBBzdACB988MEHN0AIH3zwwQc3QAgffPDBBzdACB988MEHN0AIH3zwwQc3QAgffPDBBzdACB988MEHN0AIH3zwwQc3QAgffPDBBzdACB988MEHN0AIH3zwwQc3QAgffPDBBzdACB988MEHN0AIH3zwwQc3QAgffPDBBzdACB988MEHN0AIH3zwwQc3QAgffPDBBzdACB988MEHN0AIH3zwwQc3QAgffPDBBzdACB988MEHN0AIH3zwwQc3QAgffPDBBzdACB988MEHN0AIH3zwwQc3QAgffPDBBzdACB988MEHN0AIH3zwwQc3QAgffPDBBzdACB988MEHN0AIH3zwwQc3QAgffPDBBzdAo4suuuiiN0Cjiy666KI3QKOLLrroojdAo4suuuiiN0Cjiy666KI3QKOLLrroojdAo4suuuiiN0Cjiy666KI3QKOLLrroojdAo4suuuiiN0Cjiy666KI3QKOLLrroojdAo4suuuiiN0Cjiy666KI3QKOLLrroojdAo4suuuiiN0Cjiy666KI3QKOLLrroojdAo4suuuiiN0Cjiy666KI3QKOLLrroojdAo4suuuiiN0Cjiy666KI3QKOLLrroojdAo4suuuiiN0Cjiy666KI3QKOLLrroojdAo4suuuiiN0Cjiy666KI3QKOLLrroojdAo4suuuiiN0Cjiy666KI3QKOLLrroojdAo4suuuiiN0Cjiy666KI3QKOLLrroojdAo4suuuiiN0Cjiy666KI3QKOLLrroojdAo4suuuiiN0Cjiy666KI3QKOLLrroojdAo4suuuiiN0Cjiy666KI3QKOLLrroojdAo4suuuiiN0Cjiy666KI3QKOLLrroojdAo4suuuiiN0Cjiy666KI3QKOLLrroojdAo4suuuiiN0Cjiy666KI3QKOLLrroojdAo4suuuiiN0Cjiy666KI3QKOLLrroojdAo4suuuiiN0Cjiy666KI3QKOLLrroojdAo4suuuiiN0Cjiy666KI3QKOLLrroojdAo4suuuiiN0Cjiy666KI3QKOLLrroojdAo4suuuiiN0Cjiy666KI3QKOLLrroojdAo4suuuiiN0Cjiy666KI3QKOLLrroojdAo4suuuiiN0Cjiy666KI3QKOLLrroojdAo4suuuiiN0Cjiy666KI3QKOLLrroojdAo4suuuiiN0Cjiy666KI3QKOLLrroojdAo4suuuiiN0Cjiy666KI3QKOLLrroojdAo4suuuiiN0Cjiy666KI3QKOLLrroojdAo4suuuiiN0Cjiy666KI3QKOLLrroojdAo4suuuiiN0Cjiy666KI3QKOLLrroojdAo4suuuiiN0Cjiy666KI3QKOLLrroojdAo4suuuiiN0Cjiy666KI3QKOLLrroojdAo4suuuiiN0A++OCDDz44QD744IMPPjhAPvjggw8+OEA++OCDDz44QD744IMPPjhAPvjggw8+OEA++OCDDz44QD744IMPPjhAPvjggw8+OEA++OCDDz44QD744IMPPjhAPvjggw8+OEA++OCDDz44QD744IMPPjhAPvjggw8+OEA++OCDDz44QD744IMPPjhAPvjggw8+OEA++OCDDz44QD744IMPPjhAPvjggw8+OEA++OCDDz44QD744IMPPjhAPvjggw8+OEA++OCDDz44QD744IMPPjhAPvjggw8+OEA++OCDDz44QD744IMPPjhAPvjggw8+OEA++OCDDz44QD744IMPPjhAPvjggw8+OEA++OCDDz44QD744IMPPjhAPvjggw8+OEA++OCDDz44QD744IMPPjhAPvjggw8+OEA++OCDDz44QD744IMPPjhAPvjggw8+OEA++OCDDz44QD744IMPPjhAPvjggw8+OEA++OCDDz44QD744IMPPjhAPvjggw8+OEA++OCDDz44QD744IMPPjhAPvjggw8+OEA++OCDDz44QD744IMPPjhAPvjggw8+OEA++OCDDz44QD744IMPPjhAPvjggw8+OEA++OCDDz44QD744IMPPjhAPvjggw8+OEA++OCDDz44QD744IMPPjhAPvjggw8+OEA++OCDDz44QD744IMPPjhAPvjggw8+OEA++OCDDz44QD744IMPPjhAPvjggw8+OEA++OCDDz44QD744IMPPjhAPvjggw8+OEA++OCDDz44QD744IMPPjhAPvjggw8+OEA++OCDDz44QD744IMPPjhAPvjggw8+OEA++OCDDz44QD744IMPPjhAPvjggw8+OEA++OCDDz44QD744IMPPjhAPvjggw8+OEA++OCDDz44QD744IMPPjhAPvjggw8+OEA++OCDDz44QD744IMPPjhAPvjggw8+OEA++OCDDz44QD744IMPPjhAPvjggw8+OEA++OCDDz44QD744IMPPjhAPvjggw8+OEA++OCDDz44QD744IMPPjhAPvjggw8+OEA++OCDDz44QNlkk0022ThA2WSTTTbZOEDZZJNNNtk4QNlkk0022ThA2WSTTTbZOEDZZJNNNtk4QNlkk0022ThA2WSTTTbZOEDZZJNNNtk4QNlkk0022ThA2WSTTTbZOEDZZJNNNtk4QNlkk0022ThA2WSTTTbZOEDZZJNNNtk4QNlkk0022ThA2WSTTTbZOEDZZJNNNtk4QNlkk0022ThA2WSTTTbZOEDZZJNNNtk4QNlkk0022ThA2WSTTTbZOEDZZJNNNtk4QNlkk0022ThA2WSTTTbZOEDZZJNNNtk4QNlkk0022ThA2WSTTTbZOEDZZJNNNtk4QNlkk0022ThA2WSTTTbZOEDZZJNNNtk4QNlkk0022ThA2WSTTTbZOEDZZJNNNtk4QNlkk0022ThA2WSTTTbZOEDZZJNNNtk4QNlkk0022ThA2WSTTTbZOEDZZJNNNtk4QNlkk0022ThA2WSTTTbZOEDZZJNNNtk4QNlkk0022ThA2WSTTTbZOEDZZJNNNtk4QNlkk0022ThA2WSTTTbZOEDZZJNNNtk4QNlkk0022ThA2WSTTTbZOEDZZJNNNtk4QNlkk0022ThA2WSTTTbZOEDZZJNNNtk4QNlkk0022ThA2WSTTTbZOEDZZJNNNtk4QNlkk0022ThA2WSTTTbZOEDZZJNNNtk4QNlkk0022ThA2WSTTTbZOEDZZJNNNtk4QNlkk0022ThA2WSTTTbZOEDZZJNNNtk4QNlkk0022ThA2WSTTTbZOEDZZJNNNtk4QNlkk0022ThA2WSTTTbZOEDZZJNNNtk4QNlkk0022ThA2WSTTTbZOEDZZJNNNtk4QNlkk0022ThA2WSTTTbZOEDZZJNNNtk4QNlkk0022ThA2WSTTTbZOEDZZJNNNtk4QNlkk0022ThA2WSTTTbZOEDZZJNNNtk4QNlkk0022ThA2WSTTTbZOEDZZJNNNtk4QNlkk0022ThA2WSTTTbZOEDZZJNNNtk4QNlkk0022ThA2WSTTTbZOEDZZJNNNtk4QNlkk0022ThA2WSTTTbZOEDZZJNNNtk4QNlkk0022ThAddFFF110OUB10UUXXXQ5QHXRRRdddDlAddFFF110OUB10UUXXXQ5QHXRRRdddDlAddFFF110OUB10UUXXXQ5QHXRRRdddDlAddFFF110OUB10UUXXXQ5QHXRRRdddDlAddFFF110OUB10UUXXXQ5QHXRRRdddDlAddFFF110OUB10UUXXXQ5QHXRRRdddDlAddFFF110OUB10UUXXXQ5QHXRRRdddDlAddFFF110OUB10UUXXXQ5QHXRRRdddDlAddFFF110OUB10UUXXXQ5QHXRRRdddDlAddFFF110OUB10UUXXXQ5QHXRRRdddDlAddFFF110OUB10UUXXXQ5QHXRRRdddDlAddFFF110OUB10UUXXXQ5QHXRRRdddDlAddFFF110OUB10UUXXXQ5QHXRRRdddDlAddFFF110OUB10UUXXXQ5QHXRRRdddDlAddFFF110OUB10UUXXXQ5QHXRRRdddDlAddFFF110OUB10UUXXXQ5QHXRRRdddDlAddFFF110OUB10UUXXXQ5QHXRRRdddDlAddFFF110OUB10UUXXXQ5QHXRRRdddDlAddFFF110OUB10UUXXXQ5QHXRRRdddDlAddFFF110OUB10UUXXXQ5QHXRRRdddDlAddFFF110OUB10UUXXXQ5QHXRRRdddDlAddFFF110OUB10UUXXXQ5QHXRRRdddDlAddFFF110OUB10UUXXXQ5QHXRRRdddDlAddFFF110OUB10UUXXXQ5QHXRRRdddDlAddFFF110OUB10UUXXXQ5QHXRRRdddDlAddFFF110OUB10UUXXXQ5QHXRRRdddDlAddFFF110OUB10UUXXXQ5QHXRRRdddDlAddFFF110OUB10UUXXXQ5QHXRRRdddDlAddFFF110OUB10UUXXXQ5QHXRRRdddDlAddFFF110OUB10UUXXXQ5QHXRRRdddDlAddFFF110OUB10UUXXXQ5QHXRRRdddDlAddFFF110OUB10UUXXXQ5QHXRRRdddDlAddFFF110OUB10UUXXXQ5QHXRRRdddDlAddFFF110OUAQPvjggw86QBA++OCDDzpAED744IMPOkAQPvjggw86QBA++OCDDzpAED744IMPOkAQPvjggw86QBA++OCDDzpAED744IMPOkAQPvjggw86QBA++OCDDzpAED744IMPOkAQPvjggw86QBA++OCDDzpAED744IMPOkAQPvjggw86QBA++OCDDzpAED744IMPOkAQPvjggw86QBA++OCDDzpAED744IMPOkAQPvjggw86QBA++OCDDzpAED744IMPOkAQPvjggw86QBA++OCDDzpAED744IMPOkAQPvjggw86QBA++OCDDzpAED744IMPOkAQPvjggw86QBA++OCDDzpAED744IMPOkAQPvjggw86QBA++OCDDzpAED744IMPOkAQPvjggw86QBA++OCDDzpAED744IMPOkAQPvjggw86QBA++OCDDzpAED744IMPOkAQPvjggw86QBA++OCDDzpAED744IMPOkAQPvjggw86QBA++OCDDzpAED744IMPOkAQPvjggw86QBA++OCDDzpAED744IMPOkAQPvjggw86QBA++OCDDzpAED744IMPOkAQPvjggw86QBA++OCDDzpAED744IMPOkAQPvjggw86QBA++OCDDzpAED744IMPOkAQPvjggw86QBA++OCDDzpAED744IMPOkAQPvjggw86QBA++OCDDzpAED744IMPOkAQPvjggw86QBA++OCDDzpAED744IMPOkAQPvjggw86QBA++OCDDzpAED744IMPOkAQPvjggw86QBA++OCDDzpAED744IMPOkAQPvjggw86QBA++OCDDzpAED744IMPOkAQPvjggw86QBA++OCDDzpAED744IMPOkAQPvjggw86QBA++OCDDzpAED744IMPOkAQPvjggw86QBA++OCDDzpAED744IMPOkAQPvjggw86QBA++OCDDzpAED744IMPOkAQPvjggw86QBA++OCDDzpAED744IMPOkAQPvjggw86QBA++OCDDzpAED744IMPOkAQPvjggw86QBA++OCDDzpAED744IMPOkAQPvjggw86QKuqqqqqqjpAq6qqqqqqOkCrqqqqqqo6QKuqqqqqqjpAq6qqqqqqOkCrqqqqqqo6QKuqqqqqqjpAq6qqqqqqOkCrqqqqqqo6QKuqqqqqqjpAq6qqqqqqOkCrqqqqqqo6QKuqqqqqqjpAq6qqqqqqOkCrqqqqqqo6QKuqqqqqqjpAq6qqqqqqOkCrqqqqqqo6QKuqqqqqqjpAq6qqqqqqOkCrqqqqqqo6QKuqqqqqqjpAq6qqqqqqOkCrqqqqqqo6QKuqqqqqqjpAq6qqqqqqOkCrqqqqqqo6QKuqqqqqqjpAq6qqqqqqOkCrqqqqqqo6QKuqqqqqqjpAq6qqqqqqOkCrqqqqqqo6QKuqqqqqqjpAq6qqqqqqOkCrqqqqqqo6QKuqqqqqqjpAq6qqqqqqOkCrqqqqqqo6QKuqqqqqqjpAq6qqqqqqOkCrqqqqqqo6QKuqqqqqqjpAq6qqqqqqOkCrqqqqqqo6QKuqqqqqqjpAq6qqqqqqOkCrqqqqqqo6QKuqqqqqqjpAq6qqqqqqOkCrqqqqqqo6QKuqqqqqqjpAq6qqqqqqOkCrqqqqqqo6QKuqqqqqqjpAq6qqqqqqOkCrqqqqqqo6QKuqqqqqqjpAq6qqqqqqOkCrqqqqqqo6QKuqqqqqqjpAq6qqqqqqOkCrqqqqqqo6QKuqqqqqqjpAq6qqqqqqOkCrqqqqqqo6QKuqqqqqqjpAq6qqqqqqOkCrqqqqqqo6QKuqqqqqqjpAq6qqqqqqOkCrqqqqqqo6QKuqqqqqqjpAq6qqqqqqOkCrqqqqqqo6QKuqqqqqqjpAq6qqqqqqOkCrqqqqqqo6QKuqqqqqqjpAq6qqqqqqOkCrqqqqqqo6QKuqqqqqqjpAq6qqqqqqOkCrqqqqqqo6QKuqqqqqqjpAq6qqqqqqOkCrqqqqqqo6QKuqqqqqqjpAq6qqqqqqOkCrqqqqqqo6QKuqqqqqqjpAq6qqqqqqOkCrqqqqqqo6QKuqqqqqqjpAq6qqqqqqOkCrqqqqqqo6QKuqqqqqqjpAq6qqqqqqOkCrqqqqqqo6QKuqqqqqqjpARhdddNFFO0BGF1100UU7QEYXXXTRRTtARhdddNFFO0BGF1100UU7QEYXXXTRRTtARhdddNFFO0BGF1100UU7QEYXXXTRRTtARhdddNFFO0BGF1100UU7QEYXXXTRRTtARhdddNFFO0BGF1100UU7QEYXXXTRRTtARhdddNFFO0BGF1100UU7QEYXXXTRRTtARhdddNFFO0BGF1100UU7QEYXXXTRRTtARhdddNFFO0BGF1100UU7QEYXXXTRRTtARhdddNFFO0BGF1100UU7QEYXXXTRRTtARhdddNFFO0BGF1100UU7QEYXXXTRRTtARhdddNFFO0BGF1100UU7QEYXXXTRRTtARhdddNFFO0BGF1100UU7QEYXXXTRRTtARhdddNFFO0BGF1100UU7QEYXXXTRRTtARhdddNFFO0BGF1100UU7QEYXXXTRRTtARhdddNFFO0BGF1100UU7QEYXXXTRRTtARhdddNFFO0BGF1100UU7QEYXXXTRRTtARhdddNFFO0BGF1100UU7QEYXXXTRRTtARhdddNFFO0BGF1100UU7QEYXXXTRRTtARhdddNFFO0BGF1100UU7QEYXXXTRRTtARhdddNFFO0BGF1100UU7QEYXXXTRRTtARhdddNFFO0BGF1100UU7QEYXXXTRRTtARhdddNFFO0BGF1100UU7QEYXXXTRRTtARhdddNFFO0BGF1100UU7QEYXXXTRRTtARhdddNFFO0BGF1100UU7QEYXXXTRRTtARhdddNFFO0BGF1100UU7QEYXXXTRRTtARhdddNFFO0BGF1100UU7QEYXXXTRRTtARhdddNFFO0BGF1100UU7QEYXXXTRRTtARhdddNFFO0BGF1100UU7QEYXXXTRRTtARhdddNFFO0BGF1100UU7QEYXXXTRRTtARhdddNFFO0BGF1100UU7QEYXXXTRRTtARhdddNFFO0BGF1100UU7QEYXXXTRRTtARhdddNFFO0BGF1100UU7QEYXXXTRRTtARhdddNFFO0BGF1100UU7QEYXXXTRRTtARhdddNFFO0Dhgw8++OA7QOGDDz744DtA4YMPPvjgO0Dhgw8++OA7QOGDDz744DtA4YMPPvjgO0Dhgw8++OA7QOGDDz744DtA4YMPPvjgO0Dhgw8++OA7QOGDDz744DtA4YMPPvjgO0Dhgw8++OA7QOGDDz744DtA4YMPPvjgO0Dhgw8++OA7QOGDDz744DtA4YMPPvjgO0Dhgw8++OA7QOGDDz744DtA4YMPPvjgO0Dhgw8++OA7QOGDDz744DtA4YMPPvjgO0Dhgw8++OA7QOGDDz744DtA4YMPPvjgO0Dhgw8++OA7QOGDDz744DtA4YMPPvjgO0Dhgw8++OA7QOGDDz744DtA4YMPPvjgO0Dhgw8++OA7QOGDDz744DtA4YMPPvjgO0Dhgw8++OA7QOGDDz744DtA4YMPPvjgO0Dhgw8++OA7QOGDDz744DtA4YMPPvjgO0Dhgw8++OA7QOGDDz744DtA4YMPPvjgO0Dhgw8++OA7QOGDDz744DtA4YMPPvjgO0Dhgw8++OA7QOGDDz744DtA4YMPPvjgO0Dhgw8++OA7QOGDDz744DtA4YMPPvjgO0Dhgw8++OA7QOGDDz744DtA4YMPPvjgO0Dhgw8++OA7QOGDDz744DtA4YMPPvjgO0Dhgw8++OA7QOGDDz744DtA4YMPPvjgO0Dhgw8++OA7QOGDDz744DtA4YMPPvjgO0Dhgw8++OA7QOGDDz744DtA4YMPPvjgO0Dhgw8++OA7QOGDDz744DtA4YMPPvjgO0Dhgw8++OA7QOGDDz744DtA4YMPPvjgO0Dhgw8++OA7QOGDDz744DtA4YMPPvjgO0Dhgw8++OA7QOGDDz744DtA4YMPPvjgO0Dhgw8++OA7QOGDDz744DtA4YMPPvjgO0Dhgw8++OA7QOGDDz744DtA4YMPPvjgO0Dhgw8++OA7QOGDDz744DtA4YMPPvjgO0Dhgw8++OA7QOGDDz744DtA4YMPPvjgO0Dhgw8++OA7QOGDDz744DtA4YMPPvjgO0Dhgw8++OA7QOGDDz744DtA4YMPPvjgO0Dhgw8++OA7QHzwwQcffDxAfPDBBx98PEB88MEHH3w8QHzwwQcffDxAfPDBBx98PEB88MEHH3w8QHzwwQcffDxAfPDBBx98PEB88MEHH3w8QHzwwQcffDxAfPDBBx98PEB88MEHH3w8QHzwwQcffDxAfPDBBx98PEB88MEHH3w8QHzwwQcffDxAfPDBBx98PEB88MEHH3w8QHzwwQcffDxAfPDBBx98PEB88MEHH3w8QHzwwQcffDxAfPDBBx98PEB88MEHH3w8QHzwwQcffDxAfPDBBx98PEB88MEHH3w8QHzwwQcffDxAfPDBBx98PEB88MEHH3w8QHzwwQcffDxAfPDBBx98PEB88MEHH3w8QHzwwQcffDxAfPDBBx98PEB88MEHH3w8QHzwwQcffDxAfPDBBx98PEB88MEHH3w8QHzwwQcffDxAfPDBBx98PEB88MEHH3w8QHzwwQcffDxAfPDBBx98PEB88MEHH3w8QHzwwQcffDxAfPDBBx98PEB88MEHH3w8QHzwwQcffDxAfPDBBx98PEB88MEHH3w8QHzwwQcffDxAfPDBBx98PEB88MEHH3w8QHzwwQcffDxAfPDBBx98PEB88MEHH3w8QHzwwQcffDxAfPDBBx98PEB88MEHH3w8QHzwwQcffDxAfPDBBx98PEB88MEHH3w8QHzwwQcffDxAfPDBBx98PEB88MEHH3w8QHzwwQcffDxAfPDBBx98PEB88MEHH3w8QHzwwQcffDxAfPDBBx98PEB88MEHH3w8QHzwwQcffDxAfPDBBx98PEB88MEHH3w8QHzwwQcffDxAfPDBBx98PEB88MEHH3w8QHzwwQcffDxAfPDBBx98PEB88MEHH3w8QHzwwQcffDxAfPDBBx98PEB88MEHH3w8QHzwwQcffDxAfPDBBx98PEB88MEHH3w8QHzwwQcffDxAfPDBBx98PEB88MEHH3w8QHzwwQcffDxAfPDBBx98PEB88MEHH3w8QHzwwQcffDxAfPDBBx98PEB88MEHH3w8QHzwwQcffDxAfPDBBx98PEB88MEHH3w8QHzwwQcffDxAGF100UUXPUAYXXTRRRc9QBhddNFFFz1AGF100UUXPUAYXXTRRRc9QBhddNFFFz1AGF100UUXPUAYXXTRRRc9QBhddNFFFz1AGF100UUXPUAYXXTRRRc9QBhddNFFFz1AGF100UUXPUAYXXTRRRc9QBhddNFFFz1AGF100UUXPUAYXXTRRRc9QBhddNFFFz1AGF100UUXPUAYXXTRRRc9QBhddNFFFz1AGF100UUXPUAYXXTRRRc9QBhddNFFFz1AGF100UUXPUAYXXTRRRc9QBhddNFFFz1AGF100UUXPUAYXXTRRRc9QBhddNFFFz1AGF100UUXPUAYXXTRRRc9QBhddNFFFz1AGF100UUXPUAYXXTRRRc9QBhddNFFFz1AGF100UUXPUAYXXTRRRc9QBhddNFFFz1AGF100UUXPUAYXXTRRRc9QBhddNFFFz1AGF100UUXPUAYXXTRRRc9QBhddNFFFz1AGF100UUXPUAYXXTRRRc9QBhddNFFFz1AGF100UUXPUAYXXTRRRc9QBhddNFFFz1AGF100UUXPUAYXXTRRRc9QBhddNFFFz1AGF100UUXPUAYXXTRRRc9QBhddNFFFz1AGF100UUXPUAYXXTRRRc9QBhddNFFFz1AGF100UUXPUAYXXTRRRc9QBhddNFFFz1AGF100UUXPUAYXXTRRRc9QBhddNFFFz1AGF100UUXPUAYXXTRRRc9QBhddNFFFz1AGF100UUXPUAYXXTRRRc9QBhddNFFFz1AGF100UUXPUAYXXTRRRc9QBhddNFFFz1AGF100UUXPUAYXXTRRRc9QBhddNFFFz1AGF100UUXPUAYXXTRRRc9QBhddNFFFz1AGF100UUXPUAYXXTRRRc9QBhddNFFFz1AGF100UUXPUAYXXTRRRc9QBhddNFFFz1AGF100UUXPUAYXXTRRRc9QBhddNFFFz1AGF100UUXPUAYXXTRRRc9QBhddNFFFz1AGF100UUXPUAYXXTRRRc9QBhddNFFFz1AGF100UUXPUAYXXTRRRc9QBhddNFFFz1AGF100UUXPUCzySabbLI9QLPJJptssj1As8kmm2yyPUCzySabbLI9QLPJJptssj1As8kmm2yyPUCzySabbLI9QLPJJptssj1As8kmm2yyPUCzySabbLI9QLPJJptssj1As8kmm2yyPUCzySabbLI9QLPJJptssj1As8kmm2yyPUCzySabbLI9QLPJJptssj1As8kmm2yyPUCzySabbLI9QLPJJptssj1As8kmm2yyPUCzySabbLI9QLPJJptssj1As8kmm2yyPUCzySabbLI9QLPJJptssj1As8kmm2yyPUCzySabbLI9QLPJJptssj1As8kmm2yyPUCzySabbLI9QLPJJptssj1As8kmm2yyPUCzySabbLI9QLPJJptssj1As8kmm2yyPUCzySabbLI9QLPJJptssj1As8kmm2yyPUCzySabbLI9QLPJJptssj1As8kmm2yyPUCzySabbLI9QLPJJptssj1As8kmm2yyPUCzySabbLI9QLPJJptssj1As8kmm2yyPUCzySabbLI9QLPJJptssj1As8kmm2yyPUCzySabbLI9QLPJJptssj1As8kmm2yyPUCzySabbLI9QLPJJptssj1As8kmm2yyPUCzySabbLI9QLPJJptssj1As8kmm2yyPUCzySabbLI9QLPJJptssj1As8kmm2yyPUCzySabbLI9QLPJJptssj1As8kmm2yyPUCzySabbLI9QLPJJptssj1As8kmm2yyPUCzySabbLI9QLPJJptssj1As8kmm2yyPUCzySabbLI9QLPJJptssj1As8kmm2yyPUCzySabbLI9QLPJJptssj1As8kmm2yyPUCzySabbLI9QLPJJptssj1As8kmm2yyPUCzySabbLI9QLPJJptssj1As8kmm2yyPUCzySabbLI9QLPJJptssj1As8kmm2yyPUCzySabbLI9QLPJJptssj1As8kmm2yyPUCzySabbLI9QLPJJptssj1As8kmm2yyPUCzySabbLI9QLPJJptssj1As8kmm2yyPUCzySabbLI9QLPJJptssj1As8kmm2yyPUCzySabbLI9QE422WSTTT5ATjbZZJNNPkBONtlkk00+QE422WSTTT5ATjbZZJNNPkBONtlkk00+QE422WSTTT5ATjbZZJNNPkBONtlkk00+QE422WSTTT5ATjbZZJNNPkBONtlkk00+QE422WSTTT5ATjbZZJNNPkBONtlkk00+QE422WSTTT5ATjbZZJNNPkBONtlkk00+QE422WSTTT5ATjbZZJNNPkBONtlkk00+QE422WSTTT5ATjbZZJNNPkBONtlkk00+QE422WSTTT5ATjbZZJNNPkBONtlkk00+QE422WSTTT5ATjbZZJNNPkBONtlkk00+QE422WSTTT5ATjbZZJNNPkBONtlkk00+QE422WSTTT5ATjbZZJNNPkBONtlkk00+QE422WSTTT5ATjbZZJNNPkBONtlkk00+QE422WSTTT5ATjbZZJNNPkBONtlkk00+QE422WSTTT5ATjbZZJNNPkBONtlkk00+QE422WSTTT5ATjbZZJNNPkBONtlkk00+QE422WSTTT5ATjbZZJNNPkBONtlkk00+QE422WSTTT5ATjbZZJNNPkBONtlkk00+QE422WSTTT5ATjbZZJNNPkBONtlkk00+QE422WSTTT5ATjbZZJNNPkBONtlkk00+QE422WSTTT5ATjbZZJNNPkBONtlkk00+QE422WSTTT5ATjbZZJNNPkBONtlkk00+QE422WSTTT5ATjbZZJNNPkBONtlkk00+QE422WSTTT5ATjbZZJNNPkBONtlkk00+QE422WSTTT5ATjbZZJNNPkBONtlkk00+QE422WSTTT5ATjbZZJNNPkBONtlkk00+QE422WSTTT5ATjbZZJNNPkBONtlkk00+QE422WSTTT5ATjbZZJNNPkBONtlkk00+QE422WSTTT5ATjbZZJNNPkBONtlkk00+QE422WSTTT5ATjbZZJNNPkBONtlkk00+QE422WSTTT5ATjbZZJNNPkBONtlkk00+QE422WSTTT5ATjbZZJNNPkBONtlkk00+QE422WSTTT5ATjbZZJNNPkBONtlkk00+QE422WSTTT5A6aKLLrroPkDpoosuuug+QOmiiy666D5A6aKLLrroPkDpoosuuug+QOmiiy666D5A6aKLLrroPkDpoosuuug+QOmiiy666D5A6aKLLrroPkDpoosuuug+QOmiiy666D5A6aKLLrroPkDpoosuuug+QOmiiy666D5A6aKLLrroPkDpoosuuug+QOmiiy666D5A6aKLLrroPkDpoosuuug+QOmiiy666D5A6aKLLrroPkDpoosuuug+QOmiiy666D5A6aKLLrroPkDpoosuuug+QOmiiy666D5A6aKLLrroPkDpoosuuug+QOmiiy666D5A6aKLLrroPkDpoosuuug+QOmiiy666D5A6aKLLrroPkDpoosuuug+QOmiiy666D5A6aKLLrroPkDpoosuuug+QOmiiy666D5A6aKLLrroPkDpoosuuug+QOmiiy666D5A6aKLLrroPkDpoosuuug+QOmiiy666D5A6aKLLrroPkDpoosuuug+QOmiiy666D5A6aKLLrroPkDpoosuuug+QOmiiy666D5A6aKLLrroPkDpoosuuug+QOmiiy666D5A6aKLLrroPkDpoosuuug+QOmiiy666D5A6aKLLrroPkDpoosuuug+QOmiiy666D5A6aKLLrroPkDpoosuuug+QOmiiy666D5A6aKLLrroPkDpoosuuug+QOmiiy666D5A6aKLLrroPkDpoosuuug+QOmiiy666D5A6aKLLrroPkDpoosuuug+QOmiiy666D5A6aKLLrroPkDpoosuuug+QOmiiy666D5A6aKLLrroPkDpoosuuug+QOmiiy666D5A6aKLLrroPkDpoosuuug+QOmiiy666D5A6aKLLrroPkDpoosuuug+QOmiiy666D5A6aKLLrroPkDpoosuuug+QOmiiy666D5A6aKLLrroPkDpoosuuug+QOmiiy666D5A6aKLLrroPkDpoosuuug+QOmiiy666D5A6aKLLrroPkDpoosuuug+QOmiiy666D5A6aKLLrroPkDpoosuuug+QOmiiy666D5A6aKLLrroPkCEDz744IM/QIQPPvjggz9AhA8++OCDP0CEDz744IM/QIQPPvjggz9AhA8++OCDP0CEDz744IM/QIQPPvjggz9AhA8++OCDP0CEDz744IM/QIQPPvjggz9AhA8++OCDP0CEDz744IM/QIQPPvjggz9AhA8++OCDP0CEDz744IM/QIQPPvjggz9AhA8++OCDP0CEDz744IM/QIQPPvjggz9AhA8++OCDP0CEDz744IM/QIQPPvjggz9AhA8++OCDP0CEDz744IM/QIQPPvjggz9AhA8++OCDP0CEDz744IM/QIQPPvjggz9AhA8++OCDP0CEDz744IM/QIQPPvjggz9AhA8++OCDP0CEDz744IM/QIQPPvjggz9AhA8++OCDP0CEDz744IM/QIQPPvjggz9AhA8++OCDP0CEDz744IM/QIQPPvjggz9AhA8++OCDP0CEDz744IM/QIQPPvjggz9AhA8++OCDP0CEDz744IM/QIQPPvjggz9AhA8++OCDP0CEDz744IM/QIQPPvjggz9AhA8++OCDP0CEDz744IM/QIQPPvjggz9AhA8++OCDP0CEDz744IM/QIQPPvjggz9AhA8++OCDP0CEDz744IM/QIQPPvjggz9AhA8++OCDP0CEDz744IM/QIQPPvjggz9AhA8++OCDP0CEDz744IM/QIQPPvjggz9AhA8++OCDP0CEDz744IM/QIQPPvjggz9AhA8++OCDP0CEDz744IM/QIQPPvjggz9AhA8++OCDP0CEDz744IM/QIQPPvjggz9AhA8++OCDP0CEDz744IM/QIQPPvjggz9AhA8++OCDP0CEDz744IM/QIQPPvjggz9AhA8++OCDP0CEDz744IM/QIQPPvjggz9AhA8++OCDP0CEDz744IM/QIQPPvjggz9AhA8++OCDP0CEDz744IM/QIQPPvjggz9AhA8++OCDP0CEDz744IM/QIQPPvjggz9AhA8++OCDP0CEDz744IM/QIQPPvjggz9AhA8++OCDP0CEDz744IM/QIQPPvjggz9AhA8++OCDP0CEDz744IM/QBA++OCDD0BAED744IMPQEAQPvjggw9AQBA++OCDD0BAED744IMPQEAQPvjggw9AQBA++OCDD0BAED744IMPQEAQPvjggw9AQBA++OCDD0BAED744IMPQEAQPvjggw9AQBA++OCDD0BAED744IMPQEAQPvjggw9AQBA++OCDD0BAED744IMPQEAQPvjggw9AQBA++OCDD0BAED744IMPQEAQPvjggw9AQBA++OCDD0BAED744IMPQEAQPvjggw9AQBA++OCDD0BAED744IMPQEAQPvjggw9AQBA++OCDD0BAED744IMPQEAQPvjggw9AQBA++OCDD0BAED744IMPQEAQPvjggw9AQBA++OCDD0BAED744IMPQEAQPvjggw9AQBA++OCDD0BAED744IMPQEAQPvjggw9AQBA++OCDD0BAED744IMPQEAQPvjggw9AQBA++OCDD0BAED744IMPQEAQPvjggw9AQBA++OCDD0BAED744IMPQEAQPvjggw9AQBA++OCDD0BAED744IMPQEAQPvjggw9AQBA++OCDD0BAED744IMPQEAQPvjggw9AQBA++OCDD0BAED744IMPQEAQPvjggw9AQBA++OCDD0BAED744IMPQEAQPvjggw9AQBA++OCDD0BAED744IMPQEAQPvjggw9AQBA++OCDD0BAED744IMPQEAQPvjggw9AQBA++OCDD0BAED744IMPQEAQPvjggw9AQBA++OCDD0BAED744IMPQEAQPvjggw9AQBA++OCDD0BAED744IMPQEAQPvjggw9AQBA++OCDD0BAED744IMPQEAQPvjggw9AQBA++OCDD0BAED744IMPQEAQPvjggw9AQBA++OCDD0BAED744IMPQEAQPvjggw9AQBA++OCDD0BAED744IMPQEAQPvjggw9AQBA++OCDD0BAED744IMPQEAQPvjggw9AQBA++OCDD0BAED744IMPQEAQPvjggw9AQBA++OCDD0BAED744IMPQEAQPvjggw9AQBA++OCDD0BAED744IMPQEAQPvjggw9AQBA++OCDD0BAXXTRRRddQEBddNFFF11AQF100UUXXUBAXXTRRRddQEBddNFFF11AQF100UUXXUBAXXTRRRddQEBddNFFF11AQF100UUXXUBAXXTRRRddQEBddNFFF11AQF100UUXXUBAXXTRRRddQEBddNFFF11AQF100UUXXUBAXXTRRRddQEBddNFFF11AQF100UUXXUBAXXTRRRddQEBddNFFF11AQF100UUXXUBAXXTRRRddQEBddNFFF11AQF100UUXXUBAXXTRRRddQEBddNFFF11AQF100UUXXUBAXXTRRRddQEBddNFFF11AQF100UUXXUBAXXTRRRddQEBddNFFF11AQF100UUXXUBAXXTRRRddQEBddNFFF11AQF100UUXXUBAXXTRRRddQEBddNFFF11AQF100UUXXUBAXXTRRRddQEBddNFFF11AQF100UUXXUBAXXTRRRddQEBddNFFF11AQF100UUXXUBAXXTRRRddQEBddNFFF11AQF100UUXXUBAXXTRRRddQEBddNFFF11AQF100UUXXUBAXXTRRRddQEBddNFFF11AQF100UUXXUBAXXTRRRddQEBddNFFF11AQF100UUXXUBAXXTRRRddQEBddNFFF11AQF100UUXXUBAXXTRRRddQEBddNFFF11AQF100UUXXUBAXXTRRRddQEBddNFFF11AQF100UUXXUBAXXTRRRddQEBddNFFF11AQF100UUXXUBAXXTRRRddQEBddNFFF11AQF100UUXXUBAXXTRRRddQEBddNFFF11AQF100UUXXUBAXXTRRRddQEBddNFFF11AQF100UUXXUBAXXTRRRddQEBddNFFF11AQF100UUXXUBAXXTRRRddQEBddNFFF11AQF100UUXXUBAXXTRRRddQEBddNFFF11AQF100UUXXUBAXXTRRRddQEBddNFFF11AQF100UUXXUBAXXTRRRddQEBddNFFF11AQF100UUXXUBAXXTRRRddQEBddNFFF11AQF100UUXXUBAXXTRRRddQEBddNFFF11AQF100UUXXUBAXXTRRRddQECrqqqqqqpAQKuqqqqqqkBAq6qqqqqqQECrqqqqqqpAQKuqqqqqqkBAq6qqqqqqQECrqqqqqqpAQKuqqqqqqkBAq6qqqqqqQECrqqqqqqpAQKuqqqqqqkBAq6qqqqqqQECrqqqqqqpAQKuqqqqqqkBAq6qqqqqqQECrqqqqqqpAQKuqqqqqqkBAq6qqqqqqQECrqqqqqqpAQKuqqqqqqkBAq6qqqqqqQECrqqqqqqpAQKuqqqqqqkBAq6qqqqqqQECrqqqqqqpAQKuqqqqqqkBAq6qqqqqqQECrqqqqqqpAQKuqqqqqqkBAq6qqqqqqQECrqqqqqqpAQKuqqqqqqkBAq6qqqqqqQECrqqqqqqpAQKuqqqqqqkBAq6qqqqqqQECrqqqqqqpAQKuqqqqqqkBAq6qqqqqqQECrqqqqqqpAQKuqqqqqqkBAq6qqqqqqQECrqqqqqqpAQKuqqqqqqkBAq6qqqqqqQECrqqqqqqpAQKuqqqqqqkBAq6qqqqqqQECrqqqqqqpAQKuqqqqqqkBAq6qqqqqqQECrqqqqqqpAQKuqqqqqqkBAq6qqqqqqQECrqqqqqqpAQKuqqqqqqkBAq6qqqqqqQECrqqqqqqpAQKuqqqqqqkBAq6qqqqqqQECrqqqqqqpAQKuqqqqqqkBAq6qqqqqqQECrqqqqqqpAQKuqqqqqqkBAq6qqqqqqQECrqqqqqqpAQKuqqqqqqkBAq6qqqqqqQECrqqqqqqpAQKuqqqqqqkBAq6qqqqqqQECrqqqqqqpAQKuqqqqqqkBAq6qqqqqqQECrqqqqqqpAQKuqqqqqqkBAq6qqqqqqQECrqqqqqqpAQKuqqqqqqkBAq6qqqqqqQECrqqqqqqpAQKuqqqqqqkBAq6qqqqqqQECrqqqqqqpAQKuqqqqqqkBAq6qqqqqqQECrqqqqqqpAQKuqqqqqqkBAq6qqqqqqQECrqqqqqqpAQKuqqqqqqkBAq6qqqqqqQECrqqqqqqpAQKuqqqqqqkBAq6qqqqqqQECrqqqqqqpAQKuqqqqqqkBAq6qqqqqqQECrqqqqqqpAQPjggw8++EBA+OCDDz74QED44IMPPvhAQPjggw8++EBA+OCDDz74QED44IMPPvhAQPjggw8++EBA+OCDDz74QED44IMPPvhAQPjggw8++EBA+OCDDz74QED44IMPPvhAQPjggw8++EBA+OCDDz74QED44IMPPvhAQPjggw8++EBA+OCDDz74QED44IMPPvhAQPjggw8++EBA+OCDDz74QED44IMPPvhAQPjggw8++EBA+OCDDz74QED44IMPPvhAQPjggw8++EBA+OCDDz74QED44IMPPvhAQPjggw8++EBA+OCDDz74QED44IMPPvhAQPjggw8++EBA+OCDDz74QED44IMPPvhAQPjggw8++EBA+OCDDz74QED44IMPPvhAQPjggw8++EBA+OCDDz74QED44IMPPvhAQPjggw8++EBA+OCDDz74QED44IMPPvhAQPjggw8++EBA+OCDDz74QED44IMPPvhAQPjggw8++EBA+OCDDz74QED44IMPPvhAQPjggw8++EBA+OCDDz74QED44IMPPvhAQPjggw8++EBA+OCDDz74QED44IMPPvhAQPjggw8++EBA+OCDDz74QED44IMPPvhAQPjggw8++EBA+OCDDz74QED44IMPPvhAQPjggw8++EBA+OCDDz74QED44IMPPvhAQPjggw8++EBA+OCDDz74QED44IMPPvhAQPjggw8++EBA+OCDDz74QED44IMPPvhAQPjggw8++EBA+OCDDz74QED44IMPPvhAQPjggw8++EBA+OCDDz74QED44IMPPvhAQPjggw8++EBA+OCDDz74QED44IMPPvhAQPjggw8++EBA+OCDDz74QED44IMPPvhAQPjggw8++EBA+OCDDz74QED44IMPPvhAQPjggw8++EBA+OCDDz74QED44IMPPvhAQPjggw8++EBA+OCDDz74QED44IMPPvhAQPjggw8++EBA+OCDDz74QED44IMPPvhAQPjggw8++EBA+OCDDz74QED44IMPPvhAQPjggw8++EBA+OCDDz74QED44IMPPvhAQPjggw8++EBARhdddNFFQUBGF1100UVBQEYXXXTRRUFARhdddNFFQUBGF1100UVBQEYXXXTRRUFARhdddNFFQUBGF1100UVBQEYXXXTRRUFARhdddNFFQUBGF1100UVBQEYXXXTRRUFARhdddNFFQUBGF1100UVBQEYXXXTRRUFARhdddNFFQUBGF1100UVBQEYXXXTRRUFARhdddNFFQUBGF1100UVBQEYXXXTRRUFARhdddNFFQUBGF1100UVBQEYXXXTRRUFARhdddNFFQUBGF1100UVBQEYXXXTRRUFARhdddNFFQUBGF1100UVBQEYXXXTRRUFARhdddNFFQUBGF1100UVBQEYXXXTRRUFARhdddNFFQUBGF1100UVBQEYXXXTRRUFARhdddNFFQUBGF1100UVBQEYXXXTRRUFARhdddNFFQUBGF1100UVBQEYXXXTRRUFARhdddNFFQUBGF1100UVBQEYXXXTRRUFARhdddNFFQUBGF1100UVBQEYXXXTRRUFARhdddNFFQUBGF1100UVBQEYXXXTRRUFARhdddNFFQUBGF1100UVBQEYXXXTRRUFARhdddNFFQUBGF1100UVBQEYXXXTRRUFARhdddNFFQUBGF1100UVBQEYXXXTRRUFARhdddNFFQUBGF1100UVBQEYXXXTRRUFARhdddNFFQUBGF1100UVBQEYXXXTRRUFARhdddNFFQUBGF1100UVBQEYXXXTRRUFARhdddNFFQUBGF1100UVBQEYXXXTRRUFARhdddNFFQUBGF1100UVBQEYXXXTRRUFARhdddNFFQUBGF1100UVBQEYXXXTRRUFARhdddNFFQUBGF1100UVBQEYXXXTRRUFARhdddNFFQUBGF1100UVBQEYXXXTRRUFARhdddNFFQUBGF1100UVBQEYXXXTRRUFARhdddNFFQUBGF1100UVBQEYXXXTRRUFARhdddNFFQUBGF1100UVBQEYXXXTRRUFARhdddNFFQUBGF1100UVBQEYXXXTRRUFARhdddNFFQUBGF1100UVBQEYXXXTRRUFARhdddNFFQUCUTTbZZJNBQJRNNtlkk0FAlE022WSTQUCUTTbZZJNBQJRNNtlkk0FAlE022WSTQUCUTTbZZJNBQJRNNtlkk0FAlE022WSTQUCUTTbZZJNBQJRNNtlkk0FAlE022WSTQUCUTTbZZJNBQJRNNtlkk0FAlE022WSTQUCUTTbZZJNBQJRNNtlkk0FAlE022WSTQUCUTTbZZJNBQJRNNtlkk0FAlE022WSTQUCUTTbZZJNBQJRNNtlkk0FAlE022WSTQUCUTTbZZJNBQJRNNtlkk0FAlE022WSTQUCUTTbZZJNBQJRNNtlkk0FAlE022WSTQUCUTTbZZJNBQJRNNtlkk0FAlE022WSTQUCUTTbZZJNBQJRNNtlkk0FAlE022WSTQUCUTTbZZJNBQJRNNtlkk0FAlE022WSTQUCUTTbZZJNBQJRNNtlkk0FAlE022WSTQUCUTTbZZJNBQJRNNtlkk0FAlE022WSTQUCUTTbZZJNBQJRNNtlkk0FAlE022WSTQUCUTTbZZJNBQJRNNtlkk0FAlE022WSTQUCUTTbZZJNBQJRNNtlkk0FAlE022WSTQUCUTTbZZJNBQJRNNtlkk0FAlE022WSTQUCUTTbZZJNBQJRNNtlkk0FAlE022WSTQUCUTTbZZJNBQJRNNtlkk0FAlE022WSTQUCUTTbZZJNBQJRNNtlkk0FAlE022WSTQUCUTTbZZJNBQJRNNtlkk0FAlE022WSTQUCUTTbZZJNBQJRNNtlkk0FAlE022WSTQUCUTTbZZJNBQJRNNtlkk0FAlE022WSTQUCUTTbZZJNBQJRNNtlkk0FAlE022WSTQUCUTTbZZJNBQJRNNtlkk0FAlE022WSTQUCUTTbZZJNBQJRNNtlkk0FAlE022WSTQUCUTTbZZJNBQJRNNtlkk0FAlE022WSTQUCUTTbZZJNBQJRNNtlkk0FAlE022WSTQUCUTTbZZJNBQJRNNtlkk0FAlE022WSTQUCUTTbZZJNBQJRNNtlkk0FAlE022WSTQUCUTTbZZJNBQJRNNtlkk0FAlE022WSTQUCUTTbZZJNBQOGDDz744EFA4YMPPvjgQUDhgw8++OBBQOGDDz744EFA4YMPPvjgQUDhgw8++OBBQOGDDz744EFA4YMPPvjgQUDhgw8++OBBQOGDDz744EFA4YMPPvjgQUDhgw8++OBBQOGDDz744EFA4YMPPvjgQUDhgw8++OBBQOGDDz744EFA4YMPPvjgQUDhgw8++OBBQOGDDz744EFA4YMPPvjgQUDhgw8++OBBQOGDDz744EFA4YMPPvjgQUDhgw8++OBBQOGDDz744EFA4YMPPvjgQUDhgw8++OBBQOGDDz744EFA4YMPPvjgQUDhgw8++OBBQOGDDz744EFA4YMPPvjgQUDhgw8++OBBQOGDDz744EFA4YMPPvjgQUDhgw8++OBBQOGDDz744EFA4YMPPvjgQUDhgw8++OBBQOGDDz744EFA4YMPPvjgQUDhgw8++OBBQOGDDz744EFA4YMPPvjgQUDhgw8++OBBQOGDDz744EFA4YMPPvjgQUDhgw8++OBBQOGDDz744EFA4YMPPvjgQUDhgw8++OBBQOGDDz744EFA4YMPPvjgQUDhgw8++OBBQOGDDz744EFA4YMPPvjgQUDhgw8++OBBQOGDDz744EFA4YMPPvjgQUDhgw8++OBBQOGDDz744EFA4YMPPvjgQUDhgw8++OBBQOGDDz744EFA4YMPPvjgQUDhgw8++OBBQOGDDz744EFA4YMPPvjgQUDhgw8++OBBQOGDDz744EFA4YMPPvjgQUDhgw8++OBBQOGDDz744EFA4YMPPvjgQUDhgw8++OBBQOGDDz744EFA4YMPPvjgQUDhgw8++OBBQOGDDz744EFA4YMPPvjgQUDhgw8++OBBQOGDDz744EFA4YMPPvjgQUDhgw8++OBBQOGDDz744EFA4YMPPvjgQUDhgw8++OBBQOGDDz744EFA4YMPPvjgQUDhgw8++OBBQOGDDz744EFA4YMPPvjgQUDhgw8++OBBQOGDDz744EFA4YMPPvjgQUDhgw8++OBBQOGDDz744EFA4YMPPvjgQUDhgw8++OBBQOGDDz744EFAL7rooosuQkAvuuiiiy5CQC+66KKLLkJAL7rooosuQkAvuuiiiy5CQC+66KKLLkJAL7rooosuQkAvuuiiiy5CQC+66KKLLkJAL7rooosuQkAvuuiiiy5CQC+66KKLLkJAL7rooosuQkAvuuiiiy5CQC+66KKLLkJAL7rooosuQkAvuuiiiy5CQC+66KKLLkJAL7rooosuQkAvuuiiiy5CQC+66KKLLkJAL7rooosuQkAvuuiiiy5CQC+66KKLLkJAL7rooosuQkAvuuiiiy5CQC+66KKLLkJAL7rooosuQkAvuuiiiy5CQC+66KKLLkJAL7rooosuQkAvuuiiiy5CQC+66KKLLkJAL7rooosuQkAvuuiiiy5CQC+66KKLLkJAL7rooosuQkAvuuiiiy5CQC+66KKLLkJAL7rooosuQkAvuuiiiy5CQC+66KKLLkJAL7rooosuQkAvuuiiiy5CQC+66KKLLkJAL7rooosuQkAvuuiiiy5CQC+66KKLLkJAL7rooosuQkAvuuiiiy5CQC+66KKLLkJAL7rooosuQkAvuuiiiy5CQC+66KKLLkJAL7rooosuQkAvuuiiiy5CQC+66KKLLkJAL7rooosuQkAvuuiiiy5CQC+66KKLLkJAL7rooosuQkAvuuiiiy5CQC+66KKLLkJAL7rooosuQkAvuuiiiy5CQC+66KKLLkJAL7rooosuQkAvuuiiiy5CQC+66KKLLkJAL7rooosuQkAvuuiiiy5CQC+66KKLLkJAL7rooosuQkAvuuiiiy5CQC+66KKLLkJAL7rooosuQkAvuuiiiy5CQC+66KKLLkJAL7rooosuQkAvuuiiiy5CQC+66KKLLkJAL7rooosuQkAvuuiiiy5CQC+66KKLLkJAL7rooosuQkAvuuiiiy5CQC+66KKLLkJAL7rooosuQkAvuuiiiy5CQC+66KKLLkJAL7rooosuQkAvuuiiiy5CQC+66KKLLkJAL7rooosuQkAvuuiiiy5CQC+66KKLLkJAL7rooosuQkAvuuiiiy5CQC+66KKLLkJAL7rooosuQkB88MEHH3xCQHzwwQcffEJAfPDBBx98QkB88MEHH3xCQHzwwQcffEJAfPDBBx98QkB88MEHH3xCQHzwwQcffEJAfPDBBx98QkB88MEHH3xCQHzwwQcffEJAfPDBBx98QkB88MEHH3xCQHzwwQcffEJAfPDBBx98QkB88MEHH3xCQHzwwQcffEJAfPDBBx98QkB88MEHH3xCQHzwwQcffEJAfPDBBx98QkB88MEHH3xCQHzwwQcffEJAfPDBBx98QkB88MEHH3xCQHzwwQcffEJAfPDBBx98QkB88MEHH3xCQHzwwQcffEJAfPDBBx98QkB88MEHH3xCQHzwwQcffEJAfPDBBx98QkB88MEHH3xCQHzwwQcffEJAfPDBBx98QkB88MEHH3xCQHzwwQcffEJAfPDBBx98QkB88MEHH3xCQHzwwQcffEJAfPDBBx98QkB88MEHH3xCQHzwwQcffEJAfPDBBx98QkB88MEHH3xCQHzwwQcffEJAfPDBBx98QkB88MEHH3xCQHzwwQcffEJAfPDBBx98QkB88MEHH3xCQHzwwQcffEJAfPDBBx98QkB88MEHH3xCQHzwwQcffEJAfPDBBx98QkB88MEHH3xCQHzwwQcffEJAfPDBBx98QkB88MEHH3xCQHzwwQcffEJAfPDBBx98QkB88MEHH3xCQHzwwQcffEJAfPDBBx98QkB88MEHH3xCQHzwwQcffEJAfPDBBx98QkB88MEHH3xCQHzwwQcffEJAfPDBBx98QkB88MEHH3xCQHzwwQcffEJAfPDBBx98QkB88MEHH3xCQHzwwQcffEJAfPDBBx98QkB88MEHH3xCQHzwwQcffEJAfPDBBx98QkB88MEHH3xCQHzwwQcffEJAfPDBBx98QkB88MEHH3xCQHzwwQcffEJAfPDBBx98QkB88MEHH3xCQHzwwQcffEJAfPDBBx98QkB88MEHH3xCQHzwwQcffEJAfPDBBx98QkB88MEHH3xCQHzwwQcffEJAfPDBBx98QkB88MEHH3xCQHzwwQcffEJAfPDBBx98QkB88MEHH3xCQMomm2yyyUJAyiabbLLJQkDKJptssslCQMomm2yyyUJAyiabbLLJQkDKJptssslCQMomm2yyyUJAyiabbLLJQkDKJptssslCQMomm2yyyUJAyiabbLLJQkDKJptssslCQMomm2yyyUJAyiabbLLJQkDKJptssslCQMomm2yyyUJAyiabbLLJQkDKJptssslCQMomm2yyyUJAyiabbLLJQkDKJptssslCQMomm2yyyUJAyiabbLLJQkDKJptssslCQMomm2yyyUJAyiabbLLJQkDKJptssslCQMomm2yyyUJAyiabbLLJQkDKJptssslCQMomm2yyyUJAyiabbLLJQkDKJptssslCQMomm2yyyUJAyiabbLLJQkDKJptssslCQMomm2yyyUJAyiabbLLJQkDKJptssslCQMomm2yyyUJAyiabbLLJQkDKJptssslCQMomm2yyyUJAyiabbLLJQkDKJptssslCQMomm2yyyUJAyiabbLLJQkDKJptssslCQMomm2yyyUJAyiabbLLJQkDKJptssslCQMomm2yyyUJAyiabbLLJQkDKJptssslCQMomm2yyyUJAyiabbLLJQkDKJptssslCQMomm2yyyUJAyiabbLLJQkDKJptssslCQMomm2yyyUJAyiabbLLJQkDKJptssslCQMomm2yyyUJAyiabbLLJQkDKJptssslCQMomm2yyyUJAyiabbLLJQkDKJptssslCQMomm2yyyUJAyiabbLLJQkDKJptssslCQMomm2yyyUJAyiabbLLJQkDKJptssslCQMomm2yyyUJAyiabbLLJQkDKJptssslCQMomm2yyyUJAyiabbLLJQkDKJptssslCQMomm2yyyUJAyiabbLLJQkDKJptssslCQMomm2yyyUJAyiabbLLJQkDKJptssslCQMomm2yyyUJAyiabbLLJQkDKJptssslCQMomm2yyyUJAyiabbLLJQkDKJptssslCQMomm2yyyUJAyiabbLLJQkDKJptssslCQMomm2yyyUJAyiabbLLJQkDKJptssslCQMomm2yyyUJAF1100UUXQ0AXXXTRRRdDQBdddNFFF0NAF1100UUXQ0AXXXTRRRdDQBdddNFFF0NAF1100UUXQ0AXXXTRRRdDQBdddNFFF0NAF1100UUXQ0AXXXTRRRdDQBdddNFFF0NAF1100UUXQ0AXXXTRRRdDQBdddNFFF0NAF1100UUXQ0AXXXTRRRdDQBdddNFFF0NAF1100UUXQ0AXXXTRRRdDQBdddNFFF0NAF1100UUXQ0AXXXTRRRdDQBdddNFFF0NAF1100UUXQ0AXXXTRRRdDQBdddNFFF0NAF1100UUXQ0AXXXTRRRdDQBdddNFFF0NAF1100UUXQ0AXXXTRRRdDQBdddNFFF0NAF1100UUXQ0AXXXTRRRdDQBdddNFFF0NAF1100UUXQ0AXXXTRRRdDQBdddNFFF0NAF1100UUXQ0AXXXTRRRdDQBdddNFFF0NAF1100UUXQ0AXXXTRRRdDQBdddNFFF0NAF1100UUXQ0AXXXTRRRdDQBdddNFFF0NAF1100UUXQ0AXXXTRRRdDQBdddNFFF0NAF1100UUXQ0AXXXTRRRdDQBdddNFFF0NAF1100UUXQ0AXXXTRRRdDQBdddNFFF0NAF1100UUXQ0AXXXTRRRdDQBdddNFFF0NAF1100UUXQ0AXXXTRRRdDQBdddNFFF0NAF1100UUXQ0AXXXTRRRdDQBdddNFFF0NAF1100UUXQ0AXXXTRRRdDQBdddNFFF0NAF1100UUXQ0AXXXTRRRdDQBdddNFFF0NAF1100UUXQ0AXXXTRRRdDQBdddNFFF0NAF1100UUXQ0AXXXTRRRdDQBdddNFFF0NAF1100UUXQ0AXXXTRRRdDQBdddNFFF0NAF1100UUXQ0AXXXTRRRdDQBdddNFFF0NAF1100UUXQ0AXXXTRRRdDQBdddNFFF0NAF1100UUXQ0AXXXTRRRdDQBdddNFFF0NAF1100UUXQ0AXXXTRRRdDQBdddNFFF0NAF1100UUXQ0AXXXTRRRdDQBdddNFFF0NAF1100UUXQ0AXXXTRRRdDQBdddNFFF0NAF1100UUXQ0Blk0022WRDQGWTTTbZZENAZZNNNtlkQ0Blk0022WRDQGWTTTbZZENAZZNNNtlkQ0Blk0022WRDQGWTTTbZZENAZZNNNtlkQ0Blk0022WRDQGWTTTbZZENAZZNNNtlkQ0Blk0022WRDQGWTTTbZZENAZZNNNtlkQ0Blk0022WRDQGWTTTbZZENAZZNNNtlkQ0Blk0022WRDQGWTTTbZZENAZZNNNtlkQ0Blk0022WRDQGWTTTbZZENAZZNNNtlkQ0Blk0022WRDQGWTTTbZZENAZZNNNtlkQ0Blk0022WRDQGWTTTbZZENAZZNNNtlkQ0Blk0022WRDQGWTTTbZZENAZZNNNtlkQ0Blk0022WRDQGWTTTbZZENAZZNNNtlkQ0Blk0022WRDQGWTTTbZZENAZZNNNtlkQ0Blk0022WRDQGWTTTbZZENAZZNNNtlkQ0Blk0022WRDQGWTTTbZZENAZZNNNtlkQ0Blk0022WRDQGWTTTbZZENAZZNNNtlkQ0Blk0022WRDQGWTTTbZZENAZZNNNtlkQ0Blk0022WRDQGWTTTbZZENAZZNNNtlkQ0Blk0022WRDQGWTTTbZZENAZZNNNtlkQ0Blk0022WRDQGWTTTbZZENAZZNNNtlkQ0Blk0022WRDQGWTTTbZZENAZZNNNtlkQ0Blk0022WRDQGWTTTbZZENAZZNNNtlkQ0Blk0022WRDQGWTTTbZZENAZZNNNtlkQ0Blk0022WRDQGWTTTbZZENAZZNNNtlkQ0Blk0022WRDQGWTTTbZZENAZZNNNtlkQ0Blk0022WRDQGWTTTbZZENAZZNNNtlkQ0Blk0022WRDQGWTTTbZZENAZZNNNtlkQ0Blk0022WRDQGWTTTbZZENAZZNNNtlkQ0Blk0022WRDQGWTTTbZZENAZZNNNtlkQ0Blk0022WRDQGWTTTbZZENAZZNNNtlkQ0Blk0022WRDQGWTTTbZZENAZZNNNtlkQ0Blk0022WRDQGWTTTbZZENAZZNNNtlkQ0Blk0022WRDQGWTTTbZZENAZZNNNtlkQ0Blk0022WRDQLPJJptsskNAs8kmm2yyQ0CzySabbLJDQLPJJptsskNAs8kmm2yyQ0CzySabbLJDQLPJJptsskNAs8kmm2yyQ0CzySabbLJDQLPJJptsskNAs8kmm2yyQ0CzySabbLJDQLPJJptsskNAs8kmm2yyQ0CzySabbLJDQLPJJptsskNAs8kmm2yyQ0CzySabbLJDQLPJJptsskNAs8kmm2yyQ0CzySabbLJDQLPJJptsskNAs8kmm2yyQ0CzySabbLJDQLPJJptsskNAs8kmm2yyQ0CzySabbLJDQLPJJptsskNAs8kmm2yyQ0CzySabbLJDQLPJJptsskNAs8kmm2yyQ0CzySabbLJDQLPJJptsskNAs8kmm2yyQ0CzySabbLJDQLPJJptsskNAs8kmm2yyQ0CzySabbLJDQLPJJptsskNAs8kmm2yyQ0CzySabbLJDQLPJJptsskNAs8kmm2yyQ0CzySabbLJDQLPJJptsskNAs8kmm2yyQ0CzySabbLJDQLPJJptsskNAs8kmm2yyQ0CzySabbLJDQLPJJptsskNAs8kmm2yyQ0CzySabbLJDQLPJJptsskNAs8kmm2yyQ0CzySabbLJDQLPJJptsskNAs8kmm2yyQ0CzySabbLJDQLPJJptsskNAs8kmm2yyQ0CzySabbLJDQLPJJptsskNAs8kmm2yyQ0CzySabbLJDQLPJJptsskNAs8kmm2yyQ0CzySabbLJDQLPJJptsskNAs8kmm2yyQ0CzySabbLJDQLPJJptsskNAs8kmm2yyQ0CzySabbLJDQLPJJptsskNAs8kmm2yyQ0CzySabbLJDQLPJJptsskNAs8kmm2yyQ0CzySabbLJDQLPJJptsskNAs8kmm2yyQ0CzySabbLJDQLPJJptsskNAs8kmm2yyQ0CzySabbLJDQLPJJptsskNAs8kmm2yyQ0CzySabbLJDQLPJJptsskNAs8kmm2yyQ0CzySabbLJDQLPJJptsskNAs8kmm2yyQ0CzySabbLJDQLPJJptsskNAs8kmm2yyQ0CzySabbLJDQLPJJptsskNAAAAAAAAAREAAAAAAAABEQAAAAAAAAERAAAAAAAAAREAAAAAAAABEQAAAAAAAAERAAAAAAAAAREAAAAAAAABEQAAAAAAAAERAAAAAAAAAREAAAAAAAABEQAAAAAAAAERAAAAAAAAAREAAAAAAAABEQAAAAAAAAERAAAAAAAAAREAAAAAAAABEQAAAAAAAAERAAAAAAAAAREAAAAAAAABEQAAAAAAAAERAAAAAAAAAREAAAAAAAABEQAAAAAAAAERAAAAAAAAAREAAAAAAAABEQAAAAAAAAERAAAAAAAAAREAAAAAAAABEQAAAAAAAAERAAAAAAAAAREAAAAAAAABEQAAAAAAAAERAAAAAAAAAREAAAAAAAABEQAAAAAAAAERAAAAAAAAAREAAAAAAAABEQAAAAAAAAERAAAAAAAAAREAAAAAAAABEQAAAAAAAAERAAAAAAAAAREAAAAAAAABEQAAAAAAAAERAAAAAAAAAREAAAAAAAABEQAAAAAAAAERAAAAAAAAAREAAAAAAAABEQAAAAAAAAERAAAAAAAAAREAAAAAAAABEQAAAAAAAAERAAAAAAAAAREAAAAAAAABEQAAAAAAAAERAAAAAAAAAREAAAAAAAABEQAAAAAAAAERAAAAAAAAAREAAAAAAAABEQAAAAAAAAERAAAAAAAAAREAAAAAAAABEQAAAAAAAAERAAAAAAAAAREAAAAAAAABEQAAAAAAAAERAAAAAAAAAREAAAAAAAABEQAAAAAAAAERAAAAAAAAAREAAAAAAAABEQAAAAAAAAERAAAAAAAAAREAAAAAAAABEQAAAAAAAAERAAAAAAAAAREAAAAAAAABEQAAAAAAAAERAAAAAAAAAREAAAAAAAABEQAAAAAAAAERAAAAAAAAAREAAAAAAAABEQAAAAAAAAERAAAAAAAAAREAAAAAAAABEQAAAAAAAAERAAAAAAAAAREAAAAAAAABEQAAAAAAAAERAAAAAAAAAREAAAAAAAABEQAAAAAAAAERAAAAAAAAAREAAAAAAAABEQAAAAAAAAERAAAAAAAAAREBONtlkk01EQE422WSTTURATjbZZJNNREBONtlkk01EQE422WSTTURATjbZZJNNREBONtlkk01EQE422WSTTURATjbZZJNNREBONtlkk01EQE422WSTTURATjbZZJNNREBONtlkk01EQE422WSTTURATjbZZJNNREBONtlkk01EQE422WSTTURATjbZZJNNREBONtlkk01EQE422WSTTURATjbZZJNNREBONtlkk01EQE422WSTTURATjbZZJNNREBONtlkk01EQE422WSTTURATjbZZJNNREBONtlkk01EQE422WSTTURATjbZZJNNREBONtlkk01EQE422WSTTURATjbZZJNNREBONtlkk01EQE422WSTTURATjbZZJNNREBONtlkk01EQE422WSTTURATjbZZJNNREBONtlkk01EQE422WSTTURATjbZZJNNREBONtlkk01EQE422WSTTURATjbZZJNNREBONtlkk01EQE422WSTTURATjbZZJNNREBONtlkk01EQE422WSTTURATjbZZJNNREBONtlkk01EQE422WSTTURATjbZZJNNREBONtlkk01EQE422WSTTURATjbZZJNNREBONtlkk01EQE422WSTTURATjbZZJNNREBONtlkk01EQE422WSTTURATjbZZJNNREBONtlkk01EQE422WSTTURATjbZZJNNREBONtlkk01EQE422WSTTURATjbZZJNNREBONtlkk01EQE422WSTTURATjbZZJNNREBONtlkk01EQE422WSTTURATjbZZJNNREBONtlkk01EQE422WSTTURATjbZZJNNREBONtlkk01EQE422WSTTURATjbZZJNNREBONtlkk01EQE422WSTTURATjbZZJNNREBONtlkk01EQE422WSTTURATjbZZJNNREBONtlkk01EQE422WSTTURATjbZZJNNREBONtlkk01EQE422WSTTURATjbZZJNNREBONtlkk01EQE422WSTTURATjbZZJNNREBONtlkk01EQE422WSTTURATjbZZJNNREBONtlkk01EQJtssskmm0RAm2yyySabRECbbLLJJptEQJtssskmm0RAm2yyySabRECbbLLJJptEQJtssskmm0RAm2yyySabRECbbLLJJptEQJtssskmm0RAm2yyySabRECbbLLJJptEQJtssskmm0RAm2yyySabRECbbLLJJptEQJtssskmm0RAm2yyySabRECbbLLJJptEQJtssskmm0RAm2yyySabRECbbLLJJptEQJtssskmm0RAm2yyySabRECbbLLJJptEQJtssskmm0RAm2yyySabRECbbLLJJptEQJtssskmm0RAm2yyySabRECbbLLJJptEQJtssskmm0RAm2yyySabRECbbLLJJptEQJtssskmm0RAm2yyySabRECbbLLJJptEQJtssskmm0RAm2yyySabRECbbLLJJptEQJtssskmm0RAm2yyySabRECbbLLJJptEQJtssskmm0RAm2yyySabRECbbLLJJptEQJtssskmm0RAm2yyySabRECbbLLJJptEQJtssskmm0RAm2yyySabRECbbLLJJptEQJtssskmm0RAm2yyySabRECbbLLJJptEQJtssskmm0RAm2yyySabRECbbLLJJptEQJtssskmm0RAm2yyySabRECbbLLJJptEQJtssskmm0RAm2yyySabRECbbLLJJptEQJtssskmm0RAm2yyySabRECbbLLJJptEQJtssskmm0RAm2yyySabRECbbLLJJptEQJtssskmm0RAm2yyySabRECbbLLJJptEQJtssskmm0RAm2yyySabRECbbLLJJptEQJtssskmm0RAm2yyySabRECbbLLJJptEQJtssskmm0RAm2yyySabRECbbLLJJptEQJtssskmm0RAm2yyySabRECbbLLJJptEQJtssskmm0RAm2yyySabRECbbLLJJptEQJtssskmm0RAm2yyySabRECbbLLJJptEQJtssskmm0RAm2yyySabRECbbLLJJptEQJtssskmm0RAm2yyySabRECbbLLJJptEQJtssskmm0RAm2yyySabRECbbLLJJptEQJtssskmm0RA6aKLLrroREDpoosuuuhEQOmiiy666ERA6aKLLrroREDpoosuuuhEQOmiiy666ERA6aKLLrroREDpoosuuuhEQOmiiy666ERA6aKLLrroREDpoosuuuhEQOmiiy666ERA6aKLLrroREDpoosuuuhEQOmiiy666ERA6aKLLrroREDpoosuuuhEQOmiiy666ERA6aKLLrroREDpoosuuuhEQOmiiy666ERA6aKLLrroREDpoosuuuhEQOmiiy666ERA6aKLLrroREDpoosuuuhEQOmiiy666ERA6aKLLrroREDpoosuuuhEQOmiiy666ERA6aKLLrroREDpoosuuuhEQOmiiy666ERA6aKLLrroREDpoosuuuhEQOmiiy666ERA6aKLLrroREDpoosuuuhEQOmiiy666ERA6aKLLrroREDpoosuuuhEQOmiiy666ERA6aKLLrroREDpoosuuuhEQOmiiy666ERA6aKLLrroREDpoosuuuhEQOmiiy666ERA6aKLLrroREDpoosuuuhEQOmiiy666ERA6aKLLrroREDpoosuuuhEQOmiiy666ERA6aKLLrroREDpoosuuuhEQOmiiy666ERA6aKLLrroREDpoosuuuhEQOmiiy666ERA6aKLLrroREDpoosuuuhEQOmiiy666ERA6aKLLrroREDpoosuuuhEQOmiiy666ERA6aKLLrroREDpoosuuuhEQOmiiy666ERA6aKLLrroREDpoosuuuhEQOmiiy666ERA6aKLLrroREDpoosuuuhEQOmiiy666ERA6aKLLrroREDpoosuuuhEQOmiiy666ERA6aKLLrroREDpoosuuuhEQOmiiy666ERA6aKLLrroREDpoosuuuhEQOmiiy666ERA6aKLLrroREDpoosuuuhEQOmiiy666ERA6aKLLrroREDpoosuuuhEQOmiiy666ERA6aKLLrroREDpoosuuuhEQOmiiy666ERA6aKLLrroREDpoosuuuhEQOmiiy666ERA6aKLLrroREDpoosuuuhEQOmiiy666ERA6aKLLrroREA22WSTTTZFQDbZZJNNNkVANtlkk002RUA22WSTTTZFQDbZZJNNNkVANtlkk002RUA22WSTTTZFQDbZZJNNNkVANtlkk002RUA22WSTTTZFQDbZZJNNNkVANtlkk002RUA22WSTTTZFQDbZZJNNNkVANtlkk002RUA22WSTTTZFQDbZZJNNNkVANtlkk002RUA22WSTTTZFQDbZZJNNNkVANtlkk002RUA22WSTTTZFQDbZZJNNNkVANtlkk002RUA22WSTTTZFQDbZZJNNNkVANtlkk002RUA22WSTTTZFQDbZZJNNNkVANtlkk002RUA22WSTTTZFQDbZZJNNNkVANtlkk002RUA22WSTTTZFQDbZZJNNNkVANtlkk002RUA22WSTTTZFQDbZZJNNNkVANtlkk002RUA22WSTTTZFQDbZZJNNNkVANtlkk002RUA22WSTTTZFQDbZZJNNNkVANtlkk002RUA22WSTTTZFQDbZZJNNNkVANtlkk002RUA22WSTTTZFQDbZZJNNNkVANtlkk002RUA22WSTTTZFQDbZZJNNNkVANtlkk002RUA22WSTTTZFQDbZZJNNNkVANtlkk002RUA22WSTTTZFQDbZZJNNNkVANtlkk002RUA22WSTTTZFQDbZZJNNNkVANtlkk002RUA22WSTTTZFQDbZZJNNNkVANtlkk002RUA22WSTTTZFQDbZZJNNNkVANtlkk002RUA22WSTTTZFQDbZZJNNNkVANtlkk002RUA22WSTTTZFQDbZZJNNNkVANtlkk002RUA22WSTTTZFQDbZZJNNNkVANtlkk002RUA22WSTTTZFQDbZZJNNNkVANtlkk002RUA22WSTTTZFQDbZZJNNNkVANtlkk002RUA22WSTTTZFQDbZZJNNNkVANtlkk002RUA22WSTTTZFQDbZZJNNNkVANtlkk002RUA22WSTTTZFQDbZZJNNNkVANtlkk002RUA22WSTTTZFQDbZZJNNNkVANtlkk002RUA22WSTTTZFQDbZZJNNNkVANtlkk002RUA22WSTTTZFQIQPPvjgg0VAhA8++OCDRUCEDz744INFQIQPPvjgg0VAhA8++OCDRUCEDz744INFQIQPPvjgg0VAhA8++OCDRUCEDz744INFQIQPPvjgg0VAhA8++OCDRUCEDz744INFQIQPPvjgg0VAhA8++OCDRUCEDz744INFQIQPPvjgg0VAhA8++OCDRUCEDz744INFQIQPPvjgg0VAhA8++OCDRUCEDz744INFQIQPPvjgg0VAhA8++OCDRUCEDz744INFQIQPPvjgg0VAhA8++OCDRUCEDz744INFQIQPPvjgg0VAhA8++OCDRUCEDz744INFQIQPPvjgg0VAhA8++OCDRUCEDz744INFQIQPPvjgg0VAhA8++OCDRUCEDz744INFQIQPPvjgg0VAhA8++OCDRUCEDz744INFQIQPPvjgg0VAhA8++OCDRUCEDz744INFQIQPPvjgg0VAhA8++OCDRUCEDz744INFQIQPPvjgg0VAhA8++OCDRUCEDz744INFQIQPPvjgg0VAhA8++OCDRUCEDz744INFQIQPPvjgg0VAhA8++OCDRUCEDz744INFQIQPPvjgg0VAhA8++OCDRUCEDz744INFQIQPPvjgg0VAhA8++OCDRUCEDz744INFQIQPPvjgg0VAhA8++OCDRUCEDz744INFQIQPPvjgg0VAhA8++OCDRUCEDz744INFQIQPPvjgg0VAhA8++OCDRUCEDz744INFQIQPPvjgg0VAhA8++OCDRUCEDz744INFQIQPPvjgg0VAhA8++OCDRUCEDz744INFQIQPPvjgg0VAhA8++OCDRUCEDz744INFQIQPPvjgg0VAhA8++OCDRUCEDz744INFQIQPPvjgg0VAhA8++OCDRUCEDz744INFQIQPPvjgg0VAhA8++OCDRUCEDz744INFQIQPPvjgg0VAhA8++OCDRUCEDz744INFQIQPPvjgg0VAhA8++OCDRUCEDz744INFQIQPPvjgg0VAhA8++OCDRUCEDz744INFQIQPPvjgg0VAhA8++OCDRUCEDz744INFQIQPPvjgg0VA0kUXXXTRRUDSRRdddNFFQNJFF1100UVA0kUXXXTRRUDSRRdddNFFQNJFF1100UVA0kUXXXTRRUDSRRdddNFFQNJFF1100UVA0kUXXXTRRUDSRRdddNFFQNJFF1100UVA0kUXXXTRRUDSRRdddNFFQNJFF1100UVA0kUXXXTRRUDSRRdddNFFQNJFF1100UVA0kUXXXTRRUDSRRdddNFFQNJFF1100UVA0kUXXXTRRUDSRRdddNFFQNJFF1100UVA0kUXXXTRRUDSRRdddNFFQNJFF1100UVA0kUXXXTRRUDSRRdddNFFQNJFF1100UVA0kUXXXTRRUDSRRdddNFFQNJFF1100UVA0kUXXXTRRUDSRRdddNFFQNJFF1100UVA0kUXXXTRRUDSRRdddNFFQNJFF1100UVA0kUXXXTRRUDSRRdddNFFQNJFF1100UVA0kUXXXTRRUDSRRdddNFFQNJFF1100UVA0kUXXXTRRUDSRRdddNFFQNJFF1100UVA0kUXXXTRRUDSRRdddNFFQNJFF1100UVA0kUXXXTRRUDSRRdddNFFQNJFF1100UVA0kUXXXTRRUDSRRdddNFFQNJFF1100UVA0kUXXXTRRUDSRRdddNFFQNJFF1100UVA0kUXXXTRRUDSRRdddNFFQNJFF1100UVA0kUXXXTRRUDSRRdddNFFQNJFF1100UVA0kUXXXTRRUDSRRdddNFFQNJFF1100UVA0kUXXXTRRUDSRRdddNFFQNJFF1100UVA0kUXXXTRRUDSRRdddNFFQNJFF1100UVA0kUXXXTRRUDSRRdddNFFQNJFF1100UVA0kUXXXTRRUDSRRdddNFFQNJFF1100UVA0kUXXXTRRUDSRRdddNFFQNJFF1100UVA0kUXXXTRRUDSRRdddNFFQNJFF1100UVA0kUXXXTRRUDSRRdddNFFQNJFF1100UVA0kUXXXTRRUDSRRdddNFFQNJFF1100UVA0kUXXXTRRUDSRRdddNFFQNJFF1100UVA0kUXXXTRRUDSRRdddNFFQNJFF1100UVA0kUXXXTRRUAffPDBBx9GQB988MEHH0ZAH3zwwQcfRkAffPDBBx9GQB988MEHH0ZAH3zwwQcfRkAffPDBBx9GQB988MEHH0ZAH3zwwQcfRkAffPDBBx9GQB988MEHH0ZAH3zwwQcfRkAffPDBBx9GQB988MEHH0ZAH3zwwQcfRkAffPDBBx9GQB988MEHH0ZAH3zwwQcfRkAffPDBBx9GQB988MEHH0ZAH3zwwQcfRkAffPDBBx9GQB988MEHH0ZAH3zwwQcfRkAffPDBBx9GQB988MEHH0ZAH3zwwQcfRkAffPDBBx9GQB988MEHH0ZAH3zwwQcfRkAffPDBBx9GQB988MEHH0ZAH3zwwQcfRkAffPDBBx9GQB988MEHH0ZAH3zwwQcfRkAffPDBBx9GQB988MEHH0ZAH3zwwQcfRkAffPDBBx9GQB988MEHH0ZAH3zwwQcfRkAffPDBBx9GQB988MEHH0ZAH3zwwQcfRkAffPDBBx9GQB988MEHH0ZAH3zwwQcfRkAffPDBBx9GQB988MEHH0ZAH3zwwQcfRkAffPDBBx9GQB988MEHH0ZAH3zwwQcfRkAffPDBBx9GQB988MEHH0ZAH3zwwQcfRkAffPDBBx9GQB988MEHH0ZAH3zwwQcfRkAffPDBBx9GQB988MEHH0ZAH3zwwQcfRkAffPDBBx9GQB988MEHH0ZAH3zwwQcfRkAffPDBBx9GQB988MEHH0ZAH3zwwQcfRkAffPDBBx9GQB988MEHH0ZAH3zwwQcfRkAffPDBBx9GQB988MEHH0ZAH3zwwQcfRkAffPDBBx9GQB988MEHH0ZAH3zwwQcfRkAffPDBBx9GQB988MEHH0ZAH3zwwQcfRkAffPDBBx9GQB988MEHH0ZAH3zwwQcfRkAffPDBBx9GQB988MEHH0ZAH3zwwQcfRkAffPDBBx9GQB988MEHH0ZAH3zwwQcfRkAffPDBBx9GQB988MEHH0ZAH3zwwQcfRkAffPDBBx9GQB988MEHH0ZAH3zwwQcfRkAffPDBBx9GQB988MEHH0ZAH3zwwQcfRkAffPDBBx9GQG2yySabbEZAbbLJJptsRkBtsskmm2xGQG2yySabbEZAbbLJJptsRkBtsskmm2xGQG2yySabbEZAbbLJJptsRkBtsskmm2xGQG2yySabbEZAbbLJJptsRkBtsskmm2xGQG2yySabbEZAbbLJJptsRkBtsskmm2xGQG2yySabbEZAbbLJJptsRkBtsskmm2xGQG2yySabbEZAbbLJJptsRkBtsskmm2xGQG2yySabbEZAbbLJJptsRkBtsskmm2xGQG2yySabbEZAbbLJJptsRkBtsskmm2xGQG2yySabbEZAbbLJJptsRkBtsskmm2xGQG2yySabbEZAbbLJJptsRkBtsskmm2xGQG2yySabbEZAbbLJJptsRkBtsskmm2xGQG2yySabbEZAbbLJJptsRkBtsskmm2xGQG2yySabbEZAbbLJJptsRkBtsskmm2xGQG2yySabbEZAbbLJJptsRkBtsskmm2xGQG2yySabbEZAbbLJJptsRkBtsskmm2xGQG2yySabbEZAbbLJJptsRkBtsskmm2xGQG2yySabbEZAbbLJJptsRkBtsskmm2xGQG2yySabbEZAbbLJJptsRkBtsskmm2xGQG2yySabbEZAbbLJJptsRkBtsskmm2xGQG2yySabbEZAbbLJJptsRkBtsskmm2xGQG2yySabbEZAbbLJJptsRkBtsskmm2xGQG2yySabbEZAbbLJJptsRkBtsskmm2xGQG2yySabbEZAbbLJJptsRkBtsskmm2xGQG2yySabbEZAbbLJJptsRkBtsskmm2xGQG2yySabbEZAbbLJJptsRkBtsskmm2xGQG2yySabbEZAbbLJJptsRkBtsskmm2xGQG2yySabbEZAbbLJJptsRkBtsskmm2xGQG2yySabbEZAbbLJJptsRkBtsskmm2xGQG2yySabbEZAbbLJJptsRkBtsskmm2xGQG2yySabbEZAbbLJJptsRkBtsskmm2xGQG2yySabbEZAbbLJJptsRkBtsskmm2xGQG2yySabbEZAbbLJJptsRkBtsskmm2xGQG2yySabbEZAuuiiiy66RkC66KKLLrpGQLrooosuukZAuuiiiy66RkC66KKLLrpGQLrooosuukZAuuiiiy66RkC66KKLLrpGQLrooosuukZAuuiiiy66RkC66KKLLrpGQLrooosuukZAuuiiiy66RkC66KKLLrpGQLrooosuukZAuuiiiy66RkC66KKLLrpGQLrooosuukZAuuiiiy66RkC66KKLLrpGQLrooosuukZAuuiiiy66RkC66KKLLrpGQLrooosuukZAuuiiiy66RkC66KKLLrpGQLrooosuukZAuuiiiy66RkC66KKLLrpGQLrooosuukZAuuiiiy66RkC66KKLLrpGQLrooosuukZAuuiiiy66RkC66KKLLrpGQLrooosuukZAuuiiiy66RkC66KKLLrpGQLrooosuukZAuuiiiy66RkC66KKLLrpGQLrooosuukZAuuiiiy66RkC66KKLLrpGQLrooosuukZAuuiiiy66RkC66KKLLrpGQLrooosuukZAuuiiiy66RkC66KKLLrpGQLrooosuukZAuuiiiy66RkC66KKLLrpGQLrooosuukZAuuiiiy66RkC66KKLLrpGQLrooosuukZAuuiiiy66RkC66KKLLrpGQLrooosuukZAuuiiiy66RkC66KKLLrpGQLrooosuukZAuuiiiy66RkC66KKLLrpGQLrooosuukZAuuiiiy66RkC66KKLLrpGQLrooosuukZAuuiiiy66RkC66KKLLrpGQLrooosuukZAuuiiiy66RkC66KKLLrpGQLrooosuukZAuuiiiy66RkC66KKLLrpGQLrooosuukZAuuiiiy66RkC66KKLLrpGQLrooosuukZAuuiiiy66RkC66KKLLrpGQLrooosuukZAuuiiiy66RkC66KKLLrpGQLrooosuukZAuuiiiy66RkC66KKLLrpGQLrooosuukZAuuiiiy66RkC66KKLLrpGQLrooosuukZAuuiiiy66RkC66KKLLrpGQLrooosuukZAuuiiiy66RkC66KKLLrpGQLrooosuukZAuuiiiy66RkAIH3zwwQdHQAgffPDBB0dACB988MEHR0AIH3zwwQdHQAgffPDBB0dACB988MEHR0AIH3zwwQdHQAgffPDBB0dACB988MEHR0AIH3zwwQdHQAgffPDBB0dACB988MEHR0AIH3zwwQdHQAgffPDBB0dACB988MEHR0AIH3zwwQdHQAgffPDBB0dACB988MEHR0AIH3zwwQdHQAgffPDBB0dACB988MEHR0AIH3zwwQdHQAgffPDBB0dACB988MEHR0AIH3zwwQdHQAgffPDBB0dACB988MEHR0AIH3zwwQdHQAgffPDBB0dACB988MEHR0AIH3zwwQdHQAgffPDBB0dACB988MEHR0AIH3zwwQdHQAgffPDBB0dACB988MEHR0AIH3zwwQdHQAgffPDBB0dACB988MEHR0AIH3zwwQdHQAgffPDBB0dACB988MEHR0AIH3zwwQdHQAgffPDBB0dACB988MEHR0AIH3zwwQdHQAgffPDBB0dACB988MEHR0AIH3zwwQdHQAgffPDBB0dACB988MEHR0AIH3zwwQdHQAgffPDBB0dACB988MEHR0AIH3zwwQdHQAgffPDBB0dACB988MEHR0AIH3zwwQdHQAgffPDBB0dACB988MEHR0AIH3zwwQdHQAgffPDBB0dACB988MEHR0AIH3zwwQdHQAgffPDBB0dACB988MEHR0AIH3zwwQdHQAgffPDBB0dACB988MEHR0AIH3zwwQdHQAgffPDBB0dACB988MEHR0AIH3zwwQdHQAgffPDBB0dACB988MEHR0AIH3zwwQdHQAgffPDBB0dACB988MEHR0AIH3zwwQdHQAgffPDBB0dACB988MEHR0AIH3zwwQdHQAgffPDBB0dACB988MEHR0AIH3zwwQdHQAgffPDBB0dACB988MEHR0AIH3zwwQdHQAgffPDBB0dACB988MEHR0AIH3zwwQdHQAgffPDBB0dACB988MEHR0AIH3zwwQdHQAgffPDBB0dACB988MEHR0AIH3zwwQdHQAgffPDBB0dACB988MEHR0AIH3zwwQdHQFZVVVVVVUdAVlVVVVVVR0BWVVVVVVVHQFZVVVVVVUdAVlVVVVVVR0BWVVVVVVVHQFZVVVVVVUdAVlVVVVVVR0BWVVVVVVVHQFZVVVVVVUdAVlVVVVVVR0BWVVVVVVVHQFZVVVVVVUdAVlVVVVVVR0BWVVVVVVVHQFZVVVVVVUdAVlVVVVVVR0BWVVVVVVVHQFZVVVVVVUdAVlVVVVVVR0BWVVVVVVVHQFZVVVVVVUdAVlVVVVVVR0BWVVVVVVVHQFZVVVVVVUdAVlVVVVVVR0BWVVVVVVVHQFZVVVVVVUdAVlVVVVVVR0BWVVVVVVVHQFZVVVVVVUdAVlVVVVVVR0BWVVVVVVVHQFZVVVVVVUdAVlVVVVVVR0BWVVVVVVVHQFZVVVVVVUdAVlVVVVVVR0BWVVVVVVVHQFZVVVVVVUdAVlVVVVVVR0BWVVVVVVVHQFZVVVVVVUdAVlVVVVVVR0BWVVVVVVVHQFZVVVVVVUdAVlVVVVVVR0BWVVVVVVVHQFZVVVVVVUdAVlVVVVVVR0BWVVVVVVVHQFZVVVVVVUdAVlVVVVVVR0BWVVVVVVVHQFZVVVVVVUdAVlVVVVVVR0BWVVVVVVVHQFZVVVVVVUdAVlVVVVVVR0BWVVVVVVVHQFZVVVVVVUdAVlVVVVVVR0BWVVVVVVVHQFZVVVVVVUdAVlVVVVVVR0BWVVVVVVVHQFZVVVVVVUdAVlVVVVVVR0BWVVVVVVVHQFZVVVVVVUdAVlVVVVVVR0BWVVVVVVVHQFZVVVVVVUdAVlVVVVVVR0BWVVVVVVVHQFZVVVVVVUdAVlVVVVVVR0BWVVVVVVVHQFZVVVVVVUdAVlVVVVVVR0BWVVVVVVVHQFZVVVVVVUdAVlVVVVVVR0BWVVVVVVVHQFZVVVVVVUdAVlVVVVVVR0BWVVVVVVVHQFZVVVVVVUdAVlVVVVVVR0BWVVVVVVVHQFZVVVVVVUdAVlVVVVVVR0BWVVVVVVVHQFZVVVVVVUdAVlVVVVVVR0BWVVVVVVVHQFZVVVVVVUdAVlVVVVVVR0BWVVVVVVVHQFZVVVVVVUdAo4suuuiiR0Cjiy666KJHQKOLLrrookdAo4suuuiiR0Cjiy666KJHQKOLLrrookdAo4suuuiiR0Cjiy666KJHQKOLLrrookdAo4suuuiiR0Cjiy666KJHQKOLLrrookdAo4suuuiiR0Cjiy666KJHQKOLLrrookdAo4suuuiiR0Cjiy666KJHQKOLLrrookdAo4suuuiiR0Cjiy666KJHQKOLLrrookdAo4suuuiiR0Cjiy666KJHQKOLLrrookdAo4suuuiiR0Cjiy666KJHQKOLLrrookdAo4suuuiiR0Cjiy666KJHQKOLLrrookdAo4suuuiiR0Cjiy666KJHQKOLLrrookdAo4suuuiiR0Cjiy666KJHQKOLLrrookdAo4suuuiiR0Cjiy666KJHQKOLLrrookdAo4suuuiiR0Cjiy666KJHQKOLLrrookdAo4suuuiiR0Cjiy666KJHQKOLLrrookdAo4suuuiiR0Cjiy666KJHQKOLLrrookdAo4suuuiiR0Cjiy666KJHQKOLLrrookdAo4suuuiiR0Cjiy666KJHQKOLLrrookdAo4suuuiiR0Cjiy666KJHQKOLLrrookdAo4suuuiiR0Cjiy666KJHQKOLLrrookdAo4suuuiiR0Cjiy666KJHQKOLLrrookdAo4suuuiiR0Cjiy666KJHQKOLLrrookdAo4suuuiiR0Cjiy666KJHQKOLLrrookdAo4suuuiiR0Cjiy666KJHQKOLLrrookdAo4suuuiiR0Cjiy666KJHQKOLLrrookdAo4suuuiiR0Cjiy666KJHQKOLLrrookdAo4suuuiiR0Cjiy666KJHQKOLLrrookdAo4suuuiiR0Cjiy666KJHQKOLLrrookdAo4suuuiiR0Cjiy666KJHQKOLLrrookdAo4suuuiiR0Cjiy666KJHQKOLLrrookdAo4suuuiiR0Cjiy666KJHQKOLLrrookdAo4suuuiiR0Cjiy666KJHQKOLLrrookdAo4suuuiiR0Cjiy666KJHQKOLLrrookdAo4suuuiiR0DxwQcffPBHQPHBBx988EdA8cEHH3zwR0DxwQcffPBHQPHBBx988EdA8cEHH3zwR0DxwQcffPBHQPHBBx988EdA8cEHH3zwR0DxwQcffPBHQPHBBx988EdA8cEHH3zwR0DxwQcffPBHQPHBBx988EdA8cEHH3zwR0DxwQcffPBHQPHBBx988EdA8cEHH3zwR0DxwQcffPBHQPHBBx988EdA8cEHH3zwR0DxwQcffPBHQPHBBx988EdA8cEHH3zwR0DxwQcffPBHQPHBBx988EdA8cEHH3zwR0DxwQcffPBHQPHBBx988EdA8cEHH3zwR0DxwQcffPBHQPHBBx988EdA8cEHH3zwR0DxwQcffPBHQPHBBx988EdA8cEHH3zwR0DxwQcffPBHQPHBBx988EdA8cEHH3zwR0DxwQcffPBHQPHBBx988EdA8cEHH3zwR0DxwQcffPBHQPHBBx988EdA8cEHH3zwR0DxwQcffPBHQPHBBx988EdA8cEHH3zwR0DxwQcffPBHQPHBBx988EdA8cEHH3zwR0DxwQcffPBHQPHBBx988EdA8cEHH3zwR0DxwQcffPBHQPHBBx988EdA8cEHH3zwR0DxwQcffPBHQPHBBx988EdA8cEHH3zwR0DxwQcffPBHQPHBBx988EdA8cEHH3zwR0DxwQcffPBHQPHBBx988EdA8cEHH3zwR0DxwQcffPBHQPHBBx988EdA8cEHH3zwR0DxwQcffPBHQPHBBx988EdA8cEHH3zwR0DxwQcffPBHQPHBBx988EdA8cEHH3zwR0DxwQcffPBHQPHBBx988EdA8cEHH3zwR0DxwQcffPBHQPHBBx988EdA8cEHH3zwR0DxwQcffPBHQPHBBx988EdA8cEHH3zwR0DxwQcffPBHQPHBBx988EdA8cEHH3zwR0DxwQcffPBHQPHBBx988EdA8cEHH3zwR0DxwQcffPBHQPHBBx988EdA8cEHH3zwR0DxwQcffPBHQPHBBx988EdA8cEHH3zwR0DxwQcffPBHQPHBBx988EdA8cEHH3zwR0DxwQcffPBHQD744IMPPkhAPvjggw8+SEA++OCDDz5IQD744IMPPkhAPvjggw8+SEA++OCDDz5IQD744IMPPkhAPvjggw8+SEA++OCDDz5IQD744IMPPkhAPvjggw8+SEA++OCDDz5IQD744IMPPkhAPvjggw8+SEA++OCDDz5IQD744IMPPkhAPvjggw8+SEA++OCDDz5IQD744IMPPkhAPvjggw8+SEA++OCDDz5IQD744IMPPkhAPvjggw8+SEA++OCDDz5IQD744IMPPkhAPvjggw8+SEA++OCDDz5IQD744IMPPkhAPvjggw8+SEA++OCDDz5IQD744IMPPkhAPvjggw8+SEA++OCDDz5IQD744IMPPkhAPvjggw8+SEA++OCDDz5IQD744IMPPkhAPvjggw8+SEA++OCDDz5IQD744IMPPkhAPvjggw8+SEA++OCDDz5IQD744IMPPkhAPvjggw8+SEA++OCDDz5IQD744IMPPkhAPvjggw8+SEA++OCDDz5IQD744IMPPkhAPvjggw8+SEA++OCDDz5IQD744IMPPkhAPvjggw8+SEA++OCDDz5IQD744IMPPkhAPvjggw8+SEA++OCDDz5IQD744IMPPkhAPvjggw8+SEA++OCDDz5IQD744IMPPkhAPvjggw8+SEA++OCDDz5IQD744IMPPkhAPvjggw8+SEA++OCDDz5IQD744IMPPkhAPvjggw8+SEA++OCDDz5IQD744IMPPkhAPvjggw8+SEA++OCDDz5IQD744IMPPkhAPvjggw8+SEA++OCDDz5IQD744IMPPkhAPvjggw8+SEA++OCDDz5IQD744IMPPkhAPvjggw8+SEA++OCDDz5IQD744IMPPkhAPvjggw8+SEA++OCDDz5IQD744IMPPkhAPvjggw8+SEA++OCDDz5IQD744IMPPkhAPvjggw8+SEA++OCDDz5IQD744IMPPkhAPvjggw8+SEA++OCDDz5IQD744IMPPkhAPvjggw8+SEA++OCDDz5IQD744IMPPkhAPvjggw8+SEA++OCDDz5IQD744IMPPkhAjC666KKLSECMLrroootIQIwuuuiii0hAjC666KKLSECMLrroootIQIwuuuiii0hAjC666KKLSECMLrroootIQIwuuuiii0hAjC666KKLSECMLrroootIQIwuuuiii0hAjC666KKLSECMLrroootIQIwuuuiii0hAjC666KKLSECMLrroootIQIwuuuiii0hAjC666KKLSECMLrroootIQIwuuuiii0hAjC666KKLSECMLrroootIQIwuuuiii0hAjC666KKLSECMLrroootIQIwuuuiii0hAjC666KKLSECMLrroootIQIwuuuiii0hAjC666KKLSECMLrroootIQIwuuuiii0hAjC666KKLSECMLrroootIQIwuuuiii0hAjC666KKLSECMLrroootIQIwuuuiii0hAjC666KKLSECMLrroootIQIwuuuiii0hAjC666KKLSECMLrroootIQIwuuuiii0hAjC666KKLSECMLrroootIQIwuuuiii0hAjC666KKLSECMLrroootIQIwuuuiii0hAjC666KKLSECMLrroootIQIwuuuiii0hAjC666KKLSECMLrroootIQIwuuuiii0hAjC666KKLSECMLrroootIQIwuuuiii0hAjC666KKLSECMLrroootIQIwuuuiii0hAjC666KKLSECMLrroootIQIwuuuiii0hAjC666KKLSECMLrroootIQIwuuuiii0hAjC666KKLSECMLrroootIQIwuuuiii0hAjC666KKLSECMLrroootIQIwuuuiii0hAjC666KKLSECMLrroootIQIwuuuiii0hAjC666KKLSECMLrroootIQIwuuuiii0hAjC666KKLSECMLrroootIQIwuuuiii0hAjC666KKLSECMLrroootIQIwuuuiii0hAjC666KKLSECMLrroootIQIwuuuiii0hAjC666KKLSECMLrroootIQIwuuuiii0hAjC666KKLSECMLrroootIQIwuuuiii0hAjC666KKLSECMLrroootIQIwuuuiii0hAjC666KKLSEDZZJNNNtlIQNlkk0022UhA2WSTTTbZSEDZZJNNNtlIQNlkk0022UhA2WSTTTbZSEDZZJNNNtlIQNlkk0022UhA2WSTTTbZSEDZZJNNNtlIQNlkk0022UhA2WSTTTbZSEDZZJNNNtlIQNlkk0022UhA2WSTTTbZSEDZZJNNNtlIQNlkk0022UhA2WSTTTbZSEDZZJNNNtlIQNlkk0022UhA2WSTTTbZSEDZZJNNNtlIQNlkk0022UhA2WSTTTbZSEDZZJNNNtlIQNlkk0022UhA2WSTTTbZSEDZZJNNNtlIQNlkk0022UhA2WSTTTbZSEDZZJNNNtlIQNlkk0022UhA2WSTTTbZSEDZZJNNNtlIQNlkk0022UhA2WSTTTbZSEDZZJNNNtlIQNlkk0022UhA2WSTTTbZSEDZZJNNNtlIQNlkk0022UhA2WSTTTbZSEDZZJNNNtlIQNlkk0022UhA2WSTTTbZSEDZZJNNNtlIQNlkk0022UhA2WSTTTbZSEDZZJNNNtlIQNlkk0022UhA2WSTTTbZSEDZZJNNNtlIQNlkk0022UhA2WSTTTbZSEDZZJNNNtlIQNlkk0022UhA2WSTTTbZSEDZZJNNNtlIQNlkk0022UhA2WSTTTbZSEDZZJNNNtlIQNlkk0022UhA2WSTTTbZSEDZZJNNNtlIQNlkk0022UhA2WSTTTbZSEDZZJNNNtlIQNlkk0022UhA2WSTTTbZSEDZZJNNNtlIQNlkk0022UhA2WSTTTbZSEDZZJNNNtlIQNlkk0022UhA2WSTTTbZSEDZZJNNNtlIQNlkk0022UhA2WSTTTbZSEDZZJNNNtlIQNlkk0022UhA2WSTTTbZSEDZZJNNNtlIQNlkk0022UhA2WSTTTbZSEDZZJNNNtlIQNlkk0022UhA2WSTTTbZSEDZZJNNNtlIQNlkk0022UhA2WSTTTbZSEDZZJNNNtlIQNlkk0022UhA2WSTTTbZSEDZZJNNNtlIQNlkk0022UhA2WSTTTbZSEDZZJNNNtlIQNlkk0022UhA2WSTTTbZSEDZZJNNNtlIQCebbLLJJklAJ5tssskmSUAnm2yyySZJQCebbLLJJklAJ5tssskmSUAnm2yyySZJQCebbLLJJklAJ5tssskmSUAnm2yyySZJQCebbLLJJklAJ5tssskmSUAnm2yyySZJQCebbLLJJklAJ5tssskmSUAnm2yyySZJQCebbLLJJklAJ5tssskmSUAnm2yyySZJQCebbLLJJklAJ5tssskmSUAnm2yyySZJQCebbLLJJklAJ5tssskmSUAnm2yyySZJQCebbLLJJklAJ5tssskmSUAnm2yyySZJQCebbLLJJklAJ5tssskmSUAnm2yyySZJQCebbLLJJklAJ5tssskmSUAnm2yyySZJQCebbLLJJklAJ5tssskmSUAnm2yyySZJQCebbLLJJklAJ5tssskmSUAnm2yyySZJQCebbLLJJklAJ5tssskmSUAnm2yyySZJQCebbLLJJklAJ5tssskmSUAnm2yyySZJQCebbLLJJklAJ5tssskmSUAnm2yyySZJQCebbLLJJklAJ5tssskmSUAnm2yyySZJQCebbLLJJklAJ5tssskmSUAnm2yyySZJQCebbLLJJklAJ5tssskmSUAnm2yyySZJQCebbLLJJklAJ5tssskmSUAnm2yyySZJQCebbLLJJklAJ5tssskmSUAnm2yyySZJQCebbLLJJklAJ5tssskmSUAnm2yyySZJQCebbLLJJklAJ5tssskmSUAnm2yyySZJQCebbLLJJklAJ5tssskmSUAnm2yyySZJQCebbLLJJklAJ5tssskmSUAnm2yyySZJQCebbLLJJklAJ5tssskmSUAnm2yyySZJQCebbLLJJklAJ5tssskmSUAnm2yyySZJQCebbLLJJklAJ5tssskmSUAnm2yyySZJQCebbLLJJklAJ5tssskmSUAnm2yyySZJQCebbLLJJklAJ5tssskmSUAnm2yyySZJQCebbLLJJklAJ5tssskmSUAnm2yyySZJQCebbLLJJklAJ5tssskmSUAnm2yyySZJQCebbLLJJklAJ5tssskmSUAnm2yyySZJQCebbLLJJklAddFFF110SUB10UUXXXRJQHXRRRdddElAddFFF110SUB10UUXXXRJQHXRRRdddElAddFFF110SUB10UUXXXRJQHXRRRdddElAddFFF110SUB10UUXXXRJQHXRRRdddElAddFFF110SUB10UUXXXRJQHXRRRdddElAddFFF110SUB10UUXXXRJQHXRRRdddElAddFFF110SUB10UUXXXRJQHXRRRdddElAddFFF110SUB10UUXXXRJQHXRRRdddElAddFFF110SUB10UUXXXRJQHXRRRdddElAddFFF110SUB10UUXXXRJQHXRRRdddElAddFFF110SUB10UUXXXRJQHXRRRdddElAddFFF110SUB10UUXXXRJQHXRRRdddElAddFFF110SUB10UUXXXRJQHXRRRdddElAddFFF110SUB10UUXXXRJQHXRRRdddElAddFFF110SUB10UUXXXRJQHXRRRdddElAddFFF110SUB10UUXXXRJQHXRRRdddElAddFFF110SUB10UUXXXRJQHXRRRdddElAddFFF110SUB10UUXXXRJQHXRRRdddElAddFFF110SUB10UUXXXRJQHXRRRdddElAddFFF110SUB10UUXXXRJQHXRRRdddElAddFFF110SUB10UUXXXRJQHXRRRdddElAddFFF110SUB10UUXXXRJQHXRRRdddElAddFFF110SUB10UUXXXRJQHXRRRdddElAddFFF110SUB10UUXXXRJQHXRRRdddElAddFFF110SUB10UUXXXRJQHXRRRdddElAddFFF110SUB10UUXXXRJQHXRRRdddElAddFFF110SUB10UUXXXRJQHXRRRdddElAddFFF110SUB10UUXXXRJQHXRRRdddElAddFFF110SUB10UUXXXRJQHXRRRdddElAddFFF110SUB10UUXXXRJQHXRRRdddElAddFFF110SUB10UUXXXRJQHXRRRdddElAddFFF110SUB10UUXXXRJQHXRRRdddElAddFFF110SUB10UUXXXRJQHXRRRdddElAddFFF110SUDCBx988MFJQMIHH3zwwUlAwgcffPDBSUDCBx988MFJQMIHH3zwwUlAwgcffPDBSUDCBx988MFJQMIHH3zwwUlAwgcffPDBSUDCBx988MFJQMIHH3zwwUlAwgcffPDBSUDCBx988MFJQMIHH3zwwUlAwgcffPDBSUDCBx988MFJQMIHH3zwwUlAwgcffPDBSUDCBx988MFJQMIHH3zwwUlAwgcffPDBSUDCBx988MFJQMIHH3zwwUlAwgcffPDBSUDCBx988MFJQMIHH3zwwUlAwgcffPDBSUDCBx988MFJQMIHH3zwwUlAwgcffPDBSUDCBx988MFJQMIHH3zwwUlAwgcffPDBSUDCBx988MFJQMIHH3zwwUlAwgcffPDBSUDCBx988MFJQMIHH3zwwUlAwgcffPDBSUDCBx988MFJQMIHH3zwwUlAwgcffPDBSUDCBx988MFJQMIHH3zwwUlAwgcffPDBSUDCBx988MFJQMIHH3zwwUlAwgcffPDBSUDCBx988MFJQMIHH3zwwUlAwgcffPDBSUDCBx988MFJQMIHH3zwwUlAwgcffPDBSUDCBx988MFJQMIHH3zwwUlAwgcffPDBSUDCBx988MFJQMIHH3zwwUlAwgcffPDBSUDCBx988MFJQMIHH3zwwUlAwgcffPDBSUDCBx988MFJQMIHH3zwwUlAwgcffPDBSUDCBx988MFJQMIHH3zwwUlAwgcffPDBSUDCBx988MFJQMIHH3zwwUlAwgcffPDBSUDCBx988MFJQMIHH3zwwUlAwgcffPDBSUDCBx988MFJQMIHH3zwwUlAwgcffPDBSUDCBx988MFJQMIHH3zwwUlAwgcffPDBSUDCBx988MFJQMIHH3zwwUlAwgcffPDBSUDCBx988MFJQMIHH3zwwUlAwgcffPDBSUDCBx988MFJQMIHH3zwwUlAwgcffPDBSUDCBx988MFJQMIHH3zwwUlAwgcffPDBSUDCBx988MFJQMIHH3zwwUlAwgcffPDBSUDCBx988MFJQMIHH3zwwUlAwgcffPDBSUDCBx988MFJQBA++OCDD0pAED744IMPSkAQPvjggw9KQBA++OCDD0pAED744IMPSkAQPvjggw9KQBA++OCDD0pAED744IMPSkAQPvjggw9KQBA++OCDD0pAED744IMPSkAQPvjggw9KQBA++OCDD0pAED744IMPSkAQPvjggw9KQBA++OCDD0pAED744IMPSkAQPvjggw9KQBA++OCDD0pAED744IMPSkAQPvjggw9KQBA++OCDD0pAED744IMPSkAQPvjggw9KQBA++OCDD0pAED744IMPSkAQPvjggw9KQBA++OCDD0pAED744IMPSkAQPvjggw9KQBA++OCDD0pAED744IMPSkAQPvjggw9KQBA++OCDD0pAED744IMPSkAQPvjggw9KQBA++OCDD0pAED744IMPSkAQPvjggw9KQBA++OCDD0pAED744IMPSkAQPvjggw9KQBA++OCDD0pAED744IMPSkAQPvjggw9KQBA++OCDD0pAED744IMPSkAQPvjggw9KQBA++OCDD0pAED744IMPSkAQPvjggw9KQBA++OCDD0pAED744IMPSkAQPvjggw9KQBA++OCDD0pAED744IMPSkAQPvjggw9KQBA++OCDD0pAED744IMPSkAQPvjggw9KQBA++OCDD0pAED744IMPSkAQPvjggw9KQBA++OCDD0pAED744IMPSkAQPvjggw9KQBA++OCDD0pAED744IMPSkAQPvjggw9KQBA++OCDD0pAED744IMPSkAQPvjggw9KQBA++OCDD0pAED744IMPSkAQPvjggw9KQBA++OCDD0pAED744IMPSkAQPvjggw9KQBA++OCDD0pAED744IMPSkAQPvjggw9KQBA++OCDD0pAED744IMPSkAQPvjggw9KQBA++OCDD0pAED744IMPSkAQPvjggw9KQBA++OCDD0pAED744IMPSkAQPvjggw9KQBA++OCDD0pAED744IMPSkAQPvjggw9KQBA++OCDD0pAED744IMPSkAQPvjggw9KQBA++OCDD0pAED744IMPSkAQPvjggw9KQBA++OCDD0pAXXTRRRddSkBddNFFF11KQF100UUXXUpAXXTRRRddSkBddNFFF11KQF100UUXXUpAXXTRRRddSkBddNFFF11KQF100UUXXUpAXXTRRRddSkBddNFFF11KQF100UUXXUpAXXTRRRddSkBddNFFF11KQF100UUXXUpAXXTRRRddSkBddNFFF11KQF100UUXXUpAXXTRRRddSkBddNFFF11KQF100UUXXUpAXXTRRRddSkBddNFFF11KQF100UUXXUpAXXTRRRddSkBddNFFF11KQF100UUXXUpAXXTRRRddSkBddNFFF11KQF100UUXXUpAXXTRRRddSkBddNFFF11KQF100UUXXUpAXXTRRRddSkBddNFFF11KQF100UUXXUpAXXTRRRddSkBddNFFF11KQF100UUXXUpAXXTRRRddSkBddNFFF11KQF100UUXXUpAXXTRRRddSkBddNFFF11KQF100UUXXUpAXXTRRRddSkBddNFFF11KQF100UUXXUpAXXTRRRddSkBddNFFF11KQF100UUXXUpAXXTRRRddSkBddNFFF11KQF100UUXXUpAXXTRRRddSkBddNFFF11KQF100UUXXUpAXXTRRRddSkBddNFFF11KQF100UUXXUpAXXTRRRddSkBddNFFF11KQF100UUXXUpAXXTRRRddSkBddNFFF11KQF100UUXXUpAXXTRRRddSkBddNFFF11KQF100UUXXUpAXXTRRRddSkBddNFFF11KQF100UUXXUpAXXTRRRddSkBddNFFF11KQF100UUXXUpAXXTRRRddSkBddNFFF11KQF100UUXXUpAXXTRRRddSkBddNFFF11KQF100UUXXUpAXXTRRRddSkBddNFFF11KQF100UUXXUpAXXTRRRddSkBddNFFF11KQF100UUXXUpAXXTRRRddSkBddNFFF11KQF100UUXXUpAXXTRRRddSkBddNFFF11KQF100UUXXUpAXXTRRRddSkBddNFFF11KQF100UUXXUpAXXTRRRddSkBddNFFF11KQF100UUXXUpAXXTRRRddSkCrqqqqqqpKQKuqqqqqqkpAq6qqqqqqSkCrqqqqqqpKQKuqqqqqqkpAq6qqqqqqSkCrqqqqqqpKQKuqqqqqqkpAq6qqqqqqSkCrqqqqqqpKQKuqqqqqqkpAq6qqqqqqSkCrqqqqqqpKQKuqqqqqqkpAq6qqqqqqSkCrqqqqqqpKQKuqqqqqqkpAq6qqqqqqSkCrqqqqqqpKQKuqqqqqqkpAq6qqqqqqSkCrqqqqqqpKQKuqqqqqqkpAq6qqqqqqSkCrqqqqqqpKQKuqqqqqqkpAq6qqqqqqSkCrqqqqqqpKQKuqqqqqqkpAq6qqqqqqSkCrqqqqqqpKQKuqqqqqqkpAq6qqqqqqSkCrqqqqqqpKQKuqqqqqqkpAq6qqqqqqSkCrqqqqqqpKQKuqqqqqqkpAq6qqqqqqSkCrqqqqqqpKQKuqqqqqqkpAq6qqqqqqSkCrqqqqqqpKQKuqqqqqqkpAq6qqqqqqSkCrqqqqqqpKQKuqqqqqqkpAq6qqqqqqSkCrqqqqqqpKQKuqqqqqqkpAq6qqqqqqSkCrqqqqqqpKQKuqqqqqqkpAq6qqqqqqSkCrqqqqqqpKQKuqqqqqqkpAq6qqqqqqSkCrqqqqqqpKQKuqqqqqqkpAq6qqqqqqSkCrqqqqqqpKQKuqqqqqqkpAq6qqqqqqSkCrqqqqqqpKQKuqqqqqqkpAq6qqqqqqSkCrqqqqqqpKQKuqqqqqqkpAq6qqqqqqSkCrqqqqqqpKQKuqqqqqqkpAq6qqqqqqSkCrqqqqqqpKQKuqqqqqqkpAq6qqqqqqSkCrqqqqqqpKQKuqqqqqqkpAq6qqqqqqSkCrqqqqqqpKQKuqqqqqqkpAq6qqqqqqSkCrqqqqqqpKQKuqqqqqqkpAq6qqqqqqSkCrqqqqqqpKQKuqqqqqqkpAq6qqqqqqSkCrqqqqqqpKQKuqqqqqqkpAq6qqqqqqSkCrqqqqqqpKQKuqqqqqqkpAq6qqqqqqSkCrqqqqqqpKQKuqqqqqqkpAq6qqqqqqSkCrqqqqqqpKQKuqqqqqqkpAq6qqqqqqSkCrqqqqqqpKQPjggw8++EpA+OCDDz74SkD44IMPPvhKQPjggw8++EpA+OCDDz74SkD44IMPPvhKQPjggw8++EpA+OCDDz74SkD44IMPPvhKQPjggw8++EpA+OCDDz74SkD44IMPPvhKQPjggw8++EpA+OCDDz74SkD44IMPPvhKQPjggw8++EpA+OCDDz74SkD44IMPPvhKQPjggw8++EpA+OCDDz74SkD44IMPPvhKQPjggw8++EpA+OCDDz74SkD44IMPPvhKQPjggw8++EpA+OCDDz74SkD44IMPPvhKQPjggw8++EpA+OCDDz74SkD44IMPPvhKQPjggw8++EpA+OCDDz74SkD44IMPPvhKQPjggw8++EpA+OCDDz74SkD44IMPPvhKQPjggw8++EpA+OCDDz74SkD44IMPPvhKQPjggw8++EpA+OCDDz74SkD44IMPPvhKQPjggw8++EpA+OCDDz74SkD44IMPPvhKQPjggw8++EpA+OCDDz74SkD44IMPPvhKQPjggw8++EpA+OCDDz74SkD44IMPPvhKQPjggw8++EpA+OCDDz74SkD44IMPPvhKQPjggw8++EpA+OCDDz74SkD44IMPPvhKQPjggw8++EpA+OCDDz74SkD44IMPPvhKQPjggw8++EpA+OCDDz74SkD44IMPPvhKQPjggw8++EpA+OCDDz74SkD44IMPPvhKQPjggw8++EpA+OCDDz74SkD44IMPPvhKQPjggw8++EpA+OCDDz74SkD44IMPPvhKQPjggw8++EpA+OCDDz74SkD44IMPPvhKQPjggw8++EpA+OCDDz74SkD44IMPPvhKQPjggw8++EpA+OCDDz74SkD44IMPPvhKQPjggw8++EpA+OCDDz74SkD44IMPPvhKQPjggw8++EpA+OCDDz74SkD44IMPPvhKQPjggw8++EpA+OCDDz74SkD44IMPPvhKQPjggw8++EpA+OCDDz74SkD44IMPPvhKQPjggw8++EpA+OCDDz74SkD44IMPPvhKQPjggw8++EpA+OCDDz74SkD44IMPPvhKQPjggw8++EpARhdddNFFS0BGF1100UVLQEYXXXTRRUtARhdddNFFS0BGF1100UVLQEYXXXTRRUtARhdddNFFS0BGF1100UVLQEYXXXTRRUtARhdddNFFS0BGF1100UVLQEYXXXTRRUtARhdddNFFS0BGF1100UVLQEYXXXTRRUtARhdddNFFS0BGF1100UVLQEYXXXTRRUtARhdddNFFS0BGF1100UVLQEYXXXTRRUtARhdddNFFS0BGF1100UVLQEYXXXTRRUtARhdddNFFS0BGF1100UVLQEYXXXTRRUtARhdddNFFS0BGF1100UVLQEYXXXTRRUtARhdddNFFS0BGF1100UVLQEYXXXTRRUtARhdddNFFS0BGF1100UVLQEYXXXTRRUtARhdddNFFS0BGF1100UVLQEYXXXTRRUtARhdddNFFS0BGF1100UVLQEYXXXTRRUtARhdddNFFS0BGF1100UVLQEYXXXTRRUtARhdddNFFS0BGF1100UVLQEYXXXTRRUtARhdddNFFS0BGF1100UVLQEYXXXTRRUtARhdddNFFS0BGF1100UVLQEYXXXTRRUtARhdddNFFS0BGF1100UVLQEYXXXTRRUtARhdddNFFS0BGF1100UVLQEYXXXTRRUtARhdddNFFS0BGF1100UVLQEYXXXTRRUtARhdddNFFS0BGF1100UVLQEYXXXTRRUtARhdddNFFS0BGF1100UVLQEYXXXTRRUtARhdddNFFS0BGF1100UVLQEYXXXTRRUtARhdddNFFS0BGF1100UVLQEYXXXTRRUtARhdddNFFS0BGF1100UVLQEYXXXTRRUtARhdddNFFS0BGF1100UVLQEYXXXTRRUtARhdddNFFS0BGF1100UVLQEYXXXTRRUtARhdddNFFS0BGF1100UVLQEYXXXTRRUtARhdddNFFS0BGF1100UVLQEYXXXTRRUtARhdddNFFS0BGF1100UVLQEYXXXTRRUtARhdddNFFS0BGF1100UVLQEYXXXTRRUtARhdddNFFS0BGF1100UVLQEYXXXTRRUtARhdddNFFS0CUTTbZZJNLQJRNNtlkk0tAlE022WSTS0CUTTbZZJNLQJRNNtlkk0tAlE022WSTS0CUTTbZZJNLQJRNNtlkk0tAlE022WSTS0CUTTbZZJNLQJRNNtlkk0tAlE022WSTS0CUTTbZZJNLQJRNNtlkk0tAlE022WSTS0CUTTbZZJNLQJRNNtlkk0tAlE022WSTS0CUTTbZZJNLQJRNNtlkk0tAlE022WSTS0CUTTbZZJNLQJRNNtlkk0tAlE022WSTS0CUTTbZZJNLQJRNNtlkk0tAlE022WSTS0CUTTbZZJNLQJRNNtlkk0tAlE022WSTS0CUTTbZZJNLQJRNNtlkk0tAlE022WSTS0CUTTbZZJNLQJRNNtlkk0tAlE022WSTS0CUTTbZZJNLQJRNNtlkk0tAlE022WSTS0CUTTbZZJNLQJRNNtlkk0tAlE022WSTS0CUTTbZZJNLQJRNNtlkk0tAlE022WSTS0CUTTbZZJNLQJRNNtlkk0tAlE022WSTS0CUTTbZZJNLQJRNNtlkk0tAlE022WSTS0CUTTbZZJNLQJRNNtlkk0tAlE022WSTS0CUTTbZZJNLQJRNNtlkk0tAlE022WSTS0CUTTbZZJNLQJRNNtlkk0tAlE022WSTS0CUTTbZZJNLQJRNNtlkk0tAlE022WSTS0CUTTbZZJNLQJRNNtlkk0tAlE022WSTS0CUTTbZZJNLQJRNNtlkk0tAlE022WSTS0CUTTbZZJNLQJRNNtlkk0tAlE022WSTS0CUTTbZZJNLQJRNNtlkk0tAlE022WSTS0CUTTbZZJNLQJRNNtlkk0tAlE022WSTS0CUTTbZZJNLQJRNNtlkk0tAlE022WSTS0CUTTbZZJNLQJRNNtlkk0tAlE022WSTS0CUTTbZZJNLQJRNNtlkk0tAlE022WSTS0CUTTbZZJNLQJRNNtlkk0tAlE022WSTS0CUTTbZZJNLQJRNNtlkk0tAlE022WSTS0CUTTbZZJNLQJRNNtlkk0tAlE022WSTS0CUTTbZZJNLQJRNNtlkk0tAlE022WSTS0CUTTbZZJNLQOGDDz744EtA4YMPPvjgS0Dhgw8++OBLQOGDDz744EtA4YMPPvjgS0Dhgw8++OBLQOGDDz744EtA4YMPPvjgS0Dhgw8++OBLQOGDDz744EtA4YMPPvjgS0Dhgw8++OBLQOGDDz744EtA4YMPPvjgS0Dhgw8++OBLQOGDDz744EtA4YMPPvjgS0Dhgw8++OBLQOGDDz744EtA4YMPPvjgS0Dhgw8++OBLQOGDDz744EtA4YMPPvjgS0Dhgw8++OBLQOGDDz744EtA4YMPPvjgS0Dhgw8++OBLQOGDDz744EtA4YMPPvjgS0Dhgw8++OBLQOGDDz744EtA4YMPPvjgS0Dhgw8++OBLQOGDDz744EtA4YMPPvjgS0Dhgw8++OBLQOGDDz744EtA4YMPPvjgS0Dhgw8++OBLQOGDDz744EtA4YMPPvjgS0Dhgw8++OBLQOGDDz744EtA4YMPPvjgS0Dhgw8++OBLQOGDDz744EtA4YMPPvjgS0Dhgw8++OBLQOGDDz744EtA4YMPPvjgS0Dhgw8++OBLQOGDDz744EtA4YMPPvjgS0Dhgw8++OBLQOGDDz744EtA4YMPPvjgS0Dhgw8++OBLQOGDDz744EtA4YMPPvjgS0Dhgw8++OBLQOGDDz744EtA4YMPPvjgS0Dhgw8++OBLQOGDDz744EtA4YMPPvjgS0Dhgw8++OBLQOGDDz744EtA4YMPPvjgS0Dhgw8++OBLQOGDDz744EtA4YMPPvjgS0Dhgw8++OBLQOGDDz744EtA4YMPPvjgS0Dhgw8++OBLQOGDDz744EtA4YMPPvjgS0Dhgw8++OBLQOGDDz744EtA4YMPPvjgS0Dhgw8++OBLQOGDDz744EtA4YMPPvjgS0Dhgw8++OBLQOGDDz744EtA4YMPPvjgS0Dhgw8++OBLQOGDDz744EtA4YMPPvjgS0Dhgw8++OBLQOGDDz744EtA4YMPPvjgS0Dhgw8++OBLQOGDDz744EtA4YMPPvjgS0Dhgw8++OBLQOGDDz744EtA4YMPPvjgS0Dhgw8++OBLQOGDDz744EtAL7rooosuTEAvuuiiiy5MQC+66KKLLkxAL7rooosuTEAvuuiiiy5MQC+66KKLLkxAL7rooosuTEAvuuiiiy5MQC+66KKLLkxAL7rooosuTEAvuuiiiy5MQC+66KKLLkxAL7rooosuTEAvuuiiiy5MQC+66KKLLkxAL7rooosuTEAvuuiiiy5MQC+66KKLLkxAL7rooosuTEAvuuiiiy5MQC+66KKLLkxAL7rooosuTEAvuuiiiy5MQC+66KKLLkxAL7rooosuTEAvuuiiiy5MQC+66KKLLkxAL7rooosuTEAvuuiiiy5MQC+66KKLLkxAL7rooosuTEAvuuiiiy5MQC+66KKLLkxAL7rooosuTEAvuuiiiy5MQC+66KKLLkxAL7rooosuTEAvuuiiiy5MQC+66KKLLkxAL7rooosuTEAvuuiiiy5MQC+66KKLLkxAL7rooosuTEAvuuiiiy5MQC+66KKLLkxAL7rooosuTEAvuuiiiy5MQC+66KKLLkxAL7rooosuTEAvuuiiiy5MQC+66KKLLkxAL7rooosuTEAvuuiiiy5MQC+66KKLLkxAL7rooosuTEAvuuiiiy5MQC+66KKLLkxAL7rooosuTEAvuuiiiy5MQC+66KKLLkxAL7rooosuTEAvuuiiiy5MQC+66KKLLkxAL7rooosuTEAvuuiiiy5MQC+66KKLLkxAL7rooosuTEAvuuiiiy5MQC+66KKLLkxAL7rooosuTEAvuuiiiy5MQC+66KKLLkxAL7rooosuTEAvuuiiiy5MQC+66KKLLkxAL7rooosuTEAvuuiiiy5MQC+66KKLLkxAL7rooosuTEAvuuiiiy5MQC+66KKLLkxAL7rooosuTEAvuuiiiy5MQC+66KKLLkxAL7rooosuTEAvuuiiiy5MQC+66KKLLkxAL7rooosuTEAvuuiiiy5MQC+66KKLLkxAL7rooosuTEAvuuiiiy5MQC+66KKLLkxAL7rooosuTEAvuuiiiy5MQC+66KKLLkxAL7rooosuTEAvuuiiiy5MQC+66KKLLkxAL7rooosuTEB88MEHH3xMQHzwwQcffExAfPDBBx98TEB88MEHH3xMQHzwwQcffExAfPDBBx98TEB88MEHH3xMQHzwwQcffExAfPDBBx98TEB88MEHH3xMQHzwwQcffExAfPDBBx98TEB88MEHH3xMQHzwwQcffExAfPDBBx98TEB88MEHH3xMQHzwwQcffExAfPDBBx98TEB88MEHH3xMQHzwwQcffExAfPDBBx98TEB88MEHH3xMQHzwwQcffExAfPDBBx98TEB88MEHH3xMQHzwwQcffExAfPDBBx98TEB88MEHH3xMQHzwwQcffExAfPDBBx98TEB88MEHH3xMQHzwwQcffExAfPDBBx98TEB88MEHH3xMQHzwwQcffExAfPDBBx98TEB88MEHH3xMQHzwwQcffExAfPDBBx98TEB88MEHH3xMQHzwwQcffExAfPDBBx98TEB88MEHH3xMQHzwwQcffExAfPDBBx98TEB88MEHH3xMQHzwwQcffExAfPDBBx98TEB88MEHH3xMQHzwwQcffExAfPDBBx98TEB88MEHH3xMQHzwwQcffExAfPDBBx98TEB88MEHH3xMQHzwwQcffExAfPDBBx98TEB88MEHH3xMQHzwwQcffExAfPDBBx98TEB88MEHH3xMQHzwwQcffExAfPDBBx98TEB88MEHH3xMQHzwwQcffExAfPDBBx98TEB88MEHH3xMQHzwwQcffExAfPDBBx98TEB88MEHH3xMQHzwwQcffExAfPDBBx98TEB88MEHH3xMQHzwwQcffExAfPDBBx98TEB88MEHH3xMQHzwwQcffExAfPDBBx98TEB88MEHH3xMQHzwwQcffExAfPDBBx98TEB88MEHH3xMQHzwwQcffExAfPDBBx98TEB88MEHH3xMQHzwwQcffExAfPDBBx98TEB88MEHH3xMQHzwwQcffExAfPDBBx98TEB88MEHH3xMQHzwwQcffExAfPDBBx98TEB88MEHH3xMQHzwwQcffExAfPDBBx98TEB88MEHH3xMQHzwwQcffExAfPDBBx98TEB88MEHH3xMQMomm2yyyUxAyiabbLLJTEDKJptssslMQMomm2yyyUxAyiabbLLJTEDKJptssslMQMomm2yyyUxAyiabbLLJTEDKJptssslMQMomm2yyyUxAyiabbLLJTEDKJptssslMQMomm2yyyUxAyiabbLLJTEDKJptssslMQMomm2yyyUxAyiabbLLJTEDKJptssslMQMomm2yyyUxAyiabbLLJTEDKJptssslMQMomm2yyyUxAyiabbLLJTEDKJptssslMQMomm2yyyUxAyiabbLLJTEDKJptssslMQMomm2yyyUxAyiabbLLJTEDKJptssslMQMomm2yyyUxAyiabbLLJTEDKJptssslMQMomm2yyyUxAyiabbLLJTEDKJptssslMQMomm2yyyUxAyiabbLLJTEDKJptssslMQMomm2yyyUxAyiabbLLJTEDKJptssslMQMomm2yyyUxAyiabbLLJTEDKJptssslMQMomm2yyyUxAyiabbLLJTEDKJptssslMQMomm2yyyUxAyiabbLLJTEDKJptssslMQMomm2yyyUxAyiabbLLJTEDKJptssslMQMomm2yyyUxAyiabbLLJTEDKJptssslMQMomm2yyyUxAyiabbLLJTEDKJptssslMQMomm2yyyUxAyiabbLLJTEDKJptssslMQMomm2yyyUxAyiabbLLJTEDKJptssslMQMomm2yyyUxAyiabbLLJTEDKJptssslMQMomm2yyyUxAyiabbLLJTEDKJptssslMQMomm2yyyUxAyiabbLLJTEDKJptssslMQMomm2yyyUxAyiabbLLJTEDKJptssslMQMomm2yyyUxAyiabbLLJTEDKJptssslMQMomm2yyyUxAyiabbLLJTEDKJptssslMQMomm2yyyUxAyiabbLLJTEDKJptssslMQMomm2yyyUxAyiabbLLJTEDKJptssslMQMomm2yyyUxAyiabbLLJTEDKJptssslMQMomm2yyyUxAyiabbLLJTEDKJptssslMQMomm2yyyUxAyiabbLLJTEDKJptssslMQMomm2yyyUxAGF100UUXTUAYXXTRRRdNQBhddNFFF01AGF100UUXTUAYXXTRRRdNQBhddNFFF01AGF100UUXTUAYXXTRRRdNQBhddNFFF01AGF100UUXTUAYXXTRRRdNQBhddNFFF01AGF100UUXTUAYXXTRRRdNQBhddNFFF01AGF100UUXTUAYXXTRRRdNQBhddNFFF01AGF100UUXTUAYXXTRRRdNQBhddNFFF01AGF100UUXTUAYXXTRRRdNQBhddNFFF01AGF100UUXTUAYXXTRRRdNQBhddNFFF01AGF100UUXTUAYXXTRRRdNQBhddNFFF01AGF100UUXTUAYXXTRRRdNQBhddNFFF01AGF100UUXTUAYXXTRRRdNQBhddNFFF01AGF100UUXTUAYXXTRRRdNQBhddNFFF01AGF100UUXTUAYXXTRRRdNQBhddNFFF01AGF100UUXTUAYXXTRRRdNQBhddNFFF01AGF100UUXTUAYXXTRRRdNQBhddNFFF01AGF100UUXTUAYXXTRRRdNQBhddNFFF01AGF100UUXTUAYXXTRRRdNQBhddNFFF01AGF100UUXTUAYXXTRRRdNQBhddNFFF01AGF100UUXTUAYXXTRRRdNQBhddNFFF01AGF100UUXTUAYXXTRRRdNQBhddNFFF01AGF100UUXTUAYXXTRRRdNQBhddNFFF01AGF100UUXTUAYXXTRRRdNQBhddNFFF01AGF100UUXTUAYXXTRRRdNQBhddNFFF01AGF100UUXTUAYXXTRRRdNQBhddNFFF01AGF100UUXTUAYXXTRRRdNQBhddNFFF01AGF100UUXTUAYXXTRRRdNQBhddNFFF01AGF100UUXTUAYXXTRRRdNQBhddNFFF01AGF100UUXTUAYXXTRRRdNQBhddNFFF01AGF100UUXTUAYXXTRRRdNQBhddNFFF01AGF100UUXTUAYXXTRRRdNQBhddNFFF01AGF100UUXTUAYXXTRRRdNQBhddNFFF01AGF100UUXTUAYXXTRRRdNQBhddNFFF01AGF100UUXTUBlk0022WRNQGWTTTbZZE1AZZNNNtlkTUBlk0022WRNQGWTTTbZZE1AZZNNNtlkTUBlk0022WRNQGWTTTbZZE1AZZNNNtlkTUBlk0022WRNQGWTTTbZZE1AZZNNNtlkTUBlk0022WRNQGWTTTbZZE1AZZNNNtlkTUBlk0022WRNQGWTTTbZZE1AZZNNNtlkTUBlk0022WRNQGWTTTbZZE1AZZNNNtlkTUBlk0022WRNQGWTTTbZZE1AZZNNNtlkTUBlk0022WRNQGWTTTbZZE1AZZNNNtlkTUBlk0022WRNQGWTTTbZZE1AZZNNNtlkTUBlk0022WRNQGWTTTbZZE1AZZNNNtlkTUBlk0022WRNQGWTTTbZZE1AZZNNNtlkTUBlk0022WRNQGWTTTbZZE1AZZNNNtlkTUBlk0022WRNQGWTTTbZZE1AZZNNNtlkTUBlk0022WRNQGWTTTbZZE1AZZNNNtlkTUBlk0022WRNQGWTTTbZZE1AZZNNNtlkTUBlk0022WRNQGWTTTbZZE1AZZNNNtlkTUBlk0022WRNQGWTTTbZZE1AZZNNNtlkTUBlk0022WRNQGWTTTbZZE1AZZNNNtlkTUBlk0022WRNQGWTTTbZZE1AZZNNNtlkTUBlk0022WRNQGWTTTbZZE1AZZNNNtlkTUBlk0022WRNQGWTTTbZZE1AZZNNNtlkTUBlk0022WRNQGWTTTbZZE1AZZNNNtlkTUBlk0022WRNQGWTTTbZZE1AZZNNNtlkTUBlk0022WRNQGWTTTbZZE1AZZNNNtlkTUBlk0022WRNQGWTTTbZZE1AZZNNNtlkTUBlk0022WRNQGWTTTbZZE1AZZNNNtlkTUBlk0022WRNQGWTTTbZZE1AZZNNNtlkTUBlk0022WRNQGWTTTbZZE1AZZNNNtlkTUBlk0022WRNQGWTTTbZZE1AZZNNNtlkTUBlk0022WRNQGWTTTbZZE1AZZNNNtlkTUBlk0022WRNQGWTTTbZZE1AZZNNNtlkTUBlk0022WRNQGWTTTbZZE1AZZNNNtlkTUBlk0022WRNQLPJJptssk1As8kmm2yyTUCzySabbLJNQLPJJptssk1As8kmm2yyTUCzySabbLJNQLPJJptssk1As8kmm2yyTUCzySabbLJNQLPJJptssk1As8kmm2yyTUCzySabbLJNQLPJJptssk1As8kmm2yyTUCzySabbLJNQLPJJptssk1As8kmm2yyTUCzySabbLJNQLPJJptssk1As8kmm2yyTUCzySabbLJNQLPJJptssk1As8kmm2yyTUCzySabbLJNQLPJJptssk1As8kmm2yyTUCzySabbLJNQLPJJptssk1As8kmm2yyTUCzySabbLJNQLPJJptssk1As8kmm2yyTUCzySabbLJNQLPJJptssk1As8kmm2yyTUCzySabbLJNQLPJJptssk1As8kmm2yyTUCzySabbLJNQLPJJptssk1As8kmm2yyTUCzySabbLJNQLPJJptssk1As8kmm2yyTUCzySabbLJNQLPJJptssk1As8kmm2yyTUCzySabbLJNQLPJJptssk1As8kmm2yyTUCzySabbLJNQLPJJptssk1As8kmm2yyTUCzySabbLJNQLPJJptssk1As8kmm2yyTUCzySabbLJNQLPJJptssk1As8kmm2yyTUCzySabbLJNQLPJJptssk1As8kmm2yyTUCzySabbLJNQLPJJptssk1As8kmm2yyTUCzySabbLJNQLPJJptssk1As8kmm2yyTUCzySabbLJNQLPJJptssk1As8kmm2yyTUCzySabbLJNQLPJJptssk1As8kmm2yyTUCzySabbLJNQLPJJptssk1As8kmm2yyTUCzySabbLJNQLPJJptssk1As8kmm2yyTUCzySabbLJNQLPJJptssk1As8kmm2yyTUCzySabbLJNQLPJJptssk1As8kmm2yyTUCzySabbLJNQLPJJptssk1As8kmm2yyTUCzySabbLJNQLPJJptssk1As8kmm2yyTUCzySabbLJNQLPJJptssk1As8kmm2yyTUCzySabbLJNQLPJJptssk1As8kmm2yyTUCzySabbLJNQLPJJptssk1AAAAAAAAATkAAAAAAAABOQAAAAAAAAE5AAAAAAAAATkAAAAAAAABOQAAAAAAAAE5AAAAAAAAATkAAAAAAAABOQAAAAAAAAE5AAAAAAAAATkAAAAAAAABOQAAAAAAAAE5AAAAAAAAATkAAAAAAAABOQAAAAAAAAE5AAAAAAAAATkAAAAAAAABOQAAAAAAAAE5AAAAAAAAATkAAAAAAAABOQAAAAAAAAE5AAAAAAAAATkAAAAAAAABOQAAAAAAAAE5AAAAAAAAATkAAAAAAAABOQAAAAAAAAE5AAAAAAAAATkAAAAAAAABOQAAAAAAAAE5AAAAAAAAATkAAAAAAAABOQAAAAAAAAE5AAAAAAAAATkAAAAAAAABOQAAAAAAAAE5AAAAAAAAATkAAAAAAAABOQAAAAAAAAE5AAAAAAAAATkAAAAAAAABOQAAAAAAAAE5AAAAAAAAATkAAAAAAAABOQAAAAAAAAE5AAAAAAAAATkAAAAAAAABOQAAAAAAAAE5AAAAAAAAATkAAAAAAAABOQAAAAAAAAE5AAAAAAAAATkAAAAAAAABOQAAAAAAAAE5AAAAAAAAATkAAAAAAAABOQAAAAAAAAE5AAAAAAAAATkAAAAAAAABOQAAAAAAAAE5AAAAAAAAATkAAAAAAAABOQAAAAAAAAE5AAAAAAAAATkAAAAAAAABOQAAAAAAAAE5AAAAAAAAATkAAAAAAAABOQAAAAAAAAE5AAAAAAAAATkAAAAAAAABOQAAAAAAAAE5AAAAAAAAATkAAAAAAAABOQAAAAAAAAE5AAAAAAAAATkAAAAAAAABOQAAAAAAAAE5AAAAAAAAATkAAAAAAAABOQAAAAAAAAE5AAAAAAAAATkAAAAAAAABOQAAAAAAAAE5AAAAAAAAATkAAAAAAAABOQAAAAAAAAE5AAAAAAAAATkAAAAAAAABOQAAAAAAAAE5AAAAAAAAATkAAAAAAAABOQAAAAAAAAE5AAAAAAAAATkAAAAAAAABOQAAAAAAAAE5AAAAAAAAATkAAAAAAAABOQAAAAAAAAE5AAAAAAAAATkA=",
          "dtype": "f8",
          "shape": "100, 100"
         },
         "z": {
          "bdata": "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",
          "dtype": "f4",
          "shape": "100, 100"
         }
        }
       ],
       "layout": {
        "autosize": true,
        "height": 600,
        "scene": {
         "camera": {
          "eye": {
           "x": -1.25,
           "y": -1.25,
           "z": 1.25
          }
         },
         "xaxis": {
          "title": {
           "text": "t"
          }
         },
         "yaxis": {
          "title": {
           "text": "s"
          }
         },
         "zaxis": {
          "title": {
           "text": "V"
          }
         }
        },
        "template": {
         "data": {
          "bar": [
           {
            "error_x": {
             "color": "#2a3f5f"
            },
            "error_y": {
             "color": "#2a3f5f"
            },
            "marker": {
             "line": {
              "color": "#E5ECF6",
              "width": 0.5
             },
             "pattern": {
              "fillmode": "overlay",
              "size": 10,
              "solidity": 0.2
             }
            },
            "type": "bar"
           }
          ],
          "barpolar": [
           {
            "marker": {
             "line": {
              "color": "#E5ECF6",
              "width": 0.5
             },
             "pattern": {
              "fillmode": "overlay",
              "size": 10,
              "solidity": 0.2
             }
            },
            "type": "barpolar"
           }
          ],
          "carpet": [
           {
            "aaxis": {
             "endlinecolor": "#2a3f5f",
             "gridcolor": "white",
             "linecolor": "white",
             "minorgridcolor": "white",
             "startlinecolor": "#2a3f5f"
            },
            "baxis": {
             "endlinecolor": "#2a3f5f",
             "gridcolor": "white",
             "linecolor": "white",
             "minorgridcolor": "white",
             "startlinecolor": "#2a3f5f"
            },
            "type": "carpet"
           }
          ],
          "choropleth": [
           {
            "colorbar": {
             "outlinewidth": 0,
             "ticks": ""
            },
            "type": "choropleth"
           }
          ],
          "contour": [
           {
            "colorbar": {
             "outlinewidth": 0,
             "ticks": ""
            },
            "colorscale": [
             [
              0,
              "#0d0887"
             ],
             [
              0.1111111111111111,
              "#46039f"
             ],
             [
              0.2222222222222222,
              "#7201a8"
             ],
             [
              0.3333333333333333,
              "#9c179e"
             ],
             [
              0.4444444444444444,
              "#bd3786"
             ],
             [
              0.5555555555555556,
              "#d8576b"
             ],
             [
              0.6666666666666666,
              "#ed7953"
             ],
             [
              0.7777777777777778,
              "#fb9f3a"
             ],
             [
              0.8888888888888888,
              "#fdca26"
             ],
             [
              1,
              "#f0f921"
             ]
            ],
            "type": "contour"
           }
          ],
          "contourcarpet": [
           {
            "colorbar": {
             "outlinewidth": 0,
             "ticks": ""
            },
            "type": "contourcarpet"
           }
          ],
          "heatmap": [
           {
            "colorbar": {
             "outlinewidth": 0,
             "ticks": ""
            },
            "colorscale": [
             [
              0,
              "#0d0887"
             ],
             [
              0.1111111111111111,
              "#46039f"
             ],
             [
              0.2222222222222222,
              "#7201a8"
             ],
             [
              0.3333333333333333,
              "#9c179e"
             ],
             [
              0.4444444444444444,
              "#bd3786"
             ],
             [
              0.5555555555555556,
              "#d8576b"
             ],
             [
              0.6666666666666666,
              "#ed7953"
             ],
             [
              0.7777777777777778,
              "#fb9f3a"
             ],
             [
              0.8888888888888888,
              "#fdca26"
             ],
             [
              1,
              "#f0f921"
             ]
            ],
            "type": "heatmap"
           }
          ],
          "histogram": [
           {
            "marker": {
             "pattern": {
              "fillmode": "overlay",
              "size": 10,
              "solidity": 0.2
             }
            },
            "type": "histogram"
           }
          ],
          "histogram2d": [
           {
            "colorbar": {
             "outlinewidth": 0,
             "ticks": ""
            },
            "colorscale": [
             [
              0,
              "#0d0887"
             ],
             [
              0.1111111111111111,
              "#46039f"
             ],
             [
              0.2222222222222222,
              "#7201a8"
             ],
             [
              0.3333333333333333,
              "#9c179e"
             ],
             [
              0.4444444444444444,
              "#bd3786"
             ],
             [
              0.5555555555555556,
              "#d8576b"
             ],
             [
              0.6666666666666666,
              "#ed7953"
             ],
             [
              0.7777777777777778,
              "#fb9f3a"
             ],
             [
              0.8888888888888888,
              "#fdca26"
             ],
             [
              1,
              "#f0f921"
             ]
            ],
            "type": "histogram2d"
           }
          ],
          "histogram2dcontour": [
           {
            "colorbar": {
             "outlinewidth": 0,
             "ticks": ""
            },
            "colorscale": [
             [
              0,
              "#0d0887"
             ],
             [
              0.1111111111111111,
              "#46039f"
             ],
             [
              0.2222222222222222,
              "#7201a8"
             ],
             [
              0.3333333333333333,
              "#9c179e"
             ],
             [
              0.4444444444444444,
              "#bd3786"
             ],
             [
              0.5555555555555556,
              "#d8576b"
             ],
             [
              0.6666666666666666,
              "#ed7953"
             ],
             [
              0.7777777777777778,
              "#fb9f3a"
             ],
             [
              0.8888888888888888,
              "#fdca26"
             ],
             [
              1,
              "#f0f921"
             ]
            ],
            "type": "histogram2dcontour"
           }
          ],
          "mesh3d": [
           {
            "colorbar": {
             "outlinewidth": 0,
             "ticks": ""
            },
            "type": "mesh3d"
           }
          ],
          "parcoords": [
           {
            "line": {
             "colorbar": {
              "outlinewidth": 0,
              "ticks": ""
             }
            },
            "type": "parcoords"
           }
          ],
          "pie": [
           {
            "automargin": true,
            "type": "pie"
           }
          ],
          "scatter": [
           {
            "fillpattern": {
             "fillmode": "overlay",
             "size": 10,
             "solidity": 0.2
            },
            "type": "scatter"
           }
          ],
          "scatter3d": [
           {
            "line": {
             "colorbar": {
              "outlinewidth": 0,
              "ticks": ""
             }
            },
            "marker": {
             "colorbar": {
              "outlinewidth": 0,
              "ticks": ""
             }
            },
            "type": "scatter3d"
           }
          ],
          "scattercarpet": [
           {
            "marker": {
             "colorbar": {
              "outlinewidth": 0,
              "ticks": ""
             }
            },
            "type": "scattercarpet"
           }
          ],
          "scattergeo": [
           {
            "marker": {
             "colorbar": {
              "outlinewidth": 0,
              "ticks": ""
             }
            },
            "type": "scattergeo"
           }
          ],
          "scattergl": [
           {
            "marker": {
             "colorbar": {
              "outlinewidth": 0,
              "ticks": ""
             }
            },
            "type": "scattergl"
           }
          ],
          "scattermap": [
           {
            "marker": {
             "colorbar": {
              "outlinewidth": 0,
              "ticks": ""
             }
            },
            "type": "scattermap"
           }
          ],
          "scattermapbox": [
           {
            "marker": {
             "colorbar": {
              "outlinewidth": 0,
              "ticks": ""
             }
            },
            "type": "scattermapbox"
           }
          ],
          "scatterpolar": [
           {
            "marker": {
             "colorbar": {
              "outlinewidth": 0,
              "ticks": ""
             }
            },
            "type": "scatterpolar"
           }
          ],
          "scatterpolargl": [
           {
            "marker": {
             "colorbar": {
              "outlinewidth": 0,
              "ticks": ""
             }
            },
            "type": "scatterpolargl"
           }
          ],
          "scatterternary": [
           {
            "marker": {
             "colorbar": {
              "outlinewidth": 0,
              "ticks": ""
             }
            },
            "type": "scatterternary"
           }
          ],
          "surface": [
           {
            "colorbar": {
             "outlinewidth": 0,
             "ticks": ""
            },
            "colorscale": [
             [
              0,
              "#0d0887"
             ],
             [
              0.1111111111111111,
              "#46039f"
             ],
             [
              0.2222222222222222,
              "#7201a8"
             ],
             [
              0.3333333333333333,
              "#9c179e"
             ],
             [
              0.4444444444444444,
              "#bd3786"
             ],
             [
              0.5555555555555556,
              "#d8576b"
             ],
             [
              0.6666666666666666,
              "#ed7953"
             ],
             [
              0.7777777777777778,
              "#fb9f3a"
             ],
             [
              0.8888888888888888,
              "#fdca26"
             ],
             [
              1,
              "#f0f921"
             ]
            ],
            "type": "surface"
           }
          ],
          "table": [
           {
            "cells": {
             "fill": {
              "color": "#EBF0F8"
             },
             "line": {
              "color": "white"
             }
            },
            "header": {
             "fill": {
              "color": "#C8D4E3"
             },
             "line": {
              "color": "white"
             }
            },
            "type": "table"
           }
          ]
         },
         "layout": {
          "annotationdefaults": {
           "arrowcolor": "#2a3f5f",
           "arrowhead": 0,
           "arrowwidth": 1
          },
          "autotypenumbers": "strict",
          "coloraxis": {
           "colorbar": {
            "outlinewidth": 0,
            "ticks": ""
           }
          },
          "colorscale": {
           "diverging": [
            [
             0,
             "#8e0152"
            ],
            [
             0.1,
             "#c51b7d"
            ],
            [
             0.2,
             "#de77ae"
            ],
            [
             0.3,
             "#f1b6da"
            ],
            [
             0.4,
             "#fde0ef"
            ],
            [
             0.5,
             "#f7f7f7"
            ],
            [
             0.6,
             "#e6f5d0"
            ],
            [
             0.7,
             "#b8e186"
            ],
            [
             0.8,
             "#7fbc41"
            ],
            [
             0.9,
             "#4d9221"
            ],
            [
             1,
             "#276419"
            ]
           ],
           "sequential": [
            [
             0,
             "#0d0887"
            ],
            [
             0.1111111111111111,
             "#46039f"
            ],
            [
             0.2222222222222222,
             "#7201a8"
            ],
            [
             0.3333333333333333,
             "#9c179e"
            ],
            [
             0.4444444444444444,
             "#bd3786"
            ],
            [
             0.5555555555555556,
             "#d8576b"
            ],
            [
             0.6666666666666666,
             "#ed7953"
            ],
            [
             0.7777777777777778,
             "#fb9f3a"
            ],
            [
             0.8888888888888888,
             "#fdca26"
            ],
            [
             1,
             "#f0f921"
            ]
           ],
           "sequentialminus": [
            [
             0,
             "#0d0887"
            ],
            [
             0.1111111111111111,
             "#46039f"
            ],
            [
             0.2222222222222222,
             "#7201a8"
            ],
            [
             0.3333333333333333,
             "#9c179e"
            ],
            [
             0.4444444444444444,
             "#bd3786"
            ],
            [
             0.5555555555555556,
             "#d8576b"
            ],
            [
             0.6666666666666666,
             "#ed7953"
            ],
            [
             0.7777777777777778,
             "#fb9f3a"
            ],
            [
             0.8888888888888888,
             "#fdca26"
            ],
            [
             1,
             "#f0f921"
            ]
           ]
          },
          "colorway": [
           "#636efa",
           "#EF553B",
           "#00cc96",
           "#ab63fa",
           "#FFA15A",
           "#19d3f3",
           "#FF6692",
           "#B6E880",
           "#FF97FF",
           "#FECB52"
          ],
          "font": {
           "color": "#2a3f5f"
          },
          "geo": {
           "bgcolor": "white",
           "lakecolor": "white",
           "landcolor": "#E5ECF6",
           "showlakes": true,
           "showland": true,
           "subunitcolor": "white"
          },
          "hoverlabel": {
           "align": "left"
          },
          "hovermode": "closest",
          "mapbox": {
           "style": "light"
          },
          "paper_bgcolor": "white",
          "plot_bgcolor": "#E5ECF6",
          "polar": {
           "angularaxis": {
            "gridcolor": "white",
            "linecolor": "white",
            "ticks": ""
           },
           "bgcolor": "#E5ECF6",
           "radialaxis": {
            "gridcolor": "white",
            "linecolor": "white",
            "ticks": ""
           }
          },
          "scene": {
           "xaxis": {
            "backgroundcolor": "#E5ECF6",
            "gridcolor": "white",
            "gridwidth": 2,
            "linecolor": "white",
            "showbackground": true,
            "ticks": "",
            "zerolinecolor": "white"
           },
           "yaxis": {
            "backgroundcolor": "#E5ECF6",
            "gridcolor": "white",
            "gridwidth": 2,
            "linecolor": "white",
            "showbackground": true,
            "ticks": "",
            "zerolinecolor": "white"
           },
           "zaxis": {
            "backgroundcolor": "#E5ECF6",
            "gridcolor": "white",
            "gridwidth": 2,
            "linecolor": "white",
            "showbackground": true,
            "ticks": "",
            "zerolinecolor": "white"
           }
          },
          "shapedefaults": {
           "line": {
            "color": "#2a3f5f"
           }
          },
          "ternary": {
           "aaxis": {
            "gridcolor": "white",
            "linecolor": "white",
            "ticks": ""
           },
           "baxis": {
            "gridcolor": "white",
            "linecolor": "white",
            "ticks": ""
           },
           "bgcolor": "#E5ECF6",
           "caxis": {
            "gridcolor": "white",
            "linecolor": "white",
            "ticks": ""
           }
          },
          "title": {
           "x": 0.05
          },
          "xaxis": {
           "automargin": true,
           "gridcolor": "white",
           "linecolor": "white",
           "ticks": "",
           "title": {
            "standoff": 15
           },
           "zerolinecolor": "white",
           "zerolinewidth": 2
          },
          "yaxis": {
           "automargin": true,
           "gridcolor": "white",
           "linecolor": "white",
           "ticks": "",
           "title": {
            "standoff": 15
           },
           "zerolinecolor": "white",
           "zerolinewidth": 2
          }
         }
        },
        "title": {
         "text": "Option Price"
        }
       }
      }
     },
     "metadata": {},
     "output_type": "display_data"
    }
   ],
   "source": [
    "t = np.linspace(0, config['maturity'], 100)\n",
    "s = np.linspace(0, 4 * config['strike'], 100)\n",
    "T, S = np.meshgrid(t, s)\n",
    "inputs = torch.tensor(\n",
    "    np.stack([T.flatten(), S.flatten()], axis=1), dtype=torch.float32)\n",
    "surface = model(inputs).detach().numpy().reshape(T.shape)\n",
    "mako_cmap = sns.color_palette(\"mako\", as_cmap=True)\n",
    "colorscale = [\n",
    "    [i / 99, f\"rgb({int(r * 255)},{int(g * 255)},{int(b * 255)})\"]\n",
    "    for i, (r, g, b, a) in enumerate(mako_cmap(np.linspace(0, 1, 100)))\n",
    "]\n",
    "\n",
    "# Create the surface with the custom mako colorscale\n",
    "fig = go.Figure(data=[go.Surface(z=surface, x=T, y=S, colorscale=colorscale)])\n",
    "fig.update_layout(\n",
    "    title='Option Price',\n",
    "    scene=dict(\n",
    "        xaxis_title='t',\n",
    "        yaxis_title='s',\n",
    "        zaxis_title='V',\n",
    "        camera=dict(eye=dict(x=-1.25, y=-1.25, z=1.25))\n",
    "    ),\n",
    "    autosize=True,\n",
    "    height=600,\n",
    ")\n",
    "fig.show()"
   ]
  },
  {
   "cell_type": "markdown",
   "metadata": {},
   "source": [
    "# Benchmark"
   ]
  },
  {
   "cell_type": "markdown",
   "metadata": {},
   "source": [
    "How does it compare with the analytical solution? Below, we present a comparison between the analytical solution and the solution obtained via the neural network. As we know, the analytical solution for a European call option is given by\n",
    "\n",
    "$$\n",
    "C(S, t) = S\\, \\Phi(d_1) - K e^{-r(T-t)}\\, \\Phi(d_2),\n",
    "$$\n",
    "\n",
    "where\n",
    "\n",
    "$$\n",
    "d_1 = \\frac{\\ln(S/K) + \\left(r + \\frac{\\sigma^2}{2}\\right)(T-t)}{\\sigma \\sqrt{T-t}},\n",
    "$$\n",
    "\n",
    "$$\n",
    "d_2 = d_1 - \\sigma \\sqrt{T-t},\n",
    "$$\n",
    "\n",
    "and $\\Phi$ denotes the cumulative distribution function (CDF) of the standard normal distribution. Below, we show the comparison between the analytical solution and the solution obtained with the neural network.\n",
    "\n",
    "\n",
    "\n",
    "\n",
    "\n"
   ]
  },
  {
   "cell_type": "code",
   "execution_count": null,
   "metadata": {
    "tags": [
     "hide-input"
    ]
   },
   "outputs": [
    {
     "name": "stderr",
     "output_type": "stream",
     "text": [
      "/var/folders/cp/l432p0ns1t38qmnyr_3l3r000000gn/T/ipykernel_16981/1113092756.py:2: RuntimeWarning:\n",
      "\n",
      "divide by zero encountered in log\n",
      "\n",
      "/var/folders/cp/l432p0ns1t38qmnyr_3l3r000000gn/T/ipykernel_16981/1113092756.py:2: RuntimeWarning:\n",
      "\n",
      "divide by zero encountered in divide\n",
      "\n"
     ]
    }
   ],
   "source": [
    "def bs_price(s, k, r, sigma, t):\n",
    "    d1 = (np.log(s / k) + (r + 0.5 * sigma ** 2) * t) / (sigma * np.sqrt(t))\n",
    "    d2 = d1 - sigma * np.sqrt(t)\n",
    "    return s * norm.cdf(d1) - k * np.exp(-r * t) * norm.cdf(d2)\n",
    "\n",
    "\n",
    "exact_surface = np.zeros_like(surface)\n",
    "for i in range(len(s)):\n",
    "    exact_surface[:, i] = bs_price(\n",
    "        s[i], config['strike'], config['r'], config['sigma'], t)\n",
    "\n",
    "exact_surface = np.flip(exact_surface.T, axis=1)"
   ]
  },
  {
   "cell_type": "code",
   "execution_count": 579,
   "metadata": {
    "tags": [
     "remove-cell"
    ]
   },
   "outputs": [
    {
     "data": {
      "application/vnd.plotly.v1+json": {
       "config": {
        "plotlyServerURL": "https://plot.ly"
       },
       "data": [
        {
         "line": {
          "color": "blue"
         },
         "mode": "lines",
         "name": "Predicted Price",
         "type": "scatter",
         "x": {
          "bdata": "AAAAAAAAAAA2lNdQXkMJQDaU11BeQxlAKK+hvIbyIkA2lNdQXkMpQER5DeU1lC9AKK+hvIbyMkCvobyG8ho2QDaU11BeQzlAvYbyGsprPEBEeQ3lNZQ/QOU1lNdQXkFAKK+hvIbyQkBsKK+hvIZEQK+hvIbyGkZA8xrKayivR0A2lNdQXkNJQHkN5TWU10pAvYbyGsprTEAAAAAAAABOQA==",
          "dtype": "f8"
         },
         "xaxis": "x",
         "y": {
          "bdata": "ABDJuwAIhrwAfI+8ADxnvQCIArzgvpk/SPd0QMQ030DuUyNBT7ZWQbbKhEFmFJ5Bf1O3QbaT0EHT0+lBRYcBQgghDkJpuRpCFFQnQjjyM0I=",
          "dtype": "f4"
         },
         "yaxis": "y"
        },
        {
         "line": {
          "color": "lightgreen",
          "dash": "dash"
         },
         "mode": "lines",
         "name": "Exact Price",
         "type": "scatter",
         "x": {
          "bdata": "AAAAAAAAAAA2lNdQXkMJQDaU11BeQxlAKK+hvIbyIkA2lNdQXkMpQER5DeU1lC9AKK+hvIbyMkCvobyG8ho2QDaU11BeQzlAvYbyGsprPEBEeQ3lNZQ/QOU1lNdQXkFAKK+hvIbyQkBsKK+hvIZEQK+hvIbyGkZA8xrKayivR0A2lNdQXkNJQHkN5TWU10pAvYbyGsprTEAAAAAAAABOQA==",
          "dtype": "f8"
         },
         "xaxis": "x",
         "y": {
          "bdata": "AAAAAAAAAAAAAAAAAAAAAAAAAADzGko/r6F8QFFe40DlNSRBorxWQa+hhEEN5Z1BbCi3Qcpr0EEor+lBQ3kBQvMaDkKivBpCUV4nQgAANEI=",
          "dtype": "f4"
         },
         "yaxis": "y"
        },
        {
         "line": {
          "color": "blue"
         },
         "mode": "lines",
         "name": "Predicted Price",
         "type": "scatter",
         "x": {
          "bdata": "AAAAAAAAAAA2lNdQXkMJQDaU11BeQxlAKK+hvIbyIkA2lNdQXkMpQER5DeU1lC9AKK+hvIbyMkCvobyG8ho2QDaU11BeQzlAvYbyGsprPEBEeQ3lNZQ/QOU1lNdQXkFAKK+hvIbyQkBsKK+hvIZEQK+hvIbyGkZA8xrKayivR0A2lNdQXkNJQHkN5TWU10pAvYbyGsprTEAAAAAAAABOQA==",
          "dtype": "f8"
         },
         "xaxis": "x2",
         "y": {
          "bdata": "AJCiuwAwfrwAoDm9AIIGvWA6Jj8QnRZAJISaQCT790CKvS1BtUJgQfxkiUHAoKJBnN+7Qccl1UHybu5Bq9oDQup7EEKsHR1CSMMpQqJsNkI=",
          "dtype": "f4"
         },
         "yaxis": "y2"
        },
        {
         "line": {
          "color": "lightgreen",
          "dash": "dash"
         },
         "mode": "lines",
         "name": "Exact Price",
         "type": "scatter",
         "x": {
          "bdata": "AAAAAAAAAAA2lNdQXkMJQDaU11BeQxlAKK+hvIbyIkA2lNdQXkMpQER5DeU1lC9AKK+hvIbyMkCvobyG8ho2QDaU11BeQzlAvYbyGsprPEBEeQ3lNZQ/QOU1lNdQXkFAKK+hvIbyQkBsKK+hvIZEQK+hvIbyGkZA8xrKayivR0A2lNdQXkNJQHkN5TWU10pAvYbyGsprTEAAAAAAAABOQA==",
          "dtype": "f8"
         },
         "xaxis": "x2",
         "y": {
          "bdata": "AAAAAJ2XNS9fEJ45LmhlPdzzIj8ahhJA5UKaQGK3+EBc8i1BazpgQcNYiUE4mqJBH927QWAg1UG3Y+5BitMDQjl1EELoFh1Cl7gpQkZaNkI=",
          "dtype": "f4"
         },
         "yaxis": "y2"
        }
       ],
       "layout": {
        "annotations": [
         {
          "font": {
           "size": 16
          },
          "showarrow": false,
          "text": "Option Price at t=T",
          "x": 0.225,
          "xanchor": "center",
          "xref": "paper",
          "y": 1,
          "yanchor": "bottom",
          "yref": "paper"
         },
         {
          "font": {
           "size": 16
          },
          "showarrow": false,
          "text": "Option Price at t=0",
          "x": 0.775,
          "xanchor": "center",
          "xref": "paper",
          "y": 1,
          "yanchor": "bottom",
          "yref": "paper"
         }
        ],
        "autosize": true,
        "template": {
         "data": {
          "bar": [
           {
            "error_x": {
             "color": "#2a3f5f"
            },
            "error_y": {
             "color": "#2a3f5f"
            },
            "marker": {
             "line": {
              "color": "#E5ECF6",
              "width": 0.5
             },
             "pattern": {
              "fillmode": "overlay",
              "size": 10,
              "solidity": 0.2
             }
            },
            "type": "bar"
           }
          ],
          "barpolar": [
           {
            "marker": {
             "line": {
              "color": "#E5ECF6",
              "width": 0.5
             },
             "pattern": {
              "fillmode": "overlay",
              "size": 10,
              "solidity": 0.2
             }
            },
            "type": "barpolar"
           }
          ],
          "carpet": [
           {
            "aaxis": {
             "endlinecolor": "#2a3f5f",
             "gridcolor": "white",
             "linecolor": "white",
             "minorgridcolor": "white",
             "startlinecolor": "#2a3f5f"
            },
            "baxis": {
             "endlinecolor": "#2a3f5f",
             "gridcolor": "white",
             "linecolor": "white",
             "minorgridcolor": "white",
             "startlinecolor": "#2a3f5f"
            },
            "type": "carpet"
           }
          ],
          "choropleth": [
           {
            "colorbar": {
             "outlinewidth": 0,
             "ticks": ""
            },
            "type": "choropleth"
           }
          ],
          "contour": [
           {
            "colorbar": {
             "outlinewidth": 0,
             "ticks": ""
            },
            "colorscale": [
             [
              0,
              "#0d0887"
             ],
             [
              0.1111111111111111,
              "#46039f"
             ],
             [
              0.2222222222222222,
              "#7201a8"
             ],
             [
              0.3333333333333333,
              "#9c179e"
             ],
             [
              0.4444444444444444,
              "#bd3786"
             ],
             [
              0.5555555555555556,
              "#d8576b"
             ],
             [
              0.6666666666666666,
              "#ed7953"
             ],
             [
              0.7777777777777778,
              "#fb9f3a"
             ],
             [
              0.8888888888888888,
              "#fdca26"
             ],
             [
              1,
              "#f0f921"
             ]
            ],
            "type": "contour"
           }
          ],
          "contourcarpet": [
           {
            "colorbar": {
             "outlinewidth": 0,
             "ticks": ""
            },
            "type": "contourcarpet"
           }
          ],
          "heatmap": [
           {
            "colorbar": {
             "outlinewidth": 0,
             "ticks": ""
            },
            "colorscale": [
             [
              0,
              "#0d0887"
             ],
             [
              0.1111111111111111,
              "#46039f"
             ],
             [
              0.2222222222222222,
              "#7201a8"
             ],
             [
              0.3333333333333333,
              "#9c179e"
             ],
             [
              0.4444444444444444,
              "#bd3786"
             ],
             [
              0.5555555555555556,
              "#d8576b"
             ],
             [
              0.6666666666666666,
              "#ed7953"
             ],
             [
              0.7777777777777778,
              "#fb9f3a"
             ],
             [
              0.8888888888888888,
              "#fdca26"
             ],
             [
              1,
              "#f0f921"
             ]
            ],
            "type": "heatmap"
           }
          ],
          "histogram": [
           {
            "marker": {
             "pattern": {
              "fillmode": "overlay",
              "size": 10,
              "solidity": 0.2
             }
            },
            "type": "histogram"
           }
          ],
          "histogram2d": [
           {
            "colorbar": {
             "outlinewidth": 0,
             "ticks": ""
            },
            "colorscale": [
             [
              0,
              "#0d0887"
             ],
             [
              0.1111111111111111,
              "#46039f"
             ],
             [
              0.2222222222222222,
              "#7201a8"
             ],
             [
              0.3333333333333333,
              "#9c179e"
             ],
             [
              0.4444444444444444,
              "#bd3786"
             ],
             [
              0.5555555555555556,
              "#d8576b"
             ],
             [
              0.6666666666666666,
              "#ed7953"
             ],
             [
              0.7777777777777778,
              "#fb9f3a"
             ],
             [
              0.8888888888888888,
              "#fdca26"
             ],
             [
              1,
              "#f0f921"
             ]
            ],
            "type": "histogram2d"
           }
          ],
          "histogram2dcontour": [
           {
            "colorbar": {
             "outlinewidth": 0,
             "ticks": ""
            },
            "colorscale": [
             [
              0,
              "#0d0887"
             ],
             [
              0.1111111111111111,
              "#46039f"
             ],
             [
              0.2222222222222222,
              "#7201a8"
             ],
             [
              0.3333333333333333,
              "#9c179e"
             ],
             [
              0.4444444444444444,
              "#bd3786"
             ],
             [
              0.5555555555555556,
              "#d8576b"
             ],
             [
              0.6666666666666666,
              "#ed7953"
             ],
             [
              0.7777777777777778,
              "#fb9f3a"
             ],
             [
              0.8888888888888888,
              "#fdca26"
             ],
             [
              1,
              "#f0f921"
             ]
            ],
            "type": "histogram2dcontour"
           }
          ],
          "mesh3d": [
           {
            "colorbar": {
             "outlinewidth": 0,
             "ticks": ""
            },
            "type": "mesh3d"
           }
          ],
          "parcoords": [
           {
            "line": {
             "colorbar": {
              "outlinewidth": 0,
              "ticks": ""
             }
            },
            "type": "parcoords"
           }
          ],
          "pie": [
           {
            "automargin": true,
            "type": "pie"
           }
          ],
          "scatter": [
           {
            "fillpattern": {
             "fillmode": "overlay",
             "size": 10,
             "solidity": 0.2
            },
            "type": "scatter"
           }
          ],
          "scatter3d": [
           {
            "line": {
             "colorbar": {
              "outlinewidth": 0,
              "ticks": ""
             }
            },
            "marker": {
             "colorbar": {
              "outlinewidth": 0,
              "ticks": ""
             }
            },
            "type": "scatter3d"
           }
          ],
          "scattercarpet": [
           {
            "marker": {
             "colorbar": {
              "outlinewidth": 0,
              "ticks": ""
             }
            },
            "type": "scattercarpet"
           }
          ],
          "scattergeo": [
           {
            "marker": {
             "colorbar": {
              "outlinewidth": 0,
              "ticks": ""
             }
            },
            "type": "scattergeo"
           }
          ],
          "scattergl": [
           {
            "marker": {
             "colorbar": {
              "outlinewidth": 0,
              "ticks": ""
             }
            },
            "type": "scattergl"
           }
          ],
          "scattermap": [
           {
            "marker": {
             "colorbar": {
              "outlinewidth": 0,
              "ticks": ""
             }
            },
            "type": "scattermap"
           }
          ],
          "scattermapbox": [
           {
            "marker": {
             "colorbar": {
              "outlinewidth": 0,
              "ticks": ""
             }
            },
            "type": "scattermapbox"
           }
          ],
          "scatterpolar": [
           {
            "marker": {
             "colorbar": {
              "outlinewidth": 0,
              "ticks": ""
             }
            },
            "type": "scatterpolar"
           }
          ],
          "scatterpolargl": [
           {
            "marker": {
             "colorbar": {
              "outlinewidth": 0,
              "ticks": ""
             }
            },
            "type": "scatterpolargl"
           }
          ],
          "scatterternary": [
           {
            "marker": {
             "colorbar": {
              "outlinewidth": 0,
              "ticks": ""
             }
            },
            "type": "scatterternary"
           }
          ],
          "surface": [
           {
            "colorbar": {
             "outlinewidth": 0,
             "ticks": ""
            },
            "colorscale": [
             [
              0,
              "#0d0887"
             ],
             [
              0.1111111111111111,
              "#46039f"
             ],
             [
              0.2222222222222222,
              "#7201a8"
             ],
             [
              0.3333333333333333,
              "#9c179e"
             ],
             [
              0.4444444444444444,
              "#bd3786"
             ],
             [
              0.5555555555555556,
              "#d8576b"
             ],
             [
              0.6666666666666666,
              "#ed7953"
             ],
             [
              0.7777777777777778,
              "#fb9f3a"
             ],
             [
              0.8888888888888888,
              "#fdca26"
             ],
             [
              1,
              "#f0f921"
             ]
            ],
            "type": "surface"
           }
          ],
          "table": [
           {
            "cells": {
             "fill": {
              "color": "#EBF0F8"
             },
             "line": {
              "color": "white"
             }
            },
            "header": {
             "fill": {
              "color": "#C8D4E3"
             },
             "line": {
              "color": "white"
             }
            },
            "type": "table"
           }
          ]
         },
         "layout": {
          "annotationdefaults": {
           "arrowcolor": "#2a3f5f",
           "arrowhead": 0,
           "arrowwidth": 1
          },
          "autotypenumbers": "strict",
          "coloraxis": {
           "colorbar": {
            "outlinewidth": 0,
            "ticks": ""
           }
          },
          "colorscale": {
           "diverging": [
            [
             0,
             "#8e0152"
            ],
            [
             0.1,
             "#c51b7d"
            ],
            [
             0.2,
             "#de77ae"
            ],
            [
             0.3,
             "#f1b6da"
            ],
            [
             0.4,
             "#fde0ef"
            ],
            [
             0.5,
             "#f7f7f7"
            ],
            [
             0.6,
             "#e6f5d0"
            ],
            [
             0.7,
             "#b8e186"
            ],
            [
             0.8,
             "#7fbc41"
            ],
            [
             0.9,
             "#4d9221"
            ],
            [
             1,
             "#276419"
            ]
           ],
           "sequential": [
            [
             0,
             "#0d0887"
            ],
            [
             0.1111111111111111,
             "#46039f"
            ],
            [
             0.2222222222222222,
             "#7201a8"
            ],
            [
             0.3333333333333333,
             "#9c179e"
            ],
            [
             0.4444444444444444,
             "#bd3786"
            ],
            [
             0.5555555555555556,
             "#d8576b"
            ],
            [
             0.6666666666666666,
             "#ed7953"
            ],
            [
             0.7777777777777778,
             "#fb9f3a"
            ],
            [
             0.8888888888888888,
             "#fdca26"
            ],
            [
             1,
             "#f0f921"
            ]
           ],
           "sequentialminus": [
            [
             0,
             "#0d0887"
            ],
            [
             0.1111111111111111,
             "#46039f"
            ],
            [
             0.2222222222222222,
             "#7201a8"
            ],
            [
             0.3333333333333333,
             "#9c179e"
            ],
            [
             0.4444444444444444,
             "#bd3786"
            ],
            [
             0.5555555555555556,
             "#d8576b"
            ],
            [
             0.6666666666666666,
             "#ed7953"
            ],
            [
             0.7777777777777778,
             "#fb9f3a"
            ],
            [
             0.8888888888888888,
             "#fdca26"
            ],
            [
             1,
             "#f0f921"
            ]
           ]
          },
          "colorway": [
           "#636efa",
           "#EF553B",
           "#00cc96",
           "#ab63fa",
           "#FFA15A",
           "#19d3f3",
           "#FF6692",
           "#B6E880",
           "#FF97FF",
           "#FECB52"
          ],
          "font": {
           "color": "#2a3f5f"
          },
          "geo": {
           "bgcolor": "white",
           "lakecolor": "white",
           "landcolor": "#E5ECF6",
           "showlakes": true,
           "showland": true,
           "subunitcolor": "white"
          },
          "hoverlabel": {
           "align": "left"
          },
          "hovermode": "closest",
          "mapbox": {
           "style": "light"
          },
          "paper_bgcolor": "white",
          "plot_bgcolor": "#E5ECF6",
          "polar": {
           "angularaxis": {
            "gridcolor": "white",
            "linecolor": "white",
            "ticks": ""
           },
           "bgcolor": "#E5ECF6",
           "radialaxis": {
            "gridcolor": "white",
            "linecolor": "white",
            "ticks": ""
           }
          },
          "scene": {
           "xaxis": {
            "backgroundcolor": "#E5ECF6",
            "gridcolor": "white",
            "gridwidth": 2,
            "linecolor": "white",
            "showbackground": true,
            "ticks": "",
            "zerolinecolor": "white"
           },
           "yaxis": {
            "backgroundcolor": "#E5ECF6",
            "gridcolor": "white",
            "gridwidth": 2,
            "linecolor": "white",
            "showbackground": true,
            "ticks": "",
            "zerolinecolor": "white"
           },
           "zaxis": {
            "backgroundcolor": "#E5ECF6",
            "gridcolor": "white",
            "gridwidth": 2,
            "linecolor": "white",
            "showbackground": true,
            "ticks": "",
            "zerolinecolor": "white"
           }
          },
          "shapedefaults": {
           "line": {
            "color": "#2a3f5f"
           }
          },
          "ternary": {
           "aaxis": {
            "gridcolor": "white",
            "linecolor": "white",
            "ticks": ""
           },
           "baxis": {
            "gridcolor": "white",
            "linecolor": "white",
            "ticks": ""
           },
           "bgcolor": "#E5ECF6",
           "caxis": {
            "gridcolor": "white",
            "linecolor": "white",
            "ticks": ""
           }
          },
          "title": {
           "x": 0.05
          },
          "xaxis": {
           "automargin": true,
           "gridcolor": "white",
           "linecolor": "white",
           "ticks": "",
           "title": {
            "standoff": 15
           },
           "zerolinecolor": "white",
           "zerolinewidth": 2
          },
          "yaxis": {
           "automargin": true,
           "gridcolor": "white",
           "linecolor": "white",
           "ticks": "",
           "title": {
            "standoff": 15
           },
           "zerolinecolor": "white",
           "zerolinewidth": 2
          }
         }
        },
        "title": {
         "text": "Option Price: t=T (left) and t=0 (right)"
        },
        "xaxis": {
         "anchor": "y",
         "domain": [
          0,
          0.45
         ],
         "title": {
          "text": "s"
         }
        },
        "xaxis2": {
         "anchor": "y2",
         "domain": [
          0.55,
          1
         ],
         "title": {
          "text": "s"
         }
        },
        "yaxis": {
         "anchor": "x",
         "domain": [
          0,
          1
         ],
         "title": {
          "text": "V"
         }
        },
        "yaxis2": {
         "anchor": "x2",
         "domain": [
          0,
          1
         ],
         "title": {
          "text": "V"
         }
        }
       }
      }
     },
     "metadata": {},
     "output_type": "display_data"
    }
   ],
   "source": [
    "fig = make_subplots(rows=1, cols=2, subplot_titles=(\n",
    "    \"Option Price at t=T\", \"Option Price at t=0\"))\n",
    "\n",
    "# Left subplot: t = T (last column)\n",
    "fig.add_trace(go.Scatter(\n",
    "    x=s,\n",
    "    y=surface[:, -1],\n",
    "    name='Predicted Price',\n",
    "    mode='lines',\n",
    "    line=dict(color='blue')\n",
    "), row=1, col=1)\n",
    "fig.add_trace(go.Scatter(\n",
    "    x=s,\n",
    "    y=exact_surface[:, -1],\n",
    "    name='Exact Price',\n",
    "    mode='lines',\n",
    "    line=dict(color='lightgreen', dash='dash')\n",
    "), row=1, col=1)\n",
    "\n",
    "# Right subplot: t = 0 (first column)\n",
    "fig.add_trace(go.Scatter(\n",
    "    x=s,\n",
    "    y=surface[:, 0],\n",
    "    name='Predicted Price',\n",
    "    mode='lines',\n",
    "    line=dict(color='blue')\n",
    "), row=1, col=2)\n",
    "fig.add_trace(go.Scatter(\n",
    "    x=s,\n",
    "    y=exact_surface[:, 0],\n",
    "    name='Exact Price',\n",
    "    mode='lines',\n",
    "    line=dict(color='lightgreen', dash='dash')\n",
    "), row=1, col=2)\n",
    "\n",
    "# Update axis titles\n",
    "fig.update_xaxes(title_text=\"s\", row=1, col=1)\n",
    "fig.update_yaxes(title_text=\"V\", row=1, col=1)\n",
    "fig.update_xaxes(title_text=\"s\", row=1, col=2)\n",
    "fig.update_yaxes(title_text=\"V\", row=1, col=2)\n",
    "\n",
    "fig.update_layout(\n",
    "    title=\"Option Price: t=T (left) and t=0 (right)\", autosize=True)\n",
    "fig.show()"
   ]
  },
  {
   "cell_type": "code",
   "execution_count": 580,
   "metadata": {
    "tags": [
     "hide-input"
    ]
   },
   "outputs": [
    {
     "name": "stdout",
     "output_type": "stream",
     "text": [
      "Error (2-norm): 0.21%\n"
     ]
    }
   ],
   "source": [
    "error = np.linalg.norm(exact_surface - surface, 2) / \\\n",
    "    np.linalg.norm(exact_surface, 2)\n",
    "print(\"Error (2-norm): %.2f%%\" % (error * 100))"
   ]
  },
  {
   "cell_type": "markdown",
   "metadata": {},
   "source": [
    "We obtain an error of 0.21\\% against the exact solution without much tweaking! This demonstrates that even for a relatively simple problem such as pricing a European call option, the PINN approach can achieve a decent accuracy. This result is showcases the potential of this technique for more complex financial models, where analytical solutions are not available."
   ]
  }
 ],
 "metadata": {
  "kernelspec": {
   "display_name": "Python 3",
   "language": "python",
   "name": "python3"
  },
  "language_info": {
   "codemirror_mode": {
    "name": "ipython",
    "version": 3
   },
   "file_extension": ".py",
   "mimetype": "text/x-python",
   "name": "python",
   "nbconvert_exporter": "python",
   "pygments_lexer": "ipython3",
   "version": "3.11.10"
  }
 },
 "nbformat": 4,
 "nbformat_minor": 2
}

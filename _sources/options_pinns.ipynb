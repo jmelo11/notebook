{
 "cells": [
  {
   "cell_type": "markdown",
   "metadata": {},
   "source": [
    "# Derivative pricing using neural networks"
   ]
  },
  {
   "cell_type": "markdown",
   "metadata": {},
   "source": [
    "Over the past few years, advancements in artificial intelligence and machine learning have naturally led to the adoption of these techniques in many other fields. Neural networks, for example, have become a highly flexible tool capable of solving a wide variety of problems such as image classification, speech recognition, and language translation.\n",
    "\n",
    "Today, we also see their application in various industries, including finance. In this notebook, we demonstrate how these models can be used—for instance, to price derivatives. Although derivative pricing is a relatively simple and well-studied problem, it provides an interesting example to illustrate how neural networks can solve financial problems, not only in pricing but also in inverse problems (e.g., model calibration) and risk management.\n",
    "\n",
    "In this entry, we focus on a particular technique: Physics-Informed Neural Networks (PINNs). As the name suggests, these neural networks are designed to incorporate additional information derived from physical laws or known mathematical relationships. Typically, this is achieved by embedding these laws into the loss function to guide the network toward a solution that satisfies the given differential equation.\n"
   ]
  },
  {
   "cell_type": "markdown",
   "metadata": {},
   "source": [
    "\n",
    "## What are Physics-Informed Neural Networks (PINNs)?\n",
    "\n",
    "First we begin with some definitions. Suppose we wish to solve a partial differential equation (PDE) of the form\n",
    "$\n",
    "\\mathcal{N}[V(\\mathbf{x})] = 0,\\quad \\mathbf{x} \\in \\Omega,\n",
    "$\n",
    "where:\n",
    "- $\\mathcal{N}$ is a differential operator,\n",
    "- $V(\\mathbf{x})$ is the unknown solution,\n",
    "- $\\Omega$ is the spatial (and possibly temporal) domain.\n",
    "\n",
    "\n",
    "In a PINN, we approximate $V(\\mathbf{x})$ with a neural network $V_\\theta(\\mathbf{x})$ parameterized by $\\theta$. The loss function is constructed to penalize deviations from both the governing PDE in the domain and the prescribed boundary conditions on $\\partial \\Omega$. Formally, the loss can be written as:\n",
    "\n",
    "$$\n",
    "\\mathcal{L}(\\theta) = \\mathcal{L}_{\\mathrm{PDE}}(\\theta) + \\mathcal{L}_{\\mathrm{BC}}(\\theta),\n",
    "$$\n",
    "\n",
    "with\n",
    "\n",
    "$$\n",
    "\\mathcal{L}_{\\mathrm{PDE}}(\\theta) = \\frac{1}{N_r} \\sum_{i=1}^{N_r} \\left| \\mathcal{N}[V_\\theta(\\mathbf{x}_r^i)] \\right|^2,\n",
    "$$\n",
    "\n",
    "and\n",
    "\n",
    "$$\n",
    "\\mathcal{L}_{\\mathrm{BC}}(\\theta) = \\frac{1}{N_b} \\sum_{j=1}^{N_b} \\left| V_\\theta(\\mathbf{x}_b^j) - g(\\mathbf{x}_b^j) \\right|^2,\n",
    "$$\n",
    "\n",
    "where:\n",
    "-  $\\{\\mathbf{x}_r^i\\}_{i=1}^{N_r}$ are the **collocation points** in the interior of the domain $\\Omega$,\n",
    "-  $\\{\\mathbf{x}_b^j\\}_{j=1}^{N_b}$ are the points on the boundary $\\partial \\Omega$ with known values $g(\\mathbf{x}_b^j)$.\n",
    "\n",
    "In order to train the network, we minimize the loss function using gradient-based optimization techniques. The resulting neural network will approximate the solution to the PDE in the domain $\\Omega$ and satisfy the boundary conditions on $\\partial \\Omega$."
   ]
  },
  {
   "cell_type": "markdown",
   "metadata": {},
   "source": [
    "The idea is not to overcomplicate things, so we start with the example. First, we import the necessary libraries:"
   ]
  },
  {
   "cell_type": "code",
   "execution_count": 1,
   "metadata": {
    "tags": [
     "hide-input",
     "remove-output"
    ]
   },
   "outputs": [
    {
     "data": {
      "text/plain": [
       "<torch._C.Generator at 0x10e8de330>"
      ]
     },
     "execution_count": 1,
     "metadata": {},
     "output_type": "execute_result"
    }
   ],
   "source": [
    "import torch\n",
    "import torch.nn as nn\n",
    "import torch.optim as optim\n",
    "import numpy as np\n",
    "\n",
    "from torch.autograd import grad\n",
    "from scipy.stats import norm\n",
    "\n",
    "device = torch.device(\"cuda:0\" if torch.cuda.is_available() else \"cpu\")\n",
    "np.random.seed(42)\n",
    "torch.manual_seed(42)"
   ]
  },
  {
   "cell_type": "code",
   "execution_count": 2,
   "metadata": {
    "tags": [
     "remove-input"
    ]
   },
   "outputs": [],
   "source": [
    "from tqdm import tqdm\n",
    "import seaborn as sns\n",
    "import plotly.graph_objects as go\n",
    "from plotly.subplots import make_subplots"
   ]
  },
  {
   "cell_type": "markdown",
   "metadata": {},
   "source": [
    "## Loss functions and the governing equation\n",
    "\n",
    "For the problem of pricing options, the fundamental PDE we need to solve is the **Black-Scholes** equation. This equation is a parabolic PDE that describes the evolution of the price $V(S,t)$ of an option in terms of time $t$ and the underlying asset price $S$. It is given by:\n",
    "\n",
    "$$\n",
    "\\frac{\\partial V}{\\partial t} + \\frac{1}{2}\\sigma^2 S^2 \\frac{\\partial^2 V}{\\partial S^2} + rS\\frac{\\partial V}{\\partial S} - rV = 0,\n",
    "$$\n",
    "\n",
    "where:\n",
    "- $V(S,t)$ is the option price,\n",
    "- $S$ is the price of the underlying asset,\n",
    "- $r$ is the risk-free interest rate,\n",
    "- $\\sigma$ is the volatility of the underlying asset.\n",
    "\n",
    "Our objective is to use this PDE to guide the training of our neural network. Modern machine learning libraries, such as ***PyTorch***, offer automatic differentiation capabilities. For example, ***torch.autograd.grad*** efficiently computes the necessary derivatives, such as $\\nabla V(S,t)$, at each training point. In our fomulation, $\\mathcal{L}_{\\mathrm{PDE}}(\\theta)$ would be represented by the following function:"
   ]
  },
  {
   "cell_type": "code",
   "execution_count": 3,
   "metadata": {},
   "outputs": [],
   "source": [
    "def pde_loss_f(model, inputs, sigma, r):\n",
    "    inputs.requires_grad_(True)\n",
    "    V = model(inputs)\n",
    "\n",
    "    # First order\n",
    "    gradients = grad(V, inputs, grad_outputs=torch.ones_like(\n",
    "        V), create_graph=True)[0]\n",
    "    dVdt = gradients[:, 0]\n",
    "    dVdS = gradients[:, 1]\n",
    "\n",
    "    # Second order\n",
    "    d2VdS2 = grad(dVdS, inputs, grad_outputs=torch.ones_like(\n",
    "        dVdS), create_graph=True)[0][:, 1]\n",
    "    S = inputs[:, 1]\n",
    "    V = V[:, 0]\n",
    "\n",
    "    # PDE\n",
    "    pde_residual = dVdt + 0.5 * sigma ** 2 * S ** 2 * d2VdS2 + r * S * dVdS - r * V\n",
    "    loss_pde = torch.mean(pde_residual ** 2)\n",
    "    return loss_pde"
   ]
  },
  {
   "cell_type": "markdown",
   "metadata": {},
   "source": [
    "Additionally, to incorporate the boundary conditions, we need to define an additional loss functions that force the network to satisfy these constraints. Since the boundary conditions we are using are of Dirichlet type, the loss function is relatively simple (it merely compares the network outputs against the ground truth). However, nothing prevents us from employing other types of boundary conditions (such as Neumann or Robin)."
   ]
  },
  {
   "cell_type": "code",
   "execution_count": 4,
   "metadata": {},
   "outputs": [],
   "source": [
    "def boundary_loss_f(model, inputs, outputs):\n",
    "    V_pred = model(inputs)\n",
    "    boundary_loss = torch.mean((V_pred - outputs) ** 2)\n",
    "    return boundary_loss"
   ]
  },
  {
   "cell_type": "markdown",
   "metadata": {},
   "source": [
    "## Collocation points\n",
    "\n",
    "To solve the PDE using PINNs, we need to define the numerical domain over which the equation will be solved. Much like traditional numerical methods (e.g., finite differences), we select a set of points -called **collocation points**- where the PDE is enforced. These include points in the interior of the domain $\\Omega$ as well as on its boundary $\\partial\\Omega$.\n",
    "\n",
    "To enforce the boundary conditions, additional loss terms are added that force the network to satisfy them. For a European call option, the typical boundary conditions are:\n",
    "\n",
    "- **At $S = 0$**:\n",
    "    $$\n",
    "    V(0, t) = 0,\n",
    "    $$\n",
    "    since if the underlying asset's price is zero, the option is worthless.\n",
    "\n",
    "- **For $S \\to \\infty$:**\n",
    "    $$\n",
    "    V(S, t) \\approx S - K e^{-r(T-t)},\n",
    "    $$\n",
    "    as the option behaves like a linear payoff for large $S$.\n",
    "- **At expiration $t = T$:**\n",
    "    $$\n",
    "    V(S, T) = \\max(S - K,\\, 0),\n",
    "    $$\n",
    "    which is simply the payoff of the option.\n",
    "\n",
    "We sample this points using random numbers, and we will use them to train the neural network. Next is an implementation for sampling this points:"
   ]
  },
  {
   "cell_type": "code",
   "execution_count": 5,
   "metadata": {},
   "outputs": [],
   "source": [
    "def payoff(s, k):\n",
    "    return np.maximum(s-k, 0)\n",
    "\n",
    "\n",
    "def interior_samples(option_config, scaling=4):\n",
    "    t = np.random.uniform(\n",
    "        0, option_config['maturity'], option_config['n_samples'])\n",
    "    s = np.random.uniform(\n",
    "        0, scaling*option_config['strike'], option_config['n_samples'])\n",
    "    tag = np.zeros(option_config['n_samples'])\n",
    "    output = np.zeros(option_config['n_samples'])\n",
    "    return t, s, tag, output\n",
    "\n",
    "\n",
    "def top_boundary_samples(option_config, scaling=4):\n",
    "    t = np.random.uniform(\n",
    "        0, option_config['maturity'], option_config['n_samples'])\n",
    "    s = np.ones(option_config['n_samples']) * scaling*option_config['strike']\n",
    "    strike = option_config['strike']\n",
    "    s_max = scaling*option_config['strike']\n",
    "    r = option_config['r']\n",
    "    T = option_config['maturity']\n",
    "    output = s_max - strike * np.exp(-r*(T-t))\n",
    "    tag = np.ones(option_config['n_samples'])\n",
    "    return t, s, tag, output\n",
    "\n",
    "\n",
    "def bottom_boundary_samples(option_config):\n",
    "    t = np.random.uniform(\n",
    "        0, option_config['maturity'], option_config['n_samples'])\n",
    "    s = np.zeros(option_config['n_samples'])\n",
    "    output = np.zeros(option_config['n_samples'])\n",
    "    tag = np.ones(option_config['n_samples'])\n",
    "    return t, s, tag, output\n",
    "\n",
    "\n",
    "def initial_condition_samples(option_config, scaling=4):\n",
    "    t = np.ones(option_config['n_samples']) * option_config['maturity']\n",
    "    s = np.random.uniform(\n",
    "        0, scaling*option_config['strike'], option_config['n_samples'])\n",
    "    tag = np.ones(option_config['n_samples'])\n",
    "    output = payoff(s, option_config['strike'])\n",
    "    return t, s, tag, output"
   ]
  },
  {
   "cell_type": "markdown",
   "metadata": {},
   "source": [
    "```{important}\n",
    "The choice of collocation points is critical for the convergence of the method. One potential improvement is to use quasi-random numbers to distribute the collocation points more uniformly across the domain, thereby avoiding clustering that can occur with some random number generators.\n",
    "```"
   ]
  },
  {
   "cell_type": "markdown",
   "metadata": {},
   "source": [
    "Of course, we need to define the financial parameters that will be used in the problem. For this example, we will use the following values:"
   ]
  },
  {
   "cell_type": "code",
   "execution_count": null,
   "metadata": {},
   "outputs": [],
   "source": [
    "config = {'strike': 15, 'maturity': 1,\n",
    "          'r': 0.04, 'sigma': 0.25, 'n_samples': 10000}\n",
    "\n",
    "# Generate samples\n",
    "inner_samples = interior_samples(config)\n",
    "top_samples = top_boundary_samples(config)\n",
    "bottom_samples = bottom_boundary_samples(config)\n",
    "initial_samples = initial_condition_samples(config)"
   ]
  },
  {
   "cell_type": "markdown",
   "metadata": {},
   "source": [
    "Visually, this is how our domain looks like:"
   ]
  },
  {
   "cell_type": "code",
   "execution_count": 31,
   "metadata": {
    "tags": [
     "remove-input"
    ]
   },
   "outputs": [
    {
     "data": {
      "application/vnd.plotly.v1+json": {
       "config": {
        "plotlyServerURL": "https://plot.ly"
       },
       "data": [
        {
         "marker": {
          "size": 3
         },
         "mode": "markers",
         "name": "Interior",
         "type": "scatter3d",
         "x": {
          "bdata": "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",
          "dtype": "f8"
         },
         "y": {
          "bdata": "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",
          "dtype": "f8"
         },
         "z": {
          "bdata": "AAAAAAAAAAAAAAAAAAAAAAAAAAAAAAAAAAAAAAAAAAAAAAAAAAAAAAAAAAAAAAAAAAAAAAAAAAAAAAAAAAAAAAAAAAAAAAAAAAAAAAAAAAAAAAAAAAAAAAAAAAAAAAAAAAAAAAAAAAAAAAAAAAAAAAAAAAAAAAAAAAAAAAAAAAAAAAAAAAAAAAAAAAAAAAAAAAAAAAAAAAAAAAAAAAAAAAAAAAAAAAAAAAAAAAAAAAAAAAAAAAAAAAAAAAAAAAAAAAAAAAAAAAAAAAAAAAAAAAAAAAAAAAAAAAAAAAAAAAAAAAAAAAAAAAAAAAAAAAAAAAAAAAAAAAAAAAAAAAAAAAAAAAAAAAAAAAAAAAAAAAAAAAAAAAAAAAAAAAAAAAAAAAAAAAAAAAAAAAAAAAAAAAAAAAAAAAAAAAAAAAAAAAAAAAAAAAAAAAAAAAAAAAAAAAAAAAAAAAAAAAAAAAAAAAAAAAAAAAAAAAAAAAAAAAAAAAAAAAAAAAAAAAAAAAAAAAAAAAAAAAAAAAAAAAAAAAAAAAAAAAAAAAAAAAAAAAAAAAAAAAAAAAAAAAAAAAAAAAAAAAAAAAAAAAAAAAAAAAAAAAAAAAAAAAAAAAAAAAAAAAAAAAAAAAAAAAAAAAAAAAAAAAAAAAAAAAAAAAAAAAAAAAAAAAAAAAAAAAAAAAAAAAAAAAAAAAAAAAAAAAAAAAAAAAAAAAAAAAAAAAAAAAAAAAAAAAAAAAAAAAAAAAAAAAAAAAAAAAAAAAAAAAAAAAAAAAAAAAAAAAAAAAAAAAAAAAAAAAAAAAAAAAAAAAAAAAAAAAAAAAAAAAAAAAAAAAAAAAAAAAAAAAAAAAAAAAAAAAAAAAAAAAAAAAAAAAAAAAAAAAAAAAAAAAAAAAAAAAAAAAAAAAAAAAAAAAAAAAAAAAAAAAAAAAAAAAAAAAAAAAAAAAAAAAAAAAAAAAAAAAAAAAAAAAAAAAAAAAAAAAAAAAAAAAAAAAAAAAAAAAAAAAAAAAAAAAAAAAAAAAAAAAAAAAAAAAAAAAAAAAAAAAAAAAAAAAAAAAAAAAAAAAAAAAAAAAAAAAAAAAAAAAAAAAAAAAAAAAAAAAAAAAAAAAAAAAAAAAAAAAAAAAAAAAAAAAAAAAAAAAAAAAAAAAAAAAAAAAAAAAAAAAAAAAAAAAAAAAAAAAAAAAAAAAAAAAAAAAAAAAAAAAAAAAAAAAAAAAAAAAAAAAAAAAAAAAAAAAAAAAAAAAAAAAAAAAAAAAAAAAAAAAAAAAAAAAAAAAAAAAAAAAAAAAAAAAAAAAAAAAAAAAAAAAAAAAAAAAAAAAAAAAAAAAAAAAAAAAAAAAAAAAAAAAAAAAAAAAAAAAAAAAAAAAAAAAAAAAAAAAAAAAAAAAAAAAAAAAAAAAAAAAAAAAAAAAAAAAAAAAAAAAAAAAAAAAAAAAAAAAAAAAAAAAAAAAAAAAAAAAAAAAAAAAAAAAAAAAAAAAAAAAAAAAAAAAAAAAAAAAAAAAAAAAAAAAAAAAAAAAAAAAAAAAAAAAAAAAAAAAAAAAAAAAAAAAAAAAAAAAAAAAAAAAAAAAAAAAAAAAAAAAAAAAAAAAAAAAAAAAAAAAAAAAAAAAAAAAAAAAAAAAAAAAAAAAAAAAAAAAAAAAAAAAAAAAAAAAAAAAAAAAAAAAAAAAAAAAAAAAAAAAAAAAAAAAAAAAAAAAAAAAAAAAAAAAAAAAAAAAAAAAAAAAAAAAAAAAAAAAAAAAAAAAAAAAAAAAAAAAAAAAAAAAAAAAAAAAAAAAAAAAAAAAAAAAAAAAAAAAAAAAAAAAAAAAAAAAAAAAAAAAAAAAAAAAAAAAAAAAAAAAAAAAAAAAAAAAAAAAAAAAAAAAAAAAAAAAAAAAAAAAAAAAAAAAAAAAAAAAAAAAAAAAAAAAAAAAAAAAAAAAAAAAAAAAAAAAAAAAAAAAAAAAAAAAAAAAAAAAAAAAAAAAAAAAAAAAAAAAAAAAAAAAAAAAAAAAAAAAAAAAAAAAAAAAAAAAAAAAAAAAAAAAAAAAAAAAAAAAAAAAAAAAAAAAAAAAAAAAAAAAAAAAAAAAAAAAAAAAAAAAAAAAAAAAAAAAAAAAAAAAAAAAAAAAAAAAAAAAAAAAAAAAAAAAAAAAAAAAAAAAAAAAAAAAAAAAAAAAAAAAAAAAAAAAAAAAAAAAAAAAAAAAAAAAAAAAAAAAAAAAAAAAAAAAAAAAAAAAAAAAAAAAAAAAAAAAAAAAAAAAAAAAAAAAAAAAAAAAAAAAAAAAAAAAAAAAAAAAAAAAAAAAAAAAAAAAAAAAAAAAAAAAAAAAAAAAAAAAAAAAAAAAAAAAAAAAAAAAAAAAAAAAAAAAAAAAAAAAAAAAAAAAAAAAAAAAAAAAAAAAAAAAAAAAAAAAAAAAAAAAAAAAAAAAAAAAAAAAAAAAAAAAAAAAAAAAAAAAAAAAAAAAAAAAAAAAAAAAAAAAAAAAAAAAAAAAAAAAAAAAAAAAAAAAAAAAAAAAAAAAAAAAAAAAAAAAAAAAAAAAAAAAAAAAAAAAAAAAAAAAAAAAAAAAAAAAAAAAAAAAAAAAAAAAAAAAAAAAAAAAAAAAAAAAAAAAAAAAAAAAAAAAAAAAAAAAAAAAAAAAAAAAAAAAAAAAAAAAAAAAAAAAAAAAAAAAAAAAAAAAAAAAAAAAAAAAAAAAAAAAAAAAAAAAAAAAAAAAAAAAAAAAAAAAAAAAAAAAAAAAAAAAAAAAAAAAAAAAAAAAAAAAAAAAAAAAAAAAAAAAAAAAAAAAAAAAAAAAAAAAAAAAAAAAAAAAAAAAAAAAAAAAAAAAAAAAAAAAAAAAAAAAAAAAAAAAAAAAAAAAAAAAAAAAAAAAAAAAAAAAAAAAAAAAAAAAAAAAAAAAAAAAAAAAAAAAAAAAAAAAAAAAAAAAAAAAAAAAAAAAAAAAAAAAAAAAAAAAAAAAAAAAAAAAAAAAAAAAAAAAAAAAAAAAAAAAAAAAAAAAAAAAAAAAAAAAAAAAAAAAAAAAAAAAAAAAAAAAAAAAAAAAAAAAAAAAAAAAAAAAAAAAAAAAAAAAAAAAAAAAAAAAAAAAAAAAAAAAAAAAAAAAAAAAAAAAAAAAAAAAAAAAAAAAAAAAAAAAAAAAAAAAAAAAAAAAAAAAAAAAAAAAAAAAAAAAAAAAAAAAAAAAAAAAAAAAAAAAAAAAAAAAAAAAAAAAAAAAAAAAAAAAAAAAAAAAAAAAAAAAAAAAAAAAAAAAAAAAAAAAAAAAAAAAAAAAAAAAAAAAAAAAAAAAAAAAAAAAAAAAAAAAAAAAAAAAAAAAAAAAAAAAAAAAAAAAAAAAAAAAAAAAAAAAAAAAAAAAAAAAAAAAAAAAAAAAAAAAAAAAAAAAAAAAAAAAAAAAAAAAAAAAAAAAAAAAAAAAAAAAAAAAAAAAAAAAAAAAAAAAAAAAAAAAAAAAAAAAAAAAAAAAAAAAAAAAAAAAAAAAAAAAAAAAAAAAAAAAAAAAAAAAAAAAAAAAAAAAAAAAAAAAAAAAAAAAAAAAAAAAAAAAAAAAAAAAAAAAAAAAAAAAAAAAAAAAAAAAAAAAAAAAAAAAAAAAAAAAAAAAAAAAAAAAAAAAAAAAAAAAAAAAAAAAAAAAAAAAAAAAAAAAAAAAAAAAAAAAAAAAAAAAAAAAAAAAAAAAAAAAAAAAAAAAAAAAAAAAAAAAAAAAAAAAAAAAAAAAAAAAAAAAAAAAAAAAAAAAAAAAAAAAAAAAAAAAAAAAAAAAAAAAAAAAAAAAAAAAAAAAAAAAAAAAAAAAAAAAAAAAAAAAAAAAAAAAAAAAAAAAAAAAAAAAAAAAAAAAAAAAAAAAAAAAAAAAAAAAAAAAAAAAAAAAAAAAAAAAAAAAAAAAAAAAAAAAAAAAAAAAAAAAAAAAAAAAAAAAAAAAAAAAAAAAAAAAAAAAAAAAAAAAAAAAAAAAAAAAAAAAAAAAAAAAAAAAAAAAAAAAAAAAAAAAAAAAAAAAAAAAAAAAAAAAAAAAAAAAAAAAAAAAAAAAAAAAAAAAAAAAAAAAAAAAAAAAAAAAAAAAAAAAAAAAAAAAAAAAAAAAAAAAAAAAAAAAAAAAAAAAAAAAAAAAAAAAAAAAAAAAAAAAAAAAAAAAAAAAAAAAAAAAAAAAAAAAAAAAAAAAAAAAAAAAAAAAAAAAAAAAAAAAAAAAAAAAAAAAAAAAAAAAAAAAAAAAAAAAAAAAAAAAAAAAAAAAAAAAAAAAAAAAAAAAAAAAAAAAAAAAAAAAAAAAAAAAAAAAAAAAAAAAAAAAAAAAAAAAAAAAAAAAAAAAAAAAAAAAAAAAAAAAAAAAAAAAAAAAAAAAAAAAAAAAAAAAAAAAAAAAAAAAAAAAAAAAAAAAAAAAAAAAAAAAAAAAAAAAAAAAAAAAAAAAAAAAAAAAAAAAAAAAAAAAAAAAAAAAAAAAAAAAAAAAAAAAAAAAAAAAAAAAAAAAAAAAAAAAAAAAAAAAAAAAAAAAAAAAAAAAAAAAAAAAAAAAAAAAAAAAAAAAAAAAAAAAAAAAAAAAAAAAAAAAAAAAAAAAAAAAAAAAAAAAAAAAAAAAAAAAAAAAAAAAAAAAAAAAAAAAAAAAAAAAAAAAAAAAAAAAAAAAAAAAAAAAAAAAAAAAAAAAAAAAAAAAAAAAAAAAAAAAAAAAAAAAAAAAAAAAAAAAAAAAAAAAAAAAAAAAAAAAAAAAAAAAAAAAAAAAAAAAAAAAAAAAAAAAAAAAAAAAAAAAAAAAAAAAAAAAAAAAAAAAAAAAAAAAAAAAAAAAAAAAAAAAAAAAAAAAAAAAAAAAAAAAAAAAAAAAAAAAAAAAAAAAAAAAAAAAAAAAAAAAAAAAAAAAAAAAAAAAAAAAAAAAAAAAAAAAAAAAAAAAAAAAAAAAAAAAAAAAAAAAAAAAAAAAAAAAAAAAAAAAAAAAAAAAAAAAAAAAAAAAAAAAAAAAAAAAAAAAAAAAAAAAAAAAAAAAAAAAAAAAAAAAAAAAAAAAAAAAAAAAAAAAAAAAAAAAAAAAAAAAAAAAAAAAAAAAAAAAAAAAAAAAAAAAAAAAAAAAAAAAAAAAAAAAAAAAAAAAAAAAAAAAAAAAAAAAAAAAAAAAAAAAAAAAAAAAAAAAAAAAAAAAAAAAAAAAAAAAAAAAAAAAAAAAAAAAAAAAAAAAAAAAAAAAAAAAAAAAAAAAAAAAAAAAAAAAAAAAAAAAAAAAAAAAAAAAAAAAAAAAAAAAAAAAAAAAAAAAAAAAAAAAAAAAAAAAAAAAAAAAAAAAAAAAAAAAAAAAAAAAAAAAAAAAAAAAAAAAAAAAAAAAAAAAAAAAAAAAAAAAAAAAAAAAAAAAAAAAAAAAAAAAAAAAAAAAAAAAAAAAAAAAAAAAAAAAAAAAAAAAAAAAAAAAAAAAAAAAAAAAAAAAAAAAAAAAAAAAAAAAAAAAAAAAAAAAAAAAAAAAAAAAAAAAAAAAAAAAAAAAAAAAAAAAAAAAAAAAAAAAAAAAAAAAAAAAAAAAAAAAAAAAAAAAAAAAAAAAAAAAAAAAAAAAAAAAAAAAAAAAAAAAAAAAAAAAAAAAAAAAAAAAAAAAAAAAAAAAAAAAAAAAAAAAAAAAAAAAAAAAAAAAAAAAAAAAAAAAAAAAAAAAAAAAAAAAAAAAAAAAAAAAAAAAAAAAAAAAAAAAAAAAAAAAAAAAAAAAAAAAAAAAAAAAAAAAAAAAAAAAAAAAAAAAAAAAAAAAAAAAAAAAAAAAAAAAAAAAAAAAAAAAAAAAAAAAAAAAAAAAAAAAAAAAAAAAAAAAAAAAAAAAAAAAAAAAAAAAAAAAAAAAAAAAAAAAAAAAAAAAAAAAAAAAAAAAAAAAAAAAAAAAAAAAAAAAAAAAAAAAAAAAAAAAAAAAAAAAAAAAAAAAAAAAAAAAAAAAAAAAAAAAAAAAAAAAAAAAAAAAAAAAAAAAAAAAAAAAAAAAAAAAAAAAAAAAAAAAAAAAAAAAAAAAAAAAAAAAAAAAAAAAAAAAAAAAAAAAAAAAAAAAAAAAAAAAAAAAAAAAAAAAAAAAAAAAAAAAAAAAAAAAAAAAAAAAAAAAAAAAAAAAAAAAAAAAAAAAAAAAAAAAAAAAAAAAAAAAAAAAAAAAAAAAAAAAAAAAAAAAAAAAAAAAAAAAAAAAAAAAAAAAAAAAAAAAAAAAAAAAAAAAAAAAAAAAAAAAAAAAAAAAAAAAAAAAAAAAAAAAAAAAAAAAAAAAAAAAAAAAAAAAAAAAAAAAAAAAAAAAAAAAAAAAAAAAAAAAAAAAAAAAAAAAAAAAAAAAAAAAAAAAAAAAAAAAAAAAAAAAAAAAAAAAAAAAAAAAAAAAAAAAAAAAAAAAAAAAAAAAAAAAAAAAAAAAAAAAAAAAAAAAAAAAAAAAAAAAAAAAAAAAAAAAAAAAAAAAAAAAAAAAAAAAAAAAAAAAAAAAAAAAAAAAAAAAAAAAAAAAAAAAAAAAAAAAAAAAAAAAAAAAAAAAAAAAAAAAAAAAAAAAAAAAAAAAAAAAAAAAAAAAAAAAAAAAAAAAAAAAAAAAAAAAAAAAAAAAAAAAAAAAAAAAAAAAAAAAAAAAAAAAAAAAAAAAAAAAAAAAAAAAAAAAAAAAAAAAAAAAAAAAAAAAAAAAAAAAAAAAAAAAAAAAAAAAAAAAAAAAAAAAAAAAAAAAAAAAAAAAAAAAAAAAAAAAAAAAAAAAAAAAAAAAAAAAAAAAAAAAAAAAAAAAAAAAAAAAAAAAAAAAAAAAAAAAAAAAAAAAAAAAAAAAAAAAAAAAAAAAAAAAAAAAAAAAAAAAAAAAAAAAAAAAAAAAAAAAAAAAAAAAAAAAAAAAAAAAAAAAAAAAAAAAAAAAAAAAAAAAAAAAAAAAAAAAAAAAAAAAAAAAAAAAAAAAAAAAAAAAAAAAAAAAAAAAAAAAAAAAAAAAAAAAAAAAAAAAAAAAAAAAAAAAAAAAAAAAAAAAAAAAAAAAAAAAAAAAAAAAAAAAAAAAAAAAAAAAAAAAAAAAAAAAAAAAAAAAAAAAAAAAAAAAAAAAAAAAAAAAAAAAAAAAAAAAAAAAAAAAAAAAAAAAAAAAAAAAAAAAAAAAAAAAAAAAAAAAAAAAAAAAAAAAAAAAAAAAAAAAAAAAAAAAAAAAAAAAAAAAAAAAAAAAAAAAAAAAAAAAAAAAAAAAAAAAAAAAAAAAAAAAAAAAAAAAAAAAAAAAAAAAAAAAAAAAAAAAAAAAAAAAAAAAAAAAAAAAAAAAAAAAAAAAAAAAAAAAAAAAAAAAAAAAAAAAAAAAAAAAAAAAAAAAAAAAAAAAAAAAAAAAAAAAAAAAAAAAAAAAAAAAAAAAAAAAAAAAAAAAAAAAAAAAAAAAAAAAAAAAAAAAAAAAAAAAAAAAAAAAAAAAAAAAAAAAAAAAAAAAAAAAAAAAAAAAAAAAAAAAAAAAAAAAAAAAAAAAAAAAAAAAAAAAAAAAAAAAAAAAAAAAAAAAAAAAAAAAAAAAAAAAAAAAAAAAAAAAAAAAAAAAAAAAAAAAAAAAAAAAAAAAAAAAAAAAAAAAAAAAAAAAAAAAAAAAAAAAAAAAAAAAAAAAAAAAAAAAAAAAAAAAAAAAAAAAAAAAAAAAAAAAAAAAAAAAAAAAAAAAAAAAAAAAAAAAAAAAAAAAAAAAAAAAAAAAAAAAAAAAAAAAAAAAAAAAAAAAAAAAAAAAAAAAAAAAAAAAAAAAAAAAAAAAAAAAAAAAAAAAAAAAAAAAAAAAAAAAAAAAAAAAAAAAAAAAAAAAAAAAAAAAAAAAAAAAAAAAAAAAAAAAAAAAAAAAAAAAAAAAAAAAAAAAAAAAAAAAAAAAAAAAAAAAAAAAAAAAAAAAAAAAAAAAAAAAAAAAAAAAAAAAAAAAAAAAAAAAAAAAAAAAAAAAAAAAAAAAAAAAAAAAAAAAAAAAAAAAAAAAAAAAAAAAAAAAAAAAAAAAAAAAAAAAAAAAAAAAAAAAAAAAAAAAAAAAAAAAAAAAAAAAAAAAAAAAAAAAAAAAAAAAAAAAAAAAAAAAAAAAAAAAAAAAAAAAAAAAAAAAAAAAAAAAAAAAAAAAAAAAAAAAAAAAAAAAAAAAAAAAAAAAAAAAAAAAAAAAAAAAAAAAAAAAAAAAAAAAAAAAAAAAAAAAAAAAAAAAAAAAAAAAAAAAAAAAAAAAAAAAAAAAAAAAAAAAAAAAAAAAAAAAAAAAAAAAAAAAAAAAAAAAAAAAAAAAAAAAAAAAAAAAAAAAAAAAAAAAAAAAAAAAAAAAAAAAAAAAAAAAAAAAAAAAAAAAAAAAAAAAAAAAAAAAAAAAAAAAAAAAAAAAAAAAAAAAAAAAAAAAAAAAAAAAAAAAAAAAAAAAAAAAAAAAAAAAAAAAAAAAAAAAAAAAAAAAAAAAAAAAAAAAAAAAAAAAAAAAAAAAAAAAAAAAAAAAAAAAAAAAAAAAAAAAAAAAAAAAAAAAAAAAAAAAAAAAAAAAAAAAAAAAAAAAAAAAAAAAAAAAAAAAAAAAAAAAAAAAAAAAAAAAAAAAAAAAAAAAAAAAAAAAAAAAAAAAAAAAAAAAAAAAAAAAAAAAAAAAAAAAAAAAAAAAAAAAAAAAAAAAAAAAAAAAAAAAAAAAAAAAAAAAAAAAAAAAAAAAAAAAAAAAAAAAAAAAAAAAAAAAAAAAAAAAAAAAAAAAAAAAAAAAAAAAAAAAAAAAAAAAAAAAAAAAAAAAAAAAAAAAAAAAAAAAAAAAAAAAAAAAAAAAAAAAAAAAAAAAAAAAAAAAAAAAAAAAAAAAAAAAAAAAAAAAAAAAAAAAAAAAAAAAAAAAAAAAAAAAAAAAAAAAAAAAAAAAAAAAAAAAAAAAAAAAAAAAAAAAAAAAAAAAAAAAAAAAAAAAAAAAAAAAAAAAAAAAAAAAAAAAAAAAAAAAAAAAAAAAAAAAAAAAAAAAAAAAAAAAAAAAAAAAAAAAAAAAAAAAAAAAAAAAAAAAAAAAAAAAAAAAAAAAAAAAAAAAAAAAAAAAAAAAAAAAAAAAAAAAAAAAAAAAAAAAAAAAAAAAAAAAAAAAAAAAAAAAAAAAAAAAAAAAAAAAAAAAAAAAAAAAAAAAAAAAAAAAAAAAAAAAAAAAAAAAAAAAAAAAAAAAAAAAAAAAAAAAAAAAAAAAAAAAAAAAAAAAAAAAAAAAAAAAAAAAAAAAAAAAAAAAAAAAAAAAAAAAAAAAAAAAAAAAAAAAAAAAAAAAAAAAAAAAAAAAAAAAAAAAAAAAAAAAAAAAAAAAAAAAAAAAAAAAAAAAAAAAAAAAAAAAAAAAAAAAAAAAAAAAAAAAAAAAAAAAAAAAAAAAAAAAAAAAAAAAAAAAAAAAAAAAAAAAAAAAAAAAAAAAAAAAAAAAAAAAAAAAAAAAAAAAAAAAAAAAAAAAAAAAAAAAAAAAAAAAAAAAAAAAAAAAAAAAAAAAAAAAAAAAAAAAAAAAAAAAAAAAAAAAAAAAAAAAAAAAAAAAAAAAAAAAAAAAAAAAAAAAAAAAAAAAAAAAAAAAAAAAAAAAAAAAAAAAAAAAAAAAAAAAAAAAAAAAAAAAAAAAAAAAAAAAAAAAAAAAAAAAAAAAAAAAAAAAAAAAAAAAAAAAAAAAAAAAAAAAAAAAAAAAAAAAAAAAAAAAAAAAAAAAAAAAAAAAAAAAAAAAAAAAAAAAAAAAAAAAAAAAAAAAAAAAAAAAAAAAAAAAAAAAAAAAAAAAAAAAAAAAAAAAAAAAAAAAAAAAAAAAAAAAAAAAAAAAAAAAAAAAAAAAAAAAAAAAAAAAAAAAAAAAAAAAAAAAAAAAAAAAAAAAAAAAAAAAAAAAAAAAAAAAAAAAAAAAAAAAAAAAAAAAAAAAAAAAAAAAAAAAAAAAAAAAAAAAAAAAAAAAAAAAAAAAAAAAAAAAAAAAAAAAAAAAAAAAAAAAAAAAAAAAAAAAAAAAAAAAAAAAAAAAAAAAAAAAAAAAAAAAAAAAAAAAAAAAAAAAAAAAAAAAAAAAAAAAAAAAAAAAAAAAAAAAAAAAAAAAAAAAAAAAAAAAAAAAAAAAAAAAAAAAAAAAAAAAAAAAAAAAAAAAAAAAAAAAAAAAAAAAAAAAAAAAAAAAAAAAAAAAAAAAAAAAAAAAAAAAAAAAAAAAAAAAAAAAAAAAAAAAAAAAAAAAAAAAAAAAAAAAAAAAAAAAAAAAAAAAAAAAAAAAAAAAAAAAAAAAAAAAAAAAAAAAAAAAAAAAAAAAAAAAAAAAAAAAAAAAAAAAAAAAAAAAAAAAAAAAAAAAAAAAAAAAAAAAAAAAAAAAAAAAAAAAAAAAAAAAAAAAAAAAAAAAAAAAAAAAAAAAAAAAAAAAAAAAAAAAAAAAAAAAAAAAAAAAAAAAAAAAAAAAAAAAAAAAAAAAAAAAAAAAAAAAAAAAAAAAAAAAAAAAAAAAAAAAAAAAAAAAAAAAAAAAAAAAAAAAAAAAAAAAAAAAAAAAAAAAAAAAAAAAAAAAAAAAAAAAAAAAAAAAAAAAAAAAAAAAAAAAAAAAAAAAAAAAAAAAAAAAAAAAAAAAAAAAAAAAAAAAAAAAAAAAAAAAAAAAAAAAAAAAAAAAAAAAAAAAAAAAAAAAAAAAAAAAAAAAAAAAAAAAAAAAAAAAAAAAAAAAAAAAAAAAAAAAAAAAAAAAAAAAAAAAAAAAAAAAAAAAAAAAAAAAAAAAAAAAAAAAAAAAAAAAAAAAAAAAAAAAAAAAAAAAAAAAAAAAAAAAA=",
          "dtype": "f8"
         }
        },
        {
         "marker": {
          "size": 3
         },
         "mode": "markers",
         "name": "Top Boundary",
         "type": "scatter3d",
         "x": {
          "bdata": "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",
          "dtype": "f8"
         },
         "y": {
          "bdata": "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",
          "dtype": "f8"
         },
         "z": {
          "bdata": "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",
          "dtype": "f8"
         }
        },
        {
         "marker": {
          "size": 3
         },
         "mode": "markers",
         "name": "Bottom Boundary",
         "type": "scatter3d",
         "x": {
          "bdata": "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",
          "dtype": "f8"
         },
         "y": {
          "bdata": "AAAAAAAAAAAAAAAAAAAAAAAAAAAAAAAAAAAAAAAAAAAAAAAAAAAAAAAAAAAAAAAAAAAAAAAAAAAAAAAAAAAAAAAAAAAAAAAAAAAAAAAAAAAAAAAAAAAAAAAAAAAAAAAAAAAAAAAAAAAAAAAAAAAAAAAAAAAAAAAAAAAAAAAAAAAAAAAAAAAAAAAAAAAAAAAAAAAAAAAAAAAAAAAAAAAAAAAAAAAAAAAAAAAAAAAAAAAAAAAAAAAAAAAAAAAAAAAAAAAAAAAAAAAAAAAAAAAAAAAAAAAAAAAAAAAAAAAAAAAAAAAAAAAAAAAAAAAAAAAAAAAAAAAAAAAAAAAAAAAAAAAAAAAAAAAAAAAAAAAAAAAAAAAAAAAAAAAAAAAAAAAAAAAAAAAAAAAAAAAAAAAAAAAAAAAAAAAAAAAAAAAAAAAAAAAAAAAAAAAAAAAAAAAAAAAAAAAAAAAAAAAAAAAAAAAAAAAAAAAAAAAAAAAAAAAAAAAAAAAAAAAAAAAAAAAAAAAAAAAAAAAAAAAAAAAAAAAAAAAAAAAAAAAAAAAAAAAAAAAAAAAAAAAAAAAAAAAAAAAAAAAAAAAAAAAAAAAAAAAAAAAAAAAAAAAAAAAAAAAAAAAAAAAAAAAAAAAAAAAAAAAAAAAAAAAAAAAAAAAAAAAAAAAAAAAAAAAAAAAAAAAAAAAAAAAAAAAAAAAAAAAAAAAAAAAAAAAAAAAAAAAAAAAAAAAAAAAAAAAAAAAAAAAAAAAAAAAAAAAAAAAAAAAAAAAAAAAAAAAAAAAAAAAAAAAAAAAAAAAAAAAAAAAAAAAAAAAAAAAAAAAAAAAAAAAAAAAAAAAAAAAAAAAAAAAAAAAAAAAAAAAAAAAAAAAAAAAAAAAAAAAAAAAAAAAAAAAAAAAAAAAAAAAAAAAAAAAAAAAAAAAAAAAAAAAAAAAAAAAAAAAAAAAAAAAAAAAAAAAAAAAAAAAAAAAAAAAAAAAAAAAAAAAAAAAAAAAAAAAAAAAAAAAAAAAAAAAAAAAAAAAAAAAAAAAAAAAAAAAAAAAAAAAAAAAAAAAAAAAAAAAAAAAAAAAAAAAAAAAAAAAAAAAAAAAAAAAAAAAAAAAAAAAAAAAAAAAAAAAAAAAAAAAAAAAAAAAAAAAAAAAAAAAAAAAAAAAAAAAAAAAAAAAAAAAAAAAAAAAAAAAAAAAAAAAAAAAAAAAAAAAAAAAAAAAAAAAAAAAAAAAAAAAAAAAAAAAAAAAAAAAAAAAAAAAAAAAAAAAAAAAAAAAAAAAAAAAAAAAAAAAAAAAAAAAAAAAAAAAAAAAAAAAAAAAAAAAAAAAAAAAAAAAAAAAAAAAAAAAAAAAAAAAAAAAAAAAAAAAAAAAAAAAAAAAAAAAAAAAAAAAAAAAAAAAAAAAAAAAAAAAAAAAAAAAAAAAAAAAAAAAAAAAAAAAAAAAAAAAAAAAAAAAAAAAAAAAAAAAAAAAAAAAAAAAAAAAAAAAAAAAAAAAAAAAAAAAAAAAAAAAAAAAAAAAAAAAAAAAAAAAAAAAAAAAAAAAAAAAAAAAAAAAAAAAAAAAAAAAAAAAAAAAAAAAAAAAAAAAAAAAAAAAAAAAAAAAAAAAAAAAAAAAAAAAAAAAAAAAAAAAAAAAAAAAAAAAAAAAAAAAAAAAAAAAAAAAAAAAAAAAAAAAAAAAAAAAAAAAAAAAAAAAAAAAAAAAAAAAAAAAAAAAAAAAAAAAAAAAAAAAAAAAAAAAAAAAAAAAAAAAAAAAAAAAAAAAAAAAAAAAAAAAAAAAAAAAAAAAAAAAAAAAAAAAAAAAAAAAAAAAAAAAAAAAAAAAAAAAAAAAAAAAAAAAAAAAAAAAAAAAAAAAAAAAAAAAAAAAAAAAAAAAAAAAAAAAAAAAAAAAAAAAAAAAAAAAAAAAAAAAAAAAAAAAAAAAAAAAAAAAAAAAAAAAAAAAAAAAAAAAAAAAAAAAAAAAAAAAAAAAAAAAAAAAAAAAAAAAAAAAAAAAAAAAAAAAAAAAAAAAAAAAAAAAAAAAAAAAAAAAAAAAAAAAAAAAAAAAAAAAAAAAAAAAAAAAAAAAAAAAAAAAAAAAAAAAAAAAAAAAAAAAAAAAAAAAAAAAAAAAAAAAAAAAAAAAAAAAAAAAAAAAAAAAAAAAAAAAAAAAAAAAAAAAAAAAAAAAAAAAAAAAAAAAAAAAAAAAAAAAAAAAAAAAAAAAAAAAAAAAAAAAAAAAAAAAAAAAAAAAAAAAAAAAAAAAAAAAAAAAAAAAAAAAAAAAAAAAAAAAAAAAAAAAAAAAAAAAAAAAAAAAAAAAAAAAAAAAAAAAAAAAAAAAAAAAAAAAAAAAAAAAAAAAAAAAAAAAAAAAAAAAAAAAAAAAAAAAAAAAAAAAAAAAAAAAAAAAAAAAAAAAAAAAAAAAAAAAAAAAAAAAAAAAAAAAAAAAAAAAAAAAAAAAAAAAAAAAAAAAAAAAAAAAAAAAAAAAAAAAAAAAAAAAAAAAAAAAAAAAAAAAAAAAAAAAAAAAAAAAAAAAAAAAAAAAAAAAAAAAAAAAAAAAAAAAAAAAAAAAAAAAAAAAAAAAAAAAAAAAAAAAAAAAAAAAAAAAAAAAAAAAAAAAAAAAAAAAAAAAAAAAAAAAAAAAAAAAAAAAAAAAAAAAAAAAAAAAAAAAAAAAAAAAAAAAAAAAAAAAAAAAAAAAAAAAAAAAAAAAAAAAAAAAAAAAAAAAAAAAAAAAAAAAAAAAAAAAAAAAAAAAAAAAAAAAAAAAAAAAAAAAAAAAAAAAAAAAAAAAAAAAAAAAAAAAAAAAAAAAAAAAAAAAAAAAAAAAAAAAAAAAAAAAAAAAAAAAAAAAAAAAAAAAAAAAAAAAAAAAAAAAAAAAAAAAAAAAAAAAAAAAAAAAAAAAAAAAAAAAAAAAAAAAAAAAAAAAAAAAAAAAAAAAAAAAAAAAAAAAAAAAAAAAAAAAAAAAAAAAAAAAAAAAAAAAAAAAAAAAAAAAAAAAAAAAAAAAAAAAAAAAAAAAAAAAAAAAAAAAAAAAAAAAAAAAAAAAAAAAAAAAAAAAAAAAAAAAAAAAAAAAAAAAAAAAAAAAAAAAAAAAAAAAAAAAAAAAAAAAAAAAAAAAAAAAAAAAAAAAAAAAAAAAAAAAAAAAAAAAAAAAAAAAAAAAAAAAAAAAAAAAAAAAAAAAAAAAAAAAAAAAAAAAAAAAAAAAAAAAAAAAAAAAAAAAAAAAAAAAAAAAAAAAAAAAAAAAAAAAAAAAAAAAAAAAAAAAAAAAAAAAAAAAAAAAAAAAAAAAAAAAAAAAAAAAAAAAAAAAAAAAAAAAAAAAAAAAAAAAAAAAAAAAAAAAAAAAAAAAAAAAAAAAAAAAAAAAAAAAAAAAAAAAAAAAAAAAAAAAAAAAAAAAAAAAAAAAAAAAAAAAAAAAAAAAAAAAAAAAAAAAAAAAAAAAAAAAAAAAAAAAAAAAAAAAAAAAAAAAAAAAAAAAAAAAAAAAAAAAAAAAAAAAAAAAAAAAAAAAAAAAAAAAAAAAAAAAAAAAAAAAAAAAAAAAAAAAAAAAAAAAAAAAAAAAAAAAAAAAAAAAAAAAAAAAAAAAAAAAAAAAAAAAAAAAAAAAAAAAAAAAAAAAAAAAAAAAAAAAAAAAAAAAAAAAAAAAAAAAAAAAAAAAAAAAAAAAAAAAAAAAAAAAAAAAAAAAAAAAAAAAAAAAAAAAAAAAAAAAAAAAAAAAAAAAAAAAAAAAAAAAAAAAAAAAAAAAAAAAAAAAAAAAAAAAAAAAAAAAAAAAAAAAAAAAAAAAAAAAAAAAAAAAAAAAAAAAAAAAAAAAAAAAAAAAAAAAAAAAAAAAAAAAAAAAAAAAAAAAAAAAAAAAAAAAAAAAAAAAAAAAAAAAAAAAAAAAAAAAAAAAAAAAAAAAAAAAAAAAAAAAAAAAAAAAAAAAAAAAAAAAAAAAAAAAAAAAAAAAAAAAAAAAAAAAAAAAAAAAAAAAAAAAAAAAAAAAAAAAAAAAAAAAAAAAAAAAAAAAAAAAAAAAAAAAAAAAAAAAAAAAAAAAAAAAAAAAAAAAAAAAAAAAAAAAAAAAAAAAAAAAAAAAAAAAAAAAAAAAAAAAAAAAAAAAAAAAAAAAAAAAAAAAAAAAAAAAAAAAAAAAAAAAAAAAAAAAAAAAAAAAAAAAAAAAAAAAAAAAAAAAAAAAAAAAAAAAAAAAAAAAAAAAAAAAAAAAAAAAAAAAAAAAAAAAAAAAAAAAAAAAAAAAAAAAAAAAAAAAAAAAAAAAAAAAAAAAAAAAAAAAAAAAAAAAAAAAAAAAAAAAAAAAAAAAAAAAAAAAAAAAAAAAAAAAAAAAAAAAAAAAAAAAAAAAAAAAAAAAAAAAAAAAAAAAAAAAAAAAAAAAAAAAAAAAAAAAAAAAAAAAAAAAAAAAAAAAAAAAAAAAAAAAAAAAAAAAAAAAAAAAAAAAAAAAAAAAAAAAAAAAAAAAAAAAAAAAAAAAAAAAAAAAAAAAAAAAAAAAAAAAAAAAAAAAAAAAAAAAAAAAAAAAAAAAAAAAAAAAAAAAAAAAAAAAAAAAAAAAAAAAAAAAAAAAAAAAAAAAAAAAAAAAAAAAAAAAAAAAAAAAAAAAAAAAAAAAAAAAAAAAAAAAAAAAAAAAAAAAAAAAAAAAAAAAAAAAAAAAAAAAAAAAAAAAAAAAAAAAAAAAAAAAAAAAAAAAAAAAAAAAAAAAAAAAAAAAAAAAAAAAAAAAAAAAAAAAAAAAAAAAAAAAAAAAAAAAAAAAAAAAAAAAAAAAAAAAAAAAAAAAAAAAAAAAAAAAAAAAAAAAAAAAAAAAAAAAAAAAAAAAAAAAAAAAAAAAAAAAAAAAAAAAAAAAAAAAAAAAAAAAAAAAAAAAAAAAAAAAAAAAAAAAAAAAAAAAAAAAAAAAAAAAAAAAAAAAAAAAAAAAAAAAAAAAAAAAAAAAAAAAAAAAAAAAAAAAAAAAAAAAAAAAAAAAAAAAAAAAAAAAAAAAAAAAAAAAAAAAAAAAAAAAAAAAAAAAAAAAAAAAAAAAAAAAAAAAAAAAAAAAAAAAAAAAAAAAAAAAAAAAAAAAAAAAAAAAAAAAAAAAAAAAAAAAAAAAAAAAAAAAAAAAAAAAAAAAAAAAAAAAAAAAAAAAAAAAAAAAAAAAAAAAAAAAAAAAAAAAAAAAAAAAAAAAAAAAAAAAAAAAAAAAAAAAAAAAAAAAAAAAAAAAAAAAAAAAAAAAAAAAAAAAAAAAAAAAAAAAAAAAAAAAAAAAAAAAAAAAAAAAAAAAAAAAAAAAAAAAAAAAAAAAAAAAAAAAAAAAAAAAAAAAAAAAAAAAAAAAAAAAAAAAAAAAAAAAAAAAAAAAAAAAAAAAAAAAAAAAAAAAAAAAAAAAAAAAAAAAAAAAAAAAAAAAAAAAAAAAAAAAAAAAAAAAAAAAAAAAAAAAAAAAAAAAAAAAAAAAAAAAAAAAAAAAAAAAAAAAAAAAAAAAAAAAAAAAAAAAAAAAAAAAAAAAAAAAAAAAAAAAAAAAAAAAAAAAAAAAAAAAAAAAAAAAAAAAAAAAAAAAAAAAAAAAAAAAAAAAAAAAAAAAAAAAAAAAAAAAAAAAAAAAAAAAAAAAAAAAAAAAAAAAAAAAAAAAAAAAAAAAAAAAAAAAAAAAAAAAAAAAAAAAAAAAAAAAAAAAAAAAAAAAAAAAAAAAAAAAAAAAAAAAAAAAAAAAAAAAAAAAAAAAAAAAAAAAAAAAAAAAAAAAAAAAAAAAAAAAAAAAAAAAAAAAAAAAAAAAAAAAAAAAAAAAAAAAAAAAAAAAAAAAAAAAAAAAAAAAAAAAAAAAAAAAAAAAAAAAAAAAAAAAAAAAAAAAAAAAAAAAAAAAAAAAAAAAAAAAAAAAAAAAAAAAAAAAAAAAAAAAAAAAAAAAAAAAAAAAAAAAAAAAAAAAAAAAAAAAAAAAAAAAAAAAAAAAAAAAAAAAAAAAAAAAAAAAAAAAAAAAAAAAAAAAAAAAAAAAAAAAAAAAAAAAAAAAAAAAAAAAAAAAAAAAAAAAAAAAAAAAAAAAAAAAAAAAAAAAAAAAAAAAAAAAAAAAAAAAAAAAAAAAAAAAAAAAAAAAAAAAAAAAAAAAAAAAAAAAAAAAAAAAAAAAAAAAAAAAAAAAAAAAAAAAAAAAAAAAAAAAAAAAAAAAAAAAAAAAAAAAAAAAAAAAAAAAAAAAAAAAAAAAAAAAAAAAAAAAAAAAAAAAAAAAAAAAAAAAAAAAAAAAAAAAAAAAAAAAAAAAAAAAAAAAAAAAAAAAAAAAAAAAAAAAAAAAAAAAAAAAAAAAAAAAAAAAAAAAAAAAAAAAAAAAAAAAAAAAAAAAAAAAAAAAAAAAAAAAAAAAAAAAAAAAAAAAAAAAAAAAAAAAAAAAAAAAAAAAAAAAAAAAAAAAAAAAAAAAAAAAAAAAAAAAAAAAAAAAAAAAAAAAAAAAAAAAAAAAAAAAAAAAAAAAAAAAAAAAAAAAAAAAAAAAAAAAAAAAAAAAAAAAAAAAAAAAAAAAAAAAAAAAAAAAAAAAAAAAAAAAAAAAAAAAAAAAAAAAAAAAAAAAAAAAAAAAAAAAAAAAAAAAAAAAAAAAAAAAAAAAAAAAAAAAAAAAAAAAAAAAAAAAAAAAAAAAAAAAAAAAAAAAAAAAAAAAAAAAAAAAAAAAAAAAAAAAAAAAAAAAAAAAAAAAAAAAAAAAAAAAAAAAAAAAAAAAAAAAAAAAAAAAAAAAAAAAAAAAAAAAAAAAAAAAAAAAAAAAAAAAAAAAAAAAAAAAAAAAAAAAAAAAAAAAAAAAAAAAAAAAAAAAAAAAAAAAAAAAAAAAAAAAAAAAAAAAAAAAAAAAAAAAAAAAAAAAAAAAAAAAAAAAAAAAAAAAAAAAAAAAAAAAAAAAAAAAAAAAAAAAAAAAAAAAAAAAAAAAAAAAAAAAAAAAAAAAAAAAAAAAAAAAAAAAAAAAAAAAAAAAAAAAAAAAAAAAAAAAAAAAAAAAAAAAAAAAAAAAAAAAAAAAAAAAAAAAAAAAAAAAAAAAAAAAAAAAAAAAAAAAAAAAAAAAAAAAAAAAAAAAAAAAAAAAAAAAAAAAAAAAAAAAAAAAAAAAAAAAAAAAAAAAAAAAAAAAAAAAAAAAAAAAAAAAAAAAAAAAAAAAAAAAAAAAAAAAAAAAAAAAAAAAAAAAAAAAAAAAAAAAAAAAAAAAAAAAAAAAAAAAAAAAAAAAAAAAAAAAAAAAAAAAAAAAAAAAAAAAAAAAAAAAAAAAAAAAAAAAAAAAAAAAAAAAAAAAAAAAAAAAAAAAAAAAAAAAAAAAAAAAAAAAAAAAAAAAAAAAAAAAAAAAAAAAAAAAAAAAAAAAAAAAAAAAAAAAAAAAAAAAAAAAAAAAAAAAAAAAAAAAAAAAAAAAAAAAAAAAAAAAAAAAAAAAAAAAAAAAAAAAAAAAAAAAAAAAAAAAAAAAAAAAAAAAAAAAAAAAAAAAAAAAAAAAAAAAAAAAAAAAAAAAAAAAAAAAAAAAAAAAAAAAAAAAAAAAAAAAAAAAAAAAAAAAAAAAAAAAAAAAAAAAAAAAAAAAAAAAAAAAAAAAAAAAAAAAAAAAAAAAAAAAAAAAAAAAAAAAAAAAAAAAAAAAAAAAAAAAAAAAAAAAAAAAAAAAAAAAAAAAAAAAAAAAAAAAAAAAAAAAAAAAAAAAAAAAAAAAAAAAAAAAAAAAAAAAAAAAAAAAAAAAAAAAAAAAAAAAAAAAAAAAAAAAAAAAAAAAAAAAAAAAAAAAAAAAAAAAAAAAAAAAAAAAAAAAAAAAAAAAAAAAAAAAAAAAAAAAAAAAAAAAAAAAAAAAAAAAAAAAAAAAAAAAAAAAAAAAAAAAAAAAAAAAAAAAAAAAAAAAAAAAAAAAAAAAAAAAAAAAAAAAAAAAAAAAAAAAAAAAAAAAAAAAAAAAAAAAAAAAAAAAAAAAAAAAAAAAAAAAAAAAAAAAAAAAAAAAAAAAAAAAAAAAAAAAAAAAAAAAAAAAAAAAAAAAAAAAAAAAAAAAAAAAAAAAAAAAAAAAAAAAAAAAAAAAAAAAAAAAAAAAAAAAAAAAAAAAAAAAAAAAAAAAAAAAAAAAAAAAAAAAAAAAAAAAAAAAAAAAAAAAAAAAAAAAAAAAAAAAAAAAAAAAAAAAAAAAAAAAAAAAAAAAAAAAAAAAAAAAAAAAAAAAAAAAAAAAAAAAAAAAAAAAAAAAAAAAAAAAAAAAAAAAAAAAAAAAAAAAAAAAAAAAAAAAAAAAAAAAAAAAAAAAAAAAAAAAAAAAAAAAAAAAAAAAAAAAAAAAAAAAAAAAAAAAAAAAAAAAAAAAAAAAAAAAAAAAAAAAAAAAAAAAAAAAAAAAAAAAAAAAAAAAAAAAAAAAAAAAAAAAAAAAAAAAAAAAAAAAAAAAAAAAAAAAAAAAAAAAAAAAAAAAAAAAAAAAAAAAAAAAAAAAAAAAAAAAAAAAAAAAAAAAAAAAAAAAAAAAAAAAAAAAAAAAAAAAAAAAAAAAAAAAAAAAAAAAAAAAAAAAAAAAAAAAAAAAAAAAAAAAAAAAAAAAAAAAAAAAAAAAAAAAAAAAAAAAAAAAAAAAAAAAAAAAAAAAAAAAAAAAAAAAAAAAAAAAAAAAAAAAAAAAAAAAAAAAAAAAAAAAAAAAAAAAAAAAAAAAAAAAAAAAAAAAAAAAAAAAAAAAAAAAAAAAAAAAAAAAAAAAAAAAAAAAAAAAAAAAAAAAAAAAAAAAAAAAAAAAAAAAAAAAAAAAAAAAAAAAAAAAAAAAAAAAAAAAAAAAAAAAAAAAAAAAAAAAAAAAAAAAAAAAAAAAAAAAAAAAAAAAAAAAAAAAAAAAAAAAAAAAAAAAAAAAAAAAAAAAAAAAAAAAAAAAAAAAAAAAAAAAAAAAAAAAAAAAAAAAAAAAAAAAAAAAAAAAAAAAAAAAAAAAAAAAAAAAAAAAAAAAAAAAAAAAAAAAAAAAAAAAAAAAAAAAAAAAAAAAAAAAAAAAAAAAAAAAAAAAAAAAAAAAAAAAAAAAAAAAAAAAAAAAAAAAAAAAAAAAAAAAAAAAAAAAAAAAAAAAAAAAAAAAAAAAAAAAAAAAAAAAAAAAAAAAAAAAAAAAAAAAAAAAAAAAAAAAAAAAAAAAAAAAAAAAAAAAAAAAAAAAAAAAAAAAAAAAAAAAAAAAAAAAAAAAAAAAAAAAAAAAAAAAAAAAAAAAAAAAAAAAAAAAAAAAAAAAAAAAAAAAAAAAAAAAAAAAAAAAAAAAAAAAAAAAAAAAAAAAAAAAAAAAAAAAAAAAAAAAAAAAAAAAAAAAAAAAAAAAAAAAAAAAAAAAAAAAAAAAAAAAAAAAAAAAAAAAAAAAAAAAAAAAAAAAAAAAAAAAAAAAAAAAAAAAAAAAAAAAAAAAAAAAAAAAAAAAAAAAAAAAAAAAAAAAAAAAAAAAAAAAAAAAAAAAAAAAAAAAAAAAAAAAAAAAAAAAAAAAAAAAAAAAAAAAAAAAAAAAAAAAAAAAAAAAAAAAAAAAAAAAAAAAAAAAAAAAAAAAAAAAAAAAAAAAAAAAAAAAAAAAAAAAAAAAAAAAAAAAAAAAAAAAAAAAAAAAAAAAAAAAAAAAAAAAAAAAAAAAAAAAAAAAAAAAAAAAAAAAAAAAAAAAAAAAAAAAAAAAAAAAAAAAAAAAAAAAAAAAAAAAAAAAAAAAAAAAAAAAAAAAAAAAAAAAAAAAAAAAAAAAAAAAAAAAAAAAAAAAAAAAAAAAAAAAAAAAAAAAAAAAAAAAAAAAAAAAAAAAAAAAAAAAAAAAAAAAAAAAAAAAAAAAAAAAAAAAAAAAAAAAAAAAAAAAAAAAAAAAAAAAAAAAAAAAAAAAAAAAAAAAAAAAAAAAAAAAAAAAAAAAAAAAAAAAAAAAAAAAAAAAAAAAAAAAAAAAAAAAAAAAAAAAAAAAAAAAAAAAAAAAAAAAAAAAAAAAAAAAAAAAAAAAAAAAAAAAAAAAAAAAAAAAAAAAAAAAAAAAAAAAAAAAAAAAAAAAAAAAAAAAAAAAAAAAAAAAAAAAAAAAAAAAAAAAAAAAAAAAAAAAAAAAAAAAAAAAAAAAAAAAAAAAAAAAAAAAAAAAAAAAAAAAAAAAAAAAAAAAAAAAAAAAAAAAAAAAAAAAAAAAAAAAAAAAAAAAAAAAAAAAAAAAAAAAAAAAAAAAAAAAAAAAAAAAAAAAAAAAAAAAAAAAAAAAAAAAAAAAAAAAAAAAAAAAAAAAAAAAAAAAAAAAAAAAAAAAAAAAAAAAAAAAAAAAAAAAAAAAAAAAAAAAAAAAAAAAAAAAAAAAAAAAAAAAAAAAAAAAAAAAAAAAAAAAAAAAAAAAAAAAAAAAAAAAAAAAAAAAAAAAAAAAAAAAAAAAAAAAAAAAAAAAAAAAAAAAAAAAAAAAAAAAAAAAAAAAAAAAAAAAAAAAAAAAAAAAAAAAAAAAAAAAAAAAAAAAAAAAAAAAAAAAAAAAAAAAAAAAAAAAAAAAAAAAAAAAAAAAAAAAAAAAAAAAAAAAAAAAAAAAAAAAAAAAAAAAAAAAAAAAAAAAAAAAAAAAAAAAAAAAAAAAAAAAAAAAAAAAAAAAAAAAAAAAAAAAAAAAAAAAAAAAAAAAAAAAAAAAAAAAAAAAAAAAAAAAAAAAAAAAAAAAAAAAAAAAAAAAAAAAAAAAAAAAAAAAAAAAAAAAAAAAAAAAAAAAAAAAAAAAAAAAAAAAAAAAAAAAAAAAAAAAAAAAAAAAAAAAAAAAAAAAAAAAAAAAAAAA=",
          "dtype": "f8"
         },
         "z": {
          "bdata": "AAAAAAAAAAAAAAAAAAAAAAAAAAAAAAAAAAAAAAAAAAAAAAAAAAAAAAAAAAAAAAAAAAAAAAAAAAAAAAAAAAAAAAAAAAAAAAAAAAAAAAAAAAAAAAAAAAAAAAAAAAAAAAAAAAAAAAAAAAAAAAAAAAAAAAAAAAAAAAAAAAAAAAAAAAAAAAAAAAAAAAAAAAAAAAAAAAAAAAAAAAAAAAAAAAAAAAAAAAAAAAAAAAAAAAAAAAAAAAAAAAAAAAAAAAAAAAAAAAAAAAAAAAAAAAAAAAAAAAAAAAAAAAAAAAAAAAAAAAAAAAAAAAAAAAAAAAAAAAAAAAAAAAAAAAAAAAAAAAAAAAAAAAAAAAAAAAAAAAAAAAAAAAAAAAAAAAAAAAAAAAAAAAAAAAAAAAAAAAAAAAAAAAAAAAAAAAAAAAAAAAAAAAAAAAAAAAAAAAAAAAAAAAAAAAAAAAAAAAAAAAAAAAAAAAAAAAAAAAAAAAAAAAAAAAAAAAAAAAAAAAAAAAAAAAAAAAAAAAAAAAAAAAAAAAAAAAAAAAAAAAAAAAAAAAAAAAAAAAAAAAAAAAAAAAAAAAAAAAAAAAAAAAAAAAAAAAAAAAAAAAAAAAAAAAAAAAAAAAAAAAAAAAAAAAAAAAAAAAAAAAAAAAAAAAAAAAAAAAAAAAAAAAAAAAAAAAAAAAAAAAAAAAAAAAAAAAAAAAAAAAAAAAAAAAAAAAAAAAAAAAAAAAAAAAAAAAAAAAAAAAAAAAAAAAAAAAAAAAAAAAAAAAAAAAAAAAAAAAAAAAAAAAAAAAAAAAAAAAAAAAAAAAAAAAAAAAAAAAAAAAAAAAAAAAAAAAAAAAAAAAAAAAAAAAAAAAAAAAAAAAAAAAAAAAAAAAAAAAAAAAAAAAAAAAAAAAAAAAAAAAAAAAAAAAAAAAAAAAAAAAAAAAAAAAAAAAAAAAAAAAAAAAAAAAAAAAAAAAAAAAAAAAAAAAAAAAAAAAAAAAAAAAAAAAAAAAAAAAAAAAAAAAAAAAAAAAAAAAAAAAAAAAAAAAAAAAAAAAAAAAAAAAAAAAAAAAAAAAAAAAAAAAAAAAAAAAAAAAAAAAAAAAAAAAAAAAAAAAAAAAAAAAAAAAAAAAAAAAAAAAAAAAAAAAAAAAAAAAAAAAAAAAAAAAAAAAAAAAAAAAAAAAAAAAAAAAAAAAAAAAAAAAAAAAAAAAAAAAAAAAAAAAAAAAAAAAAAAAAAAAAAAAAAAAAAAAAAAAAAAAAAAAAAAAAAAAAAAAAAAAAAAAAAAAAAAAAAAAAAAAAAAAAAAAAAAAAAAAAAAAAAAAAAAAAAAAAAAAAAAAAAAAAAAAAAAAAAAAAAAAAAAAAAAAAAAAAAAAAAAAAAAAAAAAAAAAAAAAAAAAAAAAAAAAAAAAAAAAAAAAAAAAAAAAAAAAAAAAAAAAAAAAAAAAAAAAAAAAAAAAAAAAAAAAAAAAAAAAAAAAAAAAAAAAAAAAAAAAAAAAAAAAAAAAAAAAAAAAAAAAAAAAAAAAAAAAAAAAAAAAAAAAAAAAAAAAAAAAAAAAAAAAAAAAAAAAAAAAAAAAAAAAAAAAAAAAAAAAAAAAAAAAAAAAAAAAAAAAAAAAAAAAAAAAAAAAAAAAAAAAAAAAAAAAAAAAAAAAAAAAAAAAAAAAAAAAAAAAAAAAAAAAAAAAAAAAAAAAAAAAAAAAAAAAAAAAAAAAAAAAAAAAAAAAAAAAAAAAAAAAAAAAAAAAAAAAAAAAAAAAAAAAAAAAAAAAAAAAAAAAAAAAAAAAAAAAAAAAAAAAAAAAAAAAAAAAAAAAAAAAAAAAAAAAAAAAAAAAAAAAAAAAAAAAAAAAAAAAAAAAAAAAAAAAAAAAAAAAAAAAAAAAAAAAAAAAAAAAAAAAAAAAAAAAAAAAAAAAAAAAAAAAAAAAAAAAAAAAAAAAAAAAAAAAAAAAAAAAAAAAAAAAAAAAAAAAAAAAAAAAAAAAAAAAAAAAAAAAAAAAAAAAAAAAAAAAAAAAAAAAAAAAAAAAAAAAAAAAAAAAAAAAAAAAAAAAAAAAAAAAAAAAAAAAAAAAAAAAAAAAAAAAAAAAAAAAAAAAAAAAAAAAAAAAAAAAAAAAAAAAAAAAAAAAAAAAAAAAAAAAAAAAAAAAAAAAAAAAAAAAAAAAAAAAAAAAAAAAAAAAAAAAAAAAAAAAAAAAAAAAAAAAAAAAAAAAAAAAAAAAAAAAAAAAAAAAAAAAAAAAAAAAAAAAAAAAAAAAAAAAAAAAAAAAAAAAAAAAAAAAAAAAAAAAAAAAAAAAAAAAAAAAAAAAAAAAAAAAAAAAAAAAAAAAAAAAAAAAAAAAAAAAAAAAAAAAAAAAAAAAAAAAAAAAAAAAAAAAAAAAAAAAAAAAAAAAAAAAAAAAAAAAAAAAAAAAAAAAAAAAAAAAAAAAAAAAAAAAAAAAAAAAAAAAAAAAAAAAAAAAAAAAAAAAAAAAAAAAAAAAAAAAAAAAAAAAAAAAAAAAAAAAAAAAAAAAAAAAAAAAAAAAAAAAAAAAAAAAAAAAAAAAAAAAAAAAAAAAAAAAAAAAAAAAAAAAAAAAAAAAAAAAAAAAAAAAAAAAAAAAAAAAAAAAAAAAAAAAAAAAAAAAAAAAAAAAAAAAAAAAAAAAAAAAAAAAAAAAAAAAAAAAAAAAAAAAAAAAAAAAAAAAAAAAAAAAAAAAAAAAAAAAAAAAAAAAAAAAAAAAAAAAAAAAAAAAAAAAAAAAAAAAAAAAAAAAAAAAAAAAAAAAAAAAAAAAAAAAAAAAAAAAAAAAAAAAAAAAAAAAAAAAAAAAAAAAAAAAAAAAAAAAAAAAAAAAAAAAAAAAAAAAAAAAAAAAAAAAAAAAAAAAAAAAAAAAAAAAAAAAAAAAAAAAAAAAAAAAAAAAAAAAAAAAAAAAAAAAAAAAAAAAAAAAAAAAAAAAAAAAAAAAAAAAAAAAAAAAAAAAAAAAAAAAAAAAAAAAAAAAAAAAAAAAAAAAAAAAAAAAAAAAAAAAAAAAAAAAAAAAAAAAAAAAAAAAAAAAAAAAAAAAAAAAAAAAAAAAAAAAAAAAAAAAAAAAAAAAAAAAAAAAAAAAAAAAAAAAAAAAAAAAAAAAAAAAAAAAAAAAAAAAAAAAAAAAAAAAAAAAAAAAAAAAAAAAAAAAAAAAAAAAAAAAAAAAAAAAAAAAAAAAAAAAAAAAAAAAAAAAAAAAAAAAAAAAAAAAAAAAAAAAAAAAAAAAAAAAAAAAAAAAAAAAAAAAAAAAAAAAAAAAAAAAAAAAAAAAAAAAAAAAAAAAAAAAAAAAAAAAAAAAAAAAAAAAAAAAAAAAAAAAAAAAAAAAAAAAAAAAAAAAAAAAAAAAAAAAAAAAAAAAAAAAAAAAAAAAAAAAAAAAAAAAAAAAAAAAAAAAAAAAAAAAAAAAAAAAAAAAAAAAAAAAAAAAAAAAAAAAAAAAAAAAAAAAAAAAAAAAAAAAAAAAAAAAAAAAAAAAAAAAAAAAAAAAAAAAAAAAAAAAAAAAAAAAAAAAAAAAAAAAAAAAAAAAAAAAAAAAAAAAAAAAAAAAAAAAAAAAAAAAAAAAAAAAAAAAAAAAAAAAAAAAAAAAAAAAAAAAAAAAAAAAAAAAAAAAAAAAAAAAAAAAAAAAAAAAAAAAAAAAAAAAAAAAAAAAAAAAAAAAAAAAAAAAAAAAAAAAAAAAAAAAAAAAAAAAAAAAAAAAAAAAAAAAAAAAAAAAAAAAAAAAAAAAAAAAAAAAAAAAAAAAAAAAAAAAAAAAAAAAAAAAAAAAAAAAAAAAAAAAAAAAAAAAAAAAAAAAAAAAAAAAAAAAAAAAAAAAAAAAAAAAAAAAAAAAAAAAAAAAAAAAAAAAAAAAAAAAAAAAAAAAAAAAAAAAAAAAAAAAAAAAAAAAAAAAAAAAAAAAAAAAAAAAAAAAAAAAAAAAAAAAAAAAAAAAAAAAAAAAAAAAAAAAAAAAAAAAAAAAAAAAAAAAAAAAAAAAAAAAAAAAAAAAAAAAAAAAAAAAAAAAAAAAAAAAAAAAAAAAAAAAAAAAAAAAAAAAAAAAAAAAAAAAAAAAAAAAAAAAAAAAAAAAAAAAAAAAAAAAAAAAAAAAAAAAAAAAAAAAAAAAAAAAAAAAAAAAAAAAAAAAAAAAAAAAAAAAAAAAAAAAAAAAAAAAAAAAAAAAAAAAAAAAAAAAAAAAAAAAAAAAAAAAAAAAAAAAAAAAAAAAAAAAAAAAAAAAAAAAAAAAAAAAAAAAAAAAAAAAAAAAAAAAAAAAAAAAAAAAAAAAAAAAAAAAAAAAAAAAAAAAAAAAAAAAAAAAAAAAAAAAAAAAAAAAAAAAAAAAAAAAAAAAAAAAAAAAAAAAAAAAAAAAAAAAAAAAAAAAAAAAAAAAAAAAAAAAAAAAAAAAAAAAAAAAAAAAAAAAAAAAAAAAAAAAAAAAAAAAAAAAAAAAAAAAAAAAAAAAAAAAAAAAAAAAAAAAAAAAAAAAAAAAAAAAAAAAAAAAAAAAAAAAAAAAAAAAAAAAAAAAAAAAAAAAAAAAAAAAAAAAAAAAAAAAAAAAAAAAAAAAAAAAAAAAAAAAAAAAAAAAAAAAAAAAAAAAAAAAAAAAAAAAAAAAAAAAAAAAAAAAAAAAAAAAAAAAAAAAAAAAAAAAAAAAAAAAAAAAAAAAAAAAAAAAAAAAAAAAAAAAAAAAAAAAAAAAAAAAAAAAAAAAAAAAAAAAAAAAAAAAAAAAAAAAAAAAAAAAAAAAAAAAAAAAAAAAAAAAAAAAAAAAAAAAAAAAAAAAAAAAAAAAAAAAAAAAAAAAAAAAAAAAAAAAAAAAAAAAAAAAAAAAAAAAAAAAAAAAAAAAAAAAAAAAAAAAAAAAAAAAAAAAAAAAAAAAAAAAAAAAAAAAAAAAAAAAAAAAAAAAAAAAAAAAAAAAAAAAAAAAAAAAAAAAAAAAAAAAAAAAAAAAAAAAAAAAAAAAAAAAAAAAAAAAAAAAAAAAAAAAAAAAAAAAAAAAAAAAAAAAAAAAAAAAAAAAAAAAAAAAAAAAAAAAAAAAAAAAAAAAAAAAAAAAAAAAAAAAAAAAAAAAAAAAAAAAAAAAAAAAAAAAAAAAAAAAAAAAAAAAAAAAAAAAAAAAAAAAAAAAAAAAAAAAAAAAAAAAAAAAAAAAAAAAAAAAAAAAAAAAAAAAAAAAAAAAAAAAAAAAAAAAAAAAAAAAAAAAAAAAAAAAAAAAAAAAAAAAAAAAAAAAAAAAAAAAAAAAAAAAAAAAAAAAAAAAAAAAAAAAAAAAAAAAAAAAAAAAAAAAAAAAAAAAAAAAAAAAAAAAAAAAAAAAAAAAAAAAAAAAAAAAAAAAAAAAAAAAAAAAAAAAAAAAAAAAAAAAAAAAAAAAAAAAAAAAAAAAAAAAAAAAAAAAAAAAAAAAAAAAAAAAAAAAAAAAAAAAAAAAAAAAAAAAAAAAAAAAAAAAAAAAAAAAAAAAAAAAAAAAAAAAAAAAAAAAAAAAAAAAAAAAAAAAAAAAAAAAAAAAAAAAAAAAAAAAAAAAAAAAAAAAAAAAAAAAAAAAAAAAAAAAAAAAAAAAAAAAAAAAAAAAAAAAAAAAAAAAAAAAAAAAAAAAAAAAAAAAAAAAAAAAAAAAAAAAAAAAAAAAAAAAAAAAAAAAAAAAAAAAAAAAAAAAAAAAAAAAAAAAAAAAAAAAAAAAAAAAAAAAAAAAAAAAAAAAAAAAAAAAAAAAAAAAAAAAAAAAAAAAAAAAAAAAAAAAAAAAAAAAAAAAAAAAAAAAAAAAAAAAAAAAAAAAAAAAAAAAAAAAAAAAAAAAAAAAAAAAAAAAAAAAAAAAAAAAAAAAAAAAAAAAAAAAAAAAAAAAAAAAAAAAAAAAAAAAAAAAAAAAAAAAAAAAAAAAAAAAAAAAAAAAAAAAAAAAAAAAAAAAAAAAAAAAAAAAAAAAAAAAAAAAAAAAAAAAAAAAAAAAAAAAAAAAAAAAAAAAAAAAAAAAAAAAAAAAAAAAAAAAAAAAAAAAAAAAAAAAAAAAAAAAAAAAAAAAAAAAAAAAAAAAAAAAAAAAAAAAAAAAAAAAAAAAAAAAAAAAAAAAAAAAAAAAAAAAAAAAAAAAAAAAAAAAAAAAAAAAAAAAAAAAAAAAAAAAAAAAAAAAAAAAAAAAAAAAAAAAAAAAAAAAAAAAAAAAAAAAAAAAAAAAAAAAAAAAAAAAAAAAAAAAAAAAAAAAAAAAAAAAAAAAAAAAAAAAAAAAAAAAAAAAAAAAAAAAAAAAAAAAAAAAAAAAAAAAAAAAAAAAAAAAAAAAAAAAAAAAAAAAAAAAAAAAAAAAAAAAAAAAAAAAAAAAAAAAAAAAAAAAAAAAAAAAAAAAAAAAAAAAAAAAAAAAAAAAAAAAAAAAAAAAAAAAAAAAAAAAAAAAAAAAAAAAAAAAAAAAAAAAAAAAAAAAAAAAAAAAAAAAAAAAAAAAAAAAAAAAAAAAAAAAAAAAAAAAAAAAAAAAAAAAAAAAAAAAAAAAAAAAAAAAAAAAAAAAAAAAAAAAAAAAAAAAAAAAAAAAAAAAAAAAAAAAAAAAAAAAAAAAAAAAAAAAAAAAAAAAAAAAAAAAAAAAAAAAAAAAAAAAAAAAAAAAAAAAAAAAAAAAAAAAAAAAAAAAAAAAAAAAAAAAAAAAAAAAAAAAAAAAAAAAAAAAAAAAAAAAAAAAAAAAAAAAAAAAAAAAAAAAAAAAAAAAAAAAAAAAAAAAAAAAAAAAAAAAAAAAAAAAAAAAAAAAAAAAAAAAAAAAAAAAAAAAAAAAAAAAAAAAAAAAAAAAAAAAAAAAAAAAAAAAAAAAAAAAAAAAAAAAAAAAAAAAAAAAAAAAAAAAAAAAAAAAAAAAAAAAAAAAAAAAAAAAAAAAAAAAAAAAAAAAAAAAAAAAAAAAAAAAAAAAAAAAAAAAAAAAAAAAAAAAAAAAAAAAAAAAAAAAAAAAAAAAAAAAAAAAAAAAAAAAAAAAAAAAAAAAAAAAAAAAAAAAAAAAAAAAAAAAAAAAAAAAAAAAAAAAAAAAAAAAAAAAAAAAAAAAAAAAAAAAAAAAAAAAAAAAAAAAAAAAAAAAAAAAAAAAAAAAAAAAAAAAAAAAAAAAAAAAAAAAAAAAAAAAAAAAAAAAAAAAAAAAAAAAAAAAAAAAAAAAAAAAAAAAAAAAAAAAAAAAAAAAAAAAAAAAAAAAAAAAAAAAAAAAAAAAAAAAAAAAAAAAAAAAAAAAAAAAAAAAAAAAAAAAAAAAAAAAAAAAAAAAAAAAAAAAAAAAAAAAAAAAAAAAAAAAAAAAAAAAAAAAAAAAAAAAAAAAAAAAAAAAAAAAAAAAAAAAAAAAAAAAAAAAAAAAAAAAAAAAAAAAAAAAAAAAAAAAAAAAAAAAAAAAAAAAAAAAAAAAAAAAAAAAAAAAAAAAAAAAAAAAAAAAAAAAAAAAAAAAAAAAAAAAAAAAAAAAAAAAAAAAAAAAAAAAAAAAAAAAAAAAAAAAAAAAAAAAAAAAAAAAAAAAAAAAAAAAAAAAAAAAAAAAAAAAAAAAAAAAAAAAAAAAAAAAAAAAAAAAAAAAAAAAAAAAAAAAAAAAAAAAAAAAAAAAAAAAAAAAAAAAAAAAAAAAAAAAAAAAAAAAAAAAAAAAAAAAAAAAAAAAAAAAAAAAAAAAAAAAAAAAAAAAAAAAAAAAAAAAAAAAAAAAAAAAAAAAAAAAAAAAAAAAAAAAAAAAAAAAAAAAAAAAAAAAAAAAAAAAAAAAAAAAAAAAAAAAAAAAAAAAAAAAAAAAAAAAAAAAAAAAAAAAAAAAAAAAAAAAAAAAAAAAAAAAAAAAAAAAAAAAAAAAAAAAAAAAAAAAAAAAAAAAAAAAAAAAAAAAAAAAAAAAAAAAAAAAAAAAAAAAAAAAAAAAAAAAAAAAAAAAAAAAAAAAAAAAAAAAAAAAAAAAAAAAAAAAAAAAAAAAAAAAAAAAAAAAAAAAAAAAAAAAAAAAAAAAAAAAAAAAAAAAAAAAAAAAAAAAAAAAAAAAAAAAAAAAAAAAAAAAAAAAAAAAAAAAAAAAAAAAAAAAAAAAAAAAAAAAAAAAAAAAAAAAAAAAAAAAAAAAAAAAAAAAAAAAAAAAAAAAAAAAAAAAAAAAAAAAAAAAAAAAAAAAAAAAAAAAAAAAAAAAAAAAAAAAAAAAAAAAAAAAAAAAAAAAAAAAAAAAAAAAAAAAAAAAAAAAAAAAAAAAAAAAAAAAAAAAAAAAAAAAAAAAAAAAAAAAAAAAAAAAAAAAAAAAAAAAAAAAAAAAAAAAAAAAAAAAAAAAAAAAAAAAAAAAAAAAAAAAAAAAAAAAAAAAAAAAAAAAAAAAAAAAAAAAAAAAAAAAAAAAAAAAAAAAAAAAAAAAAAAAAAAAAAAAAAAAAAAAAAAAAAAAAAAAAAAAAAAAAAAAAAAAAAAAAAAAAAAAAAAAAAAAAAAAAAAAAAAAAAAAAAAAAAAAAAAAAAAAAAAAAAAAAAAAAAAAAAAAAAAAAAAAAAAAAAAAAAAAAAAAAAAAAAAAAAAAAAAAAAAAAAAAAAAAAAAAAAAAAAAAAAAAAAAAAAAAAAAAAAAAAAAAAAAAAAAAAAAAAAAAAAAAAAAAAAAAAAAAAAAAAAAAAAAAAAAAAAAAAAAAAAAAAAAAAAAAAAAAAAAAAAAAAAAAAAAAAAAAAAAAAAAAAAAAAAAAAAAAAAAAAAAAAAAAAAAAAAAAAAAAAAAAAAAAAAAAAAAAAAAAAAAAAAAAAAAAAAAAAAAAAAAAAAAAAAAAAAAAAAAAAAAAAAAAAAAAAAAAAAAAAAAAAAAAAAAAAAAAAAAAAAAAAAAAAAAAAAAAAAAAAAAAAAAAAAAAAAAAAAAAAAAAAAAAAAAAAAAAAAAAAAAAAAAAAAAAAAAAAAAAAAAAAAAAAAAAAAAAAAAAAAAAAAAAAAAAAAAAAAAAAAAAAAAAAAAAAAAAAAAAAAAAAAAAAAAAAAAAAAAAAAAAAAAAAAAAAAAAAAAAAAAAAAAAAAAAAAAAAAAAAAAAAAAAAAAAAAAAAAAAAAAAAAAAAAAAAAAAAAAAAAAAAAAAAAAAAAAAAAAAAAAAAAAAAAAAAAAAAAAAAAAAAAAAAAAAAAAAAAAAAAAAAAAAAAAAAAAAAAAAAAAAAAAAAAAAAAAAAAAAAAAAAAAAAAAAAAAAAAAAAAAAAAAAAAAAAAAAAAAAAAAAAAAAAAAAAAAAAAAAAAAAAAAAAAAAAAAAAAAAAAAAAAAAAAAAAAAAAAAAAAAAAAAAAAAAAAAAAAAAAAAAAAAAAAAAAAAAAAAAAAAAAAAAAAAAAAAAAAAAAAAAAAAAAAAAAAAAAAAAAAAAAAAAAAAAAAAAAAAAAAAAAAAAAAAAAAAAAAAAAAAAAAAAAAAAAAAAAAAAAAAAAAAAAAAAAAAAAAAAAAAAAAAAAAAAAAAAAAAAAAAAAAAAAAAAAAAAAAAAAAAAAAAAAAAAAAAAAAAAAAAAAAAAAAAAAAAAAAAAAAAAAAAAAAAAAAAAAAAAAAAAAAAAAAAAAAAAAAAAAAAAAAAAAAAAAAAAAAAAAAAAAAAAAAAAAAAAAAAAAAAAAAAAAAAAAAAAAAAAAAAAAAAAAAAAAAAAAAAAAAAAAAAAAAAAAAAAAAAAAAAAAAAAAAAAAAAAAAAAAAAAAAAAAAAAAAAAAAAAAAAAAAAAAAAAAAAAAAAAAAAAAAAAAAAAAAAAAAAAAAAAAAAAAAAAAAAAAAAAAAAAAAAAAAAAAAAAAAAAAAAAAAAAAAAAAAAAAAAAAAAAAAAAAAAAAAAAAAAAAAAAAAAAAAAAAAAAAAAAAAAAAAAAAAAAAAAAAAAAAAAAAAAAAAAAAAAAAAAAAAAAAAAAAAAAAAAAAAAAAAAAAAAAAAAAAAAAAAAAAAAAAAAAAAAAAAAAAAAAAAAAAAAAAAAAAAAAAAAAAAAAAAAAAAAAAAAAAAAAAAAAAAAAAAAAAAAAAAAAAAAAAAAAAAAAAAAAAAAAAAAAAAAAAAAAAAAAAAAAAAAAAAAAAAAAAAAAAAAAAAAAAAAAAAAAAAAAAAAAAAAAAAAAAAAAAAAAAAAAAAAAAAAAAAAAAAAAAAAAAAAAAAAAAAAAAAAAAAAAAAAAAAAAAAAAAAAAAAAAAAAAAAAAAAAAAAAAAAAAAAAAAAAAAAAAAAAAAAAAAAAAAAAAAAAAAAAAAAAAAAAAAAAAAAAAAAAAAAAAAAAAAAAAAAAAAAAAAAAAAAAAAAAAAAAAAAAAAAAAAAAAAAAAAAAAAAAAAAAAAAAAAAAAAAAAAAAAAAAAAAAAAAAAAAAAAAAAAAAAAAAAAAAAAAAAAAAAAAAAAAAAAAAAAAAAAAAAAAAAAAAAAAAAAAAAAAAAAAAAAAAAAAAAAAAAAAAAAAAAAAAAAAAAAAAAAAAAAAAAAAAAAAAAAAAAAAAAAAAAAAAAAAAAAAAAAAAAAAAAAAAAAAAAAAAAAAAAAAAAAAAAAAAAAAAAAAAAAAAAAAAAAAAAAAAAAAAAAAAAAAAAAAAAAAAAAAAAAAAAAAAAAAAAAAAAAAAAAAAAAAAAAAAAAAAAAAAAAAAAAAAAAAAAAAAAAAAAAAAAAAAAAAAAAAAAAAAAAAAAAAAAAAAAAAAAAAAAAAAAAAAAAAAAAAAAAAAAAAAAAAAAAAAAAAAAAAAAAAAAAAAAAAAAAAAAAAAAAAAAAAAAAAAAAAAAAAAAAAAAAAAAAAAAAAAAAAAAAAAAAAAAA=",
          "dtype": "f8"
         }
        },
        {
         "marker": {
          "size": 3
         },
         "mode": "markers",
         "name": "Initial Condition",
         "type": "scatter3d",
         "x": {
          "bdata": "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",
          "dtype": "f8"
         },
         "y": {
          "bdata": "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",
          "dtype": "f8"
         },
         "z": {
          "bdata": "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",
          "dtype": "f8"
         }
        }
       ],
       "layout": {
        "autosize": true,
        "scene": {
         "xaxis": {
          "title": {
           "text": "t"
          }
         },
         "yaxis": {
          "title": {
           "text": "s"
          }
         },
         "zaxis": {
          "title": {
           "text": "V"
          }
         }
        },
        "template": {
         "data": {
          "bar": [
           {
            "error_x": {
             "color": "#2a3f5f"
            },
            "error_y": {
             "color": "#2a3f5f"
            },
            "marker": {
             "line": {
              "color": "#E5ECF6",
              "width": 0.5
             },
             "pattern": {
              "fillmode": "overlay",
              "size": 10,
              "solidity": 0.2
             }
            },
            "type": "bar"
           }
          ],
          "barpolar": [
           {
            "marker": {
             "line": {
              "color": "#E5ECF6",
              "width": 0.5
             },
             "pattern": {
              "fillmode": "overlay",
              "size": 10,
              "solidity": 0.2
             }
            },
            "type": "barpolar"
           }
          ],
          "carpet": [
           {
            "aaxis": {
             "endlinecolor": "#2a3f5f",
             "gridcolor": "white",
             "linecolor": "white",
             "minorgridcolor": "white",
             "startlinecolor": "#2a3f5f"
            },
            "baxis": {
             "endlinecolor": "#2a3f5f",
             "gridcolor": "white",
             "linecolor": "white",
             "minorgridcolor": "white",
             "startlinecolor": "#2a3f5f"
            },
            "type": "carpet"
           }
          ],
          "choropleth": [
           {
            "colorbar": {
             "outlinewidth": 0,
             "ticks": ""
            },
            "type": "choropleth"
           }
          ],
          "contour": [
           {
            "colorbar": {
             "outlinewidth": 0,
             "ticks": ""
            },
            "colorscale": [
             [
              0,
              "#0d0887"
             ],
             [
              0.1111111111111111,
              "#46039f"
             ],
             [
              0.2222222222222222,
              "#7201a8"
             ],
             [
              0.3333333333333333,
              "#9c179e"
             ],
             [
              0.4444444444444444,
              "#bd3786"
             ],
             [
              0.5555555555555556,
              "#d8576b"
             ],
             [
              0.6666666666666666,
              "#ed7953"
             ],
             [
              0.7777777777777778,
              "#fb9f3a"
             ],
             [
              0.8888888888888888,
              "#fdca26"
             ],
             [
              1,
              "#f0f921"
             ]
            ],
            "type": "contour"
           }
          ],
          "contourcarpet": [
           {
            "colorbar": {
             "outlinewidth": 0,
             "ticks": ""
            },
            "type": "contourcarpet"
           }
          ],
          "heatmap": [
           {
            "colorbar": {
             "outlinewidth": 0,
             "ticks": ""
            },
            "colorscale": [
             [
              0,
              "#0d0887"
             ],
             [
              0.1111111111111111,
              "#46039f"
             ],
             [
              0.2222222222222222,
              "#7201a8"
             ],
             [
              0.3333333333333333,
              "#9c179e"
             ],
             [
              0.4444444444444444,
              "#bd3786"
             ],
             [
              0.5555555555555556,
              "#d8576b"
             ],
             [
              0.6666666666666666,
              "#ed7953"
             ],
             [
              0.7777777777777778,
              "#fb9f3a"
             ],
             [
              0.8888888888888888,
              "#fdca26"
             ],
             [
              1,
              "#f0f921"
             ]
            ],
            "type": "heatmap"
           }
          ],
          "histogram": [
           {
            "marker": {
             "pattern": {
              "fillmode": "overlay",
              "size": 10,
              "solidity": 0.2
             }
            },
            "type": "histogram"
           }
          ],
          "histogram2d": [
           {
            "colorbar": {
             "outlinewidth": 0,
             "ticks": ""
            },
            "colorscale": [
             [
              0,
              "#0d0887"
             ],
             [
              0.1111111111111111,
              "#46039f"
             ],
             [
              0.2222222222222222,
              "#7201a8"
             ],
             [
              0.3333333333333333,
              "#9c179e"
             ],
             [
              0.4444444444444444,
              "#bd3786"
             ],
             [
              0.5555555555555556,
              "#d8576b"
             ],
             [
              0.6666666666666666,
              "#ed7953"
             ],
             [
              0.7777777777777778,
              "#fb9f3a"
             ],
             [
              0.8888888888888888,
              "#fdca26"
             ],
             [
              1,
              "#f0f921"
             ]
            ],
            "type": "histogram2d"
           }
          ],
          "histogram2dcontour": [
           {
            "colorbar": {
             "outlinewidth": 0,
             "ticks": ""
            },
            "colorscale": [
             [
              0,
              "#0d0887"
             ],
             [
              0.1111111111111111,
              "#46039f"
             ],
             [
              0.2222222222222222,
              "#7201a8"
             ],
             [
              0.3333333333333333,
              "#9c179e"
             ],
             [
              0.4444444444444444,
              "#bd3786"
             ],
             [
              0.5555555555555556,
              "#d8576b"
             ],
             [
              0.6666666666666666,
              "#ed7953"
             ],
             [
              0.7777777777777778,
              "#fb9f3a"
             ],
             [
              0.8888888888888888,
              "#fdca26"
             ],
             [
              1,
              "#f0f921"
             ]
            ],
            "type": "histogram2dcontour"
           }
          ],
          "mesh3d": [
           {
            "colorbar": {
             "outlinewidth": 0,
             "ticks": ""
            },
            "type": "mesh3d"
           }
          ],
          "parcoords": [
           {
            "line": {
             "colorbar": {
              "outlinewidth": 0,
              "ticks": ""
             }
            },
            "type": "parcoords"
           }
          ],
          "pie": [
           {
            "automargin": true,
            "type": "pie"
           }
          ],
          "scatter": [
           {
            "fillpattern": {
             "fillmode": "overlay",
             "size": 10,
             "solidity": 0.2
            },
            "type": "scatter"
           }
          ],
          "scatter3d": [
           {
            "line": {
             "colorbar": {
              "outlinewidth": 0,
              "ticks": ""
             }
            },
            "marker": {
             "colorbar": {
              "outlinewidth": 0,
              "ticks": ""
             }
            },
            "type": "scatter3d"
           }
          ],
          "scattercarpet": [
           {
            "marker": {
             "colorbar": {
              "outlinewidth": 0,
              "ticks": ""
             }
            },
            "type": "scattercarpet"
           }
          ],
          "scattergeo": [
           {
            "marker": {
             "colorbar": {
              "outlinewidth": 0,
              "ticks": ""
             }
            },
            "type": "scattergeo"
           }
          ],
          "scattergl": [
           {
            "marker": {
             "colorbar": {
              "outlinewidth": 0,
              "ticks": ""
             }
            },
            "type": "scattergl"
           }
          ],
          "scattermap": [
           {
            "marker": {
             "colorbar": {
              "outlinewidth": 0,
              "ticks": ""
             }
            },
            "type": "scattermap"
           }
          ],
          "scattermapbox": [
           {
            "marker": {
             "colorbar": {
              "outlinewidth": 0,
              "ticks": ""
             }
            },
            "type": "scattermapbox"
           }
          ],
          "scatterpolar": [
           {
            "marker": {
             "colorbar": {
              "outlinewidth": 0,
              "ticks": ""
             }
            },
            "type": "scatterpolar"
           }
          ],
          "scatterpolargl": [
           {
            "marker": {
             "colorbar": {
              "outlinewidth": 0,
              "ticks": ""
             }
            },
            "type": "scatterpolargl"
           }
          ],
          "scatterternary": [
           {
            "marker": {
             "colorbar": {
              "outlinewidth": 0,
              "ticks": ""
             }
            },
            "type": "scatterternary"
           }
          ],
          "surface": [
           {
            "colorbar": {
             "outlinewidth": 0,
             "ticks": ""
            },
            "colorscale": [
             [
              0,
              "#0d0887"
             ],
             [
              0.1111111111111111,
              "#46039f"
             ],
             [
              0.2222222222222222,
              "#7201a8"
             ],
             [
              0.3333333333333333,
              "#9c179e"
             ],
             [
              0.4444444444444444,
              "#bd3786"
             ],
             [
              0.5555555555555556,
              "#d8576b"
             ],
             [
              0.6666666666666666,
              "#ed7953"
             ],
             [
              0.7777777777777778,
              "#fb9f3a"
             ],
             [
              0.8888888888888888,
              "#fdca26"
             ],
             [
              1,
              "#f0f921"
             ]
            ],
            "type": "surface"
           }
          ],
          "table": [
           {
            "cells": {
             "fill": {
              "color": "#EBF0F8"
             },
             "line": {
              "color": "white"
             }
            },
            "header": {
             "fill": {
              "color": "#C8D4E3"
             },
             "line": {
              "color": "white"
             }
            },
            "type": "table"
           }
          ]
         },
         "layout": {
          "annotationdefaults": {
           "arrowcolor": "#2a3f5f",
           "arrowhead": 0,
           "arrowwidth": 1
          },
          "autotypenumbers": "strict",
          "coloraxis": {
           "colorbar": {
            "outlinewidth": 0,
            "ticks": ""
           }
          },
          "colorscale": {
           "diverging": [
            [
             0,
             "#8e0152"
            ],
            [
             0.1,
             "#c51b7d"
            ],
            [
             0.2,
             "#de77ae"
            ],
            [
             0.3,
             "#f1b6da"
            ],
            [
             0.4,
             "#fde0ef"
            ],
            [
             0.5,
             "#f7f7f7"
            ],
            [
             0.6,
             "#e6f5d0"
            ],
            [
             0.7,
             "#b8e186"
            ],
            [
             0.8,
             "#7fbc41"
            ],
            [
             0.9,
             "#4d9221"
            ],
            [
             1,
             "#276419"
            ]
           ],
           "sequential": [
            [
             0,
             "#0d0887"
            ],
            [
             0.1111111111111111,
             "#46039f"
            ],
            [
             0.2222222222222222,
             "#7201a8"
            ],
            [
             0.3333333333333333,
             "#9c179e"
            ],
            [
             0.4444444444444444,
             "#bd3786"
            ],
            [
             0.5555555555555556,
             "#d8576b"
            ],
            [
             0.6666666666666666,
             "#ed7953"
            ],
            [
             0.7777777777777778,
             "#fb9f3a"
            ],
            [
             0.8888888888888888,
             "#fdca26"
            ],
            [
             1,
             "#f0f921"
            ]
           ],
           "sequentialminus": [
            [
             0,
             "#0d0887"
            ],
            [
             0.1111111111111111,
             "#46039f"
            ],
            [
             0.2222222222222222,
             "#7201a8"
            ],
            [
             0.3333333333333333,
             "#9c179e"
            ],
            [
             0.4444444444444444,
             "#bd3786"
            ],
            [
             0.5555555555555556,
             "#d8576b"
            ],
            [
             0.6666666666666666,
             "#ed7953"
            ],
            [
             0.7777777777777778,
             "#fb9f3a"
            ],
            [
             0.8888888888888888,
             "#fdca26"
            ],
            [
             1,
             "#f0f921"
            ]
           ]
          },
          "colorway": [
           "#636efa",
           "#EF553B",
           "#00cc96",
           "#ab63fa",
           "#FFA15A",
           "#19d3f3",
           "#FF6692",
           "#B6E880",
           "#FF97FF",
           "#FECB52"
          ],
          "font": {
           "color": "#2a3f5f"
          },
          "geo": {
           "bgcolor": "white",
           "lakecolor": "white",
           "landcolor": "#E5ECF6",
           "showlakes": true,
           "showland": true,
           "subunitcolor": "white"
          },
          "hoverlabel": {
           "align": "left"
          },
          "hovermode": "closest",
          "mapbox": {
           "style": "light"
          },
          "paper_bgcolor": "white",
          "plot_bgcolor": "#E5ECF6",
          "polar": {
           "angularaxis": {
            "gridcolor": "white",
            "linecolor": "white",
            "ticks": ""
           },
           "bgcolor": "#E5ECF6",
           "radialaxis": {
            "gridcolor": "white",
            "linecolor": "white",
            "ticks": ""
           }
          },
          "scene": {
           "xaxis": {
            "backgroundcolor": "#E5ECF6",
            "gridcolor": "white",
            "gridwidth": 2,
            "linecolor": "white",
            "showbackground": true,
            "ticks": "",
            "zerolinecolor": "white"
           },
           "yaxis": {
            "backgroundcolor": "#E5ECF6",
            "gridcolor": "white",
            "gridwidth": 2,
            "linecolor": "white",
            "showbackground": true,
            "ticks": "",
            "zerolinecolor": "white"
           },
           "zaxis": {
            "backgroundcolor": "#E5ECF6",
            "gridcolor": "white",
            "gridwidth": 2,
            "linecolor": "white",
            "showbackground": true,
            "ticks": "",
            "zerolinecolor": "white"
           }
          },
          "shapedefaults": {
           "line": {
            "color": "#2a3f5f"
           }
          },
          "ternary": {
           "aaxis": {
            "gridcolor": "white",
            "linecolor": "white",
            "ticks": ""
           },
           "baxis": {
            "gridcolor": "white",
            "linecolor": "white",
            "ticks": ""
           },
           "bgcolor": "#E5ECF6",
           "caxis": {
            "gridcolor": "white",
            "linecolor": "white",
            "ticks": ""
           }
          },
          "title": {
           "x": 0.05
          },
          "xaxis": {
           "automargin": true,
           "gridcolor": "white",
           "linecolor": "white",
           "ticks": "",
           "title": {
            "standoff": 15
           },
           "zerolinecolor": "white",
           "zerolinewidth": 2
          },
          "yaxis": {
           "automargin": true,
           "gridcolor": "white",
           "linecolor": "white",
           "ticks": "",
           "title": {
            "standoff": 15
           },
           "zerolinecolor": "white",
           "zerolinewidth": 2
          }
         }
        },
        "title": {
         "text": "Collocation Points"
        }
       }
      }
     },
     "metadata": {},
     "output_type": "display_data"
    }
   ],
   "source": [
    "scatter = go.Scatter3d(\n",
    "    x=inner_samples[0],\n",
    "    y=inner_samples[1],\n",
    "    z=inner_samples[3],\n",
    "    mode='markers',\n",
    "    marker=dict(\n",
    "        size=3,\n",
    "    ),\n",
    "    name='Interior'\n",
    ")\n",
    "\n",
    "scatter2 = go.Scatter3d(\n",
    "    x=top_samples[0],\n",
    "    y=top_samples[1],\n",
    "    z=top_samples[3],\n",
    "    mode='markers',\n",
    "    marker=dict(\n",
    "        size=3,\n",
    "    ),\n",
    "    name='Top Boundary'\n",
    ")\n",
    "\n",
    "scatter3 = go.Scatter3d(\n",
    "    x=bottom_samples[0],\n",
    "    y=bottom_samples[1],\n",
    "    z=bottom_samples[3],\n",
    "    mode='markers',\n",
    "    marker=dict(\n",
    "        size=3,\n",
    "    ),\n",
    "    name='Bottom Boundary'\n",
    ")\n",
    "\n",
    "scatter4 = go.Scatter3d(\n",
    "    x=initial_samples[0],\n",
    "    y=initial_samples[1],\n",
    "    z=initial_samples[3],\n",
    "    mode='markers',\n",
    "    marker=dict(\n",
    "        size=3,\n",
    "    ),\n",
    "    name='Initial Condition'\n",
    ")\n",
    "\n",
    "fig = go.Figure(data=[scatter, scatter2, scatter3, scatter4])\n",
    "fig.update_layout(\n",
    "    title='Collocation Points',\n",
    "    scene=dict(xaxis_title='t', yaxis_title='s', zaxis_title='V'),\n",
    "    autosize=True,\n",
    ")\n",
    "fig.show()"
   ]
  },
  {
   "cell_type": "markdown",
   "metadata": {},
   "source": [
    "## The neural network"
   ]
  },
  {
   "cell_type": "markdown",
   "metadata": {},
   "source": [
    "In this exercise, we employ a relatively simple feedforward neural network with one hidden layer, a few neurons, and $\\tanh$ activation functions. While more complex architectures may be required for higher-dimensional problems, empirical evidence suggests that a simple network is sufficient for this particular case."
   ]
  },
  {
   "cell_type": "code",
   "execution_count": 20,
   "metadata": {},
   "outputs": [],
   "source": [
    "class PINN(nn.Module):\n",
    "    def __init__(self):\n",
    "        super(PINN, self).__init__()\n",
    "        size = 15\n",
    "        self.hidden_layers = nn.ModuleList([\n",
    "            nn.Linear(2, size),\n",
    "            nn.Linear(size, size),\n",
    "        ])\n",
    "        self.output_layer = nn.Linear(size, 1)\n",
    "\n",
    "    def forward(self, inputs):\n",
    "        x = inputs\n",
    "        for layer in self.hidden_layers:\n",
    "            x = torch.tanh(layer(x))\n",
    "        x = self.output_layer(x)\n",
    "        return x"
   ]
  },
  {
   "cell_type": "markdown",
   "metadata": {},
   "source": [
    "It is also important to initialize the network weights properly, as this can affect the convergence of the solution. Unlike typical machine learning tasks that require large amounts of data, PINNs can often solve PDEs with relatively little (even synthetically generated) data. Therefore, global optimizers such as L-BFGS, which use the entire dataset when updating the weights, are particularly effective."
   ]
  },
  {
   "cell_type": "code",
   "execution_count": 21,
   "metadata": {},
   "outputs": [],
   "source": [
    "def initialize_weights(model):\n",
    "    for layer in model.hidden_layers:\n",
    "        if isinstance(layer, nn.Linear):\n",
    "            nn.init.xavier_uniform_(layer.weight)\n",
    "            nn.init.zeros_(layer.bias)"
   ]
  },
  {
   "cell_type": "markdown",
   "metadata": {},
   "source": [
    "## Training loop"
   ]
  },
  {
   "cell_type": "markdown",
   "metadata": {},
   "source": [
    "Now with all set, we can proceed to train the neural network."
   ]
  },
  {
   "cell_type": "code",
   "execution_count": null,
   "metadata": {},
   "outputs": [],
   "source": [
    "def train_model(model, inputs, outputs, tags, sigma, r, iters=1000):\n",
    "    optimizer = optim.LBFGS(\n",
    "        model.parameters(),\n",
    "        max_iter=iters,\n",
    "        lr=1,\n",
    "        line_search_fn='strong_wolfe',\n",
    "        tolerance_grad=1e-10,\n",
    "        tolerance_change=1e-10\n",
    "    )\n",
    "\n",
    "    loss_history = {'total_loss': []}\n",
    "\n",
    "    def closure():\n",
    "        optimizer.zero_grad()\n",
    "        total_loss = 0\n",
    "\n",
    "        pde_mask = (tags == 0).squeeze()\n",
    "        boundary_mask = (tags == 1).squeeze()\n",
    "\n",
    "        if pde_mask.any():\n",
    "            pde_loss = pde_loss_f(model, inputs[pde_mask], sigma, r)\n",
    "            total_loss += pde_loss\n",
    "\n",
    "        if boundary_mask.any():\n",
    "            boundary_loss = boundary_loss_f(\n",
    "                model, inputs[boundary_mask], outputs[boundary_mask])\n",
    "            total_loss += boundary_loss\n",
    "\n",
    "        print(\n",
    "            f'PDE Loss: {pde_loss.item()} | Boundary Loss: {boundary_loss.item()}', end='\\r', flush=True)\n",
    "        total_loss.backward()\n",
    "        loss_history['total_loss'].append(total_loss.item())\n",
    "        return total_loss\n",
    "    optimizer.step(closure)\n",
    "    return loss_history"
   ]
  },
  {
   "cell_type": "code",
   "execution_count": 23,
   "metadata": {
    "tags": [
     "hide-input"
    ]
   },
   "outputs": [],
   "source": [
    "# input samples\n",
    "inner_s = torch.stack([torch.tensor(x, dtype=torch.float32)\n",
    "                      for x in inner_samples[0:2]], dim=0).T\n",
    "top_s = torch.stack([torch.tensor(x, dtype=torch.float32)\n",
    "                    for x in top_samples[0:2]], dim=0).T\n",
    "bottom_s = torch.stack([torch.tensor(x, dtype=torch.float32)\n",
    "                       for x in bottom_samples[0:2]], dim=0).T\n",
    "initial_s = torch.stack([torch.tensor(x, dtype=torch.float32)\n",
    "                        for x in initial_samples[0:2]], dim=0).T\n",
    "\n",
    "# output\n",
    "inner_output = torch.tensor(inner_samples[3], dtype=torch.float32)\n",
    "top_output = torch.tensor(top_samples[3], dtype=torch.float32)\n",
    "bottom_output = torch.tensor(bottom_samples[3], dtype=torch.float32)\n",
    "initial_output = torch.tensor(initial_samples[3], dtype=torch.float32)\n",
    "\n",
    "# tags\n",
    "inner_tags = torch.tensor(inner_samples[2], dtype=torch.float32)\n",
    "top_tags = torch.tensor(top_samples[2], dtype=torch.float32)\n",
    "bottom_tags = torch.tensor(bottom_samples[2], dtype=torch.float32)\n",
    "initial_tags = torch.tensor(initial_samples[2], dtype=torch.float32)\n",
    "\n",
    "# concatenate\n",
    "inputs = torch.cat([inner_s, top_s, bottom_s, initial_s], dim=0)\n",
    "outputs = torch.cat([inner_output, top_output, bottom_output,\n",
    "                    initial_output], dim=0).reshape(-1, 1)\n",
    "tags = torch.cat([inner_tags, top_tags, bottom_tags,\n",
    "                 initial_tags], dim=0).reshape(-1, 1)\n",
    "\n",
    "# suffle\n",
    "idx = torch.randperm(inputs.size(0))\n",
    "inputs = inputs[idx]\n",
    "outputs = outputs[idx]\n",
    "tags = tags[idx]"
   ]
  },
  {
   "cell_type": "code",
   "execution_count": 24,
   "metadata": {
    "tags": [
     "remove-output"
    ]
   },
   "outputs": [
    {
     "name": "stdout",
     "output_type": "stream",
     "text": [
      "PDE Loss: 0.0008658875594846904 | Boundary Loss: 0.0008384602260775864\r"
     ]
    }
   ],
   "source": [
    "model = PINN().to(device)\n",
    "initialize_weights(model)\n",
    "loss_history = train_model(model, inputs, outputs,\n",
    "                           tags, config['sigma'], config['r'], iters=10000)"
   ]
  },
  {
   "cell_type": "markdown",
   "metadata": {},
   "source": [
    "## Results"
   ]
  },
  {
   "cell_type": "markdown",
   "metadata": {},
   "source": [
    "Let's see how the neural network performs in pricing the option. We will compare the network's predictions against the true option price obtained from the Black-Scholes formula, but first let's look at the loss evolution during training."
   ]
  },
  {
   "cell_type": "code",
   "execution_count": 25,
   "metadata": {
    "tags": [
     "remove-cell"
    ]
   },
   "outputs": [
    {
     "data": {
      "application/vnd.plotly.v1+json": {
       "config": {
        "plotlyServerURL": "https://plot.ly"
       },
       "data": [
        {
         "mode": "lines",
         "type": "scatter",
         "y": [
          858.2155151367188,
          846.4622802734375,
          798.2322998046875,
          497.57196044921875,
          222.1381072998047,
          449.4754638671875,
          218.14849853515625,
          212.90689086914062,
          208.7830047607422,
          208.6660919189453,
          207.72389221191406,
          204.76918029785156,
          204.8303680419922,
          203.75,
          204.71923828125,
          203.67697143554688,
          202.66722106933594,
          206.3668975830078,
          201.3074188232422,
          202.46890258789062,
          201.21754455566406,
          205.24757385253906,
          201.20135498046875,
          200.4859161376953,
          199.88182067871094,
          196.56961059570312,
          650.519775390625,
          175.19430541992188,
          174.23582458496094,
          162.62196350097656,
          162.07977294921875,
          161.94715881347656,
          2026220,
          162.06497192382812,
          161.8822784423828,
          158.72003173828125,
          205.18423461914062,
          138.0278778076172,
          127.15328979492188,
          123.20429229736328,
          116.95252990722656,
          189.96963500976562,
          112.72700500488281,
          186.6329345703125,
          110.9569320678711,
          109.91828918457031,
          106.90008544921875,
          105.30168151855469,
          102.07283782958984,
          99.31939697265625,
          96.2277603149414,
          86.62004852294922,
          147.56863403320312,
          91.87740325927734,
          85.6470947265625,
          96.361083984375,
          85.86912536621094,
          85.2779312133789,
          85.03543090820312,
          82.02008056640625,
          81.18328857421875,
          80.20072937011719,
          76.7940444946289,
          72.6229248046875,
          112.62516021728516,
          68.6457290649414,
          66.4874496459961,
          65.06080627441406,
          757.7850952148438,
          97.19474029541016,
          63.52955627441406,
          81.90972900390625,
          61.60984802246094,
          58.69995880126953,
          53.45465850830078,
          49.08631134033203,
          43.126708984375,
          31.90813446044922,
          80.61656188964844,
          22.66065788269043,
          398.7256774902344,
          40.16297149658203,
          18.946475982666016,
          16.26801300048828,
          14.776420593261719,
          12.133247375488281,
          10.714278221130371,
          10.076372146606445,
          9.664571762084961,
          9.393890380859375,
          9.272499084472656,
          9.03703498840332,
          8.669248580932617,
          8.176627159118652,
          7.771310806274414,
          7.341451644897461,
          7.102935791015625,
          6.890903949737549,
          6.6638336181640625,
          6.324453830718994,
          5.988214492797852,
          5.852361679077148,
          5.662884712219238,
          5.508254051208496,
          5.103612422943115,
          4.856644630432129,
          4.62845516204834,
          4.403755187988281,
          4.220866680145264,
          3.995954990386963,
          3.425556182861328,
          3.161721706390381,
          3.008288860321045,
          2.9396719932556152,
          2.8564906120300293,
          2.7894513607025146,
          2.694150447845459,
          2.5516834259033203,
          2.365388870239258,
          2.243314027786255,
          2.044264554977417,
          1.9454097747802734,
          1.8516271114349365,
          1.771354079246521,
          1.6693570613861084,
          1.6547565460205078,
          1.6346229314804077,
          1.5821515321731567,
          1.5499235391616821,
          1.524716854095459,
          1.511674404144287,
          1.4871960878372192,
          1.464608907699585,
          1.4168074131011963,
          1.2885406017303467,
          1.2931702136993408,
          1.2441846132278442,
          1.1620190143585205,
          1.1283299922943115,
          1.0958178043365479,
          1.0644181966781616,
          1.0307848453521729,
          0.9929184317588806,
          0.9385267496109009,
          0.8775065541267395,
          0.7874506711959839,
          0.6865015625953674,
          0.5794401168823242,
          0.5348878502845764,
          0.4516400098800659,
          0.4270939230918884,
          0.40558433532714844,
          0.4006584882736206,
          0.39451658725738525,
          0.38678205013275146,
          0.37414640188217163,
          0.3639675974845886,
          0.3463491201400757,
          0.33742237091064453,
          0.332906574010849,
          0.3184705972671509,
          0.30769023299217224,
          0.28508859872817993,
          0.2782748341560364,
          0.27390697598457336,
          0.26915329694747925,
          0.26305505633354187,
          0.23497137427330017,
          0.22955551743507385,
          0.22116979956626892,
          0.21983128786087036,
          0.21842196583747864,
          0.21622100472450256,
          0.21552452445030212,
          0.21481770277023315,
          0.21361196041107178,
          0.2101166993379593,
          0.2047032117843628,
          0.19617316126823425,
          0.18410690128803253,
          0.168032705783844,
          0.15366032719612122,
          0.14493203163146973,
          0.14011548459529877,
          0.1345445215702057,
          0.1317264437675476,
          0.13022509217262268,
          0.12910866737365723,
          0.12855757772922516,
          0.12822747230529785,
          0.12787801027297974,
          0.12747067213058472,
          0.12700749933719635,
          0.1263904571533203,
          0.12565332651138306,
          0.12501175701618195,
          0.12473039329051971,
          0.12463809549808502,
          0.1245945394039154,
          0.12448988854885101,
          0.12433619052171707,
          0.1240333765745163,
          0.12356125563383102,
          0.12269143760204315,
          0.12262482196092606,
          0.12176293134689331,
          0.11985158175230026,
          0.11872667074203491,
          0.14166255295276642,
          0.1175515428185463,
          0.11640289425849915,
          0.11539231240749359,
          0.11433141678571701,
          0.11248984932899475,
          0.10942129045724869,
          0.11289039254188538,
          0.1063474491238594,
          0.30633246898651123,
          0.10408538579940796,
          0.10055375099182129,
          0.09736047685146332,
          0.09810347110033035,
          0.09564274549484253,
          0.09571805596351624,
          0.09471341967582703,
          0.09532585740089417,
          0.09452617168426514,
          0.09424299001693726,
          0.0941045880317688,
          0.09398894757032394,
          0.09388718008995056,
          0.09346863627433777,
          0.0924047976732254,
          0.09488345682621002,
          0.09159618616104126,
          0.13925139605998993,
          0.09095535427331924,
          0.09070427715778351,
          0.08829716593027115,
          0.09183990210294724,
          0.08668974041938782,
          0.08593684434890747,
          0.08581612259149551,
          0.08575908839702606,
          0.0855834037065506,
          0.08529958128929138,
          0.08428111672401428,
          0.08215788006782532,
          0.07974226772785187,
          0.17301543056964874,
          0.07884438335895538,
          0.07461146265268326,
          0.07119470834732056,
          0.07095924019813538,
          0.06937818229198456,
          0.06844634562730789,
          0.0676121711730957,
          0.06733378767967224,
          0.06707732379436493,
          0.06678600609302521,
          0.0666641965508461,
          0.06655434519052505,
          0.06640110909938812,
          0.06607246398925781,
          0.06544367223978043,
          0.06449238955974579,
          0.06613530218601227,
          0.06381583213806152,
          0.0629388764500618,
          0.06277652084827423,
          0.06264233589172363,
          0.06242208555340767,
          0.061999738216400146,
          0.061353474855422974,
          0.06088682636618614,
          0.06092621386051178,
          0.06061225011944771,
          0.060488708317279816,
          0.06038830801844597,
          0.06027667969465256,
          0.06004371494054794,
          0.059789884835481644,
          0.05991644039750099,
          0.05973200127482414,
          0.059624381363391876,
          0.05952052026987076,
          0.05942114070057869,
          0.05957648530602455,
          0.05937492102384567,
          0.05927479267120361,
          0.059189680963754654,
          0.05907231196761131,
          0.05895077809691429,
          0.1133161261677742,
          0.058810070157051086,
          0.09866847097873688,
          0.05873767286539078,
          0.05866621807217598,
          0.05853872373700142,
          0.05841335654258728,
          0.058335304260253906,
          0.05825488269329071,
          0.05808548629283905,
          0.05757403373718262,
          0.057277217507362366,
          0.058290544897317886,
          0.05710284411907196,
          0.056757524609565735,
          0.05653227120637894,
          0.05646946281194687,
          0.05640541762113571,
          0.056365493685007095,
          0.056340280920267105,
          0.05632389336824417,
          0.05631772801280022,
          0.056315064430236816,
          0.056309476494789124,
          0.05629914999008179,
          0.056278496980667114,
          0.0562451034784317,
          0.05619591474533081,
          0.05616390332579613,
          0.0561249703168869,
          0.056080713868141174,
          0.056016385555267334,
          0.05593273043632507,
          0.055820077657699585,
          0.0559350922703743,
          0.055682457983493805,
          0.055403243750333786,
          0.054800163954496384,
          0.05507170408964157,
          0.05454470217227936,
          0.05514191836118698,
          0.05441571772098541,
          0.05463782697916031,
          0.05437546223402023,
          0.05429527536034584,
          0.05428272485733032,
          0.05427653715014458,
          0.05426950752735138,
          0.054254524409770966,
          0.054236672818660736,
          0.05421101301908493,
          0.054196298122406006,
          0.054191216826438904,
          0.05418645590543747,
          0.05418282002210617,
          0.05417507141828537,
          0.05416816845536232,
          0.05413481220602989,
          0.05407897010445595,
          0.053893379867076874,
          0.05365973711013794,
          0.05330315977334976,
          0.053402677178382874,
          0.052944522351026535,
          0.05277241766452789,
          0.05258599668741226,
          0.05234871804714203,
          0.052226610481739044,
          0.05205744504928589,
          0.051942117512226105,
          0.051847100257873535,
          0.05176857113838196,
          0.05166935548186302,
          0.051476966589689255,
          0.050815097987651825,
          0.04894518107175827,
          0.11502348631620407,
          0.04857988655567169,
          0.0479472279548645,
          0.41663795709609985,
          0.05067707970738411,
          0.04567283019423485,
          0.04712382331490517,
          0.04481203481554985,
          0.04355179890990257,
          0.04266386479139328,
          0.04184766486287117,
          0.0577838197350502,
          0.040432803332805634,
          0.03800070285797119,
          0.038569603115320206,
          0.036999501287937164,
          0.0354151725769043,
          0.04421376436948776,
          0.03476119413971901,
          0.037614934146404266,
          0.033803097903728485,
          0.03346060961484909,
          0.03355748951435089,
          0.033176083117723465,
          0.03291105851531029,
          0.03272921219468117,
          0.03226875886321068,
          0.032985031604766846,
          0.03198288753628731,
          0.03144315257668495,
          0.03133813664317131,
          0.03106459602713585,
          0.030623432248830795,
          0.03040493279695511,
          0.03009176068007946,
          0.029975149780511856,
          0.029993228614330292,
          0.029880378395318985,
          0.029780805110931396,
          0.0297040157020092,
          0.02963552623987198,
          0.029576608911156654,
          0.029483839869499207,
          0.029295263811945915,
          0.029049651697278023,
          0.03024956025183201,
          0.02896103262901306,
          0.02875044196844101,
          0.02866893634200096,
          0.028292415663599968,
          0.027899786829948425,
          0.028181377798318863,
          0.027692534029483795,
          0.027438946068286896,
          0.02742457017302513,
          0.027374543249607086,
          0.027263471856713295,
          0.027166089043021202,
          0.027088508009910583,
          0.027074815705418587,
          0.027017606422305107,
          0.026968322694301605,
          0.02692846767604351,
          0.02690129354596138,
          0.026867996901273727,
          0.02679351158440113,
          0.02668903023004532,
          0.02664918079972267,
          0.026451492682099342,
          0.026359062641859055,
          0.026317480951547623,
          0.02651739865541458,
          0.026221927255392075,
          0.02616739273071289,
          0.026125464588403702,
          0.02605028823018074,
          0.02593792788684368,
          0.025904245674610138,
          0.025847403332591057,
          0.025760997086763382,
          0.02571045607328415,
          0.025604665279388428,
          0.025538399815559387,
          0.0254600141197443,
          0.02488764375448227,
          0.025603268295526505,
          0.02454954758286476,
          0.025460008531808853,
          0.024349378421902657,
          0.02459375560283661,
          0.02397448755800724,
          0.02376187965273857,
          0.023931361734867096,
          0.023634061217308044,
          0.023498963564634323,
          0.02346666529774666,
          0.02347397804260254,
          0.023446187376976013,
          0.023434404283761978,
          0.02343180403113365,
          0.0234296303242445,
          0.02342510223388672,
          0.023415755480527878,
          0.023400604724884033,
          0.023379329591989517,
          0.023360665887594223,
          0.023345723748207092,
          0.023324694484472275,
          0.023304345086216927,
          0.02327590622007847,
          0.023251870647072792,
          0.023234723135828972,
          0.02323177643120289,
          0.02322731912136078,
          0.023222435265779495,
          0.02320762723684311,
          0.023171275854110718,
          0.02309728041291237,
          0.022897668182849884,
          0.023879125714302063,
          0.022663241252303123,
          0.023981088772416115,
          0.022594276815652847,
          0.022447288036346436,
          0.0221775583922863,
          0.022603698074817657,
          0.022057972848415375,
          0.021991847082972527,
          0.02192491479218006,
          0.021861974149942398,
          0.021743878722190857,
          0.02170281857252121,
          0.021596036851406097,
          0.02171509340405464,
          0.021552257239818573,
          0.021485280245542526,
          0.0214427188038826,
          0.021410809829831123,
          0.021388597786426544,
          0.021378105506300926,
          0.021372530609369278,
          0.021363522857427597,
          0.02134973555803299,
          0.021364519372582436,
          0.02134057506918907,
          0.02130591869354248,
          0.021243859082460403,
          0.021193362772464752,
          0.021149471402168274,
          0.021117914468050003,
          0.021072721108794212,
          0.021029381081461906,
          0.020976096391677856,
          0.02093736082315445,
          0.02091466821730137,
          0.020905565470457077,
          0.020902428776025772,
          0.02089795097708702,
          0.020880596712231636,
          0.020847013220191002,
          0.02081707864999771,
          0.020747579634189606,
          0.02087325043976307,
          0.020699992775917053,
          0.020597029477357864,
          0.0205763578414917,
          0.020534710958600044,
          0.02050691470503807,
          0.020522622391581535,
          0.02045518532395363,
          0.02045341208577156,
          0.020444292575120926,
          0.02043108455836773,
          0.02041393145918846,
          0.020388584583997726,
          0.02036604844033718,
          0.02035157009959221,
          0.020343415439128876,
          0.02033502236008644,
          0.020324990153312683,
          0.02030508778989315,
          0.020268041640520096,
          0.020179778337478638,
          0.020282205194234848,
          0.0200948566198349,
          0.020785197615623474,
          0.01998569816350937,
          0.019788868725299835,
          0.01965588517487049,
          0.019758932292461395,
          0.019611231982707977,
          0.019673703238368034,
          0.01958640292286873,
          0.019521290436387062,
          0.019445890560746193,
          0.019381031394004822,
          0.019317883998155594,
          0.01925070211291313,
          0.01916433684527874,
          0.01912999525666237,
          0.01913086324930191,
          0.019100500270724297,
          0.01908073201775551,
          0.01905912347137928,
          0.019042061641812325,
          0.019020551815629005,
          0.018994823098182678,
          0.018952589482069016,
          0.01888747327029705,
          0.018811967223882675,
          0.01861102506518364,
          0.018292080610990524,
          0.018209125846624374,
          0.018006570637226105,
          0.017867369577288628,
          0.017826274037361145,
          0.017715483903884888,
          0.018026981502771378,
          0.01765122078359127,
          0.017604878172278404,
          0.017573080956935883,
          0.017547158524394035,
          0.017523709684610367,
          0.017499146983027458,
          0.01746850460767746,
          0.017426155507564545,
          0.017358265817165375,
          0.017471779137849808,
          0.01730414107441902,
          0.01711135171353817,
          0.017069905996322632,
          0.017075274139642715,
          0.01703243888914585,
          0.016992216929793358,
          0.016933172941207886,
          0.016848476603627205,
          0.016771044582128525,
          0.0165923573076725,
          0.01649629697203636,
          0.01642492413520813,
          0.01651041954755783,
          0.01637878268957138,
          0.01632540300488472,
          0.016321267932653427,
          0.0162601787596941,
          0.016226651147007942,
          0.016170959919691086,
          0.016510087996721268,
          0.01615762896835804,
          0.01614494062960148,
          0.01613745465874672,
          0.01613961160182953,
          0.016132522374391556,
          0.016125500202178955,
          0.016115780919790268,
          0.016157066449522972,
          0.01610192283987999,
          0.01607668586075306,
          0.016050459817051888,
          0.015992701053619385,
          0.0160804633051157,
          0.015962593257427216,
          0.015948787331581116,
          0.015927013009786606,
          0.015890145674347878,
          0.015867574140429497,
          0.015838194638490677,
          0.015814123675227165,
          0.015817517414689064,
          0.015795085579156876,
          0.015775788575410843,
          0.01576245203614235,
          0.01573869399726391,
          0.01570284552872181,
          0.01566389948129654,
          0.015686921775341034,
          0.015650000423192978,
          0.015649253502488136,
          0.015630662441253662,
          0.015625298023223877,
          0.015621282160282135,
          0.015615159645676613,
          0.015605095773935318,
          0.015593398362398148,
          0.018002284690737724,
          0.015597018413245678,
          0.015579530969262123,
          0.01556396670639515,
          0.015559442341327667,
          0.015557605773210526,
          0.015554774552583694,
          0.015551194548606873,
          0.015547098591923714,
          0.015540527179837227,
          0.015530290082097054,
          0.01551722176373005,
          0.01550486870110035,
          0.015492305159568787,
          0.01547558419406414,
          0.015454739332199097,
          0.015444301068782806,
          0.015456866472959518,
          0.015435334295034409,
          0.015453253872692585,
          0.015428131446242332,
          0.015422770753502846,
          0.015418216586112976,
          0.015416495501995087,
          0.015414495021104813,
          0.015411868691444397,
          0.015410220250487328,
          0.015407610684633255,
          0.015406087040901184,
          0.01540480088442564,
          0.01540393102914095,
          0.015403013676404953,
          0.015402188524603844,
          0.01540178619325161,
          0.015401335433125496,
          0.015399254858493805,
          0.015396272763609886,
          0.015389183536171913,
          0.015375284478068352,
          0.015342417173087597,
          0.015671880915760994,
          0.015317458659410477,
          0.015542635694146156,
          0.015254219062626362,
          0.015249693766236305,
          0.015192021615803242,
          0.015325993299484253,
          0.015132488682866096,
          0.01510917954146862,
          0.015192437916994095,
          0.015095055103302002,
          0.015082644298672676,
          0.015073670074343681,
          0.015066790394484997,
          0.015063054859638214,
          0.015059953555464745,
          0.0150576401501894,
          0.01505345944315195,
          0.015020354650914669,
          0.014933394268155098,
          0.014841156080365181,
          0.015201756730675697,
          0.014795685186982155,
          0.014830224215984344,
          0.014695314690470695,
          0.014545110054314137,
          0.015220899134874344,
          0.014399729669094086,
          0.01420668326318264,
          172.54641723632812,
          0.014206675812602043,
          0.014126090332865715,
          0.021760813891887665,
          0.014019046910107136,
          0.014004266820847988,
          0.014161638915538788,
          0.013953233137726784,
          0.014157520607113838,
          0.01389576867222786,
          0.014727377332746983,
          0.013838134706020355,
          0.013803837820887566,
          0.013701824471354485,
          0.013689115643501282,
          0.013623065315186977,
          0.013998253270983696,
          0.013601897284388542,
          0.0136033296585083,
          0.013488233089447021,
          0.013417975045740604,
          0.01434159092605114,
          0.013327907770872116,
          0.013480255380272865,
          0.013212393969297409,
          0.013129159808158875,
          0.01305337343364954,
          0.013125824742019176,
          0.012948527000844479,
          0.013924000784754753,
          0.012872716411948204,
          0.012829718180000782,
          0.013123898766934872,
          0.012802896089851856,
          0.012707618996500969,
          0.013093186542391777,
          0.012673483230173588,
          0.012614123523235321,
          0.012561112642288208,
          0.012585120275616646,
          0.0125326132401824,
          0.012532077729701996,
          0.012514211237430573,
          0.012486865743994713,
          0.012463357299566269,
          0.012442821636795998,
          0.012412287294864655,
          0.012386016547679901,
          0.012356163002550602,
          0.012464197352528572,
          0.01234235055744648,
          0.012288925237953663,
          0.012278346344828606,
          0.012253344058990479,
          0.012218753807246685,
          0.012160406447947025,
          0.012192964553833008,
          0.012134143151342869,
          0.01210868638008833,
          0.012047119438648224,
          0.012034635990858078,
          0.012006811797618866,
          0.011971620842814445,
          0.01193343847990036,
          0.011903975158929825,
          0.011892853304743767,
          0.011873381212353706,
          0.011846784502267838,
          0.011844716034829617,
          0.012794073671102524,
          0.011837690137326717,
          0.011814865283668041,
          0.011805540882050991,
          0.0117900175973773,
          0.011770980432629585,
          0.011754749342799187,
          0.011745035648345947,
          0.011736458167433739,
          0.01172824390232563,
          0.01171892136335373,
          0.011711705476045609,
          0.011709650047123432,
          0.011705943383276463,
          0.011701144278049469,
          0.011693660169839859,
          0.011685851961374283,
          0.011671631596982479,
          0.011661067605018616,
          0.011641286313533783,
          0.01162838563323021,
          0.011608049273490906,
          0.011587569490075111,
          0.011555861681699753,
          0.011533079668879509,
          0.011516967788338661,
          0.011507127434015274,
          0.01149660162627697,
          0.011490626260638237,
          0.01148704718798399,
          0.011481338180601597,
          0.011476961895823479,
          0.011472607962787151,
          0.011470637284219265,
          0.011470301076769829,
          0.011470011435449123,
          0.011469392105937004,
          0.011468291282653809,
          0.01146533153951168,
          0.011460168287158012,
          0.01145029254257679,
          0.011435338295996189,
          0.011445639654994011,
          0.01142843347042799,
          0.011426351964473724,
          0.011421829462051392,
          0.011419718153774738,
          0.011418599635362625,
          0.011417616158723831,
          0.011415714398026466,
          0.011413667351007462,
          0.011411141604185104,
          0.011409591883420944,
          0.01140611432492733,
          0.011404464021325111,
          0.011402551084756851,
          0.01140030287206173,
          0.011396575719118118,
          0.011389616876840591,
          0.011391706764698029,
          0.011382128112018108,
          0.01136583648622036,
          0.011334068141877651,
          0.011305490508675575,
          0.011267723515629768,
          0.011332588270306587,
          0.011246686801314354,
          0.011225532740354538,
          0.011205045506358147,
          0.011175666004419327,
          0.01115153357386589,
          0.011116454377770424,
          0.01107714232057333,
          0.011007215827703476,
          0.01157350093126297,
          0.01091536320745945,
          0.01091398298740387,
          0.010827956721186638,
          0.010778205469250679,
          0.010834400542080402,
          0.010715452954173088,
          0.01068403571844101,
          0.01826418563723564,
          0.01068307738751173,
          0.010661562904715538,
          0.010635674931108952,
          0.01057201437652111,
          0.010527463629841805,
          0.010442448779940605,
          0.010739292949438095,
          0.010270453989505768,
          0.010083675384521484,
          0.011370448395609856,
          0.009985005483031273,
          0.010322478599846363,
          0.009925895370543003,
          0.009905874729156494,
          0.00985194742679596,
          0.009910643100738525,
          0.00982519332319498,
          0.009796226397156715,
          0.009748760610818863,
          0.009690625593066216,
          0.009626500308513641,
          0.009578321129083633,
          0.009570586495101452,
          0.009559137746691704,
          0.009519059211015701,
          0.009462583810091019,
          0.00936549436300993,
          0.009249933063983917,
          0.009207398630678654,
          0.01572497747838497,
          0.009194712154567242,
          0.009153853170573711,
          0.009135548956692219,
          0.009127670899033546,
          0.009099744260311127,
          0.009099146351218224,
          0.009075438603758812,
          0.009049290791153908,
          0.009005630388855934,
          0.00891707930713892,
          0.008847953751683235,
          0.008868069387972355,
          0.008773606270551682,
          0.00870258267968893,
          0.008718915283679962,
          0.008651689626276493,
          0.00867825374007225,
          0.00862320326268673,
          0.008608357049524784,
          0.008582747541368008,
          0.008572406135499477,
          0.008777384646236897,
          0.00856682751327753,
          0.008550122380256653,
          0.008525785058736801,
          0.00851073581725359,
          0.008485826663672924,
          0.008450713939964771,
          0.008426142856478691,
          0.008398478850722313,
          0.008355948142707348,
          0.008332876488566399,
          0.008321600034832954,
          0.008310471661388874,
          0.008288757875561714,
          0.00825199019163847,
          0.008223265409469604,
          0.00821123830974102,
          0.008200129494071007,
          0.00820197444409132,
          0.008177213370800018,
          0.008172737434506416,
          0.008164333179593086,
          0.008155730552971363,
          0.008149782195687294,
          0.008137868717312813,
          0.008127698674798012,
          0.008115111850202084,
          0.00809953548014164,
          0.008289553225040436,
          0.00809524767100811,
          0.008073742501437664,
          0.008087880909442902,
          0.008058805018663406,
          0.008108245208859444,
          0.00805153138935566,
          0.008054928854107857,
          0.008043361827731133,
          0.008036226034164429,
          0.008029105141758919,
          0.008021330460906029,
          0.00800405628979206,
          0.007969074882566929,
          0.007896514609456062,
          0.007767326198518276,
          0.009352393448352814,
          0.007716215215623379,
          0.007614504545927048,
          0.00749420840293169,
          0.007444257847964764,
          0.0073808967135846615,
          0.007431728765368462,
          0.007336961105465889,
          0.007322168909013271,
          0.0073077683337032795,
          0.007296012714505196,
          0.00727812061086297,
          0.007258838042616844,
          0.0072332690469920635,
          0.007198104169219732,
          0.0071608563885092735,
          0.007151814177632332,
          0.007137879729270935,
          0.007094929926097393,
          0.00708146532997489,
          0.0070288218557834625,
          0.0070189060643315315,
          0.006932559888809919,
          0.006952264346182346,
          0.006884392816573381,
          0.006771243177354336,
          0.0072867474518716335,
          0.006648051552474499,
          0.0066033899784088135,
          0.006619594991207123,
          0.006544201169162989,
          0.006506303325295448,
          0.006438735406845808,
          0.006370693910866976,
          0.006318473257124424,
          0.006284654140472412,
          0.006272343918681145,
          0.006276985630393028,
          0.0062592411413788795,
          0.006266487762331963,
          0.006243347190320492,
          0.006234502419829369,
          0.006226019933819771,
          0.0062197912484407425,
          0.0062148310244083405,
          0.006209315732121468,
          0.00621375534683466,
          0.0062081278301775455,
          0.0062047746032476425,
          0.006203939206898212,
          0.006200708914548159,
          0.006194262765347958,
          0.006185425911098719,
          0.006178607698529959,
          0.006172903347760439,
          0.006171717774122953,
          0.006168831139802933,
          0.006167975720018148,
          0.0061668511480093,
          0.006164989434182644,
          0.006162011064589024,
          0.006157952360808849,
          0.006149539723992348,
          0.006135583855211735,
          0.0061517031863331795,
          0.0061274124309420586,
          0.006117071025073528,
          0.006111333146691322,
          0.006107598543167114,
          0.006102901883423328,
          0.006098228506743908,
          0.006119261495769024,
          0.006097487173974514,
          0.006092307157814503,
          0.0060885632410645485,
          0.006085766479372978,
          0.006083830259740353,
          0.006082985550165176,
          0.006082525942474604,
          0.006082404404878616,
          0.00608220137655735,
          0.006081885192543268,
          0.006081445142626762,
          0.0060809021815657616,
          0.006079791579395533,
          0.006077445112168789,
          0.006072795484215021,
          0.0060862526297569275,
          0.006069028750061989,
          0.0060600703582167625,
          0.006042353343218565,
          0.0060034566558897495,
          0.007068890146911144,
          0.006009859964251518,
          0.00598759762942791,
          0.005979868583381176,
          0.005963251460343599,
          0.005959110800176859,
          0.005953355226665735,
          0.005946749821305275,
          0.005940324626863003,
          0.005934816785156727,
          0.005929048638790846,
          0.005925871431827545,
          0.005921714939177036,
          0.005916920490562916,
          0.005977769382297993,
          0.005910750478506088,
          0.005900138523429632,
          0.005869547836482525,
          0.005847443360835314,
          116.63898468017578,
          5.911891460418701,
          0.005847437772899866,
          0.005836456082761288,
          0.005884077399969101,
          0.005816332995891571,
          0.005795357748866081,
          0.005784547422081232,
          0.005778833292424679,
          0.005773387849330902,
          0.005759330932050943,
          0.005748572759330273,
          0.005735368467867374,
          0.005727856419980526,
          0.005723210051655769,
          0.005716891027987003,
          0.005730926990509033,
          0.005715411156415939,
          0.0057118842378258705,
          0.005712190642952919,
          0.0057100215926766396,
          0.00570692028850317,
          0.005707269534468651,
          0.0057054487988352776,
          0.005702957510948181,
          0.005700360517948866,
          0.0056971339508891106,
          0.005692628677934408,
          0.005687779746949673,
          0.005692851264029741,
          0.005684256087988615,
          0.005676746368408203,
          0.005668738856911659,
          0.005662665702402592,
          0.005658247973769903,
          0.005651182495057583,
          0.00564603041857481,
          0.0056378780864179134,
          0.005633499473333359,
          0.00565022137016058,
          0.005629134364426136,
          0.00562242278829217,
          0.005615811794996262,
          0.005606255494058132,
          0.005599895492196083,
          0.005596283357590437,
          0.005594589281827211,
          0.005593480542302132,
          0.005592537112534046,
          0.005591768305748701,
          0.0055907974019646645,
          0.005588623695075512,
          0.005585872568190098,
          0.005581570789217949,
          0.006737381219863892,
          0.0055952779948711395,
          0.005578921176493168,
          0.005573595874011517,
          0.005564696621149778,
          0.005694235675036907,
          0.005562866106629372,
          0.005557859316468239,
          0.0055542029440402985,
          0.005560829304158688,
          0.005552604794502258,
          0.005551442503929138,
          0.005551055073738098,
          0.005553415045142174,
          0.005550725851207972,
          0.005549984984099865,
          0.00554913654923439,
          0.005547576118260622,
          0.005546518135815859,
          0.005544353276491165,
          0.0055431462824344635,
          0.005541759077459574,
          0.005539640784263611,
          0.005535578355193138,
          0.005532469600439072,
          0.005540808662772179,
          0.005531532224267721,
          0.005532214883714914,
          0.005528701469302177,
          0.005527922417968512,
          0.005527125671505928,
          0.005526767577975988,
          0.005526171065866947,
          0.005525205284357071,
          0.005524531938135624,
          0.005523683037608862,
          0.005523528903722763,
          0.005523269064724445,
          0.005523171275854111,
          0.0055231074802577496,
          0.0055230893194675446,
          0.005523066036403179,
          0.005523002240806818,
          0.005522863008081913,
          0.005522539839148521,
          0.005521878600120544,
          0.0055207302793860435,
          0.005522527731955051,
          0.005520309787243605,
          0.005519986618310213,
          0.005517825949937105,
          0.005517254583537579,
          0.005515610799193382,
          0.005517599638551474,
          0.005515065044164658,
          0.0055141993798315525,
          0.005513615906238556,
          0.005513195879757404,
          0.00551275908946991,
          0.005511860363185406,
          0.005511715076863766,
          0.005511024966835976,
          0.005509786307811737,
          0.005507824011147022,
          0.005508601199835539,
          0.005507223308086395,
          0.005507941357791424,
          0.005505328066647053,
          0.005508988164365292,
          0.0055039264261722565,
          0.005500290542840958,
          0.005494818091392517,
          0.005489318631589413,
          0.0054854475893080235,
          0.00546606071293354,
          0.005623530596494675,
          0.005436264909803867,
          0.012688126415014267,
          0.005515426862984896,
          0.005422946065664291,
          0.021973401308059692,
          0.005624217912554741,
          0.005399513058364391,
          0.00737548153847456,
          0.0053803944028913975,
          0.005444478243589401,
          0.005348595790565014,
          0.005301737226545811,
          0.00600484199821949,
          0.00530709233134985,
          0.00527959642931819,
          0.005387153476476669,
          0.005271373316645622,
          0.005286769010126591,
          0.005264381878077984,
          0.005897993221879005,
          0.005263264290988445,
          0.005253874696791172,
          0.005245939828455448,
          0.005239367019385099,
          0.005231414921581745,
          0.005215161945670843,
          0.005191036034375429,
          0.00520713347941637,
          0.00518104899674654,
          0.005166251678019762,
          0.005139604210853577,
          0.005142363719642162,
          0.005120123736560345,
          0.005091262981295586,
          0.0051680877804756165,
          0.005047116428613663,
          0.005006174556910992,
          0.0050737978890538216,
          0.004956381395459175,
          0.004964906722307205,
          0.004928188398480415,
          0.0049171061255037785,
          0.004899768158793449,
          0.004895332735031843,
          0.004884512163698673,
          0.00487464340403676,
          0.004920606501400471,
          0.00486883195117116,
          0.0048669008538126945,
          0.0056993067264556885,
          0.004865392576903105,
          0.004857521038502455,
          0.004855156876146793,
          0.004851804114878178,
          0.0048571303486824036,
          0.004850768484175205,
          0.004846727941185236,
          0.004840843379497528,
          0.0048361970111727715,
          0.004833098966628313,
          0.004827534314244986,
          0.0048223151825368404,
          0.004817979875952005,
          0.004816778935492039,
          0.0048157041892409325,
          0.0048149097710847855,
          0.00481449905782938,
          0.004813917446881533,
          0.004813266918063164,
          0.004812967032194138,
          0.004811594728380442,
          0.004810330457985401,
          0.004808994475752115,
          0.004808628000319004,
          0.004808077588677406,
          0.004807853139936924,
          0.004807858262211084,
          0.0048077902756631374,
          0.004807615652680397,
          0.0048073166981339455,
          0.004806755110621452,
          0.004807966761291027,
          0.004806384444236755,
          0.004805155098438263,
          0.004802641458809376,
          0.004796260967850685,
          0.006283363327383995,
          0.004826754331588745,
          0.004794687032699585,
          0.004786696285009384,
          0.0047930581495165825,
          0.004778621718287468,
          0.004776055924594402,
          0.004766230005770922,
          0.0047619338147342205,
          0.0047552334144711494,
          0.004750560037791729,
          0.004748246166855097,
          0.0047797104343771935,
          0.004746667109429836,
          0.0047451285645365715,
          0.004743816331028938,
          0.004742592107504606,
          0.0047412714920938015,
          0.004739684052765369,
          0.004739338997751474,
          0.004738679155707359,
          0.00473819300532341,
          0.004737969487905502,
          0.004737673792988062,
          0.004737761802971363,
          0.004737481474876404,
          0.0047368500381708145,
          0.004735737107694149,
          0.004734888672828674,
          0.004732365719974041,
          0.004730513319373131,
          0.00472967280074954,
          0.004729109816253185,
          0.004727209452539682,
          0.004726144019514322,
          0.004725731909275055,
          0.004725704435259104,
          0.004725530743598938,
          0.004725240170955658,
          0.004725002218037844,
          0.004724410828202963,
          0.004723723046481609,
          0.004739526659250259,
          0.004723263438791037,
          0.004721401259303093,
          0.004718209616839886,
          0.004912014584988356,
          0.004718368873000145,
          0.004717368632555008,
          0.004724996164441109,
          0.004713699221611023,
          0.00470704073086381,
          0.00476965494453907,
          0.004701822996139526,
          0.004696280229836702,
          0.004691954702138901,
          0.004679477773606777,
          0.004670753143727779,
          0.004664953798055649,
          0.004654957912862301,
          0.004656428471207619,
          0.0046448782086372375,
          0.004626747686415911,
          0.00492542888969183,
          0.004616668913513422,
          0.004637972451746464,
          0.004603625740855932,
          0.004604131914675236,
          0.004590989556163549,
          0.0045830486342310905,
          0.004574294667690992,
          0.004575114697217941,
          0.004569746553897858,
          0.004566461779177189,
          0.004660784266889095,
          0.0045625753700733185,
          0.004548520315438509,
          0.004546113312244415,
          0.004538886249065399,
          0.004520680755376816,
          0.005071843042969704,
          0.004523308947682381,
          0.004511525388807058,
          0.004579504951834679,
          0.004492493346333504,
          0.00488762091845274,
          0.00448601832613349,
          0.00447998708114028,
          0.0045738983899354935,
          0.004449090454727411,
          0.004433470778167248,
          0.004418483469635248,
          0.0044541675597429276,
          0.0044127111323177814,
          0.00446350360289216,
          0.004406563006341457,
          0.004401869140565395,
          0.004397744778543711,
          0.0043931398540735245,
          0.004385728854686022,
          0.004376839380711317,
          0.004372773692011833,
          0.004394046030938625,
          0.004371464252471924,
          0.004369555972516537,
          0.004368108697235584,
          0.00436765979975462,
          0.0043673282489180565,
          0.004368200432509184,
          0.0043672481551766396,
          0.0043665263801813126,
          0.004365467466413975,
          0.004492556676268578,
          0.004365391563624144,
          0.004365928936749697,
          0.004364646505564451,
          0.004363328218460083,
          0.004361026920378208,
          0.00435838894918561,
          0.004354903008788824,
          0.004351803567260504,
          0.0043551865965127945,
          0.004348709713667631,
          0.004343383479863405,
          0.004331199452280998,
          0.004416993819177151,
          0.004328923765569925,
          0.004323107656091452,
          0.004315777216106653,
          0.004337142687290907,
          0.0043126055970788,
          0.00431037088856101,
          0.004311813972890377,
          0.004308971576392651,
          0.004308185540139675,
          0.0043069422245025635,
          0.004312927834689617,
          0.00430657435208559,
          0.004306006245315075,
          0.004305179230868816,
          0.004304688423871994,
          0.004305336624383926,
          0.004304426722228527,
          0.004327415954321623,
          0.004304134752601385,
          0.004303488880395889,
          0.0043027461506426334,
          0.004303371999412775,
          0.004302273038774729,
          0.0043003796599805355,
          0.0052331178449094296,
          0.004324331879615784,
          0.004299131687730551,
          0.0042960187420248985,
          0.004292763769626617,
          0.004294021986424923,
          0.004290276672691107,
          0.004302950110286474,
          0.004289221949875355,
          0.0042927805334329605,
          0.004287432413548231,
          0.004286632873117924,
          0.004286231007426977,
          0.004285729490220547,
          0.004285317379981279,
          0.00428491085767746,
          0.004284495022147894,
          0.004284205846488476,
          0.004284049849957228,
          0.004284093156456947,
          0.004283830989152193,
          0.004283579997718334,
          0.004283415153622627,
          0.004284494556486607,
          0.004283350892364979,
          0.004283156245946884,
          0.0042829676531255245,
          0.004282828886061907,
          0.004282727837562561,
          0.004282677546143532,
          0.0042825909331440926,
          0.004282201640307903,
          0.0043089548125863075,
          0.004281658213585615,
          0.004279914777725935,
          0.00427213404327631,
          0.004265704192221165,
          0.004305567126721144,
          0.004260741174221039,
          0.004258602857589722,
          0.0042563388124108315,
          0.0042520915158092976,
          0.004241516347974539,
          0.004237591288983822,
          0.004237841349095106,
          0.004232904873788357,
          0.0042253839783370495,
          0.004229145124554634,
          0.004216071218252182,
          0.0042086150497198105,
          0.004188531544059515,
          0.004182853735983372,
          0.004172617569565773,
          0.004162016324698925,
          0.00843190960586071,
          0.004207102116197348,
          0.004143485799431801,
          0.004553101025521755,
          0.004132015630602837,
          0.004154207184910774,
          0.004120277240872383,
          0.0041749728843569756,
          0.004112887661904097,
          0.004097673576325178,
          0.004074934404343367,
          0.004129424691200256,
          0.0040544746443629265,
          0.004123492166399956,
          0.004043598659336567,
          0.0040451944805681705,
          0.00403259601444006,
          0.004021864850074053,
          0.004016596358269453,
          0.004003497306257486,
          0.0039985692128539085,
          0.003999881446361542,
          0.003989755641669035,
          0.004190781619399786,
          0.0039858827367424965,
          0.003978817258030176,
          0.0039721401408314705,
          0.003964112140238285,
          0.003961191978305578,
          0.003957691602408886,
          0.0039551411755383015,
          0.003951583988964558,
          0.003945349715650082,
          0.0041475119069218636,
          0.003944610711187124,
          0.003937000408768654,
          0.003932542633265257,
          0.003928955644369125,
          0.003925729542970657,
          0.003920722287148237,
          0.003916014917194843,
          0.003910690546035767,
          0.003907039295881987,
          0.0039014422800391912,
          0.003896024078130722,
          0.0038914992474019527,
          0.003886100836098194,
          0.0038805678486824036,
          0.0038742185570299625,
          0.003870142623782158,
          0.003867093473672867,
          0.0038635539822280407,
          0.003878603223711252,
          0.0038613893557339907,
          0.0038514998741447926,
          0.003842533566057682,
          0.003876693081110716,
          0.003837491385638714,
          0.003832379588857293,
          0.0038280743174254894,
          0.004096498247236013,
          0.0038272757083177567,
          0.003824124811217189,
          0.0038203904405236244,
          0.0038148686289787292,
          0.00380979897454381,
          0.0038042967207729816,
          0.003800686914473772,
          0.003797040320932865,
          0.003793952288106084,
          0.0037921855691820383,
          0.003791624214500189,
          0.003790134098380804,
          0.003789212554693222,
          0.0037874318659305573,
          0.003785635344684124,
          0.0037838283460587263,
          0.003782082349061966,
          0.003780574770644307,
          0.003778602695092559,
          0.0037751784548163414,
          0.0037714948412030935,
          0.003768248250707984,
          0.003769265953451395,
          0.0037648018915206194,
          0.0038594775833189487,
          0.003759574145078659,
          0.0037524509243667126,
          0.0037440615706145763,
          0.003850624430924654,
          0.0037373974919319153,
          0.00372596038505435,
          0.0037161768414080143,
          0.0037013418041169643,
          0.003961990121752024,
          0.003696775995194912,
          0.0037047849036753178,
          0.0036877566017210484,
          0.003671206533908844,
          0.0036573985125869513,
          0.0036404309794306755,
          0.003650013357400894,
          0.0036241912748664618,
          0.0036213407292962074,
          0.0036114444956183434,
          0.0036035734228789806,
          0.003591852728277445,
          0.0035887453705072403,
          0.0035792728886008263,
          0.0035899796057492495,
          0.0035713729448616505,
          0.0035642581060528755,
          0.0035535795614123344,
          0.00354593712836504,
          0.003544318489730358,
          0.003552392590790987,
          0.003539656288921833,
          0.00354499532841146,
          0.0035367137752473354,
          0.0035372499842196703,
          0.0035359514877200127,
          0.003535088151693344,
          0.0035342401824891567,
          0.003533379640430212,
          0.0035330411046743393,
          0.0035325917415320873,
          0.003532253671437502,
          0.0035320508759468794,
          0.003535594791173935,
          0.0035319547168910503,
          0.0035315221175551414,
          0.0035337931476533413,
          0.0035314084962010384,
          0.003530810819938779,
          0.003530064830556512,
          0.003529361914843321,
          0.0035286282654851675,
          0.003527493216097355,
          0.00352625735104084,
          0.0035248729400336742,
          0.0035240505822002888,
          0.003522187937051058,
          0.003518560901284218,
          0.003524294588714838,
          0.0035150162875652313,
          0.003516499185934663,
          0.0035122521221637726,
          0.003510389244183898,
          0.0035108765587210655,
          0.0035095144994556904,
          0.0035081556998193264,
          0.0035091075114905834,
          0.0035073463805019855,
          0.003505696775391698,
          0.0035050325095653534,
          0.003501477185636759,
          0.0034966953098773956,
          0.003491159761324525,
          0.0035633938387036324,
          0.0034860759042203426,
          0.003480333834886551,
          0.0034796795807778835,
          0.0034743049181997776,
          0.003468077629804611,
          0.0034857839345932007,
          0.003459744155406952,
          0.0034483401104807854,
          0.0034384126774966717,
          0.0036732482258230448,
          0.003418532432988286,
          0.0034069246612489223,
          0.003403577022254467,
          0.003383212024345994,
          0.003380400128662586,
          0.003362109186127782,
          0.0033494792878627777,
          0.003340931609272957,
          0.003333691507577896,
          0.003333662636578083,
          0.003327992744743824,
          0.003330021630972624,
          0.0033262991346418858,
          0.003320207353681326,
          0.003306362312287092,
          0.003300604410469532,
          0.0032846727408468723,
          0.0032775637228041887,
          0.00326140271499753,
          0.003239366691559553,
          0.003230331465601921,
          0.0032121678814291954,
          0.0032235055696219206,
          0.0032055596821010113,
          0.003184384200721979,
          0.0031787268817424774,
          0.003172591095790267,
          0.0031688935123384,
          0.0031655498314648867,
          0.0031606692355126143,
          0.0031589525751769543,
          0.0031572189182043076,
          0.0031551835127174854,
          0.003152670571580529,
          0.0031486526131629944,
          0.0031407088972628117,
          0.003128977958112955,
          0.0031200041994452477,
          0.0032005435787141323,
          0.0031179715879261494,
          0.003120002569630742,
          0.003112504491582513,
          0.0031087787356227636,
          0.0031009099911898375,
          0.003097399603575468,
          0.003094006096944213,
          0.0030920389108359814,
          0.0030895702075213194,
          0.003147055860608816,
          0.003088749945163727,
          0.0030866023153066635,
          0.003085062373429537,
          0.0030844458378851414,
          0.01106514222919941,
          0.0032420819625258446,
          0.0030843557324260473,
          0.003083429764956236,
          0.003082067472860217,
          0.0030809277668595314,
          0.003080023918300867,
          0.0030793873593211174,
          0.0030780499801039696,
          0.0030762788373976946,
          0.003072459949180484,
          0.003068779595196247,
          0.003068113699555397,
          0.0030674708541482687,
          0.003067260142415762,
          0.003067107405513525,
          0.003066827543079853,
          0.0030663302168250084,
          0.0030652391724288464,
          0.0030637183226644993,
          0.003058974165469408,
          0.0030551408417522907,
          0.003499890910461545,
          0.0030550379306077957,
          0.003053005551919341,
          0.0030493908561766148,
          0.0030475156381726265,
          0.003046357538551092,
          0.003045526798814535,
          0.0030446830205619335,
          0.003044367767870426,
          0.003043978475034237,
          0.0030437649693340063,
          0.003043519100174308,
          0.0030430264305323362,
          0.0030424101278185844,
          0.0030417328234761953,
          0.0030412087216973305,
          0.003041161224246025,
          0.003040892770513892,
          0.0030402890406548977,
          0.0030397973023355007,
          0.003037991002202034,
          0.0030389619059860706,
          0.0030370978638529778,
          0.0030354601331055164,
          0.0030359900556504726,
          0.0030307224951684475,
          0.003032234963029623,
          0.0030284381937235594,
          0.003025997430086136,
          0.0030246409587562084,
          0.0030320556834340096,
          0.0030240847263485193,
          0.0030234637670218945,
          0.0030230204574763775,
          0.0030227666720747948,
          0.0030225720256567,
          0.0030224905349314213,
          0.003022189252078533,
          0.0030220705084502697,
          0.0030219051986932755,
          0.0030217766761779785,
          0.003021668177098036,
          0.003021432086825371,
          0.003020728938281536,
          0.0030207158997654915,
          0.0030204688664525747,
          0.003019946161657572,
          0.003019987139850855,
          0.0030197722371667624,
          0.003019604366272688,
          0.00301953312009573,
          0.0030221210326999426,
          0.003019528929144144,
          0.003019524971023202,
          0.00301947770640254,
          0.0030194208957254887,
          0.0030204192735254765,
          0.0030194006394594908,
          0.003029485233128071,
          0.0030194674618542194,
          0.003019371535629034,
          0.0030192802660167217,
          0.003019255120307207,
          0.003019216237589717,
          0.0030191680416464806,
          0.0030189352110028267,
          0.0030186239164322615,
          0.0030181854963302612,
          0.003017907263711095,
          0.0030177584849298,
          0.0030177426524460316,
          0.003017704002559185,
          0.003017658833414316,
          0.0030175205320119858,
          0.0030174136627465487,
          0.0030172932893037796,
          0.00301725952886045,
          0.0031434325501322746,
          0.0030171689577400684,
          0.0030166262295097113,
          0.0030152820982038975,
          0.003014744259417057,
          0.003013812704011798,
          0.003039318136870861,
          0.0030130394734442234,
          0.0030104038305580616,
          0.0030087989289313555,
          0.0030082007870078087,
          0.0030088680796325207,
          0.003007940948009491,
          0.003007851541042328,
          0.0030075237154960632,
          0.0030074389651417732,
          0.003007303923368454,
          0.0030071663204580545,
          0.003007143270224333,
          0.003007110208272934,
          0.0030070452485233545,
          0.0030069672502577305,
          0.0030068252235651016,
          0.003006617771461606,
          0.0030061849392950535,
          0.0030062110163271427,
          0.0030058794654905796,
          0.0030125752091407776,
          0.003005464095622301,
          0.003004920668900013,
          0.003004747908562422,
          0.0030046647880226374,
          0.0030046356841921806,
          0.0030046221800148487,
          0.0030046124011278152,
          0.0030045993626117706,
          0.003004663623869419,
          0.0030045832972973585,
          0.0030046042520552874,
          0.0030045686289668083,
          0.003004492726176977,
          0.0030042524449527264,
          0.003021465614438057,
          0.0030042389407753944,
          0.0030039981938898563,
          0.003003908321261406,
          0.0030055525712668896,
          0.0030038096010684967,
          0.0030037187971174717,
          0.0030169524252414703,
          0.0030037176329642534,
          0.0030208961106836796,
          0.0030036629177629948,
          0.003003431484103203,
          0.0030030161142349243,
          0.0030024356674402952,
          0.0030061379075050354,
          0.0030022459104657173,
          0.0030013499781489372,
          0.0030004512518644333,
          0.0029998323880136013,
          0.0029993392527103424,
          0.0029986086301505566,
          0.0029993022326380014,
          0.0029979092068970203,
          0.0029972773045301437,
          0.002995531540364027,
          0.0029934041667729616,
          0.0029921531677246094,
          0.0029947550501674414,
          0.002991720335558057,
          0.002991502871736884,
          0.002991383196786046,
          0.0029913093894720078,
          0.002991155255585909,
          1183.256591796875,
          10.989245414733887,
          0.03644929081201553,
          0.005006240680813789,
          0.0029911608435213566,
          0.0029911308083683252,
          0.002996287774294615,
          0.0029910055454820395,
          0.002990681678056717,
          0.0029899883083999157,
          0.0029903207905590534,
          0.002989834640175104,
          0.002989634871482849,
          0.0029895021580159664,
          0.002989408327266574,
          0.0029893210157752037,
          0.002989239525049925,
          0.0029893554747104645,
          0.0029892167076468468,
          0.002989166881889105,
          0.0029891382437199354,
          0.002989102154970169,
          0.0029890812002122402,
          0.002989053726196289,
          0.002988983178511262,
          0.002989445347338915,
          0.002988977823406458,
          0.002988874912261963,
          0.0029884595423936844,
          0.00298868166282773,
          0.0029883901588618755,
          0.00298825791105628,
          0.002988079795613885,
          0.0029878253117203712,
          0.003051506355404854,
          0.0029878178611397743,
          0.0029872246086597443,
          0.0029865805990993977,
          0.0031099871266633272,
          0.0029869393911212683,
          0.0029864017851650715,
          0.002985759172588587,
          0.0029853798914700747,
          0.00298497686162591,
          0.0029846318066120148,
          0.0029834555462002754,
          0.0029818995390087366,
          0.004392687231302261,
          0.0029903033282607794,
          0.0029804266523569822,
          0.0029826131649315357,
          0.002979822224006057,
          0.0029778368771076202,
          0.002975315321236849,
          0.0029725718777626753,
          0.002977037336677313,
          0.002968989312648773,
          0.0029796361923217773,
          0.0029654563404619694,
          0.002966846339404583,
          0.0029608651529997587,
          0.002956782002002001,
          0.0029515798669308424,
          0.0029478364158421755,
          0.002948945388197899,
          0.002945407759398222,
          0.002944928128272295,
          0.0029408468399196863,
          0.0029886378906667233,
          0.002938410732895136,
          0.0029399290215224028,
          0.002935284050181508,
          0.0029542790725827217,
          0.0029315496794879436,
          0.0029288548976182938,
          0.002923038322478533,
          0.002920564031228423,
          0.002919081598520279,
          0.002918133046478033,
          0.0029158119577914476,
          0.002917160280048847,
          0.0029145574662834406,
          0.0029133548960089684,
          0.0029120882973074913,
          0.002908768830820918,
          0.0029057865031063557,
          0.002903828863054514,
          0.002898880746215582,
          0.0028977184556424618,
          0.0028947796672582626,
          0.002893956145271659,
          0.002892283024266362,
          0.00289133214391768,
          0.00289013609290123,
          0.0028881574980914593,
          17792.728515625,
          59.44065856933594,
          0.012242726981639862,
          0.0030730627477169037,
          0.0028875861316919327,
          0.0028852385003119707,
          0.002891695126891136,
          0.002883956767618656,
          0.002883025910705328,
          0.0028829178772866726,
          0.0028822857420891523,
          0.0028808261267840862,
          0.0028812724631279707,
          0.0028797187842428684,
          0.0028772694058716297,
          0.0028731676284223795,
          0.0028830752708017826,
          0.0028712896164506674,
          0.002867471892386675,
          0.0028672267217189074,
          0.0028658886440098286,
          0.002866411115974188,
          0.0028641638346016407,
          0.002864695154130459,
          0.0028629163280129433,
          0.0028597996570169926,
          0.0028541595675051212,
          0.0028495113365352154,
          0.0028404174372553825,
          0.002833156380802393,
          0.002831151941791177,
          0.0028178964275866747,
          0.002805318683385849,
          0.002788378857076168,
          0.002821815200150013,
          0.002775814849883318,
          0.0027696313336491585,
          0.002778574824333191,
          0.00276857428252697,
          0.0027627330273389816,
          0.0027494197711348534,
          0.0027374019846320152,
          0.0027270102873444557,
          0.0027187683153897524,
          0.002710487227886915,
          0.0027061188593506813,
          0.0027149845845997334,
          0.002704683458432555,
          0.0027022603899240494,
          0.0026983493007719517,
          0.0026951883919537067,
          0.0026925578713417053,
          0.002690051682293415,
          0.0026865291874855757,
          0.0026804874651134014,
          0.002674487419426441,
          0.002971579786390066,
          0.0026740473695099354,
          0.0026675346307456493,
          0.002663048217073083,
          0.0026622042059898376,
          0.0026605557650327682,
          0.002658757846802473,
          0.00265776296146214,
          0.002656728494912386,
          0.002655705902725458,
          0.0026537664234638214,
          0.0026510008610785007,
          0.002647572662681341,
          0.0026447323616594076,
          0.002640307415276766,
          0.0026370054110884666,
          0.0026346975937485695,
          0.0026337197050452232,
          0.002632790245115757,
          0.002633144613355398,
          0.0026320922188460827,
          0.00263139046728611,
          0.002630895236507058,
          0.0026304437778890133,
          0.002629885682836175,
          0.0026291636750102043,
          0.002627990208566189,
          0.002626790665090084,
          0.0026255438569933176,
          0.00262428424321115,
          0.0026239813305437565,
          0.0026229298673570156,
          0.002622689586132765,
          0.00262245605699718,
          0.0026220185682177544,
          0.002621561521664262,
          0.0026206201873719692,
          0.00261938595212996,
          0.0026175305247306824,
          0.0026164697483181953,
          0.0026155500672757626,
          0.0026148762553930283,
          0.0026135866064578295,
          0.0026113754138350487,
          0.002610272727906704,
          0.0026090098544955254,
          0.002606715075671673,
          0.0026036477647721767,
          0.002598835388198495,
          0.0026009026914834976,
          0.0025967685505747795,
          0.0025937804020941257,
          0.0025921212509274483,
          0.0025915266014635563,
          0.0025905566290020943,
          0.0025899172760546207,
          0.0025882336776703596,
          0.002586891409009695,
          0.002585744485259056,
          0.002584900241345167,
          0.0025843223556876183,
          0.0025843523908406496,
          0.0025841682218015194,
          0.0025840853340923786,
          0.0025838399305939674,
          0.0025836683344095945,
          0.0025841447059065104,
          0.002583651104941964,
          0.002583501860499382,
          0.0025832601822912693,
          0.0025828047655522823,
          0.0025820573791861534,
          0.0025806892663240433,
          0.00258121220394969,
          0.002579678315669298,
          0.0025760610587894917,
          0.0025752431247383356,
          0.002572953701019287,
          0.0025735977105796337,
          0.0025709490291774273,
          0.0025921030901372433,
          0.0025670374743640423,
          0.002564098685979843,
          0.0026423288509249687,
          0.002563050016760826,
          0.0025586928240954876,
          0.0025605931878089905,
          0.002555499318987131,
          0.0025497800670564175,
          0.0025388654321432114,
          0.004891818389296532,
          0.0025766093749552965,
          0.002529262099415064,
          0.0025216659996658564,
          0.002646142616868019,
          0.00251074880361557,
          0.0025044893845915794,
          0.00250066677108407,
          0.0025070717092603445,
          0.002497940557077527,
          0.002494684886187315,
          0.0025110463611781597,
          0.0024923246819525957,
          0.0024878191761672497,
          0.002482043579220772,
          0.002474795561283827,
          0.002476234221830964,
          0.0024712802842259407,
          0.002508812816813588,
          0.0024678530171513557,
          0.0024996167048811913,
          0.002464126329869032,
          0.0024585044011473656,
          0.002454066416248679,
          0.0024666618555784225,
          0.0024526759516447783,
          0.0024497255217283964,
          0.0024476484395563602,
          0.0024451524950563908,
          0.0024432623758912086,
          0.002442236989736557,
          0.002441195072606206,
          0.0024397308006882668,
          0.002436018316075206,
          0.002436458133161068,
          0.002435286995023489,
          0.0024340685922652483,
          0.002433524467051029,
          0.00243205763399601,
          0.0024304420221596956,
          0.839533269405365,
          0.0046934266574680805,
          0.002464181976392865,
          0.0024305307306349277,
          0.0024298722855746746,
          0.0024280259385704994,
          0.002425665035843849,
          0.0024270890280604362,
          0.0024251542054116726,
          0.0030111586675047874,
          0.002434372203424573,
          0.0024235902819782495,
          0.002421416575089097,
          0.002474453067407012,
          0.002420749980956316,
          0.0024199667386710644,
          0.0024157455191016197,
          0.002420271746814251,
          0.002414796967059374,
          0.0024107182398438454,
          0.002410566434264183,
          0.002406239975243807,
          0.0024085133336484432,
          0.0024037600960582495,
          0.002401780104264617,
          0.0024000362027436495,
          0.0023965202271938324,
          0.0023965383879840374,
          0.0023941306862980127,
          0.0023926938883960247,
          0.0023915728088468313,
          0.0023906491696834564,
          0.002389892004430294,
          0.00238875113427639,
          0.002387700602412224,
          0.0023867138661444187,
          0.0023905890993773937,
          0.0023865755647420883,
          0.002385623287409544,
          0.0023839171044528484,
          0.002382781356573105,
          0.002380589721724391,
          0.0023794532753527164,
          0.0023781340569257736,
          0.0023771177511662245,
          0.002376057207584381,
          0.0023754818830639124,
          0.002380576217547059,
          0.002375034149736166,
          0.002374206902459264,
          0.0023737596347928047,
          0.002373387338593602,
          0.0023731442634016275,
          0.0023726497311145067,
          0.0023722616024315357,
          0.0023717486765235662,
          0.0023709596134722233,
          0.002369723981246352,
          0.0024406304582953453,
          0.0023696688003838062,
          0.0023675146512687206,
          0.0023653521202504635,
          0.002365788910537958,
          0.0023621597792953253,
          0.0023587604518979788,
          0.002353762974962592,
          0.0023599693085998297,
          0.0023509005550295115,
          0.0023455836344510317,
          0.0023412734735757113,
          0.00234020221978426,
          0.002338819671422243,
          0.0023368739057332277,
          0.0023349053226411343,
          0.002334136050194502,
          0.002332953969016671,
          0.002332570031285286,
          0.002332121366634965,
          0.0023316405713558197,
          0.002331297378987074,
          0.0023307441733777523,
          0.002330141607671976,
          0.002329258481040597,
          0.0023287315852940083,
          0.0023277378641068935,
          0.0023268372751772404,
          0.00232626311480999,
          0.002325400011613965,
          0.002325289649888873,
          0.0023249557707458735,
          0.0023248521611094475,
          0.002324710600078106,
          0.002324526198208332,
          0.00232434063218534,
          0.0023240046575665474,
          0.002323371125385165,
          0.0023229802027344704,
          0.002322662156075239,
          0.002321012783795595,
          0.002320266095921397,
          0.0023197741247713566,
          0.002321843057870865,
          0.002319183200597763,
          0.002318922197446227,
          0.002318529412150383,
          0.002318102167919278,
          0.0023175571113824844,
          0.0023166299797594547,
          0.0023156655952334404,
          0.0023144488222897053,
          0.002315211808308959,
          0.0023129144683480263,
          0.002311971504241228,
          0.0023100096732378006,
          0.002309126313775778,
          0.002308451570570469,
          0.0023118481040000916,
          0.0023073924239724874,
          0.002306830370798707,
          0.002306398469954729,
          0.002305771689862013,
          0.21360769867897034,
          0.006250450853258371,
          0.0025460042525082827,
          0.002305734669789672,
          0.0023053279146552086,
          0.0023046545684337616,
          0.0023031628224998713,
          0.0023014922626316547,
          0.0023001115769147873,
          0.0023161342833191156,
          0.002297731814906001,
          0.0022952579893171787,
          0.0022937331814318895,
          0.002293109428137541,
          0.0022951154969632626,
          0.0022909308318048716,
          0.0022947308607399464,
          0.002289206488057971,
          0.0022866837680339813,
          0.002286000642925501,
          0.0022863997146487236,
          0.0022851452231407166,
          0.0022846555802971125,
          0.0022840762976557016,
          0.002283260691910982,
          0.002300799824297428,
          0.002283168723806739,
          0.002282526344060898,
          0.002282111207023263,
          0.0022818450815975666,
          0.002281139837577939,
          0.0022799328435212374,
          0.002455876674503088,
          0.002279899548739195,
          0.00228160060942173,
          0.0022794739343225956,
          0.0022785100154578686,
          0.002282415283843875,
          0.002278008032590151,
          0.0022775917313992977,
          0.002276915591210127,
          0.002276292070746422,
          0.0022751158103346825,
          0.002272889483720064,
          0.0022734124213457108,
          0.002272241748869419,
          0.002273543970659375,
          0.0022711134515702724,
          0.0022714114747941494,
          0.002270587021484971,
          0.0022697094827890396,
          0.0022690545301884413,
          0.0022682752460241318,
          0.0022675797808915377,
          0.0022662864066660404,
          0.002264563459903002,
          0.0022624898701906204,
          0.002263604663312435,
          0.002260709647089243,
          0.002261596731841564,
          0.0022597545757889748,
          0.0022588390856981277,
          0.002257936866953969,
          0.002257006708532572,
          0.002255683299154043,
          0.0022545605897903442,
          0.002260628156363964,
          0.002253489103168249,
          0.0022519747726619244,
          0.002250963356345892,
          0.0022513738367706537,
          0.0022504860535264015,
          0.0022537733893841505,
          0.0022499090991914272,
          0.0022494241129606962,
          0.0022488185204565525,
          0.0022489915136247873,
          0.002248364267870784,
          0.002247811295092106,
          0.002247198950499296,
          0.0022466471418738365,
          0.0022461572661995888,
          0.002245852956548333,
          0.00224556983448565,
          0.0022481956984847784,
          0.0022453058045357466,
          0.0022449977695941925,
          0.0022447649389505386,
          0.0022443439811468124,
          0.0022445362992584705,
          0.0022439840249717236,
          0.00224348739720881,
          0.00224312674254179,
          0.002242506016045809,
          0.0022413250990211964,
          0.09777210652828217,
          0.006118420511484146,
          0.0023606133181601763,
          0.002241196110844612,
          0.0038703458849340677,
          0.002274894155561924,
          0.002240471076220274,
          0.0022395094856619835,
          0.0022386200726032257,
          0.002238044748082757,
          0.0022371234372258186,
          0.0022348000202327967,
          0.0022351350635290146,
          0.002233288250863552,
          0.002233782783150673,
          0.0022308360785245895,
          0.002228450495749712,
          0.002227430697530508,
          0.002223862800747156,
          0.0022209256421774626,
          0.002284395508468151,
          0.0022195419296622276,
          0.00221814657561481,
          0.002213065978139639,
          0.003980291076004505,
          0.00221287552267313,
          0.002211489249020815,
          0.0022111262660473585,
          0.0022098601330071688,
          0.002206336008384824,
          0.0022016619332134724,
          0.0021987345535308123,
          0.002207287820056081,
          0.0021957256831228733,
          0.002189245540648699,
          0.0021836368832737207,
          0.0021804217249155045,
          0.002178108785301447,
          0.002179311588406563,
          0.00217618141323328,
          0.0021749078296124935,
          0.0024079689756035805,
          0.002174822613596916,
          0.002172874752432108,
          0.0021714786998927593,
          0.0021701748482882977,
          0.0021690172143280506,
          0.0021684218663722277,
          0.0021678777411580086,
          0.0021652793511748314,
          0.0021637887693941593,
          0.0021624320652335882,
          0.0021611368283629417,
          0.0021608483511954546,
          0.002159911673516035,
          0.0021593307610601187,
          0.002158020157366991,
          0.002170213032513857,
          0.0021579365711659193,
          0.0021575945429503918,
          0.00363342696800828,
          0.002157442271709442,
          0.002156906295567751,
          0.0021561873145401478,
          0.0021551973186433315,
          0.0021542711183428764,
          0.002153573790565133,
          0.0021525081247091293,
          0.0021535586565732956,
          0.002152120927348733,
          0.0021513549145311117,
          0.002150304615497589,
          0.0021492065861821175,
          0.0021694276947528124,
          0.002148988423869014,
          0.0021480810828506947,
          0.0021533453837037086,
          0.0021479283459484577,
          0.0021476843394339085,
          0.002147589810192585,
          0.002147526480257511,
          0.002147483639419079,
          696.4243774414062,
          0.008374758996069431,
          0.0023176255635917187,
          0.0021570196840912104,
          0.002147467341274023,
          0.0021478189155459404,
          0.002147446619346738,
          0.002181120216846466,
          0.0021474414970725775,
          0.002147301100194454,
          0.002146901795640588,
          0.002146422164514661,
          0.002145713195204735,
          0.002144778845831752,
          0.002145856386050582,
          0.002144312486052513,
          0.0021445024758577347,
          0.0021441434510052204,
          0.0021438365802168846,
          0.002143485937267542,
          0.002143259160220623,
          0.0021428889594972134,
          0.002142439829185605,
          0.002141698496416211,
          0.002140963450074196,
          0.002279988257214427,
          0.0021409220062196255,
          0.002139871474355459,
          0.0021397690288722515,
          0.0021391944028437138,
          0.0021386616863310337,
          0.0021378134842962027,
          0.002137677976861596,
          0.0021365880966186523,
          0.002135694259777665,
          0.0021349159069359303,
          0.0021320488303899765,
          0.0021301244851201773,
          0.00213095685467124,
          0.0021289216820150614,
          0.0021730426233261824,
          0.0021273151505738497,
          0.002125144237652421,
          0.002123036654666066,
          0.0021436423994600773,
          0.0021213453728705645,
          0.00211896700784564,
          0.0021180221810936928,
          0.0021140773314982653,
          0.002116929739713669,
          0.0021131676621735096,
          0.0021154957357794046,
          0.0021122824400663376,
          0.0021111988462507725,
          0.002110946923494339,
          0.0021067801862955093,
          0.00211131083779037,
          0.0021052779629826546,
          0.0021053021773695946,
          0.0021043051965534687,
          0.0021024018060415983,
          0.002101603429764509,
          0.0021001221612095833,
          0.0020989743061363697,
          0.0020996038801968098,
          0.0020983912982046604,
          0.0020976534578949213,
          0.0020967433229088783,
          0.0020962085109204054,
          0.0020964802242815495,
          0.0020958425011485815,
          0.0020956338848918676,
          0.0020954888314008713,
          0.0020954450592398643,
          0.0020953500643372536,
          0.0020952916238456964,
          0.002095261123031378,
          0.0020952322520315647,
          0.0020951242186129093,
          0.0020950324833393097,
          0.0020952390041202307,
          0.002094991272315383,
          0.002413105219602585,
          0.002095157280564308,
          0.002094965660944581,
          0.002094875555485487,
          0.0020946816075593233,
          0.0020943833515048027,
          0.00209363317117095,
          0.0020944871939718723,
          0.002093210816383362,
          0.002095336327329278,
          0.0020922806579619646,
          0.0020913828630000353,
          0.0020905262790620327,
          0.0020894287154078484,
          0.004930627532303333,
          0.002139865420758724,
          0.002089071087539196,
          0.002089328831061721,
          0.0020880161318928003,
          0.0020861641969531775,
          0.0021105725318193436,
          0.0020850442815572023,
          0.002085675485432148,
          0.002083753002807498,
          0.002081819111481309,
          0.0021222804207354784,
          0.0020810619462281466,
          0.0020801625214517117,
          0.0020791199058294296,
          0.002078418154269457,
          0.0020769278053194284,
          0.0020788018591701984,
          0.0020744972862303257,
          0.002072602044790983,
          0.002069819252938032,
          0.0020700800232589245,
          0.0020660781301558018,
          0.0020622732117772102,
          0.0021065822802484035,
          0.0020609181374311447,
          0.002061267849057913,
          0.002058211714029312,
          0.0020550121553242207,
          0.0020671160891652107,
          0.0020536398515105247,
          0.0020641309674829245,
          0.0020521008409559727,
          0.0020501366816461086,
          0.0020489569287747145,
          0.002048797905445099,
          0.002048504538834095,
          0.002047393936663866,
          0.0020485108252614737,
          0.002046700567007065,
          0.0020461042877286673,
          0.002045334316790104,
          0.0020438176579773426,
          0.0020416555926203728,
          0.0020398099441081285,
          0.0020414316095411777,
          0.0020389489363878965,
          0.0020377514883875847,
          0.002036691177636385,
          0.0020358616020530462,
          0.0020345100201666355,
          0.002032408956438303,
          0.002029786817729473,
          0.0020308271050453186,
          0.002027153968811035,
          0.0020226333290338516,
          669.09765625,
          0.0020207492634654045,
          290.31109619140625,
          0.00201893737539649,
          0.0020227490458637476,
          0.0020151089411228895,
          0.002018360886722803,
          0.0020139783155173063,
          0.0020130989141762257,
          0.002011419739574194,
          0.0020093615166842937,
          0.0020064939744770527,
          0.0020032445900142193,
          0.0020310357213020325,
          0.002000597305595875,
          0.0019944708328694105,
          0.0019955290481448174,
          0.001988203963264823,
          0.0019782446324825287,
          0.001969020813703537,
          0.001960192807018757,
          0.001956222578883171,
          0.0019539687782526016,
          0.0019528812263160944,
          0.0019507971592247486,
          0.0019487180979922414,
          0.001949711237102747,
          0.0019475063309073448,
          0.0019444557838141918,
          0.001941676833666861,
          0.0019399207085371017,
          0.001938873203471303,
          0.0019372913520783186,
          0.0019425292266532779,
          0.0019353883108124137,
          0.0019328078487887979,
          0.0019304598681628704,
          0.0019288910552859306,
          0.0019268904579803348,
          0.0019271278288215399,
          0.001923831645399332,
          0.0019188427831977606,
          0.001914478954859078,
          0.0019112564623355865,
          0.0019073232542723417,
          0.0019041434861719608,
          0.001900653587654233,
          0.0019133882597088814,
          0.0018985641654580832,
          0.0018953457474708557,
          0.0018926826305687428,
          738.2456665039062,
          0.0019438036251813173,
          0.00189252570271492,
          0.0018895468674600124,
          0.0018932037055492401,
          0.0018864634912461042,
          0.0018796457443386316,
          0.9184228777885437,
          0.0019272452918812633,
          0.0018778413068503141,
          0.001876076334156096,
          0.0018719879444688559,
          0.0035742432810366154,
          0.0018974600825458765,
          0.0018702630186453462,
          0.0018726498819887638,
          0.0018682354129850864,
          0.0018673011800274253,
          0.0018659684574231505,
          0.0018646909156814218,
          0.0018634097650647163,
          0.0018621212802827358,
          0.0018613507272675633,
          0.0018611983396112919,
          0.0018608176615089178,
          0.001860711257904768,
          0.0018605125369504094,
          0.0018603296484798193,
          0.0018600814510136843,
          0.0018781919497996569,
          0.0018600267358124256,
          0.0018596651498228312,
          0.0018601007759571075,
          0.0018594537395983934,
          11.558143615722656,
          0.0023353248834609985,
          0.0018609794788062572,
          0.0018593829590827227,
          0.001873163622803986,
          0.0018593204440549016,
          0.001858594361692667,
          0.0018577445298433304,
          0.001857595518231392,
          0.0018572283443063498,
          0.0018569529056549072,
          0.0018566716462373734,
          0.0018563363701105118,
          0.0018559735035523772,
          0.001855800161138177,
          0.0018560448661446571,
          0.0018554360140115023,
          0.0018551789689809084,
          0.0018550073727965355,
          0.00185474194586277,
          0.0018545243656262755,
          0.0018542434554547071,
          0.0018549709348008037,
          0.001854070695117116,
          0.0018539153970777988,
          0.0018538105068728328,
          0.0018550141248852015,
          0.001853804918937385,
          0.0018537584692239761,
          0.0018536786083132029,
          0.0018535852432250977,
          0.001853463938459754,
          0.0018533682450652122,
          0.0018532383255660534,
          0.0018530800007283688,
          409.388427734375,
          0.0018672721926122904,
          0.001853041467256844,
          0.0018528078217059374,
          0.0018527309875935316,
          0.001852522836998105,
          0.0018524015322327614,
          0.0018549634842202067,
          0.0018523165490478277,
          0.0018517794087529182,
          0.0018511400558054447,
          0.0019317534752190113,
          0.0018513601971790195,
          0.0018509547226130962,
          0.0018501500599086285,
          0.0018500613514333963,
          0.001849376130849123,
          0.0018492387607693672,
          0.0018487661145627499,
          0.0018491643713787198,
          0.0018486976623535156,
          0.0018485663458704948,
          0.0018484073225408792,
          0.001848289743065834,
          0.0018481567967683077,
          0.0018480026628822088,
          0.0018477486446499825,
          0.001847552601248026,
          0.0018473936943337321,
          0.0018598483875393867,
          0.0018473743693903089,
          0.0018472952069714665,
          0.0018472643569111824,
          0.001847225008532405,
          0.0018474133685231209,
          0.0018472019582986832,
          0.00184714887291193,
          0.001847107196226716,
          0.0018470501527190208,
          0.0018470392096787691,
          0.0018470126669853926,
          0.0018469435162842274,
          0.001846871105954051,
          0.0018468633061274886,
          0.0018468061462044716,
          0.001846692175604403,
          0.0018482550512999296,
          0.001846669940277934,
          0.0018466219771653414,
          0.0018465567845851183,
          0.0018465383909642696,
          0.001846513245254755,
          0.0018464443273842335,
          0.001846388215199113,
          0.0018463421147316694,
          0.0018463023006916046,
          0.0018462403677403927,
          0.0018461754079908133,
          0.001846084836870432,
          0.0018462154548615217,
          0.001846069935709238,
          0.0018459849525243044,
          0.0018458375707268715,
          0.0018458107952028513,
          0.001845725579187274,
          0.001845620688982308,
          0.0018455360550433397,
          0.001845435705035925,
          0.0018456792458891869,
          0.0018453734228387475,
          0.0018451489740982652,
          0.0018446387257426977,
          0.0018443723674863577,
          0.0018485549371689558,
          0.001843669218942523,
          0.0018434508237987757,
          0.0018422834109514952,
          0.0018415480153635144,
          0.0018408577889204025,
          0.0018432429060339928,
          0.0018399693071842194,
          0.0018403918948024511,
          0.0018392517231404781,
          0.001838616211898625,
          0.0018381767440587282,
          0.0018387938616797328,
          0.0018377590458840132,
          0.001837888266891241,
          0.001837451010942459,
          0.0018376023508608341,
          0.0018373378552496433,
          0.0018372292397543788,
          0.0018370039761066437,
          0.0018367350567132235,
          0.001836452865973115,
          0.0018360827816650271,
          0.0018354920903220773,
          0.0018352898769080639,
          0.0018345533171668649,
          0.0018341406248509884,
          0.001833057263866067,
          0.001833215239457786,
          0.001832784153521061,
          0.0018324146512895823,
          0.0018319995142519474,
          0.001832237932831049,
          0.0018317727372050285,
          0.0018315680790692568,
          0.001831177156418562,
          0.0018309152219444513,
          0.0018303816905245185,
          0.0018298099748790264,
          0.0018290772568434477,
          0.001828495878726244,
          0.0018276262562721968,
          0.0018270364962518215,
          0.0018265473190695047,
          0.0018260030774399638,
          0.0018252095906063914,
          0.0018327815923839808,
          0.001824473380111158,
          0.0018237025942653418,
          0.0018229574197903275,
          0.0018285861006006598,
          0.0018219032790511847,
          0.0018222113139927387,
          0.0018209004774689674,
          0.001820184988901019,
          0.0018194492440670729,
          0.0018195759039372206,
          0.0018191351555287838,
          0.0018183989450335503,
          0.0018183448119089007,
          0.0018179691396653652,
          0.0018171754200011492,
          0.0018168383976444602,
          0.0018161884509027004,
          0.0018158380407840014,
          0.001815269934013486,
          0.0018148616654798388,
          0.0018145253416150808,
          0.0018164906650781631,
          0.001814482850022614,
          0.0018142224289476871,
          0.0018277410417795181,
          0.0018141809850931168,
          0.0018147338414564729,
          0.0018140883184969425,
          0.001813662238419056,
          0.0018130523385480046,
          0.001812205882743001,
          0.0018121717730537057,
          0.0018246684921905398,
          0.0018113768892362714,
          0.0018110175151377916,
          0.001810759655199945,
          0.001810489222407341,
          0.0018104095943272114,
          0.0018102533649653196,
          0.0018105227500200272,
          0.0018099526641890407,
          0.00181546900421381,
          0.0018099001608788967,
          0.0018095578998327255,
          0.0018088817596435547,
          0.0018078589346259832,
          0.0018292416352778673,
          0.001807257067412138,
          0.0018058465793728828,
          0.0018047199118882418,
          0.0018049569334834814,
          0.0018041443545371294,
          0.0018040066352114081,
          0.0018034841632470489,
          0.001803019316866994,
          0.001802467042580247,
          0.001802253071218729,
          0.0018016630783677101,
          0.001801250851713121,
          0.0018006323371082544,
          0.0017997822724282742,
          0.0017994239460676908,
          0.0017998497933149338,
          0.0017989887855947018,
          0.00179883127566427,
          0.0017985212616622448,
          0.0017983450088649988,
          0.0017982249846681952,
          0.0017985273152589798,
          0.001798209734261036,
          0.0017982246354222298,
          0.0017981745768338442,
          0.0017980742268264294,
          0.0018183868378400803,
          0.0017980674747377634,
          0.001797789940610528,
          0.0017974923830479383,
          0.0017998752882704139,
          0.001797246397472918,
          0.0017967678140848875,
          0.0017961581470444798,
          0.0017956600058823824,
          0.0017966274172067642,
          0.0017952746711671352,
          0.0017942478880286217,
          0.0017941779224202037,
          0.0017932977061718702,
          0.0017916674260050058,
          0.0017895603086799383,
          0.0017898317892104387,
          0.0017876364290714264,
          0.0017849316354840994,
          0.0018264702521264553,
          0.0017818599008023739,
          0.001781869912520051,
          0.001780747901648283,
          0.0017802065704017878,
          0.0017777697648853064,
          0.001777095953002572,
          0.0017759876791387796,
          0.0017781120259314775,
          0.0017753047868609428,
          0.0017747412202879786,
          0.001774400006979704,
          0.0017741925548762083,
          0.001773933181539178,
          0.0021777378860861063,
          0.00177468522451818,
          0.0017738551832735538,
          0.0017736592562869191,
          0.0017733403947204351,
          0.0017727217637002468,
          0.0017722370103001595,
          0.00177191779948771,
          0.0017711813561618328,
          0.00177086575422436,
          0.0017706395592540503,
          0.0017707187216728926,
          0.001770466798916459,
          0.0017702843761071563,
          0.001770223956555128,
          0.0017701785545796156,
          0.0017701433971524239,
          0.0017701259348541498,
          0.001770074013620615,
          0.001770014176145196,
          0.0017699183663353324,
          0.0017698043957352638,
          0.0017696155700832605,
          1550.30712890625,
          0.001871531712822616,
          0.0017695841379463673,
          0.001769183436408639,
          0.0017690896056592464,
          0.0017686828505247831,
          0.001768454909324646,
          0.0017680376768112183,
          0.001767740584909916,
          0.0017672397661954165,
          0.001766697270795703,
          0.0017661182209849358,
          0.0017657431308180094,
          0.0017651565140113235,
          0.0017643638420850039,
          0.0017637996934354305,
          0.0017668819054961205,
          0.0017637000419199467,
          0.0017637582495808601,
          0.0017633878160268068,
          0.0017634432297199965,
          0.0017631377559155226,
          0.0017627195920795202,
          0.001762032276019454,
          0.0017616867553442717,
          0.0017611364601179957,
          0.001773393014445901,
          0.0017610224895179272,
          0.0017608462367206812,
          0.0017695613205432892,
          0.001760584767907858,
          0.001760180457495153,
          0.0017599600832909346,
          0.001759883831255138,
          0.00175985018722713,
          0.0017598067643120885,
          0.0017597548430785537,
          0.0017597227124497294,
          0.0017603576416149735,
          0.001759717590175569,
          0.001759666483849287,
          0.0017595922108739614,
          0.00175948953256011,
          0.0017593802185729146,
          0.0017590774223208427,
          0.0017588803311809897,
          0.0017584733432158828,
          0.0017581603024154902,
          0.001757889986038208,
          0.0017578061670064926,
          0.0017577417893335223,
          0.001757672755047679,
          0.0017576280515640974,
          0.0017575910314917564,
          0.0017575640231370926,
          0.001757513266056776,
          0.0017573453951627016,
          0.0017569317715242505,
          0.0017573046498000622,
          0.0017565784510225058,
          0.0017560853157192469,
          0.0017561308341100812,
          0.0017558413092046976,
          0.0017557048704475164,
          0.001755519537255168,
          0.0017552871722728014,
          0.001836978131905198,
          0.001757555641233921,
          0.0017551872879266739,
          0.0017552984645590186,
          0.001754811848513782,
          0.0017547766910865903,
          0.0017542466521263123,
          0.001754231285303831,
          0.0017540922854095697,
          0.0017538043903186917,
          0.001753730932250619,
          0.0017534331418573856,
          0.0017527681775391102,
          0.00175596890039742,
          0.0017521560657769442,
          0.001751767355017364,
          0.001751375151798129,
          0.0017687329091131687,
          0.0017504871357232332,
          0.0017491041216999292,
          0.0017827082192525268,
          0.0017489958554506302,
          0.001747357309795916,
          0.0018398510292172432,
          0.0017477462533861399,
          0.0017470226157456636,
          0.0017465667333453894,
          0.001745657529681921,
          0.0017441667150706053,
          0.001743361004628241,
          0.001748205628246069,
          0.001742600230500102,
          0.0017422798555344343,
          0.0017412288580089808,
          0.001741427113302052,
          0.0017406167462468147,
          0.0017394896131008863,
          0.0017372207948938012,
          960.4180908203125,
          0.0020238906145095825,
          0.00173728889785707,
          0.0017372067086398602,
          0.0017361610662192106,
          0.0017351676942780614,
          0.0017352337017655373,
          0.0017324851360172033,
          0.0017362574581056833,
          0.0017314672004431486,
          0.0017301817424595356,
          0.0017290867399424314,
          0.0017278068698942661,
          0.001725196372717619,
          0.0017239847220480442,
          0.001720967935398221,
          0.0017202252056449652,
          0.001720638363622129,
          0.0017188431229442358,
          0.001724304398521781,
          0.0017183877062052488,
          0.00171777477953583,
          0.0017160836141556501,
          0.001715176273137331,
          0.0017138868570327759,
          0.001730797579512,
          0.001713806763291359,
          0.0017129483167082071,
          0.0017138099065050483,
          0.0017120480770245194,
          0.0017112619243562222,
          0.0017099963733926415,
          0.0017096966039389372,
          0.0017086195293813944,
          0.0017082302365452051,
          0.0017072984483093023,
          0.001708464464172721,
          0.0017069659661501646,
          0.0017078358214348555,
          0.001706217648461461,
          0.0017055966891348362,
          0.0017046935390681028,
          0.0017047366127371788,
          0.0017045583808794618,
          0.0017044601263478398,
          0.0017043889965862036,
          0.0017043610569089651,
          0.0017043477855622768,
          0.0017047235742211342,
          0.001704353024251759,
          0.0017043545376509428,
          0.0017043519765138626,
          0.0017043538391590118,
          0.0017043477855622768,
          0.0017043477855622768,
          0.0017043477855622768
         ]
        }
       ],
       "layout": {
        "template": {
         "data": {
          "bar": [
           {
            "error_x": {
             "color": "#2a3f5f"
            },
            "error_y": {
             "color": "#2a3f5f"
            },
            "marker": {
             "line": {
              "color": "#E5ECF6",
              "width": 0.5
             },
             "pattern": {
              "fillmode": "overlay",
              "size": 10,
              "solidity": 0.2
             }
            },
            "type": "bar"
           }
          ],
          "barpolar": [
           {
            "marker": {
             "line": {
              "color": "#E5ECF6",
              "width": 0.5
             },
             "pattern": {
              "fillmode": "overlay",
              "size": 10,
              "solidity": 0.2
             }
            },
            "type": "barpolar"
           }
          ],
          "carpet": [
           {
            "aaxis": {
             "endlinecolor": "#2a3f5f",
             "gridcolor": "white",
             "linecolor": "white",
             "minorgridcolor": "white",
             "startlinecolor": "#2a3f5f"
            },
            "baxis": {
             "endlinecolor": "#2a3f5f",
             "gridcolor": "white",
             "linecolor": "white",
             "minorgridcolor": "white",
             "startlinecolor": "#2a3f5f"
            },
            "type": "carpet"
           }
          ],
          "choropleth": [
           {
            "colorbar": {
             "outlinewidth": 0,
             "ticks": ""
            },
            "type": "choropleth"
           }
          ],
          "contour": [
           {
            "colorbar": {
             "outlinewidth": 0,
             "ticks": ""
            },
            "colorscale": [
             [
              0,
              "#0d0887"
             ],
             [
              0.1111111111111111,
              "#46039f"
             ],
             [
              0.2222222222222222,
              "#7201a8"
             ],
             [
              0.3333333333333333,
              "#9c179e"
             ],
             [
              0.4444444444444444,
              "#bd3786"
             ],
             [
              0.5555555555555556,
              "#d8576b"
             ],
             [
              0.6666666666666666,
              "#ed7953"
             ],
             [
              0.7777777777777778,
              "#fb9f3a"
             ],
             [
              0.8888888888888888,
              "#fdca26"
             ],
             [
              1,
              "#f0f921"
             ]
            ],
            "type": "contour"
           }
          ],
          "contourcarpet": [
           {
            "colorbar": {
             "outlinewidth": 0,
             "ticks": ""
            },
            "type": "contourcarpet"
           }
          ],
          "heatmap": [
           {
            "colorbar": {
             "outlinewidth": 0,
             "ticks": ""
            },
            "colorscale": [
             [
              0,
              "#0d0887"
             ],
             [
              0.1111111111111111,
              "#46039f"
             ],
             [
              0.2222222222222222,
              "#7201a8"
             ],
             [
              0.3333333333333333,
              "#9c179e"
             ],
             [
              0.4444444444444444,
              "#bd3786"
             ],
             [
              0.5555555555555556,
              "#d8576b"
             ],
             [
              0.6666666666666666,
              "#ed7953"
             ],
             [
              0.7777777777777778,
              "#fb9f3a"
             ],
             [
              0.8888888888888888,
              "#fdca26"
             ],
             [
              1,
              "#f0f921"
             ]
            ],
            "type": "heatmap"
           }
          ],
          "histogram": [
           {
            "marker": {
             "pattern": {
              "fillmode": "overlay",
              "size": 10,
              "solidity": 0.2
             }
            },
            "type": "histogram"
           }
          ],
          "histogram2d": [
           {
            "colorbar": {
             "outlinewidth": 0,
             "ticks": ""
            },
            "colorscale": [
             [
              0,
              "#0d0887"
             ],
             [
              0.1111111111111111,
              "#46039f"
             ],
             [
              0.2222222222222222,
              "#7201a8"
             ],
             [
              0.3333333333333333,
              "#9c179e"
             ],
             [
              0.4444444444444444,
              "#bd3786"
             ],
             [
              0.5555555555555556,
              "#d8576b"
             ],
             [
              0.6666666666666666,
              "#ed7953"
             ],
             [
              0.7777777777777778,
              "#fb9f3a"
             ],
             [
              0.8888888888888888,
              "#fdca26"
             ],
             [
              1,
              "#f0f921"
             ]
            ],
            "type": "histogram2d"
           }
          ],
          "histogram2dcontour": [
           {
            "colorbar": {
             "outlinewidth": 0,
             "ticks": ""
            },
            "colorscale": [
             [
              0,
              "#0d0887"
             ],
             [
              0.1111111111111111,
              "#46039f"
             ],
             [
              0.2222222222222222,
              "#7201a8"
             ],
             [
              0.3333333333333333,
              "#9c179e"
             ],
             [
              0.4444444444444444,
              "#bd3786"
             ],
             [
              0.5555555555555556,
              "#d8576b"
             ],
             [
              0.6666666666666666,
              "#ed7953"
             ],
             [
              0.7777777777777778,
              "#fb9f3a"
             ],
             [
              0.8888888888888888,
              "#fdca26"
             ],
             [
              1,
              "#f0f921"
             ]
            ],
            "type": "histogram2dcontour"
           }
          ],
          "mesh3d": [
           {
            "colorbar": {
             "outlinewidth": 0,
             "ticks": ""
            },
            "type": "mesh3d"
           }
          ],
          "parcoords": [
           {
            "line": {
             "colorbar": {
              "outlinewidth": 0,
              "ticks": ""
             }
            },
            "type": "parcoords"
           }
          ],
          "pie": [
           {
            "automargin": true,
            "type": "pie"
           }
          ],
          "scatter": [
           {
            "fillpattern": {
             "fillmode": "overlay",
             "size": 10,
             "solidity": 0.2
            },
            "type": "scatter"
           }
          ],
          "scatter3d": [
           {
            "line": {
             "colorbar": {
              "outlinewidth": 0,
              "ticks": ""
             }
            },
            "marker": {
             "colorbar": {
              "outlinewidth": 0,
              "ticks": ""
             }
            },
            "type": "scatter3d"
           }
          ],
          "scattercarpet": [
           {
            "marker": {
             "colorbar": {
              "outlinewidth": 0,
              "ticks": ""
             }
            },
            "type": "scattercarpet"
           }
          ],
          "scattergeo": [
           {
            "marker": {
             "colorbar": {
              "outlinewidth": 0,
              "ticks": ""
             }
            },
            "type": "scattergeo"
           }
          ],
          "scattergl": [
           {
            "marker": {
             "colorbar": {
              "outlinewidth": 0,
              "ticks": ""
             }
            },
            "type": "scattergl"
           }
          ],
          "scattermap": [
           {
            "marker": {
             "colorbar": {
              "outlinewidth": 0,
              "ticks": ""
             }
            },
            "type": "scattermap"
           }
          ],
          "scattermapbox": [
           {
            "marker": {
             "colorbar": {
              "outlinewidth": 0,
              "ticks": ""
             }
            },
            "type": "scattermapbox"
           }
          ],
          "scatterpolar": [
           {
            "marker": {
             "colorbar": {
              "outlinewidth": 0,
              "ticks": ""
             }
            },
            "type": "scatterpolar"
           }
          ],
          "scatterpolargl": [
           {
            "marker": {
             "colorbar": {
              "outlinewidth": 0,
              "ticks": ""
             }
            },
            "type": "scatterpolargl"
           }
          ],
          "scatterternary": [
           {
            "marker": {
             "colorbar": {
              "outlinewidth": 0,
              "ticks": ""
             }
            },
            "type": "scatterternary"
           }
          ],
          "surface": [
           {
            "colorbar": {
             "outlinewidth": 0,
             "ticks": ""
            },
            "colorscale": [
             [
              0,
              "#0d0887"
             ],
             [
              0.1111111111111111,
              "#46039f"
             ],
             [
              0.2222222222222222,
              "#7201a8"
             ],
             [
              0.3333333333333333,
              "#9c179e"
             ],
             [
              0.4444444444444444,
              "#bd3786"
             ],
             [
              0.5555555555555556,
              "#d8576b"
             ],
             [
              0.6666666666666666,
              "#ed7953"
             ],
             [
              0.7777777777777778,
              "#fb9f3a"
             ],
             [
              0.8888888888888888,
              "#fdca26"
             ],
             [
              1,
              "#f0f921"
             ]
            ],
            "type": "surface"
           }
          ],
          "table": [
           {
            "cells": {
             "fill": {
              "color": "#EBF0F8"
             },
             "line": {
              "color": "white"
             }
            },
            "header": {
             "fill": {
              "color": "#C8D4E3"
             },
             "line": {
              "color": "white"
             }
            },
            "type": "table"
           }
          ]
         },
         "layout": {
          "annotationdefaults": {
           "arrowcolor": "#2a3f5f",
           "arrowhead": 0,
           "arrowwidth": 1
          },
          "autotypenumbers": "strict",
          "coloraxis": {
           "colorbar": {
            "outlinewidth": 0,
            "ticks": ""
           }
          },
          "colorscale": {
           "diverging": [
            [
             0,
             "#8e0152"
            ],
            [
             0.1,
             "#c51b7d"
            ],
            [
             0.2,
             "#de77ae"
            ],
            [
             0.3,
             "#f1b6da"
            ],
            [
             0.4,
             "#fde0ef"
            ],
            [
             0.5,
             "#f7f7f7"
            ],
            [
             0.6,
             "#e6f5d0"
            ],
            [
             0.7,
             "#b8e186"
            ],
            [
             0.8,
             "#7fbc41"
            ],
            [
             0.9,
             "#4d9221"
            ],
            [
             1,
             "#276419"
            ]
           ],
           "sequential": [
            [
             0,
             "#0d0887"
            ],
            [
             0.1111111111111111,
             "#46039f"
            ],
            [
             0.2222222222222222,
             "#7201a8"
            ],
            [
             0.3333333333333333,
             "#9c179e"
            ],
            [
             0.4444444444444444,
             "#bd3786"
            ],
            [
             0.5555555555555556,
             "#d8576b"
            ],
            [
             0.6666666666666666,
             "#ed7953"
            ],
            [
             0.7777777777777778,
             "#fb9f3a"
            ],
            [
             0.8888888888888888,
             "#fdca26"
            ],
            [
             1,
             "#f0f921"
            ]
           ],
           "sequentialminus": [
            [
             0,
             "#0d0887"
            ],
            [
             0.1111111111111111,
             "#46039f"
            ],
            [
             0.2222222222222222,
             "#7201a8"
            ],
            [
             0.3333333333333333,
             "#9c179e"
            ],
            [
             0.4444444444444444,
             "#bd3786"
            ],
            [
             0.5555555555555556,
             "#d8576b"
            ],
            [
             0.6666666666666666,
             "#ed7953"
            ],
            [
             0.7777777777777778,
             "#fb9f3a"
            ],
            [
             0.8888888888888888,
             "#fdca26"
            ],
            [
             1,
             "#f0f921"
            ]
           ]
          },
          "colorway": [
           "#636efa",
           "#EF553B",
           "#00cc96",
           "#ab63fa",
           "#FFA15A",
           "#19d3f3",
           "#FF6692",
           "#B6E880",
           "#FF97FF",
           "#FECB52"
          ],
          "font": {
           "color": "#2a3f5f"
          },
          "geo": {
           "bgcolor": "white",
           "lakecolor": "white",
           "landcolor": "#E5ECF6",
           "showlakes": true,
           "showland": true,
           "subunitcolor": "white"
          },
          "hoverlabel": {
           "align": "left"
          },
          "hovermode": "closest",
          "mapbox": {
           "style": "light"
          },
          "paper_bgcolor": "white",
          "plot_bgcolor": "#E5ECF6",
          "polar": {
           "angularaxis": {
            "gridcolor": "white",
            "linecolor": "white",
            "ticks": ""
           },
           "bgcolor": "#E5ECF6",
           "radialaxis": {
            "gridcolor": "white",
            "linecolor": "white",
            "ticks": ""
           }
          },
          "scene": {
           "xaxis": {
            "backgroundcolor": "#E5ECF6",
            "gridcolor": "white",
            "gridwidth": 2,
            "linecolor": "white",
            "showbackground": true,
            "ticks": "",
            "zerolinecolor": "white"
           },
           "yaxis": {
            "backgroundcolor": "#E5ECF6",
            "gridcolor": "white",
            "gridwidth": 2,
            "linecolor": "white",
            "showbackground": true,
            "ticks": "",
            "zerolinecolor": "white"
           },
           "zaxis": {
            "backgroundcolor": "#E5ECF6",
            "gridcolor": "white",
            "gridwidth": 2,
            "linecolor": "white",
            "showbackground": true,
            "ticks": "",
            "zerolinecolor": "white"
           }
          },
          "shapedefaults": {
           "line": {
            "color": "#2a3f5f"
           }
          },
          "ternary": {
           "aaxis": {
            "gridcolor": "white",
            "linecolor": "white",
            "ticks": ""
           },
           "baxis": {
            "gridcolor": "white",
            "linecolor": "white",
            "ticks": ""
           },
           "bgcolor": "#E5ECF6",
           "caxis": {
            "gridcolor": "white",
            "linecolor": "white",
            "ticks": ""
           }
          },
          "title": {
           "x": 0.05
          },
          "xaxis": {
           "automargin": true,
           "gridcolor": "white",
           "linecolor": "white",
           "ticks": "",
           "title": {
            "standoff": 15
           },
           "zerolinecolor": "white",
           "zerolinewidth": 2
          },
          "yaxis": {
           "automargin": true,
           "gridcolor": "white",
           "linecolor": "white",
           "ticks": "",
           "title": {
            "standoff": 15
           },
           "zerolinecolor": "white",
           "zerolinewidth": 2
          }
         }
        },
        "title": {
         "text": "Total Loss"
        },
        "xaxis": {
         "title": {
          "text": "Iteration"
         }
        },
        "yaxis": {
         "title": {
          "text": "Loss (log scale)"
         },
         "type": "log"
        }
       }
      }
     },
     "metadata": {},
     "output_type": "display_data"
    }
   ],
   "source": [
    "# Plot loss with axis labels in log scale\n",
    "fig = go.Figure()\n",
    "fig.add_trace(go.Scatter(y=loss_history['total_loss'], mode='lines'))\n",
    "fig.update_layout(\n",
    "    title='Total Loss',\n",
    "    xaxis_title='Iteration',\n",
    "    yaxis=dict(\n",
    "        title='Loss (log scale)',\n",
    "        type='log'\n",
    "    )\n",
    ")\n",
    "fig.show()"
   ]
  },
  {
   "cell_type": "code",
   "execution_count": 26,
   "metadata": {
    "tags": [
     "remove-cell"
    ]
   },
   "outputs": [
    {
     "data": {
      "application/vnd.plotly.v1+json": {
       "config": {
        "plotlyServerURL": "https://plot.ly"
       },
       "data": [
        {
         "colorscale": [
          [
           0,
           "rgb(11,3,5)"
          ],
          [
           0.010101010101010102,
           "rgb(13,4,7)"
          ],
          [
           0.020202020202020204,
           "rgb(16,7,11)"
          ],
          [
           0.030303030303030304,
           "rgb(18,8,14)"
          ],
          [
           0.04040404040404041,
           "rgb(21,11,19)"
          ],
          [
           0.050505050505050504,
           "rgb(23,12,22)"
          ],
          [
           0.06060606060606061,
           "rgb(26,15,26)"
          ],
          [
           0.0707070707070707,
           "rgb(29,17,30)"
          ],
          [
           0.08080808080808081,
           "rgb(31,18,33)"
          ],
          [
           0.09090909090909091,
           "rgb(34,21,38)"
          ],
          [
           0.10101010101010101,
           "rgb(36,22,41)"
          ],
          [
           0.1111111111111111,
           "rgb(39,24,46)"
          ],
          [
           0.12121212121212122,
           "rgb(42,26,50)"
          ],
          [
           0.13131313131313133,
           "rgb(43,28,54)"
          ],
          [
           0.1414141414141414,
           "rgb(46,30,58)"
          ],
          [
           0.15151515151515152,
           "rgb(47,31,62)"
          ],
          [
           0.16161616161616163,
           "rgb(50,34,67)"
          ],
          [
           0.1717171717171717,
           "rgb(51,35,70)"
          ],
          [
           0.18181818181818182,
           "rgb(53,38,75)"
          ],
          [
           0.1919191919191919,
           "rgb(55,40,80)"
          ],
          [
           0.20202020202020202,
           "rgb(56,42,84)"
          ],
          [
           0.21212121212121213,
           "rgb(58,44,89)"
          ],
          [
           0.2222222222222222,
           "rgb(59,46,92)"
          ],
          [
           0.23232323232323232,
           "rgb(60,48,98)"
          ],
          [
           0.24242424242424243,
           "rgb(61,51,103)"
          ],
          [
           0.25252525252525254,
           "rgb(62,52,107)"
          ],
          [
           0.26262626262626265,
           "rgb(63,55,112)"
          ],
          [
           0.2727272727272727,
           "rgb(63,57,116)"
          ],
          [
           0.2828282828282828,
           "rgb(64,59,121)"
          ],
          [
           0.29292929292929293,
           "rgb(64,61,124)"
          ],
          [
           0.30303030303030304,
           "rgb(64,64,130)"
          ],
          [
           0.31313131313131315,
           "rgb(64,67,134)"
          ],
          [
           0.32323232323232326,
           "rgb(64,69,137)"
          ],
          [
           0.3333333333333333,
           "rgb(63,72,142)"
          ],
          [
           0.3434343434343434,
           "rgb(63,75,144)"
          ],
          [
           0.35353535353535354,
           "rgb(61,78,147)"
          ],
          [
           0.36363636363636365,
           "rgb(60,82,150)"
          ],
          [
           0.37373737373737376,
           "rgb(59,84,151)"
          ],
          [
           0.3838383838383838,
           "rgb(58,88,153)"
          ],
          [
           0.3939393939393939,
           "rgb(57,90,154)"
          ],
          [
           0.40404040404040403,
           "rgb(56,94,155)"
          ],
          [
           0.41414141414141414,
           "rgb(55,97,157)"
          ],
          [
           0.42424242424242425,
           "rgb(55,100,157)"
          ],
          [
           0.43434343434343436,
           "rgb(54,103,158)"
          ],
          [
           0.4444444444444444,
           "rgb(54,105,159)"
          ],
          [
           0.45454545454545453,
           "rgb(53,109,159)"
          ],
          [
           0.46464646464646464,
           "rgb(53,111,160)"
          ],
          [
           0.47474747474747475,
           "rgb(53,115,160)"
          ],
          [
           0.48484848484848486,
           "rgb(53,118,161)"
          ],
          [
           0.494949494949495,
           "rgb(52,120,162)"
          ],
          [
           0.5050505050505051,
           "rgb(52,124,162)"
          ],
          [
           0.5151515151515151,
           "rgb(52,126,163)"
          ],
          [
           0.5252525252525253,
           "rgb(52,129,164)"
          ],
          [
           0.5353535353535354,
           "rgb(52,132,165)"
          ],
          [
           0.5454545454545454,
           "rgb(52,135,165)"
          ],
          [
           0.5555555555555556,
           "rgb(51,138,166)"
          ],
          [
           0.5656565656565656,
           "rgb(51,140,166)"
          ],
          [
           0.5757575757575758,
           "rgb(51,144,167)"
          ],
          [
           0.5858585858585859,
           "rgb(51,146,168)"
          ],
          [
           0.5959595959595959,
           "rgb(52,149,168)"
          ],
          [
           0.6060606060606061,
           "rgb(52,153,169)"
          ],
          [
           0.6161616161616161,
           "rgb(52,155,169)"
          ],
          [
           0.6262626262626263,
           "rgb(53,158,170)"
          ],
          [
           0.6363636363636364,
           "rgb(53,160,170)"
          ],
          [
           0.6464646464646465,
           "rgb(54,164,171)"
          ],
          [
           0.6565656565656566,
           "rgb(55,167,171)"
          ],
          [
           0.6666666666666666,
           "rgb(56,169,172)"
          ],
          [
           0.6767676767676768,
           "rgb(57,173,172)"
          ],
          [
           0.6868686868686869,
           "rgb(59,175,172)"
          ],
          [
           0.696969696969697,
           "rgb(61,178,172)"
          ],
          [
           0.7070707070707071,
           "rgb(63,182,173)"
          ],
          [
           0.7171717171717171,
           "rgb(65,184,173)"
          ],
          [
           0.7272727272727273,
           "rgb(67,187,173)"
          ],
          [
           0.7373737373737373,
           "rgb(69,189,173)"
          ],
          [
           0.7474747474747475,
           "rgb(73,193,173)"
          ],
          [
           0.7575757575757576,
           "rgb(75,195,173)"
          ],
          [
           0.7676767676767676,
           "rgb(80,198,172)"
          ],
          [
           0.7777777777777778,
           "rgb(85,201,172)"
          ],
          [
           0.7878787878787878,
           "rgb(89,203,172)"
          ],
          [
           0.797979797979798,
           "rgb(95,206,172)"
          ],
          [
           0.8080808080808081,
           "rgb(100,208,172)"
          ],
          [
           0.8181818181818182,
           "rgb(109,210,172)"
          ],
          [
           0.8282828282828283,
           "rgb(118,213,173)"
          ],
          [
           0.8383838383838383,
           "rgb(124,214,174)"
          ],
          [
           0.8484848484848485,
           "rgb(133,216,176)"
          ],
          [
           0.8585858585858586,
           "rgb(139,217,178)"
          ],
          [
           0.8686868686868687,
           "rgb(147,219,180)"
          ],
          [
           0.8787878787878788,
           "rgb(153,221,182)"
          ],
          [
           0.8888888888888888,
           "rgb(161,223,185)"
          ],
          [
           0.898989898989899,
           "rgb(168,225,189)"
          ],
          [
           0.9090909090909091,
           "rgb(173,226,191)"
          ],
          [
           0.9191919191919192,
           "rgb(180,228,195)"
          ],
          [
           0.9292929292929293,
           "rgb(185,230,198)"
          ],
          [
           0.9393939393939394,
           "rgb(191,232,203)"
          ],
          [
           0.9494949494949495,
           "rgb(197,235,208)"
          ],
          [
           0.9595959595959596,
           "rgb(202,236,212)"
          ],
          [
           0.9696969696969697,
           "rgb(208,238,217)"
          ],
          [
           0.9797979797979798,
           "rgb(212,240,220)"
          ],
          [
           0.98989898989899,
           "rgb(218,243,225)"
          ],
          [
           1,
           "rgb(222,244,228)"
          ]
         ],
         "type": "surface",
         "x": {
          "bdata": "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",
          "dtype": "f8",
          "shape": "100, 100"
         },
         "y": {
          "bdata": "AAAAAAAAAAAAAAAAAAAAAAAAAAAAAAAAAAAAAAAAAAAAAAAAAAAAAAAAAAAAAAAAAAAAAAAAAAAAAAAAAAAAAAAAAAAAAAAAAAAAAAAAAAAAAAAAAAAAAAAAAAAAAAAAAAAAAAAAAAAAAAAAAAAAAAAAAAAAAAAAAAAAAAAAAAAAAAAAAAAAAAAAAAAAAAAAAAAAAAAAAAAAAAAAAAAAAAAAAAAAAAAAAAAAAAAAAAAAAAAAAAAAAAAAAAAAAAAAAAAAAAAAAAAAAAAAAAAAAAAAAAAAAAAAAAAAAAAAAAAAAAAAAAAAAAAAAAAAAAAAAAAAAAAAAAAAAAAAAAAAAAAAAAAAAAAAAAAAAAAAAAAAAAAAAAAAAAAAAAAAAAAAAAAAAAAAAAAAAAAAAAAAAAAAAAAAAAAAAAAAAAAAAAAAAAAAAAAAAAAAAAAAAAAAAAAAAAAAAAAAAAAAAAAAAAAAAAAAAAAAAAAAAAAAAAAAAAAAAAAAAAAAAAAAAAAAAAAAAAAAAAAAAAAAAAAAAAAAAAAAAAAAAAAAAAAAAAAAAAAAAAAAAAAAAAAAAAAAAAAAAAAAAAAAAAAAAAAAAAAAAAAAAAAAAAAAAAAAAAAAAAAAAAAAAAAAAAAAAAAAAAAAAAAAAAAAAAAAAAAAAAAAAAAAAAAAAAAAAAAAAAAAAAAAAAAAAAAAAAAAAAAAAAAAAAAAAAAAAAAAAAAAAAAAAAAAAAAAAAAAAAAAAAAAAAAAAAAAAAAAAAAAAAAAAAAAAAAAAAAAAAAAAAAAAAAAAAAAAAAAAAAAAAAAAAAAAAAAAAAAAAAAAAAAAAAAAAAAAAAAAAAAAAAAAAAAAAAAAAAAAAAAAAAAAAAAAAAAAAAAAAAAAAAAAAAAAAAAAAAAAAAAAAAAAAAAAAAAAAAAAAAAAAAAAAAAAAAAAAAAAAAAAAAAAAAAAAAAAAAAAAAAAAAAAAAAAAAAAAAAAAAAAAAAAAAAAAAAAAAAAAAAAAAAAAAAAAAAAAAAAAAAAAAAAAAAAAAAAAAAAAAAAAAAAAAAAAAAAAAAAAAAAABlk0022WTjP2WTTTbZZOM/ZZNNNtlk4z9lk0022WTjP2WTTTbZZOM/ZZNNNtlk4z9lk0022WTjP2WTTTbZZOM/ZZNNNtlk4z9lk0022WTjP2WTTTbZZOM/ZZNNNtlk4z9lk0022WTjP2WTTTbZZOM/ZZNNNtlk4z9lk0022WTjP2WTTTbZZOM/ZZNNNtlk4z9lk0022WTjP2WTTTbZZOM/ZZNNNtlk4z9lk0022WTjP2WTTTbZZOM/ZZNNNtlk4z9lk0022WTjP2WTTTbZZOM/ZZNNNtlk4z9lk0022WTjP2WTTTbZZOM/ZZNNNtlk4z9lk0022WTjP2WTTTbZZOM/ZZNNNtlk4z9lk0022WTjP2WTTTbZZOM/ZZNNNtlk4z9lk0022WTjP2WTTTbZZOM/ZZNNNtlk4z9lk0022WTjP2WTTTbZZOM/ZZNNNtlk4z9lk0022WTjP2WTTTbZZOM/ZZNNNtlk4z9lk0022WTjP2WTTTbZZOM/ZZNNNtlk4z9lk0022WTjP2WTTTbZZOM/ZZNNNtlk4z9lk0022WTjP2WTTTbZZOM/ZZNNNtlk4z9lk0022WTjP2WTTTbZZOM/ZZNNNtlk4z9lk0022WTjP2WTTTbZZOM/ZZNNNtlk4z9lk0022WTjP2WTTTbZZOM/ZZNNNtlk4z9lk0022WTjP2WTTTbZZOM/ZZNNNtlk4z9lk0022WTjP2WTTTbZZOM/ZZNNNtlk4z9lk0022WTjP2WTTTbZZOM/ZZNNNtlk4z9lk0022WTjP2WTTTbZZOM/ZZNNNtlk4z9lk0022WTjP2WTTTbZZOM/ZZNNNtlk4z9lk0022WTjP2WTTTbZZOM/ZZNNNtlk4z9lk0022WTjP2WTTTbZZOM/ZZNNNtlk4z9lk0022WTjP2WTTTbZZOM/ZZNNNtlk4z9lk0022WTjP2WTTTbZZOM/ZZNNNtlk4z9lk0022WTjP2WTTTbZZOM/ZZNNNtlk4z9lk0022WTjP2WTTTbZZOM/ZZNNNtlk4z9lk0022WTjP2WTTTbZZOM/ZZNNNtlk4z9lk0022WTjP2WTTTbZZPM/ZZNNNtlk8z9lk0022WTzP2WTTTbZZPM/ZZNNNtlk8z9lk0022WTzP2WTTTbZZPM/ZZNNNtlk8z9lk0022WTzP2WTTTbZZPM/ZZNNNtlk8z9lk0022WTzP2WTTTbZZPM/ZZNNNtlk8z9lk0022WTzP2WTTTbZZPM/ZZNNNtlk8z9lk0022WTzP2WTTTbZZPM/ZZNNNtlk8z9lk0022WTzP2WTTTbZZPM/ZZNNNtlk8z9lk0022WTzP2WTTTbZZPM/ZZNNNtlk8z9lk0022WTzP2WTTTbZZPM/ZZNNNtlk8z9lk0022WTzP2WTTTbZZPM/ZZNNNtlk8z9lk0022WTzP2WTTTbZZPM/ZZNNNtlk8z9lk0022WTzP2WTTTbZZPM/ZZNNNtlk8z9lk0022WTzP2WTTTbZZPM/ZZNNNtlk8z9lk0022WTzP2WTTTbZZPM/ZZNNNtlk8z9lk0022WTzP2WTTTbZZPM/ZZNNNtlk8z9lk0022WTzP2WTTTbZZPM/ZZNNNtlk8z9lk0022WTzP2WTTTbZZPM/ZZNNNtlk8z9lk0022WTzP2WTTTbZZPM/ZZNNNtlk8z9lk0022WTzP2WTTTbZZPM/ZZNNNtlk8z9lk0022WTzP2WTTTbZZPM/ZZNNNtlk8z9lk0022WTzP2WTTTbZZPM/ZZNNNtlk8z9lk0022WTzP2WTTTbZZPM/ZZNNNtlk8z9lk0022WTzP2WTTTbZZPM/ZZNNNtlk8z9lk0022WTzP2WTTTbZZPM/ZZNNNtlk8z9lk0022WTzP2WTTTbZZPM/ZZNNNtlk8z9lk0022WTzP2WTTTbZZPM/ZZNNNtlk8z9lk0022WTzP2WTTTbZZPM/ZZNNNtlk8z9lk0022WTzP2WTTTbZZPM/ZZNNNtlk8z9lk0022WTzP2WTTTbZZPM/ZZNNNtlk8z9lk0022WTzP2WTTTbZZPM/ZZNNNtlk8z9lk0022WTzP2WTTTbZZPM/ZZNNNtlk8z9lk0022WTzP2WTTTbZZPM/ZZNNNtlk8z9lk0022WTzP2WTTTbZZPM/GF100UUX/T8YXXTRRRf9PxhddNFFF/0/GF100UUX/T8YXXTRRRf9PxhddNFFF/0/GF100UUX/T8YXXTRRRf9PxhddNFFF/0/GF100UUX/T8YXXTRRRf9PxhddNFFF/0/GF100UUX/T8YXXTRRRf9PxhddNFFF/0/GF100UUX/T8YXXTRRRf9PxhddNFFF/0/GF100UUX/T8YXXTRRRf9PxhddNFFF/0/GF100UUX/T8YXXTRRRf9PxhddNFFF/0/GF100UUX/T8YXXTRRRf9PxhddNFFF/0/GF100UUX/T8YXXTRRRf9PxhddNFFF/0/GF100UUX/T8YXXTRRRf9PxhddNFFF/0/GF100UUX/T8YXXTRRRf9PxhddNFFF/0/GF100UUX/T8YXXTRRRf9PxhddNFFF/0/GF100UUX/T8YXXTRRRf9PxhddNFFF/0/GF100UUX/T8YXXTRRRf9PxhddNFFF/0/GF100UUX/T8YXXTRRRf9PxhddNFFF/0/GF100UUX/T8YXXTRRRf9PxhddNFFF/0/GF100UUX/T8YXXTRRRf9PxhddNFFF/0/GF100UUX/T8YXXTRRRf9PxhddNFFF/0/GF100UUX/T8YXXTRRRf9PxhddNFFF/0/GF100UUX/T8YXXTRRRf9PxhddNFFF/0/GF100UUX/T8YXXTRRRf9PxhddNFFF/0/GF100UUX/T8YXXTRRRf9PxhddNFFF/0/GF100UUX/T8YXXTRRRf9PxhddNFFF/0/GF100UUX/T8YXXTRRRf9PxhddNFFF/0/GF100UUX/T8YXXTRRRf9PxhddNFFF/0/GF100UUX/T8YXXTRRRf9PxhddNFFF/0/GF100UUX/T8YXXTRRRf9PxhddNFFF/0/GF100UUX/T8YXXTRRRf9PxhddNFFF/0/GF100UUX/T8YXXTRRRf9PxhddNFFF/0/GF100UUX/T8YXXTRRRf9PxhddNFFF/0/GF100UUX/T8YXXTRRRf9PxhddNFFF/0/GF100UUX/T8YXXTRRRf9PxhddNFFF/0/GF100UUX/T9lk0022WQDQGWTTTbZZANAZZNNNtlkA0Blk0022WQDQGWTTTbZZANAZZNNNtlkA0Blk0022WQDQGWTTTbZZANAZZNNNtlkA0Blk0022WQDQGWTTTbZZANAZZNNNtlkA0Blk0022WQDQGWTTTbZZANAZZNNNtlkA0Blk0022WQDQGWTTTbZZANAZZNNNtlkA0Blk0022WQDQGWTTTbZZANAZZNNNtlkA0Blk0022WQDQGWTTTbZZANAZZNNNtlkA0Blk0022WQDQGWTTTbZZANAZZNNNtlkA0Blk0022WQDQGWTTTbZZANAZZNNNtlkA0Blk0022WQDQGWTTTbZZANAZZNNNtlkA0Blk0022WQDQGWTTTbZZANAZZNNNtlkA0Blk0022WQDQGWTTTbZZANAZZNNNtlkA0Blk0022WQDQGWTTTbZZANAZZNNNtlkA0Blk0022WQDQGWTTTbZZANAZZNNNtlkA0Blk0022WQDQGWTTTbZZANAZZNNNtlkA0Blk0022WQDQGWTTTbZZANAZZNNNtlkA0Blk0022WQDQGWTTTbZZANAZZNNNtlkA0Blk0022WQDQGWTTTbZZANAZZNNNtlkA0Blk0022WQDQGWTTTbZZANAZZNNNtlkA0Blk0022WQDQGWTTTbZZANAZZNNNtlkA0Blk0022WQDQGWTTTbZZANAZZNNNtlkA0Blk0022WQDQGWTTTbZZANAZZNNNtlkA0Blk0022WQDQGWTTTbZZANAZZNNNtlkA0Blk0022WQDQGWTTTbZZANAZZNNNtlkA0Blk0022WQDQGWTTTbZZANAZZNNNtlkA0Blk0022WQDQGWTTTbZZANAZZNNNtlkA0Blk0022WQDQGWTTTbZZANAZZNNNtlkA0Blk0022WQDQGWTTTbZZANAZZNNNtlkA0Blk0022WQDQGWTTTbZZANAZZNNNtlkA0Blk0022WQDQGWTTTbZZANAZZNNNtlkA0Blk0022WQDQGWTTTbZZANAZZNNNtlkA0Blk0022WQDQGWTTTbZZANAZZNNNtlkA0Blk0022WQDQD744IMPPghAPvjggw8+CEA++OCDDz4IQD744IMPPghAPvjggw8+CEA++OCDDz4IQD744IMPPghAPvjggw8+CEA++OCDDz4IQD744IMPPghAPvjggw8+CEA++OCDDz4IQD744IMPPghAPvjggw8+CEA++OCDDz4IQD744IMPPghAPvjggw8+CEA++OCDDz4IQD744IMPPghAPvjggw8+CEA++OCDDz4IQD744IMPPghAPvjggw8+CEA++OCDDz4IQD744IMPPghAPvjggw8+CEA++OCDDz4IQD744IMPPghAPvjggw8+CEA++OCDDz4IQD744IMPPghAPvjggw8+CEA++OCDDz4IQD744IMPPghAPvjggw8+CEA++OCDDz4IQD744IMPPghAPvjggw8+CEA++OCDDz4IQD744IMPPghAPvjggw8+CEA++OCDDz4IQD744IMPPghAPvjggw8+CEA++OCDDz4IQD744IMPPghAPvjggw8+CEA++OCDDz4IQD744IMPPghAPvjggw8+CEA++OCDDz4IQD744IMPPghAPvjggw8+CEA++OCDDz4IQD744IMPPghAPvjggw8+CEA++OCDDz4IQD744IMPPghAPvjggw8+CEA++OCDDz4IQD744IMPPghAPvjggw8+CEA++OCDDz4IQD744IMPPghAPvjggw8+CEA++OCDDz4IQD744IMPPghAPvjggw8+CEA++OCDDz4IQD744IMPPghAPvjggw8+CEA++OCDDz4IQD744IMPPghAPvjggw8+CEA++OCDDz4IQD744IMPPghAPvjggw8+CEA++OCDDz4IQD744IMPPghAPvjggw8+CEA++OCDDz4IQD744IMPPghAPvjggw8+CEA++OCDDz4IQD744IMPPghAPvjggw8+CEA++OCDDz4IQD744IMPPghAPvjggw8+CEA++OCDDz4IQD744IMPPghAPvjggw8+CEA++OCDDz4IQD744IMPPghAPvjggw8+CEA++OCDDz4IQD744IMPPghAPvjggw8+CEA++OCDDz4IQD744IMPPghAGF100UUXDUAYXXTRRRcNQBhddNFFFw1AGF100UUXDUAYXXTRRRcNQBhddNFFFw1AGF100UUXDUAYXXTRRRcNQBhddNFFFw1AGF100UUXDUAYXXTRRRcNQBhddNFFFw1AGF100UUXDUAYXXTRRRcNQBhddNFFFw1AGF100UUXDUAYXXTRRRcNQBhddNFFFw1AGF100UUXDUAYXXTRRRcNQBhddNFFFw1AGF100UUXDUAYXXTRRRcNQBhddNFFFw1AGF100UUXDUAYXXTRRRcNQBhddNFFFw1AGF100UUXDUAYXXTRRRcNQBhddNFFFw1AGF100UUXDUAYXXTRRRcNQBhddNFFFw1AGF100UUXDUAYXXTRRRcNQBhddNFFFw1AGF100UUXDUAYXXTRRRcNQBhddNFFFw1AGF100UUXDUAYXXTRRRcNQBhddNFFFw1AGF100UUXDUAYXXTRRRcNQBhddNFFFw1AGF100UUXDUAYXXTRRRcNQBhddNFFFw1AGF100UUXDUAYXXTRRRcNQBhddNFFFw1AGF100UUXDUAYXXTRRRcNQBhddNFFFw1AGF100UUXDUAYXXTRRRcNQBhddNFFFw1AGF100UUXDUAYXXTRRRcNQBhddNFFFw1AGF100UUXDUAYXXTRRRcNQBhddNFFFw1AGF100UUXDUAYXXTRRRcNQBhddNFFFw1AGF100UUXDUAYXXTRRRcNQBhddNFFFw1AGF100UUXDUAYXXTRRRcNQBhddNFFFw1AGF100UUXDUAYXXTRRRcNQBhddNFFFw1AGF100UUXDUAYXXTRRRcNQBhddNFFFw1AGF100UUXDUAYXXTRRRcNQBhddNFFFw1AGF100UUXDUAYXXTRRRcNQBhddNFFFw1AGF100UUXDUAYXXTRRRcNQBhddNFFFw1AGF100UUXDUAYXXTRRRcNQBhddNFFFw1AGF100UUXDUAYXXTRRRcNQBhddNFFFw1AGF100UUXDUAYXXTRRRcNQBhddNFFFw1AGF100UUXDUAYXXTRRRcNQBhddNFFFw1AGF100UUXDUD44IMPPvgQQPjggw8++BBA+OCDDz74EED44IMPPvgQQPjggw8++BBA+OCDDz74EED44IMPPvgQQPjggw8++BBA+OCDDz74EED44IMPPvgQQPjggw8++BBA+OCDDz74EED44IMPPvgQQPjggw8++BBA+OCDDz74EED44IMPPvgQQPjggw8++BBA+OCDDz74EED44IMPPvgQQPjggw8++BBA+OCDDz74EED44IMPPvgQQPjggw8++BBA+OCDDz74EED44IMPPvgQQPjggw8++BBA+OCDDz74EED44IMPPvgQQPjggw8++BBA+OCDDz74EED44IMPPvgQQPjggw8++BBA+OCDDz74EED44IMPPvgQQPjggw8++BBA+OCDDz74EED44IMPPvgQQPjggw8++BBA+OCDDz74EED44IMPPvgQQPjggw8++BBA+OCDDz74EED44IMPPvgQQPjggw8++BBA+OCDDz74EED44IMPPvgQQPjggw8++BBA+OCDDz74EED44IMPPvgQQPjggw8++BBA+OCDDz74EED44IMPPvgQQPjggw8++BBA+OCDDz74EED44IMPPvgQQPjggw8++BBA+OCDDz74EED44IMPPvgQQPjggw8++BBA+OCDDz74EED44IMPPvgQQPjggw8++BBA+OCDDz74EED44IMPPvgQQPjggw8++BBA+OCDDz74EED44IMPPvgQQPjggw8++BBA+OCDDz74EED44IMPPvgQQPjggw8++BBA+OCDDz74EED44IMPPvgQQPjggw8++BBA+OCDDz74EED44IMPPvgQQPjggw8++BBA+OCDDz74EED44IMPPvgQQPjggw8++BBA+OCDDz74EED44IMPPvgQQPjggw8++BBA+OCDDz74EED44IMPPvgQQPjggw8++BBA+OCDDz74EED44IMPPvgQQPjggw8++BBA+OCDDz74EED44IMPPvgQQPjggw8++BBA+OCDDz74EED44IMPPvgQQPjggw8++BBA+OCDDz74EED44IMPPvgQQPjggw8++BBA+OCDDz74EED44IMPPvgQQGWTTTbZZBNAZZNNNtlkE0Blk0022WQTQGWTTTbZZBNAZZNNNtlkE0Blk0022WQTQGWTTTbZZBNAZZNNNtlkE0Blk0022WQTQGWTTTbZZBNAZZNNNtlkE0Blk0022WQTQGWTTTbZZBNAZZNNNtlkE0Blk0022WQTQGWTTTbZZBNAZZNNNtlkE0Blk0022WQTQGWTTTbZZBNAZZNNNtlkE0Blk0022WQTQGWTTTbZZBNAZZNNNtlkE0Blk0022WQTQGWTTTbZZBNAZZNNNtlkE0Blk0022WQTQGWTTTbZZBNAZZNNNtlkE0Blk0022WQTQGWTTTbZZBNAZZNNNtlkE0Blk0022WQTQGWTTTbZZBNAZZNNNtlkE0Blk0022WQTQGWTTTbZZBNAZZNNNtlkE0Blk0022WQTQGWTTTbZZBNAZZNNNtlkE0Blk0022WQTQGWTTTbZZBNAZZNNNtlkE0Blk0022WQTQGWTTTbZZBNAZZNNNtlkE0Blk0022WQTQGWTTTbZZBNAZZNNNtlkE0Blk0022WQTQGWTTTbZZBNAZZNNNtlkE0Blk0022WQTQGWTTTbZZBNAZZNNNtlkE0Blk0022WQTQGWTTTbZZBNAZZNNNtlkE0Blk0022WQTQGWTTTbZZBNAZZNNNtlkE0Blk0022WQTQGWTTTbZZBNAZZNNNtlkE0Blk0022WQTQGWTTTbZZBNAZZNNNtlkE0Blk0022WQTQGWTTTbZZBNAZZNNNtlkE0Blk0022WQTQGWTTTbZZBNAZZNNNtlkE0Blk0022WQTQGWTTTbZZBNAZZNNNtlkE0Blk0022WQTQGWTTTbZZBNAZZNNNtlkE0Blk0022WQTQGWTTTbZZBNAZZNNNtlkE0Blk0022WQTQGWTTTbZZBNAZZNNNtlkE0Blk0022WQTQGWTTTbZZBNAZZNNNtlkE0Blk0022WQTQGWTTTbZZBNAZZNNNtlkE0Blk0022WQTQGWTTTbZZBNAZZNNNtlkE0Blk0022WQTQGWTTTbZZBNAZZNNNtlkE0Blk0022WQTQGWTTTbZZBNA0kUXXXTRFUDSRRdddNEVQNJFF1100RVA0kUXXXTRFUDSRRdddNEVQNJFF1100RVA0kUXXXTRFUDSRRdddNEVQNJFF1100RVA0kUXXXTRFUDSRRdddNEVQNJFF1100RVA0kUXXXTRFUDSRRdddNEVQNJFF1100RVA0kUXXXTRFUDSRRdddNEVQNJFF1100RVA0kUXXXTRFUDSRRdddNEVQNJFF1100RVA0kUXXXTRFUDSRRdddNEVQNJFF1100RVA0kUXXXTRFUDSRRdddNEVQNJFF1100RVA0kUXXXTRFUDSRRdddNEVQNJFF1100RVA0kUXXXTRFUDSRRdddNEVQNJFF1100RVA0kUXXXTRFUDSRRdddNEVQNJFF1100RVA0kUXXXTRFUDSRRdddNEVQNJFF1100RVA0kUXXXTRFUDSRRdddNEVQNJFF1100RVA0kUXXXTRFUDSRRdddNEVQNJFF1100RVA0kUXXXTRFUDSRRdddNEVQNJFF1100RVA0kUXXXTRFUDSRRdddNEVQNJFF1100RVA0kUXXXTRFUDSRRdddNEVQNJFF1100RVA0kUXXXTRFUDSRRdddNEVQNJFF1100RVA0kUXXXTRFUDSRRdddNEVQNJFF1100RVA0kUXXXTRFUDSRRdddNEVQNJFF1100RVA0kUXXXTRFUDSRRdddNEVQNJFF1100RVA0kUXXXTRFUDSRRdddNEVQNJFF1100RVA0kUXXXTRFUDSRRdddNEVQNJFF1100RVA0kUXXXTRFUDSRRdddNEVQNJFF1100RVA0kUXXXTRFUDSRRdddNEVQNJFF1100RVA0kUXXXTRFUDSRRdddNEVQNJFF1100RVA0kUXXXTRFUDSRRdddNEVQNJFF1100RVA0kUXXXTRFUDSRRdddNEVQNJFF1100RVA0kUXXXTRFUDSRRdddNEVQNJFF1100RVA0kUXXXTRFUDSRRdddNEVQNJFF1100RVA0kUXXXTRFUDSRRdddNEVQNJFF1100RVA0kUXXXTRFUDSRRdddNEVQNJFF1100RVA0kUXXXTRFUA++OCDDz4YQD744IMPPhhAPvjggw8+GEA++OCDDz4YQD744IMPPhhAPvjggw8+GEA++OCDDz4YQD744IMPPhhAPvjggw8+GEA++OCDDz4YQD744IMPPhhAPvjggw8+GEA++OCDDz4YQD744IMPPhhAPvjggw8+GEA++OCDDz4YQD744IMPPhhAPvjggw8+GEA++OCDDz4YQD744IMPPhhAPvjggw8+GEA++OCDDz4YQD744IMPPhhAPvjggw8+GEA++OCDDz4YQD744IMPPhhAPvjggw8+GEA++OCDDz4YQD744IMPPhhAPvjggw8+GEA++OCDDz4YQD744IMPPhhAPvjggw8+GEA++OCDDz4YQD744IMPPhhAPvjggw8+GEA++OCDDz4YQD744IMPPhhAPvjggw8+GEA++OCDDz4YQD744IMPPhhAPvjggw8+GEA++OCDDz4YQD744IMPPhhAPvjggw8+GEA++OCDDz4YQD744IMPPhhAPvjggw8+GEA++OCDDz4YQD744IMPPhhAPvjggw8+GEA++OCDDz4YQD744IMPPhhAPvjggw8+GEA++OCDDz4YQD744IMPPhhAPvjggw8+GEA++OCDDz4YQD744IMPPhhAPvjggw8+GEA++OCDDz4YQD744IMPPhhAPvjggw8+GEA++OCDDz4YQD744IMPPhhAPvjggw8+GEA++OCDDz4YQD744IMPPhhAPvjggw8+GEA++OCDDz4YQD744IMPPhhAPvjggw8+GEA++OCDDz4YQD744IMPPhhAPvjggw8+GEA++OCDDz4YQD744IMPPhhAPvjggw8+GEA++OCDDz4YQD744IMPPhhAPvjggw8+GEA++OCDDz4YQD744IMPPhhAPvjggw8+GEA++OCDDz4YQD744IMPPhhAPvjggw8+GEA++OCDDz4YQD744IMPPhhAPvjggw8+GEA++OCDDz4YQD744IMPPhhAPvjggw8+GEA++OCDDz4YQD744IMPPhhAPvjggw8+GEA++OCDDz4YQD744IMPPhhAPvjggw8+GEA++OCDDz4YQKuqqqqqqhpAq6qqqqqqGkCrqqqqqqoaQKuqqqqqqhpAq6qqqqqqGkCrqqqqqqoaQKuqqqqqqhpAq6qqqqqqGkCrqqqqqqoaQKuqqqqqqhpAq6qqqqqqGkCrqqqqqqoaQKuqqqqqqhpAq6qqqqqqGkCrqqqqqqoaQKuqqqqqqhpAq6qqqqqqGkCrqqqqqqoaQKuqqqqqqhpAq6qqqqqqGkCrqqqqqqoaQKuqqqqqqhpAq6qqqqqqGkCrqqqqqqoaQKuqqqqqqhpAq6qqqqqqGkCrqqqqqqoaQKuqqqqqqhpAq6qqqqqqGkCrqqqqqqoaQKuqqqqqqhpAq6qqqqqqGkCrqqqqqqoaQKuqqqqqqhpAq6qqqqqqGkCrqqqqqqoaQKuqqqqqqhpAq6qqqqqqGkCrqqqqqqoaQKuqqqqqqhpAq6qqqqqqGkCrqqqqqqoaQKuqqqqqqhpAq6qqqqqqGkCrqqqqqqoaQKuqqqqqqhpAq6qqqqqqGkCrqqqqqqoaQKuqqqqqqhpAq6qqqqqqGkCrqqqqqqoaQKuqqqqqqhpAq6qqqqqqGkCrqqqqqqoaQKuqqqqqqhpAq6qqqqqqGkCrqqqqqqoaQKuqqqqqqhpAq6qqqqqqGkCrqqqqqqoaQKuqqqqqqhpAq6qqqqqqGkCrqqqqqqoaQKuqqqqqqhpAq6qqqqqqGkCrqqqqqqoaQKuqqqqqqhpAq6qqqqqqGkCrqqqqqqoaQKuqqqqqqhpAq6qqqqqqGkCrqqqqqqoaQKuqqqqqqhpAq6qqqqqqGkCrqqqqqqoaQKuqqqqqqhpAq6qqqqqqGkCrqqqqqqoaQKuqqqqqqhpAq6qqqqqqGkCrqqqqqqoaQKuqqqqqqhpAq6qqqqqqGkCrqqqqqqoaQKuqqqqqqhpAq6qqqqqqGkCrqqqqqqoaQKuqqqqqqhpAq6qqqqqqGkCrqqqqqqoaQKuqqqqqqhpAq6qqqqqqGkCrqqqqqqoaQKuqqqqqqhpAq6qqqqqqGkCrqqqqqqoaQKuqqqqqqhpAq6qqqqqqGkCrqqqqqqoaQKuqqqqqqhpAGF100UUXHUAYXXTRRRcdQBhddNFFFx1AGF100UUXHUAYXXTRRRcdQBhddNFFFx1AGF100UUXHUAYXXTRRRcdQBhddNFFFx1AGF100UUXHUAYXXTRRRcdQBhddNFFFx1AGF100UUXHUAYXXTRRRcdQBhddNFFFx1AGF100UUXHUAYXXTRRRcdQBhddNFFFx1AGF100UUXHUAYXXTRRRcdQBhddNFFFx1AGF100UUXHUAYXXTRRRcdQBhddNFFFx1AGF100UUXHUAYXXTRRRcdQBhddNFFFx1AGF100UUXHUAYXXTRRRcdQBhddNFFFx1AGF100UUXHUAYXXTRRRcdQBhddNFFFx1AGF100UUXHUAYXXTRRRcdQBhddNFFFx1AGF100UUXHUAYXXTRRRcdQBhddNFFFx1AGF100UUXHUAYXXTRRRcdQBhddNFFFx1AGF100UUXHUAYXXTRRRcdQBhddNFFFx1AGF100UUXHUAYXXTRRRcdQBhddNFFFx1AGF100UUXHUAYXXTRRRcdQBhddNFFFx1AGF100UUXHUAYXXTRRRcdQBhddNFFFx1AGF100UUXHUAYXXTRRRcdQBhddNFFFx1AGF100UUXHUAYXXTRRRcdQBhddNFFFx1AGF100UUXHUAYXXTRRRcdQBhddNFFFx1AGF100UUXHUAYXXTRRRcdQBhddNFFFx1AGF100UUXHUAYXXTRRRcdQBhddNFFFx1AGF100UUXHUAYXXTRRRcdQBhddNFFFx1AGF100UUXHUAYXXTRRRcdQBhddNFFFx1AGF100UUXHUAYXXTRRRcdQBhddNFFFx1AGF100UUXHUAYXXTRRRcdQBhddNFFFx1AGF100UUXHUAYXXTRRRcdQBhddNFFFx1AGF100UUXHUAYXXTRRRcdQBhddNFFFx1AGF100UUXHUAYXXTRRRcdQBhddNFFFx1AGF100UUXHUAYXXTRRRcdQBhddNFFFx1AGF100UUXHUAYXXTRRRcdQBhddNFFFx1AGF100UUXHUAYXXTRRRcdQBhddNFFFx1AGF100UUXHUCEDz744IMfQIQPPvjggx9AhA8++OCDH0CEDz744IMfQIQPPvjggx9AhA8++OCDH0CEDz744IMfQIQPPvjggx9AhA8++OCDH0CEDz744IMfQIQPPvjggx9AhA8++OCDH0CEDz744IMfQIQPPvjggx9AhA8++OCDH0CEDz744IMfQIQPPvjggx9AhA8++OCDH0CEDz744IMfQIQPPvjggx9AhA8++OCDH0CEDz744IMfQIQPPvjggx9AhA8++OCDH0CEDz744IMfQIQPPvjggx9AhA8++OCDH0CEDz744IMfQIQPPvjggx9AhA8++OCDH0CEDz744IMfQIQPPvjggx9AhA8++OCDH0CEDz744IMfQIQPPvjggx9AhA8++OCDH0CEDz744IMfQIQPPvjggx9AhA8++OCDH0CEDz744IMfQIQPPvjggx9AhA8++OCDH0CEDz744IMfQIQPPvjggx9AhA8++OCDH0CEDz744IMfQIQPPvjggx9AhA8++OCDH0CEDz744IMfQIQPPvjggx9AhA8++OCDH0CEDz744IMfQIQPPvjggx9AhA8++OCDH0CEDz744IMfQIQPPvjggx9AhA8++OCDH0CEDz744IMfQIQPPvjggx9AhA8++OCDH0CEDz744IMfQIQPPvjggx9AhA8++OCDH0CEDz744IMfQIQPPvjggx9AhA8++OCDH0CEDz744IMfQIQPPvjggx9AhA8++OCDH0CEDz744IMfQIQPPvjggx9AhA8++OCDH0CEDz744IMfQIQPPvjggx9AhA8++OCDH0CEDz744IMfQIQPPvjggx9AhA8++OCDH0CEDz744IMfQIQPPvjggx9AhA8++OCDH0CEDz744IMfQIQPPvjggx9AhA8++OCDH0CEDz744IMfQIQPPvjggx9AhA8++OCDH0CEDz744IMfQIQPPvjggx9AhA8++OCDH0CEDz744IMfQIQPPvjggx9AhA8++OCDH0CEDz744IMfQIQPPvjggx9AhA8++OCDH0CEDz744IMfQIQPPvjggx9AhA8++OCDH0CEDz744IMfQPjggw8++CBA+OCDDz74IED44IMPPvggQPjggw8++CBA+OCDDz74IED44IMPPvggQPjggw8++CBA+OCDDz74IED44IMPPvggQPjggw8++CBA+OCDDz74IED44IMPPvggQPjggw8++CBA+OCDDz74IED44IMPPvggQPjggw8++CBA+OCDDz74IED44IMPPvggQPjggw8++CBA+OCDDz74IED44IMPPvggQPjggw8++CBA+OCDDz74IED44IMPPvggQPjggw8++CBA+OCDDz74IED44IMPPvggQPjggw8++CBA+OCDDz74IED44IMPPvggQPjggw8++CBA+OCDDz74IED44IMPPvggQPjggw8++CBA+OCDDz74IED44IMPPvggQPjggw8++CBA+OCDDz74IED44IMPPvggQPjggw8++CBA+OCDDz74IED44IMPPvggQPjggw8++CBA+OCDDz74IED44IMPPvggQPjggw8++CBA+OCDDz74IED44IMPPvggQPjggw8++CBA+OCDDz74IED44IMPPvggQPjggw8++CBA+OCDDz74IED44IMPPvggQPjggw8++CBA+OCDDz74IED44IMPPvggQPjggw8++CBA+OCDDz74IED44IMPPvggQPjggw8++CBA+OCDDz74IED44IMPPvggQPjggw8++CBA+OCDDz74IED44IMPPvggQPjggw8++CBA+OCDDz74IED44IMPPvggQPjggw8++CBA+OCDDz74IED44IMPPvggQPjggw8++CBA+OCDDz74IED44IMPPvggQPjggw8++CBA+OCDDz74IED44IMPPvggQPjggw8++CBA+OCDDz74IED44IMPPvggQPjggw8++CBA+OCDDz74IED44IMPPvggQPjggw8++CBA+OCDDz74IED44IMPPvggQPjggw8++CBA+OCDDz74IED44IMPPvggQPjggw8++CBA+OCDDz74IED44IMPPvggQPjggw8++CBA+OCDDz74IED44IMPPvggQPjggw8++CBA+OCDDz74IED44IMPPvggQPjggw8++CBAL7rooosuIkAvuuiiiy4iQC+66KKLLiJAL7rooosuIkAvuuiiiy4iQC+66KKLLiJAL7rooosuIkAvuuiiiy4iQC+66KKLLiJAL7rooosuIkAvuuiiiy4iQC+66KKLLiJAL7rooosuIkAvuuiiiy4iQC+66KKLLiJAL7rooosuIkAvuuiiiy4iQC+66KKLLiJAL7rooosuIkAvuuiiiy4iQC+66KKLLiJAL7rooosuIkAvuuiiiy4iQC+66KKLLiJAL7rooosuIkAvuuiiiy4iQC+66KKLLiJAL7rooosuIkAvuuiiiy4iQC+66KKLLiJAL7rooosuIkAvuuiiiy4iQC+66KKLLiJAL7rooosuIkAvuuiiiy4iQC+66KKLLiJAL7rooosuIkAvuuiiiy4iQC+66KKLLiJAL7rooosuIkAvuuiiiy4iQC+66KKLLiJAL7rooosuIkAvuuiiiy4iQC+66KKLLiJAL7rooosuIkAvuuiiiy4iQC+66KKLLiJAL7rooosuIkAvuuiiiy4iQC+66KKLLiJAL7rooosuIkAvuuiiiy4iQC+66KKLLiJAL7rooosuIkAvuuiiiy4iQC+66KKLLiJAL7rooosuIkAvuuiiiy4iQC+66KKLLiJAL7rooosuIkAvuuiiiy4iQC+66KKLLiJAL7rooosuIkAvuuiiiy4iQC+66KKLLiJAL7rooosuIkAvuuiiiy4iQC+66KKLLiJAL7rooosuIkAvuuiiiy4iQC+66KKLLiJAL7rooosuIkAvuuiiiy4iQC+66KKLLiJAL7rooosuIkAvuuiiiy4iQC+66KKLLiJAL7rooosuIkAvuuiiiy4iQC+66KKLLiJAL7rooosuIkAvuuiiiy4iQC+66KKLLiJAL7rooosuIkAvuuiiiy4iQC+66KKLLiJAL7rooosuIkAvuuiiiy4iQC+66KKLLiJAL7rooosuIkAvuuiiiy4iQC+66KKLLiJAL7rooosuIkAvuuiiiy4iQC+66KKLLiJAL7rooosuIkAvuuiiiy4iQC+66KKLLiJAL7rooosuIkBlk0022WQjQGWTTTbZZCNAZZNNNtlkI0Blk0022WQjQGWTTTbZZCNAZZNNNtlkI0Blk0022WQjQGWTTTbZZCNAZZNNNtlkI0Blk0022WQjQGWTTTbZZCNAZZNNNtlkI0Blk0022WQjQGWTTTbZZCNAZZNNNtlkI0Blk0022WQjQGWTTTbZZCNAZZNNNtlkI0Blk0022WQjQGWTTTbZZCNAZZNNNtlkI0Blk0022WQjQGWTTTbZZCNAZZNNNtlkI0Blk0022WQjQGWTTTbZZCNAZZNNNtlkI0Blk0022WQjQGWTTTbZZCNAZZNNNtlkI0Blk0022WQjQGWTTTbZZCNAZZNNNtlkI0Blk0022WQjQGWTTTbZZCNAZZNNNtlkI0Blk0022WQjQGWTTTbZZCNAZZNNNtlkI0Blk0022WQjQGWTTTbZZCNAZZNNNtlkI0Blk0022WQjQGWTTTbZZCNAZZNNNtlkI0Blk0022WQjQGWTTTbZZCNAZZNNNtlkI0Blk0022WQjQGWTTTbZZCNAZZNNNtlkI0Blk0022WQjQGWTTTbZZCNAZZNNNtlkI0Blk0022WQjQGWTTTbZZCNAZZNNNtlkI0Blk0022WQjQGWTTTbZZCNAZZNNNtlkI0Blk0022WQjQGWTTTbZZCNAZZNNNtlkI0Blk0022WQjQGWTTTbZZCNAZZNNNtlkI0Blk0022WQjQGWTTTbZZCNAZZNNNtlkI0Blk0022WQjQGWTTTbZZCNAZZNNNtlkI0Blk0022WQjQGWTTTbZZCNAZZNNNtlkI0Blk0022WQjQGWTTTbZZCNAZZNNNtlkI0Blk0022WQjQGWTTTbZZCNAZZNNNtlkI0Blk0022WQjQGWTTTbZZCNAZZNNNtlkI0Blk0022WQjQGWTTTbZZCNAZZNNNtlkI0Blk0022WQjQGWTTTbZZCNAZZNNNtlkI0Blk0022WQjQGWTTTbZZCNAZZNNNtlkI0Blk0022WQjQGWTTTbZZCNAZZNNNtlkI0Blk0022WQjQGWTTTbZZCNAZZNNNtlkI0Blk0022WQjQJtssskmmyRAm2yyySabJECbbLLJJpskQJtssskmmyRAm2yyySabJECbbLLJJpskQJtssskmmyRAm2yyySabJECbbLLJJpskQJtssskmmyRAm2yyySabJECbbLLJJpskQJtssskmmyRAm2yyySabJECbbLLJJpskQJtssskmmyRAm2yyySabJECbbLLJJpskQJtssskmmyRAm2yyySabJECbbLLJJpskQJtssskmmyRAm2yyySabJECbbLLJJpskQJtssskmmyRAm2yyySabJECbbLLJJpskQJtssskmmyRAm2yyySabJECbbLLJJpskQJtssskmmyRAm2yyySabJECbbLLJJpskQJtssskmmyRAm2yyySabJECbbLLJJpskQJtssskmmyRAm2yyySabJECbbLLJJpskQJtssskmmyRAm2yyySabJECbbLLJJpskQJtssskmmyRAm2yyySabJECbbLLJJpskQJtssskmmyRAm2yyySabJECbbLLJJpskQJtssskmmyRAm2yyySabJECbbLLJJpskQJtssskmmyRAm2yyySabJECbbLLJJpskQJtssskmmyRAm2yyySabJECbbLLJJpskQJtssskmmyRAm2yyySabJECbbLLJJpskQJtssskmmyRAm2yyySabJECbbLLJJpskQJtssskmmyRAm2yyySabJECbbLLJJpskQJtssskmmyRAm2yyySabJECbbLLJJpskQJtssskmmyRAm2yyySabJECbbLLJJpskQJtssskmmyRAm2yyySabJECbbLLJJpskQJtssskmmyRAm2yyySabJECbbLLJJpskQJtssskmmyRAm2yyySabJECbbLLJJpskQJtssskmmyRAm2yyySabJECbbLLJJpskQJtssskmmyRAm2yyySabJECbbLLJJpskQJtssskmmyRAm2yyySabJECbbLLJJpskQJtssskmmyRAm2yyySabJECbbLLJJpskQJtssskmmyRAm2yyySabJECbbLLJJpskQJtssskmmyRAm2yyySabJECbbLLJJpskQJtssskmmyRA0kUXXXTRJUDSRRdddNElQNJFF1100SVA0kUXXXTRJUDSRRdddNElQNJFF1100SVA0kUXXXTRJUDSRRdddNElQNJFF1100SVA0kUXXXTRJUDSRRdddNElQNJFF1100SVA0kUXXXTRJUDSRRdddNElQNJFF1100SVA0kUXXXTRJUDSRRdddNElQNJFF1100SVA0kUXXXTRJUDSRRdddNElQNJFF1100SVA0kUXXXTRJUDSRRdddNElQNJFF1100SVA0kUXXXTRJUDSRRdddNElQNJFF1100SVA0kUXXXTRJUDSRRdddNElQNJFF1100SVA0kUXXXTRJUDSRRdddNElQNJFF1100SVA0kUXXXTRJUDSRRdddNElQNJFF1100SVA0kUXXXTRJUDSRRdddNElQNJFF1100SVA0kUXXXTRJUDSRRdddNElQNJFF1100SVA0kUXXXTRJUDSRRdddNElQNJFF1100SVA0kUXXXTRJUDSRRdddNElQNJFF1100SVA0kUXXXTRJUDSRRdddNElQNJFF1100SVA0kUXXXTRJUDSRRdddNElQNJFF1100SVA0kUXXXTRJUDSRRdddNElQNJFF1100SVA0kUXXXTRJUDSRRdddNElQNJFF1100SVA0kUXXXTRJUDSRRdddNElQNJFF1100SVA0kUXXXTRJUDSRRdddNElQNJFF1100SVA0kUXXXTRJUDSRRdddNElQNJFF1100SVA0kUXXXTRJUDSRRdddNElQNJFF1100SVA0kUXXXTRJUDSRRdddNElQNJFF1100SVA0kUXXXTRJUDSRRdddNElQNJFF1100SVA0kUXXXTRJUDSRRdddNElQNJFF1100SVA0kUXXXTRJUDSRRdddNElQNJFF1100SVA0kUXXXTRJUDSRRdddNElQNJFF1100SVA0kUXXXTRJUDSRRdddNElQNJFF1100SVA0kUXXXTRJUDSRRdddNElQNJFF1100SVA0kUXXXTRJUDSRRdddNElQNJFF1100SVA0kUXXXTRJUDSRRdddNElQNJFF1100SVA0kUXXXTRJUAIH3zwwQcnQAgffPDBBydACB988MEHJ0AIH3zwwQcnQAgffPDBBydACB988MEHJ0AIH3zwwQcnQAgffPDBBydACB988MEHJ0AIH3zwwQcnQAgffPDBBydACB988MEHJ0AIH3zwwQcnQAgffPDBBydACB988MEHJ0AIH3zwwQcnQAgffPDBBydACB988MEHJ0AIH3zwwQcnQAgffPDBBydACB988MEHJ0AIH3zwwQcnQAgffPDBBydACB988MEHJ0AIH3zwwQcnQAgffPDBBydACB988MEHJ0AIH3zwwQcnQAgffPDBBydACB988MEHJ0AIH3zwwQcnQAgffPDBBydACB988MEHJ0AIH3zwwQcnQAgffPDBBydACB988MEHJ0AIH3zwwQcnQAgffPDBBydACB988MEHJ0AIH3zwwQcnQAgffPDBBydACB988MEHJ0AIH3zwwQcnQAgffPDBBydACB988MEHJ0AIH3zwwQcnQAgffPDBBydACB988MEHJ0AIH3zwwQcnQAgffPDBBydACB988MEHJ0AIH3zwwQcnQAgffPDBBydACB988MEHJ0AIH3zwwQcnQAgffPDBBydACB988MEHJ0AIH3zwwQcnQAgffPDBBydACB988MEHJ0AIH3zwwQcnQAgffPDBBydACB988MEHJ0AIH3zwwQcnQAgffPDBBydACB988MEHJ0AIH3zwwQcnQAgffPDBBydACB988MEHJ0AIH3zwwQcnQAgffPDBBydACB988MEHJ0AIH3zwwQcnQAgffPDBBydACB988MEHJ0AIH3zwwQcnQAgffPDBBydACB988MEHJ0AIH3zwwQcnQAgffPDBBydACB988MEHJ0AIH3zwwQcnQAgffPDBBydACB988MEHJ0AIH3zwwQcnQAgffPDBBydACB988MEHJ0AIH3zwwQcnQAgffPDBBydACB988MEHJ0AIH3zwwQcnQAgffPDBBydACB988MEHJ0AIH3zwwQcnQAgffPDBBydACB988MEHJ0AIH3zwwQcnQAgffPDBBydACB988MEHJ0AIH3zwwQcnQD744IMPPihAPvjggw8+KEA++OCDDz4oQD744IMPPihAPvjggw8+KEA++OCDDz4oQD744IMPPihAPvjggw8+KEA++OCDDz4oQD744IMPPihAPvjggw8+KEA++OCDDz4oQD744IMPPihAPvjggw8+KEA++OCDDz4oQD744IMPPihAPvjggw8+KEA++OCDDz4oQD744IMPPihAPvjggw8+KEA++OCDDz4oQD744IMPPihAPvjggw8+KEA++OCDDz4oQD744IMPPihAPvjggw8+KEA++OCDDz4oQD744IMPPihAPvjggw8+KEA++OCDDz4oQD744IMPPihAPvjggw8+KEA++OCDDz4oQD744IMPPihAPvjggw8+KEA++OCDDz4oQD744IMPPihAPvjggw8+KEA++OCDDz4oQD744IMPPihAPvjggw8+KEA++OCDDz4oQD744IMPPihAPvjggw8+KEA++OCDDz4oQD744IMPPihAPvjggw8+KEA++OCDDz4oQD744IMPPihAPvjggw8+KEA++OCDDz4oQD744IMPPihAPvjggw8+KEA++OCDDz4oQD744IMPPihAPvjggw8+KEA++OCDDz4oQD744IMPPihAPvjggw8+KEA++OCDDz4oQD744IMPPihAPvjggw8+KEA++OCDDz4oQD744IMPPihAPvjggw8+KEA++OCDDz4oQD744IMPPihAPvjggw8+KEA++OCDDz4oQD744IMPPihAPvjggw8+KEA++OCDDz4oQD744IMPPihAPvjggw8+KEA++OCDDz4oQD744IMPPihAPvjggw8+KEA++OCDDz4oQD744IMPPihAPvjggw8+KEA++OCDDz4oQD744IMPPihAPvjggw8+KEA++OCDDz4oQD744IMPPihAPvjggw8+KEA++OCDDz4oQD744IMPPihAPvjggw8+KEA++OCDDz4oQD744IMPPihAPvjggw8+KEA++OCDDz4oQD744IMPPihAPvjggw8+KEA++OCDDz4oQD744IMPPihAPvjggw8+KEA++OCDDz4oQD744IMPPihAddFFF110KUB10UUXXXQpQHXRRRdddClAddFFF110KUB10UUXXXQpQHXRRRdddClAddFFF110KUB10UUXXXQpQHXRRRdddClAddFFF110KUB10UUXXXQpQHXRRRdddClAddFFF110KUB10UUXXXQpQHXRRRdddClAddFFF110KUB10UUXXXQpQHXRRRdddClAddFFF110KUB10UUXXXQpQHXRRRdddClAddFFF110KUB10UUXXXQpQHXRRRdddClAddFFF110KUB10UUXXXQpQHXRRRdddClAddFFF110KUB10UUXXXQpQHXRRRdddClAddFFF110KUB10UUXXXQpQHXRRRdddClAddFFF110KUB10UUXXXQpQHXRRRdddClAddFFF110KUB10UUXXXQpQHXRRRdddClAddFFF110KUB10UUXXXQpQHXRRRdddClAddFFF110KUB10UUXXXQpQHXRRRdddClAddFFF110KUB10UUXXXQpQHXRRRdddClAddFFF110KUB10UUXXXQpQHXRRRdddClAddFFF110KUB10UUXXXQpQHXRRRdddClAddFFF110KUB10UUXXXQpQHXRRRdddClAddFFF110KUB10UUXXXQpQHXRRRdddClAddFFF110KUB10UUXXXQpQHXRRRdddClAddFFF110KUB10UUXXXQpQHXRRRdddClAddFFF110KUB10UUXXXQpQHXRRRdddClAddFFF110KUB10UUXXXQpQHXRRRdddClAddFFF110KUB10UUXXXQpQHXRRRdddClAddFFF110KUB10UUXXXQpQHXRRRdddClAddFFF110KUB10UUXXXQpQHXRRRdddClAddFFF110KUB10UUXXXQpQHXRRRdddClAddFFF110KUB10UUXXXQpQHXRRRdddClAddFFF110KUB10UUXXXQpQHXRRRdddClAddFFF110KUB10UUXXXQpQHXRRRdddClAddFFF110KUB10UUXXXQpQHXRRRdddClAddFFF110KUB10UUXXXQpQHXRRRdddClAddFFF110KUCrqqqqqqoqQKuqqqqqqipAq6qqqqqqKkCrqqqqqqoqQKuqqqqqqipAq6qqqqqqKkCrqqqqqqoqQKuqqqqqqipAq6qqqqqqKkCrqqqqqqoqQKuqqqqqqipAq6qqqqqqKkCrqqqqqqoqQKuqqqqqqipAq6qqqqqqKkCrqqqqqqoqQKuqqqqqqipAq6qqqqqqKkCrqqqqqqoqQKuqqqqqqipAq6qqqqqqKkCrqqqqqqoqQKuqqqqqqipAq6qqqqqqKkCrqqqqqqoqQKuqqqqqqipAq6qqqqqqKkCrqqqqqqoqQKuqqqqqqipAq6qqqqqqKkCrqqqqqqoqQKuqqqqqqipAq6qqqqqqKkCrqqqqqqoqQKuqqqqqqipAq6qqqqqqKkCrqqqqqqoqQKuqqqqqqipAq6qqqqqqKkCrqqqqqqoqQKuqqqqqqipAq6qqqqqqKkCrqqqqqqoqQKuqqqqqqipAq6qqqqqqKkCrqqqqqqoqQKuqqqqqqipAq6qqqqqqKkCrqqqqqqoqQKuqqqqqqipAq6qqqqqqKkCrqqqqqqoqQKuqqqqqqipAq6qqqqqqKkCrqqqqqqoqQKuqqqqqqipAq6qqqqqqKkCrqqqqqqoqQKuqqqqqqipAq6qqqqqqKkCrqqqqqqoqQKuqqqqqqipAq6qqqqqqKkCrqqqqqqoqQKuqqqqqqipAq6qqqqqqKkCrqqqqqqoqQKuqqqqqqipAq6qqqqqqKkCrqqqqqqoqQKuqqqqqqipAq6qqqqqqKkCrqqqqqqoqQKuqqqqqqipAq6qqqqqqKkCrqqqqqqoqQKuqqqqqqipAq6qqqqqqKkCrqqqqqqoqQKuqqqqqqipAq6qqqqqqKkCrqqqqqqoqQKuqqqqqqipAq6qqqqqqKkCrqqqqqqoqQKuqqqqqqipAq6qqqqqqKkCrqqqqqqoqQKuqqqqqqipAq6qqqqqqKkCrqqqqqqoqQKuqqqqqqipAq6qqqqqqKkCrqqqqqqoqQKuqqqqqqipAq6qqqqqqKkCrqqqqqqoqQKuqqqqqqipAq6qqqqqqKkCrqqqqqqoqQOGDDz744CtA4YMPPvjgK0Dhgw8++OArQOGDDz744CtA4YMPPvjgK0Dhgw8++OArQOGDDz744CtA4YMPPvjgK0Dhgw8++OArQOGDDz744CtA4YMPPvjgK0Dhgw8++OArQOGDDz744CtA4YMPPvjgK0Dhgw8++OArQOGDDz744CtA4YMPPvjgK0Dhgw8++OArQOGDDz744CtA4YMPPvjgK0Dhgw8++OArQOGDDz744CtA4YMPPvjgK0Dhgw8++OArQOGDDz744CtA4YMPPvjgK0Dhgw8++OArQOGDDz744CtA4YMPPvjgK0Dhgw8++OArQOGDDz744CtA4YMPPvjgK0Dhgw8++OArQOGDDz744CtA4YMPPvjgK0Dhgw8++OArQOGDDz744CtA4YMPPvjgK0Dhgw8++OArQOGDDz744CtA4YMPPvjgK0Dhgw8++OArQOGDDz744CtA4YMPPvjgK0Dhgw8++OArQOGDDz744CtA4YMPPvjgK0Dhgw8++OArQOGDDz744CtA4YMPPvjgK0Dhgw8++OArQOGDDz744CtA4YMPPvjgK0Dhgw8++OArQOGDDz744CtA4YMPPvjgK0Dhgw8++OArQOGDDz744CtA4YMPPvjgK0Dhgw8++OArQOGDDz744CtA4YMPPvjgK0Dhgw8++OArQOGDDz744CtA4YMPPvjgK0Dhgw8++OArQOGDDz744CtA4YMPPvjgK0Dhgw8++OArQOGDDz744CtA4YMPPvjgK0Dhgw8++OArQOGDDz744CtA4YMPPvjgK0Dhgw8++OArQOGDDz744CtA4YMPPvjgK0Dhgw8++OArQOGDDz744CtA4YMPPvjgK0Dhgw8++OArQOGDDz744CtA4YMPPvjgK0Dhgw8++OArQOGDDz744CtA4YMPPvjgK0Dhgw8++OArQOGDDz744CtA4YMPPvjgK0Dhgw8++OArQOGDDz744CtA4YMPPvjgK0Dhgw8++OArQOGDDz744CtA4YMPPvjgK0Dhgw8++OArQOGDDz744CtA4YMPPvjgK0Dhgw8++OArQOGDDz744CtAGF100UUXLUAYXXTRRRctQBhddNFFFy1AGF100UUXLUAYXXTRRRctQBhddNFFFy1AGF100UUXLUAYXXTRRRctQBhddNFFFy1AGF100UUXLUAYXXTRRRctQBhddNFFFy1AGF100UUXLUAYXXTRRRctQBhddNFFFy1AGF100UUXLUAYXXTRRRctQBhddNFFFy1AGF100UUXLUAYXXTRRRctQBhddNFFFy1AGF100UUXLUAYXXTRRRctQBhddNFFFy1AGF100UUXLUAYXXTRRRctQBhddNFFFy1AGF100UUXLUAYXXTRRRctQBhddNFFFy1AGF100UUXLUAYXXTRRRctQBhddNFFFy1AGF100UUXLUAYXXTRRRctQBhddNFFFy1AGF100UUXLUAYXXTRRRctQBhddNFFFy1AGF100UUXLUAYXXTRRRctQBhddNFFFy1AGF100UUXLUAYXXTRRRctQBhddNFFFy1AGF100UUXLUAYXXTRRRctQBhddNFFFy1AGF100UUXLUAYXXTRRRctQBhddNFFFy1AGF100UUXLUAYXXTRRRctQBhddNFFFy1AGF100UUXLUAYXXTRRRctQBhddNFFFy1AGF100UUXLUAYXXTRRRctQBhddNFFFy1AGF100UUXLUAYXXTRRRctQBhddNFFFy1AGF100UUXLUAYXXTRRRctQBhddNFFFy1AGF100UUXLUAYXXTRRRctQBhddNFFFy1AGF100UUXLUAYXXTRRRctQBhddNFFFy1AGF100UUXLUAYXXTRRRctQBhddNFFFy1AGF100UUXLUAYXXTRRRctQBhddNFFFy1AGF100UUXLUAYXXTRRRctQBhddNFFFy1AGF100UUXLUAYXXTRRRctQBhddNFFFy1AGF100UUXLUAYXXTRRRctQBhddNFFFy1AGF100UUXLUAYXXTRRRctQBhddNFFFy1AGF100UUXLUAYXXTRRRctQBhddNFFFy1AGF100UUXLUAYXXTRRRctQBhddNFFFy1AGF100UUXLUAYXXTRRRctQBhddNFFFy1AGF100UUXLUBONtlkk00uQE422WSTTS5ATjbZZJNNLkBONtlkk00uQE422WSTTS5ATjbZZJNNLkBONtlkk00uQE422WSTTS5ATjbZZJNNLkBONtlkk00uQE422WSTTS5ATjbZZJNNLkBONtlkk00uQE422WSTTS5ATjbZZJNNLkBONtlkk00uQE422WSTTS5ATjbZZJNNLkBONtlkk00uQE422WSTTS5ATjbZZJNNLkBONtlkk00uQE422WSTTS5ATjbZZJNNLkBONtlkk00uQE422WSTTS5ATjbZZJNNLkBONtlkk00uQE422WSTTS5ATjbZZJNNLkBONtlkk00uQE422WSTTS5ATjbZZJNNLkBONtlkk00uQE422WSTTS5ATjbZZJNNLkBONtlkk00uQE422WSTTS5ATjbZZJNNLkBONtlkk00uQE422WSTTS5ATjbZZJNNLkBONtlkk00uQE422WSTTS5ATjbZZJNNLkBONtlkk00uQE422WSTTS5ATjbZZJNNLkBONtlkk00uQE422WSTTS5ATjbZZJNNLkBONtlkk00uQE422WSTTS5ATjbZZJNNLkBONtlkk00uQE422WSTTS5ATjbZZJNNLkBONtlkk00uQE422WSTTS5ATjbZZJNNLkBONtlkk00uQE422WSTTS5ATjbZZJNNLkBONtlkk00uQE422WSTTS5ATjbZZJNNLkBONtlkk00uQE422WSTTS5ATjbZZJNNLkBONtlkk00uQE422WSTTS5ATjbZZJNNLkBONtlkk00uQE422WSTTS5ATjbZZJNNLkBONtlkk00uQE422WSTTS5ATjbZZJNNLkBONtlkk00uQE422WSTTS5ATjbZZJNNLkBONtlkk00uQE422WSTTS5ATjbZZJNNLkBONtlkk00uQE422WSTTS5ATjbZZJNNLkBONtlkk00uQE422WSTTS5ATjbZZJNNLkBONtlkk00uQE422WSTTS5ATjbZZJNNLkBONtlkk00uQE422WSTTS5ATjbZZJNNLkBONtlkk00uQE422WSTTS5ATjbZZJNNLkBONtlkk00uQIQPPvjggy9AhA8++OCDL0CEDz744IMvQIQPPvjggy9AhA8++OCDL0CEDz744IMvQIQPPvjggy9AhA8++OCDL0CEDz744IMvQIQPPvjggy9AhA8++OCDL0CEDz744IMvQIQPPvjggy9AhA8++OCDL0CEDz744IMvQIQPPvjggy9AhA8++OCDL0CEDz744IMvQIQPPvjggy9AhA8++OCDL0CEDz744IMvQIQPPvjggy9AhA8++OCDL0CEDz744IMvQIQPPvjggy9AhA8++OCDL0CEDz744IMvQIQPPvjggy9AhA8++OCDL0CEDz744IMvQIQPPvjggy9AhA8++OCDL0CEDz744IMvQIQPPvjggy9AhA8++OCDL0CEDz744IMvQIQPPvjggy9AhA8++OCDL0CEDz744IMvQIQPPvjggy9AhA8++OCDL0CEDz744IMvQIQPPvjggy9AhA8++OCDL0CEDz744IMvQIQPPvjggy9AhA8++OCDL0CEDz744IMvQIQPPvjggy9AhA8++OCDL0CEDz744IMvQIQPPvjggy9AhA8++OCDL0CEDz744IMvQIQPPvjggy9AhA8++OCDL0CEDz744IMvQIQPPvjggy9AhA8++OCDL0CEDz744IMvQIQPPvjggy9AhA8++OCDL0CEDz744IMvQIQPPvjggy9AhA8++OCDL0CEDz744IMvQIQPPvjggy9AhA8++OCDL0CEDz744IMvQIQPPvjggy9AhA8++OCDL0CEDz744IMvQIQPPvjggy9AhA8++OCDL0CEDz744IMvQIQPPvjggy9AhA8++OCDL0CEDz744IMvQIQPPvjggy9AhA8++OCDL0CEDz744IMvQIQPPvjggy9AhA8++OCDL0CEDz744IMvQIQPPvjggy9AhA8++OCDL0CEDz744IMvQIQPPvjggy9AhA8++OCDL0CEDz744IMvQIQPPvjggy9AhA8++OCDL0CEDz744IMvQIQPPvjggy9AhA8++OCDL0CEDz744IMvQIQPPvjggy9AhA8++OCDL0CEDz744IMvQIQPPvjggy9AXXTRRRddMEBddNFFF10wQF100UUXXTBAXXTRRRddMEBddNFFF10wQF100UUXXTBAXXTRRRddMEBddNFFF10wQF100UUXXTBAXXTRRRddMEBddNFFF10wQF100UUXXTBAXXTRRRddMEBddNFFF10wQF100UUXXTBAXXTRRRddMEBddNFFF10wQF100UUXXTBAXXTRRRddMEBddNFFF10wQF100UUXXTBAXXTRRRddMEBddNFFF10wQF100UUXXTBAXXTRRRddMEBddNFFF10wQF100UUXXTBAXXTRRRddMEBddNFFF10wQF100UUXXTBAXXTRRRddMEBddNFFF10wQF100UUXXTBAXXTRRRddMEBddNFFF10wQF100UUXXTBAXXTRRRddMEBddNFFF10wQF100UUXXTBAXXTRRRddMEBddNFFF10wQF100UUXXTBAXXTRRRddMEBddNFFF10wQF100UUXXTBAXXTRRRddMEBddNFFF10wQF100UUXXTBAXXTRRRddMEBddNFFF10wQF100UUXXTBAXXTRRRddMEBddNFFF10wQF100UUXXTBAXXTRRRddMEBddNFFF10wQF100UUXXTBAXXTRRRddMEBddNFFF10wQF100UUXXTBAXXTRRRddMEBddNFFF10wQF100UUXXTBAXXTRRRddMEBddNFFF10wQF100UUXXTBAXXTRRRddMEBddNFFF10wQF100UUXXTBAXXTRRRddMEBddNFFF10wQF100UUXXTBAXXTRRRddMEBddNFFF10wQF100UUXXTBAXXTRRRddMEBddNFFF10wQF100UUXXTBAXXTRRRddMEBddNFFF10wQF100UUXXTBAXXTRRRddMEBddNFFF10wQF100UUXXTBAXXTRRRddMEBddNFFF10wQF100UUXXTBAXXTRRRddMEBddNFFF10wQF100UUXXTBAXXTRRRddMEBddNFFF10wQF100UUXXTBAXXTRRRddMEBddNFFF10wQF100UUXXTBAXXTRRRddMEBddNFFF10wQF100UUXXTBAXXTRRRddMED44IMPPvgwQPjggw8++DBA+OCDDz74MED44IMPPvgwQPjggw8++DBA+OCDDz74MED44IMPPvgwQPjggw8++DBA+OCDDz74MED44IMPPvgwQPjggw8++DBA+OCDDz74MED44IMPPvgwQPjggw8++DBA+OCDDz74MED44IMPPvgwQPjggw8++DBA+OCDDz74MED44IMPPvgwQPjggw8++DBA+OCDDz74MED44IMPPvgwQPjggw8++DBA+OCDDz74MED44IMPPvgwQPjggw8++DBA+OCDDz74MED44IMPPvgwQPjggw8++DBA+OCDDz74MED44IMPPvgwQPjggw8++DBA+OCDDz74MED44IMPPvgwQPjggw8++DBA+OCDDz74MED44IMPPvgwQPjggw8++DBA+OCDDz74MED44IMPPvgwQPjggw8++DBA+OCDDz74MED44IMPPvgwQPjggw8++DBA+OCDDz74MED44IMPPvgwQPjggw8++DBA+OCDDz74MED44IMPPvgwQPjggw8++DBA+OCDDz74MED44IMPPvgwQPjggw8++DBA+OCDDz74MED44IMPPvgwQPjggw8++DBA+OCDDz74MED44IMPPvgwQPjggw8++DBA+OCDDz74MED44IMPPvgwQPjggw8++DBA+OCDDz74MED44IMPPvgwQPjggw8++DBA+OCDDz74MED44IMPPvgwQPjggw8++DBA+OCDDz74MED44IMPPvgwQPjggw8++DBA+OCDDz74MED44IMPPvgwQPjggw8++DBA+OCDDz74MED44IMPPvgwQPjggw8++DBA+OCDDz74MED44IMPPvgwQPjggw8++DBA+OCDDz74MED44IMPPvgwQPjggw8++DBA+OCDDz74MED44IMPPvgwQPjggw8++DBA+OCDDz74MED44IMPPvgwQPjggw8++DBA+OCDDz74MED44IMPPvgwQPjggw8++DBA+OCDDz74MED44IMPPvgwQPjggw8++DBA+OCDDz74MED44IMPPvgwQPjggw8++DBA+OCDDz74MED44IMPPvgwQJRNNtlkkzFAlE022WSTMUCUTTbZZJMxQJRNNtlkkzFAlE022WSTMUCUTTbZZJMxQJRNNtlkkzFAlE022WSTMUCUTTbZZJMxQJRNNtlkkzFAlE022WSTMUCUTTbZZJMxQJRNNtlkkzFAlE022WSTMUCUTTbZZJMxQJRNNtlkkzFAlE022WSTMUCUTTbZZJMxQJRNNtlkkzFAlE022WSTMUCUTTbZZJMxQJRNNtlkkzFAlE022WSTMUCUTTbZZJMxQJRNNtlkkzFAlE022WSTMUCUTTbZZJMxQJRNNtlkkzFAlE022WSTMUCUTTbZZJMxQJRNNtlkkzFAlE022WSTMUCUTTbZZJMxQJRNNtlkkzFAlE022WSTMUCUTTbZZJMxQJRNNtlkkzFAlE022WSTMUCUTTbZZJMxQJRNNtlkkzFAlE022WSTMUCUTTbZZJMxQJRNNtlkkzFAlE022WSTMUCUTTbZZJMxQJRNNtlkkzFAlE022WSTMUCUTTbZZJMxQJRNNtlkkzFAlE022WSTMUCUTTbZZJMxQJRNNtlkkzFAlE022WSTMUCUTTbZZJMxQJRNNtlkkzFAlE022WSTMUCUTTbZZJMxQJRNNtlkkzFAlE022WSTMUCUTTbZZJMxQJRNNtlkkzFAlE022WSTMUCUTTbZZJMxQJRNNtlkkzFAlE022WSTMUCUTTbZZJMxQJRNNtlkkzFAlE022WSTMUCUTTbZZJMxQJRNNtlkkzFAlE022WSTMUCUTTbZZJMxQJRNNtlkkzFAlE022WSTMUCUTTbZZJMxQJRNNtlkkzFAlE022WSTMUCUTTbZZJMxQJRNNtlkkzFAlE022WSTMUCUTTbZZJMxQJRNNtlkkzFAlE022WSTMUCUTTbZZJMxQJRNNtlkkzFAlE022WSTMUCUTTbZZJMxQJRNNtlkkzFAlE022WSTMUCUTTbZZJMxQJRNNtlkkzFAlE022WSTMUCUTTbZZJMxQJRNNtlkkzFAlE022WSTMUCUTTbZZJMxQJRNNtlkkzFAlE022WSTMUCUTTbZZJMxQJRNNtlkkzFAL7rooosuMkAvuuiiiy4yQC+66KKLLjJAL7rooosuMkAvuuiiiy4yQC+66KKLLjJAL7rooosuMkAvuuiiiy4yQC+66KKLLjJAL7rooosuMkAvuuiiiy4yQC+66KKLLjJAL7rooosuMkAvuuiiiy4yQC+66KKLLjJAL7rooosuMkAvuuiiiy4yQC+66KKLLjJAL7rooosuMkAvuuiiiy4yQC+66KKLLjJAL7rooosuMkAvuuiiiy4yQC+66KKLLjJAL7rooosuMkAvuuiiiy4yQC+66KKLLjJAL7rooosuMkAvuuiiiy4yQC+66KKLLjJAL7rooosuMkAvuuiiiy4yQC+66KKLLjJAL7rooosuMkAvuuiiiy4yQC+66KKLLjJAL7rooosuMkAvuuiiiy4yQC+66KKLLjJAL7rooosuMkAvuuiiiy4yQC+66KKLLjJAL7rooosuMkAvuuiiiy4yQC+66KKLLjJAL7rooosuMkAvuuiiiy4yQC+66KKLLjJAL7rooosuMkAvuuiiiy4yQC+66KKLLjJAL7rooosuMkAvuuiiiy4yQC+66KKLLjJAL7rooosuMkAvuuiiiy4yQC+66KKLLjJAL7rooosuMkAvuuiiiy4yQC+66KKLLjJAL7rooosuMkAvuuiiiy4yQC+66KKLLjJAL7rooosuMkAvuuiiiy4yQC+66KKLLjJAL7rooosuMkAvuuiiiy4yQC+66KKLLjJAL7rooosuMkAvuuiiiy4yQC+66KKLLjJAL7rooosuMkAvuuiiiy4yQC+66KKLLjJAL7rooosuMkAvuuiiiy4yQC+66KKLLjJAL7rooosuMkAvuuiiiy4yQC+66KKLLjJAL7rooosuMkAvuuiiiy4yQC+66KKLLjJAL7rooosuMkAvuuiiiy4yQC+66KKLLjJAL7rooosuMkAvuuiiiy4yQC+66KKLLjJAL7rooosuMkAvuuiiiy4yQC+66KKLLjJAL7rooosuMkAvuuiiiy4yQC+66KKLLjJAL7rooosuMkAvuuiiiy4yQC+66KKLLjJAL7rooosuMkDKJptssskyQMomm2yyyTJAyiabbLLJMkDKJptssskyQMomm2yyyTJAyiabbLLJMkDKJptssskyQMomm2yyyTJAyiabbLLJMkDKJptssskyQMomm2yyyTJAyiabbLLJMkDKJptssskyQMomm2yyyTJAyiabbLLJMkDKJptssskyQMomm2yyyTJAyiabbLLJMkDKJptssskyQMomm2yyyTJAyiabbLLJMkDKJptssskyQMomm2yyyTJAyiabbLLJMkDKJptssskyQMomm2yyyTJAyiabbLLJMkDKJptssskyQMomm2yyyTJAyiabbLLJMkDKJptssskyQMomm2yyyTJAyiabbLLJMkDKJptssskyQMomm2yyyTJAyiabbLLJMkDKJptssskyQMomm2yyyTJAyiabbLLJMkDKJptssskyQMomm2yyyTJAyiabbLLJMkDKJptssskyQMomm2yyyTJAyiabbLLJMkDKJptssskyQMomm2yyyTJAyiabbLLJMkDKJptssskyQMomm2yyyTJAyiabbLLJMkDKJptssskyQMomm2yyyTJAyiabbLLJMkDKJptssskyQMomm2yyyTJAyiabbLLJMkDKJptssskyQMomm2yyyTJAyiabbLLJMkDKJptssskyQMomm2yyyTJAyiabbLLJMkDKJptssskyQMomm2yyyTJAyiabbLLJMkDKJptssskyQMomm2yyyTJAyiabbLLJMkDKJptssskyQMomm2yyyTJAyiabbLLJMkDKJptssskyQMomm2yyyTJAyiabbLLJMkDKJptssskyQMomm2yyyTJAyiabbLLJMkDKJptssskyQMomm2yyyTJAyiabbLLJMkDKJptssskyQMomm2yyyTJAyiabbLLJMkDKJptssskyQMomm2yyyTJAyiabbLLJMkDKJptssskyQMomm2yyyTJAyiabbLLJMkDKJptssskyQMomm2yyyTJAyiabbLLJMkDKJptssskyQMomm2yyyTJAyiabbLLJMkDKJptssskyQMomm2yyyTJAyiabbLLJMkDKJptssskyQGWTTTbZZDNAZZNNNtlkM0Blk0022WQzQGWTTTbZZDNAZZNNNtlkM0Blk0022WQzQGWTTTbZZDNAZZNNNtlkM0Blk0022WQzQGWTTTbZZDNAZZNNNtlkM0Blk0022WQzQGWTTTbZZDNAZZNNNtlkM0Blk0022WQzQGWTTTbZZDNAZZNNNtlkM0Blk0022WQzQGWTTTbZZDNAZZNNNtlkM0Blk0022WQzQGWTTTbZZDNAZZNNNtlkM0Blk0022WQzQGWTTTbZZDNAZZNNNtlkM0Blk0022WQzQGWTTTbZZDNAZZNNNtlkM0Blk0022WQzQGWTTTbZZDNAZZNNNtlkM0Blk0022WQzQGWTTTbZZDNAZZNNNtlkM0Blk0022WQzQGWTTTbZZDNAZZNNNtlkM0Blk0022WQzQGWTTTbZZDNAZZNNNtlkM0Blk0022WQzQGWTTTbZZDNAZZNNNtlkM0Blk0022WQzQGWTTTbZZDNAZZNNNtlkM0Blk0022WQzQGWTTTbZZDNAZZNNNtlkM0Blk0022WQzQGWTTTbZZDNAZZNNNtlkM0Blk0022WQzQGWTTTbZZDNAZZNNNtlkM0Blk0022WQzQGWTTTbZZDNAZZNNNtlkM0Blk0022WQzQGWTTTbZZDNAZZNNNtlkM0Blk0022WQzQGWTTTbZZDNAZZNNNtlkM0Blk0022WQzQGWTTTbZZDNAZZNNNtlkM0Blk0022WQzQGWTTTbZZDNAZZNNNtlkM0Blk0022WQzQGWTTTbZZDNAZZNNNtlkM0Blk0022WQzQGWTTTbZZDNAZZNNNtlkM0Blk0022WQzQGWTTTbZZDNAZZNNNtlkM0Blk0022WQzQGWTTTbZZDNAZZNNNtlkM0Blk0022WQzQGWTTTbZZDNAZZNNNtlkM0Blk0022WQzQGWTTTbZZDNAZZNNNtlkM0Blk0022WQzQGWTTTbZZDNAZZNNNtlkM0Blk0022WQzQGWTTTbZZDNAZZNNNtlkM0Blk0022WQzQGWTTTbZZDNAZZNNNtlkM0Blk0022WQzQGWTTTbZZDNAAAAAAAAANEAAAAAAAAA0QAAAAAAAADRAAAAAAAAANEAAAAAAAAA0QAAAAAAAADRAAAAAAAAANEAAAAAAAAA0QAAAAAAAADRAAAAAAAAANEAAAAAAAAA0QAAAAAAAADRAAAAAAAAANEAAAAAAAAA0QAAAAAAAADRAAAAAAAAANEAAAAAAAAA0QAAAAAAAADRAAAAAAAAANEAAAAAAAAA0QAAAAAAAADRAAAAAAAAANEAAAAAAAAA0QAAAAAAAADRAAAAAAAAANEAAAAAAAAA0QAAAAAAAADRAAAAAAAAANEAAAAAAAAA0QAAAAAAAADRAAAAAAAAANEAAAAAAAAA0QAAAAAAAADRAAAAAAAAANEAAAAAAAAA0QAAAAAAAADRAAAAAAAAANEAAAAAAAAA0QAAAAAAAADRAAAAAAAAANEAAAAAAAAA0QAAAAAAAADRAAAAAAAAANEAAAAAAAAA0QAAAAAAAADRAAAAAAAAANEAAAAAAAAA0QAAAAAAAADRAAAAAAAAANEAAAAAAAAA0QAAAAAAAADRAAAAAAAAANEAAAAAAAAA0QAAAAAAAADRAAAAAAAAANEAAAAAAAAA0QAAAAAAAADRAAAAAAAAANEAAAAAAAAA0QAAAAAAAADRAAAAAAAAANEAAAAAAAAA0QAAAAAAAADRAAAAAAAAANEAAAAAAAAA0QAAAAAAAADRAAAAAAAAANEAAAAAAAAA0QAAAAAAAADRAAAAAAAAANEAAAAAAAAA0QAAAAAAAADRAAAAAAAAANEAAAAAAAAA0QAAAAAAAADRAAAAAAAAANEAAAAAAAAA0QAAAAAAAADRAAAAAAAAANEAAAAAAAAA0QAAAAAAAADRAAAAAAAAANEAAAAAAAAA0QAAAAAAAADRAAAAAAAAANEAAAAAAAAA0QAAAAAAAADRAAAAAAAAANEAAAAAAAAA0QAAAAAAAADRAAAAAAAAANEAAAAAAAAA0QAAAAAAAADRAAAAAAAAANEAAAAAAAAA0QAAAAAAAADRAAAAAAAAANEAAAAAAAAA0QAAAAAAAADRAAAAAAAAANECbbLLJJps0QJtssskmmzRAm2yyySabNECbbLLJJps0QJtssskmmzRAm2yyySabNECbbLLJJps0QJtssskmmzRAm2yyySabNECbbLLJJps0QJtssskmmzRAm2yyySabNECbbLLJJps0QJtssskmmzRAm2yyySabNECbbLLJJps0QJtssskmmzRAm2yyySabNECbbLLJJps0QJtssskmmzRAm2yyySabNECbbLLJJps0QJtssskmmzRAm2yyySabNECbbLLJJps0QJtssskmmzRAm2yyySabNECbbLLJJps0QJtssskmmzRAm2yyySabNECbbLLJJps0QJtssskmmzRAm2yyySabNECbbLLJJps0QJtssskmmzRAm2yyySabNECbbLLJJps0QJtssskmmzRAm2yyySabNECbbLLJJps0QJtssskmmzRAm2yyySabNECbbLLJJps0QJtssskmmzRAm2yyySabNECbbLLJJps0QJtssskmmzRAm2yyySabNECbbLLJJps0QJtssskmmzRAm2yyySabNECbbLLJJps0QJtssskmmzRAm2yyySabNECbbLLJJps0QJtssskmmzRAm2yyySabNECbbLLJJps0QJtssskmmzRAm2yyySabNECbbLLJJps0QJtssskmmzRAm2yyySabNECbbLLJJps0QJtssskmmzRAm2yyySabNECbbLLJJps0QJtssskmmzRAm2yyySabNECbbLLJJps0QJtssskmmzRAm2yyySabNECbbLLJJps0QJtssskmmzRAm2yyySabNECbbLLJJps0QJtssskmmzRAm2yyySabNECbbLLJJps0QJtssskmmzRAm2yyySabNECbbLLJJps0QJtssskmmzRAm2yyySabNECbbLLJJps0QJtssskmmzRAm2yyySabNECbbLLJJps0QJtssskmmzRAm2yyySabNECbbLLJJps0QJtssskmmzRAm2yyySabNECbbLLJJps0QJtssskmmzRAm2yyySabNECbbLLJJps0QJtssskmmzRAm2yyySabNECbbLLJJps0QDbZZJNNNjVANtlkk002NUA22WSTTTY1QDbZZJNNNjVANtlkk002NUA22WSTTTY1QDbZZJNNNjVANtlkk002NUA22WSTTTY1QDbZZJNNNjVANtlkk002NUA22WSTTTY1QDbZZJNNNjVANtlkk002NUA22WSTTTY1QDbZZJNNNjVANtlkk002NUA22WSTTTY1QDbZZJNNNjVANtlkk002NUA22WSTTTY1QDbZZJNNNjVANtlkk002NUA22WSTTTY1QDbZZJNNNjVANtlkk002NUA22WSTTTY1QDbZZJNNNjVANtlkk002NUA22WSTTTY1QDbZZJNNNjVANtlkk002NUA22WSTTTY1QDbZZJNNNjVANtlkk002NUA22WSTTTY1QDbZZJNNNjVANtlkk002NUA22WSTTTY1QDbZZJNNNjVANtlkk002NUA22WSTTTY1QDbZZJNNNjVANtlkk002NUA22WSTTTY1QDbZZJNNNjVANtlkk002NUA22WSTTTY1QDbZZJNNNjVANtlkk002NUA22WSTTTY1QDbZZJNNNjVANtlkk002NUA22WSTTTY1QDbZZJNNNjVANtlkk002NUA22WSTTTY1QDbZZJNNNjVANtlkk002NUA22WSTTTY1QDbZZJNNNjVANtlkk002NUA22WSTTTY1QDbZZJNNNjVANtlkk002NUA22WSTTTY1QDbZZJNNNjVANtlkk002NUA22WSTTTY1QDbZZJNNNjVANtlkk002NUA22WSTTTY1QDbZZJNNNjVANtlkk002NUA22WSTTTY1QDbZZJNNNjVANtlkk002NUA22WSTTTY1QDbZZJNNNjVANtlkk002NUA22WSTTTY1QDbZZJNNNjVANtlkk002NUA22WSTTTY1QDbZZJNNNjVANtlkk002NUA22WSTTTY1QDbZZJNNNjVANtlkk002NUA22WSTTTY1QDbZZJNNNjVANtlkk002NUA22WSTTTY1QDbZZJNNNjVANtlkk002NUA22WSTTTY1QDbZZJNNNjVANtlkk002NUA22WSTTTY1QDbZZJNNNjVA0kUXXXTRNUDSRRdddNE1QNJFF1100TVA0kUXXXTRNUDSRRdddNE1QNJFF1100TVA0kUXXXTRNUDSRRdddNE1QNJFF1100TVA0kUXXXTRNUDSRRdddNE1QNJFF1100TVA0kUXXXTRNUDSRRdddNE1QNJFF1100TVA0kUXXXTRNUDSRRdddNE1QNJFF1100TVA0kUXXXTRNUDSRRdddNE1QNJFF1100TVA0kUXXXTRNUDSRRdddNE1QNJFF1100TVA0kUXXXTRNUDSRRdddNE1QNJFF1100TVA0kUXXXTRNUDSRRdddNE1QNJFF1100TVA0kUXXXTRNUDSRRdddNE1QNJFF1100TVA0kUXXXTRNUDSRRdddNE1QNJFF1100TVA0kUXXXTRNUDSRRdddNE1QNJFF1100TVA0kUXXXTRNUDSRRdddNE1QNJFF1100TVA0kUXXXTRNUDSRRdddNE1QNJFF1100TVA0kUXXXTRNUDSRRdddNE1QNJFF1100TVA0kUXXXTRNUDSRRdddNE1QNJFF1100TVA0kUXXXTRNUDSRRdddNE1QNJFF1100TVA0kUXXXTRNUDSRRdddNE1QNJFF1100TVA0kUXXXTRNUDSRRdddNE1QNJFF1100TVA0kUXXXTRNUDSRRdddNE1QNJFF1100TVA0kUXXXTRNUDSRRdddNE1QNJFF1100TVA0kUXXXTRNUDSRRdddNE1QNJFF1100TVA0kUXXXTRNUDSRRdddNE1QNJFF1100TVA0kUXXXTRNUDSRRdddNE1QNJFF1100TVA0kUXXXTRNUDSRRdddNE1QNJFF1100TVA0kUXXXTRNUDSRRdddNE1QNJFF1100TVA0kUXXXTRNUDSRRdddNE1QNJFF1100TVA0kUXXXTRNUDSRRdddNE1QNJFF1100TVA0kUXXXTRNUDSRRdddNE1QNJFF1100TVA0kUXXXTRNUDSRRdddNE1QNJFF1100TVA0kUXXXTRNUDSRRdddNE1QNJFF1100TVA0kUXXXTRNUDSRRdddNE1QNJFF1100TVA0kUXXXTRNUBtsskmm2w2QG2yySabbDZAbbLJJptsNkBtsskmm2w2QG2yySabbDZAbbLJJptsNkBtsskmm2w2QG2yySabbDZAbbLJJptsNkBtsskmm2w2QG2yySabbDZAbbLJJptsNkBtsskmm2w2QG2yySabbDZAbbLJJptsNkBtsskmm2w2QG2yySabbDZAbbLJJptsNkBtsskmm2w2QG2yySabbDZAbbLJJptsNkBtsskmm2w2QG2yySabbDZAbbLJJptsNkBtsskmm2w2QG2yySabbDZAbbLJJptsNkBtsskmm2w2QG2yySabbDZAbbLJJptsNkBtsskmm2w2QG2yySabbDZAbbLJJptsNkBtsskmm2w2QG2yySabbDZAbbLJJptsNkBtsskmm2w2QG2yySabbDZAbbLJJptsNkBtsskmm2w2QG2yySabbDZAbbLJJptsNkBtsskmm2w2QG2yySabbDZAbbLJJptsNkBtsskmm2w2QG2yySabbDZAbbLJJptsNkBtsskmm2w2QG2yySabbDZAbbLJJptsNkBtsskmm2w2QG2yySabbDZAbbLJJptsNkBtsskmm2w2QG2yySabbDZAbbLJJptsNkBtsskmm2w2QG2yySabbDZAbbLJJptsNkBtsskmm2w2QG2yySabbDZAbbLJJptsNkBtsskmm2w2QG2yySabbDZAbbLJJptsNkBtsskmm2w2QG2yySabbDZAbbLJJptsNkBtsskmm2w2QG2yySabbDZAbbLJJptsNkBtsskmm2w2QG2yySabbDZAbbLJJptsNkBtsskmm2w2QG2yySabbDZAbbLJJptsNkBtsskmm2w2QG2yySabbDZAbbLJJptsNkBtsskmm2w2QG2yySabbDZAbbLJJptsNkBtsskmm2w2QG2yySabbDZAbbLJJptsNkBtsskmm2w2QG2yySabbDZAbbLJJptsNkBtsskmm2w2QG2yySabbDZAbbLJJptsNkBtsskmm2w2QG2yySabbDZAbbLJJptsNkBtsskmm2w2QG2yySabbDZAbbLJJptsNkBtsskmm2w2QAgffPDBBzdACB988MEHN0AIH3zwwQc3QAgffPDBBzdACB988MEHN0AIH3zwwQc3QAgffPDBBzdACB988MEHN0AIH3zwwQc3QAgffPDBBzdACB988MEHN0AIH3zwwQc3QAgffPDBBzdACB988MEHN0AIH3zwwQc3QAgffPDBBzdACB988MEHN0AIH3zwwQc3QAgffPDBBzdACB988MEHN0AIH3zwwQc3QAgffPDBBzdACB988MEHN0AIH3zwwQc3QAgffPDBBzdACB988MEHN0AIH3zwwQc3QAgffPDBBzdACB988MEHN0AIH3zwwQc3QAgffPDBBzdACB988MEHN0AIH3zwwQc3QAgffPDBBzdACB988MEHN0AIH3zwwQc3QAgffPDBBzdACB988MEHN0AIH3zwwQc3QAgffPDBBzdACB988MEHN0AIH3zwwQc3QAgffPDBBzdACB988MEHN0AIH3zwwQc3QAgffPDBBzdACB988MEHN0AIH3zwwQc3QAgffPDBBzdACB988MEHN0AIH3zwwQc3QAgffPDBBzdACB988MEHN0AIH3zwwQc3QAgffPDBBzdACB988MEHN0AIH3zwwQc3QAgffPDBBzdACB988MEHN0AIH3zwwQc3QAgffPDBBzdACB988MEHN0AIH3zwwQc3QAgffPDBBzdACB988MEHN0AIH3zwwQc3QAgffPDBBzdACB988MEHN0AIH3zwwQc3QAgffPDBBzdACB988MEHN0AIH3zwwQc3QAgffPDBBzdACB988MEHN0AIH3zwwQc3QAgffPDBBzdACB988MEHN0AIH3zwwQc3QAgffPDBBzdACB988MEHN0AIH3zwwQc3QAgffPDBBzdACB988MEHN0AIH3zwwQc3QAgffPDBBzdACB988MEHN0AIH3zwwQc3QAgffPDBBzdACB988MEHN0AIH3zwwQc3QAgffPDBBzdACB988MEHN0AIH3zwwQc3QAgffPDBBzdACB988MEHN0AIH3zwwQc3QAgffPDBBzdACB988MEHN0AIH3zwwQc3QAgffPDBBzdAo4suuuiiN0Cjiy666KI3QKOLLrroojdAo4suuuiiN0Cjiy666KI3QKOLLrroojdAo4suuuiiN0Cjiy666KI3QKOLLrroojdAo4suuuiiN0Cjiy666KI3QKOLLrroojdAo4suuuiiN0Cjiy666KI3QKOLLrroojdAo4suuuiiN0Cjiy666KI3QKOLLrroojdAo4suuuiiN0Cjiy666KI3QKOLLrroojdAo4suuuiiN0Cjiy666KI3QKOLLrroojdAo4suuuiiN0Cjiy666KI3QKOLLrroojdAo4suuuiiN0Cjiy666KI3QKOLLrroojdAo4suuuiiN0Cjiy666KI3QKOLLrroojdAo4suuuiiN0Cjiy666KI3QKOLLrroojdAo4suuuiiN0Cjiy666KI3QKOLLrroojdAo4suuuiiN0Cjiy666KI3QKOLLrroojdAo4suuuiiN0Cjiy666KI3QKOLLrroojdAo4suuuiiN0Cjiy666KI3QKOLLrroojdAo4suuuiiN0Cjiy666KI3QKOLLrroojdAo4suuuiiN0Cjiy666KI3QKOLLrroojdAo4suuuiiN0Cjiy666KI3QKOLLrroojdAo4suuuiiN0Cjiy666KI3QKOLLrroojdAo4suuuiiN0Cjiy666KI3QKOLLrroojdAo4suuuiiN0Cjiy666KI3QKOLLrroojdAo4suuuiiN0Cjiy666KI3QKOLLrroojdAo4suuuiiN0Cjiy666KI3QKOLLrroojdAo4suuuiiN0Cjiy666KI3QKOLLrroojdAo4suuuiiN0Cjiy666KI3QKOLLrroojdAo4suuuiiN0Cjiy666KI3QKOLLrroojdAo4suuuiiN0Cjiy666KI3QKOLLrroojdAo4suuuiiN0Cjiy666KI3QKOLLrroojdAo4suuuiiN0Cjiy666KI3QKOLLrroojdAo4suuuiiN0Cjiy666KI3QKOLLrroojdAo4suuuiiN0Cjiy666KI3QKOLLrroojdAo4suuuiiN0Cjiy666KI3QKOLLrroojdAo4suuuiiN0A++OCDDz44QD744IMPPjhAPvjggw8+OEA++OCDDz44QD744IMPPjhAPvjggw8+OEA++OCDDz44QD744IMPPjhAPvjggw8+OEA++OCDDz44QD744IMPPjhAPvjggw8+OEA++OCDDz44QD744IMPPjhAPvjggw8+OEA++OCDDz44QD744IMPPjhAPvjggw8+OEA++OCDDz44QD744IMPPjhAPvjggw8+OEA++OCDDz44QD744IMPPjhAPvjggw8+OEA++OCDDz44QD744IMPPjhAPvjggw8+OEA++OCDDz44QD744IMPPjhAPvjggw8+OEA++OCDDz44QD744IMPPjhAPvjggw8+OEA++OCDDz44QD744IMPPjhAPvjggw8+OEA++OCDDz44QD744IMPPjhAPvjggw8+OEA++OCDDz44QD744IMPPjhAPvjggw8+OEA++OCDDz44QD744IMPPjhAPvjggw8+OEA++OCDDz44QD744IMPPjhAPvjggw8+OEA++OCDDz44QD744IMPPjhAPvjggw8+OEA++OCDDz44QD744IMPPjhAPvjggw8+OEA++OCDDz44QD744IMPPjhAPvjggw8+OEA++OCDDz44QD744IMPPjhAPvjggw8+OEA++OCDDz44QD744IMPPjhAPvjggw8+OEA++OCDDz44QD744IMPPjhAPvjggw8+OEA++OCDDz44QD744IMPPjhAPvjggw8+OEA++OCDDz44QD744IMPPjhAPvjggw8+OEA++OCDDz44QD744IMPPjhAPvjggw8+OEA++OCDDz44QD744IMPPjhAPvjggw8+OEA++OCDDz44QD744IMPPjhAPvjggw8+OEA++OCDDz44QD744IMPPjhAPvjggw8+OEA++OCDDz44QD744IMPPjhAPvjggw8+OEA++OCDDz44QD744IMPPjhAPvjggw8+OEA++OCDDz44QD744IMPPjhAPvjggw8+OEA++OCDDz44QD744IMPPjhAPvjggw8+OEA++OCDDz44QD744IMPPjhAPvjggw8+OEA++OCDDz44QNlkk0022ThA2WSTTTbZOEDZZJNNNtk4QNlkk0022ThA2WSTTTbZOEDZZJNNNtk4QNlkk0022ThA2WSTTTbZOEDZZJNNNtk4QNlkk0022ThA2WSTTTbZOEDZZJNNNtk4QNlkk0022ThA2WSTTTbZOEDZZJNNNtk4QNlkk0022ThA2WSTTTbZOEDZZJNNNtk4QNlkk0022ThA2WSTTTbZOEDZZJNNNtk4QNlkk0022ThA2WSTTTbZOEDZZJNNNtk4QNlkk0022ThA2WSTTTbZOEDZZJNNNtk4QNlkk0022ThA2WSTTTbZOEDZZJNNNtk4QNlkk0022ThA2WSTTTbZOEDZZJNNNtk4QNlkk0022ThA2WSTTTbZOEDZZJNNNtk4QNlkk0022ThA2WSTTTbZOEDZZJNNNtk4QNlkk0022ThA2WSTTTbZOEDZZJNNNtk4QNlkk0022ThA2WSTTTbZOEDZZJNNNtk4QNlkk0022ThA2WSTTTbZOEDZZJNNNtk4QNlkk0022ThA2WSTTTbZOEDZZJNNNtk4QNlkk0022ThA2WSTTTbZOEDZZJNNNtk4QNlkk0022ThA2WSTTTbZOEDZZJNNNtk4QNlkk0022ThA2WSTTTbZOEDZZJNNNtk4QNlkk0022ThA2WSTTTbZOEDZZJNNNtk4QNlkk0022ThA2WSTTTbZOEDZZJNNNtk4QNlkk0022ThA2WSTTTbZOEDZZJNNNtk4QNlkk0022ThA2WSTTTbZOEDZZJNNNtk4QNlkk0022ThA2WSTTTbZOEDZZJNNNtk4QNlkk0022ThA2WSTTTbZOEDZZJNNNtk4QNlkk0022ThA2WSTTTbZOEDZZJNNNtk4QNlkk0022ThA2WSTTTbZOEDZZJNNNtk4QNlkk0022ThA2WSTTTbZOEDZZJNNNtk4QNlkk0022ThA2WSTTTbZOEDZZJNNNtk4QNlkk0022ThA2WSTTTbZOEDZZJNNNtk4QNlkk0022ThA2WSTTTbZOEDZZJNNNtk4QNlkk0022ThA2WSTTTbZOEDZZJNNNtk4QNlkk0022ThAddFFF110OUB10UUXXXQ5QHXRRRdddDlAddFFF110OUB10UUXXXQ5QHXRRRdddDlAddFFF110OUB10UUXXXQ5QHXRRRdddDlAddFFF110OUB10UUXXXQ5QHXRRRdddDlAddFFF110OUB10UUXXXQ5QHXRRRdddDlAddFFF110OUB10UUXXXQ5QHXRRRdddDlAddFFF110OUB10UUXXXQ5QHXRRRdddDlAddFFF110OUB10UUXXXQ5QHXRRRdddDlAddFFF110OUB10UUXXXQ5QHXRRRdddDlAddFFF110OUB10UUXXXQ5QHXRRRdddDlAddFFF110OUB10UUXXXQ5QHXRRRdddDlAddFFF110OUB10UUXXXQ5QHXRRRdddDlAddFFF110OUB10UUXXXQ5QHXRRRdddDlAddFFF110OUB10UUXXXQ5QHXRRRdddDlAddFFF110OUB10UUXXXQ5QHXRRRdddDlAddFFF110OUB10UUXXXQ5QHXRRRdddDlAddFFF110OUB10UUXXXQ5QHXRRRdddDlAddFFF110OUB10UUXXXQ5QHXRRRdddDlAddFFF110OUB10UUXXXQ5QHXRRRdddDlAddFFF110OUB10UUXXXQ5QHXRRRdddDlAddFFF110OUB10UUXXXQ5QHXRRRdddDlAddFFF110OUB10UUXXXQ5QHXRRRdddDlAddFFF110OUB10UUXXXQ5QHXRRRdddDlAddFFF110OUB10UUXXXQ5QHXRRRdddDlAddFFF110OUB10UUXXXQ5QHXRRRdddDlAddFFF110OUB10UUXXXQ5QHXRRRdddDlAddFFF110OUB10UUXXXQ5QHXRRRdddDlAddFFF110OUB10UUXXXQ5QHXRRRdddDlAddFFF110OUB10UUXXXQ5QHXRRRdddDlAddFFF110OUB10UUXXXQ5QHXRRRdddDlAddFFF110OUB10UUXXXQ5QHXRRRdddDlAddFFF110OUB10UUXXXQ5QHXRRRdddDlAddFFF110OUB10UUXXXQ5QHXRRRdddDlAddFFF110OUAQPvjggw86QBA++OCDDzpAED744IMPOkAQPvjggw86QBA++OCDDzpAED744IMPOkAQPvjggw86QBA++OCDDzpAED744IMPOkAQPvjggw86QBA++OCDDzpAED744IMPOkAQPvjggw86QBA++OCDDzpAED744IMPOkAQPvjggw86QBA++OCDDzpAED744IMPOkAQPvjggw86QBA++OCDDzpAED744IMPOkAQPvjggw86QBA++OCDDzpAED744IMPOkAQPvjggw86QBA++OCDDzpAED744IMPOkAQPvjggw86QBA++OCDDzpAED744IMPOkAQPvjggw86QBA++OCDDzpAED744IMPOkAQPvjggw86QBA++OCDDzpAED744IMPOkAQPvjggw86QBA++OCDDzpAED744IMPOkAQPvjggw86QBA++OCDDzpAED744IMPOkAQPvjggw86QBA++OCDDzpAED744IMPOkAQPvjggw86QBA++OCDDzpAED744IMPOkAQPvjggw86QBA++OCDDzpAED744IMPOkAQPvjggw86QBA++OCDDzpAED744IMPOkAQPvjggw86QBA++OCDDzpAED744IMPOkAQPvjggw86QBA++OCDDzpAED744IMPOkAQPvjggw86QBA++OCDDzpAED744IMPOkAQPvjggw86QBA++OCDDzpAED744IMPOkAQPvjggw86QBA++OCDDzpAED744IMPOkAQPvjggw86QBA++OCDDzpAED744IMPOkAQPvjggw86QBA++OCDDzpAED744IMPOkAQPvjggw86QBA++OCDDzpAED744IMPOkAQPvjggw86QBA++OCDDzpAED744IMPOkAQPvjggw86QBA++OCDDzpAED744IMPOkAQPvjggw86QBA++OCDDzpAED744IMPOkAQPvjggw86QBA++OCDDzpAED744IMPOkAQPvjggw86QBA++OCDDzpAED744IMPOkAQPvjggw86QBA++OCDDzpAED744IMPOkAQPvjggw86QBA++OCDDzpAED744IMPOkAQPvjggw86QKuqqqqqqjpAq6qqqqqqOkCrqqqqqqo6QKuqqqqqqjpAq6qqqqqqOkCrqqqqqqo6QKuqqqqqqjpAq6qqqqqqOkCrqqqqqqo6QKuqqqqqqjpAq6qqqqqqOkCrqqqqqqo6QKuqqqqqqjpAq6qqqqqqOkCrqqqqqqo6QKuqqqqqqjpAq6qqqqqqOkCrqqqqqqo6QKuqqqqqqjpAq6qqqqqqOkCrqqqqqqo6QKuqqqqqqjpAq6qqqqqqOkCrqqqqqqo6QKuqqqqqqjpAq6qqqqqqOkCrqqqqqqo6QKuqqqqqqjpAq6qqqqqqOkCrqqqqqqo6QKuqqqqqqjpAq6qqqqqqOkCrqqqqqqo6QKuqqqqqqjpAq6qqqqqqOkCrqqqqqqo6QKuqqqqqqjpAq6qqqqqqOkCrqqqqqqo6QKuqqqqqqjpAq6qqqqqqOkCrqqqqqqo6QKuqqqqqqjpAq6qqqqqqOkCrqqqqqqo6QKuqqqqqqjpAq6qqqqqqOkCrqqqqqqo6QKuqqqqqqjpAq6qqqqqqOkCrqqqqqqo6QKuqqqqqqjpAq6qqqqqqOkCrqqqqqqo6QKuqqqqqqjpAq6qqqqqqOkCrqqqqqqo6QKuqqqqqqjpAq6qqqqqqOkCrqqqqqqo6QKuqqqqqqjpAq6qqqqqqOkCrqqqqqqo6QKuqqqqqqjpAq6qqqqqqOkCrqqqqqqo6QKuqqqqqqjpAq6qqqqqqOkCrqqqqqqo6QKuqqqqqqjpAq6qqqqqqOkCrqqqqqqo6QKuqqqqqqjpAq6qqqqqqOkCrqqqqqqo6QKuqqqqqqjpAq6qqqqqqOkCrqqqqqqo6QKuqqqqqqjpAq6qqqqqqOkCrqqqqqqo6QKuqqqqqqjpAq6qqqqqqOkCrqqqqqqo6QKuqqqqqqjpAq6qqqqqqOkCrqqqqqqo6QKuqqqqqqjpAq6qqqqqqOkCrqqqqqqo6QKuqqqqqqjpAq6qqqqqqOkCrqqqqqqo6QKuqqqqqqjpAq6qqqqqqOkCrqqqqqqo6QKuqqqqqqjpAq6qqqqqqOkCrqqqqqqo6QKuqqqqqqjpARhdddNFFO0BGF1100UU7QEYXXXTRRTtARhdddNFFO0BGF1100UU7QEYXXXTRRTtARhdddNFFO0BGF1100UU7QEYXXXTRRTtARhdddNFFO0BGF1100UU7QEYXXXTRRTtARhdddNFFO0BGF1100UU7QEYXXXTRRTtARhdddNFFO0BGF1100UU7QEYXXXTRRTtARhdddNFFO0BGF1100UU7QEYXXXTRRTtARhdddNFFO0BGF1100UU7QEYXXXTRRTtARhdddNFFO0BGF1100UU7QEYXXXTRRTtARhdddNFFO0BGF1100UU7QEYXXXTRRTtARhdddNFFO0BGF1100UU7QEYXXXTRRTtARhdddNFFO0BGF1100UU7QEYXXXTRRTtARhdddNFFO0BGF1100UU7QEYXXXTRRTtARhdddNFFO0BGF1100UU7QEYXXXTRRTtARhdddNFFO0BGF1100UU7QEYXXXTRRTtARhdddNFFO0BGF1100UU7QEYXXXTRRTtARhdddNFFO0BGF1100UU7QEYXXXTRRTtARhdddNFFO0BGF1100UU7QEYXXXTRRTtARhdddNFFO0BGF1100UU7QEYXXXTRRTtARhdddNFFO0BGF1100UU7QEYXXXTRRTtARhdddNFFO0BGF1100UU7QEYXXXTRRTtARhdddNFFO0BGF1100UU7QEYXXXTRRTtARhdddNFFO0BGF1100UU7QEYXXXTRRTtARhdddNFFO0BGF1100UU7QEYXXXTRRTtARhdddNFFO0BGF1100UU7QEYXXXTRRTtARhdddNFFO0BGF1100UU7QEYXXXTRRTtARhdddNFFO0BGF1100UU7QEYXXXTRRTtARhdddNFFO0BGF1100UU7QEYXXXTRRTtARhdddNFFO0BGF1100UU7QEYXXXTRRTtARhdddNFFO0BGF1100UU7QEYXXXTRRTtARhdddNFFO0BGF1100UU7QEYXXXTRRTtARhdddNFFO0BGF1100UU7QEYXXXTRRTtARhdddNFFO0BGF1100UU7QEYXXXTRRTtARhdddNFFO0Dhgw8++OA7QOGDDz744DtA4YMPPvjgO0Dhgw8++OA7QOGDDz744DtA4YMPPvjgO0Dhgw8++OA7QOGDDz744DtA4YMPPvjgO0Dhgw8++OA7QOGDDz744DtA4YMPPvjgO0Dhgw8++OA7QOGDDz744DtA4YMPPvjgO0Dhgw8++OA7QOGDDz744DtA4YMPPvjgO0Dhgw8++OA7QOGDDz744DtA4YMPPvjgO0Dhgw8++OA7QOGDDz744DtA4YMPPvjgO0Dhgw8++OA7QOGDDz744DtA4YMPPvjgO0Dhgw8++OA7QOGDDz744DtA4YMPPvjgO0Dhgw8++OA7QOGDDz744DtA4YMPPvjgO0Dhgw8++OA7QOGDDz744DtA4YMPPvjgO0Dhgw8++OA7QOGDDz744DtA4YMPPvjgO0Dhgw8++OA7QOGDDz744DtA4YMPPvjgO0Dhgw8++OA7QOGDDz744DtA4YMPPvjgO0Dhgw8++OA7QOGDDz744DtA4YMPPvjgO0Dhgw8++OA7QOGDDz744DtA4YMPPvjgO0Dhgw8++OA7QOGDDz744DtA4YMPPvjgO0Dhgw8++OA7QOGDDz744DtA4YMPPvjgO0Dhgw8++OA7QOGDDz744DtA4YMPPvjgO0Dhgw8++OA7QOGDDz744DtA4YMPPvjgO0Dhgw8++OA7QOGDDz744DtA4YMPPvjgO0Dhgw8++OA7QOGDDz744DtA4YMPPvjgO0Dhgw8++OA7QOGDDz744DtA4YMPPvjgO0Dhgw8++OA7QOGDDz744DtA4YMPPvjgO0Dhgw8++OA7QOGDDz744DtA4YMPPvjgO0Dhgw8++OA7QOGDDz744DtA4YMPPvjgO0Dhgw8++OA7QOGDDz744DtA4YMPPvjgO0Dhgw8++OA7QOGDDz744DtA4YMPPvjgO0Dhgw8++OA7QOGDDz744DtA4YMPPvjgO0Dhgw8++OA7QOGDDz744DtA4YMPPvjgO0Dhgw8++OA7QOGDDz744DtA4YMPPvjgO0Dhgw8++OA7QOGDDz744DtA4YMPPvjgO0Dhgw8++OA7QHzwwQcffDxAfPDBBx98PEB88MEHH3w8QHzwwQcffDxAfPDBBx98PEB88MEHH3w8QHzwwQcffDxAfPDBBx98PEB88MEHH3w8QHzwwQcffDxAfPDBBx98PEB88MEHH3w8QHzwwQcffDxAfPDBBx98PEB88MEHH3w8QHzwwQcffDxAfPDBBx98PEB88MEHH3w8QHzwwQcffDxAfPDBBx98PEB88MEHH3w8QHzwwQcffDxAfPDBBx98PEB88MEHH3w8QHzwwQcffDxAfPDBBx98PEB88MEHH3w8QHzwwQcffDxAfPDBBx98PEB88MEHH3w8QHzwwQcffDxAfPDBBx98PEB88MEHH3w8QHzwwQcffDxAfPDBBx98PEB88MEHH3w8QHzwwQcffDxAfPDBBx98PEB88MEHH3w8QHzwwQcffDxAfPDBBx98PEB88MEHH3w8QHzwwQcffDxAfPDBBx98PEB88MEHH3w8QHzwwQcffDxAfPDBBx98PEB88MEHH3w8QHzwwQcffDxAfPDBBx98PEB88MEHH3w8QHzwwQcffDxAfPDBBx98PEB88MEHH3w8QHzwwQcffDxAfPDBBx98PEB88MEHH3w8QHzwwQcffDxAfPDBBx98PEB88MEHH3w8QHzwwQcffDxAfPDBBx98PEB88MEHH3w8QHzwwQcffDxAfPDBBx98PEB88MEHH3w8QHzwwQcffDxAfPDBBx98PEB88MEHH3w8QHzwwQcffDxAfPDBBx98PEB88MEHH3w8QHzwwQcffDxAfPDBBx98PEB88MEHH3w8QHzwwQcffDxAfPDBBx98PEB88MEHH3w8QHzwwQcffDxAfPDBBx98PEB88MEHH3w8QHzwwQcffDxAfPDBBx98PEB88MEHH3w8QHzwwQcffDxAfPDBBx98PEB88MEHH3w8QHzwwQcffDxAfPDBBx98PEB88MEHH3w8QHzwwQcffDxAfPDBBx98PEB88MEHH3w8QHzwwQcffDxAfPDBBx98PEB88MEHH3w8QHzwwQcffDxAfPDBBx98PEB88MEHH3w8QHzwwQcffDxAGF100UUXPUAYXXTRRRc9QBhddNFFFz1AGF100UUXPUAYXXTRRRc9QBhddNFFFz1AGF100UUXPUAYXXTRRRc9QBhddNFFFz1AGF100UUXPUAYXXTRRRc9QBhddNFFFz1AGF100UUXPUAYXXTRRRc9QBhddNFFFz1AGF100UUXPUAYXXTRRRc9QBhddNFFFz1AGF100UUXPUAYXXTRRRc9QBhddNFFFz1AGF100UUXPUAYXXTRRRc9QBhddNFFFz1AGF100UUXPUAYXXTRRRc9QBhddNFFFz1AGF100UUXPUAYXXTRRRc9QBhddNFFFz1AGF100UUXPUAYXXTRRRc9QBhddNFFFz1AGF100UUXPUAYXXTRRRc9QBhddNFFFz1AGF100UUXPUAYXXTRRRc9QBhddNFFFz1AGF100UUXPUAYXXTRRRc9QBhddNFFFz1AGF100UUXPUAYXXTRRRc9QBhddNFFFz1AGF100UUXPUAYXXTRRRc9QBhddNFFFz1AGF100UUXPUAYXXTRRRc9QBhddNFFFz1AGF100UUXPUAYXXTRRRc9QBhddNFFFz1AGF100UUXPUAYXXTRRRc9QBhddNFFFz1AGF100UUXPUAYXXTRRRc9QBhddNFFFz1AGF100UUXPUAYXXTRRRc9QBhddNFFFz1AGF100UUXPUAYXXTRRRc9QBhddNFFFz1AGF100UUXPUAYXXTRRRc9QBhddNFFFz1AGF100UUXPUAYXXTRRRc9QBhddNFFFz1AGF100UUXPUAYXXTRRRc9QBhddNFFFz1AGF100UUXPUAYXXTRRRc9QBhddNFFFz1AGF100UUXPUAYXXTRRRc9QBhddNFFFz1AGF100UUXPUAYXXTRRRc9QBhddNFFFz1AGF100UUXPUAYXXTRRRc9QBhddNFFFz1AGF100UUXPUAYXXTRRRc9QBhddNFFFz1AGF100UUXPUAYXXTRRRc9QBhddNFFFz1AGF100UUXPUAYXXTRRRc9QBhddNFFFz1AGF100UUXPUAYXXTRRRc9QBhddNFFFz1AGF100UUXPUCzySabbLI9QLPJJptssj1As8kmm2yyPUCzySabbLI9QLPJJptssj1As8kmm2yyPUCzySabbLI9QLPJJptssj1As8kmm2yyPUCzySabbLI9QLPJJptssj1As8kmm2yyPUCzySabbLI9QLPJJptssj1As8kmm2yyPUCzySabbLI9QLPJJptssj1As8kmm2yyPUCzySabbLI9QLPJJptssj1As8kmm2yyPUCzySabbLI9QLPJJptssj1As8kmm2yyPUCzySabbLI9QLPJJptssj1As8kmm2yyPUCzySabbLI9QLPJJptssj1As8kmm2yyPUCzySabbLI9QLPJJptssj1As8kmm2yyPUCzySabbLI9QLPJJptssj1As8kmm2yyPUCzySabbLI9QLPJJptssj1As8kmm2yyPUCzySabbLI9QLPJJptssj1As8kmm2yyPUCzySabbLI9QLPJJptssj1As8kmm2yyPUCzySabbLI9QLPJJptssj1As8kmm2yyPUCzySabbLI9QLPJJptssj1As8kmm2yyPUCzySabbLI9QLPJJptssj1As8kmm2yyPUCzySabbLI9QLPJJptssj1As8kmm2yyPUCzySabbLI9QLPJJptssj1As8kmm2yyPUCzySabbLI9QLPJJptssj1As8kmm2yyPUCzySabbLI9QLPJJptssj1As8kmm2yyPUCzySabbLI9QLPJJptssj1As8kmm2yyPUCzySabbLI9QLPJJptssj1As8kmm2yyPUCzySabbLI9QLPJJptssj1As8kmm2yyPUCzySabbLI9QLPJJptssj1As8kmm2yyPUCzySabbLI9QLPJJptssj1As8kmm2yyPUCzySabbLI9QLPJJptssj1As8kmm2yyPUCzySabbLI9QLPJJptssj1As8kmm2yyPUCzySabbLI9QLPJJptssj1As8kmm2yyPUCzySabbLI9QLPJJptssj1As8kmm2yyPUCzySabbLI9QLPJJptssj1As8kmm2yyPUCzySabbLI9QLPJJptssj1As8kmm2yyPUCzySabbLI9QE422WSTTT5ATjbZZJNNPkBONtlkk00+QE422WSTTT5ATjbZZJNNPkBONtlkk00+QE422WSTTT5ATjbZZJNNPkBONtlkk00+QE422WSTTT5ATjbZZJNNPkBONtlkk00+QE422WSTTT5ATjbZZJNNPkBONtlkk00+QE422WSTTT5ATjbZZJNNPkBONtlkk00+QE422WSTTT5ATjbZZJNNPkBONtlkk00+QE422WSTTT5ATjbZZJNNPkBONtlkk00+QE422WSTTT5ATjbZZJNNPkBONtlkk00+QE422WSTTT5ATjbZZJNNPkBONtlkk00+QE422WSTTT5ATjbZZJNNPkBONtlkk00+QE422WSTTT5ATjbZZJNNPkBONtlkk00+QE422WSTTT5ATjbZZJNNPkBONtlkk00+QE422WSTTT5ATjbZZJNNPkBONtlkk00+QE422WSTTT5ATjbZZJNNPkBONtlkk00+QE422WSTTT5ATjbZZJNNPkBONtlkk00+QE422WSTTT5ATjbZZJNNPkBONtlkk00+QE422WSTTT5ATjbZZJNNPkBONtlkk00+QE422WSTTT5ATjbZZJNNPkBONtlkk00+QE422WSTTT5ATjbZZJNNPkBONtlkk00+QE422WSTTT5ATjbZZJNNPkBONtlkk00+QE422WSTTT5ATjbZZJNNPkBONtlkk00+QE422WSTTT5ATjbZZJNNPkBONtlkk00+QE422WSTTT5ATjbZZJNNPkBONtlkk00+QE422WSTTT5ATjbZZJNNPkBONtlkk00+QE422WSTTT5ATjbZZJNNPkBONtlkk00+QE422WSTTT5ATjbZZJNNPkBONtlkk00+QE422WSTTT5ATjbZZJNNPkBONtlkk00+QE422WSTTT5ATjbZZJNNPkBONtlkk00+QE422WSTTT5ATjbZZJNNPkBONtlkk00+QE422WSTTT5ATjbZZJNNPkBONtlkk00+QE422WSTTT5ATjbZZJNNPkBONtlkk00+QE422WSTTT5ATjbZZJNNPkBONtlkk00+QE422WSTTT5A6aKLLrroPkDpoosuuug+QOmiiy666D5A6aKLLrroPkDpoosuuug+QOmiiy666D5A6aKLLrroPkDpoosuuug+QOmiiy666D5A6aKLLrroPkDpoosuuug+QOmiiy666D5A6aKLLrroPkDpoosuuug+QOmiiy666D5A6aKLLrroPkDpoosuuug+QOmiiy666D5A6aKLLrroPkDpoosuuug+QOmiiy666D5A6aKLLrroPkDpoosuuug+QOmiiy666D5A6aKLLrroPkDpoosuuug+QOmiiy666D5A6aKLLrroPkDpoosuuug+QOmiiy666D5A6aKLLrroPkDpoosuuug+QOmiiy666D5A6aKLLrroPkDpoosuuug+QOmiiy666D5A6aKLLrroPkDpoosuuug+QOmiiy666D5A6aKLLrroPkDpoosuuug+QOmiiy666D5A6aKLLrroPkDpoosuuug+QOmiiy666D5A6aKLLrroPkDpoosuuug+QOmiiy666D5A6aKLLrroPkDpoosuuug+QOmiiy666D5A6aKLLrroPkDpoosuuug+QOmiiy666D5A6aKLLrroPkDpoosuuug+QOmiiy666D5A6aKLLrroPkDpoosuuug+QOmiiy666D5A6aKLLrroPkDpoosuuug+QOmiiy666D5A6aKLLrroPkDpoosuuug+QOmiiy666D5A6aKLLrroPkDpoosuuug+QOmiiy666D5A6aKLLrroPkDpoosuuug+QOmiiy666D5A6aKLLrroPkDpoosuuug+QOmiiy666D5A6aKLLrroPkDpoosuuug+QOmiiy666D5A6aKLLrroPkDpoosuuug+QOmiiy666D5A6aKLLrroPkDpoosuuug+QOmiiy666D5A6aKLLrroPkDpoosuuug+QOmiiy666D5A6aKLLrroPkDpoosuuug+QOmiiy666D5A6aKLLrroPkDpoosuuug+QOmiiy666D5A6aKLLrroPkDpoosuuug+QOmiiy666D5A6aKLLrroPkDpoosuuug+QOmiiy666D5A6aKLLrroPkCEDz744IM/QIQPPvjggz9AhA8++OCDP0CEDz744IM/QIQPPvjggz9AhA8++OCDP0CEDz744IM/QIQPPvjggz9AhA8++OCDP0CEDz744IM/QIQPPvjggz9AhA8++OCDP0CEDz744IM/QIQPPvjggz9AhA8++OCDP0CEDz744IM/QIQPPvjggz9AhA8++OCDP0CEDz744IM/QIQPPvjggz9AhA8++OCDP0CEDz744IM/QIQPPvjggz9AhA8++OCDP0CEDz744IM/QIQPPvjggz9AhA8++OCDP0CEDz744IM/QIQPPvjggz9AhA8++OCDP0CEDz744IM/QIQPPvjggz9AhA8++OCDP0CEDz744IM/QIQPPvjggz9AhA8++OCDP0CEDz744IM/QIQPPvjggz9AhA8++OCDP0CEDz744IM/QIQPPvjggz9AhA8++OCDP0CEDz744IM/QIQPPvjggz9AhA8++OCDP0CEDz744IM/QIQPPvjggz9AhA8++OCDP0CEDz744IM/QIQPPvjggz9AhA8++OCDP0CEDz744IM/QIQPPvjggz9AhA8++OCDP0CEDz744IM/QIQPPvjggz9AhA8++OCDP0CEDz744IM/QIQPPvjggz9AhA8++OCDP0CEDz744IM/QIQPPvjggz9AhA8++OCDP0CEDz744IM/QIQPPvjggz9AhA8++OCDP0CEDz744IM/QIQPPvjggz9AhA8++OCDP0CEDz744IM/QIQPPvjggz9AhA8++OCDP0CEDz744IM/QIQPPvjggz9AhA8++OCDP0CEDz744IM/QIQPPvjggz9AhA8++OCDP0CEDz744IM/QIQPPvjggz9AhA8++OCDP0CEDz744IM/QIQPPvjggz9AhA8++OCDP0CEDz744IM/QIQPPvjggz9AhA8++OCDP0CEDz744IM/QIQPPvjggz9AhA8++OCDP0CEDz744IM/QIQPPvjggz9AhA8++OCDP0CEDz744IM/QIQPPvjggz9AhA8++OCDP0CEDz744IM/QIQPPvjggz9AhA8++OCDP0CEDz744IM/QBA++OCDD0BAED744IMPQEAQPvjggw9AQBA++OCDD0BAED744IMPQEAQPvjggw9AQBA++OCDD0BAED744IMPQEAQPvjggw9AQBA++OCDD0BAED744IMPQEAQPvjggw9AQBA++OCDD0BAED744IMPQEAQPvjggw9AQBA++OCDD0BAED744IMPQEAQPvjggw9AQBA++OCDD0BAED744IMPQEAQPvjggw9AQBA++OCDD0BAED744IMPQEAQPvjggw9AQBA++OCDD0BAED744IMPQEAQPvjggw9AQBA++OCDD0BAED744IMPQEAQPvjggw9AQBA++OCDD0BAED744IMPQEAQPvjggw9AQBA++OCDD0BAED744IMPQEAQPvjggw9AQBA++OCDD0BAED744IMPQEAQPvjggw9AQBA++OCDD0BAED744IMPQEAQPvjggw9AQBA++OCDD0BAED744IMPQEAQPvjggw9AQBA++OCDD0BAED744IMPQEAQPvjggw9AQBA++OCDD0BAED744IMPQEAQPvjggw9AQBA++OCDD0BAED744IMPQEAQPvjggw9AQBA++OCDD0BAED744IMPQEAQPvjggw9AQBA++OCDD0BAED744IMPQEAQPvjggw9AQBA++OCDD0BAED744IMPQEAQPvjggw9AQBA++OCDD0BAED744IMPQEAQPvjggw9AQBA++OCDD0BAED744IMPQEAQPvjggw9AQBA++OCDD0BAED744IMPQEAQPvjggw9AQBA++OCDD0BAED744IMPQEAQPvjggw9AQBA++OCDD0BAED744IMPQEAQPvjggw9AQBA++OCDD0BAED744IMPQEAQPvjggw9AQBA++OCDD0BAED744IMPQEAQPvjggw9AQBA++OCDD0BAED744IMPQEAQPvjggw9AQBA++OCDD0BAED744IMPQEAQPvjggw9AQBA++OCDD0BAED744IMPQEAQPvjggw9AQBA++OCDD0BAED744IMPQEAQPvjggw9AQBA++OCDD0BAED744IMPQEAQPvjggw9AQBA++OCDD0BAXXTRRRddQEBddNFFF11AQF100UUXXUBAXXTRRRddQEBddNFFF11AQF100UUXXUBAXXTRRRddQEBddNFFF11AQF100UUXXUBAXXTRRRddQEBddNFFF11AQF100UUXXUBAXXTRRRddQEBddNFFF11AQF100UUXXUBAXXTRRRddQEBddNFFF11AQF100UUXXUBAXXTRRRddQEBddNFFF11AQF100UUXXUBAXXTRRRddQEBddNFFF11AQF100UUXXUBAXXTRRRddQEBddNFFF11AQF100UUXXUBAXXTRRRddQEBddNFFF11AQF100UUXXUBAXXTRRRddQEBddNFFF11AQF100UUXXUBAXXTRRRddQEBddNFFF11AQF100UUXXUBAXXTRRRddQEBddNFFF11AQF100UUXXUBAXXTRRRddQEBddNFFF11AQF100UUXXUBAXXTRRRddQEBddNFFF11AQF100UUXXUBAXXTRRRddQEBddNFFF11AQF100UUXXUBAXXTRRRddQEBddNFFF11AQF100UUXXUBAXXTRRRddQEBddNFFF11AQF100UUXXUBAXXTRRRddQEBddNFFF11AQF100UUXXUBAXXTRRRddQEBddNFFF11AQF100UUXXUBAXXTRRRddQEBddNFFF11AQF100UUXXUBAXXTRRRddQEBddNFFF11AQF100UUXXUBAXXTRRRddQEBddNFFF11AQF100UUXXUBAXXTRRRddQEBddNFFF11AQF100UUXXUBAXXTRRRddQEBddNFFF11AQF100UUXXUBAXXTRRRddQEBddNFFF11AQF100UUXXUBAXXTRRRddQEBddNFFF11AQF100UUXXUBAXXTRRRddQEBddNFFF11AQF100UUXXUBAXXTRRRddQEBddNFFF11AQF100UUXXUBAXXTRRRddQEBddNFFF11AQF100UUXXUBAXXTRRRddQEBddNFFF11AQF100UUXXUBAXXTRRRddQEBddNFFF11AQF100UUXXUBAXXTRRRddQEBddNFFF11AQF100UUXXUBAXXTRRRddQECrqqqqqqpAQKuqqqqqqkBAq6qqqqqqQECrqqqqqqpAQKuqqqqqqkBAq6qqqqqqQECrqqqqqqpAQKuqqqqqqkBAq6qqqqqqQECrqqqqqqpAQKuqqqqqqkBAq6qqqqqqQECrqqqqqqpAQKuqqqqqqkBAq6qqqqqqQECrqqqqqqpAQKuqqqqqqkBAq6qqqqqqQECrqqqqqqpAQKuqqqqqqkBAq6qqqqqqQECrqqqqqqpAQKuqqqqqqkBAq6qqqqqqQECrqqqqqqpAQKuqqqqqqkBAq6qqqqqqQECrqqqqqqpAQKuqqqqqqkBAq6qqqqqqQECrqqqqqqpAQKuqqqqqqkBAq6qqqqqqQECrqqqqqqpAQKuqqqqqqkBAq6qqqqqqQECrqqqqqqpAQKuqqqqqqkBAq6qqqqqqQECrqqqqqqpAQKuqqqqqqkBAq6qqqqqqQECrqqqqqqpAQKuqqqqqqkBAq6qqqqqqQECrqqqqqqpAQKuqqqqqqkBAq6qqqqqqQECrqqqqqqpAQKuqqqqqqkBAq6qqqqqqQECrqqqqqqpAQKuqqqqqqkBAq6qqqqqqQECrqqqqqqpAQKuqqqqqqkBAq6qqqqqqQECrqqqqqqpAQKuqqqqqqkBAq6qqqqqqQECrqqqqqqpAQKuqqqqqqkBAq6qqqqqqQECrqqqqqqpAQKuqqqqqqkBAq6qqqqqqQECrqqqqqqpAQKuqqqqqqkBAq6qqqqqqQECrqqqqqqpAQKuqqqqqqkBAq6qqqqqqQECrqqqqqqpAQKuqqqqqqkBAq6qqqqqqQECrqqqqqqpAQKuqqqqqqkBAq6qqqqqqQECrqqqqqqpAQKuqqqqqqkBAq6qqqqqqQECrqqqqqqpAQKuqqqqqqkBAq6qqqqqqQECrqqqqqqpAQKuqqqqqqkBAq6qqqqqqQECrqqqqqqpAQKuqqqqqqkBAq6qqqqqqQECrqqqqqqpAQKuqqqqqqkBAq6qqqqqqQECrqqqqqqpAQKuqqqqqqkBAq6qqqqqqQECrqqqqqqpAQKuqqqqqqkBAq6qqqqqqQECrqqqqqqpAQPjggw8++EBA+OCDDz74QED44IMPPvhAQPjggw8++EBA+OCDDz74QED44IMPPvhAQPjggw8++EBA+OCDDz74QED44IMPPvhAQPjggw8++EBA+OCDDz74QED44IMPPvhAQPjggw8++EBA+OCDDz74QED44IMPPvhAQPjggw8++EBA+OCDDz74QED44IMPPvhAQPjggw8++EBA+OCDDz74QED44IMPPvhAQPjggw8++EBA+OCDDz74QED44IMPPvhAQPjggw8++EBA+OCDDz74QED44IMPPvhAQPjggw8++EBA+OCDDz74QED44IMPPvhAQPjggw8++EBA+OCDDz74QED44IMPPvhAQPjggw8++EBA+OCDDz74QED44IMPPvhAQPjggw8++EBA+OCDDz74QED44IMPPvhAQPjggw8++EBA+OCDDz74QED44IMPPvhAQPjggw8++EBA+OCDDz74QED44IMPPvhAQPjggw8++EBA+OCDDz74QED44IMPPvhAQPjggw8++EBA+OCDDz74QED44IMPPvhAQPjggw8++EBA+OCDDz74QED44IMPPvhAQPjggw8++EBA+OCDDz74QED44IMPPvhAQPjggw8++EBA+OCDDz74QED44IMPPvhAQPjggw8++EBA+OCDDz74QED44IMPPvhAQPjggw8++EBA+OCDDz74QED44IMPPvhAQPjggw8++EBA+OCDDz74QED44IMPPvhAQPjggw8++EBA+OCDDz74QED44IMPPvhAQPjggw8++EBA+OCDDz74QED44IMPPvhAQPjggw8++EBA+OCDDz74QED44IMPPvhAQPjggw8++EBA+OCDDz74QED44IMPPvhAQPjggw8++EBA+OCDDz74QED44IMPPvhAQPjggw8++EBA+OCDDz74QED44IMPPvhAQPjggw8++EBA+OCDDz74QED44IMPPvhAQPjggw8++EBA+OCDDz74QED44IMPPvhAQPjggw8++EBA+OCDDz74QED44IMPPvhAQPjggw8++EBA+OCDDz74QED44IMPPvhAQPjggw8++EBARhdddNFFQUBGF1100UVBQEYXXXTRRUFARhdddNFFQUBGF1100UVBQEYXXXTRRUFARhdddNFFQUBGF1100UVBQEYXXXTRRUFARhdddNFFQUBGF1100UVBQEYXXXTRRUFARhdddNFFQUBGF1100UVBQEYXXXTRRUFARhdddNFFQUBGF1100UVBQEYXXXTRRUFARhdddNFFQUBGF1100UVBQEYXXXTRRUFARhdddNFFQUBGF1100UVBQEYXXXTRRUFARhdddNFFQUBGF1100UVBQEYXXXTRRUFARhdddNFFQUBGF1100UVBQEYXXXTRRUFARhdddNFFQUBGF1100UVBQEYXXXTRRUFARhdddNFFQUBGF1100UVBQEYXXXTRRUFARhdddNFFQUBGF1100UVBQEYXXXTRRUFARhdddNFFQUBGF1100UVBQEYXXXTRRUFARhdddNFFQUBGF1100UVBQEYXXXTRRUFARhdddNFFQUBGF1100UVBQEYXXXTRRUFARhdddNFFQUBGF1100UVBQEYXXXTRRUFARhdddNFFQUBGF1100UVBQEYXXXTRRUFARhdddNFFQUBGF1100UVBQEYXXXTRRUFARhdddNFFQUBGF1100UVBQEYXXXTRRUFARhdddNFFQUBGF1100UVBQEYXXXTRRUFARhdddNFFQUBGF1100UVBQEYXXXTRRUFARhdddNFFQUBGF1100UVBQEYXXXTRRUFARhdddNFFQUBGF1100UVBQEYXXXTRRUFARhdddNFFQUBGF1100UVBQEYXXXTRRUFARhdddNFFQUBGF1100UVBQEYXXXTRRUFARhdddNFFQUBGF1100UVBQEYXXXTRRUFARhdddNFFQUBGF1100UVBQEYXXXTRRUFARhdddNFFQUBGF1100UVBQEYXXXTRRUFARhdddNFFQUBGF1100UVBQEYXXXTRRUFARhdddNFFQUBGF1100UVBQEYXXXTRRUFARhdddNFFQUBGF1100UVBQEYXXXTRRUFARhdddNFFQUBGF1100UVBQEYXXXTRRUFARhdddNFFQUCUTTbZZJNBQJRNNtlkk0FAlE022WSTQUCUTTbZZJNBQJRNNtlkk0FAlE022WSTQUCUTTbZZJNBQJRNNtlkk0FAlE022WSTQUCUTTbZZJNBQJRNNtlkk0FAlE022WSTQUCUTTbZZJNBQJRNNtlkk0FAlE022WSTQUCUTTbZZJNBQJRNNtlkk0FAlE022WSTQUCUTTbZZJNBQJRNNtlkk0FAlE022WSTQUCUTTbZZJNBQJRNNtlkk0FAlE022WSTQUCUTTbZZJNBQJRNNtlkk0FAlE022WSTQUCUTTbZZJNBQJRNNtlkk0FAlE022WSTQUCUTTbZZJNBQJRNNtlkk0FAlE022WSTQUCUTTbZZJNBQJRNNtlkk0FAlE022WSTQUCUTTbZZJNBQJRNNtlkk0FAlE022WSTQUCUTTbZZJNBQJRNNtlkk0FAlE022WSTQUCUTTbZZJNBQJRNNtlkk0FAlE022WSTQUCUTTbZZJNBQJRNNtlkk0FAlE022WSTQUCUTTbZZJNBQJRNNtlkk0FAlE022WSTQUCUTTbZZJNBQJRNNtlkk0FAlE022WSTQUCUTTbZZJNBQJRNNtlkk0FAlE022WSTQUCUTTbZZJNBQJRNNtlkk0FAlE022WSTQUCUTTbZZJNBQJRNNtlkk0FAlE022WSTQUCUTTbZZJNBQJRNNtlkk0FAlE022WSTQUCUTTbZZJNBQJRNNtlkk0FAlE022WSTQUCUTTbZZJNBQJRNNtlkk0FAlE022WSTQUCUTTbZZJNBQJRNNtlkk0FAlE022WSTQUCUTTbZZJNBQJRNNtlkk0FAlE022WSTQUCUTTbZZJNBQJRNNtlkk0FAlE022WSTQUCUTTbZZJNBQJRNNtlkk0FAlE022WSTQUCUTTbZZJNBQJRNNtlkk0FAlE022WSTQUCUTTbZZJNBQJRNNtlkk0FAlE022WSTQUCUTTbZZJNBQJRNNtlkk0FAlE022WSTQUCUTTbZZJNBQJRNNtlkk0FAlE022WSTQUCUTTbZZJNBQJRNNtlkk0FAlE022WSTQUCUTTbZZJNBQOGDDz744EFA4YMPPvjgQUDhgw8++OBBQOGDDz744EFA4YMPPvjgQUDhgw8++OBBQOGDDz744EFA4YMPPvjgQUDhgw8++OBBQOGDDz744EFA4YMPPvjgQUDhgw8++OBBQOGDDz744EFA4YMPPvjgQUDhgw8++OBBQOGDDz744EFA4YMPPvjgQUDhgw8++OBBQOGDDz744EFA4YMPPvjgQUDhgw8++OBBQOGDDz744EFA4YMPPvjgQUDhgw8++OBBQOGDDz744EFA4YMPPvjgQUDhgw8++OBBQOGDDz744EFA4YMPPvjgQUDhgw8++OBBQOGDDz744EFA4YMPPvjgQUDhgw8++OBBQOGDDz744EFA4YMPPvjgQUDhgw8++OBBQOGDDz744EFA4YMPPvjgQUDhgw8++OBBQOGDDz744EFA4YMPPvjgQUDhgw8++OBBQOGDDz744EFA4YMPPvjgQUDhgw8++OBBQOGDDz744EFA4YMPPvjgQUDhgw8++OBBQOGDDz744EFA4YMPPvjgQUDhgw8++OBBQOGDDz744EFA4YMPPvjgQUDhgw8++OBBQOGDDz744EFA4YMPPvjgQUDhgw8++OBBQOGDDz744EFA4YMPPvjgQUDhgw8++OBBQOGDDz744EFA4YMPPvjgQUDhgw8++OBBQOGDDz744EFA4YMPPvjgQUDhgw8++OBBQOGDDz744EFA4YMPPvjgQUDhgw8++OBBQOGDDz744EFA4YMPPvjgQUDhgw8++OBBQOGDDz744EFA4YMPPvjgQUDhgw8++OBBQOGDDz744EFA4YMPPvjgQUDhgw8++OBBQOGDDz744EFA4YMPPvjgQUDhgw8++OBBQOGDDz744EFA4YMPPvjgQUDhgw8++OBBQOGDDz744EFA4YMPPvjgQUDhgw8++OBBQOGDDz744EFA4YMPPvjgQUDhgw8++OBBQOGDDz744EFA4YMPPvjgQUDhgw8++OBBQOGDDz744EFA4YMPPvjgQUDhgw8++OBBQOGDDz744EFA4YMPPvjgQUDhgw8++OBBQOGDDz744EFAL7rooosuQkAvuuiiiy5CQC+66KKLLkJAL7rooosuQkAvuuiiiy5CQC+66KKLLkJAL7rooosuQkAvuuiiiy5CQC+66KKLLkJAL7rooosuQkAvuuiiiy5CQC+66KKLLkJAL7rooosuQkAvuuiiiy5CQC+66KKLLkJAL7rooosuQkAvuuiiiy5CQC+66KKLLkJAL7rooosuQkAvuuiiiy5CQC+66KKLLkJAL7rooosuQkAvuuiiiy5CQC+66KKLLkJAL7rooosuQkAvuuiiiy5CQC+66KKLLkJAL7rooosuQkAvuuiiiy5CQC+66KKLLkJAL7rooosuQkAvuuiiiy5CQC+66KKLLkJAL7rooosuQkAvuuiiiy5CQC+66KKLLkJAL7rooosuQkAvuuiiiy5CQC+66KKLLkJAL7rooosuQkAvuuiiiy5CQC+66KKLLkJAL7rooosuQkAvuuiiiy5CQC+66KKLLkJAL7rooosuQkAvuuiiiy5CQC+66KKLLkJAL7rooosuQkAvuuiiiy5CQC+66KKLLkJAL7rooosuQkAvuuiiiy5CQC+66KKLLkJAL7rooosuQkAvuuiiiy5CQC+66KKLLkJAL7rooosuQkAvuuiiiy5CQC+66KKLLkJAL7rooosuQkAvuuiiiy5CQC+66KKLLkJAL7rooosuQkAvuuiiiy5CQC+66KKLLkJAL7rooosuQkAvuuiiiy5CQC+66KKLLkJAL7rooosuQkAvuuiiiy5CQC+66KKLLkJAL7rooosuQkAvuuiiiy5CQC+66KKLLkJAL7rooosuQkAvuuiiiy5CQC+66KKLLkJAL7rooosuQkAvuuiiiy5CQC+66KKLLkJAL7rooosuQkAvuuiiiy5CQC+66KKLLkJAL7rooosuQkAvuuiiiy5CQC+66KKLLkJAL7rooosuQkAvuuiiiy5CQC+66KKLLkJAL7rooosuQkAvuuiiiy5CQC+66KKLLkJAL7rooosuQkAvuuiiiy5CQC+66KKLLkJAL7rooosuQkAvuuiiiy5CQC+66KKLLkJAL7rooosuQkB88MEHH3xCQHzwwQcffEJAfPDBBx98QkB88MEHH3xCQHzwwQcffEJAfPDBBx98QkB88MEHH3xCQHzwwQcffEJAfPDBBx98QkB88MEHH3xCQHzwwQcffEJAfPDBBx98QkB88MEHH3xCQHzwwQcffEJAfPDBBx98QkB88MEHH3xCQHzwwQcffEJAfPDBBx98QkB88MEHH3xCQHzwwQcffEJAfPDBBx98QkB88MEHH3xCQHzwwQcffEJAfPDBBx98QkB88MEHH3xCQHzwwQcffEJAfPDBBx98QkB88MEHH3xCQHzwwQcffEJAfPDBBx98QkB88MEHH3xCQHzwwQcffEJAfPDBBx98QkB88MEHH3xCQHzwwQcffEJAfPDBBx98QkB88MEHH3xCQHzwwQcffEJAfPDBBx98QkB88MEHH3xCQHzwwQcffEJAfPDBBx98QkB88MEHH3xCQHzwwQcffEJAfPDBBx98QkB88MEHH3xCQHzwwQcffEJAfPDBBx98QkB88MEHH3xCQHzwwQcffEJAfPDBBx98QkB88MEHH3xCQHzwwQcffEJAfPDBBx98QkB88MEHH3xCQHzwwQcffEJAfPDBBx98QkB88MEHH3xCQHzwwQcffEJAfPDBBx98QkB88MEHH3xCQHzwwQcffEJAfPDBBx98QkB88MEHH3xCQHzwwQcffEJAfPDBBx98QkB88MEHH3xCQHzwwQcffEJAfPDBBx98QkB88MEHH3xCQHzwwQcffEJAfPDBBx98QkB88MEHH3xCQHzwwQcffEJAfPDBBx98QkB88MEHH3xCQHzwwQcffEJAfPDBBx98QkB88MEHH3xCQHzwwQcffEJAfPDBBx98QkB88MEHH3xCQHzwwQcffEJAfPDBBx98QkB88MEHH3xCQHzwwQcffEJAfPDBBx98QkB88MEHH3xCQHzwwQcffEJAfPDBBx98QkB88MEHH3xCQHzwwQcffEJAfPDBBx98QkB88MEHH3xCQHzwwQcffEJAfPDBBx98QkB88MEHH3xCQHzwwQcffEJAfPDBBx98QkB88MEHH3xCQMomm2yyyUJAyiabbLLJQkDKJptssslCQMomm2yyyUJAyiabbLLJQkDKJptssslCQMomm2yyyUJAyiabbLLJQkDKJptssslCQMomm2yyyUJAyiabbLLJQkDKJptssslCQMomm2yyyUJAyiabbLLJQkDKJptssslCQMomm2yyyUJAyiabbLLJQkDKJptssslCQMomm2yyyUJAyiabbLLJQkDKJptssslCQMomm2yyyUJAyiabbLLJQkDKJptssslCQMomm2yyyUJAyiabbLLJQkDKJptssslCQMomm2yyyUJAyiabbLLJQkDKJptssslCQMomm2yyyUJAyiabbLLJQkDKJptssslCQMomm2yyyUJAyiabbLLJQkDKJptssslCQMomm2yyyUJAyiabbLLJQkDKJptssslCQMomm2yyyUJAyiabbLLJQkDKJptssslCQMomm2yyyUJAyiabbLLJQkDKJptssslCQMomm2yyyUJAyiabbLLJQkDKJptssslCQMomm2yyyUJAyiabbLLJQkDKJptssslCQMomm2yyyUJAyiabbLLJQkDKJptssslCQMomm2yyyUJAyiabbLLJQkDKJptssslCQMomm2yyyUJAyiabbLLJQkDKJptssslCQMomm2yyyUJAyiabbLLJQkDKJptssslCQMomm2yyyUJAyiabbLLJQkDKJptssslCQMomm2yyyUJAyiabbLLJQkDKJptssslCQMomm2yyyUJAyiabbLLJQkDKJptssslCQMomm2yyyUJAyiabbLLJQkDKJptssslCQMomm2yyyUJAyiabbLLJQkDKJptssslCQMomm2yyyUJAyiabbLLJQkDKJptssslCQMomm2yyyUJAyiabbLLJQkDKJptssslCQMomm2yyyUJAyiabbLLJQkDKJptssslCQMomm2yyyUJAyiabbLLJQkDKJptssslCQMomm2yyyUJAyiabbLLJQkDKJptssslCQMomm2yyyUJAyiabbLLJQkDKJptssslCQMomm2yyyUJAyiabbLLJQkDKJptssslCQMomm2yyyUJAF1100UUXQ0AXXXTRRRdDQBdddNFFF0NAF1100UUXQ0AXXXTRRRdDQBdddNFFF0NAF1100UUXQ0AXXXTRRRdDQBdddNFFF0NAF1100UUXQ0AXXXTRRRdDQBdddNFFF0NAF1100UUXQ0AXXXTRRRdDQBdddNFFF0NAF1100UUXQ0AXXXTRRRdDQBdddNFFF0NAF1100UUXQ0AXXXTRRRdDQBdddNFFF0NAF1100UUXQ0AXXXTRRRdDQBdddNFFF0NAF1100UUXQ0AXXXTRRRdDQBdddNFFF0NAF1100UUXQ0AXXXTRRRdDQBdddNFFF0NAF1100UUXQ0AXXXTRRRdDQBdddNFFF0NAF1100UUXQ0AXXXTRRRdDQBdddNFFF0NAF1100UUXQ0AXXXTRRRdDQBdddNFFF0NAF1100UUXQ0AXXXTRRRdDQBdddNFFF0NAF1100UUXQ0AXXXTRRRdDQBdddNFFF0NAF1100UUXQ0AXXXTRRRdDQBdddNFFF0NAF1100UUXQ0AXXXTRRRdDQBdddNFFF0NAF1100UUXQ0AXXXTRRRdDQBdddNFFF0NAF1100UUXQ0AXXXTRRRdDQBdddNFFF0NAF1100UUXQ0AXXXTRRRdDQBdddNFFF0NAF1100UUXQ0AXXXTRRRdDQBdddNFFF0NAF1100UUXQ0AXXXTRRRdDQBdddNFFF0NAF1100UUXQ0AXXXTRRRdDQBdddNFFF0NAF1100UUXQ0AXXXTRRRdDQBdddNFFF0NAF1100UUXQ0AXXXTRRRdDQBdddNFFF0NAF1100UUXQ0AXXXTRRRdDQBdddNFFF0NAF1100UUXQ0AXXXTRRRdDQBdddNFFF0NAF1100UUXQ0AXXXTRRRdDQBdddNFFF0NAF1100UUXQ0AXXXTRRRdDQBdddNFFF0NAF1100UUXQ0AXXXTRRRdDQBdddNFFF0NAF1100UUXQ0AXXXTRRRdDQBdddNFFF0NAF1100UUXQ0AXXXTRRRdDQBdddNFFF0NAF1100UUXQ0AXXXTRRRdDQBdddNFFF0NAF1100UUXQ0Blk0022WRDQGWTTTbZZENAZZNNNtlkQ0Blk0022WRDQGWTTTbZZENAZZNNNtlkQ0Blk0022WRDQGWTTTbZZENAZZNNNtlkQ0Blk0022WRDQGWTTTbZZENAZZNNNtlkQ0Blk0022WRDQGWTTTbZZENAZZNNNtlkQ0Blk0022WRDQGWTTTbZZENAZZNNNtlkQ0Blk0022WRDQGWTTTbZZENAZZNNNtlkQ0Blk0022WRDQGWTTTbZZENAZZNNNtlkQ0Blk0022WRDQGWTTTbZZENAZZNNNtlkQ0Blk0022WRDQGWTTTbZZENAZZNNNtlkQ0Blk0022WRDQGWTTTbZZENAZZNNNtlkQ0Blk0022WRDQGWTTTbZZENAZZNNNtlkQ0Blk0022WRDQGWTTTbZZENAZZNNNtlkQ0Blk0022WRDQGWTTTbZZENAZZNNNtlkQ0Blk0022WRDQGWTTTbZZENAZZNNNtlkQ0Blk0022WRDQGWTTTbZZENAZZNNNtlkQ0Blk0022WRDQGWTTTbZZENAZZNNNtlkQ0Blk0022WRDQGWTTTbZZENAZZNNNtlkQ0Blk0022WRDQGWTTTbZZENAZZNNNtlkQ0Blk0022WRDQGWTTTbZZENAZZNNNtlkQ0Blk0022WRDQGWTTTbZZENAZZNNNtlkQ0Blk0022WRDQGWTTTbZZENAZZNNNtlkQ0Blk0022WRDQGWTTTbZZENAZZNNNtlkQ0Blk0022WRDQGWTTTbZZENAZZNNNtlkQ0Blk0022WRDQGWTTTbZZENAZZNNNtlkQ0Blk0022WRDQGWTTTbZZENAZZNNNtlkQ0Blk0022WRDQGWTTTbZZENAZZNNNtlkQ0Blk0022WRDQGWTTTbZZENAZZNNNtlkQ0Blk0022WRDQGWTTTbZZENAZZNNNtlkQ0Blk0022WRDQGWTTTbZZENAZZNNNtlkQ0Blk0022WRDQGWTTTbZZENAZZNNNtlkQ0Blk0022WRDQGWTTTbZZENAZZNNNtlkQ0Blk0022WRDQGWTTTbZZENAZZNNNtlkQ0Blk0022WRDQLPJJptsskNAs8kmm2yyQ0CzySabbLJDQLPJJptsskNAs8kmm2yyQ0CzySabbLJDQLPJJptsskNAs8kmm2yyQ0CzySabbLJDQLPJJptsskNAs8kmm2yyQ0CzySabbLJDQLPJJptsskNAs8kmm2yyQ0CzySabbLJDQLPJJptsskNAs8kmm2yyQ0CzySabbLJDQLPJJptsskNAs8kmm2yyQ0CzySabbLJDQLPJJptsskNAs8kmm2yyQ0CzySabbLJDQLPJJptsskNAs8kmm2yyQ0CzySabbLJDQLPJJptsskNAs8kmm2yyQ0CzySabbLJDQLPJJptsskNAs8kmm2yyQ0CzySabbLJDQLPJJptsskNAs8kmm2yyQ0CzySabbLJDQLPJJptsskNAs8kmm2yyQ0CzySabbLJDQLPJJptsskNAs8kmm2yyQ0CzySabbLJDQLPJJptsskNAs8kmm2yyQ0CzySabbLJDQLPJJptsskNAs8kmm2yyQ0CzySabbLJDQLPJJptsskNAs8kmm2yyQ0CzySabbLJDQLPJJptsskNAs8kmm2yyQ0CzySabbLJDQLPJJptsskNAs8kmm2yyQ0CzySabbLJDQLPJJptsskNAs8kmm2yyQ0CzySabbLJDQLPJJptsskNAs8kmm2yyQ0CzySabbLJDQLPJJptsskNAs8kmm2yyQ0CzySabbLJDQLPJJptsskNAs8kmm2yyQ0CzySabbLJDQLPJJptsskNAs8kmm2yyQ0CzySabbLJDQLPJJptsskNAs8kmm2yyQ0CzySabbLJDQLPJJptsskNAs8kmm2yyQ0CzySabbLJDQLPJJptsskNAs8kmm2yyQ0CzySabbLJDQLPJJptsskNAs8kmm2yyQ0CzySabbLJDQLPJJptsskNAs8kmm2yyQ0CzySabbLJDQLPJJptsskNAs8kmm2yyQ0CzySabbLJDQLPJJptsskNAs8kmm2yyQ0CzySabbLJDQLPJJptsskNAs8kmm2yyQ0CzySabbLJDQLPJJptsskNAs8kmm2yyQ0CzySabbLJDQLPJJptsskNAAAAAAAAAREAAAAAAAABEQAAAAAAAAERAAAAAAAAAREAAAAAAAABEQAAAAAAAAERAAAAAAAAAREAAAAAAAABEQAAAAAAAAERAAAAAAAAAREAAAAAAAABEQAAAAAAAAERAAAAAAAAAREAAAAAAAABEQAAAAAAAAERAAAAAAAAAREAAAAAAAABEQAAAAAAAAERAAAAAAAAAREAAAAAAAABEQAAAAAAAAERAAAAAAAAAREAAAAAAAABEQAAAAAAAAERAAAAAAAAAREAAAAAAAABEQAAAAAAAAERAAAAAAAAAREAAAAAAAABEQAAAAAAAAERAAAAAAAAAREAAAAAAAABEQAAAAAAAAERAAAAAAAAAREAAAAAAAABEQAAAAAAAAERAAAAAAAAAREAAAAAAAABEQAAAAAAAAERAAAAAAAAAREAAAAAAAABEQAAAAAAAAERAAAAAAAAAREAAAAAAAABEQAAAAAAAAERAAAAAAAAAREAAAAAAAABEQAAAAAAAAERAAAAAAAAAREAAAAAAAABEQAAAAAAAAERAAAAAAAAAREAAAAAAAABEQAAAAAAAAERAAAAAAAAAREAAAAAAAABEQAAAAAAAAERAAAAAAAAAREAAAAAAAABEQAAAAAAAAERAAAAAAAAAREAAAAAAAABEQAAAAAAAAERAAAAAAAAAREAAAAAAAABEQAAAAAAAAERAAAAAAAAAREAAAAAAAABEQAAAAAAAAERAAAAAAAAAREAAAAAAAABEQAAAAAAAAERAAAAAAAAAREAAAAAAAABEQAAAAAAAAERAAAAAAAAAREAAAAAAAABEQAAAAAAAAERAAAAAAAAAREAAAAAAAABEQAAAAAAAAERAAAAAAAAAREAAAAAAAABEQAAAAAAAAERAAAAAAAAAREAAAAAAAABEQAAAAAAAAERAAAAAAAAAREAAAAAAAABEQAAAAAAAAERAAAAAAAAAREAAAAAAAABEQAAAAAAAAERAAAAAAAAAREAAAAAAAABEQAAAAAAAAERAAAAAAAAAREAAAAAAAABEQAAAAAAAAERAAAAAAAAAREBONtlkk01EQE422WSTTURATjbZZJNNREBONtlkk01EQE422WSTTURATjbZZJNNREBONtlkk01EQE422WSTTURATjbZZJNNREBONtlkk01EQE422WSTTURATjbZZJNNREBONtlkk01EQE422WSTTURATjbZZJNNREBONtlkk01EQE422WSTTURATjbZZJNNREBONtlkk01EQE422WSTTURATjbZZJNNREBONtlkk01EQE422WSTTURATjbZZJNNREBONtlkk01EQE422WSTTURATjbZZJNNREBONtlkk01EQE422WSTTURATjbZZJNNREBONtlkk01EQE422WSTTURATjbZZJNNREBONtlkk01EQE422WSTTURATjbZZJNNREBONtlkk01EQE422WSTTURATjbZZJNNREBONtlkk01EQE422WSTTURATjbZZJNNREBONtlkk01EQE422WSTTURATjbZZJNNREBONtlkk01EQE422WSTTURATjbZZJNNREBONtlkk01EQE422WSTTURATjbZZJNNREBONtlkk01EQE422WSTTURATjbZZJNNREBONtlkk01EQE422WSTTURATjbZZJNNREBONtlkk01EQE422WSTTURATjbZZJNNREBONtlkk01EQE422WSTTURATjbZZJNNREBONtlkk01EQE422WSTTURATjbZZJNNREBONtlkk01EQE422WSTTURATjbZZJNNREBONtlkk01EQE422WSTTURATjbZZJNNREBONtlkk01EQE422WSTTURATjbZZJNNREBONtlkk01EQE422WSTTURATjbZZJNNREBONtlkk01EQE422WSTTURATjbZZJNNREBONtlkk01EQE422WSTTURATjbZZJNNREBONtlkk01EQE422WSTTURATjbZZJNNREBONtlkk01EQE422WSTTURATjbZZJNNREBONtlkk01EQE422WSTTURATjbZZJNNREBONtlkk01EQE422WSTTURATjbZZJNNREBONtlkk01EQE422WSTTURATjbZZJNNREBONtlkk01EQJtssskmm0RAm2yyySabRECbbLLJJptEQJtssskmm0RAm2yyySabRECbbLLJJptEQJtssskmm0RAm2yyySabRECbbLLJJptEQJtssskmm0RAm2yyySabRECbbLLJJptEQJtssskmm0RAm2yyySabRECbbLLJJptEQJtssskmm0RAm2yyySabRECbbLLJJptEQJtssskmm0RAm2yyySabRECbbLLJJptEQJtssskmm0RAm2yyySabRECbbLLJJptEQJtssskmm0RAm2yyySabRECbbLLJJptEQJtssskmm0RAm2yyySabRECbbLLJJptEQJtssskmm0RAm2yyySabRECbbLLJJptEQJtssskmm0RAm2yyySabRECbbLLJJptEQJtssskmm0RAm2yyySabRECbbLLJJptEQJtssskmm0RAm2yyySabRECbbLLJJptEQJtssskmm0RAm2yyySabRECbbLLJJptEQJtssskmm0RAm2yyySabRECbbLLJJptEQJtssskmm0RAm2yyySabRECbbLLJJptEQJtssskmm0RAm2yyySabRECbbLLJJptEQJtssskmm0RAm2yyySabRECbbLLJJptEQJtssskmm0RAm2yyySabRECbbLLJJptEQJtssskmm0RAm2yyySabRECbbLLJJptEQJtssskmm0RAm2yyySabRECbbLLJJptEQJtssskmm0RAm2yyySabRECbbLLJJptEQJtssskmm0RAm2yyySabRECbbLLJJptEQJtssskmm0RAm2yyySabRECbbLLJJptEQJtssskmm0RAm2yyySabRECbbLLJJptEQJtssskmm0RAm2yyySabRECbbLLJJptEQJtssskmm0RAm2yyySabRECbbLLJJptEQJtssskmm0RAm2yyySabRECbbLLJJptEQJtssskmm0RAm2yyySabRECbbLLJJptEQJtssskmm0RAm2yyySabRECbbLLJJptEQJtssskmm0RAm2yyySabRECbbLLJJptEQJtssskmm0RAm2yyySabRECbbLLJJptEQJtssskmm0RA6aKLLrroREDpoosuuuhEQOmiiy666ERA6aKLLrroREDpoosuuuhEQOmiiy666ERA6aKLLrroREDpoosuuuhEQOmiiy666ERA6aKLLrroREDpoosuuuhEQOmiiy666ERA6aKLLrroREDpoosuuuhEQOmiiy666ERA6aKLLrroREDpoosuuuhEQOmiiy666ERA6aKLLrroREDpoosuuuhEQOmiiy666ERA6aKLLrroREDpoosuuuhEQOmiiy666ERA6aKLLrroREDpoosuuuhEQOmiiy666ERA6aKLLrroREDpoosuuuhEQOmiiy666ERA6aKLLrroREDpoosuuuhEQOmiiy666ERA6aKLLrroREDpoosuuuhEQOmiiy666ERA6aKLLrroREDpoosuuuhEQOmiiy666ERA6aKLLrroREDpoosuuuhEQOmiiy666ERA6aKLLrroREDpoosuuuhEQOmiiy666ERA6aKLLrroREDpoosuuuhEQOmiiy666ERA6aKLLrroREDpoosuuuhEQOmiiy666ERA6aKLLrroREDpoosuuuhEQOmiiy666ERA6aKLLrroREDpoosuuuhEQOmiiy666ERA6aKLLrroREDpoosuuuhEQOmiiy666ERA6aKLLrroREDpoosuuuhEQOmiiy666ERA6aKLLrroREDpoosuuuhEQOmiiy666ERA6aKLLrroREDpoosuuuhEQOmiiy666ERA6aKLLrroREDpoosuuuhEQOmiiy666ERA6aKLLrroREDpoosuuuhEQOmiiy666ERA6aKLLrroREDpoosuuuhEQOmiiy666ERA6aKLLrroREDpoosuuuhEQOmiiy666ERA6aKLLrroREDpoosuuuhEQOmiiy666ERA6aKLLrroREDpoosuuuhEQOmiiy666ERA6aKLLrroREDpoosuuuhEQOmiiy666ERA6aKLLrroREDpoosuuuhEQOmiiy666ERA6aKLLrroREDpoosuuuhEQOmiiy666ERA6aKLLrroREDpoosuuuhEQOmiiy666ERA6aKLLrroREA22WSTTTZFQDbZZJNNNkVANtlkk002RUA22WSTTTZFQDbZZJNNNkVANtlkk002RUA22WSTTTZFQDbZZJNNNkVANtlkk002RUA22WSTTTZFQDbZZJNNNkVANtlkk002RUA22WSTTTZFQDbZZJNNNkVANtlkk002RUA22WSTTTZFQDbZZJNNNkVANtlkk002RUA22WSTTTZFQDbZZJNNNkVANtlkk002RUA22WSTTTZFQDbZZJNNNkVANtlkk002RUA22WSTTTZFQDbZZJNNNkVANtlkk002RUA22WSTTTZFQDbZZJNNNkVANtlkk002RUA22WSTTTZFQDbZZJNNNkVANtlkk002RUA22WSTTTZFQDbZZJNNNkVANtlkk002RUA22WSTTTZFQDbZZJNNNkVANtlkk002RUA22WSTTTZFQDbZZJNNNkVANtlkk002RUA22WSTTTZFQDbZZJNNNkVANtlkk002RUA22WSTTTZFQDbZZJNNNkVANtlkk002RUA22WSTTTZFQDbZZJNNNkVANtlkk002RUA22WSTTTZFQDbZZJNNNkVANtlkk002RUA22WSTTTZFQDbZZJNNNkVANtlkk002RUA22WSTTTZFQDbZZJNNNkVANtlkk002RUA22WSTTTZFQDbZZJNNNkVANtlkk002RUA22WSTTTZFQDbZZJNNNkVANtlkk002RUA22WSTTTZFQDbZZJNNNkVANtlkk002RUA22WSTTTZFQDbZZJNNNkVANtlkk002RUA22WSTTTZFQDbZZJNNNkVANtlkk002RUA22WSTTTZFQDbZZJNNNkVANtlkk002RUA22WSTTTZFQDbZZJNNNkVANtlkk002RUA22WSTTTZFQDbZZJNNNkVANtlkk002RUA22WSTTTZFQDbZZJNNNkVANtlkk002RUA22WSTTTZFQDbZZJNNNkVANtlkk002RUA22WSTTTZFQDbZZJNNNkVANtlkk002RUA22WSTTTZFQDbZZJNNNkVANtlkk002RUA22WSTTTZFQDbZZJNNNkVANtlkk002RUA22WSTTTZFQIQPPvjgg0VAhA8++OCDRUCEDz744INFQIQPPvjgg0VAhA8++OCDRUCEDz744INFQIQPPvjgg0VAhA8++OCDRUCEDz744INFQIQPPvjgg0VAhA8++OCDRUCEDz744INFQIQPPvjgg0VAhA8++OCDRUCEDz744INFQIQPPvjgg0VAhA8++OCDRUCEDz744INFQIQPPvjgg0VAhA8++OCDRUCEDz744INFQIQPPvjgg0VAhA8++OCDRUCEDz744INFQIQPPvjgg0VAhA8++OCDRUCEDz744INFQIQPPvjgg0VAhA8++OCDRUCEDz744INFQIQPPvjgg0VAhA8++OCDRUCEDz744INFQIQPPvjgg0VAhA8++OCDRUCEDz744INFQIQPPvjgg0VAhA8++OCDRUCEDz744INFQIQPPvjgg0VAhA8++OCDRUCEDz744INFQIQPPvjgg0VAhA8++OCDRUCEDz744INFQIQPPvjgg0VAhA8++OCDRUCEDz744INFQIQPPvjgg0VAhA8++OCDRUCEDz744INFQIQPPvjgg0VAhA8++OCDRUCEDz744INFQIQPPvjgg0VAhA8++OCDRUCEDz744INFQIQPPvjgg0VAhA8++OCDRUCEDz744INFQIQPPvjgg0VAhA8++OCDRUCEDz744INFQIQPPvjgg0VAhA8++OCDRUCEDz744INFQIQPPvjgg0VAhA8++OCDRUCEDz744INFQIQPPvjgg0VAhA8++OCDRUCEDz744INFQIQPPvjgg0VAhA8++OCDRUCEDz744INFQIQPPvjgg0VAhA8++OCDRUCEDz744INFQIQPPvjgg0VAhA8++OCDRUCEDz744INFQIQPPvjgg0VAhA8++OCDRUCEDz744INFQIQPPvjgg0VAhA8++OCDRUCEDz744INFQIQPPvjgg0VAhA8++OCDRUCEDz744INFQIQPPvjgg0VAhA8++OCDRUCEDz744INFQIQPPvjgg0VAhA8++OCDRUCEDz744INFQIQPPvjgg0VAhA8++OCDRUCEDz744INFQIQPPvjgg0VA0kUXXXTRRUDSRRdddNFFQNJFF1100UVA0kUXXXTRRUDSRRdddNFFQNJFF1100UVA0kUXXXTRRUDSRRdddNFFQNJFF1100UVA0kUXXXTRRUDSRRdddNFFQNJFF1100UVA0kUXXXTRRUDSRRdddNFFQNJFF1100UVA0kUXXXTRRUDSRRdddNFFQNJFF1100UVA0kUXXXTRRUDSRRdddNFFQNJFF1100UVA0kUXXXTRRUDSRRdddNFFQNJFF1100UVA0kUXXXTRRUDSRRdddNFFQNJFF1100UVA0kUXXXTRRUDSRRdddNFFQNJFF1100UVA0kUXXXTRRUDSRRdddNFFQNJFF1100UVA0kUXXXTRRUDSRRdddNFFQNJFF1100UVA0kUXXXTRRUDSRRdddNFFQNJFF1100UVA0kUXXXTRRUDSRRdddNFFQNJFF1100UVA0kUXXXTRRUDSRRdddNFFQNJFF1100UVA0kUXXXTRRUDSRRdddNFFQNJFF1100UVA0kUXXXTRRUDSRRdddNFFQNJFF1100UVA0kUXXXTRRUDSRRdddNFFQNJFF1100UVA0kUXXXTRRUDSRRdddNFFQNJFF1100UVA0kUXXXTRRUDSRRdddNFFQNJFF1100UVA0kUXXXTRRUDSRRdddNFFQNJFF1100UVA0kUXXXTRRUDSRRdddNFFQNJFF1100UVA0kUXXXTRRUDSRRdddNFFQNJFF1100UVA0kUXXXTRRUDSRRdddNFFQNJFF1100UVA0kUXXXTRRUDSRRdddNFFQNJFF1100UVA0kUXXXTRRUDSRRdddNFFQNJFF1100UVA0kUXXXTRRUDSRRdddNFFQNJFF1100UVA0kUXXXTRRUDSRRdddNFFQNJFF1100UVA0kUXXXTRRUDSRRdddNFFQNJFF1100UVA0kUXXXTRRUDSRRdddNFFQNJFF1100UVA0kUXXXTRRUDSRRdddNFFQNJFF1100UVA0kUXXXTRRUDSRRdddNFFQNJFF1100UVA0kUXXXTRRUDSRRdddNFFQNJFF1100UVA0kUXXXTRRUAffPDBBx9GQB988MEHH0ZAH3zwwQcfRkAffPDBBx9GQB988MEHH0ZAH3zwwQcfRkAffPDBBx9GQB988MEHH0ZAH3zwwQcfRkAffPDBBx9GQB988MEHH0ZAH3zwwQcfRkAffPDBBx9GQB988MEHH0ZAH3zwwQcfRkAffPDBBx9GQB988MEHH0ZAH3zwwQcfRkAffPDBBx9GQB988MEHH0ZAH3zwwQcfRkAffPDBBx9GQB988MEHH0ZAH3zwwQcfRkAffPDBBx9GQB988MEHH0ZAH3zwwQcfRkAffPDBBx9GQB988MEHH0ZAH3zwwQcfRkAffPDBBx9GQB988MEHH0ZAH3zwwQcfRkAffPDBBx9GQB988MEHH0ZAH3zwwQcfRkAffPDBBx9GQB988MEHH0ZAH3zwwQcfRkAffPDBBx9GQB988MEHH0ZAH3zwwQcfRkAffPDBBx9GQB988MEHH0ZAH3zwwQcfRkAffPDBBx9GQB988MEHH0ZAH3zwwQcfRkAffPDBBx9GQB988MEHH0ZAH3zwwQcfRkAffPDBBx9GQB988MEHH0ZAH3zwwQcfRkAffPDBBx9GQB988MEHH0ZAH3zwwQcfRkAffPDBBx9GQB988MEHH0ZAH3zwwQcfRkAffPDBBx9GQB988MEHH0ZAH3zwwQcfRkAffPDBBx9GQB988MEHH0ZAH3zwwQcfRkAffPDBBx9GQB988MEHH0ZAH3zwwQcfRkAffPDBBx9GQB988MEHH0ZAH3zwwQcfRkAffPDBBx9GQB988MEHH0ZAH3zwwQcfRkAffPDBBx9GQB988MEHH0ZAH3zwwQcfRkAffPDBBx9GQB988MEHH0ZAH3zwwQcfRkAffPDBBx9GQB988MEHH0ZAH3zwwQcfRkAffPDBBx9GQB988MEHH0ZAH3zwwQcfRkAffPDBBx9GQB988MEHH0ZAH3zwwQcfRkAffPDBBx9GQB988MEHH0ZAH3zwwQcfRkAffPDBBx9GQB988MEHH0ZAH3zwwQcfRkAffPDBBx9GQB988MEHH0ZAH3zwwQcfRkAffPDBBx9GQG2yySabbEZAbbLJJptsRkBtsskmm2xGQG2yySabbEZAbbLJJptsRkBtsskmm2xGQG2yySabbEZAbbLJJptsRkBtsskmm2xGQG2yySabbEZAbbLJJptsRkBtsskmm2xGQG2yySabbEZAbbLJJptsRkBtsskmm2xGQG2yySabbEZAbbLJJptsRkBtsskmm2xGQG2yySabbEZAbbLJJptsRkBtsskmm2xGQG2yySabbEZAbbLJJptsRkBtsskmm2xGQG2yySabbEZAbbLJJptsRkBtsskmm2xGQG2yySabbEZAbbLJJptsRkBtsskmm2xGQG2yySabbEZAbbLJJptsRkBtsskmm2xGQG2yySabbEZAbbLJJptsRkBtsskmm2xGQG2yySabbEZAbbLJJptsRkBtsskmm2xGQG2yySabbEZAbbLJJptsRkBtsskmm2xGQG2yySabbEZAbbLJJptsRkBtsskmm2xGQG2yySabbEZAbbLJJptsRkBtsskmm2xGQG2yySabbEZAbbLJJptsRkBtsskmm2xGQG2yySabbEZAbbLJJptsRkBtsskmm2xGQG2yySabbEZAbbLJJptsRkBtsskmm2xGQG2yySabbEZAbbLJJptsRkBtsskmm2xGQG2yySabbEZAbbLJJptsRkBtsskmm2xGQG2yySabbEZAbbLJJptsRkBtsskmm2xGQG2yySabbEZAbbLJJptsRkBtsskmm2xGQG2yySabbEZAbbLJJptsRkBtsskmm2xGQG2yySabbEZAbbLJJptsRkBtsskmm2xGQG2yySabbEZAbbLJJptsRkBtsskmm2xGQG2yySabbEZAbbLJJptsRkBtsskmm2xGQG2yySabbEZAbbLJJptsRkBtsskmm2xGQG2yySabbEZAbbLJJptsRkBtsskmm2xGQG2yySabbEZAbbLJJptsRkBtsskmm2xGQG2yySabbEZAbbLJJptsRkBtsskmm2xGQG2yySabbEZAbbLJJptsRkBtsskmm2xGQG2yySabbEZAbbLJJptsRkBtsskmm2xGQG2yySabbEZAuuiiiy66RkC66KKLLrpGQLrooosuukZAuuiiiy66RkC66KKLLrpGQLrooosuukZAuuiiiy66RkC66KKLLrpGQLrooosuukZAuuiiiy66RkC66KKLLrpGQLrooosuukZAuuiiiy66RkC66KKLLrpGQLrooosuukZAuuiiiy66RkC66KKLLrpGQLrooosuukZAuuiiiy66RkC66KKLLrpGQLrooosuukZAuuiiiy66RkC66KKLLrpGQLrooosuukZAuuiiiy66RkC66KKLLrpGQLrooosuukZAuuiiiy66RkC66KKLLrpGQLrooosuukZAuuiiiy66RkC66KKLLrpGQLrooosuukZAuuiiiy66RkC66KKLLrpGQLrooosuukZAuuiiiy66RkC66KKLLrpGQLrooosuukZAuuiiiy66RkC66KKLLrpGQLrooosuukZAuuiiiy66RkC66KKLLrpGQLrooosuukZAuuiiiy66RkC66KKLLrpGQLrooosuukZAuuiiiy66RkC66KKLLrpGQLrooosuukZAuuiiiy66RkC66KKLLrpGQLrooosuukZAuuiiiy66RkC66KKLLrpGQLrooosuukZAuuiiiy66RkC66KKLLrpGQLrooosuukZAuuiiiy66RkC66KKLLrpGQLrooosuukZAuuiiiy66RkC66KKLLrpGQLrooosuukZAuuiiiy66RkC66KKLLrpGQLrooosuukZAuuiiiy66RkC66KKLLrpGQLrooosuukZAuuiiiy66RkC66KKLLrpGQLrooosuukZAuuiiiy66RkC66KKLLrpGQLrooosuukZAuuiiiy66RkC66KKLLrpGQLrooosuukZAuuiiiy66RkC66KKLLrpGQLrooosuukZAuuiiiy66RkC66KKLLrpGQLrooosuukZAuuiiiy66RkC66KKLLrpGQLrooosuukZAuuiiiy66RkC66KKLLrpGQLrooosuukZAuuiiiy66RkC66KKLLrpGQLrooosuukZAuuiiiy66RkC66KKLLrpGQLrooosuukZAuuiiiy66RkAIH3zwwQdHQAgffPDBB0dACB988MEHR0AIH3zwwQdHQAgffPDBB0dACB988MEHR0AIH3zwwQdHQAgffPDBB0dACB988MEHR0AIH3zwwQdHQAgffPDBB0dACB988MEHR0AIH3zwwQdHQAgffPDBB0dACB988MEHR0AIH3zwwQdHQAgffPDBB0dACB988MEHR0AIH3zwwQdHQAgffPDBB0dACB988MEHR0AIH3zwwQdHQAgffPDBB0dACB988MEHR0AIH3zwwQdHQAgffPDBB0dACB988MEHR0AIH3zwwQdHQAgffPDBB0dACB988MEHR0AIH3zwwQdHQAgffPDBB0dACB988MEHR0AIH3zwwQdHQAgffPDBB0dACB988MEHR0AIH3zwwQdHQAgffPDBB0dACB988MEHR0AIH3zwwQdHQAgffPDBB0dACB988MEHR0AIH3zwwQdHQAgffPDBB0dACB988MEHR0AIH3zwwQdHQAgffPDBB0dACB988MEHR0AIH3zwwQdHQAgffPDBB0dACB988MEHR0AIH3zwwQdHQAgffPDBB0dACB988MEHR0AIH3zwwQdHQAgffPDBB0dACB988MEHR0AIH3zwwQdHQAgffPDBB0dACB988MEHR0AIH3zwwQdHQAgffPDBB0dACB988MEHR0AIH3zwwQdHQAgffPDBB0dACB988MEHR0AIH3zwwQdHQAgffPDBB0dACB988MEHR0AIH3zwwQdHQAgffPDBB0dACB988MEHR0AIH3zwwQdHQAgffPDBB0dACB988MEHR0AIH3zwwQdHQAgffPDBB0dACB988MEHR0AIH3zwwQdHQAgffPDBB0dACB988MEHR0AIH3zwwQdHQAgffPDBB0dACB988MEHR0AIH3zwwQdHQAgffPDBB0dACB988MEHR0AIH3zwwQdHQAgffPDBB0dACB988MEHR0AIH3zwwQdHQAgffPDBB0dACB988MEHR0AIH3zwwQdHQAgffPDBB0dACB988MEHR0AIH3zwwQdHQAgffPDBB0dACB988MEHR0AIH3zwwQdHQFZVVVVVVUdAVlVVVVVVR0BWVVVVVVVHQFZVVVVVVUdAVlVVVVVVR0BWVVVVVVVHQFZVVVVVVUdAVlVVVVVVR0BWVVVVVVVHQFZVVVVVVUdAVlVVVVVVR0BWVVVVVVVHQFZVVVVVVUdAVlVVVVVVR0BWVVVVVVVHQFZVVVVVVUdAVlVVVVVVR0BWVVVVVVVHQFZVVVVVVUdAVlVVVVVVR0BWVVVVVVVHQFZVVVVVVUdAVlVVVVVVR0BWVVVVVVVHQFZVVVVVVUdAVlVVVVVVR0BWVVVVVVVHQFZVVVVVVUdAVlVVVVVVR0BWVVVVVVVHQFZVVVVVVUdAVlVVVVVVR0BWVVVVVVVHQFZVVVVVVUdAVlVVVVVVR0BWVVVVVVVHQFZVVVVVVUdAVlVVVVVVR0BWVVVVVVVHQFZVVVVVVUdAVlVVVVVVR0BWVVVVVVVHQFZVVVVVVUdAVlVVVVVVR0BWVVVVVVVHQFZVVVVVVUdAVlVVVVVVR0BWVVVVVVVHQFZVVVVVVUdAVlVVVVVVR0BWVVVVVVVHQFZVVVVVVUdAVlVVVVVVR0BWVVVVVVVHQFZVVVVVVUdAVlVVVVVVR0BWVVVVVVVHQFZVVVVVVUdAVlVVVVVVR0BWVVVVVVVHQFZVVVVVVUdAVlVVVVVVR0BWVVVVVVVHQFZVVVVVVUdAVlVVVVVVR0BWVVVVVVVHQFZVVVVVVUdAVlVVVVVVR0BWVVVVVVVHQFZVVVVVVUdAVlVVVVVVR0BWVVVVVVVHQFZVVVVVVUdAVlVVVVVVR0BWVVVVVVVHQFZVVVVVVUdAVlVVVVVVR0BWVVVVVVVHQFZVVVVVVUdAVlVVVVVVR0BWVVVVVVVHQFZVVVVVVUdAVlVVVVVVR0BWVVVVVVVHQFZVVVVVVUdAVlVVVVVVR0BWVVVVVVVHQFZVVVVVVUdAVlVVVVVVR0BWVVVVVVVHQFZVVVVVVUdAVlVVVVVVR0BWVVVVVVVHQFZVVVVVVUdAVlVVVVVVR0BWVVVVVVVHQFZVVVVVVUdAVlVVVVVVR0BWVVVVVVVHQFZVVVVVVUdAo4suuuiiR0Cjiy666KJHQKOLLrrookdAo4suuuiiR0Cjiy666KJHQKOLLrrookdAo4suuuiiR0Cjiy666KJHQKOLLrrookdAo4suuuiiR0Cjiy666KJHQKOLLrrookdAo4suuuiiR0Cjiy666KJHQKOLLrrookdAo4suuuiiR0Cjiy666KJHQKOLLrrookdAo4suuuiiR0Cjiy666KJHQKOLLrrookdAo4suuuiiR0Cjiy666KJHQKOLLrrookdAo4suuuiiR0Cjiy666KJHQKOLLrrookdAo4suuuiiR0Cjiy666KJHQKOLLrrookdAo4suuuiiR0Cjiy666KJHQKOLLrrookdAo4suuuiiR0Cjiy666KJHQKOLLrrookdAo4suuuiiR0Cjiy666KJHQKOLLrrookdAo4suuuiiR0Cjiy666KJHQKOLLrrookdAo4suuuiiR0Cjiy666KJHQKOLLrrookdAo4suuuiiR0Cjiy666KJHQKOLLrrookdAo4suuuiiR0Cjiy666KJHQKOLLrrookdAo4suuuiiR0Cjiy666KJHQKOLLrrookdAo4suuuiiR0Cjiy666KJHQKOLLrrookdAo4suuuiiR0Cjiy666KJHQKOLLrrookdAo4suuuiiR0Cjiy666KJHQKOLLrrookdAo4suuuiiR0Cjiy666KJHQKOLLrrookdAo4suuuiiR0Cjiy666KJHQKOLLrrookdAo4suuuiiR0Cjiy666KJHQKOLLrrookdAo4suuuiiR0Cjiy666KJHQKOLLrrookdAo4suuuiiR0Cjiy666KJHQKOLLrrookdAo4suuuiiR0Cjiy666KJHQKOLLrrookdAo4suuuiiR0Cjiy666KJHQKOLLrrookdAo4suuuiiR0Cjiy666KJHQKOLLrrookdAo4suuuiiR0Cjiy666KJHQKOLLrrookdAo4suuuiiR0Cjiy666KJHQKOLLrrookdAo4suuuiiR0Cjiy666KJHQKOLLrrookdAo4suuuiiR0Cjiy666KJHQKOLLrrookdAo4suuuiiR0DxwQcffPBHQPHBBx988EdA8cEHH3zwR0DxwQcffPBHQPHBBx988EdA8cEHH3zwR0DxwQcffPBHQPHBBx988EdA8cEHH3zwR0DxwQcffPBHQPHBBx988EdA8cEHH3zwR0DxwQcffPBHQPHBBx988EdA8cEHH3zwR0DxwQcffPBHQPHBBx988EdA8cEHH3zwR0DxwQcffPBHQPHBBx988EdA8cEHH3zwR0DxwQcffPBHQPHBBx988EdA8cEHH3zwR0DxwQcffPBHQPHBBx988EdA8cEHH3zwR0DxwQcffPBHQPHBBx988EdA8cEHH3zwR0DxwQcffPBHQPHBBx988EdA8cEHH3zwR0DxwQcffPBHQPHBBx988EdA8cEHH3zwR0DxwQcffPBHQPHBBx988EdA8cEHH3zwR0DxwQcffPBHQPHBBx988EdA8cEHH3zwR0DxwQcffPBHQPHBBx988EdA8cEHH3zwR0DxwQcffPBHQPHBBx988EdA8cEHH3zwR0DxwQcffPBHQPHBBx988EdA8cEHH3zwR0DxwQcffPBHQPHBBx988EdA8cEHH3zwR0DxwQcffPBHQPHBBx988EdA8cEHH3zwR0DxwQcffPBHQPHBBx988EdA8cEHH3zwR0DxwQcffPBHQPHBBx988EdA8cEHH3zwR0DxwQcffPBHQPHBBx988EdA8cEHH3zwR0DxwQcffPBHQPHBBx988EdA8cEHH3zwR0DxwQcffPBHQPHBBx988EdA8cEHH3zwR0DxwQcffPBHQPHBBx988EdA8cEHH3zwR0DxwQcffPBHQPHBBx988EdA8cEHH3zwR0DxwQcffPBHQPHBBx988EdA8cEHH3zwR0DxwQcffPBHQPHBBx988EdA8cEHH3zwR0DxwQcffPBHQPHBBx988EdA8cEHH3zwR0DxwQcffPBHQPHBBx988EdA8cEHH3zwR0DxwQcffPBHQPHBBx988EdA8cEHH3zwR0DxwQcffPBHQPHBBx988EdA8cEHH3zwR0DxwQcffPBHQPHBBx988EdA8cEHH3zwR0DxwQcffPBHQD744IMPPkhAPvjggw8+SEA++OCDDz5IQD744IMPPkhAPvjggw8+SEA++OCDDz5IQD744IMPPkhAPvjggw8+SEA++OCDDz5IQD744IMPPkhAPvjggw8+SEA++OCDDz5IQD744IMPPkhAPvjggw8+SEA++OCDDz5IQD744IMPPkhAPvjggw8+SEA++OCDDz5IQD744IMPPkhAPvjggw8+SEA++OCDDz5IQD744IMPPkhAPvjggw8+SEA++OCDDz5IQD744IMPPkhAPvjggw8+SEA++OCDDz5IQD744IMPPkhAPvjggw8+SEA++OCDDz5IQD744IMPPkhAPvjggw8+SEA++OCDDz5IQD744IMPPkhAPvjggw8+SEA++OCDDz5IQD744IMPPkhAPvjggw8+SEA++OCDDz5IQD744IMPPkhAPvjggw8+SEA++OCDDz5IQD744IMPPkhAPvjggw8+SEA++OCDDz5IQD744IMPPkhAPvjggw8+SEA++OCDDz5IQD744IMPPkhAPvjggw8+SEA++OCDDz5IQD744IMPPkhAPvjggw8+SEA++OCDDz5IQD744IMPPkhAPvjggw8+SEA++OCDDz5IQD744IMPPkhAPvjggw8+SEA++OCDDz5IQD744IMPPkhAPvjggw8+SEA++OCDDz5IQD744IMPPkhAPvjggw8+SEA++OCDDz5IQD744IMPPkhAPvjggw8+SEA++OCDDz5IQD744IMPPkhAPvjggw8+SEA++OCDDz5IQD744IMPPkhAPvjggw8+SEA++OCDDz5IQD744IMPPkhAPvjggw8+SEA++OCDDz5IQD744IMPPkhAPvjggw8+SEA++OCDDz5IQD744IMPPkhAPvjggw8+SEA++OCDDz5IQD744IMPPkhAPvjggw8+SEA++OCDDz5IQD744IMPPkhAPvjggw8+SEA++OCDDz5IQD744IMPPkhAPvjggw8+SEA++OCDDz5IQD744IMPPkhAPvjggw8+SEA++OCDDz5IQD744IMPPkhAPvjggw8+SEA++OCDDz5IQD744IMPPkhAjC666KKLSECMLrroootIQIwuuuiii0hAjC666KKLSECMLrroootIQIwuuuiii0hAjC666KKLSECMLrroootIQIwuuuiii0hAjC666KKLSECMLrroootIQIwuuuiii0hAjC666KKLSECMLrroootIQIwuuuiii0hAjC666KKLSECMLrroootIQIwuuuiii0hAjC666KKLSECMLrroootIQIwuuuiii0hAjC666KKLSECMLrroootIQIwuuuiii0hAjC666KKLSECMLrroootIQIwuuuiii0hAjC666KKLSECMLrroootIQIwuuuiii0hAjC666KKLSECMLrroootIQIwuuuiii0hAjC666KKLSECMLrroootIQIwuuuiii0hAjC666KKLSECMLrroootIQIwuuuiii0hAjC666KKLSECMLrroootIQIwuuuiii0hAjC666KKLSECMLrroootIQIwuuuiii0hAjC666KKLSECMLrroootIQIwuuuiii0hAjC666KKLSECMLrroootIQIwuuuiii0hAjC666KKLSECMLrroootIQIwuuuiii0hAjC666KKLSECMLrroootIQIwuuuiii0hAjC666KKLSECMLrroootIQIwuuuiii0hAjC666KKLSECMLrroootIQIwuuuiii0hAjC666KKLSECMLrroootIQIwuuuiii0hAjC666KKLSECMLrroootIQIwuuuiii0hAjC666KKLSECMLrroootIQIwuuuiii0hAjC666KKLSECMLrroootIQIwuuuiii0hAjC666KKLSECMLrroootIQIwuuuiii0hAjC666KKLSECMLrroootIQIwuuuiii0hAjC666KKLSECMLrroootIQIwuuuiii0hAjC666KKLSECMLrroootIQIwuuuiii0hAjC666KKLSECMLrroootIQIwuuuiii0hAjC666KKLSECMLrroootIQIwuuuiii0hAjC666KKLSECMLrroootIQIwuuuiii0hAjC666KKLSECMLrroootIQIwuuuiii0hAjC666KKLSEDZZJNNNtlIQNlkk0022UhA2WSTTTbZSEDZZJNNNtlIQNlkk0022UhA2WSTTTbZSEDZZJNNNtlIQNlkk0022UhA2WSTTTbZSEDZZJNNNtlIQNlkk0022UhA2WSTTTbZSEDZZJNNNtlIQNlkk0022UhA2WSTTTbZSEDZZJNNNtlIQNlkk0022UhA2WSTTTbZSEDZZJNNNtlIQNlkk0022UhA2WSTTTbZSEDZZJNNNtlIQNlkk0022UhA2WSTTTbZSEDZZJNNNtlIQNlkk0022UhA2WSTTTbZSEDZZJNNNtlIQNlkk0022UhA2WSTTTbZSEDZZJNNNtlIQNlkk0022UhA2WSTTTbZSEDZZJNNNtlIQNlkk0022UhA2WSTTTbZSEDZZJNNNtlIQNlkk0022UhA2WSTTTbZSEDZZJNNNtlIQNlkk0022UhA2WSTTTbZSEDZZJNNNtlIQNlkk0022UhA2WSTTTbZSEDZZJNNNtlIQNlkk0022UhA2WSTTTbZSEDZZJNNNtlIQNlkk0022UhA2WSTTTbZSEDZZJNNNtlIQNlkk0022UhA2WSTTTbZSEDZZJNNNtlIQNlkk0022UhA2WSTTTbZSEDZZJNNNtlIQNlkk0022UhA2WSTTTbZSEDZZJNNNtlIQNlkk0022UhA2WSTTTbZSEDZZJNNNtlIQNlkk0022UhA2WSTTTbZSEDZZJNNNtlIQNlkk0022UhA2WSTTTbZSEDZZJNNNtlIQNlkk0022UhA2WSTTTbZSEDZZJNNNtlIQNlkk0022UhA2WSTTTbZSEDZZJNNNtlIQNlkk0022UhA2WSTTTbZSEDZZJNNNtlIQNlkk0022UhA2WSTTTbZSEDZZJNNNtlIQNlkk0022UhA2WSTTTbZSEDZZJNNNtlIQNlkk0022UhA2WSTTTbZSEDZZJNNNtlIQNlkk0022UhA2WSTTTbZSEDZZJNNNtlIQNlkk0022UhA2WSTTTbZSEDZZJNNNtlIQNlkk0022UhA2WSTTTbZSEDZZJNNNtlIQNlkk0022UhA2WSTTTbZSEDZZJNNNtlIQCebbLLJJklAJ5tssskmSUAnm2yyySZJQCebbLLJJklAJ5tssskmSUAnm2yyySZJQCebbLLJJklAJ5tssskmSUAnm2yyySZJQCebbLLJJklAJ5tssskmSUAnm2yyySZJQCebbLLJJklAJ5tssskmSUAnm2yyySZJQCebbLLJJklAJ5tssskmSUAnm2yyySZJQCebbLLJJklAJ5tssskmSUAnm2yyySZJQCebbLLJJklAJ5tssskmSUAnm2yyySZJQCebbLLJJklAJ5tssskmSUAnm2yyySZJQCebbLLJJklAJ5tssskmSUAnm2yyySZJQCebbLLJJklAJ5tssskmSUAnm2yyySZJQCebbLLJJklAJ5tssskmSUAnm2yyySZJQCebbLLJJklAJ5tssskmSUAnm2yyySZJQCebbLLJJklAJ5tssskmSUAnm2yyySZJQCebbLLJJklAJ5tssskmSUAnm2yyySZJQCebbLLJJklAJ5tssskmSUAnm2yyySZJQCebbLLJJklAJ5tssskmSUAnm2yyySZJQCebbLLJJklAJ5tssskmSUAnm2yyySZJQCebbLLJJklAJ5tssskmSUAnm2yyySZJQCebbLLJJklAJ5tssskmSUAnm2yyySZJQCebbLLJJklAJ5tssskmSUAnm2yyySZJQCebbLLJJklAJ5tssskmSUAnm2yyySZJQCebbLLJJklAJ5tssskmSUAnm2yyySZJQCebbLLJJklAJ5tssskmSUAnm2yyySZJQCebbLLJJklAJ5tssskmSUAnm2yyySZJQCebbLLJJklAJ5tssskmSUAnm2yyySZJQCebbLLJJklAJ5tssskmSUAnm2yyySZJQCebbLLJJklAJ5tssskmSUAnm2yyySZJQCebbLLJJklAJ5tssskmSUAnm2yyySZJQCebbLLJJklAJ5tssskmSUAnm2yyySZJQCebbLLJJklAJ5tssskmSUAnm2yyySZJQCebbLLJJklAJ5tssskmSUAnm2yyySZJQCebbLLJJklAJ5tssskmSUAnm2yyySZJQCebbLLJJklAddFFF110SUB10UUXXXRJQHXRRRdddElAddFFF110SUB10UUXXXRJQHXRRRdddElAddFFF110SUB10UUXXXRJQHXRRRdddElAddFFF110SUB10UUXXXRJQHXRRRdddElAddFFF110SUB10UUXXXRJQHXRRRdddElAddFFF110SUB10UUXXXRJQHXRRRdddElAddFFF110SUB10UUXXXRJQHXRRRdddElAddFFF110SUB10UUXXXRJQHXRRRdddElAddFFF110SUB10UUXXXRJQHXRRRdddElAddFFF110SUB10UUXXXRJQHXRRRdddElAddFFF110SUB10UUXXXRJQHXRRRdddElAddFFF110SUB10UUXXXRJQHXRRRdddElAddFFF110SUB10UUXXXRJQHXRRRdddElAddFFF110SUB10UUXXXRJQHXRRRdddElAddFFF110SUB10UUXXXRJQHXRRRdddElAddFFF110SUB10UUXXXRJQHXRRRdddElAddFFF110SUB10UUXXXRJQHXRRRdddElAddFFF110SUB10UUXXXRJQHXRRRdddElAddFFF110SUB10UUXXXRJQHXRRRdddElAddFFF110SUB10UUXXXRJQHXRRRdddElAddFFF110SUB10UUXXXRJQHXRRRdddElAddFFF110SUB10UUXXXRJQHXRRRdddElAddFFF110SUB10UUXXXRJQHXRRRdddElAddFFF110SUB10UUXXXRJQHXRRRdddElAddFFF110SUB10UUXXXRJQHXRRRdddElAddFFF110SUB10UUXXXRJQHXRRRdddElAddFFF110SUB10UUXXXRJQHXRRRdddElAddFFF110SUB10UUXXXRJQHXRRRdddElAddFFF110SUB10UUXXXRJQHXRRRdddElAddFFF110SUB10UUXXXRJQHXRRRdddElAddFFF110SUB10UUXXXRJQHXRRRdddElAddFFF110SUB10UUXXXRJQHXRRRdddElAddFFF110SUB10UUXXXRJQHXRRRdddElAddFFF110SUDCBx988MFJQMIHH3zwwUlAwgcffPDBSUDCBx988MFJQMIHH3zwwUlAwgcffPDBSUDCBx988MFJQMIHH3zwwUlAwgcffPDBSUDCBx988MFJQMIHH3zwwUlAwgcffPDBSUDCBx988MFJQMIHH3zwwUlAwgcffPDBSUDCBx988MFJQMIHH3zwwUlAwgcffPDBSUDCBx988MFJQMIHH3zwwUlAwgcffPDBSUDCBx988MFJQMIHH3zwwUlAwgcffPDBSUDCBx988MFJQMIHH3zwwUlAwgcffPDBSUDCBx988MFJQMIHH3zwwUlAwgcffPDBSUDCBx988MFJQMIHH3zwwUlAwgcffPDBSUDCBx988MFJQMIHH3zwwUlAwgcffPDBSUDCBx988MFJQMIHH3zwwUlAwgcffPDBSUDCBx988MFJQMIHH3zwwUlAwgcffPDBSUDCBx988MFJQMIHH3zwwUlAwgcffPDBSUDCBx988MFJQMIHH3zwwUlAwgcffPDBSUDCBx988MFJQMIHH3zwwUlAwgcffPDBSUDCBx988MFJQMIHH3zwwUlAwgcffPDBSUDCBx988MFJQMIHH3zwwUlAwgcffPDBSUDCBx988MFJQMIHH3zwwUlAwgcffPDBSUDCBx988MFJQMIHH3zwwUlAwgcffPDBSUDCBx988MFJQMIHH3zwwUlAwgcffPDBSUDCBx988MFJQMIHH3zwwUlAwgcffPDBSUDCBx988MFJQMIHH3zwwUlAwgcffPDBSUDCBx988MFJQMIHH3zwwUlAwgcffPDBSUDCBx988MFJQMIHH3zwwUlAwgcffPDBSUDCBx988MFJQMIHH3zwwUlAwgcffPDBSUDCBx988MFJQMIHH3zwwUlAwgcffPDBSUDCBx988MFJQMIHH3zwwUlAwgcffPDBSUDCBx988MFJQMIHH3zwwUlAwgcffPDBSUDCBx988MFJQMIHH3zwwUlAwgcffPDBSUDCBx988MFJQMIHH3zwwUlAwgcffPDBSUDCBx988MFJQMIHH3zwwUlAwgcffPDBSUDCBx988MFJQBA++OCDD0pAED744IMPSkAQPvjggw9KQBA++OCDD0pAED744IMPSkAQPvjggw9KQBA++OCDD0pAED744IMPSkAQPvjggw9KQBA++OCDD0pAED744IMPSkAQPvjggw9KQBA++OCDD0pAED744IMPSkAQPvjggw9KQBA++OCDD0pAED744IMPSkAQPvjggw9KQBA++OCDD0pAED744IMPSkAQPvjggw9KQBA++OCDD0pAED744IMPSkAQPvjggw9KQBA++OCDD0pAED744IMPSkAQPvjggw9KQBA++OCDD0pAED744IMPSkAQPvjggw9KQBA++OCDD0pAED744IMPSkAQPvjggw9KQBA++OCDD0pAED744IMPSkAQPvjggw9KQBA++OCDD0pAED744IMPSkAQPvjggw9KQBA++OCDD0pAED744IMPSkAQPvjggw9KQBA++OCDD0pAED744IMPSkAQPvjggw9KQBA++OCDD0pAED744IMPSkAQPvjggw9KQBA++OCDD0pAED744IMPSkAQPvjggw9KQBA++OCDD0pAED744IMPSkAQPvjggw9KQBA++OCDD0pAED744IMPSkAQPvjggw9KQBA++OCDD0pAED744IMPSkAQPvjggw9KQBA++OCDD0pAED744IMPSkAQPvjggw9KQBA++OCDD0pAED744IMPSkAQPvjggw9KQBA++OCDD0pAED744IMPSkAQPvjggw9KQBA++OCDD0pAED744IMPSkAQPvjggw9KQBA++OCDD0pAED744IMPSkAQPvjggw9KQBA++OCDD0pAED744IMPSkAQPvjggw9KQBA++OCDD0pAED744IMPSkAQPvjggw9KQBA++OCDD0pAED744IMPSkAQPvjggw9KQBA++OCDD0pAED744IMPSkAQPvjggw9KQBA++OCDD0pAED744IMPSkAQPvjggw9KQBA++OCDD0pAED744IMPSkAQPvjggw9KQBA++OCDD0pAED744IMPSkAQPvjggw9KQBA++OCDD0pAED744IMPSkAQPvjggw9KQBA++OCDD0pAXXTRRRddSkBddNFFF11KQF100UUXXUpAXXTRRRddSkBddNFFF11KQF100UUXXUpAXXTRRRddSkBddNFFF11KQF100UUXXUpAXXTRRRddSkBddNFFF11KQF100UUXXUpAXXTRRRddSkBddNFFF11KQF100UUXXUpAXXTRRRddSkBddNFFF11KQF100UUXXUpAXXTRRRddSkBddNFFF11KQF100UUXXUpAXXTRRRddSkBddNFFF11KQF100UUXXUpAXXTRRRddSkBddNFFF11KQF100UUXXUpAXXTRRRddSkBddNFFF11KQF100UUXXUpAXXTRRRddSkBddNFFF11KQF100UUXXUpAXXTRRRddSkBddNFFF11KQF100UUXXUpAXXTRRRddSkBddNFFF11KQF100UUXXUpAXXTRRRddSkBddNFFF11KQF100UUXXUpAXXTRRRddSkBddNFFF11KQF100UUXXUpAXXTRRRddSkBddNFFF11KQF100UUXXUpAXXTRRRddSkBddNFFF11KQF100UUXXUpAXXTRRRddSkBddNFFF11KQF100UUXXUpAXXTRRRddSkBddNFFF11KQF100UUXXUpAXXTRRRddSkBddNFFF11KQF100UUXXUpAXXTRRRddSkBddNFFF11KQF100UUXXUpAXXTRRRddSkBddNFFF11KQF100UUXXUpAXXTRRRddSkBddNFFF11KQF100UUXXUpAXXTRRRddSkBddNFFF11KQF100UUXXUpAXXTRRRddSkBddNFFF11KQF100UUXXUpAXXTRRRddSkBddNFFF11KQF100UUXXUpAXXTRRRddSkBddNFFF11KQF100UUXXUpAXXTRRRddSkBddNFFF11KQF100UUXXUpAXXTRRRddSkBddNFFF11KQF100UUXXUpAXXTRRRddSkBddNFFF11KQF100UUXXUpAXXTRRRddSkBddNFFF11KQF100UUXXUpAXXTRRRddSkBddNFFF11KQF100UUXXUpAXXTRRRddSkBddNFFF11KQF100UUXXUpAXXTRRRddSkCrqqqqqqpKQKuqqqqqqkpAq6qqqqqqSkCrqqqqqqpKQKuqqqqqqkpAq6qqqqqqSkCrqqqqqqpKQKuqqqqqqkpAq6qqqqqqSkCrqqqqqqpKQKuqqqqqqkpAq6qqqqqqSkCrqqqqqqpKQKuqqqqqqkpAq6qqqqqqSkCrqqqqqqpKQKuqqqqqqkpAq6qqqqqqSkCrqqqqqqpKQKuqqqqqqkpAq6qqqqqqSkCrqqqqqqpKQKuqqqqqqkpAq6qqqqqqSkCrqqqqqqpKQKuqqqqqqkpAq6qqqqqqSkCrqqqqqqpKQKuqqqqqqkpAq6qqqqqqSkCrqqqqqqpKQKuqqqqqqkpAq6qqqqqqSkCrqqqqqqpKQKuqqqqqqkpAq6qqqqqqSkCrqqqqqqpKQKuqqqqqqkpAq6qqqqqqSkCrqqqqqqpKQKuqqqqqqkpAq6qqqqqqSkCrqqqqqqpKQKuqqqqqqkpAq6qqqqqqSkCrqqqqqqpKQKuqqqqqqkpAq6qqqqqqSkCrqqqqqqpKQKuqqqqqqkpAq6qqqqqqSkCrqqqqqqpKQKuqqqqqqkpAq6qqqqqqSkCrqqqqqqpKQKuqqqqqqkpAq6qqqqqqSkCrqqqqqqpKQKuqqqqqqkpAq6qqqqqqSkCrqqqqqqpKQKuqqqqqqkpAq6qqqqqqSkCrqqqqqqpKQKuqqqqqqkpAq6qqqqqqSkCrqqqqqqpKQKuqqqqqqkpAq6qqqqqqSkCrqqqqqqpKQKuqqqqqqkpAq6qqqqqqSkCrqqqqqqpKQKuqqqqqqkpAq6qqqqqqSkCrqqqqqqpKQKuqqqqqqkpAq6qqqqqqSkCrqqqqqqpKQKuqqqqqqkpAq6qqqqqqSkCrqqqqqqpKQKuqqqqqqkpAq6qqqqqqSkCrqqqqqqpKQKuqqqqqqkpAq6qqqqqqSkCrqqqqqqpKQKuqqqqqqkpAq6qqqqqqSkCrqqqqqqpKQKuqqqqqqkpAq6qqqqqqSkCrqqqqqqpKQKuqqqqqqkpAq6qqqqqqSkCrqqqqqqpKQKuqqqqqqkpAq6qqqqqqSkCrqqqqqqpKQPjggw8++EpA+OCDDz74SkD44IMPPvhKQPjggw8++EpA+OCDDz74SkD44IMPPvhKQPjggw8++EpA+OCDDz74SkD44IMPPvhKQPjggw8++EpA+OCDDz74SkD44IMPPvhKQPjggw8++EpA+OCDDz74SkD44IMPPvhKQPjggw8++EpA+OCDDz74SkD44IMPPvhKQPjggw8++EpA+OCDDz74SkD44IMPPvhKQPjggw8++EpA+OCDDz74SkD44IMPPvhKQPjggw8++EpA+OCDDz74SkD44IMPPvhKQPjggw8++EpA+OCDDz74SkD44IMPPvhKQPjggw8++EpA+OCDDz74SkD44IMPPvhKQPjggw8++EpA+OCDDz74SkD44IMPPvhKQPjggw8++EpA+OCDDz74SkD44IMPPvhKQPjggw8++EpA+OCDDz74SkD44IMPPvhKQPjggw8++EpA+OCDDz74SkD44IMPPvhKQPjggw8++EpA+OCDDz74SkD44IMPPvhKQPjggw8++EpA+OCDDz74SkD44IMPPvhKQPjggw8++EpA+OCDDz74SkD44IMPPvhKQPjggw8++EpA+OCDDz74SkD44IMPPvhKQPjggw8++EpA+OCDDz74SkD44IMPPvhKQPjggw8++EpA+OCDDz74SkD44IMPPvhKQPjggw8++EpA+OCDDz74SkD44IMPPvhKQPjggw8++EpA+OCDDz74SkD44IMPPvhKQPjggw8++EpA+OCDDz74SkD44IMPPvhKQPjggw8++EpA+OCDDz74SkD44IMPPvhKQPjggw8++EpA+OCDDz74SkD44IMPPvhKQPjggw8++EpA+OCDDz74SkD44IMPPvhKQPjggw8++EpA+OCDDz74SkD44IMPPvhKQPjggw8++EpA+OCDDz74SkD44IMPPvhKQPjggw8++EpA+OCDDz74SkD44IMPPvhKQPjggw8++EpA+OCDDz74SkD44IMPPvhKQPjggw8++EpA+OCDDz74SkD44IMPPvhKQPjggw8++EpA+OCDDz74SkD44IMPPvhKQPjggw8++EpARhdddNFFS0BGF1100UVLQEYXXXTRRUtARhdddNFFS0BGF1100UVLQEYXXXTRRUtARhdddNFFS0BGF1100UVLQEYXXXTRRUtARhdddNFFS0BGF1100UVLQEYXXXTRRUtARhdddNFFS0BGF1100UVLQEYXXXTRRUtARhdddNFFS0BGF1100UVLQEYXXXTRRUtARhdddNFFS0BGF1100UVLQEYXXXTRRUtARhdddNFFS0BGF1100UVLQEYXXXTRRUtARhdddNFFS0BGF1100UVLQEYXXXTRRUtARhdddNFFS0BGF1100UVLQEYXXXTRRUtARhdddNFFS0BGF1100UVLQEYXXXTRRUtARhdddNFFS0BGF1100UVLQEYXXXTRRUtARhdddNFFS0BGF1100UVLQEYXXXTRRUtARhdddNFFS0BGF1100UVLQEYXXXTRRUtARhdddNFFS0BGF1100UVLQEYXXXTRRUtARhdddNFFS0BGF1100UVLQEYXXXTRRUtARhdddNFFS0BGF1100UVLQEYXXXTRRUtARhdddNFFS0BGF1100UVLQEYXXXTRRUtARhdddNFFS0BGF1100UVLQEYXXXTRRUtARhdddNFFS0BGF1100UVLQEYXXXTRRUtARhdddNFFS0BGF1100UVLQEYXXXTRRUtARhdddNFFS0BGF1100UVLQEYXXXTRRUtARhdddNFFS0BGF1100UVLQEYXXXTRRUtARhdddNFFS0BGF1100UVLQEYXXXTRRUtARhdddNFFS0BGF1100UVLQEYXXXTRRUtARhdddNFFS0BGF1100UVLQEYXXXTRRUtARhdddNFFS0BGF1100UVLQEYXXXTRRUtARhdddNFFS0BGF1100UVLQEYXXXTRRUtARhdddNFFS0BGF1100UVLQEYXXXTRRUtARhdddNFFS0BGF1100UVLQEYXXXTRRUtARhdddNFFS0BGF1100UVLQEYXXXTRRUtARhdddNFFS0BGF1100UVLQEYXXXTRRUtARhdddNFFS0BGF1100UVLQEYXXXTRRUtARhdddNFFS0CUTTbZZJNLQJRNNtlkk0tAlE022WSTS0CUTTbZZJNLQJRNNtlkk0tAlE022WSTS0CUTTbZZJNLQJRNNtlkk0tAlE022WSTS0CUTTbZZJNLQJRNNtlkk0tAlE022WSTS0CUTTbZZJNLQJRNNtlkk0tAlE022WSTS0CUTTbZZJNLQJRNNtlkk0tAlE022WSTS0CUTTbZZJNLQJRNNtlkk0tAlE022WSTS0CUTTbZZJNLQJRNNtlkk0tAlE022WSTS0CUTTbZZJNLQJRNNtlkk0tAlE022WSTS0CUTTbZZJNLQJRNNtlkk0tAlE022WSTS0CUTTbZZJNLQJRNNtlkk0tAlE022WSTS0CUTTbZZJNLQJRNNtlkk0tAlE022WSTS0CUTTbZZJNLQJRNNtlkk0tAlE022WSTS0CUTTbZZJNLQJRNNtlkk0tAlE022WSTS0CUTTbZZJNLQJRNNtlkk0tAlE022WSTS0CUTTbZZJNLQJRNNtlkk0tAlE022WSTS0CUTTbZZJNLQJRNNtlkk0tAlE022WSTS0CUTTbZZJNLQJRNNtlkk0tAlE022WSTS0CUTTbZZJNLQJRNNtlkk0tAlE022WSTS0CUTTbZZJNLQJRNNtlkk0tAlE022WSTS0CUTTbZZJNLQJRNNtlkk0tAlE022WSTS0CUTTbZZJNLQJRNNtlkk0tAlE022WSTS0CUTTbZZJNLQJRNNtlkk0tAlE022WSTS0CUTTbZZJNLQJRNNtlkk0tAlE022WSTS0CUTTbZZJNLQJRNNtlkk0tAlE022WSTS0CUTTbZZJNLQJRNNtlkk0tAlE022WSTS0CUTTbZZJNLQJRNNtlkk0tAlE022WSTS0CUTTbZZJNLQJRNNtlkk0tAlE022WSTS0CUTTbZZJNLQJRNNtlkk0tAlE022WSTS0CUTTbZZJNLQJRNNtlkk0tAlE022WSTS0CUTTbZZJNLQJRNNtlkk0tAlE022WSTS0CUTTbZZJNLQJRNNtlkk0tAlE022WSTS0CUTTbZZJNLQJRNNtlkk0tAlE022WSTS0CUTTbZZJNLQOGDDz744EtA4YMPPvjgS0Dhgw8++OBLQOGDDz744EtA4YMPPvjgS0Dhgw8++OBLQOGDDz744EtA4YMPPvjgS0Dhgw8++OBLQOGDDz744EtA4YMPPvjgS0Dhgw8++OBLQOGDDz744EtA4YMPPvjgS0Dhgw8++OBLQOGDDz744EtA4YMPPvjgS0Dhgw8++OBLQOGDDz744EtA4YMPPvjgS0Dhgw8++OBLQOGDDz744EtA4YMPPvjgS0Dhgw8++OBLQOGDDz744EtA4YMPPvjgS0Dhgw8++OBLQOGDDz744EtA4YMPPvjgS0Dhgw8++OBLQOGDDz744EtA4YMPPvjgS0Dhgw8++OBLQOGDDz744EtA4YMPPvjgS0Dhgw8++OBLQOGDDz744EtA4YMPPvjgS0Dhgw8++OBLQOGDDz744EtA4YMPPvjgS0Dhgw8++OBLQOGDDz744EtA4YMPPvjgS0Dhgw8++OBLQOGDDz744EtA4YMPPvjgS0Dhgw8++OBLQOGDDz744EtA4YMPPvjgS0Dhgw8++OBLQOGDDz744EtA4YMPPvjgS0Dhgw8++OBLQOGDDz744EtA4YMPPvjgS0Dhgw8++OBLQOGDDz744EtA4YMPPvjgS0Dhgw8++OBLQOGDDz744EtA4YMPPvjgS0Dhgw8++OBLQOGDDz744EtA4YMPPvjgS0Dhgw8++OBLQOGDDz744EtA4YMPPvjgS0Dhgw8++OBLQOGDDz744EtA4YMPPvjgS0Dhgw8++OBLQOGDDz744EtA4YMPPvjgS0Dhgw8++OBLQOGDDz744EtA4YMPPvjgS0Dhgw8++OBLQOGDDz744EtA4YMPPvjgS0Dhgw8++OBLQOGDDz744EtA4YMPPvjgS0Dhgw8++OBLQOGDDz744EtA4YMPPvjgS0Dhgw8++OBLQOGDDz744EtA4YMPPvjgS0Dhgw8++OBLQOGDDz744EtA4YMPPvjgS0Dhgw8++OBLQOGDDz744EtA4YMPPvjgS0Dhgw8++OBLQOGDDz744EtA4YMPPvjgS0Dhgw8++OBLQOGDDz744EtAL7rooosuTEAvuuiiiy5MQC+66KKLLkxAL7rooosuTEAvuuiiiy5MQC+66KKLLkxAL7rooosuTEAvuuiiiy5MQC+66KKLLkxAL7rooosuTEAvuuiiiy5MQC+66KKLLkxAL7rooosuTEAvuuiiiy5MQC+66KKLLkxAL7rooosuTEAvuuiiiy5MQC+66KKLLkxAL7rooosuTEAvuuiiiy5MQC+66KKLLkxAL7rooosuTEAvuuiiiy5MQC+66KKLLkxAL7rooosuTEAvuuiiiy5MQC+66KKLLkxAL7rooosuTEAvuuiiiy5MQC+66KKLLkxAL7rooosuTEAvuuiiiy5MQC+66KKLLkxAL7rooosuTEAvuuiiiy5MQC+66KKLLkxAL7rooosuTEAvuuiiiy5MQC+66KKLLkxAL7rooosuTEAvuuiiiy5MQC+66KKLLkxAL7rooosuTEAvuuiiiy5MQC+66KKLLkxAL7rooosuTEAvuuiiiy5MQC+66KKLLkxAL7rooosuTEAvuuiiiy5MQC+66KKLLkxAL7rooosuTEAvuuiiiy5MQC+66KKLLkxAL7rooosuTEAvuuiiiy5MQC+66KKLLkxAL7rooosuTEAvuuiiiy5MQC+66KKLLkxAL7rooosuTEAvuuiiiy5MQC+66KKLLkxAL7rooosuTEAvuuiiiy5MQC+66KKLLkxAL7rooosuTEAvuuiiiy5MQC+66KKLLkxAL7rooosuTEAvuuiiiy5MQC+66KKLLkxAL7rooosuTEAvuuiiiy5MQC+66KKLLkxAL7rooosuTEAvuuiiiy5MQC+66KKLLkxAL7rooosuTEAvuuiiiy5MQC+66KKLLkxAL7rooosuTEAvuuiiiy5MQC+66KKLLkxAL7rooosuTEAvuuiiiy5MQC+66KKLLkxAL7rooosuTEAvuuiiiy5MQC+66KKLLkxAL7rooosuTEAvuuiiiy5MQC+66KKLLkxAL7rooosuTEAvuuiiiy5MQC+66KKLLkxAL7rooosuTEAvuuiiiy5MQC+66KKLLkxAL7rooosuTEB88MEHH3xMQHzwwQcffExAfPDBBx98TEB88MEHH3xMQHzwwQcffExAfPDBBx98TEB88MEHH3xMQHzwwQcffExAfPDBBx98TEB88MEHH3xMQHzwwQcffExAfPDBBx98TEB88MEHH3xMQHzwwQcffExAfPDBBx98TEB88MEHH3xMQHzwwQcffExAfPDBBx98TEB88MEHH3xMQHzwwQcffExAfPDBBx98TEB88MEHH3xMQHzwwQcffExAfPDBBx98TEB88MEHH3xMQHzwwQcffExAfPDBBx98TEB88MEHH3xMQHzwwQcffExAfPDBBx98TEB88MEHH3xMQHzwwQcffExAfPDBBx98TEB88MEHH3xMQHzwwQcffExAfPDBBx98TEB88MEHH3xMQHzwwQcffExAfPDBBx98TEB88MEHH3xMQHzwwQcffExAfPDBBx98TEB88MEHH3xMQHzwwQcffExAfPDBBx98TEB88MEHH3xMQHzwwQcffExAfPDBBx98TEB88MEHH3xMQHzwwQcffExAfPDBBx98TEB88MEHH3xMQHzwwQcffExAfPDBBx98TEB88MEHH3xMQHzwwQcffExAfPDBBx98TEB88MEHH3xMQHzwwQcffExAfPDBBx98TEB88MEHH3xMQHzwwQcffExAfPDBBx98TEB88MEHH3xMQHzwwQcffExAfPDBBx98TEB88MEHH3xMQHzwwQcffExAfPDBBx98TEB88MEHH3xMQHzwwQcffExAfPDBBx98TEB88MEHH3xMQHzwwQcffExAfPDBBx98TEB88MEHH3xMQHzwwQcffExAfPDBBx98TEB88MEHH3xMQHzwwQcffExAfPDBBx98TEB88MEHH3xMQHzwwQcffExAfPDBBx98TEB88MEHH3xMQHzwwQcffExAfPDBBx98TEB88MEHH3xMQHzwwQcffExAfPDBBx98TEB88MEHH3xMQHzwwQcffExAfPDBBx98TEB88MEHH3xMQHzwwQcffExAfPDBBx98TEB88MEHH3xMQHzwwQcffExAfPDBBx98TEB88MEHH3xMQMomm2yyyUxAyiabbLLJTEDKJptssslMQMomm2yyyUxAyiabbLLJTEDKJptssslMQMomm2yyyUxAyiabbLLJTEDKJptssslMQMomm2yyyUxAyiabbLLJTEDKJptssslMQMomm2yyyUxAyiabbLLJTEDKJptssslMQMomm2yyyUxAyiabbLLJTEDKJptssslMQMomm2yyyUxAyiabbLLJTEDKJptssslMQMomm2yyyUxAyiabbLLJTEDKJptssslMQMomm2yyyUxAyiabbLLJTEDKJptssslMQMomm2yyyUxAyiabbLLJTEDKJptssslMQMomm2yyyUxAyiabbLLJTEDKJptssslMQMomm2yyyUxAyiabbLLJTEDKJptssslMQMomm2yyyUxAyiabbLLJTEDKJptssslMQMomm2yyyUxAyiabbLLJTEDKJptssslMQMomm2yyyUxAyiabbLLJTEDKJptssslMQMomm2yyyUxAyiabbLLJTEDKJptssslMQMomm2yyyUxAyiabbLLJTEDKJptssslMQMomm2yyyUxAyiabbLLJTEDKJptssslMQMomm2yyyUxAyiabbLLJTEDKJptssslMQMomm2yyyUxAyiabbLLJTEDKJptssslMQMomm2yyyUxAyiabbLLJTEDKJptssslMQMomm2yyyUxAyiabbLLJTEDKJptssslMQMomm2yyyUxAyiabbLLJTEDKJptssslMQMomm2yyyUxAyiabbLLJTEDKJptssslMQMomm2yyyUxAyiabbLLJTEDKJptssslMQMomm2yyyUxAyiabbLLJTEDKJptssslMQMomm2yyyUxAyiabbLLJTEDKJptssslMQMomm2yyyUxAyiabbLLJTEDKJptssslMQMomm2yyyUxAyiabbLLJTEDKJptssslMQMomm2yyyUxAyiabbLLJTEDKJptssslMQMomm2yyyUxAyiabbLLJTEDKJptssslMQMomm2yyyUxAyiabbLLJTEDKJptssslMQMomm2yyyUxAyiabbLLJTEDKJptssslMQMomm2yyyUxAGF100UUXTUAYXXTRRRdNQBhddNFFF01AGF100UUXTUAYXXTRRRdNQBhddNFFF01AGF100UUXTUAYXXTRRRdNQBhddNFFF01AGF100UUXTUAYXXTRRRdNQBhddNFFF01AGF100UUXTUAYXXTRRRdNQBhddNFFF01AGF100UUXTUAYXXTRRRdNQBhddNFFF01AGF100UUXTUAYXXTRRRdNQBhddNFFF01AGF100UUXTUAYXXTRRRdNQBhddNFFF01AGF100UUXTUAYXXTRRRdNQBhddNFFF01AGF100UUXTUAYXXTRRRdNQBhddNFFF01AGF100UUXTUAYXXTRRRdNQBhddNFFF01AGF100UUXTUAYXXTRRRdNQBhddNFFF01AGF100UUXTUAYXXTRRRdNQBhddNFFF01AGF100UUXTUAYXXTRRRdNQBhddNFFF01AGF100UUXTUAYXXTRRRdNQBhddNFFF01AGF100UUXTUAYXXTRRRdNQBhddNFFF01AGF100UUXTUAYXXTRRRdNQBhddNFFF01AGF100UUXTUAYXXTRRRdNQBhddNFFF01AGF100UUXTUAYXXTRRRdNQBhddNFFF01AGF100UUXTUAYXXTRRRdNQBhddNFFF01AGF100UUXTUAYXXTRRRdNQBhddNFFF01AGF100UUXTUAYXXTRRRdNQBhddNFFF01AGF100UUXTUAYXXTRRRdNQBhddNFFF01AGF100UUXTUAYXXTRRRdNQBhddNFFF01AGF100UUXTUAYXXTRRRdNQBhddNFFF01AGF100UUXTUAYXXTRRRdNQBhddNFFF01AGF100UUXTUAYXXTRRRdNQBhddNFFF01AGF100UUXTUAYXXTRRRdNQBhddNFFF01AGF100UUXTUAYXXTRRRdNQBhddNFFF01AGF100UUXTUAYXXTRRRdNQBhddNFFF01AGF100UUXTUAYXXTRRRdNQBhddNFFF01AGF100UUXTUAYXXTRRRdNQBhddNFFF01AGF100UUXTUAYXXTRRRdNQBhddNFFF01AGF100UUXTUBlk0022WRNQGWTTTbZZE1AZZNNNtlkTUBlk0022WRNQGWTTTbZZE1AZZNNNtlkTUBlk0022WRNQGWTTTbZZE1AZZNNNtlkTUBlk0022WRNQGWTTTbZZE1AZZNNNtlkTUBlk0022WRNQGWTTTbZZE1AZZNNNtlkTUBlk0022WRNQGWTTTbZZE1AZZNNNtlkTUBlk0022WRNQGWTTTbZZE1AZZNNNtlkTUBlk0022WRNQGWTTTbZZE1AZZNNNtlkTUBlk0022WRNQGWTTTbZZE1AZZNNNtlkTUBlk0022WRNQGWTTTbZZE1AZZNNNtlkTUBlk0022WRNQGWTTTbZZE1AZZNNNtlkTUBlk0022WRNQGWTTTbZZE1AZZNNNtlkTUBlk0022WRNQGWTTTbZZE1AZZNNNtlkTUBlk0022WRNQGWTTTbZZE1AZZNNNtlkTUBlk0022WRNQGWTTTbZZE1AZZNNNtlkTUBlk0022WRNQGWTTTbZZE1AZZNNNtlkTUBlk0022WRNQGWTTTbZZE1AZZNNNtlkTUBlk0022WRNQGWTTTbZZE1AZZNNNtlkTUBlk0022WRNQGWTTTbZZE1AZZNNNtlkTUBlk0022WRNQGWTTTbZZE1AZZNNNtlkTUBlk0022WRNQGWTTTbZZE1AZZNNNtlkTUBlk0022WRNQGWTTTbZZE1AZZNNNtlkTUBlk0022WRNQGWTTTbZZE1AZZNNNtlkTUBlk0022WRNQGWTTTbZZE1AZZNNNtlkTUBlk0022WRNQGWTTTbZZE1AZZNNNtlkTUBlk0022WRNQGWTTTbZZE1AZZNNNtlkTUBlk0022WRNQGWTTTbZZE1AZZNNNtlkTUBlk0022WRNQGWTTTbZZE1AZZNNNtlkTUBlk0022WRNQGWTTTbZZE1AZZNNNtlkTUBlk0022WRNQGWTTTbZZE1AZZNNNtlkTUBlk0022WRNQGWTTTbZZE1AZZNNNtlkTUBlk0022WRNQGWTTTbZZE1AZZNNNtlkTUBlk0022WRNQGWTTTbZZE1AZZNNNtlkTUBlk0022WRNQLPJJptssk1As8kmm2yyTUCzySabbLJNQLPJJptssk1As8kmm2yyTUCzySabbLJNQLPJJptssk1As8kmm2yyTUCzySabbLJNQLPJJptssk1As8kmm2yyTUCzySabbLJNQLPJJptssk1As8kmm2yyTUCzySabbLJNQLPJJptssk1As8kmm2yyTUCzySabbLJNQLPJJptssk1As8kmm2yyTUCzySabbLJNQLPJJptssk1As8kmm2yyTUCzySabbLJNQLPJJptssk1As8kmm2yyTUCzySabbLJNQLPJJptssk1As8kmm2yyTUCzySabbLJNQLPJJptssk1As8kmm2yyTUCzySabbLJNQLPJJptssk1As8kmm2yyTUCzySabbLJNQLPJJptssk1As8kmm2yyTUCzySabbLJNQLPJJptssk1As8kmm2yyTUCzySabbLJNQLPJJptssk1As8kmm2yyTUCzySabbLJNQLPJJptssk1As8kmm2yyTUCzySabbLJNQLPJJptssk1As8kmm2yyTUCzySabbLJNQLPJJptssk1As8kmm2yyTUCzySabbLJNQLPJJptssk1As8kmm2yyTUCzySabbLJNQLPJJptssk1As8kmm2yyTUCzySabbLJNQLPJJptssk1As8kmm2yyTUCzySabbLJNQLPJJptssk1As8kmm2yyTUCzySabbLJNQLPJJptssk1As8kmm2yyTUCzySabbLJNQLPJJptssk1As8kmm2yyTUCzySabbLJNQLPJJptssk1As8kmm2yyTUCzySabbLJNQLPJJptssk1As8kmm2yyTUCzySabbLJNQLPJJptssk1As8kmm2yyTUCzySabbLJNQLPJJptssk1As8kmm2yyTUCzySabbLJNQLPJJptssk1As8kmm2yyTUCzySabbLJNQLPJJptssk1As8kmm2yyTUCzySabbLJNQLPJJptssk1As8kmm2yyTUCzySabbLJNQLPJJptssk1As8kmm2yyTUCzySabbLJNQLPJJptssk1As8kmm2yyTUCzySabbLJNQLPJJptssk1AAAAAAAAATkAAAAAAAABOQAAAAAAAAE5AAAAAAAAATkAAAAAAAABOQAAAAAAAAE5AAAAAAAAATkAAAAAAAABOQAAAAAAAAE5AAAAAAAAATkAAAAAAAABOQAAAAAAAAE5AAAAAAAAATkAAAAAAAABOQAAAAAAAAE5AAAAAAAAATkAAAAAAAABOQAAAAAAAAE5AAAAAAAAATkAAAAAAAABOQAAAAAAAAE5AAAAAAAAATkAAAAAAAABOQAAAAAAAAE5AAAAAAAAATkAAAAAAAABOQAAAAAAAAE5AAAAAAAAATkAAAAAAAABOQAAAAAAAAE5AAAAAAAAATkAAAAAAAABOQAAAAAAAAE5AAAAAAAAATkAAAAAAAABOQAAAAAAAAE5AAAAAAAAATkAAAAAAAABOQAAAAAAAAE5AAAAAAAAATkAAAAAAAABOQAAAAAAAAE5AAAAAAAAATkAAAAAAAABOQAAAAAAAAE5AAAAAAAAATkAAAAAAAABOQAAAAAAAAE5AAAAAAAAATkAAAAAAAABOQAAAAAAAAE5AAAAAAAAATkAAAAAAAABOQAAAAAAAAE5AAAAAAAAATkAAAAAAAABOQAAAAAAAAE5AAAAAAAAATkAAAAAAAABOQAAAAAAAAE5AAAAAAAAATkAAAAAAAABOQAAAAAAAAE5AAAAAAAAATkAAAAAAAABOQAAAAAAAAE5AAAAAAAAATkAAAAAAAABOQAAAAAAAAE5AAAAAAAAATkAAAAAAAABOQAAAAAAAAE5AAAAAAAAATkAAAAAAAABOQAAAAAAAAE5AAAAAAAAATkAAAAAAAABOQAAAAAAAAE5AAAAAAAAATkAAAAAAAABOQAAAAAAAAE5AAAAAAAAATkAAAAAAAABOQAAAAAAAAE5AAAAAAAAATkAAAAAAAABOQAAAAAAAAE5AAAAAAAAATkAAAAAAAABOQAAAAAAAAE5AAAAAAAAATkAAAAAAAABOQAAAAAAAAE5AAAAAAAAATkAAAAAAAABOQAAAAAAAAE5AAAAAAAAATkAAAAAAAABOQAAAAAAAAE5AAAAAAAAATkA=",
          "dtype": "f8",
          "shape": "100, 100"
         },
         "z": {
          "bdata": "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",
          "dtype": "f4",
          "shape": "100, 100"
         }
        }
       ],
       "layout": {
        "autosize": true,
        "height": 600,
        "scene": {
         "camera": {
          "eye": {
           "x": -1.25,
           "y": -1.25,
           "z": 1.25
          }
         },
         "xaxis": {
          "title": {
           "text": "t"
          }
         },
         "yaxis": {
          "title": {
           "text": "s"
          }
         },
         "zaxis": {
          "title": {
           "text": "V"
          }
         }
        },
        "template": {
         "data": {
          "bar": [
           {
            "error_x": {
             "color": "#2a3f5f"
            },
            "error_y": {
             "color": "#2a3f5f"
            },
            "marker": {
             "line": {
              "color": "#E5ECF6",
              "width": 0.5
             },
             "pattern": {
              "fillmode": "overlay",
              "size": 10,
              "solidity": 0.2
             }
            },
            "type": "bar"
           }
          ],
          "barpolar": [
           {
            "marker": {
             "line": {
              "color": "#E5ECF6",
              "width": 0.5
             },
             "pattern": {
              "fillmode": "overlay",
              "size": 10,
              "solidity": 0.2
             }
            },
            "type": "barpolar"
           }
          ],
          "carpet": [
           {
            "aaxis": {
             "endlinecolor": "#2a3f5f",
             "gridcolor": "white",
             "linecolor": "white",
             "minorgridcolor": "white",
             "startlinecolor": "#2a3f5f"
            },
            "baxis": {
             "endlinecolor": "#2a3f5f",
             "gridcolor": "white",
             "linecolor": "white",
             "minorgridcolor": "white",
             "startlinecolor": "#2a3f5f"
            },
            "type": "carpet"
           }
          ],
          "choropleth": [
           {
            "colorbar": {
             "outlinewidth": 0,
             "ticks": ""
            },
            "type": "choropleth"
           }
          ],
          "contour": [
           {
            "colorbar": {
             "outlinewidth": 0,
             "ticks": ""
            },
            "colorscale": [
             [
              0,
              "#0d0887"
             ],
             [
              0.1111111111111111,
              "#46039f"
             ],
             [
              0.2222222222222222,
              "#7201a8"
             ],
             [
              0.3333333333333333,
              "#9c179e"
             ],
             [
              0.4444444444444444,
              "#bd3786"
             ],
             [
              0.5555555555555556,
              "#d8576b"
             ],
             [
              0.6666666666666666,
              "#ed7953"
             ],
             [
              0.7777777777777778,
              "#fb9f3a"
             ],
             [
              0.8888888888888888,
              "#fdca26"
             ],
             [
              1,
              "#f0f921"
             ]
            ],
            "type": "contour"
           }
          ],
          "contourcarpet": [
           {
            "colorbar": {
             "outlinewidth": 0,
             "ticks": ""
            },
            "type": "contourcarpet"
           }
          ],
          "heatmap": [
           {
            "colorbar": {
             "outlinewidth": 0,
             "ticks": ""
            },
            "colorscale": [
             [
              0,
              "#0d0887"
             ],
             [
              0.1111111111111111,
              "#46039f"
             ],
             [
              0.2222222222222222,
              "#7201a8"
             ],
             [
              0.3333333333333333,
              "#9c179e"
             ],
             [
              0.4444444444444444,
              "#bd3786"
             ],
             [
              0.5555555555555556,
              "#d8576b"
             ],
             [
              0.6666666666666666,
              "#ed7953"
             ],
             [
              0.7777777777777778,
              "#fb9f3a"
             ],
             [
              0.8888888888888888,
              "#fdca26"
             ],
             [
              1,
              "#f0f921"
             ]
            ],
            "type": "heatmap"
           }
          ],
          "histogram": [
           {
            "marker": {
             "pattern": {
              "fillmode": "overlay",
              "size": 10,
              "solidity": 0.2
             }
            },
            "type": "histogram"
           }
          ],
          "histogram2d": [
           {
            "colorbar": {
             "outlinewidth": 0,
             "ticks": ""
            },
            "colorscale": [
             [
              0,
              "#0d0887"
             ],
             [
              0.1111111111111111,
              "#46039f"
             ],
             [
              0.2222222222222222,
              "#7201a8"
             ],
             [
              0.3333333333333333,
              "#9c179e"
             ],
             [
              0.4444444444444444,
              "#bd3786"
             ],
             [
              0.5555555555555556,
              "#d8576b"
             ],
             [
              0.6666666666666666,
              "#ed7953"
             ],
             [
              0.7777777777777778,
              "#fb9f3a"
             ],
             [
              0.8888888888888888,
              "#fdca26"
             ],
             [
              1,
              "#f0f921"
             ]
            ],
            "type": "histogram2d"
           }
          ],
          "histogram2dcontour": [
           {
            "colorbar": {
             "outlinewidth": 0,
             "ticks": ""
            },
            "colorscale": [
             [
              0,
              "#0d0887"
             ],
             [
              0.1111111111111111,
              "#46039f"
             ],
             [
              0.2222222222222222,
              "#7201a8"
             ],
             [
              0.3333333333333333,
              "#9c179e"
             ],
             [
              0.4444444444444444,
              "#bd3786"
             ],
             [
              0.5555555555555556,
              "#d8576b"
             ],
             [
              0.6666666666666666,
              "#ed7953"
             ],
             [
              0.7777777777777778,
              "#fb9f3a"
             ],
             [
              0.8888888888888888,
              "#fdca26"
             ],
             [
              1,
              "#f0f921"
             ]
            ],
            "type": "histogram2dcontour"
           }
          ],
          "mesh3d": [
           {
            "colorbar": {
             "outlinewidth": 0,
             "ticks": ""
            },
            "type": "mesh3d"
           }
          ],
          "parcoords": [
           {
            "line": {
             "colorbar": {
              "outlinewidth": 0,
              "ticks": ""
             }
            },
            "type": "parcoords"
           }
          ],
          "pie": [
           {
            "automargin": true,
            "type": "pie"
           }
          ],
          "scatter": [
           {
            "fillpattern": {
             "fillmode": "overlay",
             "size": 10,
             "solidity": 0.2
            },
            "type": "scatter"
           }
          ],
          "scatter3d": [
           {
            "line": {
             "colorbar": {
              "outlinewidth": 0,
              "ticks": ""
             }
            },
            "marker": {
             "colorbar": {
              "outlinewidth": 0,
              "ticks": ""
             }
            },
            "type": "scatter3d"
           }
          ],
          "scattercarpet": [
           {
            "marker": {
             "colorbar": {
              "outlinewidth": 0,
              "ticks": ""
             }
            },
            "type": "scattercarpet"
           }
          ],
          "scattergeo": [
           {
            "marker": {
             "colorbar": {
              "outlinewidth": 0,
              "ticks": ""
             }
            },
            "type": "scattergeo"
           }
          ],
          "scattergl": [
           {
            "marker": {
             "colorbar": {
              "outlinewidth": 0,
              "ticks": ""
             }
            },
            "type": "scattergl"
           }
          ],
          "scattermap": [
           {
            "marker": {
             "colorbar": {
              "outlinewidth": 0,
              "ticks": ""
             }
            },
            "type": "scattermap"
           }
          ],
          "scattermapbox": [
           {
            "marker": {
             "colorbar": {
              "outlinewidth": 0,
              "ticks": ""
             }
            },
            "type": "scattermapbox"
           }
          ],
          "scatterpolar": [
           {
            "marker": {
             "colorbar": {
              "outlinewidth": 0,
              "ticks": ""
             }
            },
            "type": "scatterpolar"
           }
          ],
          "scatterpolargl": [
           {
            "marker": {
             "colorbar": {
              "outlinewidth": 0,
              "ticks": ""
             }
            },
            "type": "scatterpolargl"
           }
          ],
          "scatterternary": [
           {
            "marker": {
             "colorbar": {
              "outlinewidth": 0,
              "ticks": ""
             }
            },
            "type": "scatterternary"
           }
          ],
          "surface": [
           {
            "colorbar": {
             "outlinewidth": 0,
             "ticks": ""
            },
            "colorscale": [
             [
              0,
              "#0d0887"
             ],
             [
              0.1111111111111111,
              "#46039f"
             ],
             [
              0.2222222222222222,
              "#7201a8"
             ],
             [
              0.3333333333333333,
              "#9c179e"
             ],
             [
              0.4444444444444444,
              "#bd3786"
             ],
             [
              0.5555555555555556,
              "#d8576b"
             ],
             [
              0.6666666666666666,
              "#ed7953"
             ],
             [
              0.7777777777777778,
              "#fb9f3a"
             ],
             [
              0.8888888888888888,
              "#fdca26"
             ],
             [
              1,
              "#f0f921"
             ]
            ],
            "type": "surface"
           }
          ],
          "table": [
           {
            "cells": {
             "fill": {
              "color": "#EBF0F8"
             },
             "line": {
              "color": "white"
             }
            },
            "header": {
             "fill": {
              "color": "#C8D4E3"
             },
             "line": {
              "color": "white"
             }
            },
            "type": "table"
           }
          ]
         },
         "layout": {
          "annotationdefaults": {
           "arrowcolor": "#2a3f5f",
           "arrowhead": 0,
           "arrowwidth": 1
          },
          "autotypenumbers": "strict",
          "coloraxis": {
           "colorbar": {
            "outlinewidth": 0,
            "ticks": ""
           }
          },
          "colorscale": {
           "diverging": [
            [
             0,
             "#8e0152"
            ],
            [
             0.1,
             "#c51b7d"
            ],
            [
             0.2,
             "#de77ae"
            ],
            [
             0.3,
             "#f1b6da"
            ],
            [
             0.4,
             "#fde0ef"
            ],
            [
             0.5,
             "#f7f7f7"
            ],
            [
             0.6,
             "#e6f5d0"
            ],
            [
             0.7,
             "#b8e186"
            ],
            [
             0.8,
             "#7fbc41"
            ],
            [
             0.9,
             "#4d9221"
            ],
            [
             1,
             "#276419"
            ]
           ],
           "sequential": [
            [
             0,
             "#0d0887"
            ],
            [
             0.1111111111111111,
             "#46039f"
            ],
            [
             0.2222222222222222,
             "#7201a8"
            ],
            [
             0.3333333333333333,
             "#9c179e"
            ],
            [
             0.4444444444444444,
             "#bd3786"
            ],
            [
             0.5555555555555556,
             "#d8576b"
            ],
            [
             0.6666666666666666,
             "#ed7953"
            ],
            [
             0.7777777777777778,
             "#fb9f3a"
            ],
            [
             0.8888888888888888,
             "#fdca26"
            ],
            [
             1,
             "#f0f921"
            ]
           ],
           "sequentialminus": [
            [
             0,
             "#0d0887"
            ],
            [
             0.1111111111111111,
             "#46039f"
            ],
            [
             0.2222222222222222,
             "#7201a8"
            ],
            [
             0.3333333333333333,
             "#9c179e"
            ],
            [
             0.4444444444444444,
             "#bd3786"
            ],
            [
             0.5555555555555556,
             "#d8576b"
            ],
            [
             0.6666666666666666,
             "#ed7953"
            ],
            [
             0.7777777777777778,
             "#fb9f3a"
            ],
            [
             0.8888888888888888,
             "#fdca26"
            ],
            [
             1,
             "#f0f921"
            ]
           ]
          },
          "colorway": [
           "#636efa",
           "#EF553B",
           "#00cc96",
           "#ab63fa",
           "#FFA15A",
           "#19d3f3",
           "#FF6692",
           "#B6E880",
           "#FF97FF",
           "#FECB52"
          ],
          "font": {
           "color": "#2a3f5f"
          },
          "geo": {
           "bgcolor": "white",
           "lakecolor": "white",
           "landcolor": "#E5ECF6",
           "showlakes": true,
           "showland": true,
           "subunitcolor": "white"
          },
          "hoverlabel": {
           "align": "left"
          },
          "hovermode": "closest",
          "mapbox": {
           "style": "light"
          },
          "paper_bgcolor": "white",
          "plot_bgcolor": "#E5ECF6",
          "polar": {
           "angularaxis": {
            "gridcolor": "white",
            "linecolor": "white",
            "ticks": ""
           },
           "bgcolor": "#E5ECF6",
           "radialaxis": {
            "gridcolor": "white",
            "linecolor": "white",
            "ticks": ""
           }
          },
          "scene": {
           "xaxis": {
            "backgroundcolor": "#E5ECF6",
            "gridcolor": "white",
            "gridwidth": 2,
            "linecolor": "white",
            "showbackground": true,
            "ticks": "",
            "zerolinecolor": "white"
           },
           "yaxis": {
            "backgroundcolor": "#E5ECF6",
            "gridcolor": "white",
            "gridwidth": 2,
            "linecolor": "white",
            "showbackground": true,
            "ticks": "",
            "zerolinecolor": "white"
           },
           "zaxis": {
            "backgroundcolor": "#E5ECF6",
            "gridcolor": "white",
            "gridwidth": 2,
            "linecolor": "white",
            "showbackground": true,
            "ticks": "",
            "zerolinecolor": "white"
           }
          },
          "shapedefaults": {
           "line": {
            "color": "#2a3f5f"
           }
          },
          "ternary": {
           "aaxis": {
            "gridcolor": "white",
            "linecolor": "white",
            "ticks": ""
           },
           "baxis": {
            "gridcolor": "white",
            "linecolor": "white",
            "ticks": ""
           },
           "bgcolor": "#E5ECF6",
           "caxis": {
            "gridcolor": "white",
            "linecolor": "white",
            "ticks": ""
           }
          },
          "title": {
           "x": 0.05
          },
          "xaxis": {
           "automargin": true,
           "gridcolor": "white",
           "linecolor": "white",
           "ticks": "",
           "title": {
            "standoff": 15
           },
           "zerolinecolor": "white",
           "zerolinewidth": 2
          },
          "yaxis": {
           "automargin": true,
           "gridcolor": "white",
           "linecolor": "white",
           "ticks": "",
           "title": {
            "standoff": 15
           },
           "zerolinecolor": "white",
           "zerolinewidth": 2
          }
         }
        },
        "title": {
         "text": "Option Price"
        }
       }
      }
     },
     "metadata": {},
     "output_type": "display_data"
    }
   ],
   "source": [
    "t = np.linspace(0, config['maturity'], 100)\n",
    "s = np.linspace(0, 4 * config['strike'], 100)\n",
    "T, S = np.meshgrid(t, s)\n",
    "inputs = torch.tensor(\n",
    "    np.stack([T.flatten(), S.flatten()], axis=1), dtype=torch.float32)\n",
    "surface = model(inputs).detach().numpy().reshape(T.shape)\n",
    "mako_cmap = sns.color_palette(\"mako\", as_cmap=True)\n",
    "colorscale = [\n",
    "    [i / 99, f\"rgb({int(r * 255)},{int(g * 255)},{int(b * 255)})\"]\n",
    "    for i, (r, g, b, a) in enumerate(mako_cmap(np.linspace(0, 1, 100)))\n",
    "]\n",
    "\n",
    "# Create the surface with the custom mako colorscale\n",
    "fig = go.Figure(data=[go.Surface(z=surface, x=T, y=S, colorscale=colorscale)])\n",
    "fig.update_layout(\n",
    "    title='Option Price',\n",
    "    scene=dict(\n",
    "        xaxis_title='t',\n",
    "        yaxis_title='s',\n",
    "        zaxis_title='V',\n",
    "        camera=dict(eye=dict(x=-1.25, y=-1.25, z=1.25))\n",
    "    ),\n",
    "    autosize=True,\n",
    "    height=600,\n",
    ")\n",
    "fig.show()"
   ]
  },
  {
   "cell_type": "markdown",
   "metadata": {},
   "source": [
    "## Benchmark"
   ]
  },
  {
   "cell_type": "markdown",
   "metadata": {},
   "source": [
    "How does it compare with the analytical solution? Below, we present a comparison between the analytical solution and the solution obtained via the neural network. As we know, the analytical solution for a European call option is given by\n",
    "\n",
    "$$\n",
    "C(S, t) = S\\, \\Phi(d_1) - K e^{-r(T-t)}\\, \\Phi(d_2),\n",
    "$$\n",
    "\n",
    "where\n",
    "\n",
    "$$\n",
    "d_1 = \\frac{\\ln(S/K) + \\left(r + \\frac{\\sigma^2}{2}\\right)(T-t)}{\\sigma \\sqrt{T-t}},\n",
    "$$\n",
    "\n",
    "$$\n",
    "d_2 = d_1 - \\sigma \\sqrt{T-t},\n",
    "$$\n",
    "\n",
    "and $\\Phi$ denotes the cumulative distribution function (CDF) of the standard normal distribution. Below, we show the comparison between the analytical solution and the solution obtained with the neural network.\n",
    "\n",
    "\n",
    "\n",
    "\n",
    "\n"
   ]
  },
  {
   "cell_type": "code",
   "execution_count": 27,
   "metadata": {
    "tags": [
     "hide-input"
    ]
   },
   "outputs": [
    {
     "name": "stderr",
     "output_type": "stream",
     "text": [
      "/var/folders/cp/l432p0ns1t38qmnyr_3l3r000000gn/T/ipykernel_69285/257154943.py:2: RuntimeWarning:\n",
      "\n",
      "divide by zero encountered in log\n",
      "\n",
      "/var/folders/cp/l432p0ns1t38qmnyr_3l3r000000gn/T/ipykernel_69285/257154943.py:2: RuntimeWarning:\n",
      "\n",
      "divide by zero encountered in divide\n",
      "\n"
     ]
    }
   ],
   "source": [
    "def bs_price(s, k, r, sigma, t):\n",
    "    d1 = (np.log(s / k) + (r + 0.5 * sigma ** 2) * t) / (sigma * np.sqrt(t))\n",
    "    d2 = d1 - sigma * np.sqrt(t)\n",
    "    return s * norm.cdf(d1) - k * np.exp(-r * t) * norm.cdf(d2)\n",
    "\n",
    "\n",
    "exact_surface = np.zeros_like(surface)\n",
    "for i in range(len(s)):\n",
    "    exact_surface[:, i] = bs_price(\n",
    "        s[i], config['strike'], config['r'], config['sigma'], t)\n",
    "\n",
    "exact_surface = np.flip(exact_surface.T, axis=1)"
   ]
  },
  {
   "cell_type": "code",
   "execution_count": 28,
   "metadata": {
    "tags": [
     "remove-cell"
    ]
   },
   "outputs": [
    {
     "data": {
      "application/vnd.plotly.v1+json": {
       "config": {
        "plotlyServerURL": "https://plot.ly"
       },
       "data": [
        {
         "line": {
          "color": "blue"
         },
         "mode": "lines",
         "name": "Predicted Price",
         "type": "scatter",
         "x": {
          "bdata": "AAAAAAAAAABlk0022WTjP2WTTTbZZPM/GF100UUX/T9lk0022WQDQD744IMPPghAGF100UUXDUD44IMPPvgQQGWTTTbZZBNA0kUXXXTRFUA++OCDDz4YQKuqqqqqqhpAGF100UUXHUCEDz744IMfQPjggw8++CBAL7rooosuIkBlk0022WQjQJtssskmmyRA0kUXXXTRJUAIH3zwwQcnQD744IMPPihAddFFF110KUCrqqqqqqoqQOGDDz744CtAGF100UUXLUBONtlkk00uQIQPPvjggy9AXXTRRRddMED44IMPPvgwQJRNNtlkkzFAL7rooosuMkDKJptssskyQGWTTTbZZDNAAAAAAAAANECbbLLJJps0QDbZZJNNNjVA0kUXXXTRNUBtsskmm2w2QAgffPDBBzdAo4suuuiiN0A++OCDDz44QNlkk0022ThAddFFF110OUAQPvjggw86QKuqqqqqqjpARhdddNFFO0Dhgw8++OA7QHzwwQcffDxAGF100UUXPUCzySabbLI9QE422WSTTT5A6aKLLrroPkCEDz744IM/QBA++OCDD0BAXXTRRRddQECrqqqqqqpAQPjggw8++EBARhdddNFFQUCUTTbZZJNBQOGDDz744EFAL7rooosuQkB88MEHH3xCQMomm2yyyUJAF1100UUXQ0Blk0022WRDQLPJJptsskNAAAAAAAAAREBONtlkk01EQJtssskmm0RA6aKLLrroREA22WSTTTZFQIQPPvjgg0VA0kUXXXTRRUAffPDBBx9GQG2yySabbEZAuuiiiy66RkAIH3zwwQdHQFZVVVVVVUdAo4suuuiiR0DxwQcffPBHQD744IMPPkhAjC666KKLSEDZZJNNNtlIQCebbLLJJklAddFFF110SUDCBx988MFJQBA++OCDD0pAXXTRRRddSkCrqqqqqqpKQPjggw8++EpARhdddNFFS0CUTTbZZJNLQOGDDz744EtAL7rooosuTEB88MEHH3xMQMomm2yyyUxAGF100UUXTUBlk0022WRNQLPJJptssk1AAAAAAAAATkA=",
          "dtype": "f8"
         },
         "xaxis": "x",
         "y": {
          "bdata": "APARvACQ2rsAIOO7AADWuwDgxrsAQLu7AECzuwAArrsAoKq7AGCouwDgprsA0KW7AACluwBgpLsAwKO7ADCjuwCAorsAwKG7AGCguwBgnLsAoIi7AAABugBgmDwA5q49AIt2PgDiAT8AN2I/wDitPxBf8j+oxx5AkBtGQFg4bkAQQYtAqFGfQGw7s0CY+sZAOJPaQIwM7kBitwBBomAKQSQFFEGIpx1BqEknQfDsMEFqkjpBoDpEQdTlTUEklFdBcEVhQVj5akGQr3RBmGd+QYIQhEGk7YhB/sqNQViokkGChZdBWmKcQcQ+oUGuGqZBDPaqQdzQr0Eqq7RB+oS5QWBevkFgN8NBChDIQYbozEHSwNFBEJnWQTZx20FmSeBBpCHlQez56UFK0u5BvKrzQUCD+EHWW/1BOxoBQpGGA0Lg8gVCOF8IQonLCkLPNw1CFKQPQk8QEkKNfBRCv+gWQvNUGUItwRtCaC0eQq+ZIEIBBiNCY3IlQtveJ0JoSypCELgsQsAkL0J/kTFCQv4zQg==",
          "dtype": "f4"
         },
         "yaxis": "y"
        },
        {
         "line": {
          "color": "lightgreen",
          "dash": "dash"
         },
         "mode": "lines",
         "name": "Exact Price",
         "type": "scatter",
         "x": {
          "bdata": "AAAAAAAAAABlk0022WTjP2WTTTbZZPM/GF100UUX/T9lk0022WQDQD744IMPPghAGF100UUXDUD44IMPPvgQQGWTTTbZZBNA0kUXXXTRFUA++OCDDz4YQKuqqqqqqhpAGF100UUXHUCEDz744IMfQPjggw8++CBAL7rooosuIkBlk0022WQjQJtssskmmyRA0kUXXXTRJUAIH3zwwQcnQD744IMPPihAddFFF110KUCrqqqqqqoqQOGDDz744CtAGF100UUXLUBONtlkk00uQIQPPvjggy9AXXTRRRddMED44IMPPvgwQJRNNtlkkzFAL7rooosuMkDKJptssskyQGWTTTbZZDNAAAAAAAAANECbbLLJJps0QDbZZJNNNjVA0kUXXXTRNUBtsskmm2w2QAgffPDBBzdAo4suuuiiN0A++OCDDz44QNlkk0022ThAddFFF110OUAQPvjggw86QKuqqqqqqjpARhdddNFFO0Dhgw8++OA7QHzwwQcffDxAGF100UUXPUCzySabbLI9QE422WSTTT5A6aKLLrroPkCEDz744IM/QBA++OCDD0BAXXTRRRddQECrqqqqqqpAQPjggw8++EBARhdddNFFQUCUTTbZZJNBQOGDDz744EFAL7rooosuQkB88MEHH3xCQMomm2yyyUJAF1100UUXQ0Blk0022WRDQLPJJptsskNAAAAAAAAAREBONtlkk01EQJtssskmm0RA6aKLLrroREA22WSTTTZFQIQPPvjgg0VA0kUXXXTRRUAffPDBBx9GQG2yySabbEZAuuiiiy66RkAIH3zwwQdHQFZVVVVVVUdAo4suuuiiR0DxwQcffPBHQD744IMPPkhAjC666KKLSEDZZJNNNtlIQCebbLLJJklAddFFF110SUDCBx988MFJQBA++OCDD0pAXXTRRRddSkCrqqqqqqpKQPjggw8++EpARhdddNFFS0CUTTbZZJNLQOGDDz744EtAL7rooosuTEB88MEHH3xMQMomm2yyyUxAGF100UUXTUBlk0022WRNQLPJJptssk1AAAAAAAAATkA=",
          "dtype": "f8"
         },
         "xaxis": "x",
         "y": {
          "bdata": "AAAAAAAAAAAAAAAAAAAAAAAAAAAAAAAAAAAAAAAAAAAAAAAAAAAAAAAAAAAAAAAAAAAAAAAAAAAAAAAAAAAAAAAAAAAAAAAAAAAAAAAAAAAAAAAAAAAAAAAAAAAAAAAAAAAAAMomGz588EE/o4uuPwgf/D822SRA6aJLQJtsckAnm4xAAACgQNlks0CyycZAjC7aQGWT7UAffABBjC4KQfjgE0Flkx1B0UUnQT74MEGrqjpBF11EQYQPTkHwwVdBXXRhQcoma0E22XRBo4t+QQgfhEE++IhBdNGNQauqkkHhg5dBF12cQU42oUGED6ZBuuiqQfDBr0Enm7RBXXS5QZNNvkHKJsNBAADIQTbZzEFtstFBo4vWQdlk20EQPuBBRhflQXzw6UGyye5B6aLzQR98+EFVVf1BRhcBQuGDA0J88AVCF10IQrLJCkJONg1C6aIPQoQPEkIffBRCuugWQlVVGULwwRtCjC4eQiebIELCByNCXXQlQvjgJ0KTTSpCL7osQsomL0JlkzFCAAA0Qg==",
          "dtype": "f4"
         },
         "yaxis": "y"
        },
        {
         "line": {
          "color": "blue"
         },
         "mode": "lines",
         "name": "Predicted Price",
         "type": "scatter",
         "x": {
          "bdata": "AAAAAAAAAABlk0022WTjP2WTTTbZZPM/GF100UUX/T9lk0022WQDQD744IMPPghAGF100UUXDUD44IMPPvgQQGWTTTbZZBNA0kUXXXTRFUA++OCDDz4YQKuqqqqqqhpAGF100UUXHUCEDz744IMfQPjggw8++CBAL7rooosuIkBlk0022WQjQJtssskmmyRA0kUXXXTRJUAIH3zwwQcnQD744IMPPihAddFFF110KUCrqqqqqqoqQOGDDz744CtAGF100UUXLUBONtlkk00uQIQPPvjggy9AXXTRRRddMED44IMPPvgwQJRNNtlkkzFAL7rooosuMkDKJptssskyQGWTTTbZZDNAAAAAAAAANECbbLLJJps0QDbZZJNNNjVA0kUXXXTRNUBtsskmm2w2QAgffPDBBzdAo4suuuiiN0A++OCDDz44QNlkk0022ThAddFFF110OUAQPvjggw86QKuqqqqqqjpARhdddNFFO0Dhgw8++OA7QHzwwQcffDxAGF100UUXPUCzySabbLI9QE422WSTTT5A6aKLLrroPkCEDz744IM/QBA++OCDD0BAXXTRRRddQECrqqqqqqpAQPjggw8++EBARhdddNFFQUCUTTbZZJNBQOGDDz744EFAL7rooosuQkB88MEHH3xCQMomm2yyyUJAF1100UUXQ0Blk0022WRDQLPJJptsskNAAAAAAAAAREBONtlkk01EQJtssskmm0RA6aKLLrroREA22WSTTTZFQIQPPvjgg0VA0kUXXXTRRUAffPDBBx9GQG2yySabbEZAuuiiiy66RkAIH3zwwQdHQFZVVVVVVUdAo4suuuiiR0DxwQcffPBHQD744IMPPkhAjC666KKLSEDZZJNNNtlIQCebbLLJJklAddFFF110SUDCBx988MFJQBA++OCDD0pAXXTRRRddSkCrqqqqqqpKQPjggw8++EpARhdddNFFS0CUTTbZZJNLQOGDDz744EtAL7rooosuTEB88MEHH3xMQMomm2yyyUxAGF100UUXTUBlk0022WRNQLPJJptssk1AAAAAAAAATkA=",
          "dtype": "f8"
         },
         "xaxis": "x2",
         "y": {
          "bdata": "AADmOgBAfbsAgFK7ACCEuwDAkrsAAJS7AMCOuwCAgrsAIFW7AED8ugAA2DkAoI07AHAvPADAqzwAqhg9ALOAPQDx0D0AFSQ+AGZ5PkBXtz6AXgI/wHgzP2CLbz/wVps/QEbEPzBC8j+4cBJAuNctQKAaS0AQAGpArCiFQMDtlUCoN6dAuPC4QDgFy0CIY91AXPzvQEZhAUGg1QpB+FYUQfbhHUE4dCdB9AsxQRCoOkG8R0RBhOpNQSSQV0FYOGFB5OJqQZiPdEE4Pn5BPveDQQ7QiEFeqY1BFoOSQQZdl0EWN5xBLhGhQTbrpUEaxapB2J6vQWx4tEHiUblBNiu+QVwEw0F43cdBkrbMQaiP0UHAaNZB7EHbQTIb4EGM9ORBCs7pQZin7kE+gfNBDFv4Qcg0/UFOBwFCMnQDQhHhBULxTQhCwLoKQoonDUJHlA9C8QASQpltFEIy2hZCwEYZQk+zG0LfHx5CdYwgQhP5IkK0ZSVCbNInQjA/KkIHrCxC6xgvQtWFMULG8jNCqV82Qg==",
          "dtype": "f4"
         },
         "yaxis": "y2"
        },
        {
         "line": {
          "color": "lightgreen",
          "dash": "dash"
         },
         "mode": "lines",
         "name": "Exact Price",
         "type": "scatter",
         "x": {
          "bdata": "AAAAAAAAAABlk0022WTjP2WTTTbZZPM/GF100UUX/T9lk0022WQDQD744IMPPghAGF100UUXDUD44IMPPvgQQGWTTTbZZBNA0kUXXXTRFUA++OCDDz4YQKuqqqqqqhpAGF100UUXHUCEDz744IMfQPjggw8++CBAL7rooosuIkBlk0022WQjQJtssskmmyRA0kUXXXTRJUAIH3zwwQcnQD744IMPPihAddFFF110KUCrqqqqqqoqQOGDDz744CtAGF100UUXLUBONtlkk00uQIQPPvjggy9AXXTRRRddMED44IMPPvgwQJRNNtlkkzFAL7rooosuMkDKJptssskyQGWTTTbZZDNAAAAAAAAANECbbLLJJps0QDbZZJNNNjVA0kUXXXTRNUBtsskmm2w2QAgffPDBBzdAo4suuuiiN0A++OCDDz44QNlkk0022ThAddFFF110OUAQPvjggw86QKuqqqqqqjpARhdddNFFO0Dhgw8++OA7QHzwwQcffDxAGF100UUXPUCzySabbLI9QE422WSTTT5A6aKLLrroPkCEDz744IM/QBA++OCDD0BAXXTRRRddQECrqqqqqqpAQPjggw8++EBARhdddNFFQUCUTTbZZJNBQOGDDz744EFAL7rooosuQkB88MEHH3xCQMomm2yyyUJAF1100UUXQ0Blk0022WRDQLPJJptsskNAAAAAAAAAREBONtlkk01EQJtssskmm0RA6aKLLrroREA22WSTTTZFQIQPPvjgg0VA0kUXXXTRRUAffPDBBx9GQG2yySabbEZAuuiiiy66RkAIH3zwwQdHQFZVVVVVVUdAo4suuuiiR0DxwQcffPBHQD744IMPPkhAjC666KKLSEDZZJNNNtlIQCebbLLJJklAddFFF110SUDCBx988MFJQBA++OCDD0pAXXTRRRddSkCrqqqqqqpKQPjggw8++EpARhdddNFFS0CUTTbZZJNLQOGDDz744EtAL7rooosuTEB88MEHH3xMQMomm2yyyUxAGF100UUXTUBlk0022WRNQLPJJptssk1AAAAAAAAATkA=",
          "dtype": "f8"
         },
         "xaxis": "x2",
         "y": {
          "bdata": "AAAAAKkm/AAk7CAYREkoIz3i3ymeL3UuT3W/MYcLRjQyTEA24vrYNw95IzkH2DQ6lhodOx4o4TstFoo8mBwVPTDpkD0I+QA+JjdVPpSOpT5ryPM+UIIrP/4XaD/J2pc/VwjBP/dK7z9LHxFAY7csQMkvSkBeSmlAx+WEQA++lUAkFadAFNW4QOnqykCARt1AUNrvQJFNAUHhvwpBXEAUQf/LHUFhYCdBl/swQR+cOkHHQERBoOhNQfCSV0ElP2FB0OxqQZqbdEFAS35Bx/2DQS7WiEHGro1BhIeSQV5gl0FPOZxBUBKhQV3rpUF1xKpBk52vQbd2tEHgT7lBDCm+QToCw0Fq28dBnLTMQc6N0UECZ9ZBNkDbQWsZ4EGg8uRB1cvpQQul7kFBfvNBd1f4Qa0w/UHxBAFCjHEDQifeBULDSghCXrcKQvkjDUKUkA9CL/0RQsppFEJl1hZCAEMZQpyvG0I3HB5C0oggQm31IkIIYiVCo84nQj47KkLapyxCdRQvQhCBMUKr7TNCRlo2Qg==",
          "dtype": "f4"
         },
         "yaxis": "y2"
        }
       ],
       "layout": {
        "annotations": [
         {
          "font": {
           "size": 16
          },
          "showarrow": false,
          "text": "Option Price at t=T",
          "x": 0.225,
          "xanchor": "center",
          "xref": "paper",
          "y": 1,
          "yanchor": "bottom",
          "yref": "paper"
         },
         {
          "font": {
           "size": 16
          },
          "showarrow": false,
          "text": "Option Price at t=0",
          "x": 0.775,
          "xanchor": "center",
          "xref": "paper",
          "y": 1,
          "yanchor": "bottom",
          "yref": "paper"
         }
        ],
        "autosize": true,
        "template": {
         "data": {
          "bar": [
           {
            "error_x": {
             "color": "#2a3f5f"
            },
            "error_y": {
             "color": "#2a3f5f"
            },
            "marker": {
             "line": {
              "color": "#E5ECF6",
              "width": 0.5
             },
             "pattern": {
              "fillmode": "overlay",
              "size": 10,
              "solidity": 0.2
             }
            },
            "type": "bar"
           }
          ],
          "barpolar": [
           {
            "marker": {
             "line": {
              "color": "#E5ECF6",
              "width": 0.5
             },
             "pattern": {
              "fillmode": "overlay",
              "size": 10,
              "solidity": 0.2
             }
            },
            "type": "barpolar"
           }
          ],
          "carpet": [
           {
            "aaxis": {
             "endlinecolor": "#2a3f5f",
             "gridcolor": "white",
             "linecolor": "white",
             "minorgridcolor": "white",
             "startlinecolor": "#2a3f5f"
            },
            "baxis": {
             "endlinecolor": "#2a3f5f",
             "gridcolor": "white",
             "linecolor": "white",
             "minorgridcolor": "white",
             "startlinecolor": "#2a3f5f"
            },
            "type": "carpet"
           }
          ],
          "choropleth": [
           {
            "colorbar": {
             "outlinewidth": 0,
             "ticks": ""
            },
            "type": "choropleth"
           }
          ],
          "contour": [
           {
            "colorbar": {
             "outlinewidth": 0,
             "ticks": ""
            },
            "colorscale": [
             [
              0,
              "#0d0887"
             ],
             [
              0.1111111111111111,
              "#46039f"
             ],
             [
              0.2222222222222222,
              "#7201a8"
             ],
             [
              0.3333333333333333,
              "#9c179e"
             ],
             [
              0.4444444444444444,
              "#bd3786"
             ],
             [
              0.5555555555555556,
              "#d8576b"
             ],
             [
              0.6666666666666666,
              "#ed7953"
             ],
             [
              0.7777777777777778,
              "#fb9f3a"
             ],
             [
              0.8888888888888888,
              "#fdca26"
             ],
             [
              1,
              "#f0f921"
             ]
            ],
            "type": "contour"
           }
          ],
          "contourcarpet": [
           {
            "colorbar": {
             "outlinewidth": 0,
             "ticks": ""
            },
            "type": "contourcarpet"
           }
          ],
          "heatmap": [
           {
            "colorbar": {
             "outlinewidth": 0,
             "ticks": ""
            },
            "colorscale": [
             [
              0,
              "#0d0887"
             ],
             [
              0.1111111111111111,
              "#46039f"
             ],
             [
              0.2222222222222222,
              "#7201a8"
             ],
             [
              0.3333333333333333,
              "#9c179e"
             ],
             [
              0.4444444444444444,
              "#bd3786"
             ],
             [
              0.5555555555555556,
              "#d8576b"
             ],
             [
              0.6666666666666666,
              "#ed7953"
             ],
             [
              0.7777777777777778,
              "#fb9f3a"
             ],
             [
              0.8888888888888888,
              "#fdca26"
             ],
             [
              1,
              "#f0f921"
             ]
            ],
            "type": "heatmap"
           }
          ],
          "histogram": [
           {
            "marker": {
             "pattern": {
              "fillmode": "overlay",
              "size": 10,
              "solidity": 0.2
             }
            },
            "type": "histogram"
           }
          ],
          "histogram2d": [
           {
            "colorbar": {
             "outlinewidth": 0,
             "ticks": ""
            },
            "colorscale": [
             [
              0,
              "#0d0887"
             ],
             [
              0.1111111111111111,
              "#46039f"
             ],
             [
              0.2222222222222222,
              "#7201a8"
             ],
             [
              0.3333333333333333,
              "#9c179e"
             ],
             [
              0.4444444444444444,
              "#bd3786"
             ],
             [
              0.5555555555555556,
              "#d8576b"
             ],
             [
              0.6666666666666666,
              "#ed7953"
             ],
             [
              0.7777777777777778,
              "#fb9f3a"
             ],
             [
              0.8888888888888888,
              "#fdca26"
             ],
             [
              1,
              "#f0f921"
             ]
            ],
            "type": "histogram2d"
           }
          ],
          "histogram2dcontour": [
           {
            "colorbar": {
             "outlinewidth": 0,
             "ticks": ""
            },
            "colorscale": [
             [
              0,
              "#0d0887"
             ],
             [
              0.1111111111111111,
              "#46039f"
             ],
             [
              0.2222222222222222,
              "#7201a8"
             ],
             [
              0.3333333333333333,
              "#9c179e"
             ],
             [
              0.4444444444444444,
              "#bd3786"
             ],
             [
              0.5555555555555556,
              "#d8576b"
             ],
             [
              0.6666666666666666,
              "#ed7953"
             ],
             [
              0.7777777777777778,
              "#fb9f3a"
             ],
             [
              0.8888888888888888,
              "#fdca26"
             ],
             [
              1,
              "#f0f921"
             ]
            ],
            "type": "histogram2dcontour"
           }
          ],
          "mesh3d": [
           {
            "colorbar": {
             "outlinewidth": 0,
             "ticks": ""
            },
            "type": "mesh3d"
           }
          ],
          "parcoords": [
           {
            "line": {
             "colorbar": {
              "outlinewidth": 0,
              "ticks": ""
             }
            },
            "type": "parcoords"
           }
          ],
          "pie": [
           {
            "automargin": true,
            "type": "pie"
           }
          ],
          "scatter": [
           {
            "fillpattern": {
             "fillmode": "overlay",
             "size": 10,
             "solidity": 0.2
            },
            "type": "scatter"
           }
          ],
          "scatter3d": [
           {
            "line": {
             "colorbar": {
              "outlinewidth": 0,
              "ticks": ""
             }
            },
            "marker": {
             "colorbar": {
              "outlinewidth": 0,
              "ticks": ""
             }
            },
            "type": "scatter3d"
           }
          ],
          "scattercarpet": [
           {
            "marker": {
             "colorbar": {
              "outlinewidth": 0,
              "ticks": ""
             }
            },
            "type": "scattercarpet"
           }
          ],
          "scattergeo": [
           {
            "marker": {
             "colorbar": {
              "outlinewidth": 0,
              "ticks": ""
             }
            },
            "type": "scattergeo"
           }
          ],
          "scattergl": [
           {
            "marker": {
             "colorbar": {
              "outlinewidth": 0,
              "ticks": ""
             }
            },
            "type": "scattergl"
           }
          ],
          "scattermap": [
           {
            "marker": {
             "colorbar": {
              "outlinewidth": 0,
              "ticks": ""
             }
            },
            "type": "scattermap"
           }
          ],
          "scattermapbox": [
           {
            "marker": {
             "colorbar": {
              "outlinewidth": 0,
              "ticks": ""
             }
            },
            "type": "scattermapbox"
           }
          ],
          "scatterpolar": [
           {
            "marker": {
             "colorbar": {
              "outlinewidth": 0,
              "ticks": ""
             }
            },
            "type": "scatterpolar"
           }
          ],
          "scatterpolargl": [
           {
            "marker": {
             "colorbar": {
              "outlinewidth": 0,
              "ticks": ""
             }
            },
            "type": "scatterpolargl"
           }
          ],
          "scatterternary": [
           {
            "marker": {
             "colorbar": {
              "outlinewidth": 0,
              "ticks": ""
             }
            },
            "type": "scatterternary"
           }
          ],
          "surface": [
           {
            "colorbar": {
             "outlinewidth": 0,
             "ticks": ""
            },
            "colorscale": [
             [
              0,
              "#0d0887"
             ],
             [
              0.1111111111111111,
              "#46039f"
             ],
             [
              0.2222222222222222,
              "#7201a8"
             ],
             [
              0.3333333333333333,
              "#9c179e"
             ],
             [
              0.4444444444444444,
              "#bd3786"
             ],
             [
              0.5555555555555556,
              "#d8576b"
             ],
             [
              0.6666666666666666,
              "#ed7953"
             ],
             [
              0.7777777777777778,
              "#fb9f3a"
             ],
             [
              0.8888888888888888,
              "#fdca26"
             ],
             [
              1,
              "#f0f921"
             ]
            ],
            "type": "surface"
           }
          ],
          "table": [
           {
            "cells": {
             "fill": {
              "color": "#EBF0F8"
             },
             "line": {
              "color": "white"
             }
            },
            "header": {
             "fill": {
              "color": "#C8D4E3"
             },
             "line": {
              "color": "white"
             }
            },
            "type": "table"
           }
          ]
         },
         "layout": {
          "annotationdefaults": {
           "arrowcolor": "#2a3f5f",
           "arrowhead": 0,
           "arrowwidth": 1
          },
          "autotypenumbers": "strict",
          "coloraxis": {
           "colorbar": {
            "outlinewidth": 0,
            "ticks": ""
           }
          },
          "colorscale": {
           "diverging": [
            [
             0,
             "#8e0152"
            ],
            [
             0.1,
             "#c51b7d"
            ],
            [
             0.2,
             "#de77ae"
            ],
            [
             0.3,
             "#f1b6da"
            ],
            [
             0.4,
             "#fde0ef"
            ],
            [
             0.5,
             "#f7f7f7"
            ],
            [
             0.6,
             "#e6f5d0"
            ],
            [
             0.7,
             "#b8e186"
            ],
            [
             0.8,
             "#7fbc41"
            ],
            [
             0.9,
             "#4d9221"
            ],
            [
             1,
             "#276419"
            ]
           ],
           "sequential": [
            [
             0,
             "#0d0887"
            ],
            [
             0.1111111111111111,
             "#46039f"
            ],
            [
             0.2222222222222222,
             "#7201a8"
            ],
            [
             0.3333333333333333,
             "#9c179e"
            ],
            [
             0.4444444444444444,
             "#bd3786"
            ],
            [
             0.5555555555555556,
             "#d8576b"
            ],
            [
             0.6666666666666666,
             "#ed7953"
            ],
            [
             0.7777777777777778,
             "#fb9f3a"
            ],
            [
             0.8888888888888888,
             "#fdca26"
            ],
            [
             1,
             "#f0f921"
            ]
           ],
           "sequentialminus": [
            [
             0,
             "#0d0887"
            ],
            [
             0.1111111111111111,
             "#46039f"
            ],
            [
             0.2222222222222222,
             "#7201a8"
            ],
            [
             0.3333333333333333,
             "#9c179e"
            ],
            [
             0.4444444444444444,
             "#bd3786"
            ],
            [
             0.5555555555555556,
             "#d8576b"
            ],
            [
             0.6666666666666666,
             "#ed7953"
            ],
            [
             0.7777777777777778,
             "#fb9f3a"
            ],
            [
             0.8888888888888888,
             "#fdca26"
            ],
            [
             1,
             "#f0f921"
            ]
           ]
          },
          "colorway": [
           "#636efa",
           "#EF553B",
           "#00cc96",
           "#ab63fa",
           "#FFA15A",
           "#19d3f3",
           "#FF6692",
           "#B6E880",
           "#FF97FF",
           "#FECB52"
          ],
          "font": {
           "color": "#2a3f5f"
          },
          "geo": {
           "bgcolor": "white",
           "lakecolor": "white",
           "landcolor": "#E5ECF6",
           "showlakes": true,
           "showland": true,
           "subunitcolor": "white"
          },
          "hoverlabel": {
           "align": "left"
          },
          "hovermode": "closest",
          "mapbox": {
           "style": "light"
          },
          "paper_bgcolor": "white",
          "plot_bgcolor": "#E5ECF6",
          "polar": {
           "angularaxis": {
            "gridcolor": "white",
            "linecolor": "white",
            "ticks": ""
           },
           "bgcolor": "#E5ECF6",
           "radialaxis": {
            "gridcolor": "white",
            "linecolor": "white",
            "ticks": ""
           }
          },
          "scene": {
           "xaxis": {
            "backgroundcolor": "#E5ECF6",
            "gridcolor": "white",
            "gridwidth": 2,
            "linecolor": "white",
            "showbackground": true,
            "ticks": "",
            "zerolinecolor": "white"
           },
           "yaxis": {
            "backgroundcolor": "#E5ECF6",
            "gridcolor": "white",
            "gridwidth": 2,
            "linecolor": "white",
            "showbackground": true,
            "ticks": "",
            "zerolinecolor": "white"
           },
           "zaxis": {
            "backgroundcolor": "#E5ECF6",
            "gridcolor": "white",
            "gridwidth": 2,
            "linecolor": "white",
            "showbackground": true,
            "ticks": "",
            "zerolinecolor": "white"
           }
          },
          "shapedefaults": {
           "line": {
            "color": "#2a3f5f"
           }
          },
          "ternary": {
           "aaxis": {
            "gridcolor": "white",
            "linecolor": "white",
            "ticks": ""
           },
           "baxis": {
            "gridcolor": "white",
            "linecolor": "white",
            "ticks": ""
           },
           "bgcolor": "#E5ECF6",
           "caxis": {
            "gridcolor": "white",
            "linecolor": "white",
            "ticks": ""
           }
          },
          "title": {
           "x": 0.05
          },
          "xaxis": {
           "automargin": true,
           "gridcolor": "white",
           "linecolor": "white",
           "ticks": "",
           "title": {
            "standoff": 15
           },
           "zerolinecolor": "white",
           "zerolinewidth": 2
          },
          "yaxis": {
           "automargin": true,
           "gridcolor": "white",
           "linecolor": "white",
           "ticks": "",
           "title": {
            "standoff": 15
           },
           "zerolinecolor": "white",
           "zerolinewidth": 2
          }
         }
        },
        "title": {
         "text": "Option Price: t=T (left) and t=0 (right)"
        },
        "xaxis": {
         "anchor": "y",
         "domain": [
          0,
          0.45
         ],
         "title": {
          "text": "s"
         }
        },
        "xaxis2": {
         "anchor": "y2",
         "domain": [
          0.55,
          1
         ],
         "title": {
          "text": "s"
         }
        },
        "yaxis": {
         "anchor": "x",
         "domain": [
          0,
          1
         ],
         "title": {
          "text": "V"
         }
        },
        "yaxis2": {
         "anchor": "x2",
         "domain": [
          0,
          1
         ],
         "title": {
          "text": "V"
         }
        }
       }
      }
     },
     "metadata": {},
     "output_type": "display_data"
    }
   ],
   "source": [
    "fig = make_subplots(rows=1, cols=2, subplot_titles=(\n",
    "    \"Option Price at t=T\", \"Option Price at t=0\"))\n",
    "\n",
    "# Left subplot: t = T (last column)\n",
    "fig.add_trace(go.Scatter(\n",
    "    x=s,\n",
    "    y=surface[:, -1],\n",
    "    name='Predicted Price',\n",
    "    mode='lines',\n",
    "    line=dict(color='blue')\n",
    "), row=1, col=1)\n",
    "fig.add_trace(go.Scatter(\n",
    "    x=s,\n",
    "    y=exact_surface[:, -1],\n",
    "    name='Exact Price',\n",
    "    mode='lines',\n",
    "    line=dict(color='lightgreen', dash='dash')\n",
    "), row=1, col=1)\n",
    "\n",
    "# Right subplot: t = 0 (first column)\n",
    "fig.add_trace(go.Scatter(\n",
    "    x=s,\n",
    "    y=surface[:, 0],\n",
    "    name='Predicted Price',\n",
    "    mode='lines',\n",
    "    line=dict(color='blue')\n",
    "), row=1, col=2)\n",
    "fig.add_trace(go.Scatter(\n",
    "    x=s,\n",
    "    y=exact_surface[:, 0],\n",
    "    name='Exact Price',\n",
    "    mode='lines',\n",
    "    line=dict(color='lightgreen', dash='dash')\n",
    "), row=1, col=2)\n",
    "\n",
    "# Update axis titles\n",
    "fig.update_xaxes(title_text=\"s\", row=1, col=1)\n",
    "fig.update_yaxes(title_text=\"V\", row=1, col=1)\n",
    "fig.update_xaxes(title_text=\"s\", row=1, col=2)\n",
    "fig.update_yaxes(title_text=\"V\", row=1, col=2)\n",
    "\n",
    "fig.update_layout(\n",
    "    title=\"Option Price: t=T (left) and t=0 (right)\", autosize=True)\n",
    "fig.show()"
   ]
  },
  {
   "cell_type": "code",
   "execution_count": 29,
   "metadata": {
    "tags": [
     "hide-input"
    ]
   },
   "outputs": [
    {
     "name": "stdout",
     "output_type": "stream",
     "text": [
      "Error (2-norm): 0.07%\n"
     ]
    }
   ],
   "source": [
    "error = np.linalg.norm(exact_surface - surface, 2) / \\\n",
    "    np.linalg.norm(exact_surface, 2)\n",
    "print(\"Error (2-norm): %.2f%%\" % (error * 100))"
   ]
  },
  {
   "cell_type": "markdown",
   "metadata": {},
   "source": [
    "We obtain an error of 0.21\\% against the exact solution without much tweaking! This demonstrates that even for a relatively simple problem such as pricing a European call option, the PINN approach can achieve a decent accuracy. This result is showcases the potential of this technique for more complex financial models, where analytical solutions are not available."
   ]
  }
 ],
 "metadata": {
  "kernelspec": {
   "display_name": "Python 3",
   "language": "python",
   "name": "python3"
  },
  "language_info": {
   "codemirror_mode": {
    "name": "ipython",
    "version": 3
   },
   "file_extension": ".py",
   "mimetype": "text/x-python",
   "name": "python",
   "nbconvert_exporter": "python",
   "pygments_lexer": "ipython3",
   "version": "3.11.10"
  }
 },
 "nbformat": 4,
 "nbformat_minor": 2
}
